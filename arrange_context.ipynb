{
 "cells": [
  {
   "cell_type": "code",
   "execution_count": 1,
   "metadata": {},
   "outputs": [
    {
     "name": "stdout",
     "output_type": "stream",
     "text": [
      "Started parsing the file under job_id 80d4dd4c-27ec-46a9-afa9-e12b42e2b752\n",
      "Started parsing the file under job_id 52d99f30-e406-41ce-b47f-123ad9ad9301\n",
      "."
     ]
    }
   ],
   "source": [
    "from llama_index.core.node_parser import SentenceSplitter\n",
    "from llama_index.core import SimpleDirectoryReader\n",
    "from llama_parse import LlamaParse\n",
    "from llama_index.core.node_parser import MarkdownElementNodeParser, MarkdownNodeParser\n",
    "from llama_index.llms.openai import OpenAI\n",
    "import nest_asyncio\n",
    "import os\n",
    "\n",
    "import re\n",
    "\n",
    "nest_asyncio.apply()\n",
    "#node_parser = SentenceSplitter(chunk_size=600, chunk_overlap=0)\n",
    "llm = OpenAI(model=\"gpt-4o\", api_key=os.environ.get(\"OPENAI_API_KEY\", \"\"))\n",
    "\n",
    "prompt = f\"\"\"Your task is to filter out texts from the given research paper by following the five Instruction_guidelines.\n",
    "        \\nInstruction_guidelines: \n",
    "            1. Remove only the texts related to references, acknowledgement and other dates and conference names that are useless to a reader.\n",
    "            2. Remove the details on authors and their contacts too.\n",
    "            3. DO NOT remove any other text. Keep them intact as they appear in the original format.\n",
    "            4. Replace all the pictures in the research paper with their correct textual explanations pertaining to their surrounding context.\n",
    "            5. Output any mathematical notation or special character in LATEX markdown (between $$)\"\"\"\n",
    "\n",
    "parser = LlamaParse(result_type=\"markdown\", \n",
    "                    api_key=\"\",\n",
    "                    \n",
    "                    parsing_instruction=prompt)  # \"markdown\" and \"text\" are available\n",
    "\n",
    "# use SimpleDirectoryReader to parse our file\n",
    "pdf_extractor = {\".pdf\": parser}\n",
    "#rec_splitter = RecursiveCharacterTextSplitter(chunk_size=500, chunk_overlap=0)\n",
    "\n",
    "doc_pages = await SimpleDirectoryReader(input_dir=\"/home/ritwik-gosh/Fine_tuning/data\", file_extractor=pdf_extractor, exclude=[\"Multi-Objective-Process.pdf\"]).aload_data()   #-> List[llama_index.core.schema.Document]\n",
    "#print(doc[1].page_content)\n"
   ]
  },
  {
   "cell_type": "markdown",
   "metadata": {},
   "source": [
    "**Parsing Markdown into CSV with additional filtrations**"
   ]
  },
  {
   "cell_type": "code",
   "execution_count": 2,
   "metadata": {},
   "outputs": [
    {
     "name": "stderr",
     "output_type": "stream",
     "text": [
      "1it [00:00, 26379.27it/s]\n",
      "100%|██████████| 1/1 [00:09<00:00,  9.94s/it]\n",
      "4it [00:00, 72005.22it/s]\n",
      "100%|██████████| 4/4 [00:04<00:00,  1.06s/it]\n"
     ]
    }
   ],
   "source": [
    "\n",
    "md_node_parser = MarkdownElementNodeParser(llm=llm, num_workers=2, show_progress=True)  #also separates tables as object elements\n",
    "md_parser = MarkdownNodeParser(llm=llm) #splits simply based on markdown headers\n",
    "md_nodes = md_parser.get_nodes_from_documents(documents=doc_pages)  # List[7 nodes]\n",
    "#md_base_nodes = md_parser.get_nodes_from_node(node=md_nodes)\n",
    "\n",
    "md_elem_nodes = md_node_parser.get_nodes_from_documents(documents=doc_pages)   #List[Nodes and objects]     #5\n",
    "base_nodes, objects = md_node_parser.get_nodes_and_objects(md_elem_nodes)   # List[nodes],  List[table_remarks]   #3, 1\n",
    "\n",
    "#rec_chunks=[]"
   ]
  },
  {
   "cell_type": "code",
   "execution_count": 24,
   "metadata": {},
   "outputs": [],
   "source": [
    "'''cleansed_file = \"/home/ritwik-gosh/Fine_tuning/data/Markdown/llamaparsed.md\"\n",
    "with open(cleansed_file, 'w') as file:\n",
    "    cleansed_text_file = file.write(doc_pages[0].text)'''\n",
    "import pandas as pd\n",
    "\n",
    "df[\"Context\"] = pd.DataFrame([itm.text for _, itm in enumerate(md_nodes)])\n",
    "# List of words to remove\n",
    "words_to_remove = ['Acknowledgement', 'Acknowledgment']\n",
    "\n",
    "# Regex pattern from the list\n",
    "pattern = '|'.join(words_to_remove)\n",
    "filtered_contexts = df[~df[\"Context\"].str.contains(pattern, case=True, na=False)]   #ignores all rows with word 'Acknowledgement'\n",
    "#final_contexts = filtered_contexts[filtered_contexts[\"Context\"].str.len() >= 100]\n",
    "\n",
    "# Rows with <250 characters are merged with the following row until the limit finally reaches 250\n",
    "merged_rows = []\n",
    "i=0\n",
    "while i < len(filtered_contexts):\n",
    "    current_row = filtered_contexts.iloc[i]['Context']\n",
    "    \n",
    "    # Continue merging with the next rows until the length of current_row is >= 100 or no more rows to merge\n",
    "    while len(current_row) < 250 and i + 1 < len(filtered_contexts):\n",
    "        next_row = filtered_contexts.iloc[i + 1]['Context']\n",
    "        current_row += '\\n\\n' + next_row\n",
    "        i += 1  # Move to the next row that has been merged\n",
    "\n",
    "    merged_rows.append(current_row)\n",
    "    i += 1  # Move to the next row\n",
    "if len(merged_rows[-1]) < 200:\n",
    "    merged_rows[-2] = merged_rows[-2] + '\\n\\n' + merged_rows[-1]\n",
    "    merged_rows.pop()\n",
    "\n",
    "df_merged = pd.DataFrame(merged_rows, columns=['Context'])\n",
    "\n",
    "context_path = \"/home/ritwik-gosh/Fine_tuning/data/Markdown/filtered_contexts.csv\"\n",
    "df_merged.to_csv(context_path, index=False)"
   ]
  },
  {
   "cell_type": "markdown",
   "metadata": {},
   "source": [
    "**Additional text cleansing --> not needed if Llamaparse_instruction is used**"
   ]
  },
  {
   "cell_type": "code",
   "execution_count": 6,
   "metadata": {},
   "outputs": [],
   "source": [
    "'''from openai import OpenAI\n",
    "import markdown\n",
    "import os\n",
    "\n",
    "markdown_file = \"/home/ritwik-gosh/Fine_tuning/data/Markdown/context.md\"\n",
    "with open(markdown_file, 'r') as file:\n",
    "    md_text_file = file.read()\n",
    "    #paper = markdown.markdown(md_text_file)\n",
    "\n",
    "prompt = f\"\"\"Your task is to filter out texts from the given research paper according to the Instruction_guidelines.\n",
    "        Paper:\n",
    "                {md_text_file}\n",
    "        \\n\\n\\nInstruction_guidelines: \n",
    "                Remove only the texts related to references, acknowledgement and other dates and conference names that are useless to a reader.\n",
    "                Remove the details on authors and their contacts too.\n",
    "                DO NOT remove any other text. Keep them intact as they appear in the original format.\n",
    "                \n",
    "                Retrieve the relevant details from the pictures in the paper and convert them into short textual explanations.\n",
    "                You MUST preserve the exact mathematical as well as special characer notations that are present in the paper.\"\"\"\n",
    "client = OpenAI(api_key=os.environ.get(\"OPENAI_API_KEY\", \"\"))\n",
    "response = client.chat.completions.create(\n",
    "model=\"gpt-4o\",\n",
    "temperature = 0.2,\n",
    "messages=[{\"role\": \"system\", \"content\": prompt}],\n",
    "#stream=True,\n",
    "#stream_options={\"include_usage\": True},\n",
    ")\n",
    "cleansed_text = response.choices[0].message.content \n",
    "\n",
    "\n",
    "cleansed_file = \"/home/ritwik-gosh/Fine_tuning/data/Markdown/cleansed_context.md\"\n",
    "with open(cleansed_file, 'w') as file:\n",
    "    cleansed_text_file = file.write(cleansed_text)\n",
    "    #cleansed_paper = markdown.markdown(cleansed_text)\n",
    "\n",
    "print(cleansed_text)\n",
    "\n",
    "\n",
    "\n",
    "#CHUNKING\n",
    "import pandas as pd\n",
    "\n",
    "print(f'len of chunks: {len(chunks)}')\n",
    "print()\n",
    "chunk_list = []\n",
    "start_idx = 1\n",
    "end_idx = 70\n",
    "for i, context in enumerate(chunks[start_idx:end_idx], start_idx):\n",
    "    if i == end_idx:\n",
    "        break\n",
    "    chunk_dict = {\"Context\": context.text}\n",
    "    chunk_list.append(chunk_dict)\n",
    "    print(f\"\\n****************************** CHUNK: {i} **************************************\\n\")\n",
    "    print(chunks[i].text)\n",
    "\n",
    "#df = pd.DataFrame(chunk_list)\n",
    "'''"
   ]
  },
  {
   "cell_type": "markdown",
   "metadata": {},
   "source": [
    "**Identifying main Findings of the paper**"
   ]
  },
  {
   "cell_type": "code",
   "execution_count": 72,
   "metadata": {},
   "outputs": [
    {
     "name": "stderr",
     "output_type": "stream",
     "text": [
      "HTTP Request: POST https://api.openai.com/v1/chat/completions \"HTTP/1.1 200 OK\"\n"
     ]
    },
    {
     "name": "stdout",
     "output_type": "stream",
     "text": [
      "\n",
      "💰💰💰💰 Token Usage:  CompletionUsage(completion_tokens=331, prompt_tokens=2753, total_tokens=3084, completion_tokens_details=CompletionTokensDetails(reasoning_tokens=0))\n",
      "\n",
      "{'1': 'Bump height significantly affects the interface between the bumps and the pads, with higher bump heights resulting in higher strain at the interface.', '2': 'There is practically no effect of bump height on the strain variation in the bumps and in the pads.', '3': 'The maximum strain is located in the adhesive layer, particularly at the outermost joints.', '4': 'Shear strain is very high in the adhesive area and the PCB substrate, but very small in the pad and the bump.', '5': 'The strain distribution in the joint is not symmetric, with higher strain values at the outermost joints compared to inner joints.', '6': 'The effect of bump height is significant for the stress and strain distributions in the y and shear directions, but not in the bumps and pads.', '7': 'The strain is highest for the outermost joint, with dominant strain in the normal direction.', '8': 'The effect of bump height on ACA joints is different from solder joints; higher bump heights do not necessarily improve reliability in ACA joints.', '9': 'Excessively high bump heights (e.g., 70 μm) can induce poor reliability due to the potential for a porous structure in the ACA layers.', '10': 'Both measurements and simulations indicate that the strain at the outermost joint and the normal strain are in the same order of magnitude.', '11': 'Further work is necessary to include the effects of particle size, particle distributions, and the planarity of the substrate, bumps, and pads on strain and stress variations.'}\n"
     ]
    }
   ],
   "source": [
    "from langchain_openai import ChatOpenAI\n",
    "from langchain_core.prompts import ChatPromptTemplate\n",
    "from json_utils import parse_json_response\n",
    "from text_generation import EvolutionaryTextGenerator\n",
    "from typing import Dict, Any\n",
    "import os\n",
    "\n",
    "\n",
    "gpt = ChatOpenAI(model=\"gpt-4o\",\n",
    "    temperature=0.1,\n",
    "    max_tokens=None,\n",
    "    timeout=None,\n",
    "    max_retries=2,\n",
    "    api_key=\"\")\n",
    "\n",
    "def list_findings(research: str) -> Dict[str, Any]:\n",
    "    PROMPT = ChatPromptTemplate.from_messages(\n",
    "        [  \n",
    "        (\"system\",\n",
    "            \"\"\"You are given a research papers on Surface Mount Technology manufacturing. \n",
    "                Understand the paper thoroughly, and then list all the findings from the paper that form the crux of this particular research work.\n",
    "\n",
    "                \"Provide your response as a JSON object where the keys are the sequential indices and their values are the respective findings from the paper.\"\n",
    "                \"Only provide the JSON object with no additional explanation or text.\" \n",
    "\n",
    "               Example: \n",
    "                    Input:\n",
    "                         [Research Paper]\n",
    "                            \n",
    "                    Output: \n",
    "                         {\"1\": <your finding here>,\\n\"2\":<your finding here>}\n",
    "                    \"\"\",\n",
    "        ),\n",
    "        (\"user\", \"Find at least 3 and maximum 10 crucial findings from this research paper:\\n{paper}\"),\n",
    "        ]\n",
    "        )\n",
    "    runnable = PROMPT | gpt\n",
    "\n",
    "    all_findings = runnable.invoke({\n",
    "        \"paper\": research}).content\n",
    "    return parse_json_response(all_findings)\n",
    "\n",
    "markdown_paper = \"/home/ritwik-gosh/Fine_tuning/data/Markdown/llamaparsed.md\"\n",
    "with open(markdown_paper, 'r') as file:\n",
    "    paper_text = file.read()\n",
    "\n",
    "pr = f\"\"\"You are given a research papers on Surface Mount Technology manufacturing. \n",
    "        Understand the paper thoroughly, and then list all the findings from the paper that form the crux of this particular research.\n",
    "        Also, list all the important properties and experiments performed in the paper along with their obtained results.\n",
    "        Find at least 3 and maximum 15 such findings from this research paper.\n",
    "\n",
    "        Research Paper:\n",
    "                    {paper_text}\n",
    "\n",
    "        \n",
    "        Output format instructions:\n",
    "                \"Provide your response as a JSON object where the keys are the sequential indices and their values are the respective findings from the paper.\"\n",
    "                \"Only provide the JSON object with no additional explanation or text.\" \n",
    "      \"\"\"\n",
    "pr += \"\"\"\n",
    "        Example: \n",
    "            Input:\n",
    "                    [Research Paper]\n",
    "                    \n",
    "            Output: \n",
    "                    {\n",
    "                    \"1\": <your finding here>,\\n\"2\":<your finding here>\n",
    "                    }\n",
    "        \"\"\"\n",
    "\n",
    "def openai_generate(sys_prompt : str, temperature):\n",
    "    client = OpenAI(api_key=os.environ.get(\"OPENAI_API_KEY\", \"\"))\n",
    "    response = client.chat.completions.create(\n",
    "    model=\"gpt-4o\",\n",
    "    temperature = temperature,\n",
    "    messages=[{\"role\": \"system\", \"content\": sys_prompt}],\n",
    "    #stream=True\n",
    "    )\n",
    "    print(f\"\\n💰💰💰💰 Token Usage:  {response.usage}\\n\")\n",
    "\n",
    "    return response.choices[0].message.content\n",
    "\n",
    "findings = parse_json_response(openai_generate(pr, 0.1))\n",
    "\n",
    "import json\n",
    "\n",
    "paper_findings = \"/home/ritwik-gosh/Fine_tuning/data/Markdown/new_findings.json\"\n",
    "with open(paper_findings, 'w') as json_file:\n",
    "    json.dump(findings, json_file, indent=4)\n",
    "#findings = list_findings(paper_text)\n",
    "print(findings)\n"
   ]
  },
  {
   "cell_type": "code",
   "execution_count": 73,
   "metadata": {},
   "outputs": [
    {
     "name": "stdout",
     "output_type": "stream",
     "text": [
      "['Bump height significantly affects the interface between the bumps and the pads, with higher bump heights resulting in higher strain at the interface.', 'There is practically no effect of bump height on the strain variation in the bumps and in the pads.', 'The maximum strain is located in the adhesive layer, particularly at the outermost joints.', 'Shear strain is very high in the adhesive area and the PCB substrate, but very small in the pad and the bump.', 'The strain distribution in the joint is not symmetric, with higher strain values at the outermost joints compared to inner joints.', 'The effect of bump height is significant for the stress and strain distributions in the y and shear directions, but not in the bumps and pads.', 'The strain is highest for the outermost joint, with dominant strain in the normal direction.', 'The effect of bump height on ACA joints is different from solder joints; higher bump heights do not necessarily improve reliability in ACA joints.', 'Excessively high bump heights (e.g., 70 μm) can induce poor reliability due to the potential for a porous structure in the ACA layers.', 'Both measurements and simulations indicate that the strain at the outermost joint and the normal strain are in the same order of magnitude.', 'Further work is necessary to include the effects of particle size, particle distributions, and the planarity of the substrate, bumps, and pads on strain and stress variations.']\n"
     ]
    },
    {
     "data": {
      "text/plain": [
       "'import json\\n\\npaper_findings = \"/home/ritwik-gosh/Fine_tuning/data/Markdown/findings.json\"\\nwith open(paper_findings, \\'w\\') as json_file:\\n    json.dump(findings, json_file, indent=4)'"
      ]
     },
     "execution_count": 73,
     "metadata": {},
     "output_type": "execute_result"
    }
   ],
   "source": [
    "import pandas as pd\n",
    "findings_list = list(findings.values())\n",
    "print(findings_list)\n",
    "'''import json\n",
    "\n",
    "paper_findings = \"/home/ritwik-gosh/Fine_tuning/data/Markdown/findings.json\"\n",
    "with open(paper_findings, 'w') as json_file:\n",
    "    json.dump(findings, json_file, indent=4)'''"
   ]
  },
  {
   "cell_type": "code",
   "execution_count": 74,
   "metadata": {},
   "outputs": [
    {
     "name": "stdout",
     "output_type": "stream",
     "text": [
      "\"{'1': 'Bump height significantly affects the interface between the bumps and the pads, with higher bump heights resulting in higher strain at the interface.', '2': 'There is practically no effect of bump height on the strain variation in the bumps and in the pads.', '3': 'The maximum strain is located in the adhesive layer, particularly at the outermost joints.', '4': 'Shear strain is very high in the adhesive area and in the PCB substrate but very small in the pad and bump.', '5': 'The strain distribution in the joint is not symmetric, with higher strain values at the outermost joints.', '6': 'The effect of bump height is significant for stress and strain distributions in the y and shear directions but not in the bumps and pads.', '7': 'The strain at the outermost joint and the normal strain are in the same order of magnitude.', '8': 'Excessively high bump heights (e.g., 70 \\u03bcm) can induce poor reliability due to the potential for a porous structure in the ACA layers.', '9': 'The strain measurements using MicroDAC show that strain increases toward the polymer substrate.', '10': 'The effect of bump height on ACA joints is different from that on solder joints; higher bump heights do not necessarily improve fatigue life in ACA joints.', '11': 'Further work is necessary to include the effects of particle size, particle distributions, and the planarity of the substrate, bumps, and pads on strain and stress variations.'}\"\n"
     ]
    }
   ],
   "source": [
    "import json\n",
    "file_path = \"/home/ritwik-gosh/Fine_tuning/data/Markdown/findings.json\"\n",
    "with open(file_path, 'r') as file:\n",
    "    data = json.load(file)\n",
    "json_string = json.dumps(str(data))\n",
    "print(json_string)\n",
    "\n"
   ]
  },
  {
   "cell_type": "code",
   "execution_count": 75,
   "metadata": {},
   "outputs": [
    {
     "name": "stderr",
     "output_type": "stream",
     "text": [
      "HTTP Request: POST https://api.openai.com/v1/chat/completions \"HTTP/1.1 200 OK\"\n"
     ]
    },
    {
     "name": "stdout",
     "output_type": "stream",
     "text": [
      "\n",
      "💰💰💰💰 Token Usage:  CompletionUsage(completion_tokens=705, prompt_tokens=3084, total_tokens=3789, completion_tokens_details=CompletionTokensDetails(reasoning_tokens=0))\n",
      "\n",
      "{\n",
      "    \"1\": \"The effect of bump height can be seen in the strain changes in the interface between the bumps and the pads. The volume fraction covered by high strain value (shown by black contours) is more for higher bump. The effect is significant for the stress and the strain distributions in the y and in the shear directions. The effect of the bump height could not be found in the bumps and in the pads.\",\n",
      "    \"2\": \"There is practically no effect of the bump height on the strain changes in the silicon and the pads.\",\n",
      "    \"3\": \"The strain distribution in the joint is not symmetric and the maximum strain $$\\varepsilon_{xx}$$ is located in the adhesive layer. The value of the strain for the outmost joints at A is higher than the strain located at B (A and B are shown in Fig. 5).\",\n",
      "    \"4\": \"Shear strain $$\\varepsilon_{xy}$$ is very high (more than 0.02) in the adhesive area and in the PCB substrate and is very small (less than 0.001) in the pad and in the bump.\",\n",
      "    \"5\": \"The strain distribution in the joint is not symmetric and the maximum strain $$\\varepsilon_{xx}$$ is located in the adhesive layer. The value of the strain for the outmost joints at A is higher than the strain located at B (A and B are shown in Fig. 5).\",\n",
      "    \"6\": \"The effect of bump height can be seen in the strain changes in the interface between the bumps and the pads. The volume fraction covered by high strain value (shown by black contours) is more for higher bump. The effect is significant for the stress and the strain distributions in the y and in the shear directions. The effect of the bump height could not be found in the bumps and in the pads.\",\n",
      "    \"7\": \"Both measurement and simulation indicate that the strain at the outermost joint and the normal strain $$\\varepsilon_{zz}$$ and $$\\varepsilon_{yy}$$ are in the same order of magnitude.\",\n",
      "    \"8\": \"However Lai et al. [1] showed that for ACA joints with rigid substrates, an excessively high bump (bump height of 70 μm) could induce poor reliability. The reliability problem of having high bump can occur since excessively high bump can easily cause a porous structure in the ACA layers [1].\",\n",
      "    \"9\": \"The general situation for this joint is that there is no essential shear in the field of measurement and strain $$\\varepsilon_{xx}$$ and $$\\varepsilon_{yy}$$ increase toward the polymer substrate.\",\n",
      "    \"10\": \"The effect of bump height is different for ACA joints than for solder joints. For solder joints increasing the bump height (stand-off) will increase the fatigue life of joints because a high bump can relax the shear stresses in the corner regions of the solder [7]. However, this is not the case for ACA flip-chip joints. We have shown here that the effect of bump height in ACA joints will only be limited to the interface area as a controlling factor for the ACA joints reliability.\",\n",
      "    \"11\": \"Further work is necessary to include some features that are not included at present such as: 1) Effect of particle size and particle distributions on the strains and stresses variation and 2) effect of the planarity of the substrate, bumps, and pads.\"\n",
      "}\n"
     ]
    }
   ],
   "source": [
    "from json_utils import parse_json_response\n",
    "from openai import OpenAI\n",
    "import os\n",
    "\n",
    "markdown_paper = \"/home/ritwik-gosh/Fine_tuning/data/Markdown/llamaparsed.md\"\n",
    "with open(markdown_paper, 'r') as file:\n",
    "    paper_text = file.read()\n",
    "\n",
    "ctx_prompt = f\"\"\"You are a text retriever from research papers. \n",
    "\"Below is a json string with {len(data)} key findings from a research paper.\"\n",
    "\n",
    "    {json_string}\n",
    "\n",
    "For each of the {len(data)} findings, use RAG on the entire paper given below and retrieve all the relevant texts respectively from all parts of the paper without modifying any original text.\n",
    "Each of the retrieved original texts should be very much sufficient to provide enough background on the respective findings. \n",
    "This might require retrieving not only the texts that are the best match but also the second best matches alongwith.\n",
    "    Paper:\n",
    "        {paper_text}\n",
    "\n",
    "        \n",
    "Output format instruction:          \n",
    "    \"Provide your response as a JSON object where the keys are the sequential indices and their values are the retrieved matching texts from the paper.\"\n",
    "    \"Only provide the JSON object with no additional explanation or text.\"\n",
    "\"\"\"\n",
    "ctx_prompt += \"\"\"\n",
    "    Example: \n",
    "            Output: \n",
    "                    {\n",
    "                    \"1\": <retrieved matching text>,\\n\"2\":<retrieved matching text>\n",
    "                    }\n",
    "\"\"\"\n",
    "\n",
    "def openai_generate(sys_prompt : str, temperature):\n",
    "    client = OpenAI(api_key=os.environ.get(\"OPENAI_API_KEY\", \"\"))\n",
    "    response = client.chat.completions.create(\n",
    "    model=\"gpt-4o\",\n",
    "    temperature = temperature,\n",
    "    messages=[{\"role\": \"system\", \"content\": sys_prompt}],\n",
    "    #stream=True\n",
    "    )\n",
    "    print(f\"\\n💰💰💰💰 Token Usage:  {response.usage}\\n\")\n",
    "\n",
    "    return response.choices[0].message.content\n",
    "\n",
    "contexts = openai_generate(ctx_prompt, 0.1)\n",
    "\n",
    "#findings = list_findings(paper_text)\n",
    "print(contexts)\n",
    "\n"
   ]
  },
  {
   "cell_type": "markdown",
   "metadata": {},
   "source": [
    "**Parsing the retrieved contexts into JSON**"
   ]
  },
  {
   "cell_type": "code",
   "execution_count": 83,
   "metadata": {},
   "outputs": [
    {
     "name": "stdout",
     "output_type": "stream",
     "text": [
      "{'1': 'The effect of bump height can be seen in the strain changes in the interface between the bumps and the pads. The volume fraction covered by high strain value (shown by black contours) is more for higher bump. The effect is significant for the stress and the strain distributions in the y and in the shear directions. The effect of the bump height could not be found in the bumps and in the pads.', '2': 'There is practically no effect of the bump height on the strain changes in the silicon and the pads.', '3': 'The strain distribution in the joint is not symmetric and the maximum strain $$\\\\varepsilon_{xx}$$ is located in the adhesive layer. The value of the strain for the outmost joints at A is higher than the strain located at B (A and B are shown in Fig. 5).', '4': 'Shear strain $$\\\\varepsilon_{xy}$$ is very high (more than 0.02) in the adhesive area and in the PCB substrate and is very small (less than 0.001) in the pad and in the bump.', '5': 'The strain distribution in the joint is not symmetric and the maximum strain $$\\\\varepsilon_{xx}$$ is located in the adhesive layer. The value of the strain for the outmost joints at A is higher than the strain located at B (A and B are shown in Fig. 5).', '6': 'The effect of bump height can be seen in the strain changes in the interface between the bumps and the pads. The volume fraction covered by high strain value (shown by black contours) is more for higher bump. The effect is significant for the stress and the strain distributions in the y and in the shear directions. The effect of the bump height could not be found in the bumps and in the pads.', '7': 'Both measurement and simulation indicate that the strain at the outermost joint and the normal strain $$\\\\varepsilon_{zz}$$ and $$\\\\varepsilon_{yy}$$ are in the same order of magnitude.', '8': 'However Lai et al. [1] showed that for ACA joints with rigid substrates, an excessively high bump (bump height of 70 μm) could induce poor reliability. The reliability problem of having high bump can occur since excessively high bump can easily cause a porous structure in the ACA layers [1].', '9': 'The general situation for this joint is that there is no essential shear in the field of measurement and strain $$\\\\varepsilon_{xx}$$ and $$\\\\varepsilon_{yy}$$ increase toward the polymer substrate.', '10': 'The effect of bump height is different for ACA joints than for solder joints. For solder joints increasing the bump height (stand-off) will increase the fatigue life of joints because a high bump can relax the shear stresses in the corner regions of the solder [7]. However, this is not the case for ACA flip-chip joints. We have shown here that the effect of bump height in ACA joints will only be limited to the interface area as a controlling factor for the ACA joints reliability.', '11': 'Further work is necessary to include some features that are not included at present such as: 1) Effect of particle size and particle distributions on the strains and stresses variation and 2) effect of the planarity of the substrate, bumps, and pads.'}\n"
     ]
    },
    {
     "data": {
      "text/plain": [
       "'context_finding_dict = {key: {\"Finding\": data.get(key), \"Retrieved_context\": parsed_dict.get(key)} \\n               for key in data.keys() | parsed_dict.keys()}\\ncontext_findings = \"/home/ritwik-gosh/Fine_tuning/data/Markdown/context_findings.json\"\\nwith open(context_findings, \\'w\\') as json_file:\\n    json.dump(context_finding_dict, json_file, indent=4)'"
      ]
     },
     "execution_count": 83,
     "metadata": {},
     "output_type": "execute_result"
    }
   ],
   "source": [
    "import re\n",
    "import json\n",
    "\n",
    "match = re.search(r'\\{.*\\}', contexts, re.DOTALL)\n",
    "parsed_contexts = match.group(0)\n",
    "#print(parsed_contexts)\n",
    "\n",
    "fixed_json_string = re.sub(r'(?<!\\\\)\\\\(?![\\\\ntr\"])', r'\\\\\\\\', parsed_contexts)  #duplicates backslashes to avoid JSONDecodeError\n",
    "parsed_dict = json.loads(fixed_json_string)\n",
    "print(parsed_dict)\n",
    "\n",
    "csv_path = \"/home/ritwik-gosh/Fine_tuning/data/Markdown/findings_contexts.csv\"\n",
    "retrieved_contexts = list(parsed_dict.values())\n",
    "df = pd.DataFrame({\n",
    "    'Findings': findings_list,\n",
    "    'Context': retrieved_contexts\n",
    "})\n",
    "\n",
    "df.to_csv(csv_path, index=False)\n",
    "\n",
    "\n",
    "'''context_finding_dict = {key: {\"Finding\": data.get(key), \"Retrieved_context\": parsed_dict.get(key)} \n",
    "               for key in data.keys() | parsed_dict.keys()}\n",
    "context_findings = \"/home/ritwik-gosh/Fine_tuning/data/Markdown/context_findings.json\"\n",
    "with open(context_findings, 'w') as json_file:\n",
    "    json.dump(context_finding_dict, json_file, indent=4)'''\n"
   ]
  }
 ],
 "metadata": {
  "kernelspec": {
   "display_name": "Python 3",
   "language": "python",
   "name": "python3"
  },
  "language_info": {
   "codemirror_mode": {
    "name": "ipython",
    "version": 3
   },
   "file_extension": ".py",
   "mimetype": "text/x-python",
   "name": "python",
   "nbconvert_exporter": "python",
   "pygments_lexer": "ipython3",
   "version": "3.10.12"
  }
 },
 "nbformat": 4,
 "nbformat_minor": 2
}
