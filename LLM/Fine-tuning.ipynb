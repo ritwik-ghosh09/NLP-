{
 "cells": [
  {
   "cell_type": "markdown",
   "source": [
    "<font color ='blue'><font size = \"8\">***Fine-tuning Causal LLM with LoRA***</font>\n",
    "\n",
    "**The code merely deploys the base-model GPT2 and uses Parameter-efficient Fine tuning technique like Low Rank Adaptation to mitigate the challenges of limited computational resource. The model is fine-tuned on a very small dataset with LoRA rank=1 which barely allows room for creativity while generating texts. However, the generated texts are sensible and coherent to a certain extent as depicted in the examples underneath.**"
   ],
   "metadata": {
    "collapsed": false
   },
   "id": "5e57f1c9fe5dfef7"
  },
  {
   "cell_type": "code",
   "execution_count": 2,
   "outputs": [
    {
     "name": "stdout",
     "output_type": "stream",
     "text": [
      "GPU 0: NVIDIA GeForce 940MX (UUID: GPU-c76fe8cb-13ad-1a0a-93ba-5edd4a3a3fff)\n"
     ]
    }
   ],
   "source": [
    "!nvidia-smi -L"
   ],
   "metadata": {
    "collapsed": false,
    "ExecuteTime": {
     "end_time": "2024-02-19T17:54:01.158468700Z",
     "start_time": "2024-02-19T17:54:00.006388200Z"
    }
   },
   "id": "7d57eaecd39f0fc0"
  },
  {
   "cell_type": "markdown",
   "source": [
    "<font size='6'>***Setting up the model***</font>"
   ],
   "metadata": {
    "collapsed": false
   },
   "id": "8ea652b0211ce82e"
  },
  {
   "cell_type": "code",
   "execution_count": 118,
   "outputs": [],
   "source": [
    "import torch\n",
    "import torch.nn as nn\n",
    "from transformers import GPT2LMHeadModel, GPT2Tokenizer"
   ],
   "metadata": {
    "collapsed": false,
    "ExecuteTime": {
     "end_time": "2024-02-21T00:04:00.398036500Z",
     "start_time": "2024-02-21T00:04:00.350847700Z"
    }
   },
   "id": "2466456f7f925ed4"
  },
  {
   "cell_type": "code",
   "execution_count": 119,
   "outputs": [
    {
     "data": {
      "text/plain": "Downloading vocab.json:   0%|          | 0.00/1.04M [00:00<?, ?B/s]",
      "application/vnd.jupyter.widget-view+json": {
       "version_major": 2,
       "version_minor": 0,
       "model_id": "c528c6ae2553428babad2f39ccc70514"
      }
     },
     "metadata": {},
     "output_type": "display_data"
    },
    {
     "data": {
      "text/plain": "Downloading merges.txt:   0%|          | 0.00/456k [00:00<?, ?B/s]",
      "application/vnd.jupyter.widget-view+json": {
       "version_major": 2,
       "version_minor": 0,
       "model_id": "559633834ac14cab82d702a0808d230e"
      }
     },
     "metadata": {},
     "output_type": "display_data"
    },
    {
     "data": {
      "text/plain": "Downloading tokenizer_config.json:   0%|          | 0.00/26.0 [00:00<?, ?B/s]",
      "application/vnd.jupyter.widget-view+json": {
       "version_major": 2,
       "version_minor": 0,
       "model_id": "a1134536dc2c49579c778b43239bb15d"
      }
     },
     "metadata": {},
     "output_type": "display_data"
    },
    {
     "data": {
      "text/plain": "Downloading config.json:   0%|          | 0.00/665 [00:00<?, ?B/s]",
      "application/vnd.jupyter.widget-view+json": {
       "version_major": 2,
       "version_minor": 0,
       "model_id": "0a35acdcedb0419e9846bc3aca846f14"
      }
     },
     "metadata": {},
     "output_type": "display_data"
    },
    {
     "data": {
      "text/plain": "Downloading model.safetensors:   0%|          | 0.00/548M [00:00<?, ?B/s]",
      "application/vnd.jupyter.widget-view+json": {
       "version_major": 2,
       "version_minor": 0,
       "model_id": "40565d82e8a342329ffb0c23251d451a"
      }
     },
     "metadata": {},
     "output_type": "display_data"
    },
    {
     "data": {
      "text/plain": "Downloading generation_config.json:   0%|          | 0.00/124 [00:00<?, ?B/s]",
      "application/vnd.jupyter.widget-view+json": {
       "version_major": 2,
       "version_minor": 0,
       "model_id": "563b422ad1694610b59b9a4258fad776"
      }
     },
     "metadata": {},
     "output_type": "display_data"
    }
   ],
   "source": [
    "tokenizer = GPT2Tokenizer.from_pretrained(\"gpt2\")\n",
    "model = GPT2LMHeadModel.from_pretrained(\"gpt2\")\n"
   ],
   "metadata": {
    "collapsed": false,
    "ExecuteTime": {
     "end_time": "2024-02-21T00:05:57.784008Z",
     "start_time": "2024-02-21T00:04:03.479848800Z"
    }
   },
   "id": "5a147c9d3fc7b9a9"
  },
  {
   "cell_type": "code",
   "execution_count": 120,
   "outputs": [
    {
     "name": "stdout",
     "output_type": "stream",
     "text": [
      "GPT2LMHeadModel(\n",
      "  (transformer): GPT2Model(\n",
      "    (wte): Embedding(50257, 768)\n",
      "    (wpe): Embedding(1024, 768)\n",
      "    (drop): Dropout(p=0.1, inplace=False)\n",
      "    (h): ModuleList(\n",
      "      (0-11): 12 x GPT2Block(\n",
      "        (ln_1): LayerNorm((768,), eps=1e-05, elementwise_affine=True)\n",
      "        (attn): GPT2Attention(\n",
      "          (c_attn): Conv1D()\n",
      "          (c_proj): Conv1D()\n",
      "          (attn_dropout): Dropout(p=0.1, inplace=False)\n",
      "          (resid_dropout): Dropout(p=0.1, inplace=False)\n",
      "        )\n",
      "        (ln_2): LayerNorm((768,), eps=1e-05, elementwise_affine=True)\n",
      "        (mlp): GPT2MLP(\n",
      "          (c_fc): Conv1D()\n",
      "          (c_proj): Conv1D()\n",
      "          (act): NewGELUActivation()\n",
      "          (dropout): Dropout(p=0.1, inplace=False)\n",
      "        )\n",
      "      )\n",
      "    )\n",
      "    (ln_f): LayerNorm((768,), eps=1e-05, elementwise_affine=True)\n",
      "  )\n",
      "  (lm_head): Linear(in_features=768, out_features=50257, bias=False)\n",
      ")\n"
     ]
    }
   ],
   "source": [
    "print(model)"
   ],
   "metadata": {
    "collapsed": false,
    "ExecuteTime": {
     "end_time": "2024-02-21T00:08:22.552148400Z",
     "start_time": "2024-02-21T00:08:22.275557300Z"
    }
   },
   "id": "e963415abe81ffc5"
  },
  {
   "cell_type": "markdown",
   "source": [
    "<font size='5'>***Freezing the original weights***</font>\n"
   ],
   "metadata": {
    "collapsed": false
   },
   "id": "655823dfcd193687"
  },
  {
   "cell_type": "code",
   "execution_count": 121,
   "outputs": [],
   "source": [
    "for param in model.parameters():\n",
    "    param.requires_grad = False     #prohibits gradient flow\n",
    "    if param.ndim == 1:\n",
    "        param.data = param.data.to(torch.float32)   #more precision of bias values for a stable convergence\n",
    "        \n",
    "model.gradient_checkpointing_enable()    #trade-off between storing and forgetting activations for efficient memory usage\n",
    "model.enable_input_require_grads()  #gradient flows through adapter weights by freezing original weights"
   ],
   "metadata": {
    "collapsed": false,
    "ExecuteTime": {
     "end_time": "2024-02-21T00:08:54.118208900Z",
     "start_time": "2024-02-21T00:08:53.868881300Z"
    }
   },
   "id": "d40239950176914"
  },
  {
   "cell_type": "markdown",
   "source": [
    "<font size=\"5\">**Configuring LoRA**"
   ],
   "metadata": {
    "collapsed": false
   },
   "id": "d03c0f5cca2fcae9"
  },
  {
   "cell_type": "code",
   "execution_count": 124,
   "outputs": [],
   "source": [
    "from peft import LoraConfig, get_peft_model\n",
    "\n",
    "config = LoraConfig(r=1,  #decomposed rank\n",
    "                    lora_alpha = 20,    #LoRA scaling factor\n",
    "                    lora_dropout = 0.05,\n",
    "                    bias = \"none\",\n",
    "                    task_type = \"CAUSAL_LM\")\n",
    "\n",
    "model = get_peft_model(model, config)"
   ],
   "metadata": {
    "collapsed": false,
    "ExecuteTime": {
     "end_time": "2024-02-21T00:09:22.101592200Z",
     "start_time": "2024-02-21T00:09:21.840698Z"
    }
   },
   "id": "c1546171b43fbd14"
  },
  {
   "cell_type": "code",
   "execution_count": 125,
   "outputs": [
    {
     "name": "stdout",
     "output_type": "stream",
     "text": [
      "Trainable Parameters: 36864 || Total Parameters: 124476672, || % trainable: 0.029615187655402612\n"
     ]
    }
   ],
   "source": [
    "def net_trainable_params(model):    #prints the net trainable parameters for fine-tuning \n",
    "    all_params = 0\n",
    "    trainable_params = 0\n",
    "    for param in model.parameters():\n",
    "        all_params += param.numel()\n",
    "        if param.requires_grad == True:\n",
    "            trainable_params += param.numel()\n",
    "    \n",
    "    print(f\"Trainable Parameters: {trainable_params} || Total Parameters: {all_params}, || % trainable: {100*trainable_params/all_params}\")\n",
    "    \n",
    "net_trainable_params(model)"
   ],
   "metadata": {
    "collapsed": false,
    "ExecuteTime": {
     "end_time": "2024-02-21T00:09:25.773993900Z",
     "start_time": "2024-02-21T00:09:25.009117800Z"
    }
   },
   "id": "eaea66d8f5a52687"
  },
  {
   "cell_type": "markdown",
   "source": [
    "<font size=\"5\">**Loading the custom Q&A dataset**"
   ],
   "metadata": {
    "collapsed": false
   },
   "id": "a9e040b2cdd3600a"
  },
  {
   "cell_type": "code",
   "execution_count": 126,
   "outputs": [
    {
     "name": "stdout",
     "output_type": "stream",
     "text": [
      "Question: How has social media influenced communication patterns?\n",
      "Answer: Social media has transformed communication by enabling instant messaging, video calls, and sharing of multimedia content, leading to faster and more accessible interactions globally.\n",
      "Question: What are the psychological effects of excessive social media use?\n",
      "Answer: Excessive social media use has been linked to various psychological effects such as anxiety, depression, low self-esteem, and addictive behaviors due to constant comparison and fear of missing out (FOMO).\n",
      "Question: How does social media impact relationships and social interactions?\n",
      "Answer: Social media can both strengthen and strain relationships. While it facilitates staying in touch with distant friends and family, excessive use can lead to decreased face-to-face interactions and misunderstandings due to misinterpretation of digital communication cues.\n",
      "Question: What role does social media play in shaping public opinion and influencing political discourse?\n",
      "Answer: Social media platforms serve as powerful tools for shaping public opinion and influencing political discourse through the rapid dissemination of information, mobilization of movements, and targeted messaging to specific demographics.\n",
      "Question: How has social media transformed marketing and advertising strategies?\n",
      "Answer: Social media has revolutionized marketing and advertising by providing targeted advertising opportunities, enabling direct engagement with consumers, and facilitating the spread of viral content through user-generated sharing.\n",
      "Question: What are the societal implications of social media algorithms and echo chambers?\n",
      "Answer: Social media algorithms contribute to the formation of echo chambers, where users are exposed to information that reinforces their existing beliefs, leading to polarization, reduced exposure to diverse perspectives, and potential misinformation dissemination.\n",
      "Question: How has social media influenced cultural trends and norms?\n",
      "Answer: Social media platforms shape cultural trends and norms by amplifying certain behaviors, influencing fashion, language, and societal standards, and providing platforms for cultural expression and activism.\n",
      "Question: What are the privacy concerns associated with social media usage?\n",
      "Answer: Privacy concerns related to social media include data breaches, unauthorized access to personal information, tracking of user activities, and potential misuse of data for targeted advertising or surveillance purposes.\n",
      "Question: How has social media impacted the mental health of adolescents and young adults?\n",
      "Answer: Social media usage among adolescents and young adults has been associated with increased rates of anxiety, depression, cyberbullying, and body image issues, highlighting the need for digital literacy and mental health support.\n",
      "Question: In what ways has social media influenced consumer behavior and purchasing decisions?\n",
      "Answer: Social media platforms influence consumer behavior by providing product recommendations, reviews, and endorsements from influencers, creating social validation cues, and offering seamless shopping experiences through integrated e-commerce features.\n",
      "Question: What are the key technologies powering autonomous driving systems?\n",
      "Answer: Autonomous driving systems rely on a combination of technologies such as sensors (lidar, radar, cameras), artificial intelligence (AI), machine learning algorithms, GPS, and advanced computing for perception, decision-making, and control.\n",
      "Question: How do autonomous vehicles navigate complex environments such as urban streets and highways?\n",
      "Answer: Autonomous vehicles use sensor data to perceive their surroundings, create detailed maps, localize themselves within those maps using GPS and other localization methods, plan trajectories, and adapt their behavior based on real-time inputs to navigate safely and efficiently.\n",
      "Question: What are the potential benefits of autonomous driving technology?\n",
      "Answer: Autonomous driving technology has the potential to improve road safety by reducing human error, enhance mobility for individuals with disabilities or limited mobility, increase productivity during commutes, reduce traffic congestion, and lower fuel consumption through optimized driving patterns.\n",
      "Question: What regulatory and legal challenges need to be addressed for the widespread adoption of autonomous vehicles?\n",
      "Answer: Regulatory and legal challenges for autonomous vehicles include liability and insurance issues in case of accidents, standardization of safety regulations, ethical considerations in decision-making algorithms, privacy concerns related to data collection, and infrastructure readiness.\n",
      "Question: How do autonomous vehicles communicate with each other and with infrastructure?\n",
      "Answer: Autonomous vehicles communicate with each other and with infrastructure through vehicle-to-vehicle (V2V) and vehicle-to-infrastructure (V2I) communication technologies, enabling coordination, sharing of real-time traffic information, and cooperative driving maneuvers.\n",
      "Question: What are the ethical dilemmas associated with autonomous driving decision-making?\n",
      "Answer: Ethical dilemmas in autonomous driving decision-making include situations where the vehicle must prioritize between different safety objectives, such as avoiding collisions or protecting occupants, as well as moral considerations in scenarios involving potential harm to pedestrians or other road users.\n",
      "Question: How does weather and environmental conditions affect the performance of autonomous vehicles?\n",
      "Answer: Weather and environmental conditions such as rain, snow, fog, and low visibility can pose challenges for autonomous vehicles by reducing sensor performance, affecting road traction, and requiring adaptations in perception and control algorithms to maintain safe operation.\n",
      "Question: What role do simulation and testing play in the development of autonomous driving technology?\n",
      "Answer: Simulation and testing are essential for the development and validation of autonomous driving technology, allowing engineers to evaluate system performance under various scenarios, iteratively refine algorithms, assess safety measures, and minimize risks before real-world deployment.\n",
      "Question: How do societal attitudes and acceptance impact the adoption of autonomous driving technology?\n",
      "Answer: Societal attitudes and acceptance towards autonomous driving technology influence adoption rates, public trust, and policy decisions. Factors such as perceived safety, convenience, affordability, and familiarity with the technology shape public perception and willingness to embrace autonomous vehicles.\n",
      "Question: What are the challenges and opportunities for autonomous driving in urban environments?\n",
      "Answer: Urban environments present unique challenges for autonomous driving, including complex traffic patterns, pedestrian interactions, infrastructure limitations, and regulatory hurdles, but also offer opportunities for improving transportation efficiency, reducing congestion, and enhancing urban livability.\n",
      "Question: What are some essential safety measures drivers should follow to prevent accidents?\n",
      "Answer: Drivers should adhere to speed limits, maintain a safe following distance, avoid distractions such as texting or using mobile phones, obey traffic signals and signs, and always wear seat belts to minimize the risk of accidents and injuries.\n",
      "Question: How can technology contribute to improving driving safety?\n",
      "Answer: Technology can enhance driving safety through features such as automatic emergency braking, lane departure warning systems, adaptive cruise control, blind-spot monitoring, and driver-assistance systems that help prevent collisions and alert drivers to potential hazards.\n",
      "Question: What role do driver education and training play in promoting driving safety?\n",
      "Answer: Driver education and training programs provide essential knowledge and skills for safe driving practices, including defensive driving techniques, hazard awareness, proper vehicle handling, and understanding of traffic laws and regulations.\n",
      "Question: How can vehicle maintenance contribute to driving safety?\n",
      "Answer: Regular vehicle maintenance, including checking tire pressure, brakes, lights, windshield wipers, and fluid levels, helps ensure that vehicles are in optimal condition and reduces the risk of mechanical failures that could compromise safety on the road.\n",
      "Question: What are some common causes of road accidents, and how can they be mitigated?\n",
      "Answer: Common causes of road accidents include speeding, impaired driving (e.g., driving under the influence of alcohol or drugs), distracted driving, aggressive driving behaviors, and poor road conditions. Mitigation strategies include enforcement of traffic laws, public awareness campaigns, infrastructure improvements, and technological interventions.\n",
      "Question: How can drivers effectively manage driving fatigue to improve safety?\n",
      "Answer: Drivers can manage driving fatigue by getting an adequate amount of sleep before long trips, taking regular breaks to rest and stretch, avoiding driving during hours when they would normally be asleep, and sharing driving responsibilities with passengers.\n",
      "Question: What are the benefits of defensive driving techniques in promoting road safety?\n",
      "Answer: Defensive driving techniques, such as maintaining awareness of surrounding vehicles, anticipating potential hazards, maintaining a safe following distance, and being prepared to react to unexpected situations, can help drivers avoid accidents and mitigate risks on the road.\n",
      "Question: How do weather conditions impact driving safety, and what precautions should drivers take?\n",
      "Answer: Weather conditions such as rain, snow, ice, fog, and high winds can reduce visibility, affect road traction, and increase stopping distances. Drivers should adjust their driving behavior accordingly, reduce speed, increase following distance, use headlights, and avoid sudden maneuvers to ensure safety in adverse weather conditions.\n",
      "Question: What are the safety benefits of using child safety seats and seat belts?\n",
      "Answer: Child safety seats and seat belts are essential safety devices that reduce the risk of injury and death in motor vehicle accidents. Child safety seats provide proper restraint for infants and young children, while seat belts protect occupants from being ejected from the vehicle and minimize impact forces during collisions.\n",
      "Question: How can drivers minimize distractions inside the vehicle to improve safety?\n",
      "Answer: Drivers can minimize distractions inside the vehicle by refraining from using mobile phones or other electronic devices, avoiding eating, drinking, or grooming while driving, keeping conversations with passengers to a minimum, and focusing their attention on the task of driving.\n",
      "Question: What are the environmental benefits of transitioning to electric cars?\n",
      "Answer: Transitioning to electric cars reduces greenhouse gas emissions, improves air quality by reducing tailpipe pollutants, decreases dependence on fossil fuels, and contributes to mitigating climate change and promoting sustainability.\n",
      "Question: What role do government incentives and policies play in accelerating the adoption of electric cars?\n",
      "Answer: Government incentives such as tax credits, rebates, subsidies, and regulatory mandates for vehicle emissions standards incentivize consumers and manufacturers to adopt electric cars, promote research and development, and build infrastructure for electric vehicle charging.\n",
      "Question: How do electric cars compare to traditional internal combustion engine vehicles in terms of performance and efficiency?\n",
      "Answer: Electric cars offer advantages such as instant torque, smooth acceleration, lower operating costs, and reduced maintenance requirements compared to traditional internal combustion engine vehicles, while also being more energy-efficient and environmentally friendly.\n",
      "Question: What are the challenges and opportunities in building the necessary infrastructure for electric vehicle charging?\n",
      "Answer: Challenges in building electric vehicle charging infrastructure include high upfront costs, interoperability standards, availability of charging stations, and addressing range anxiety. Opportunities exist for public-private partnerships, innovative charging solutions, and integration with renewable energy sources.\n",
      "Question: How can electric cars contribute to energy security and diversification of the transportation sector?\n",
      "Answer: Electric cars reduce dependence on imported oil, enhance energy security, and diversify the transportation sector by utilizing domestic sources of electricity, including renewable energy sources such as solar, wind, and hydroelectric power.\n",
      "Question: What are the implications of the transition to electric cars for the automotive industry and supply chain?\n",
      "Answer: The transition to electric cars disrupts the automotive industry and supply chain by shifting production towards electric vehicle components such as batteries, motors, and electronics, fostering innovation in electric vehicle design, and redefining business models for traditional automakers and new entrants.\n",
      "Question: How does the total cost of ownership of electric cars compare to conventional vehicles over the vehicle's lifetime?\n",
      "Answer: While electric cars may have higher upfront costs compared to conventional vehicles, they often have lower operating costs due to savings on fuel, maintenance, and tax incentives, making them cost-competitive or even more economical over the vehicle's lifetime.\n",
      "Question: What are the implications of the transition to electric cars for employment and workforce development?\n",
      "Answer: The transition to electric cars creates opportunities for skilled labor in manufacturing, installation, maintenance, and servicing of electric vehicles and charging infrastructure, while also requiring retraining and upskilling of workers in traditional automotive sectors.\n",
      "Question: How can the integration of electric cars with renewable energy sources contribute to decarbonizing the transportation sector?\n",
      "Answer: Integrating electric cars with renewable energy sources such as solar and wind power reduces carbon emissions associated with transportation, supports grid stability and energy storage, and enables a more sustainable and resilient energy system.\n",
      "Question: What are the societal impacts of the transition to electric cars, including considerations for equity, accessibility, and inclusivity?\n",
      "Answer: The transition to electric cars presents opportunities to address equity and accessibility issues by reducing air pollution in disadvantaged communities, providing affordable transportation options, and promoting social equity in access to clean mobility solutions.\n"
     ]
    }
   ],
   "source": [
    "import re\n",
    "\n",
    "'''from datasets import load_dataset\n",
    "dataset = load_dataset(\"yahma/alpaca-cleaned\")'''\n",
    "\n",
    "prompt_path = '/Users/Ritwik/PythonforPractice/Project NLP/LLM/prompt_template.txt'\n",
    "with open(prompt_path, \"r\") as file:\n",
    "        text_data = file.read()\n",
    "        \n",
    "text_data = re.sub(r'\\n+', '\\n', text_data).strip()  # Removes redundant newline characters\n",
    "print(text_data)"
   ],
   "metadata": {
    "collapsed": false,
    "ExecuteTime": {
     "end_time": "2024-02-21T00:09:39.448992100Z",
     "start_time": "2024-02-21T00:09:39.275588700Z"
    }
   },
   "id": "de3754542f32178a"
  },
  {
   "cell_type": "code",
   "execution_count": 127,
   "outputs": [
    {
     "name": "stdout",
     "output_type": "stream",
     "text": [
      "tensor([24361,    25,  1374,   468,  1919,  2056, 12824,  6946,  7572,    30,\n",
      "          198, 33706,    25,  5483,  2056,   468, 14434,  6946,   416, 15882,\n",
      "         9113, 19925,    11,  2008,  3848,    11,   290,  7373,   286, 40162,\n",
      "         2695,    11,  3756,   284,  5443,   290,   517,  9857, 12213, 18309,\n",
      "           13,   198,   198, 24361,    25,  1867,   389,   262, 10590,  3048,\n",
      "          286, 13181,  1919,  2056,   779,    30,   198, 33706,    25,  1475,\n",
      "        45428,  1919,  2056,   779,   468,   587,  6692,   284,  2972, 10590,\n",
      "         3048,   884,   355,  9751,    11,  8862,    11,  1877,  2116,    12,\n",
      "        31869,    11,   290, 28389, 14301,  2233,   284,  6937,  7208,   290,\n",
      "         3252,   286,  4814,   503,   357,    37,  2662,    46,   737,   198,\n",
      "          198, 24361,    25,  1374,   857,  1919,  2056,  2928,  6958,   290,\n",
      "         1919, 12213,    30,   198, 33706,    25,  5483,  2056,   460,  1111,\n",
      "        12160,   290, 14022,  6958,    13,  2893,   340, 42699])\n"
     ]
    }
   ],
   "source": [
    "from transformers import TextDataset\n",
    "\n",
    "tokenized_dataset = TextDataset(tokenizer, prompt_path, block_size=128)\n",
    "\n",
    "print(tokenized_dataset[0])\n"
   ],
   "metadata": {
    "collapsed": false,
    "ExecuteTime": {
     "end_time": "2024-02-21T00:09:49.772070600Z",
     "start_time": "2024-02-21T00:09:49.092608600Z"
    }
   },
   "id": "fac98cddf849dca9"
  },
  {
   "cell_type": "markdown",
   "source": [
    "<font size=\"5\">**Kicking off with Fine tuning**"
   ],
   "metadata": {
    "collapsed": false
   },
   "id": "c9af7e155ddc7269"
  },
  {
   "cell_type": "code",
   "execution_count": 128,
   "outputs": [
    {
     "data": {
      "text/plain": "<IPython.core.display.HTML object>",
      "text/html": "\n    <div>\n      \n      <progress value='2' max='100' style='width:300px; height:20px; vertical-align: middle;'></progress>\n      [  2/100 : < :, Epoch 0.50/50]\n    </div>\n    <table border=\"1\" class=\"dataframe\">\n  <thead>\n <tr style=\"text-align: left;\">\n      <th>Step</th>\n      <th>Training Loss</th>\n    </tr>\n  </thead>\n  <tbody>\n  </tbody>\n</table><p>"
     },
     "metadata": {},
     "output_type": "display_data"
    }
   ],
   "source": [
    "from transformers import Trainer, TrainingArguments, DataCollatorForLanguageModeling\n",
    "\n",
    "output_dir = '/Users/Ritwik/PythonforPractice/ProjectNLP/LLM'\n",
    "model.save_pretrained(output_dir)\n",
    "tokenizer.save_pretrained(output_dir)\n",
    "\n",
    "training_args = TrainingArguments(per_device_train_batch_size=5,\n",
    "                                  gradient_accumulation_steps=2,\n",
    "                                  warmup_steps=10,\n",
    "                                  max_steps=100,\n",
    "                                  learning_rate=2e-2,\n",
    "                                  num_train_epochs=1,\n",
    "                                  logging_steps=1,\n",
    "                                  output_dir=output_dir\n",
    "                                  \n",
    ")\n",
    "\n",
    "trainer = Trainer(model,\n",
    "                  training_args,\n",
    "                  data_collator=DataCollatorForLanguageModeling(tokenizer=tokenizer, mlm=False),\n",
    "                  train_dataset= tokenized_dataset\n",
    "                  )\n",
    "\n",
    "trainer.train()\n",
    "trainer.save_model(output_dir)"
   ],
   "metadata": {
    "collapsed": false,
    "ExecuteTime": {
     "end_time": "2024-02-21T00:34:35.605181300Z",
     "start_time": "2024-02-21T00:10:05.613886600Z"
    }
   },
   "id": "5ebabeba8f374ae6"
  },
  {
   "cell_type": "markdown",
   "source": [
    "<font size=\"5\">**Inference**</font>"
   ],
   "metadata": {
    "collapsed": false
   },
   "id": "207b53e712db6997"
  },
  {
   "cell_type": "code",
   "execution_count": 212,
   "outputs": [],
   "source": [
    "#model = GPT2LMHeadModel.from_pretrained(output_dir)\n",
    "tokenizer = GPT2Tokenizer.from_pretrained(output_dir)\n",
    "\n",
    "\n",
    "def generate_text(sequence, max_length, model_path=None):\n",
    "    \n",
    "    \n",
    "    '''tokenizer = GPT2Tokenizer.from_pretrained(tokenizer_path)'''\n",
    "    ids = tokenizer.encode(f'{sequence}', return_tensors='pt')\n",
    "    \n",
    "\n",
    "    final_outputs = model.generate(\n",
    "        ids,\n",
    "        do_sample=True,\n",
    "        max_length=max_length,\n",
    "        pad_token_id=model.config.eos_token_id,\n",
    "        top_k=50,\n",
    "        top_p=0.95,\n",
    "        #no_repeat_ngram_size=3\n",
    "        repetition_penalty=2.0\n",
    "        )\n",
    "    \n",
    "    print(tokenizer.decode(final_outputs[0], skip_special_tokens=True))"
   ],
   "metadata": {
    "collapsed": false,
    "ExecuteTime": {
     "end_time": "2024-02-21T02:44:09.176707100Z",
     "start_time": "2024-02-21T02:44:08.913101200Z"
    }
   },
   "id": "7c36ba283695ec92"
  },
  {
   "cell_type": "code",
   "execution_count": 191,
   "outputs": [
    {
     "name": "stdout",
     "output_type": "stream",
     "text": [
      "Question: What are the harmful effects of internet?\n",
      "Answer: There is widespread adoption of harmful internet surfing harmful to consumers by consumers and the environment, with the potential for negative effects on productivity, advertising, and consumers Rodrigues have been forced to adopt\n"
     ]
    }
   ],
   "source": [
    "prompt1 = \"Question: What are the harmful effects of internet?\"\n",
    "generate_text(prompt1, 50)"
   ],
   "metadata": {
    "collapsed": false,
    "ExecuteTime": {
     "end_time": "2024-02-21T02:30:06.482459800Z",
     "start_time": "2024-02-21T02:30:00.666532700Z"
    }
   },
   "id": "33c92eb9035f0e14"
  },
  {
   "cell_type": "code",
   "execution_count": 218,
   "outputs": [
    {
     "name": "stdout",
     "output_type": "stream",
     "text": [
      "Question: What causes a global warming?\n",
      "Answer: TopCause: Extreme temperatures increase carbon emissions in electricity by 30 to 40 percent, depending on the amount of carbon released in the air, and on the amount of sunlight emitted from cars and trucks?\n"
     ]
    }
   ],
   "source": [
    "prompt2 = \"Question: What causes a global warming?\"\n",
    "generate_text(prompt2, 50)"
   ],
   "metadata": {
    "collapsed": false,
    "ExecuteTime": {
     "end_time": "2024-02-21T02:49:19.721390600Z",
     "start_time": "2024-02-21T02:49:13.791207100Z"
    }
   },
   "id": "6cc33358757834a6"
  }
 ],
 "metadata": {
  "kernelspec": {
   "name": "python3",
   "language": "python",
   "display_name": "Python 3 (ipykernel)"
  }
 },
 "nbformat": 4,
 "nbformat_minor": 5
}
