{
 "cells": [
  {
   "cell_type": "markdown",
   "metadata": {},
   "source": [
    "<span style=\"font-size:32px; color:yellow\">Generation of Utterances</span>"
   ]
  },
  {
   "cell_type": "code",
   "execution_count": 24,
   "metadata": {},
   "outputs": [],
   "source": [
    "from langchain_core.prompts import ChatPromptTemplate\n",
    "from langchain_core.pydantic_v1 import BaseModel\n",
    "from langchain_groq import ChatGroq\n",
    "from langchain_openai import ChatOpenAI\n",
    "\n",
    "\n",
    "llm = ChatOpenAI(model=\"llama3:70b\", \n",
    "                        base_url=\"http://localhost:11434/v1\", \n",
    "                        temperature=0.7,\n",
    "                        api_key=\"NA\")\n",
    "\n",
    "\n",
    "def diversify_uttr(uttr : str):\n",
    "  \n",
    "    #model = ChatGroq(temperature=0.9, model=\"llama3-70b-8192\")\n",
    "        \n",
    "    PROMPT = ChatPromptTemplate.from_messages(\n",
    "        [\n",
    "            (\n",
    "                \"system\",\n",
    "                \"\"\"\n",
    "                You are a prompt diversifier with poor language skills.\n",
    "\n",
    "                You will be given a random user prompt about some request.\n",
    "                The user's prompt is originally directed to a car's voice assistant to execute. \n",
    "\n",
    "                Your task is to come up with a very similar prompt by modifying the given user prompt. \n",
    "                Simply rephrase the given user prompt into a short and very precise sentence with the exact same meaning. \n",
    "                \n",
    "                You can rephrase it into a question or an instruction.\n",
    "                \n",
    "                You MUST borrow most of the verbatim from the given user prompt.\n",
    "\n",
    "                DO NOT generate a duplicate prompt for very similar user prompts. Instead, jumble the sequence of words. \n",
    "                \n",
    "                You ONLY return the modified prompt in a list format. DO NOT return anything other than the list.\n",
    "        \n",
    "                Example:\n",
    "                    Input:\n",
    "                        what's the weather like\n",
    "\n",
    "                    Output: \n",
    "                        [tell me how the weather is like]\n",
    "\n",
    "                \n",
    "                If the input prompt is in a different language(German, Spanish or something else), generate a similar prompt in the same language by borrowing verbatim. \n",
    "                Avoid duplicate output generations, instead jumble the input sequence of words.\n",
    "\n",
    "                Example 1:\n",
    "                    Input:\n",
    "                        wie wird das Wetter\n",
    "\n",
    "                    Output: \n",
    "                        [wie sieht das Wetter aus]\n",
    "\n",
    "                Example 2:\n",
    "                    Input:\n",
    "                        wie ist das Wetter heute\n",
    "                    Output:\n",
    "                        Sag mir, wie das Wetter heute ist\n",
    "\n",
    "\n",
    "                \"\"\",\n",
    "            ),\n",
    "            (\"user\", \"Input prompt:\\n {utterance}\\n--End of current chunks--\"),\n",
    "        ]\n",
    "        )\n",
    "\n",
    "    runnable = PROMPT | llm\n",
    "\n",
    "    new_prompt = runnable.invoke({\n",
    "        \"utterance\": uttr\n",
    "    }).content\n",
    "\n",
    "    '''#Pydantic data class\n",
    "    class Sentence(BaseModel):\n",
    "        \"\"\"Extracting the creative prompt.\"\"\"\n",
    "        prompt: str\n",
    "        \n",
    "    # Extraction to catch-all LLM responses. This is a bandaid\n",
    "    extraction_chain = llm.with_structured_output(Sentence)\n",
    "    extracted_prompt = extraction_chain.invoke(new_prompt)\n",
    "    '''\n",
    "    return new_prompt\n",
    "\n",
    "def prompt_extractor(generated_prompt):\n",
    "\n",
    "        PROMPT = ChatPromptTemplate.from_messages(\n",
    "            [\n",
    "                (\n",
    "                    \"system\",\n",
    "                    \"\"\"\n",
    "                    You are a prompt extractor.\n",
    "                    You only extract the generated prompt string from the given input.\n",
    "                    The target string for extraction is usually within [] in a list format. \n",
    "                    \n",
    "                    Only return the extracted prompt WITHOUT any braces. DO NOT RETURN ANYTHING ELSE.\n",
    "                    \"\"\",\n",
    "                ),\n",
    "                (\"user\", \"Retrieve only the prompt from the following text:\\n{generated_p}\"),\n",
    "            ]\n",
    "        )\n",
    "\n",
    "        runnable = PROMPT | llm\n",
    "\n",
    "        extracted_prompt = runnable.invoke({\n",
    "            \"generated_p\": generated_prompt\n",
    "        }).content\n",
    "\n",
    "        return extracted_prompt\n",
    "\n",
    "#diversify_uttr(\"to home\")"
   ]
  },
  {
   "cell_type": "code",
   "execution_count": null,
   "metadata": {},
   "outputs": [],
   "source": [
    "import csv \n",
    "import datetime\n",
    "import pandas as pd\n",
    "\n",
    "pathname = '/home/devbox/test/Diversifying_uttr/data/Inq_weather/'\n",
    "filename = 'Inq_Weather.csv'\n",
    "type = '.csv'\n",
    "#in_file = open(pathname + filename, \"r\")\n",
    "out_file = str(pathname + \"LLM_utt-\" + str(datetime.datetime.now().strftime(\"%Y-%m-%d-%H:%M:%S\")) + type)\n",
    "\n",
    "\n",
    "df = pd.read_csv(pathname + filename)\n",
    "user_utt_col = df['utterance']\n",
    "user_utter = ['']\n",
    "llm_utt_col = ['']\n",
    "\n",
    "\n",
    "number_rows = int(input(\"Number of rows: \"))\n",
    "for row_idx, user_utt in enumerate(user_utt_col):\n",
    "    if (row_idx == 0): # Doesn't modify the 2nd row\n",
    "        continue\n",
    "    if (row_idx>number_rows+1):\n",
    "        break\n",
    "    \n",
    "    new_uttr = diversify_uttr(user_utt)\n",
    "    extracted_uttr = prompt_extractor(new_uttr)\n",
    "    user_utter.append(user_utt)\n",
    "    llm_utt_col.append(extracted_uttr)\n",
    "    print(f\"********************+** Utterance {row_idx} ***************************\")\n",
    "    print(f\"\\nUser: {user_utt}\")\n",
    "    print(f\"\\nLLM: {extracted_uttr}\")\n",
    "\n",
    "    # Writes into csv    \n",
    "ds = pd.DataFrame({'User_utterance' : user_utter,\n",
    "                   'LLM_utterance' : llm_utt_col\n",
    "                   })  \n",
    "ds.to_csv(out_file, index=False)\n",
    "        \n",
    "\n",
    "'''for row_index, row in enumerate(reader):\n",
    "    if (row_index == 0) or (row_index==1): # Doesn't modify the header\n",
    "        writer.writerow(row)\n",
    "        continue\n",
    "    if (row_index > number_rows):\n",
    "        break\n",
    "    new_uttr = diversify_uttr(row[0])\n",
    "    extracted_uttr = prompt_extractor(new_uttr)\n",
    "    print(f\"********************+** Utterance {row_index-1} ***************************\")\n",
    "    print(f\"\\nUser: {row[0]}\")\n",
    "    print(f\"\\nLLM: {extracted_uttr}\")\n",
    "\n",
    "    row.append(extracted_uttr)\n",
    "    writer.writerow(row)'''\n",
    "    \n",
    "'''in_file.close()\n",
    "out_file.close()'''"
   ]
  },
  {
   "cell_type": "code",
   "execution_count": 28,
   "metadata": {},
   "outputs": [
    {
     "name": "stdout",
     "output_type": "stream",
     "text": [
      "0                              NaN\n",
      "1                          weather\n",
      "2               What's the weather\n",
      "3         What's the weather today\n",
      "4                          Weather\n",
      "5    What's the weather like today\n",
      "6      What's the weather tomorrow\n",
      "7          What's the weather like\n",
      "8        What is the weather today\n",
      "9      What's the weather forecast\n",
      "Name: utterance, dtype: object\n"
     ]
    }
   ],
   "source": [
    "print(user_utt_col[:10])"
   ]
  },
  {
   "cell_type": "markdown",
   "metadata": {},
   "source": [
    "<span style=\"font-size:32px; color:yellow\">Cosine Similarity of embedded Utterances</span>"
   ]
  },
  {
   "cell_type": "code",
   "execution_count": 2,
   "metadata": {},
   "outputs": [
    {
     "name": "stderr",
     "output_type": "stream",
     "text": [
      "/home/devbox/miniconda3/lib/python3.12/site-packages/sentence_transformers/cross_encoder/CrossEncoder.py:11: TqdmWarning: IProgress not found. Please update jupyter and ipywidgets. See https://ipywidgets.readthedocs.io/en/stable/user_install.html\n",
      "  from tqdm.autonotebook import tqdm, trange\n"
     ]
    }
   ],
   "source": [
    "\n",
    "from langchain_community.embeddings import HuggingFaceBgeEmbeddings\n",
    "\n",
    "small_model_name = \"BAAI/bge-small-en\"  #emb_dimension = 384\n",
    "model_name = \"BAAI/bge-large-en-v1.5\"   #emb_dimension = 1024\n",
    "model_kwargs = {\"device\": \"cuda\"}\n",
    "encode_kwargs = {\"normalize_embeddings\": True}\n",
    "hf = HuggingFaceBgeEmbeddings(\n",
    "    model_name=model_name, model_kwargs=model_kwargs, encode_kwargs=encode_kwargs\n",
    ")\n",
    "hf_small = HuggingFaceBgeEmbeddings(\n",
    "    model_name=small_model_name, model_kwargs=model_kwargs, encode_kwargs=encode_kwargs\n",
    ")\n"
   ]
  },
  {
   "cell_type": "markdown",
   "metadata": {},
   "source": [
    "<span style=\"font-size:28px; color:yellow\">3D plot of LLM Utterances</span>"
   ]
  },
  {
   "cell_type": "code",
   "execution_count": 69,
   "metadata": {},
   "outputs": [
    {
     "name": "stdout",
     "output_type": "stream",
     "text": [
      "Original dimension (40, 384)\n",
      "Transformed dimension: (40, 3)\n"
     ]
    },
    {
     "data": {
      "application/vnd.plotly.v1+json": {
       "config": {
        "plotlyServerURL": "https://plot.ly"
       },
       "data": [
        {
         "hovertemplate": "color=hand gestures<br>0=%{x}<br>1=%{y}<br>2=%{z}<extra></extra>",
         "legendgroup": "hand gestures",
         "marker": {
          "color": "#636efa",
          "symbol": "circle"
         },
         "mode": "markers",
         "name": "hand gestures",
         "scene": "scene",
         "showlegend": true,
         "type": "scatter3d",
         "x": [
          -11.747218214319465
         ],
         "y": [
          -5.879646677431797
         ],
         "z": [
          -17.583576888279236
         ]
        },
        {
         "hovertemplate": "color=start seat massage<br>0=%{x}<br>1=%{y}<br>2=%{z}<extra></extra>",
         "legendgroup": "start seat massage",
         "marker": {
          "color": "#EF553B",
          "symbol": "circle"
         },
         "mode": "markers",
         "name": "start seat massage",
         "scene": "scene",
         "showlegend": true,
         "type": "scatter3d",
         "x": [
          -0.49807283290900894
         ],
         "y": [
          -5.725792409262003
         ],
         "z": [
          0.5534591365293717
         ]
        },
        {
         "hovertemplate": "color=passenger seat massage<br>0=%{x}<br>1=%{y}<br>2=%{z}<extra></extra>",
         "legendgroup": "passenger seat massage",
         "marker": {
          "color": "#00cc96",
          "symbol": "circle"
         },
         "mode": "markers",
         "name": "passenger seat massage",
         "scene": "scene",
         "showlegend": true,
         "type": "scatter3d",
         "x": [
          8.851339837489995
         ],
         "y": [
          -12.893408874121205
         ],
         "z": [
          0.5454888371881084
         ]
        },
        {
         "hovertemplate": "color=turn on massager<br>0=%{x}<br>1=%{y}<br>2=%{z}<extra></extra>",
         "legendgroup": "turn on massager",
         "marker": {
          "color": "#ab63fa",
          "symbol": "circle"
         },
         "mode": "markers",
         "name": "turn on massager",
         "scene": "scene",
         "showlegend": true,
         "type": "scatter3d",
         "x": [
          -6.737451331297952
         ],
         "y": [
          10.228172792041887
         ],
         "z": [
          5.280277327874055
         ]
        },
        {
         "hovertemplate": "color=turn on the seat massage<br>0=%{x}<br>1=%{y}<br>2=%{z}<extra></extra>",
         "legendgroup": "turn on the seat massage",
         "marker": {
          "color": "#FFA15A",
          "symbol": "circle"
         },
         "mode": "markers",
         "name": "turn on the seat massage",
         "scene": "scene",
         "showlegend": true,
         "type": "scatter3d",
         "x": [
          4.632854678032058
         ],
         "y": [
          2.511845432119705
         ],
         "z": [
          3.6698748118917366
         ]
        },
        {
         "hovertemplate": "color=turn on seat massager<br>0=%{x}<br>1=%{y}<br>2=%{z}<extra></extra>",
         "legendgroup": "turn on seat massager",
         "marker": {
          "color": "#19d3f3",
          "symbol": "circle"
         },
         "mode": "markers",
         "name": "turn on seat massager",
         "scene": "scene",
         "showlegend": true,
         "type": "scatter3d",
         "x": [
          4.421108689583849
         ],
         "y": [
          4.689730573677369
         ],
         "z": [
          4.55003187838643
         ]
        },
        {
         "hovertemplate": "color=activate lumbar massage<br>0=%{x}<br>1=%{y}<br>2=%{z}<extra></extra>",
         "legendgroup": "activate lumbar massage",
         "marker": {
          "color": "#FF6692",
          "symbol": "circle"
         },
         "mode": "markers",
         "name": "activate lumbar massage",
         "scene": "scene",
         "showlegend": true,
         "type": "scatter3d",
         "x": [
          -10.987701094493106
         ],
         "y": [
          0.2266985611022605
         ],
         "z": [
          5.150248869823493
         ]
        },
        {
         "hovertemplate": "color=turn on massage for the back passenger<br>0=%{x}<br>1=%{y}<br>2=%{z}<extra></extra>",
         "legendgroup": "turn on massage for the back passenger",
         "marker": {
          "color": "#B6E880",
          "symbol": "circle"
         },
         "mode": "markers",
         "name": "turn on massage for the back passenger",
         "scene": "scene",
         "showlegend": true,
         "type": "scatter3d",
         "x": [
          4.609182456336596
         ],
         "y": [
          -1.8313601124357086
         ],
         "z": [
          1.3597379922902821
         ]
        },
        {
         "hovertemplate": "color=turn on passenger massage seat<br>0=%{x}<br>1=%{y}<br>2=%{z}<extra></extra>",
         "legendgroup": "turn on passenger massage seat",
         "marker": {
          "color": "#FF97FF",
          "symbol": "circle"
         },
         "mode": "markers",
         "name": "turn on passenger massage seat",
         "scene": "scene",
         "showlegend": true,
         "type": "scatter3d",
         "x": [
          9.243444686600412
         ],
         "y": [
          1.4216222990609515
         ],
         "z": [
          2.542301645902441
         ]
        },
        {
         "hovertemplate": "color=turn on the passenger massage<br>0=%{x}<br>1=%{y}<br>2=%{z}<extra></extra>",
         "legendgroup": "turn on the passenger massage",
         "marker": {
          "color": "#FECB52",
          "symbol": "circle"
         },
         "mode": "markers",
         "name": "turn on the passenger massage",
         "scene": "scene",
         "showlegend": true,
         "type": "scatter3d",
         "x": [
          7.931412651323907
         ],
         "y": [
          -1.0648051311045041
         ],
         "z": [
          2.1307834630036924
         ]
        },
        {
         "hovertemplate": "color=turn on my seat<br>0=%{x}<br>1=%{y}<br>2=%{z}<extra></extra>",
         "legendgroup": "turn on my seat",
         "marker": {
          "color": "#636efa",
          "symbol": "circle"
         },
         "mode": "markers",
         "name": "turn on my seat",
         "scene": "scene",
         "showlegend": true,
         "type": "scatter3d",
         "x": [
          2.932723069946229
         ],
         "y": [
          6.3101280387637795
         ],
         "z": [
          -7.349720178892966
         ]
        },
        {
         "hovertemplate": "color=turn massage on<br>0=%{x}<br>1=%{y}<br>2=%{z}<extra></extra>",
         "legendgroup": "turn massage on",
         "marker": {
          "color": "#EF553B",
          "symbol": "circle"
         },
         "mode": "markers",
         "name": "turn massage on",
         "scene": "scene",
         "showlegend": true,
         "type": "scatter3d",
         "x": [
          -5.403653885526837
         ],
         "y": [
          9.112408341154504
         ],
         "z": [
          4.80283281991124
         ]
        },
        {
         "hovertemplate": "color=turn on lumbar massage<br>0=%{x}<br>1=%{y}<br>2=%{z}<extra></extra>",
         "legendgroup": "turn on lumbar massage",
         "marker": {
          "color": "#00cc96",
          "symbol": "circle"
         },
         "mode": "markers",
         "name": "turn on lumbar massage",
         "scene": "scene",
         "showlegend": true,
         "type": "scatter3d",
         "x": [
          -6.244764385820924
         ],
         "y": [
          6.790380675517424
         ],
         "z": [
          6.000850950998031
         ]
        },
        {
         "hovertemplate": "color=turn on driver massage seat<br>0=%{x}<br>1=%{y}<br>2=%{z}<extra></extra>",
         "legendgroup": "turn on driver massage seat",
         "marker": {
          "color": "#ab63fa",
          "symbol": "circle"
         },
         "mode": "markers",
         "name": "turn on driver massage seat",
         "scene": "scene",
         "showlegend": true,
         "type": "scatter3d",
         "x": [
          8.259107325288157
         ],
         "y": [
          3.3445734764948467
         ],
         "z": [
          0.35892650205624094
         ]
        },
        {
         "hovertemplate": "color=turn on massaging seats<br>0=%{x}<br>1=%{y}<br>2=%{z}<extra></extra>",
         "legendgroup": "turn on massaging seats",
         "marker": {
          "color": "#FFA15A",
          "symbol": "circle"
         },
         "mode": "markers",
         "name": "turn on massaging seats",
         "scene": "scene",
         "showlegend": true,
         "type": "scatter3d",
         "x": [
          3.392306925465625
         ],
         "y": [
          0.8319461019346346
         ],
         "z": [
          -0.6182465547457076
         ]
        },
        {
         "hovertemplate": "color=turn on my massage seats<br>0=%{x}<br>1=%{y}<br>2=%{z}<extra></extra>",
         "legendgroup": "turn on my massage seats",
         "marker": {
          "color": "#19d3f3",
          "symbol": "circle"
         },
         "mode": "markers",
         "name": "turn on my massage seats",
         "scene": "scene",
         "showlegend": true,
         "type": "scatter3d",
         "x": [
          1.9017170290863377
         ],
         "y": [
          4.005519584376964
         ],
         "z": [
          4.571869699056427
         ]
        },
        {
         "hovertemplate": "color=turn on on the driver massage<br>0=%{x}<br>1=%{y}<br>2=%{z}<extra></extra>",
         "legendgroup": "turn on on the driver massage",
         "marker": {
          "color": "#FF6692",
          "symbol": "circle"
         },
         "mode": "markers",
         "name": "turn on on the driver massage",
         "scene": "scene",
         "showlegend": true,
         "type": "scatter3d",
         "x": [
          6.216769470539192
         ],
         "y": [
          4.024664689553228
         ],
         "z": [
          -1.0504311807496423
         ]
        },
        {
         "hovertemplate": "color=give me a massage<br>0=%{x}<br>1=%{y}<br>2=%{z}<extra></extra>",
         "legendgroup": "give me a massage",
         "marker": {
          "color": "#B6E880",
          "symbol": "circle"
         },
         "mode": "markers",
         "name": "give me a massage",
         "scene": "scene",
         "showlegend": true,
         "type": "scatter3d",
         "x": [
          -14.274909510943743
         ],
         "y": [
          -5.668683342311474
         ],
         "z": [
          3.265894142336302
         ]
        },
        {
         "hovertemplate": "color=start my massage<br>0=%{x}<br>1=%{y}<br>2=%{z}<extra></extra>",
         "legendgroup": "start my massage",
         "marker": {
          "color": "#FF97FF",
          "symbol": "circle"
         },
         "mode": "markers",
         "name": "start my massage",
         "scene": "scene",
         "showlegend": true,
         "type": "scatter3d",
         "x": [
          -15.265683120058961
         ],
         "y": [
          -3.437314673756106
         ],
         "z": [
          3.420722909056932
         ]
        },
        {
         "hovertemplate": "color=turn on the seat massager<br>0=%{x}<br>1=%{y}<br>2=%{z}<extra></extra>",
         "legendgroup": "turn on the seat massager",
         "marker": {
          "color": "#FECB52",
          "symbol": "circle"
         },
         "mode": "markers",
         "name": "turn on the seat massager",
         "scene": "scene",
         "showlegend": true,
         "type": "scatter3d",
         "x": [
          4.524038685923471
         ],
         "y": [
          4.774603620087813
         ],
         "z": [
          4.735596942393476
         ]
        },
        {
         "hovertemplate": "color=turn on driver seat<br>0=%{x}<br>1=%{y}<br>2=%{z}<extra></extra>",
         "legendgroup": "turn on driver seat",
         "marker": {
          "color": "#636efa",
          "symbol": "circle"
         },
         "mode": "markers",
         "name": "turn on driver seat",
         "scene": "scene",
         "showlegend": true,
         "type": "scatter3d",
         "x": [
          10.794181276161623
         ],
         "y": [
          7.248850091920293
         ],
         "z": [
          -14.224800780915105
         ]
        },
        {
         "hovertemplate": "color=can you turn on<br>0=%{x}<br>1=%{y}<br>2=%{z}<extra></extra>",
         "legendgroup": "can you turn on",
         "marker": {
          "color": "#EF553B",
          "symbol": "circle"
         },
         "mode": "markers",
         "name": "can you turn on",
         "scene": "scene",
         "showlegend": true,
         "type": "scatter3d",
         "x": [
          -6.0757649467118275
         ],
         "y": [
          18.010031130497982
         ],
         "z": [
          -13.102108933795979
         ]
        },
        {
         "hovertemplate": "color=start driver seat massage<br>0=%{x}<br>1=%{y}<br>2=%{z}<extra></extra>",
         "legendgroup": "start driver seat massage",
         "marker": {
          "color": "#00cc96",
          "symbol": "circle"
         },
         "mode": "markers",
         "name": "start driver seat massage",
         "scene": "scene",
         "showlegend": true,
         "type": "scatter3d",
         "x": [
          5.270424333952919
         ],
         "y": [
          -6.634997177164216
         ],
         "z": [
          -3.2712928672181083
         ]
        },
        {
         "hovertemplate": "color=turn on the driver seat massage<br>0=%{x}<br>1=%{y}<br>2=%{z}<extra></extra>",
         "legendgroup": "turn on the driver seat massage",
         "marker": {
          "color": "#ab63fa",
          "symbol": "circle"
         },
         "mode": "markers",
         "name": "turn on the driver seat massage",
         "scene": "scene",
         "showlegend": true,
         "type": "scatter3d",
         "x": [
          9.509071935342076
         ],
         "y": [
          0.3763071670711063
         ],
         "z": [
          -0.9885535849039574
         ]
        },
        {
         "hovertemplate": "color=driver massage<br>0=%{x}<br>1=%{y}<br>2=%{z}<extra></extra>",
         "legendgroup": "driver massage",
         "marker": {
          "color": "#FFA15A",
          "symbol": "circle"
         },
         "mode": "markers",
         "name": "driver massage",
         "scene": "scene",
         "showlegend": true,
         "type": "scatter3d",
         "x": [
          3.667533570604314
         ],
         "y": [
          -10.659182970013758
         ],
         "z": [
          -4.225946511167791
         ]
        },
        {
         "hovertemplate": "color=turn on driver side seat massage<br>0=%{x}<br>1=%{y}<br>2=%{z}<extra></extra>",
         "legendgroup": "turn on driver side seat massage",
         "marker": {
          "color": "#19d3f3",
          "symbol": "circle"
         },
         "mode": "markers",
         "name": "turn on driver side seat massage",
         "scene": "scene",
         "showlegend": true,
         "type": "scatter3d",
         "x": [
          8.181676392889885
         ],
         "y": [
          1.473394058836183
         ],
         "z": [
          -1.4794937100430101
         ]
        },
        {
         "hovertemplate": "color=turn on massage for the back passenger side<br>0=%{x}<br>1=%{y}<br>2=%{z}<extra></extra>",
         "legendgroup": "turn on massage for the back passenger side",
         "marker": {
          "color": "#FF6692",
          "symbol": "circle"
         },
         "mode": "markers",
         "name": "turn on massage for the back passenger side",
         "scene": "scene",
         "showlegend": true,
         "type": "scatter3d",
         "x": [
          5.395578288197664
         ],
         "y": [
          -0.467547628190935
         ],
         "z": [
          0.5385209914662767
         ]
        },
        {
         "hovertemplate": "color=activate my seat massage<br>0=%{x}<br>1=%{y}<br>2=%{z}<extra></extra>",
         "legendgroup": "activate my seat massage",
         "marker": {
          "color": "#B6E880",
          "symbol": "circle"
         },
         "mode": "markers",
         "name": "activate my seat massage",
         "scene": "scene",
         "showlegend": true,
         "type": "scatter3d",
         "x": [
          -2.2197048770900087
         ],
         "y": [
          -3.4601505387655673
         ],
         "z": [
          3.0957991371112072
         ]
        },
        {
         "hovertemplate": "color=massage me<br>0=%{x}<br>1=%{y}<br>2=%{z}<extra></extra>",
         "legendgroup": "massage me",
         "marker": {
          "color": "#FF97FF",
          "symbol": "circle"
         },
         "mode": "markers",
         "name": "massage me",
         "scene": "scene",
         "showlegend": true,
         "type": "scatter3d",
         "x": [
          -15.484300628957488
         ],
         "y": [
          -9.247932811482181
         ],
         "z": [
          2.339160876943322
         ]
        },
        {
         "hovertemplate": "color=turn on my massager<br>0=%{x}<br>1=%{y}<br>2=%{z}<extra></extra>",
         "legendgroup": "turn on my massager",
         "marker": {
          "color": "#FECB52",
          "symbol": "circle"
         },
         "mode": "markers",
         "name": "turn on my massager",
         "scene": "scene",
         "showlegend": true,
         "type": "scatter3d",
         "x": [
          -8.19355045931084
         ],
         "y": [
          9.963069527397218
         ],
         "z": [
          6.868749605056108
         ]
        },
        {
         "hovertemplate": "color=turn on on the driver seat massage<br>0=%{x}<br>1=%{y}<br>2=%{z}<extra></extra>",
         "legendgroup": "turn on on the driver seat massage",
         "marker": {
          "color": "#636efa",
          "symbol": "circle"
         },
         "mode": "markers",
         "name": "turn on on the driver seat massage",
         "scene": "scene",
         "showlegend": true,
         "type": "scatter3d",
         "x": [
          9.283664928440048
         ],
         "y": [
          2.7677794914925693
         ],
         "z": [
          -0.6330313179416314
         ]
        },
        {
         "hovertemplate": "color=turn on massage for the back driver seat<br>0=%{x}<br>1=%{y}<br>2=%{z}<extra></extra>",
         "legendgroup": "turn on massage for the back driver seat",
         "marker": {
          "color": "#EF553B",
          "symbol": "circle"
         },
         "mode": "markers",
         "name": "turn on massage for the back driver seat",
         "scene": "scene",
         "showlegend": true,
         "type": "scatter3d",
         "x": [
          6.04120955830951
         ],
         "y": [
          0.1938871430770628
         ],
         "z": [
          0.12032395226683106
         ]
        },
        {
         "hovertemplate": "color=turn on all massage<br>0=%{x}<br>1=%{y}<br>2=%{z}<extra></extra>",
         "legendgroup": "turn on all massage",
         "marker": {
          "color": "#00cc96",
          "symbol": "circle"
         },
         "mode": "markers",
         "name": "turn on all massage",
         "scene": "scene",
         "showlegend": true,
         "type": "scatter3d",
         "x": [
          -5.82343897241193
         ],
         "y": [
          9.184087606255046
         ],
         "z": [
          4.980867216263732
         ]
        },
        {
         "hovertemplate": "color=passenger massage<br>0=%{x}<br>1=%{y}<br>2=%{z}<extra></extra>",
         "legendgroup": "passenger massage",
         "marker": {
          "color": "#ab63fa",
          "symbol": "circle"
         },
         "mode": "markers",
         "name": "passenger massage",
         "scene": "scene",
         "showlegend": true,
         "type": "scatter3d",
         "x": [
          5.874241600313681
         ],
         "y": [
          -14.920930520479576
         ],
         "z": [
          0.5794228032602712
         ]
        },
        {
         "hovertemplate": "color=turn on front passenger massage<br>0=%{x}<br>1=%{y}<br>2=%{z}<extra></extra>",
         "legendgroup": "turn on front passenger massage",
         "marker": {
          "color": "#FFA15A",
          "symbol": "circle"
         },
         "mode": "markers",
         "name": "turn on front passenger massage",
         "scene": "scene",
         "showlegend": true,
         "type": "scatter3d",
         "x": [
          6.924858400528767
         ],
         "y": [
          -1.160105912365148
         ],
         "z": [
          1.7691386672985325
         ]
        },
        {
         "hovertemplate": "color=on passenger massage<br>0=%{x}<br>1=%{y}<br>2=%{z}<extra></extra>",
         "legendgroup": "on passenger massage",
         "marker": {
          "color": "#19d3f3",
          "symbol": "circle"
         },
         "mode": "markers",
         "name": "on passenger massage",
         "scene": "scene",
         "showlegend": true,
         "type": "scatter3d",
         "x": [
          6.671323836112369
         ],
         "y": [
          -13.12639421756331
         ],
         "z": [
          2.3764443223752814
         ]
        },
        {
         "hovertemplate": "color=turn on driver 's seat massage<br>0=%{x}<br>1=%{y}<br>2=%{z}<extra></extra>",
         "legendgroup": "turn on driver 's seat massage",
         "marker": {
          "color": "#FF6692",
          "symbol": "circle"
         },
         "mode": "markers",
         "name": "turn on driver 's seat massage",
         "scene": "scene",
         "showlegend": true,
         "type": "scatter3d",
         "x": [
          8.829735981392671
         ],
         "y": [
          0.5339617552021357
         ],
         "z": [
          -0.5153356460215294
         ]
        },
        {
         "hovertemplate": "color=start back<br>0=%{x}<br>1=%{y}<br>2=%{z}<extra></extra>",
         "legendgroup": "start back",
         "marker": {
          "color": "#B6E880",
          "symbol": "circle"
         },
         "mode": "markers",
         "name": "start back",
         "scene": "scene",
         "showlegend": true,
         "type": "scatter3d",
         "x": [
          -16.324626909937635
         ],
         "y": [
          -1.7518482172783831
         ],
         "z": [
          -17.972888307975182
         ]
        },
        {
         "hovertemplate": "color=activate my massage<br>0=%{x}<br>1=%{y}<br>2=%{z}<extra></extra>",
         "legendgroup": "activate my massage",
         "marker": {
          "color": "#FF97FF",
          "symbol": "circle"
         },
         "mode": "markers",
         "name": "activate my massage",
         "scene": "scene",
         "showlegend": true,
         "type": "scatter3d",
         "x": [
          -14.264068327952893
         ],
         "y": [
          -0.10298504887039829
         ],
         "z": [
          5.735221022650391
         ]
        },
        {
         "hovertemplate": "color=massage my back<br>0=%{x}<br>1=%{y}<br>2=%{z}<extra></extra>",
         "legendgroup": "massage my back",
         "marker": {
          "color": "#FECB52",
          "symbol": "circle"
         },
         "mode": "markers",
         "name": "massage my back",
         "scene": "scene",
         "showlegend": true,
         "type": "scatter3d",
         "x": [
          -13.81459611011876
         ],
         "y": [
          -9.990575895038683
         ],
         "z": [
          1.672879939259638
         ]
        }
       ],
       "layout": {
        "legend": {
         "title": {
          "text": "color"
         },
         "tracegroupgap": 0
        },
        "margin": {
         "t": 60
        },
        "scene": {
         "domain": {
          "x": [
           0,
           1
          ],
          "y": [
           0,
           1
          ]
         },
         "xaxis": {
          "title": {
           "text": "0"
          }
         },
         "yaxis": {
          "title": {
           "text": "1"
          }
         },
         "zaxis": {
          "title": {
           "text": "2"
          }
         }
        },
        "template": {
         "data": {
          "bar": [
           {
            "error_x": {
             "color": "#2a3f5f"
            },
            "error_y": {
             "color": "#2a3f5f"
            },
            "marker": {
             "line": {
              "color": "#E5ECF6",
              "width": 0.5
             },
             "pattern": {
              "fillmode": "overlay",
              "size": 10,
              "solidity": 0.2
             }
            },
            "type": "bar"
           }
          ],
          "barpolar": [
           {
            "marker": {
             "line": {
              "color": "#E5ECF6",
              "width": 0.5
             },
             "pattern": {
              "fillmode": "overlay",
              "size": 10,
              "solidity": 0.2
             }
            },
            "type": "barpolar"
           }
          ],
          "carpet": [
           {
            "aaxis": {
             "endlinecolor": "#2a3f5f",
             "gridcolor": "white",
             "linecolor": "white",
             "minorgridcolor": "white",
             "startlinecolor": "#2a3f5f"
            },
            "baxis": {
             "endlinecolor": "#2a3f5f",
             "gridcolor": "white",
             "linecolor": "white",
             "minorgridcolor": "white",
             "startlinecolor": "#2a3f5f"
            },
            "type": "carpet"
           }
          ],
          "choropleth": [
           {
            "colorbar": {
             "outlinewidth": 0,
             "ticks": ""
            },
            "type": "choropleth"
           }
          ],
          "contour": [
           {
            "colorbar": {
             "outlinewidth": 0,
             "ticks": ""
            },
            "colorscale": [
             [
              0,
              "#0d0887"
             ],
             [
              0.1111111111111111,
              "#46039f"
             ],
             [
              0.2222222222222222,
              "#7201a8"
             ],
             [
              0.3333333333333333,
              "#9c179e"
             ],
             [
              0.4444444444444444,
              "#bd3786"
             ],
             [
              0.5555555555555556,
              "#d8576b"
             ],
             [
              0.6666666666666666,
              "#ed7953"
             ],
             [
              0.7777777777777778,
              "#fb9f3a"
             ],
             [
              0.8888888888888888,
              "#fdca26"
             ],
             [
              1,
              "#f0f921"
             ]
            ],
            "type": "contour"
           }
          ],
          "contourcarpet": [
           {
            "colorbar": {
             "outlinewidth": 0,
             "ticks": ""
            },
            "type": "contourcarpet"
           }
          ],
          "heatmap": [
           {
            "colorbar": {
             "outlinewidth": 0,
             "ticks": ""
            },
            "colorscale": [
             [
              0,
              "#0d0887"
             ],
             [
              0.1111111111111111,
              "#46039f"
             ],
             [
              0.2222222222222222,
              "#7201a8"
             ],
             [
              0.3333333333333333,
              "#9c179e"
             ],
             [
              0.4444444444444444,
              "#bd3786"
             ],
             [
              0.5555555555555556,
              "#d8576b"
             ],
             [
              0.6666666666666666,
              "#ed7953"
             ],
             [
              0.7777777777777778,
              "#fb9f3a"
             ],
             [
              0.8888888888888888,
              "#fdca26"
             ],
             [
              1,
              "#f0f921"
             ]
            ],
            "type": "heatmap"
           }
          ],
          "heatmapgl": [
           {
            "colorbar": {
             "outlinewidth": 0,
             "ticks": ""
            },
            "colorscale": [
             [
              0,
              "#0d0887"
             ],
             [
              0.1111111111111111,
              "#46039f"
             ],
             [
              0.2222222222222222,
              "#7201a8"
             ],
             [
              0.3333333333333333,
              "#9c179e"
             ],
             [
              0.4444444444444444,
              "#bd3786"
             ],
             [
              0.5555555555555556,
              "#d8576b"
             ],
             [
              0.6666666666666666,
              "#ed7953"
             ],
             [
              0.7777777777777778,
              "#fb9f3a"
             ],
             [
              0.8888888888888888,
              "#fdca26"
             ],
             [
              1,
              "#f0f921"
             ]
            ],
            "type": "heatmapgl"
           }
          ],
          "histogram": [
           {
            "marker": {
             "pattern": {
              "fillmode": "overlay",
              "size": 10,
              "solidity": 0.2
             }
            },
            "type": "histogram"
           }
          ],
          "histogram2d": [
           {
            "colorbar": {
             "outlinewidth": 0,
             "ticks": ""
            },
            "colorscale": [
             [
              0,
              "#0d0887"
             ],
             [
              0.1111111111111111,
              "#46039f"
             ],
             [
              0.2222222222222222,
              "#7201a8"
             ],
             [
              0.3333333333333333,
              "#9c179e"
             ],
             [
              0.4444444444444444,
              "#bd3786"
             ],
             [
              0.5555555555555556,
              "#d8576b"
             ],
             [
              0.6666666666666666,
              "#ed7953"
             ],
             [
              0.7777777777777778,
              "#fb9f3a"
             ],
             [
              0.8888888888888888,
              "#fdca26"
             ],
             [
              1,
              "#f0f921"
             ]
            ],
            "type": "histogram2d"
           }
          ],
          "histogram2dcontour": [
           {
            "colorbar": {
             "outlinewidth": 0,
             "ticks": ""
            },
            "colorscale": [
             [
              0,
              "#0d0887"
             ],
             [
              0.1111111111111111,
              "#46039f"
             ],
             [
              0.2222222222222222,
              "#7201a8"
             ],
             [
              0.3333333333333333,
              "#9c179e"
             ],
             [
              0.4444444444444444,
              "#bd3786"
             ],
             [
              0.5555555555555556,
              "#d8576b"
             ],
             [
              0.6666666666666666,
              "#ed7953"
             ],
             [
              0.7777777777777778,
              "#fb9f3a"
             ],
             [
              0.8888888888888888,
              "#fdca26"
             ],
             [
              1,
              "#f0f921"
             ]
            ],
            "type": "histogram2dcontour"
           }
          ],
          "mesh3d": [
           {
            "colorbar": {
             "outlinewidth": 0,
             "ticks": ""
            },
            "type": "mesh3d"
           }
          ],
          "parcoords": [
           {
            "line": {
             "colorbar": {
              "outlinewidth": 0,
              "ticks": ""
             }
            },
            "type": "parcoords"
           }
          ],
          "pie": [
           {
            "automargin": true,
            "type": "pie"
           }
          ],
          "scatter": [
           {
            "fillpattern": {
             "fillmode": "overlay",
             "size": 10,
             "solidity": 0.2
            },
            "type": "scatter"
           }
          ],
          "scatter3d": [
           {
            "line": {
             "colorbar": {
              "outlinewidth": 0,
              "ticks": ""
             }
            },
            "marker": {
             "colorbar": {
              "outlinewidth": 0,
              "ticks": ""
             }
            },
            "type": "scatter3d"
           }
          ],
          "scattercarpet": [
           {
            "marker": {
             "colorbar": {
              "outlinewidth": 0,
              "ticks": ""
             }
            },
            "type": "scattercarpet"
           }
          ],
          "scattergeo": [
           {
            "marker": {
             "colorbar": {
              "outlinewidth": 0,
              "ticks": ""
             }
            },
            "type": "scattergeo"
           }
          ],
          "scattergl": [
           {
            "marker": {
             "colorbar": {
              "outlinewidth": 0,
              "ticks": ""
             }
            },
            "type": "scattergl"
           }
          ],
          "scattermapbox": [
           {
            "marker": {
             "colorbar": {
              "outlinewidth": 0,
              "ticks": ""
             }
            },
            "type": "scattermapbox"
           }
          ],
          "scatterpolar": [
           {
            "marker": {
             "colorbar": {
              "outlinewidth": 0,
              "ticks": ""
             }
            },
            "type": "scatterpolar"
           }
          ],
          "scatterpolargl": [
           {
            "marker": {
             "colorbar": {
              "outlinewidth": 0,
              "ticks": ""
             }
            },
            "type": "scatterpolargl"
           }
          ],
          "scatterternary": [
           {
            "marker": {
             "colorbar": {
              "outlinewidth": 0,
              "ticks": ""
             }
            },
            "type": "scatterternary"
           }
          ],
          "surface": [
           {
            "colorbar": {
             "outlinewidth": 0,
             "ticks": ""
            },
            "colorscale": [
             [
              0,
              "#0d0887"
             ],
             [
              0.1111111111111111,
              "#46039f"
             ],
             [
              0.2222222222222222,
              "#7201a8"
             ],
             [
              0.3333333333333333,
              "#9c179e"
             ],
             [
              0.4444444444444444,
              "#bd3786"
             ],
             [
              0.5555555555555556,
              "#d8576b"
             ],
             [
              0.6666666666666666,
              "#ed7953"
             ],
             [
              0.7777777777777778,
              "#fb9f3a"
             ],
             [
              0.8888888888888888,
              "#fdca26"
             ],
             [
              1,
              "#f0f921"
             ]
            ],
            "type": "surface"
           }
          ],
          "table": [
           {
            "cells": {
             "fill": {
              "color": "#EBF0F8"
             },
             "line": {
              "color": "white"
             }
            },
            "header": {
             "fill": {
              "color": "#C8D4E3"
             },
             "line": {
              "color": "white"
             }
            },
            "type": "table"
           }
          ]
         },
         "layout": {
          "annotationdefaults": {
           "arrowcolor": "#2a3f5f",
           "arrowhead": 0,
           "arrowwidth": 1
          },
          "autotypenumbers": "strict",
          "coloraxis": {
           "colorbar": {
            "outlinewidth": 0,
            "ticks": ""
           }
          },
          "colorscale": {
           "diverging": [
            [
             0,
             "#8e0152"
            ],
            [
             0.1,
             "#c51b7d"
            ],
            [
             0.2,
             "#de77ae"
            ],
            [
             0.3,
             "#f1b6da"
            ],
            [
             0.4,
             "#fde0ef"
            ],
            [
             0.5,
             "#f7f7f7"
            ],
            [
             0.6,
             "#e6f5d0"
            ],
            [
             0.7,
             "#b8e186"
            ],
            [
             0.8,
             "#7fbc41"
            ],
            [
             0.9,
             "#4d9221"
            ],
            [
             1,
             "#276419"
            ]
           ],
           "sequential": [
            [
             0,
             "#0d0887"
            ],
            [
             0.1111111111111111,
             "#46039f"
            ],
            [
             0.2222222222222222,
             "#7201a8"
            ],
            [
             0.3333333333333333,
             "#9c179e"
            ],
            [
             0.4444444444444444,
             "#bd3786"
            ],
            [
             0.5555555555555556,
             "#d8576b"
            ],
            [
             0.6666666666666666,
             "#ed7953"
            ],
            [
             0.7777777777777778,
             "#fb9f3a"
            ],
            [
             0.8888888888888888,
             "#fdca26"
            ],
            [
             1,
             "#f0f921"
            ]
           ],
           "sequentialminus": [
            [
             0,
             "#0d0887"
            ],
            [
             0.1111111111111111,
             "#46039f"
            ],
            [
             0.2222222222222222,
             "#7201a8"
            ],
            [
             0.3333333333333333,
             "#9c179e"
            ],
            [
             0.4444444444444444,
             "#bd3786"
            ],
            [
             0.5555555555555556,
             "#d8576b"
            ],
            [
             0.6666666666666666,
             "#ed7953"
            ],
            [
             0.7777777777777778,
             "#fb9f3a"
            ],
            [
             0.8888888888888888,
             "#fdca26"
            ],
            [
             1,
             "#f0f921"
            ]
           ]
          },
          "colorway": [
           "#636efa",
           "#EF553B",
           "#00cc96",
           "#ab63fa",
           "#FFA15A",
           "#19d3f3",
           "#FF6692",
           "#B6E880",
           "#FF97FF",
           "#FECB52"
          ],
          "font": {
           "color": "#2a3f5f"
          },
          "geo": {
           "bgcolor": "white",
           "lakecolor": "white",
           "landcolor": "#E5ECF6",
           "showlakes": true,
           "showland": true,
           "subunitcolor": "white"
          },
          "hoverlabel": {
           "align": "left"
          },
          "hovermode": "closest",
          "mapbox": {
           "style": "light"
          },
          "paper_bgcolor": "white",
          "plot_bgcolor": "#E5ECF6",
          "polar": {
           "angularaxis": {
            "gridcolor": "white",
            "linecolor": "white",
            "ticks": ""
           },
           "bgcolor": "#E5ECF6",
           "radialaxis": {
            "gridcolor": "white",
            "linecolor": "white",
            "ticks": ""
           }
          },
          "scene": {
           "xaxis": {
            "backgroundcolor": "#E5ECF6",
            "gridcolor": "white",
            "gridwidth": 2,
            "linecolor": "white",
            "showbackground": true,
            "ticks": "",
            "zerolinecolor": "white"
           },
           "yaxis": {
            "backgroundcolor": "#E5ECF6",
            "gridcolor": "white",
            "gridwidth": 2,
            "linecolor": "white",
            "showbackground": true,
            "ticks": "",
            "zerolinecolor": "white"
           },
           "zaxis": {
            "backgroundcolor": "#E5ECF6",
            "gridcolor": "white",
            "gridwidth": 2,
            "linecolor": "white",
            "showbackground": true,
            "ticks": "",
            "zerolinecolor": "white"
           }
          },
          "shapedefaults": {
           "line": {
            "color": "#2a3f5f"
           }
          },
          "ternary": {
           "aaxis": {
            "gridcolor": "white",
            "linecolor": "white",
            "ticks": ""
           },
           "baxis": {
            "gridcolor": "white",
            "linecolor": "white",
            "ticks": ""
           },
           "bgcolor": "#E5ECF6",
           "caxis": {
            "gridcolor": "white",
            "linecolor": "white",
            "ticks": ""
           }
          },
          "title": {
           "x": 0.05
          },
          "xaxis": {
           "automargin": true,
           "gridcolor": "white",
           "linecolor": "white",
           "ticks": "",
           "title": {
            "standoff": 15
           },
           "zerolinecolor": "white",
           "zerolinewidth": 2
          },
          "yaxis": {
           "automargin": true,
           "gridcolor": "white",
           "linecolor": "white",
           "ticks": "",
           "title": {
            "standoff": 15
           },
           "zerolinecolor": "white",
           "zerolinewidth": 2
          }
         }
        }
       }
      },
      "text/html": [
       "<div>                            <div id=\"5c019643-e1a3-49d0-a53a-873f97b48317\" class=\"plotly-graph-div\" style=\"height:525px; width:100%;\"></div>            <script type=\"text/javascript\">                require([\"plotly\"], function(Plotly) {                    window.PLOTLYENV=window.PLOTLYENV || {};                                    if (document.getElementById(\"5c019643-e1a3-49d0-a53a-873f97b48317\")) {                    Plotly.newPlot(                        \"5c019643-e1a3-49d0-a53a-873f97b48317\",                        [{\"hovertemplate\":\"color=hand gestures\\u003cbr\\u003e0=%{x}\\u003cbr\\u003e1=%{y}\\u003cbr\\u003e2=%{z}\\u003cextra\\u003e\\u003c\\u002fextra\\u003e\",\"legendgroup\":\"hand gestures\",\"marker\":{\"color\":\"#636efa\",\"symbol\":\"circle\"},\"mode\":\"markers\",\"name\":\"hand gestures\",\"scene\":\"scene\",\"showlegend\":true,\"x\":[-11.747218214319465],\"y\":[-5.879646677431797],\"z\":[-17.583576888279236],\"type\":\"scatter3d\"},{\"hovertemplate\":\"color=start seat massage\\u003cbr\\u003e0=%{x}\\u003cbr\\u003e1=%{y}\\u003cbr\\u003e2=%{z}\\u003cextra\\u003e\\u003c\\u002fextra\\u003e\",\"legendgroup\":\"start seat massage\",\"marker\":{\"color\":\"#EF553B\",\"symbol\":\"circle\"},\"mode\":\"markers\",\"name\":\"start seat massage\",\"scene\":\"scene\",\"showlegend\":true,\"x\":[-0.49807283290900894],\"y\":[-5.725792409262003],\"z\":[0.5534591365293717],\"type\":\"scatter3d\"},{\"hovertemplate\":\"color=passenger seat massage\\u003cbr\\u003e0=%{x}\\u003cbr\\u003e1=%{y}\\u003cbr\\u003e2=%{z}\\u003cextra\\u003e\\u003c\\u002fextra\\u003e\",\"legendgroup\":\"passenger seat massage\",\"marker\":{\"color\":\"#00cc96\",\"symbol\":\"circle\"},\"mode\":\"markers\",\"name\":\"passenger seat massage\",\"scene\":\"scene\",\"showlegend\":true,\"x\":[8.851339837489995],\"y\":[-12.893408874121205],\"z\":[0.5454888371881084],\"type\":\"scatter3d\"},{\"hovertemplate\":\"color=turn on massager\\u003cbr\\u003e0=%{x}\\u003cbr\\u003e1=%{y}\\u003cbr\\u003e2=%{z}\\u003cextra\\u003e\\u003c\\u002fextra\\u003e\",\"legendgroup\":\"turn on massager\",\"marker\":{\"color\":\"#ab63fa\",\"symbol\":\"circle\"},\"mode\":\"markers\",\"name\":\"turn on massager\",\"scene\":\"scene\",\"showlegend\":true,\"x\":[-6.737451331297952],\"y\":[10.228172792041887],\"z\":[5.280277327874055],\"type\":\"scatter3d\"},{\"hovertemplate\":\"color=turn on the seat massage\\u003cbr\\u003e0=%{x}\\u003cbr\\u003e1=%{y}\\u003cbr\\u003e2=%{z}\\u003cextra\\u003e\\u003c\\u002fextra\\u003e\",\"legendgroup\":\"turn on the seat massage\",\"marker\":{\"color\":\"#FFA15A\",\"symbol\":\"circle\"},\"mode\":\"markers\",\"name\":\"turn on the seat massage\",\"scene\":\"scene\",\"showlegend\":true,\"x\":[4.632854678032058],\"y\":[2.511845432119705],\"z\":[3.6698748118917366],\"type\":\"scatter3d\"},{\"hovertemplate\":\"color=turn on seat massager\\u003cbr\\u003e0=%{x}\\u003cbr\\u003e1=%{y}\\u003cbr\\u003e2=%{z}\\u003cextra\\u003e\\u003c\\u002fextra\\u003e\",\"legendgroup\":\"turn on seat massager\",\"marker\":{\"color\":\"#19d3f3\",\"symbol\":\"circle\"},\"mode\":\"markers\",\"name\":\"turn on seat massager\",\"scene\":\"scene\",\"showlegend\":true,\"x\":[4.421108689583849],\"y\":[4.689730573677369],\"z\":[4.55003187838643],\"type\":\"scatter3d\"},{\"hovertemplate\":\"color=activate lumbar massage\\u003cbr\\u003e0=%{x}\\u003cbr\\u003e1=%{y}\\u003cbr\\u003e2=%{z}\\u003cextra\\u003e\\u003c\\u002fextra\\u003e\",\"legendgroup\":\"activate lumbar massage\",\"marker\":{\"color\":\"#FF6692\",\"symbol\":\"circle\"},\"mode\":\"markers\",\"name\":\"activate lumbar massage\",\"scene\":\"scene\",\"showlegend\":true,\"x\":[-10.987701094493106],\"y\":[0.2266985611022605],\"z\":[5.150248869823493],\"type\":\"scatter3d\"},{\"hovertemplate\":\"color=turn on massage for the back passenger\\u003cbr\\u003e0=%{x}\\u003cbr\\u003e1=%{y}\\u003cbr\\u003e2=%{z}\\u003cextra\\u003e\\u003c\\u002fextra\\u003e\",\"legendgroup\":\"turn on massage for the back passenger\",\"marker\":{\"color\":\"#B6E880\",\"symbol\":\"circle\"},\"mode\":\"markers\",\"name\":\"turn on massage for the back passenger\",\"scene\":\"scene\",\"showlegend\":true,\"x\":[4.609182456336596],\"y\":[-1.8313601124357086],\"z\":[1.3597379922902821],\"type\":\"scatter3d\"},{\"hovertemplate\":\"color=turn on passenger massage seat\\u003cbr\\u003e0=%{x}\\u003cbr\\u003e1=%{y}\\u003cbr\\u003e2=%{z}\\u003cextra\\u003e\\u003c\\u002fextra\\u003e\",\"legendgroup\":\"turn on passenger massage seat\",\"marker\":{\"color\":\"#FF97FF\",\"symbol\":\"circle\"},\"mode\":\"markers\",\"name\":\"turn on passenger massage seat\",\"scene\":\"scene\",\"showlegend\":true,\"x\":[9.243444686600412],\"y\":[1.4216222990609515],\"z\":[2.542301645902441],\"type\":\"scatter3d\"},{\"hovertemplate\":\"color=turn on the passenger massage\\u003cbr\\u003e0=%{x}\\u003cbr\\u003e1=%{y}\\u003cbr\\u003e2=%{z}\\u003cextra\\u003e\\u003c\\u002fextra\\u003e\",\"legendgroup\":\"turn on the passenger massage\",\"marker\":{\"color\":\"#FECB52\",\"symbol\":\"circle\"},\"mode\":\"markers\",\"name\":\"turn on the passenger massage\",\"scene\":\"scene\",\"showlegend\":true,\"x\":[7.931412651323907],\"y\":[-1.0648051311045041],\"z\":[2.1307834630036924],\"type\":\"scatter3d\"},{\"hovertemplate\":\"color=turn on my seat\\u003cbr\\u003e0=%{x}\\u003cbr\\u003e1=%{y}\\u003cbr\\u003e2=%{z}\\u003cextra\\u003e\\u003c\\u002fextra\\u003e\",\"legendgroup\":\"turn on my seat\",\"marker\":{\"color\":\"#636efa\",\"symbol\":\"circle\"},\"mode\":\"markers\",\"name\":\"turn on my seat\",\"scene\":\"scene\",\"showlegend\":true,\"x\":[2.932723069946229],\"y\":[6.3101280387637795],\"z\":[-7.349720178892966],\"type\":\"scatter3d\"},{\"hovertemplate\":\"color=turn massage on\\u003cbr\\u003e0=%{x}\\u003cbr\\u003e1=%{y}\\u003cbr\\u003e2=%{z}\\u003cextra\\u003e\\u003c\\u002fextra\\u003e\",\"legendgroup\":\"turn massage on\",\"marker\":{\"color\":\"#EF553B\",\"symbol\":\"circle\"},\"mode\":\"markers\",\"name\":\"turn massage on\",\"scene\":\"scene\",\"showlegend\":true,\"x\":[-5.403653885526837],\"y\":[9.112408341154504],\"z\":[4.80283281991124],\"type\":\"scatter3d\"},{\"hovertemplate\":\"color=turn on lumbar massage\\u003cbr\\u003e0=%{x}\\u003cbr\\u003e1=%{y}\\u003cbr\\u003e2=%{z}\\u003cextra\\u003e\\u003c\\u002fextra\\u003e\",\"legendgroup\":\"turn on lumbar massage\",\"marker\":{\"color\":\"#00cc96\",\"symbol\":\"circle\"},\"mode\":\"markers\",\"name\":\"turn on lumbar massage\",\"scene\":\"scene\",\"showlegend\":true,\"x\":[-6.244764385820924],\"y\":[6.790380675517424],\"z\":[6.000850950998031],\"type\":\"scatter3d\"},{\"hovertemplate\":\"color=turn on driver massage seat\\u003cbr\\u003e0=%{x}\\u003cbr\\u003e1=%{y}\\u003cbr\\u003e2=%{z}\\u003cextra\\u003e\\u003c\\u002fextra\\u003e\",\"legendgroup\":\"turn on driver massage seat\",\"marker\":{\"color\":\"#ab63fa\",\"symbol\":\"circle\"},\"mode\":\"markers\",\"name\":\"turn on driver massage seat\",\"scene\":\"scene\",\"showlegend\":true,\"x\":[8.259107325288157],\"y\":[3.3445734764948467],\"z\":[0.35892650205624094],\"type\":\"scatter3d\"},{\"hovertemplate\":\"color=turn on massaging seats\\u003cbr\\u003e0=%{x}\\u003cbr\\u003e1=%{y}\\u003cbr\\u003e2=%{z}\\u003cextra\\u003e\\u003c\\u002fextra\\u003e\",\"legendgroup\":\"turn on massaging seats\",\"marker\":{\"color\":\"#FFA15A\",\"symbol\":\"circle\"},\"mode\":\"markers\",\"name\":\"turn on massaging seats\",\"scene\":\"scene\",\"showlegend\":true,\"x\":[3.392306925465625],\"y\":[0.8319461019346346],\"z\":[-0.6182465547457076],\"type\":\"scatter3d\"},{\"hovertemplate\":\"color=turn on my massage seats\\u003cbr\\u003e0=%{x}\\u003cbr\\u003e1=%{y}\\u003cbr\\u003e2=%{z}\\u003cextra\\u003e\\u003c\\u002fextra\\u003e\",\"legendgroup\":\"turn on my massage seats\",\"marker\":{\"color\":\"#19d3f3\",\"symbol\":\"circle\"},\"mode\":\"markers\",\"name\":\"turn on my massage seats\",\"scene\":\"scene\",\"showlegend\":true,\"x\":[1.9017170290863377],\"y\":[4.005519584376964],\"z\":[4.571869699056427],\"type\":\"scatter3d\"},{\"hovertemplate\":\"color=turn on on the driver massage\\u003cbr\\u003e0=%{x}\\u003cbr\\u003e1=%{y}\\u003cbr\\u003e2=%{z}\\u003cextra\\u003e\\u003c\\u002fextra\\u003e\",\"legendgroup\":\"turn on on the driver massage\",\"marker\":{\"color\":\"#FF6692\",\"symbol\":\"circle\"},\"mode\":\"markers\",\"name\":\"turn on on the driver massage\",\"scene\":\"scene\",\"showlegend\":true,\"x\":[6.216769470539192],\"y\":[4.024664689553228],\"z\":[-1.0504311807496423],\"type\":\"scatter3d\"},{\"hovertemplate\":\"color=give me a massage\\u003cbr\\u003e0=%{x}\\u003cbr\\u003e1=%{y}\\u003cbr\\u003e2=%{z}\\u003cextra\\u003e\\u003c\\u002fextra\\u003e\",\"legendgroup\":\"give me a massage\",\"marker\":{\"color\":\"#B6E880\",\"symbol\":\"circle\"},\"mode\":\"markers\",\"name\":\"give me a massage\",\"scene\":\"scene\",\"showlegend\":true,\"x\":[-14.274909510943743],\"y\":[-5.668683342311474],\"z\":[3.265894142336302],\"type\":\"scatter3d\"},{\"hovertemplate\":\"color=start my massage\\u003cbr\\u003e0=%{x}\\u003cbr\\u003e1=%{y}\\u003cbr\\u003e2=%{z}\\u003cextra\\u003e\\u003c\\u002fextra\\u003e\",\"legendgroup\":\"start my massage\",\"marker\":{\"color\":\"#FF97FF\",\"symbol\":\"circle\"},\"mode\":\"markers\",\"name\":\"start my massage\",\"scene\":\"scene\",\"showlegend\":true,\"x\":[-15.265683120058961],\"y\":[-3.437314673756106],\"z\":[3.420722909056932],\"type\":\"scatter3d\"},{\"hovertemplate\":\"color=turn on the seat massager\\u003cbr\\u003e0=%{x}\\u003cbr\\u003e1=%{y}\\u003cbr\\u003e2=%{z}\\u003cextra\\u003e\\u003c\\u002fextra\\u003e\",\"legendgroup\":\"turn on the seat massager\",\"marker\":{\"color\":\"#FECB52\",\"symbol\":\"circle\"},\"mode\":\"markers\",\"name\":\"turn on the seat massager\",\"scene\":\"scene\",\"showlegend\":true,\"x\":[4.524038685923471],\"y\":[4.774603620087813],\"z\":[4.735596942393476],\"type\":\"scatter3d\"},{\"hovertemplate\":\"color=turn on driver seat\\u003cbr\\u003e0=%{x}\\u003cbr\\u003e1=%{y}\\u003cbr\\u003e2=%{z}\\u003cextra\\u003e\\u003c\\u002fextra\\u003e\",\"legendgroup\":\"turn on driver seat\",\"marker\":{\"color\":\"#636efa\",\"symbol\":\"circle\"},\"mode\":\"markers\",\"name\":\"turn on driver seat\",\"scene\":\"scene\",\"showlegend\":true,\"x\":[10.794181276161623],\"y\":[7.248850091920293],\"z\":[-14.224800780915105],\"type\":\"scatter3d\"},{\"hovertemplate\":\"color=can you turn on\\u003cbr\\u003e0=%{x}\\u003cbr\\u003e1=%{y}\\u003cbr\\u003e2=%{z}\\u003cextra\\u003e\\u003c\\u002fextra\\u003e\",\"legendgroup\":\"can you turn on\",\"marker\":{\"color\":\"#EF553B\",\"symbol\":\"circle\"},\"mode\":\"markers\",\"name\":\"can you turn on\",\"scene\":\"scene\",\"showlegend\":true,\"x\":[-6.0757649467118275],\"y\":[18.010031130497982],\"z\":[-13.102108933795979],\"type\":\"scatter3d\"},{\"hovertemplate\":\"color=start driver seat massage\\u003cbr\\u003e0=%{x}\\u003cbr\\u003e1=%{y}\\u003cbr\\u003e2=%{z}\\u003cextra\\u003e\\u003c\\u002fextra\\u003e\",\"legendgroup\":\"start driver seat massage\",\"marker\":{\"color\":\"#00cc96\",\"symbol\":\"circle\"},\"mode\":\"markers\",\"name\":\"start driver seat massage\",\"scene\":\"scene\",\"showlegend\":true,\"x\":[5.270424333952919],\"y\":[-6.634997177164216],\"z\":[-3.2712928672181083],\"type\":\"scatter3d\"},{\"hovertemplate\":\"color=turn on the driver seat massage\\u003cbr\\u003e0=%{x}\\u003cbr\\u003e1=%{y}\\u003cbr\\u003e2=%{z}\\u003cextra\\u003e\\u003c\\u002fextra\\u003e\",\"legendgroup\":\"turn on the driver seat massage\",\"marker\":{\"color\":\"#ab63fa\",\"symbol\":\"circle\"},\"mode\":\"markers\",\"name\":\"turn on the driver seat massage\",\"scene\":\"scene\",\"showlegend\":true,\"x\":[9.509071935342076],\"y\":[0.3763071670711063],\"z\":[-0.9885535849039574],\"type\":\"scatter3d\"},{\"hovertemplate\":\"color=driver massage\\u003cbr\\u003e0=%{x}\\u003cbr\\u003e1=%{y}\\u003cbr\\u003e2=%{z}\\u003cextra\\u003e\\u003c\\u002fextra\\u003e\",\"legendgroup\":\"driver massage\",\"marker\":{\"color\":\"#FFA15A\",\"symbol\":\"circle\"},\"mode\":\"markers\",\"name\":\"driver massage\",\"scene\":\"scene\",\"showlegend\":true,\"x\":[3.667533570604314],\"y\":[-10.659182970013758],\"z\":[-4.225946511167791],\"type\":\"scatter3d\"},{\"hovertemplate\":\"color=turn on driver side seat massage\\u003cbr\\u003e0=%{x}\\u003cbr\\u003e1=%{y}\\u003cbr\\u003e2=%{z}\\u003cextra\\u003e\\u003c\\u002fextra\\u003e\",\"legendgroup\":\"turn on driver side seat massage\",\"marker\":{\"color\":\"#19d3f3\",\"symbol\":\"circle\"},\"mode\":\"markers\",\"name\":\"turn on driver side seat massage\",\"scene\":\"scene\",\"showlegend\":true,\"x\":[8.181676392889885],\"y\":[1.473394058836183],\"z\":[-1.4794937100430101],\"type\":\"scatter3d\"},{\"hovertemplate\":\"color=turn on massage for the back passenger side\\u003cbr\\u003e0=%{x}\\u003cbr\\u003e1=%{y}\\u003cbr\\u003e2=%{z}\\u003cextra\\u003e\\u003c\\u002fextra\\u003e\",\"legendgroup\":\"turn on massage for the back passenger side\",\"marker\":{\"color\":\"#FF6692\",\"symbol\":\"circle\"},\"mode\":\"markers\",\"name\":\"turn on massage for the back passenger side\",\"scene\":\"scene\",\"showlegend\":true,\"x\":[5.395578288197664],\"y\":[-0.467547628190935],\"z\":[0.5385209914662767],\"type\":\"scatter3d\"},{\"hovertemplate\":\"color=activate my seat massage\\u003cbr\\u003e0=%{x}\\u003cbr\\u003e1=%{y}\\u003cbr\\u003e2=%{z}\\u003cextra\\u003e\\u003c\\u002fextra\\u003e\",\"legendgroup\":\"activate my seat massage\",\"marker\":{\"color\":\"#B6E880\",\"symbol\":\"circle\"},\"mode\":\"markers\",\"name\":\"activate my seat massage\",\"scene\":\"scene\",\"showlegend\":true,\"x\":[-2.2197048770900087],\"y\":[-3.4601505387655673],\"z\":[3.0957991371112072],\"type\":\"scatter3d\"},{\"hovertemplate\":\"color=massage me\\u003cbr\\u003e0=%{x}\\u003cbr\\u003e1=%{y}\\u003cbr\\u003e2=%{z}\\u003cextra\\u003e\\u003c\\u002fextra\\u003e\",\"legendgroup\":\"massage me\",\"marker\":{\"color\":\"#FF97FF\",\"symbol\":\"circle\"},\"mode\":\"markers\",\"name\":\"massage me\",\"scene\":\"scene\",\"showlegend\":true,\"x\":[-15.484300628957488],\"y\":[-9.247932811482181],\"z\":[2.339160876943322],\"type\":\"scatter3d\"},{\"hovertemplate\":\"color=turn on my massager\\u003cbr\\u003e0=%{x}\\u003cbr\\u003e1=%{y}\\u003cbr\\u003e2=%{z}\\u003cextra\\u003e\\u003c\\u002fextra\\u003e\",\"legendgroup\":\"turn on my massager\",\"marker\":{\"color\":\"#FECB52\",\"symbol\":\"circle\"},\"mode\":\"markers\",\"name\":\"turn on my massager\",\"scene\":\"scene\",\"showlegend\":true,\"x\":[-8.19355045931084],\"y\":[9.963069527397218],\"z\":[6.868749605056108],\"type\":\"scatter3d\"},{\"hovertemplate\":\"color=turn on on the driver seat massage\\u003cbr\\u003e0=%{x}\\u003cbr\\u003e1=%{y}\\u003cbr\\u003e2=%{z}\\u003cextra\\u003e\\u003c\\u002fextra\\u003e\",\"legendgroup\":\"turn on on the driver seat massage\",\"marker\":{\"color\":\"#636efa\",\"symbol\":\"circle\"},\"mode\":\"markers\",\"name\":\"turn on on the driver seat massage\",\"scene\":\"scene\",\"showlegend\":true,\"x\":[9.283664928440048],\"y\":[2.7677794914925693],\"z\":[-0.6330313179416314],\"type\":\"scatter3d\"},{\"hovertemplate\":\"color=turn on massage for the back driver seat\\u003cbr\\u003e0=%{x}\\u003cbr\\u003e1=%{y}\\u003cbr\\u003e2=%{z}\\u003cextra\\u003e\\u003c\\u002fextra\\u003e\",\"legendgroup\":\"turn on massage for the back driver seat\",\"marker\":{\"color\":\"#EF553B\",\"symbol\":\"circle\"},\"mode\":\"markers\",\"name\":\"turn on massage for the back driver seat\",\"scene\":\"scene\",\"showlegend\":true,\"x\":[6.04120955830951],\"y\":[0.1938871430770628],\"z\":[0.12032395226683106],\"type\":\"scatter3d\"},{\"hovertemplate\":\"color=turn on all massage\\u003cbr\\u003e0=%{x}\\u003cbr\\u003e1=%{y}\\u003cbr\\u003e2=%{z}\\u003cextra\\u003e\\u003c\\u002fextra\\u003e\",\"legendgroup\":\"turn on all massage\",\"marker\":{\"color\":\"#00cc96\",\"symbol\":\"circle\"},\"mode\":\"markers\",\"name\":\"turn on all massage\",\"scene\":\"scene\",\"showlegend\":true,\"x\":[-5.82343897241193],\"y\":[9.184087606255046],\"z\":[4.980867216263732],\"type\":\"scatter3d\"},{\"hovertemplate\":\"color=passenger massage\\u003cbr\\u003e0=%{x}\\u003cbr\\u003e1=%{y}\\u003cbr\\u003e2=%{z}\\u003cextra\\u003e\\u003c\\u002fextra\\u003e\",\"legendgroup\":\"passenger massage\",\"marker\":{\"color\":\"#ab63fa\",\"symbol\":\"circle\"},\"mode\":\"markers\",\"name\":\"passenger massage\",\"scene\":\"scene\",\"showlegend\":true,\"x\":[5.874241600313681],\"y\":[-14.920930520479576],\"z\":[0.5794228032602712],\"type\":\"scatter3d\"},{\"hovertemplate\":\"color=turn on front passenger massage\\u003cbr\\u003e0=%{x}\\u003cbr\\u003e1=%{y}\\u003cbr\\u003e2=%{z}\\u003cextra\\u003e\\u003c\\u002fextra\\u003e\",\"legendgroup\":\"turn on front passenger massage\",\"marker\":{\"color\":\"#FFA15A\",\"symbol\":\"circle\"},\"mode\":\"markers\",\"name\":\"turn on front passenger massage\",\"scene\":\"scene\",\"showlegend\":true,\"x\":[6.924858400528767],\"y\":[-1.160105912365148],\"z\":[1.7691386672985325],\"type\":\"scatter3d\"},{\"hovertemplate\":\"color=on passenger massage\\u003cbr\\u003e0=%{x}\\u003cbr\\u003e1=%{y}\\u003cbr\\u003e2=%{z}\\u003cextra\\u003e\\u003c\\u002fextra\\u003e\",\"legendgroup\":\"on passenger massage\",\"marker\":{\"color\":\"#19d3f3\",\"symbol\":\"circle\"},\"mode\":\"markers\",\"name\":\"on passenger massage\",\"scene\":\"scene\",\"showlegend\":true,\"x\":[6.671323836112369],\"y\":[-13.12639421756331],\"z\":[2.3764443223752814],\"type\":\"scatter3d\"},{\"hovertemplate\":\"color=turn on driver 's seat massage\\u003cbr\\u003e0=%{x}\\u003cbr\\u003e1=%{y}\\u003cbr\\u003e2=%{z}\\u003cextra\\u003e\\u003c\\u002fextra\\u003e\",\"legendgroup\":\"turn on driver 's seat massage\",\"marker\":{\"color\":\"#FF6692\",\"symbol\":\"circle\"},\"mode\":\"markers\",\"name\":\"turn on driver 's seat massage\",\"scene\":\"scene\",\"showlegend\":true,\"x\":[8.829735981392671],\"y\":[0.5339617552021357],\"z\":[-0.5153356460215294],\"type\":\"scatter3d\"},{\"hovertemplate\":\"color=start back\\u003cbr\\u003e0=%{x}\\u003cbr\\u003e1=%{y}\\u003cbr\\u003e2=%{z}\\u003cextra\\u003e\\u003c\\u002fextra\\u003e\",\"legendgroup\":\"start back\",\"marker\":{\"color\":\"#B6E880\",\"symbol\":\"circle\"},\"mode\":\"markers\",\"name\":\"start back\",\"scene\":\"scene\",\"showlegend\":true,\"x\":[-16.324626909937635],\"y\":[-1.7518482172783831],\"z\":[-17.972888307975182],\"type\":\"scatter3d\"},{\"hovertemplate\":\"color=activate my massage\\u003cbr\\u003e0=%{x}\\u003cbr\\u003e1=%{y}\\u003cbr\\u003e2=%{z}\\u003cextra\\u003e\\u003c\\u002fextra\\u003e\",\"legendgroup\":\"activate my massage\",\"marker\":{\"color\":\"#FF97FF\",\"symbol\":\"circle\"},\"mode\":\"markers\",\"name\":\"activate my massage\",\"scene\":\"scene\",\"showlegend\":true,\"x\":[-14.264068327952893],\"y\":[-0.10298504887039829],\"z\":[5.735221022650391],\"type\":\"scatter3d\"},{\"hovertemplate\":\"color=massage my back\\u003cbr\\u003e0=%{x}\\u003cbr\\u003e1=%{y}\\u003cbr\\u003e2=%{z}\\u003cextra\\u003e\\u003c\\u002fextra\\u003e\",\"legendgroup\":\"massage my back\",\"marker\":{\"color\":\"#FECB52\",\"symbol\":\"circle\"},\"mode\":\"markers\",\"name\":\"massage my back\",\"scene\":\"scene\",\"showlegend\":true,\"x\":[-13.81459611011876],\"y\":[-9.990575895038683],\"z\":[1.672879939259638],\"type\":\"scatter3d\"}],                        {\"template\":{\"data\":{\"histogram2dcontour\":[{\"type\":\"histogram2dcontour\",\"colorbar\":{\"outlinewidth\":0,\"ticks\":\"\"},\"colorscale\":[[0.0,\"#0d0887\"],[0.1111111111111111,\"#46039f\"],[0.2222222222222222,\"#7201a8\"],[0.3333333333333333,\"#9c179e\"],[0.4444444444444444,\"#bd3786\"],[0.5555555555555556,\"#d8576b\"],[0.6666666666666666,\"#ed7953\"],[0.7777777777777778,\"#fb9f3a\"],[0.8888888888888888,\"#fdca26\"],[1.0,\"#f0f921\"]]}],\"choropleth\":[{\"type\":\"choropleth\",\"colorbar\":{\"outlinewidth\":0,\"ticks\":\"\"}}],\"histogram2d\":[{\"type\":\"histogram2d\",\"colorbar\":{\"outlinewidth\":0,\"ticks\":\"\"},\"colorscale\":[[0.0,\"#0d0887\"],[0.1111111111111111,\"#46039f\"],[0.2222222222222222,\"#7201a8\"],[0.3333333333333333,\"#9c179e\"],[0.4444444444444444,\"#bd3786\"],[0.5555555555555556,\"#d8576b\"],[0.6666666666666666,\"#ed7953\"],[0.7777777777777778,\"#fb9f3a\"],[0.8888888888888888,\"#fdca26\"],[1.0,\"#f0f921\"]]}],\"heatmap\":[{\"type\":\"heatmap\",\"colorbar\":{\"outlinewidth\":0,\"ticks\":\"\"},\"colorscale\":[[0.0,\"#0d0887\"],[0.1111111111111111,\"#46039f\"],[0.2222222222222222,\"#7201a8\"],[0.3333333333333333,\"#9c179e\"],[0.4444444444444444,\"#bd3786\"],[0.5555555555555556,\"#d8576b\"],[0.6666666666666666,\"#ed7953\"],[0.7777777777777778,\"#fb9f3a\"],[0.8888888888888888,\"#fdca26\"],[1.0,\"#f0f921\"]]}],\"heatmapgl\":[{\"type\":\"heatmapgl\",\"colorbar\":{\"outlinewidth\":0,\"ticks\":\"\"},\"colorscale\":[[0.0,\"#0d0887\"],[0.1111111111111111,\"#46039f\"],[0.2222222222222222,\"#7201a8\"],[0.3333333333333333,\"#9c179e\"],[0.4444444444444444,\"#bd3786\"],[0.5555555555555556,\"#d8576b\"],[0.6666666666666666,\"#ed7953\"],[0.7777777777777778,\"#fb9f3a\"],[0.8888888888888888,\"#fdca26\"],[1.0,\"#f0f921\"]]}],\"contourcarpet\":[{\"type\":\"contourcarpet\",\"colorbar\":{\"outlinewidth\":0,\"ticks\":\"\"}}],\"contour\":[{\"type\":\"contour\",\"colorbar\":{\"outlinewidth\":0,\"ticks\":\"\"},\"colorscale\":[[0.0,\"#0d0887\"],[0.1111111111111111,\"#46039f\"],[0.2222222222222222,\"#7201a8\"],[0.3333333333333333,\"#9c179e\"],[0.4444444444444444,\"#bd3786\"],[0.5555555555555556,\"#d8576b\"],[0.6666666666666666,\"#ed7953\"],[0.7777777777777778,\"#fb9f3a\"],[0.8888888888888888,\"#fdca26\"],[1.0,\"#f0f921\"]]}],\"surface\":[{\"type\":\"surface\",\"colorbar\":{\"outlinewidth\":0,\"ticks\":\"\"},\"colorscale\":[[0.0,\"#0d0887\"],[0.1111111111111111,\"#46039f\"],[0.2222222222222222,\"#7201a8\"],[0.3333333333333333,\"#9c179e\"],[0.4444444444444444,\"#bd3786\"],[0.5555555555555556,\"#d8576b\"],[0.6666666666666666,\"#ed7953\"],[0.7777777777777778,\"#fb9f3a\"],[0.8888888888888888,\"#fdca26\"],[1.0,\"#f0f921\"]]}],\"mesh3d\":[{\"type\":\"mesh3d\",\"colorbar\":{\"outlinewidth\":0,\"ticks\":\"\"}}],\"scatter\":[{\"fillpattern\":{\"fillmode\":\"overlay\",\"size\":10,\"solidity\":0.2},\"type\":\"scatter\"}],\"parcoords\":[{\"type\":\"parcoords\",\"line\":{\"colorbar\":{\"outlinewidth\":0,\"ticks\":\"\"}}}],\"scatterpolargl\":[{\"type\":\"scatterpolargl\",\"marker\":{\"colorbar\":{\"outlinewidth\":0,\"ticks\":\"\"}}}],\"bar\":[{\"error_x\":{\"color\":\"#2a3f5f\"},\"error_y\":{\"color\":\"#2a3f5f\"},\"marker\":{\"line\":{\"color\":\"#E5ECF6\",\"width\":0.5},\"pattern\":{\"fillmode\":\"overlay\",\"size\":10,\"solidity\":0.2}},\"type\":\"bar\"}],\"scattergeo\":[{\"type\":\"scattergeo\",\"marker\":{\"colorbar\":{\"outlinewidth\":0,\"ticks\":\"\"}}}],\"scatterpolar\":[{\"type\":\"scatterpolar\",\"marker\":{\"colorbar\":{\"outlinewidth\":0,\"ticks\":\"\"}}}],\"histogram\":[{\"marker\":{\"pattern\":{\"fillmode\":\"overlay\",\"size\":10,\"solidity\":0.2}},\"type\":\"histogram\"}],\"scattergl\":[{\"type\":\"scattergl\",\"marker\":{\"colorbar\":{\"outlinewidth\":0,\"ticks\":\"\"}}}],\"scatter3d\":[{\"type\":\"scatter3d\",\"line\":{\"colorbar\":{\"outlinewidth\":0,\"ticks\":\"\"}},\"marker\":{\"colorbar\":{\"outlinewidth\":0,\"ticks\":\"\"}}}],\"scattermapbox\":[{\"type\":\"scattermapbox\",\"marker\":{\"colorbar\":{\"outlinewidth\":0,\"ticks\":\"\"}}}],\"scatterternary\":[{\"type\":\"scatterternary\",\"marker\":{\"colorbar\":{\"outlinewidth\":0,\"ticks\":\"\"}}}],\"scattercarpet\":[{\"type\":\"scattercarpet\",\"marker\":{\"colorbar\":{\"outlinewidth\":0,\"ticks\":\"\"}}}],\"carpet\":[{\"aaxis\":{\"endlinecolor\":\"#2a3f5f\",\"gridcolor\":\"white\",\"linecolor\":\"white\",\"minorgridcolor\":\"white\",\"startlinecolor\":\"#2a3f5f\"},\"baxis\":{\"endlinecolor\":\"#2a3f5f\",\"gridcolor\":\"white\",\"linecolor\":\"white\",\"minorgridcolor\":\"white\",\"startlinecolor\":\"#2a3f5f\"},\"type\":\"carpet\"}],\"table\":[{\"cells\":{\"fill\":{\"color\":\"#EBF0F8\"},\"line\":{\"color\":\"white\"}},\"header\":{\"fill\":{\"color\":\"#C8D4E3\"},\"line\":{\"color\":\"white\"}},\"type\":\"table\"}],\"barpolar\":[{\"marker\":{\"line\":{\"color\":\"#E5ECF6\",\"width\":0.5},\"pattern\":{\"fillmode\":\"overlay\",\"size\":10,\"solidity\":0.2}},\"type\":\"barpolar\"}],\"pie\":[{\"automargin\":true,\"type\":\"pie\"}]},\"layout\":{\"autotypenumbers\":\"strict\",\"colorway\":[\"#636efa\",\"#EF553B\",\"#00cc96\",\"#ab63fa\",\"#FFA15A\",\"#19d3f3\",\"#FF6692\",\"#B6E880\",\"#FF97FF\",\"#FECB52\"],\"font\":{\"color\":\"#2a3f5f\"},\"hovermode\":\"closest\",\"hoverlabel\":{\"align\":\"left\"},\"paper_bgcolor\":\"white\",\"plot_bgcolor\":\"#E5ECF6\",\"polar\":{\"bgcolor\":\"#E5ECF6\",\"angularaxis\":{\"gridcolor\":\"white\",\"linecolor\":\"white\",\"ticks\":\"\"},\"radialaxis\":{\"gridcolor\":\"white\",\"linecolor\":\"white\",\"ticks\":\"\"}},\"ternary\":{\"bgcolor\":\"#E5ECF6\",\"aaxis\":{\"gridcolor\":\"white\",\"linecolor\":\"white\",\"ticks\":\"\"},\"baxis\":{\"gridcolor\":\"white\",\"linecolor\":\"white\",\"ticks\":\"\"},\"caxis\":{\"gridcolor\":\"white\",\"linecolor\":\"white\",\"ticks\":\"\"}},\"coloraxis\":{\"colorbar\":{\"outlinewidth\":0,\"ticks\":\"\"}},\"colorscale\":{\"sequential\":[[0.0,\"#0d0887\"],[0.1111111111111111,\"#46039f\"],[0.2222222222222222,\"#7201a8\"],[0.3333333333333333,\"#9c179e\"],[0.4444444444444444,\"#bd3786\"],[0.5555555555555556,\"#d8576b\"],[0.6666666666666666,\"#ed7953\"],[0.7777777777777778,\"#fb9f3a\"],[0.8888888888888888,\"#fdca26\"],[1.0,\"#f0f921\"]],\"sequentialminus\":[[0.0,\"#0d0887\"],[0.1111111111111111,\"#46039f\"],[0.2222222222222222,\"#7201a8\"],[0.3333333333333333,\"#9c179e\"],[0.4444444444444444,\"#bd3786\"],[0.5555555555555556,\"#d8576b\"],[0.6666666666666666,\"#ed7953\"],[0.7777777777777778,\"#fb9f3a\"],[0.8888888888888888,\"#fdca26\"],[1.0,\"#f0f921\"]],\"diverging\":[[0,\"#8e0152\"],[0.1,\"#c51b7d\"],[0.2,\"#de77ae\"],[0.3,\"#f1b6da\"],[0.4,\"#fde0ef\"],[0.5,\"#f7f7f7\"],[0.6,\"#e6f5d0\"],[0.7,\"#b8e186\"],[0.8,\"#7fbc41\"],[0.9,\"#4d9221\"],[1,\"#276419\"]]},\"xaxis\":{\"gridcolor\":\"white\",\"linecolor\":\"white\",\"ticks\":\"\",\"title\":{\"standoff\":15},\"zerolinecolor\":\"white\",\"automargin\":true,\"zerolinewidth\":2},\"yaxis\":{\"gridcolor\":\"white\",\"linecolor\":\"white\",\"ticks\":\"\",\"title\":{\"standoff\":15},\"zerolinecolor\":\"white\",\"automargin\":true,\"zerolinewidth\":2},\"scene\":{\"xaxis\":{\"backgroundcolor\":\"#E5ECF6\",\"gridcolor\":\"white\",\"linecolor\":\"white\",\"showbackground\":true,\"ticks\":\"\",\"zerolinecolor\":\"white\",\"gridwidth\":2},\"yaxis\":{\"backgroundcolor\":\"#E5ECF6\",\"gridcolor\":\"white\",\"linecolor\":\"white\",\"showbackground\":true,\"ticks\":\"\",\"zerolinecolor\":\"white\",\"gridwidth\":2},\"zaxis\":{\"backgroundcolor\":\"#E5ECF6\",\"gridcolor\":\"white\",\"linecolor\":\"white\",\"showbackground\":true,\"ticks\":\"\",\"zerolinecolor\":\"white\",\"gridwidth\":2}},\"shapedefaults\":{\"line\":{\"color\":\"#2a3f5f\"}},\"annotationdefaults\":{\"arrowcolor\":\"#2a3f5f\",\"arrowhead\":0,\"arrowwidth\":1},\"geo\":{\"bgcolor\":\"white\",\"landcolor\":\"#E5ECF6\",\"subunitcolor\":\"white\",\"showland\":true,\"showlakes\":true,\"lakecolor\":\"white\"},\"title\":{\"x\":0.05},\"mapbox\":{\"style\":\"light\"}}},\"scene\":{\"domain\":{\"x\":[0.0,1.0],\"y\":[0.0,1.0]},\"xaxis\":{\"title\":{\"text\":\"0\"}},\"yaxis\":{\"title\":{\"text\":\"1\"}},\"zaxis\":{\"title\":{\"text\":\"2\"}}},\"legend\":{\"title\":{\"text\":\"color\"},\"tracegroupgap\":0},\"margin\":{\"t\":60}},                        {\"responsive\": true}                    ).then(function(){\n",
       "                            \n",
       "var gd = document.getElementById('5c019643-e1a3-49d0-a53a-873f97b48317');\n",
       "var x = new MutationObserver(function (mutations, observer) {{\n",
       "        var display = window.getComputedStyle(gd).display;\n",
       "        if (!display || display === 'none') {{\n",
       "            console.log([gd, 'removed!']);\n",
       "            Plotly.purge(gd);\n",
       "            observer.disconnect();\n",
       "        }}\n",
       "}});\n",
       "\n",
       "// Listen for the removal of the full notebook cells\n",
       "var notebookContainer = gd.closest('#notebook-container');\n",
       "if (notebookContainer) {{\n",
       "    x.observe(notebookContainer, {childList: true});\n",
       "}}\n",
       "\n",
       "// Listen for the clearing of the current output cell\n",
       "var outputEl = gd.closest('.output');\n",
       "if (outputEl) {{\n",
       "    x.observe(outputEl, {childList: true});\n",
       "}}\n",
       "\n",
       "                        })                };                });            </script>        </div>"
      ]
     },
     "metadata": {},
     "output_type": "display_data"
    }
   ],
   "source": [
    "from sklearn.preprocessing import StandardScaler\n",
    "from sklearn.decomposition import PCA\n",
    "from sklearn.manifold import TSNE\n",
    "import plotly.express as px\n",
    "import plotly.graph_objs as go\n",
    "import numpy as np\n",
    "import pandas as pd\n",
    "\n",
    "def embedding(utterance : str):\n",
    "    embedding = hf_small.embed_query(utterance)\n",
    "    return embedding\n",
    "\n",
    "pathname = '/home/devbox/test/Diversifying_uttr/data/Seat_massage/'\n",
    "filename = 'LLM_utt.csv'\n",
    "in_file = (pathname + filename)\n",
    "df = pd.read_csv(in_file)\n",
    "llm_utt_col = df['User_utterance'].to_list()\n",
    "number_rows = int(input(\"Number of PCA samples: \")) \n",
    "\n",
    "pca_array = []\n",
    "start_idx = 29\n",
    "for m, llm in enumerate(llm_utt_col[start_idx-2:start_idx+number_rows]):\n",
    "    pca_array.append(list(embedding(llm)))\n",
    "print(f\"Original dimension {np.shape(pca_array)}\")\n",
    "\n",
    "std_scaler = StandardScaler()\n",
    "scaled_df = std_scaler.fit_transform(pca_array)\n",
    "\n",
    "pca = PCA(n_components=3)\n",
    "vectors = pca.fit_transform(scaled_df)\n",
    "\n",
    "print(f'Transformed dimension: {vectors.shape}')\n",
    "#tsne = TSNE(n_components=3, perplexity=2)\n",
    "#tsne_result = tsne.fit_transform(scaled_df)\n",
    "#print(f'TSNE result shape: {tsne_result.shape}')\n",
    "\n",
    "fig = px.scatter_3d(vectors[:300],x=0,y=1,z=2, color=llm_utt_col[start_idx-2:start_idx+number_rows])\n",
    "#fig.update_layout(scene_camera_up=dict(x=0, y=0, z=1), scene_camera_eye=dict(x=0, y=-1, z=0))\n",
    "fig.show()\n"
   ]
  },
  {
   "cell_type": "code",
   "execution_count": 46,
   "metadata": {},
   "outputs": [
    {
     "name": "stdout",
     "output_type": "stream",
     "text": [
      "2\n",
      "7\n",
      "<class 'list'>\n"
     ]
    }
   ],
   "source": [
    "ar = [3, 2, 7, 8, 9, 0]\n",
    "\n",
    "for m, llm in enumerate(ar[1:3]):\n",
    "    print(llm)\n",
    "\n",
    "print(type(llm_utt_col.to_list()))"
   ]
  },
  {
   "cell_type": "markdown",
   "metadata": {},
   "source": [
    "<span style=\"font-size:28px; color:yellow\">Animate Rotation</span>"
   ]
  },
  {
   "cell_type": "code",
   "execution_count": 67,
   "metadata": {},
   "outputs": [
    {
     "data": {
      "application/vnd.plotly.v1+json": {
       "config": {
        "plotlyServerURL": "https://plot.ly"
       },
       "data": [
        {
         "hovertemplate": "color=hand gestures<br>0=%{x}<br>1=%{y}<br>2=%{z}<extra></extra>",
         "legendgroup": "hand gestures",
         "marker": {
          "color": "#636efa",
          "symbol": "circle"
         },
         "mode": "markers",
         "name": "hand gestures",
         "scene": "scene",
         "showlegend": true,
         "type": "scatter3d",
         "x": [
          -11.747218214319465
         ],
         "y": [
          -5.879646677431797
         ],
         "z": [
          -17.583576888279236
         ]
        },
        {
         "hovertemplate": "color=start seat massage<br>0=%{x}<br>1=%{y}<br>2=%{z}<extra></extra>",
         "legendgroup": "start seat massage",
         "marker": {
          "color": "#EF553B",
          "symbol": "circle"
         },
         "mode": "markers",
         "name": "start seat massage",
         "scene": "scene",
         "showlegend": true,
         "type": "scatter3d",
         "x": [
          -0.49807283290900894
         ],
         "y": [
          -5.725792409262003
         ],
         "z": [
          0.5534591365293717
         ]
        },
        {
         "hovertemplate": "color=passenger seat massage<br>0=%{x}<br>1=%{y}<br>2=%{z}<extra></extra>",
         "legendgroup": "passenger seat massage",
         "marker": {
          "color": "#00cc96",
          "symbol": "circle"
         },
         "mode": "markers",
         "name": "passenger seat massage",
         "scene": "scene",
         "showlegend": true,
         "type": "scatter3d",
         "x": [
          8.851339837489995
         ],
         "y": [
          -12.893408874121205
         ],
         "z": [
          0.5454888371881084
         ]
        },
        {
         "hovertemplate": "color=turn on massager<br>0=%{x}<br>1=%{y}<br>2=%{z}<extra></extra>",
         "legendgroup": "turn on massager",
         "marker": {
          "color": "#ab63fa",
          "symbol": "circle"
         },
         "mode": "markers",
         "name": "turn on massager",
         "scene": "scene",
         "showlegend": true,
         "type": "scatter3d",
         "x": [
          -6.737451331297952
         ],
         "y": [
          10.228172792041887
         ],
         "z": [
          5.280277327874055
         ]
        },
        {
         "hovertemplate": "color=turn on the seat massage<br>0=%{x}<br>1=%{y}<br>2=%{z}<extra></extra>",
         "legendgroup": "turn on the seat massage",
         "marker": {
          "color": "#FFA15A",
          "symbol": "circle"
         },
         "mode": "markers",
         "name": "turn on the seat massage",
         "scene": "scene",
         "showlegend": true,
         "type": "scatter3d",
         "x": [
          4.632854678032058
         ],
         "y": [
          2.511845432119705
         ],
         "z": [
          3.6698748118917366
         ]
        },
        {
         "hovertemplate": "color=turn on seat massager<br>0=%{x}<br>1=%{y}<br>2=%{z}<extra></extra>",
         "legendgroup": "turn on seat massager",
         "marker": {
          "color": "#19d3f3",
          "symbol": "circle"
         },
         "mode": "markers",
         "name": "turn on seat massager",
         "scene": "scene",
         "showlegend": true,
         "type": "scatter3d",
         "x": [
          4.421108689583849
         ],
         "y": [
          4.689730573677369
         ],
         "z": [
          4.55003187838643
         ]
        },
        {
         "hovertemplate": "color=activate lumbar massage<br>0=%{x}<br>1=%{y}<br>2=%{z}<extra></extra>",
         "legendgroup": "activate lumbar massage",
         "marker": {
          "color": "#FF6692",
          "symbol": "circle"
         },
         "mode": "markers",
         "name": "activate lumbar massage",
         "scene": "scene",
         "showlegend": true,
         "type": "scatter3d",
         "x": [
          -10.987701094493106
         ],
         "y": [
          0.2266985611022605
         ],
         "z": [
          5.150248869823493
         ]
        },
        {
         "hovertemplate": "color=turn on massage for the back passenger<br>0=%{x}<br>1=%{y}<br>2=%{z}<extra></extra>",
         "legendgroup": "turn on massage for the back passenger",
         "marker": {
          "color": "#B6E880",
          "symbol": "circle"
         },
         "mode": "markers",
         "name": "turn on massage for the back passenger",
         "scene": "scene",
         "showlegend": true,
         "type": "scatter3d",
         "x": [
          4.609182456336596
         ],
         "y": [
          -1.8313601124357086
         ],
         "z": [
          1.3597379922902821
         ]
        },
        {
         "hovertemplate": "color=turn on passenger massage seat<br>0=%{x}<br>1=%{y}<br>2=%{z}<extra></extra>",
         "legendgroup": "turn on passenger massage seat",
         "marker": {
          "color": "#FF97FF",
          "symbol": "circle"
         },
         "mode": "markers",
         "name": "turn on passenger massage seat",
         "scene": "scene",
         "showlegend": true,
         "type": "scatter3d",
         "x": [
          9.243444686600412
         ],
         "y": [
          1.4216222990609515
         ],
         "z": [
          2.542301645902441
         ]
        },
        {
         "hovertemplate": "color=turn on the passenger massage<br>0=%{x}<br>1=%{y}<br>2=%{z}<extra></extra>",
         "legendgroup": "turn on the passenger massage",
         "marker": {
          "color": "#FECB52",
          "symbol": "circle"
         },
         "mode": "markers",
         "name": "turn on the passenger massage",
         "scene": "scene",
         "showlegend": true,
         "type": "scatter3d",
         "x": [
          7.931412651323907
         ],
         "y": [
          -1.0648051311045041
         ],
         "z": [
          2.1307834630036924
         ]
        },
        {
         "hovertemplate": "color=turn on my seat<br>0=%{x}<br>1=%{y}<br>2=%{z}<extra></extra>",
         "legendgroup": "turn on my seat",
         "marker": {
          "color": "#636efa",
          "symbol": "circle"
         },
         "mode": "markers",
         "name": "turn on my seat",
         "scene": "scene",
         "showlegend": true,
         "type": "scatter3d",
         "x": [
          2.932723069946229
         ],
         "y": [
          6.3101280387637795
         ],
         "z": [
          -7.349720178892966
         ]
        },
        {
         "hovertemplate": "color=turn massage on<br>0=%{x}<br>1=%{y}<br>2=%{z}<extra></extra>",
         "legendgroup": "turn massage on",
         "marker": {
          "color": "#EF553B",
          "symbol": "circle"
         },
         "mode": "markers",
         "name": "turn massage on",
         "scene": "scene",
         "showlegend": true,
         "type": "scatter3d",
         "x": [
          -5.403653885526837
         ],
         "y": [
          9.112408341154504
         ],
         "z": [
          4.80283281991124
         ]
        },
        {
         "hovertemplate": "color=turn on lumbar massage<br>0=%{x}<br>1=%{y}<br>2=%{z}<extra></extra>",
         "legendgroup": "turn on lumbar massage",
         "marker": {
          "color": "#00cc96",
          "symbol": "circle"
         },
         "mode": "markers",
         "name": "turn on lumbar massage",
         "scene": "scene",
         "showlegend": true,
         "type": "scatter3d",
         "x": [
          -6.244764385820924
         ],
         "y": [
          6.790380675517424
         ],
         "z": [
          6.000850950998031
         ]
        },
        {
         "hovertemplate": "color=turn on driver massage seat<br>0=%{x}<br>1=%{y}<br>2=%{z}<extra></extra>",
         "legendgroup": "turn on driver massage seat",
         "marker": {
          "color": "#ab63fa",
          "symbol": "circle"
         },
         "mode": "markers",
         "name": "turn on driver massage seat",
         "scene": "scene",
         "showlegend": true,
         "type": "scatter3d",
         "x": [
          8.259107325288157
         ],
         "y": [
          3.3445734764948467
         ],
         "z": [
          0.35892650205624094
         ]
        },
        {
         "hovertemplate": "color=turn on massaging seats<br>0=%{x}<br>1=%{y}<br>2=%{z}<extra></extra>",
         "legendgroup": "turn on massaging seats",
         "marker": {
          "color": "#FFA15A",
          "symbol": "circle"
         },
         "mode": "markers",
         "name": "turn on massaging seats",
         "scene": "scene",
         "showlegend": true,
         "type": "scatter3d",
         "x": [
          3.392306925465625
         ],
         "y": [
          0.8319461019346346
         ],
         "z": [
          -0.6182465547457076
         ]
        },
        {
         "hovertemplate": "color=turn on my massage seats<br>0=%{x}<br>1=%{y}<br>2=%{z}<extra></extra>",
         "legendgroup": "turn on my massage seats",
         "marker": {
          "color": "#19d3f3",
          "symbol": "circle"
         },
         "mode": "markers",
         "name": "turn on my massage seats",
         "scene": "scene",
         "showlegend": true,
         "type": "scatter3d",
         "x": [
          1.9017170290863377
         ],
         "y": [
          4.005519584376964
         ],
         "z": [
          4.571869699056427
         ]
        },
        {
         "hovertemplate": "color=turn on on the driver massage<br>0=%{x}<br>1=%{y}<br>2=%{z}<extra></extra>",
         "legendgroup": "turn on on the driver massage",
         "marker": {
          "color": "#FF6692",
          "symbol": "circle"
         },
         "mode": "markers",
         "name": "turn on on the driver massage",
         "scene": "scene",
         "showlegend": true,
         "type": "scatter3d",
         "x": [
          6.216769470539192
         ],
         "y": [
          4.024664689553228
         ],
         "z": [
          -1.0504311807496423
         ]
        },
        {
         "hovertemplate": "color=give me a massage<br>0=%{x}<br>1=%{y}<br>2=%{z}<extra></extra>",
         "legendgroup": "give me a massage",
         "marker": {
          "color": "#B6E880",
          "symbol": "circle"
         },
         "mode": "markers",
         "name": "give me a massage",
         "scene": "scene",
         "showlegend": true,
         "type": "scatter3d",
         "x": [
          -14.274909510943743
         ],
         "y": [
          -5.668683342311474
         ],
         "z": [
          3.265894142336302
         ]
        },
        {
         "hovertemplate": "color=start my massage<br>0=%{x}<br>1=%{y}<br>2=%{z}<extra></extra>",
         "legendgroup": "start my massage",
         "marker": {
          "color": "#FF97FF",
          "symbol": "circle"
         },
         "mode": "markers",
         "name": "start my massage",
         "scene": "scene",
         "showlegend": true,
         "type": "scatter3d",
         "x": [
          -15.265683120058961
         ],
         "y": [
          -3.437314673756106
         ],
         "z": [
          3.420722909056932
         ]
        },
        {
         "hovertemplate": "color=turn on the seat massager<br>0=%{x}<br>1=%{y}<br>2=%{z}<extra></extra>",
         "legendgroup": "turn on the seat massager",
         "marker": {
          "color": "#FECB52",
          "symbol": "circle"
         },
         "mode": "markers",
         "name": "turn on the seat massager",
         "scene": "scene",
         "showlegend": true,
         "type": "scatter3d",
         "x": [
          4.524038685923471
         ],
         "y": [
          4.774603620087813
         ],
         "z": [
          4.735596942393476
         ]
        },
        {
         "hovertemplate": "color=turn on driver seat<br>0=%{x}<br>1=%{y}<br>2=%{z}<extra></extra>",
         "legendgroup": "turn on driver seat",
         "marker": {
          "color": "#636efa",
          "symbol": "circle"
         },
         "mode": "markers",
         "name": "turn on driver seat",
         "scene": "scene",
         "showlegend": true,
         "type": "scatter3d",
         "x": [
          10.794181276161623
         ],
         "y": [
          7.248850091920293
         ],
         "z": [
          -14.224800780915105
         ]
        },
        {
         "hovertemplate": "color=can you turn on<br>0=%{x}<br>1=%{y}<br>2=%{z}<extra></extra>",
         "legendgroup": "can you turn on",
         "marker": {
          "color": "#EF553B",
          "symbol": "circle"
         },
         "mode": "markers",
         "name": "can you turn on",
         "scene": "scene",
         "showlegend": true,
         "type": "scatter3d",
         "x": [
          -6.0757649467118275
         ],
         "y": [
          18.010031130497982
         ],
         "z": [
          -13.102108933795979
         ]
        },
        {
         "hovertemplate": "color=start driver seat massage<br>0=%{x}<br>1=%{y}<br>2=%{z}<extra></extra>",
         "legendgroup": "start driver seat massage",
         "marker": {
          "color": "#00cc96",
          "symbol": "circle"
         },
         "mode": "markers",
         "name": "start driver seat massage",
         "scene": "scene",
         "showlegend": true,
         "type": "scatter3d",
         "x": [
          5.270424333952919
         ],
         "y": [
          -6.634997177164216
         ],
         "z": [
          -3.2712928672181083
         ]
        },
        {
         "hovertemplate": "color=turn on the driver seat massage<br>0=%{x}<br>1=%{y}<br>2=%{z}<extra></extra>",
         "legendgroup": "turn on the driver seat massage",
         "marker": {
          "color": "#ab63fa",
          "symbol": "circle"
         },
         "mode": "markers",
         "name": "turn on the driver seat massage",
         "scene": "scene",
         "showlegend": true,
         "type": "scatter3d",
         "x": [
          9.509071935342076
         ],
         "y": [
          0.3763071670711063
         ],
         "z": [
          -0.9885535849039574
         ]
        },
        {
         "hovertemplate": "color=driver massage<br>0=%{x}<br>1=%{y}<br>2=%{z}<extra></extra>",
         "legendgroup": "driver massage",
         "marker": {
          "color": "#FFA15A",
          "symbol": "circle"
         },
         "mode": "markers",
         "name": "driver massage",
         "scene": "scene",
         "showlegend": true,
         "type": "scatter3d",
         "x": [
          3.667533570604314
         ],
         "y": [
          -10.659182970013758
         ],
         "z": [
          -4.225946511167791
         ]
        },
        {
         "hovertemplate": "color=turn on driver side seat massage<br>0=%{x}<br>1=%{y}<br>2=%{z}<extra></extra>",
         "legendgroup": "turn on driver side seat massage",
         "marker": {
          "color": "#19d3f3",
          "symbol": "circle"
         },
         "mode": "markers",
         "name": "turn on driver side seat massage",
         "scene": "scene",
         "showlegend": true,
         "type": "scatter3d",
         "x": [
          8.181676392889885
         ],
         "y": [
          1.473394058836183
         ],
         "z": [
          -1.4794937100430101
         ]
        },
        {
         "hovertemplate": "color=turn on massage for the back passenger side<br>0=%{x}<br>1=%{y}<br>2=%{z}<extra></extra>",
         "legendgroup": "turn on massage for the back passenger side",
         "marker": {
          "color": "#FF6692",
          "symbol": "circle"
         },
         "mode": "markers",
         "name": "turn on massage for the back passenger side",
         "scene": "scene",
         "showlegend": true,
         "type": "scatter3d",
         "x": [
          5.395578288197664
         ],
         "y": [
          -0.467547628190935
         ],
         "z": [
          0.5385209914662767
         ]
        },
        {
         "hovertemplate": "color=activate my seat massage<br>0=%{x}<br>1=%{y}<br>2=%{z}<extra></extra>",
         "legendgroup": "activate my seat massage",
         "marker": {
          "color": "#B6E880",
          "symbol": "circle"
         },
         "mode": "markers",
         "name": "activate my seat massage",
         "scene": "scene",
         "showlegend": true,
         "type": "scatter3d",
         "x": [
          -2.2197048770900087
         ],
         "y": [
          -3.4601505387655673
         ],
         "z": [
          3.0957991371112072
         ]
        },
        {
         "hovertemplate": "color=massage me<br>0=%{x}<br>1=%{y}<br>2=%{z}<extra></extra>",
         "legendgroup": "massage me",
         "marker": {
          "color": "#FF97FF",
          "symbol": "circle"
         },
         "mode": "markers",
         "name": "massage me",
         "scene": "scene",
         "showlegend": true,
         "type": "scatter3d",
         "x": [
          -15.484300628957488
         ],
         "y": [
          -9.247932811482181
         ],
         "z": [
          2.339160876943322
         ]
        },
        {
         "hovertemplate": "color=turn on my massager<br>0=%{x}<br>1=%{y}<br>2=%{z}<extra></extra>",
         "legendgroup": "turn on my massager",
         "marker": {
          "color": "#FECB52",
          "symbol": "circle"
         },
         "mode": "markers",
         "name": "turn on my massager",
         "scene": "scene",
         "showlegend": true,
         "type": "scatter3d",
         "x": [
          -8.19355045931084
         ],
         "y": [
          9.963069527397218
         ],
         "z": [
          6.868749605056108
         ]
        },
        {
         "hovertemplate": "color=turn on on the driver seat massage<br>0=%{x}<br>1=%{y}<br>2=%{z}<extra></extra>",
         "legendgroup": "turn on on the driver seat massage",
         "marker": {
          "color": "#636efa",
          "symbol": "circle"
         },
         "mode": "markers",
         "name": "turn on on the driver seat massage",
         "scene": "scene",
         "showlegend": true,
         "type": "scatter3d",
         "x": [
          9.283664928440048
         ],
         "y": [
          2.7677794914925693
         ],
         "z": [
          -0.6330313179416314
         ]
        },
        {
         "hovertemplate": "color=turn on massage for the back driver seat<br>0=%{x}<br>1=%{y}<br>2=%{z}<extra></extra>",
         "legendgroup": "turn on massage for the back driver seat",
         "marker": {
          "color": "#EF553B",
          "symbol": "circle"
         },
         "mode": "markers",
         "name": "turn on massage for the back driver seat",
         "scene": "scene",
         "showlegend": true,
         "type": "scatter3d",
         "x": [
          6.04120955830951
         ],
         "y": [
          0.1938871430770628
         ],
         "z": [
          0.12032395226683106
         ]
        },
        {
         "hovertemplate": "color=turn on all massage<br>0=%{x}<br>1=%{y}<br>2=%{z}<extra></extra>",
         "legendgroup": "turn on all massage",
         "marker": {
          "color": "#00cc96",
          "symbol": "circle"
         },
         "mode": "markers",
         "name": "turn on all massage",
         "scene": "scene",
         "showlegend": true,
         "type": "scatter3d",
         "x": [
          -5.82343897241193
         ],
         "y": [
          9.184087606255046
         ],
         "z": [
          4.980867216263732
         ]
        },
        {
         "hovertemplate": "color=passenger massage<br>0=%{x}<br>1=%{y}<br>2=%{z}<extra></extra>",
         "legendgroup": "passenger massage",
         "marker": {
          "color": "#ab63fa",
          "symbol": "circle"
         },
         "mode": "markers",
         "name": "passenger massage",
         "scene": "scene",
         "showlegend": true,
         "type": "scatter3d",
         "x": [
          5.874241600313681
         ],
         "y": [
          -14.920930520479576
         ],
         "z": [
          0.5794228032602712
         ]
        },
        {
         "hovertemplate": "color=turn on front passenger massage<br>0=%{x}<br>1=%{y}<br>2=%{z}<extra></extra>",
         "legendgroup": "turn on front passenger massage",
         "marker": {
          "color": "#FFA15A",
          "symbol": "circle"
         },
         "mode": "markers",
         "name": "turn on front passenger massage",
         "scene": "scene",
         "showlegend": true,
         "type": "scatter3d",
         "x": [
          6.924858400528767
         ],
         "y": [
          -1.160105912365148
         ],
         "z": [
          1.7691386672985325
         ]
        },
        {
         "hovertemplate": "color=on passenger massage<br>0=%{x}<br>1=%{y}<br>2=%{z}<extra></extra>",
         "legendgroup": "on passenger massage",
         "marker": {
          "color": "#19d3f3",
          "symbol": "circle"
         },
         "mode": "markers",
         "name": "on passenger massage",
         "scene": "scene",
         "showlegend": true,
         "type": "scatter3d",
         "x": [
          6.671323836112369
         ],
         "y": [
          -13.12639421756331
         ],
         "z": [
          2.3764443223752814
         ]
        },
        {
         "hovertemplate": "color=turn on driver 's seat massage<br>0=%{x}<br>1=%{y}<br>2=%{z}<extra></extra>",
         "legendgroup": "turn on driver 's seat massage",
         "marker": {
          "color": "#FF6692",
          "symbol": "circle"
         },
         "mode": "markers",
         "name": "turn on driver 's seat massage",
         "scene": "scene",
         "showlegend": true,
         "type": "scatter3d",
         "x": [
          8.829735981392671
         ],
         "y": [
          0.5339617552021357
         ],
         "z": [
          -0.5153356460215294
         ]
        },
        {
         "hovertemplate": "color=start back<br>0=%{x}<br>1=%{y}<br>2=%{z}<extra></extra>",
         "legendgroup": "start back",
         "marker": {
          "color": "#B6E880",
          "symbol": "circle"
         },
         "mode": "markers",
         "name": "start back",
         "scene": "scene",
         "showlegend": true,
         "type": "scatter3d",
         "x": [
          -16.324626909937635
         ],
         "y": [
          -1.7518482172783831
         ],
         "z": [
          -17.972888307975182
         ]
        },
        {
         "hovertemplate": "color=activate my massage<br>0=%{x}<br>1=%{y}<br>2=%{z}<extra></extra>",
         "legendgroup": "activate my massage",
         "marker": {
          "color": "#FF97FF",
          "symbol": "circle"
         },
         "mode": "markers",
         "name": "activate my massage",
         "scene": "scene",
         "showlegend": true,
         "type": "scatter3d",
         "x": [
          -14.264068327952893
         ],
         "y": [
          -0.10298504887039829
         ],
         "z": [
          5.735221022650391
         ]
        },
        {
         "hovertemplate": "color=massage my back<br>0=%{x}<br>1=%{y}<br>2=%{z}<extra></extra>",
         "legendgroup": "massage my back",
         "marker": {
          "color": "#FECB52",
          "symbol": "circle"
         },
         "mode": "markers",
         "name": "massage my back",
         "scene": "scene",
         "showlegend": true,
         "type": "scatter3d",
         "x": [
          -13.81459611011876
         ],
         "y": [
          -9.990575895038683
         ],
         "z": [
          1.672879939259638
         ]
        }
       ],
       "frames": [
        {
         "layout": {
          "scene": {
           "camera": {
            "eye": {
             "x": -1.25,
             "y": 2,
             "z": 0.5
            }
           }
          }
         }
        },
        {
         "layout": {
          "scene": {
           "camera": {
            "eye": {
             "x": -1.169021464952954,
             "y": 2.0483868810552486,
             "z": 0.5
            }
           }
          }
         }
        },
        {
         "layout": {
          "scene": {
           "camera": {
            "eye": {
             "x": -1.0861727449399288,
             "y": 2.0934967800667046,
             "z": 0.5
            }
           }
          }
         }
        },
        {
         "layout": {
          "scene": {
           "camera": {
            "eye": {
             "x": -1.001586380239494,
             "y": 2.1352575308188815,
             "z": 0.5
            }
           }
          }
         }
        },
        {
         "layout": {
          "scene": {
           "camera": {
            "eye": {
             "x": -0.9153976909910417,
             "y": 2.1736023250190613,
             "z": 0.5
            }
           }
          }
         }
        },
        {
         "layout": {
          "scene": {
           "camera": {
            "eye": {
             "x": -0.8277445607114295,
             "y": 2.20846981917631,
             "z": 0.5
            }
           }
          }
         }
        },
        {
         "layout": {
          "scene": {
           "camera": {
            "eye": {
             "x": -0.7387672157107679,
             "y": 2.2398042327379777,
             "z": 0.5
            }
           }
          }
         }
        },
        {
         "layout": {
          "scene": {
           "camera": {
            "eye": {
             "x": -0.6486080007602362,
             "y": 2.267555437326684,
             "z": 0.5
            }
           }
          }
         }
        },
        {
         "layout": {
          "scene": {
           "camera": {
            "eye": {
             "x": -0.5574111513708155,
             "y": 2.2916790369350286,
             "z": 0.5
            }
           }
          }
         }
        },
        {
         "layout": {
          "scene": {
           "camera": {
            "eye": {
             "x": -0.4653225630472385,
             "y": 2.312136438949732,
             "z": 0.5
            }
           }
          }
         }
        },
        {
         "layout": {
          "scene": {
           "camera": {
            "eye": {
             "x": -0.37248955788630533,
             "y": 2.3288949158915835,
             "z": 0.5
            }
           }
          }
         }
        },
        {
         "layout": {
          "scene": {
           "camera": {
            "eye": {
             "x": -0.2790606488929549,
             "y": 2.3419276577724264,
             "z": 0.5
            }
           }
          }
         }
        },
        {
         "layout": {
          "scene": {
           "camera": {
            "eye": {
             "x": -0.18518530239113928,
             "y": 2.351213814985422,
             "z": 0.5
            }
           }
          }
         }
        },
        {
         "layout": {
          "scene": {
           "camera": {
            "eye": {
             "x": -0.09101369890958888,
             "y": 2.3567385316599707,
             "z": 0.5
            }
           }
          }
         }
        },
        {
         "layout": {
          "scene": {
           "camera": {
            "eye": {
             "x": 0.0033035070749967144,
             "y": 2.358492969427936,
             "z": 0.5
            }
           }
          }
         }
        },
        {
         "layout": {
          "scene": {
           "camera": {
            "eye": {
             "x": 0.09761542815297286,
             "y": 2.3564743215631507,
             "z": 0.5
            }
           }
          }
         }
        },
        {
         "layout": {
          "scene": {
           "camera": {
            "eye": {
             "x": 0.1917711853694184,
             "y": 2.3506858174715752,
             "z": 0.5
            }
           }
          }
         }
        },
        {
         "layout": {
          "scene": {
           "camera": {
            "eye": {
             "x": 0.2856201495982773,
             "y": 2.3411367175249413,
             "z": 0.5
            }
           }
          }
         }
        },
        {
         "layout": {
          "scene": {
           "camera": {
            "eye": {
             "x": 0.37901218251682733,
             "y": 2.3278422982461313,
             "z": 0.5
            }
           }
          }
         }
        },
        {
         "layout": {
          "scene": {
           "camera": {
            "eye": {
             "x": 0.4717978767949711,
             "y": 2.3108238278699993,
             "z": 0.5
            }
           }
          }
         }
        },
        {
         "layout": {
          "scene": {
           "camera": {
            "eye": {
             "x": 0.5638287951150889,
             "y": 2.290108532318734,
             "z": 0.5
            }
           }
          }
         }
        },
        {
         "layout": {
          "scene": {
           "camera": {
            "eye": {
             "x": 0.6549577076400834,
             "y": 2.2657295516461904,
             "z": 0.5
            }
           }
          }
         }
        },
        {
         "layout": {
          "scene": {
           "camera": {
            "eye": {
             "x": 0.7450388275497133,
             "y": 2.237725887020872,
             "z": 0.5
            }
           }
          }
         }
        },
        {
         "layout": {
          "scene": {
           "camera": {
            "eye": {
             "x": 0.8339280442684036,
             "y": 2.2061423383323833,
             "z": 0.5
            }
           }
          }
         }
        },
        {
         "layout": {
          "scene": {
           "camera": {
            "eye": {
             "x": 0.9214831540114257,
             "y": 2.171029432521161,
             "z": 0.5
            }
           }
          }
         }
        },
        {
         "layout": {
          "scene": {
           "camera": {
            "eye": {
             "x": 1.0075640872806182,
             "y": 2.13244334274615,
             "z": 0.5
            }
           }
          }
         }
        },
        {
         "layout": {
          "scene": {
           "camera": {
            "eye": {
             "x": 1.0920331329457038,
             "y": 2.09044579851973,
             "z": 0.5
            }
           }
          }
         }
        },
        {
         "layout": {
          "scene": {
           "camera": {
            "eye": {
             "x": 1.17475515855272,
             "y": 2.0451039869536642,
             "z": 0.5
            }
           }
          }
         }
        },
        {
         "layout": {
          "scene": {
           "camera": {
            "eye": {
             "x": 1.25559782650712,
             "y": 1.9964904452740555,
             "z": 0.5
            }
           }
          }
         }
        },
        {
         "layout": {
          "scene": {
           "camera": {
            "eye": {
             "x": 1.3344318057856923,
             "y": 1.944682944777255,
             "z": 0.5
            }
           }
          }
         }
        },
        {
         "layout": {
          "scene": {
           "camera": {
            "eye": {
             "x": 1.4111309788386106,
             "y": 1.88976436641238,
             "z": 0.5
            }
           }
          }
         }
        },
        {
         "layout": {
          "scene": {
           "camera": {
            "eye": {
             "x": 1.4855726433506076,
             "y": 1.8318225681894762,
             "z": 0.5
            }
           }
          }
         }
        },
        {
         "layout": {
          "scene": {
           "camera": {
            "eye": {
             "x": 1.5576377085385054,
             "y": 1.7709502446254421,
             "z": 0.5
            }
           }
          }
         }
        },
        {
         "layout": {
          "scene": {
           "camera": {
            "eye": {
             "x": 1.6272108856710643,
             "y": 1.7072447784525773,
             "z": 0.5
            }
           }
          }
         }
        },
        {
         "layout": {
          "scene": {
           "camera": {
            "eye": {
             "x": 1.6941808725063585,
             "y": 1.640808084826984,
             "z": 0.5
            }
           }
          }
         }
        },
        {
         "layout": {
          "scene": {
           "camera": {
            "eye": {
             "x": 1.7584405313516194,
             "y": 1.571746448286057,
             "z": 0.5
            }
           }
          }
         }
        },
        {
         "layout": {
          "scene": {
           "camera": {
            "eye": {
             "x": 1.819887060460691,
             "y": 1.5001703527158992,
             "z": 0.5
            }
           }
          }
         }
        },
        {
         "layout": {
          "scene": {
           "camera": {
            "eye": {
             "x": 1.878422158494893,
             "y": 1.4261943046006693,
             "z": 0.5
            }
           }
          }
         }
        },
        {
         "layout": {
          "scene": {
           "camera": {
            "eye": {
             "x": 1.933952181784192,
             "y": 1.349936649836637,
             "z": 0.5
            }
           }
          }
         }
        },
        {
         "layout": {
          "scene": {
           "camera": {
            "eye": {
             "x": 1.9863882941370983,
             "y": 1.2715193844039927,
             "z": 0.5
            }
           }
          }
         }
        },
        {
         "layout": {
          "scene": {
           "camera": {
            "eye": {
             "x": 2.0356466089596212,
             "y": 1.1910679591993036,
             "z": 0.5
            }
           }
          }
         }
        },
        {
         "layout": {
          "scene": {
           "camera": {
            "eye": {
             "x": 2.081648323455925,
             "y": 1.1087110793408428,
             "z": 0.5
            }
           }
          }
         }
        },
        {
         "layout": {
          "scene": {
           "camera": {
            "eye": {
             "x": 2.1243198446959908,
             "y": 1.0245804982678528,
             "z": 0.5
            }
           }
          }
         }
        },
        {
         "layout": {
          "scene": {
           "camera": {
            "eye": {
             "x": 2.1635929073486073,
             "y": 0.9388108069631496,
             "z": 0.5
            }
           }
          }
         }
        },
        {
         "layout": {
          "scene": {
           "camera": {
            "eye": {
             "x": 2.199404682891337,
             "y": 0.8515392186362629,
             "z": 0.5
            }
           }
          }
         }
        },
        {
         "layout": {
          "scene": {
           "camera": {
            "eye": {
             "x": 2.2316978801227494,
             "y": 0.7629053492115697,
             "z": 0.5
            }
           }
          }
         }
        },
        {
         "layout": {
          "scene": {
           "camera": {
            "eye": {
             "x": 2.2604208368161216,
             "y": 0.6730509939725993,
             "z": 0.5
            }
           }
          }
         }
        },
        {
         "layout": {
          "scene": {
           "camera": {
            "eye": {
             "x": 2.2855276023679822,
             "y": 0.5821199007198272,
             "z": 0.5
            }
           }
          }
         }
        },
        {
         "layout": {
          "scene": {
           "camera": {
            "eye": {
             "x": 2.3069780113092726,
             "y": 0.49025753980485975,
             "z": 0.5
            }
           }
          }
         }
        },
        {
         "layout": {
          "scene": {
           "camera": {
            "eye": {
             "x": 2.32473774756153,
             "y": 0.3976108714089014,
             "z": 0.5
            }
           }
          }
         }
        },
        {
         "layout": {
          "scene": {
           "camera": {
            "eye": {
             "x": 2.3387783993352915,
             "y": 0.3043281104378174,
             "z": 0.5
            }
           }
          }
         }
        },
        {
         "layout": {
          "scene": {
           "camera": {
            "eye": {
             "x": 2.3490775045828993,
             "y": 0.21055848940990063,
             "z": 0.5
            }
           }
          }
         }
        },
        {
         "layout": {
          "scene": {
           "camera": {
            "eye": {
             "x": 2.355618586932982,
             "y": 0.11645201971567687,
             "z": 0.5
            }
           }
          }
         }
        },
        {
         "layout": {
          "scene": {
           "camera": {
            "eye": {
             "x": 2.3583911820491363,
             "y": 0.022159251631680643,
             "z": 0.5
            }
           }
          }
         }
        },
        {
         "layout": {
          "scene": {
           "camera": {
            "eye": {
             "x": 2.357390854370632,
             "y": -0.07216896652787153,
             "z": 0.5
            }
           }
          }
         }
        },
        {
         "layout": {
          "scene": {
           "camera": {
            "eye": {
             "x": 2.3526192042083625,
             "y": -0.16638172973620402,
             "z": 0.5
            }
           }
          }
         }
        },
        {
         "layout": {
          "scene": {
           "camera": {
            "eye": {
             "x": 2.3440838651846896,
             "y": -0.2603283176698348,
             "z": 0.5
            }
           }
          }
         }
        },
        {
         "layout": {
          "scene": {
           "camera": {
            "eye": {
             "x": 2.331798492021276,
             "y": -0.3538584358289396,
             "z": 0.5
            }
           }
          }
         }
        },
        {
         "layout": {
          "scene": {
           "camera": {
            "eye": {
             "x": 2.3157827386944434,
             "y": -0.44682245597649073,
             "z": 0.5
            }
           }
          }
         }
        },
        {
         "layout": {
          "scene": {
           "camera": {
            "eye": {
             "x": 2.296062226993003,
             "y": -0.5390716555115206,
             "z": 0.5
            }
           }
          }
         }
        },
        {
         "layout": {
          "scene": {
           "camera": {
            "eye": {
             "x": 2.2726685055288587,
             "y": -0.6304584553935522,
             "z": 0.5
            }
           }
          }
         }
        },
        {
         "layout": {
          "scene": {
           "camera": {
            "eye": {
             "x": 2.245638999265959,
             "y": -0.7208366562375849,
             "z": 0.5
            }
           }
          }
         }
        },
        {
         "layout": {
          "scene": {
           "camera": {
            "eye": {
             "x": 2.215016949648337,
             "y": -0.8100616722019226,
             "z": 0.5
            }
           }
          }
         }
        },
        {
         "layout": {
          "scene": {
           "camera": {
            "eye": {
             "x": 2.1808513454230263,
             "y": -0.8979907622946776,
             "z": 0.5
            }
           }
          }
         }
        },
        {
         "layout": {
          "scene": {
           "camera": {
            "eye": {
             "x": 2.1431968442685125,
             "y": -0.9844832587289071,
             "z": 0.5
            }
           }
          }
         }
        },
        {
         "layout": {
          "scene": {
           "camera": {
            "eye": {
             "x": 2.1021136853541122,
             "y": -1.0694007919610644,
             "z": 0.5
            }
           }
          }
         }
        },
        {
         "layout": {
          "scene": {
           "camera": {
            "eye": {
             "x": 2.0576675929701485,
             "y": -1.1526075120527528,
             "z": 0.5
            }
           }
          }
         }
        },
        {
         "layout": {
          "scene": {
           "camera": {
            "eye": {
             "x": 2.0099296713831074,
             "y": -1.2339703060016451,
             "z": 0.5
            }
           }
          }
         }
        },
        {
         "layout": {
          "scene": {
           "camera": {
            "eye": {
             "x": 1.958976291083982,
             "y": -1.3133590106938944,
             "z": 0.5
            }
           }
          }
         }
        },
        {
         "layout": {
          "scene": {
           "camera": {
            "eye": {
             "x": 1.9048889666117765,
             "y": -1.3906466211373463,
             "z": 0.5
            }
           }
          }
         }
        },
        {
         "layout": {
          "scene": {
           "camera": {
            "eye": {
             "x": 1.8477542261476323,
             "y": -1.4657094936424357,
             "z": 0.5
            }
           }
          }
         }
        },
        {
         "layout": {
          "scene": {
           "camera": {
            "eye": {
             "x": 1.7876634730881977,
             "y": -1.5384275436257122,
             "z": 0.5
            }
           }
          }
         }
        },
        {
         "layout": {
          "scene": {
           "camera": {
            "eye": {
             "x": 1.72471283981969,
             "y": -1.6086844377195608,
             "z": 0.5
            }
           }
          }
         }
        },
        {
         "layout": {
          "scene": {
           "camera": {
            "eye": {
             "x": 1.659003033926587,
             "y": -1.676367779880769,
             "z": 0.5
            }
           }
          }
         }
        },
        {
         "layout": {
          "scene": {
           "camera": {
            "eye": {
             "x": 1.5906391770809738,
             "y": -1.7413692912002217,
             "z": 0.5
            }
           }
          }
         }
        },
        {
         "layout": {
          "scene": {
           "camera": {
            "eye": {
             "x": 1.5197306368702912,
             "y": -1.8035849831260569,
             "z": 0.5
            }
           }
          }
         }
        },
        {
         "layout": {
          "scene": {
           "camera": {
            "eye": {
             "x": 1.446390851832528,
             "y": -1.8629153238231666,
             "z": 0.5
            }
           }
          }
         }
        },
        {
         "layout": {
          "scene": {
           "camera": {
            "eye": {
             "x": 1.3707371499787584,
             "y": -1.9192653974029,
             "z": 0.5
            }
           }
          }
         }
        },
        {
         "layout": {
          "scene": {
           "camera": {
            "eye": {
             "x": 1.2928905610933523,
             "y": -1.9725450557682367,
             "z": 0.5
            }
           }
          }
         }
        },
        {
         "layout": {
          "scene": {
           "camera": {
            "eye": {
             "x": 1.2129756231121402,
             "y": -2.022669062831514,
             "z": 0.5
            }
           }
          }
         }
        },
        {
         "layout": {
          "scene": {
           "camera": {
            "eye": {
             "x": 1.1311201828882813,
             "y": -2.0695572308739814,
             "z": 0.5
            }
           }
          }
         }
        },
        {
         "layout": {
          "scene": {
           "camera": {
            "eye": {
             "x": 1.0474551916645707,
             "y": -2.1131345488290467,
             "z": 0.5
            }
           }
          }
         }
        },
        {
         "layout": {
          "scene": {
           "camera": {
            "eye": {
             "x": 0.9621144955793868,
             "y": -2.15333130228398,
             "z": 0.5
            }
           }
          }
         }
        },
        {
         "layout": {
          "scene": {
           "camera": {
            "eye": {
             "x": 0.875234621541422,
             "y": -2.190083185008105,
             "z": 0.5
            }
           }
          }
         }
        },
        {
         "layout": {
          "scene": {
           "camera": {
            "eye": {
             "x": 0.7869545588157532,
             "y": -2.2233314018290447,
             "z": 0.5
            }
           }
          }
         }
        },
        {
         "layout": {
          "scene": {
           "camera": {
            "eye": {
             "x": 0.6974155366706638,
             "y": -2.2530227626924613,
             "z": 0.5
            }
           }
          }
         }
        },
        {
         "layout": {
          "scene": {
           "camera": {
            "eye": {
             "x": 0.6067607984409478,
             "y": -2.2791097677547922,
             "z": 0.5
            }
           }
          }
         }
        },
        {
         "layout": {
          "scene": {
           "camera": {
            "eye": {
             "x": 0.5151353723691265,
             "y": -2.301550683372869,
             "z": 0.5
            }
           }
          }
         }
        },
        {
         "layout": {
          "scene": {
           "camera": {
            "eye": {
             "x": 0.4226858395911999,
             "y": -2.320309608868843,
             "z": 0.5
            }
           }
          }
         }
        },
        {
         "layout": {
          "scene": {
           "camera": {
            "eye": {
             "x": 0.3295600996380973,
             "y": -2.33535653396361,
             "z": 0.5
            }
           }
          }
         }
        },
        {
         "layout": {
          "scene": {
           "camera": {
            "eye": {
             "x": 0.2359071338279789,
             "y": -2.3466673867868595,
             "z": 0.5
            }
           }
          }
         }
        },
        {
         "layout": {
          "scene": {
           "camera": {
            "eye": {
             "x": 0.14187676692790685,
             "y": -2.3542240723869265,
             "z": 0.5
            }
           }
          }
         }
        },
        {
         "layout": {
          "scene": {
           "camera": {
            "eye": {
             "x": 0.04761942746617942,
             "y": -2.3580145016788583,
             "z": 0.5
            }
           }
          }
         }
        },
        {
         "layout": {
          "scene": {
           "camera": {
            "eye": {
             "x": -0.046714092921224415,
             "y": -2.358032610784369,
             "z": 0.5
            }
           }
          }
         }
        },
        {
         "layout": {
          "scene": {
           "camera": {
            "eye": {
             "x": -0.14097288072509584,
             "y": -2.3542783707327537,
             "z": 0.5
            }
           }
          }
         }
        },
        {
         "layout": {
          "scene": {
           "camera": {
            "eye": {
             "x": -0.23500614199241787,
             "y": -2.346757787507232,
             "z": 0.5
            }
           }
          }
         }
        },
        {
         "layout": {
          "scene": {
           "camera": {
            "eye": {
             "x": -0.32866344356452093,
             "y": -2.335482892436661,
             "z": 0.5
            }
           }
          }
         }
        },
        {
         "layout": {
          "scene": {
           "camera": {
            "eye": {
             "x": -0.4217949537380502,
             "y": -2.320471722947969,
             "z": 0.5
            }
           }
          }
         }
        },
        {
         "layout": {
          "scene": {
           "camera": {
            "eye": {
             "x": -0.5142516819637232,
             "y": -2.3017482937101272,
             "z": 0.5
            }
           }
          }
         }
        },
        {
         "layout": {
          "scene": {
           "camera": {
            "eye": {
             "x": -0.6058857171994289,
             "y": -2.279342558215797,
             "z": 0.5
            }
           }
          }
         }
        },
        {
         "layout": {
          "scene": {
           "camera": {
            "eye": {
             "x": -0.6965504645363415,
             "y": -2.253290360862134,
             "z": 0.5
            }
           }
          }
         }
        },
        {
         "layout": {
          "scene": {
           "camera": {
            "eye": {
             "x": -0.7861008797195037,
             "y": -2.223633379607399,
             "z": 0.5
            }
           }
          }
         }
        },
        {
         "layout": {
          "scene": {
           "camera": {
            "eye": {
             "x": -0.8743937011876919,
             "y": -2.190419059295113,
             "z": 0.5
            }
           }
          }
         }
        },
        {
         "layout": {
          "scene": {
           "camera": {
            "eye": {
             "x": -0.9612876792613543,
             "y": -2.1537005357524337,
             "z": 0.5
            }
           }
          }
         }
        },
        {
         "layout": {
          "scene": {
           "camera": {
            "eye": {
             "x": -1.046643802111966,
             "y": -2.113536550784161,
             "z": 0.5
            }
           }
          }
         }
        },
        {
         "layout": {
          "scene": {
           "camera": {
            "eye": {
             "x": -1.1303255181513021,
             "y": -2.069991358198384,
             "z": 0.5
            }
           }
          }
         }
        },
        {
         "layout": {
          "scene": {
           "camera": {
            "eye": {
             "x": -1.2121989544848462,
             "y": -2.023134621014095,
             "z": 0.5
            }
           }
          }
         }
        },
        {
         "layout": {
          "scene": {
           "camera": {
            "eye": {
             "x": -1.2921331310798663,
             "y": -1.9730413000152178,
             "z": 0.5
            }
           }
          }
         }
        },
        {
         "layout": {
          "scene": {
           "camera": {
            "eye": {
             "x": -1.3700001703055256,
             "y": -1.9197915338293454,
             "z": 0.5
            }
           }
          }
         }
        },
        {
         "layout": {
          "scene": {
           "camera": {
            "eye": {
             "x": -1.445675501509812,
             "y": -1.863470510723031,
             "z": 0.5
            }
           }
          }
         }
        },
        {
         "layout": {
          "scene": {
           "camera": {
            "eye": {
             "x": -1.5190380603060079,
             "y": -1.8041683323187336,
             "z": 0.5
            }
           }
          }
         }
        },
        {
         "layout": {
          "scene": {
           "camera": {
            "eye": {
             "x": -1.5899704822498846,
             "y": -1.741979869451444,
             "z": 0.5
            }
           }
          }
         }
        },
        {
         "layout": {
          "scene": {
           "camera": {
            "eye": {
             "x": -1.6583592905977744,
             "y": -1.6770046103955847,
             "z": 0.5
            }
           }
          }
         }
        },
        {
         "layout": {
          "scene": {
           "camera": {
            "eye": {
             "x": -1.7240950778451551,
             "y": -1.609346501704996,
             "z": 0.5
            }
           }
          }
         }
        },
        {
         "layout": {
          "scene": {
           "camera": {
            "eye": {
             "x": -1.7870726807553179,
             "y": -1.5391137819206224,
             "z": 0.5
            }
           }
          }
         }
        },
        {
         "layout": {
          "scene": {
           "camera": {
            "eye": {
             "x": -1.8471913485981115,
             "y": -1.4664188084119385,
             "z": 0.5
            }
           }
          }
         }
        },
        {
         "layout": {
          "scene": {
           "camera": {
            "eye": {
             "x": -1.9043549043296184,
             "y": -1.3913778776291255,
             "z": 0.5
            }
           }
          }
         }
        },
        {
         "layout": {
          "scene": {
           "camera": {
            "eye": {
             "x": -1.958471898454912,
             "y": -1.3141110390535544,
             "z": 0.5
            }
           }
          }
         }
        },
        {
         "layout": {
          "scene": {
           "camera": {
            "eye": {
             "x": -2.0094557553277337,
             "y": -1.2347419031442348,
             "z": 0.5
            }
           }
          }
         }
        },
        {
         "layout": {
          "scene": {
           "camera": {
            "eye": {
             "x": -2.057224911653063,
             "y": -1.1533974435874421,
             "z": 0.5
            }
           }
          }
         }
        },
        {
         "layout": {
          "scene": {
           "camera": {
            "eye": {
             "x": -2.101702946970989,
             "y": -1.070207794165908,
             "z": 0.5
            }
           }
          }
         }
        },
        {
         "layout": {
          "scene": {
           "camera": {
            "eye": {
             "x": -2.1428187059131454,
             "y": -0.9853060405725285,
             "z": 0.5
            }
           }
          }
         }
        },
        {
         "layout": {
          "scene": {
           "camera": {
            "eye": {
             "x": -2.180506412036118,
             "y": -0.8988280075016445,
             "z": 0.5
            }
           }
          }
         }
        },
        {
         "layout": {
          "scene": {
           "camera": {
            "eye": {
             "x": -2.214705773049725,
             "y": -0.8109120413585065,
             "z": 0.5
            }
           }
          }
         }
        },
        {
         "layout": {
          "scene": {
           "camera": {
            "eye": {
             "x": -2.2453620772718197,
             "y": -0.7216987889345376,
             "z": 0.5
            }
           }
          }
         }
        },
        {
         "layout": {
          "scene": {
           "camera": {
            "eye": {
             "x": -2.2724262811553095,
             "y": -0.6313309724024706,
             "z": 0.5
            }
           }
          }
         }
        },
        {
         "layout": {
          "scene": {
           "camera": {
            "eye": {
             "x": -2.2958550877473702,
             "y": -0.5399531609913176,
             "z": 0.5
            }
           }
          }
         }
        },
        {
         "layout": {
          "scene": {
           "camera": {
            "eye": {
             "x": -2.3156110159553323,
             "y": -0.4477115397064425,
             "z": 0.5
            }
           }
          }
         }
        },
        {
         "layout": {
          "scene": {
           "camera": {
            "eye": {
             "x": -2.331662460508437,
             "y": -0.3547536754647387,
             "z": 0.5
            }
           }
          }
         }
        },
        {
         "layout": {
          "scene": {
           "camera": {
            "eye": {
             "x": -2.3439837425195247,
             "y": -0.2612282810190394,
             "z": 0.5
            }
           }
          }
         }
        },
        {
         "layout": {
          "scene": {
           "camera": {
            "eye": {
             "x": -2.352555150565778,
             "y": -0.16728497704943712,
             "z": 0.5
            }
           }
          }
         }
        },
        {
         "layout": {
          "scene": {
           "camera": {
            "eye": {
             "x": -2.3573629722227913,
             "y": -0.07307405280211454,
             "z": 0.5
            }
           }
          }
         }
        },
        {
         "layout": {
          "scene": {
           "camera": {
            "eye": {
             "x": -2.358399516001529,
             "y": 0.02125377434139164,
             "z": 0.5
            }
           }
          }
         }
        },
        {
         "layout": {
          "scene": {
           "camera": {
            "eye": {
             "x": -2.355663123653061,
             "y": 0.11554759997984831,
             "z": 0.5
            }
           }
          }
         }
        },
        {
         "layout": {
          "scene": {
           "camera": {
            "eye": {
             "x": -2.3491581728214133,
             "y": 0.20965657410717753,
             "z": 0.5
            }
           }
          }
         }
        },
        {
         "layout": {
          "scene": {
           "camera": {
            "eye": {
             "x": -2.3388950700402678,
             "y": 0.30343014244028543,
             "z": 0.5
            }
           }
          }
         }
        },
        {
         "layout": {
          "scene": {
           "camera": {
            "eye": {
             "x": -2.3248902340847284,
             "y": 0.3967182872738003,
             "z": 0.5
            }
           }
          }
         }
        },
        {
         "layout": {
          "scene": {
           "camera": {
            "eye": {
             "x": -2.3071660697047855,
             "y": 0.4893717674763981,
             "z": 0.5
            }
           }
          }
         }
        },
        {
         "layout": {
          "scene": {
           "camera": {
            "eye": {
             "x": -2.285750931782493,
             "y": 0.5812423572447765,
             "z": 0.5
            }
           }
          }
         }
        },
        {
         "layout": {
          "scene": {
           "camera": {
            "eye": {
             "x": -2.260679079970209,
             "y": 0.6721830832333194,
             "z": 0.5
            }
           }
          }
         }
        },
        {
         "layout": {
          "scene": {
           "camera": {
            "eye": {
             "x": -2.2319906238824543,
             "y": 0.7620484596800993,
             "z": 0.5
            }
           }
          }
         }
        },
        {
         "layout": {
          "scene": {
           "camera": {
            "eye": {
             "x": -2.1997314589290946,
             "y": 0.8506947211530566,
             "z": 0.5
            }
           }
          }
         }
        },
        {
         "layout": {
          "scene": {
           "camera": {
            "eye": {
             "x": -2.163953192892465,
             "y": 0.9379800525440332,
             "z": 0.5
            }
           }
          }
         }
        },
        {
         "layout": {
          "scene": {
           "camera": {
            "eye": {
             "x": -2.1247130633659346,
             "y": 1.0237648159426784,
             "z": 0.5
            }
           }
          }
         }
        },
        {
         "layout": {
          "scene": {
           "camera": {
            "eye": {
             "x": -2.082073846185965,
             "y": 1.1079117740273285,
             "z": 0.5
            }
           }
          }
         }
        },
        {
         "layout": {
          "scene": {
           "camera": {
            "eye": {
             "x": -2.0361037550041634,
             "y": 1.1902863096154412,
             "z": 0.5
            }
           }
          }
         }
        },
        {
         "layout": {
          "scene": {
           "camera": {
            "eye": {
             "x": -1.9868763321599903,
             "y": 1.270756641022373,
             "z": 0.5
            }
           }
          }
         }
        },
        {
         "layout": {
          "scene": {
           "camera": {
            "eye": {
             "x": -1.9344703310287068,
             "y": 1.349194032883961,
             "z": 0.5
            }
           }
          }
         }
        },
        {
         "layout": {
          "scene": {
           "camera": {
            "eye": {
             "x": -1.8789695900327714,
             "y": 1.4254730021056445,
             "z": 0.5
            }
           }
          }
         }
        },
        {
         "layout": {
          "scene": {
           "camera": {
            "eye": {
             "x": -1.8204628985182518,
             "y": 1.499471518608648,
             "z": 0.5
            }
           }
          }
         }
        },
        {
         "layout": {
          "scene": {
           "camera": {
            "eye": {
             "x": -1.7590438547108092,
             "y": 1.5710712005520746,
             "z": 0.5
            }
           }
          }
         }
        },
        {
         "layout": {
          "scene": {
           "camera": {
            "eye": {
             "x": -1.6948107159785049,
             "y": 1.6401575037185996,
             "z": 0.5
            }
           }
          }
         }
        },
        {
         "layout": {
          "scene": {
           "camera": {
            "eye": {
             "x": -1.6278662416409717,
             "y": 1.706619904760781,
             "z": 0.5
            }
           }
          }
         }
        },
        {
         "layout": {
          "scene": {
           "camera": {
            "eye": {
             "x": -1.5583175285764237,
             "y": 1.7703520780148416,
             "z": 0.5
            }
           }
          }
         }
        },
        {
         "layout": {
          "scene": {
           "camera": {
            "eye": {
             "x": -1.4862758398894962,
             "y": 1.831252065599046,
             "z": 0.5
            }
           }
          }
         }
        },
        {
         "layout": {
          "scene": {
           "camera": {
            "eye": {
             "x": -1.4118564269140148,
             "y": 1.8892224405245646,
             "z": 0.5
            }
           }
          }
         }
        },
        {
         "layout": {
          "scene": {
           "camera": {
            "eye": {
             "x": -1.3351783448354453,
             "y": 1.9441704625578697,
             "z": 0.5
            }
           }
          }
         }
        },
        {
         "layout": {
          "scene": {
           "camera": {
            "eye": {
             "x": -1.2563642622279951,
             "y": 1.9960082265853278,
             "z": 0.5
            }
           }
          }
         }
        },
        {
         "layout": {
          "scene": {
           "camera": {
            "eye": {
             "x": -1.1755402648110618,
             "y": 2.0446528032426285,
             "z": 0.5
            }
           }
          }
         }
        },
        {
         "layout": {
          "scene": {
           "camera": {
            "eye": {
             "x": -1.0928356537389794,
             "y": 2.090026371584076,
             "z": 0.5
            }
           }
          }
         }
        },
        {
         "layout": {
          "scene": {
           "camera": {
            "eye": {
             "x": -1.0083827387467537,
             "y": 2.132056343579502,
             "z": 0.5
            }
           }
          }
         }
        },
        {
         "layout": {
          "scene": {
           "camera": {
            "eye": {
             "x": -0.922316626482711,
             "y": 2.1706754802396304,
             "z": 0.5
            }
           }
          }
         }
        },
        {
         "layout": {
          "scene": {
           "camera": {
            "eye": {
             "x": -0.8347750043666831,
             "y": 2.205821999184115,
             "z": 0.5
            }
           }
          }
         }
        },
        {
         "layout": {
          "scene": {
           "camera": {
            "eye": {
             "x": -0.7458979203195049,
             "y": 2.2374396734801674,
             "z": 0.5
            }
           }
          }
         }
        },
        {
         "layout": {
          "scene": {
           "camera": {
            "eye": {
             "x": -0.6558275587162187,
             "y": 2.265477921593659,
             "z": 0.5
            }
           }
          }
         }
        },
        {
         "layout": {
          "scene": {
           "camera": {
            "eye": {
             "x": -0.5647080129214042,
             "y": 2.289891888308782,
             "z": 0.5
            }
           }
          }
         }
        },
        {
         "layout": {
          "scene": {
           "camera": {
            "eye": {
             "x": -0.47268505477053346,
             "y": 2.310642516486827,
             "z": 0.5
            }
           }
          }
         }
        },
        {
         "layout": {
          "scene": {
           "camera": {
            "eye": {
             "x": -0.379905901366132,
             "y": 2.327696609549274,
             "z": 0.5
            }
           }
          }
         }
        },
        {
         "layout": {
          "scene": {
           "camera": {
            "eye": {
             "x": -0.2865189795618127,
             "y": 2.3410268845852364,
             "z": 0.5
            }
           }
          }
         }
        },
        {
         "layout": {
          "scene": {
           "camera": {
            "eye": {
             "x": -0.19267368851098376,
             "y": 2.350612015998296,
             "z": 0.5
            }
           }
          }
         }
        },
        {
         "layout": {
          "scene": {
           "camera": {
            "eye": {
             "x": -0.0985201606600653,
             "y": 2.356436669622911,
             "z": 0.5
            }
           }
          }
         }
        },
        {
         "layout": {
          "scene": {
           "camera": {
            "eye": {
             "x": -0.004209021568603921,
             "y": 2.3584915272558082,
             "z": 0.5
            }
           }
          }
         }
        },
        {
         "layout": {
          "scene": {
           "camera": {
            "eye": {
             "x": 0.09010885105949007,
             "y": 2.356773301563122,
             "z": 0.5
            }
           }
          }
         }
        },
        {
         "layout": {
          "scene": {
           "camera": {
            "eye": {
             "x": 0.1842825687480858,
             "y": 2.351284741339425,
             "z": 0.5
            }
           }
          }
         }
        },
        {
         "layout": {
          "scene": {
           "camera": {
            "eye": {
             "x": 0.2781614736382023,
             "y": 2.342034627110245,
             "z": 0.5
            }
           }
          }
         }
        },
        {
         "layout": {
          "scene": {
           "camera": {
            "eye": {
             "x": 0.37159537950844734,
             "y": 2.3290377570850955,
             "z": 0.5
            }
           }
          }
         }
        },
        {
         "layout": {
          "scene": {
           "camera": {
            "eye": {
             "x": 0.46443481204093207,
             "y": 2.3123149234835,
             "z": 0.5
            }
           }
          }
         }
        },
        {
         "layout": {
          "scene": {
           "camera": {
            "eye": {
             "x": 0.5565312479482936,
             "y": 2.291892879271873,
             "z": 0.5
            }
           }
          }
         }
        },
        {
         "layout": {
          "scene": {
           "camera": {
            "eye": {
             "x": 0.6477373525792725,
             "y": 2.267804295364482,
             "z": 0.5
            }
           }
          }
         }
        },
        {
         "layout": {
          "scene": {
           "camera": {
            "eye": {
             "x": 0.7379072156227233,
             "y": 2.240087708356956,
             "z": 0.5
            }
           }
          }
         }
        },
        {
         "layout": {
          "scene": {
           "camera": {
            "eye": {
             "x": 0.8268965845329881,
             "y": 2.2087874588759506,
             "z": 0.5
            }
           }
          }
         }
        },
        {
         "layout": {
          "scene": {
           "camera": {
            "eye": {
             "x": 0.9145630953031971,
             "y": 2.173953620643604,
             "z": 0.5
            }
           }
          }
         }
        },
        {
         "layout": {
          "scene": {
           "camera": {
            "eye": {
             "x": 1.000766500217309,
             "y": 2.1356419203702663,
             "z": 0.5
            }
           }
          }
         }
        },
        {
         "layout": {
          "scene": {
           "camera": {
            "eye": {
             "x": 1.0853688922165405,
             "y": 2.0939136486036474,
             "z": 0.5
            }
           }
          }
         }
        },
        {
         "layout": {
          "scene": {
           "camera": {
            "eye": {
             "x": 1.1682349255212408,
             "y": 2.0488355616770177,
             "z": 0.5
            }
           }
          }
         }
        },
        {
         "layout": {
          "scene": {
           "camera": {
            "eye": {
             "x": 1.249232032155266,
             "y": 2.0004797749133143,
             "z": 0.5
            }
           }
          }
         }
        },
        {
         "layout": {
          "scene": {
           "camera": {
            "eye": {
             "x": 1.3282306340264631,
             "y": 1.9489236472560076,
             "z": 0.5
            }
           }
          }
         }
        },
        {
         "layout": {
          "scene": {
           "camera": {
            "eye": {
             "x": 1.4051043502239748,
             "y": 1.894249657511296,
             "z": 0.5
            }
           }
          }
         }
        },
        {
         "layout": {
          "scene": {
           "camera": {
            "eye": {
             "x": 1.4797301992007363,
             "y": 1.8365452723996076,
             "z": 0.5
            }
           }
          }
         }
        },
        {
         "layout": {
          "scene": {
           "camera": {
            "eye": {
             "x": 1.551988795517717,
             "y": 1.77590280662751,
             "z": 0.5
            }
           }
          }
         }
        },
        {
         "layout": {
          "scene": {
           "camera": {
            "eye": {
             "x": 1.6217645408351546,
             "y": 1.7124192752038678,
             "z": 0.5
            }
           }
          }
         }
        },
        {
         "layout": {
          "scene": {
           "camera": {
            "eye": {
             "x": 1.6889458088452396,
             "y": 1.646196238236529,
             "z": 0.5
            }
           }
          }
         }
        },
        {
         "layout": {
          "scene": {
           "camera": {
            "eye": {
             "x": 1.7534251238503944,
             "y": 1.5773396384578147,
             "z": 0.5
            }
           }
          }
         }
        },
        {
         "layout": {
          "scene": {
           "camera": {
            "eye": {
             "x": 1.8150993327014668,
             "y": 1.505959631738743,
             "z": 0.5
            }
           }
          }
         }
        },
        {
         "layout": {
          "scene": {
           "camera": {
            "eye": {
             "x": 1.8738697698207567,
             "y": 1.432170410863143,
             "z": 0.5
            }
           }
          }
         }
        },
        {
         "layout": {
          "scene": {
           "camera": {
            "eye": {
             "x": 1.9296424150458977,
             "y": 1.3560900228435557,
             "z": 0.5
            }
           }
          }
         }
        },
        {
         "layout": {
          "scene": {
           "camera": {
            "eye": {
             "x": 1.9823280440420594,
             "y": 1.2778401800711945,
             "z": 0.5
            }
           }
          }
         }
        },
        {
         "layout": {
          "scene": {
           "camera": {
            "eye": {
             "x": 2.0318423710418494,
             "y": 1.1975460656020862,
             "z": 0.5
            }
           }
          }
         }
        },
        {
         "layout": {
          "scene": {
           "camera": {
            "eye": {
             "x": 2.078106183684561,
             "y": 1.1153361328908833,
             "z": 0.5
            }
           }
          }
         }
        },
        {
         "layout": {
          "scene": {
           "camera": {
            "eye": {
             "x": 2.121045469739053,
             "y": 1.0313419002927402,
             "z": 0.5
            }
           }
          }
         }
        },
        {
         "layout": {
          "scene": {
           "camera": {
            "eye": {
             "x": 2.1605915355075305,
             "y": 0.9456977406620002,
             "z": 0.5
            }
           }
          }
         }
        },
        {
         "layout": {
          "scene": {
           "camera": {
            "eye": {
             "x": 2.196681115720809,
             "y": 0.8585406663842908,
             "z": 0.5
            }
           }
          }
         }
        },
        {
         "layout": {
          "scene": {
           "camera": {
            "eye": {
             "x": 2.2292564747492447,
             "y": 0.7700101101859445,
             "z": 0.5
            }
           }
          }
         }
        },
        {
         "layout": {
          "scene": {
           "camera": {
            "eye": {
             "x": 2.2582654989674342,
             "y": 0.6802477020713595,
             "z": 0.5
            }
           }
          }
         }
        },
        {
         "layout": {
          "scene": {
           "camera": {
            "eye": {
             "x": 2.283661780124888,
             "y": 0.5893970427452347,
             "z": 0.5
            }
           }
          }
         }
        },
        {
         "layout": {
          "scene": {
           "camera": {
            "eye": {
             "x": 2.3054046895893396,
             "y": 0.4976034738820474,
             "z": 0.5
            }
           }
          }
         }
        },
        {
         "layout": {
          "scene": {
           "camera": {
            "eye": {
             "x": 2.3234594433438867,
             "y": 0.4050138456103911,
             "z": 0.5
            }
           }
          }
         }
        },
        {
         "layout": {
          "scene": {
           "camera": {
            "eye": {
             "x": 2.3377971576339953,
             "y": 0.31177628158410786,
             "z": 0.5
            }
           }
          }
         }
        },
        {
         "layout": {
          "scene": {
           "camera": {
            "eye": {
             "x": 2.3483948951753524,
             "y": 0.2180399420160124,
             "z": 0.5
            }
           }
          }
         }
        },
        {
         "layout": {
          "scene": {
           "camera": {
            "eye": {
             "x": 2.3552357018486205,
             "y": 0.12395478505340207,
             "z": 0.5
            }
           }
          }
         }
        },
        {
         "layout": {
          "scene": {
           "camera": {
            "eye": {
             "x": 2.3583086338224177,
             "y": 0.029671326876979487,
             "z": 0.5
            }
           }
          }
         }
        },
        {
         "layout": {
          "scene": {
           "camera": {
            "eye": {
             "x": 2.3576087750611094,
             "y": -0.06465959909289665,
             "z": 0.5
            }
           }
          }
         }
        },
        {
         "layout": {
          "scene": {
           "camera": {
            "eye": {
             "x": 2.3531372451894184,
             "y": -0.15888708349754066,
             "z": 0.5
            }
           }
          }
         }
        },
        {
         "layout": {
          "scene": {
           "camera": {
            "eye": {
             "x": 2.3449011977012644,
             "y": -0.2528603824626877,
             "z": 0.5
            }
           }
          }
         }
        },
        {
         "layout": {
          "scene": {
           "camera": {
            "eye": {
             "x": 2.3329138085156975,
             "y": -0.34642915875656977,
             "z": 0.5
            }
           }
          }
         }
        },
        {
         "layout": {
          "scene": {
           "camera": {
            "eye": {
             "x": 2.3171942548982423,
             "y": -0.43944372229738327,
             "z": 0.5
            }
           }
          }
         }
        },
        {
         "layout": {
          "scene": {
           "camera": {
            "eye": {
             "x": 2.29776768478136,
             "y": -0.5317552696255191,
             "z": 0.5
            }
           }
          }
         }
        },
        {
         "layout": {
          "scene": {
           "camera": {
            "eye": {
             "x": 2.274665176533125,
             "y": -0.6232161219573242,
             "z": 0.5
            }
           }
          }
         }
        },
        {
         "layout": {
          "scene": {
           "camera": {
            "eye": {
             "x": 2.2479236892384606,
             "y": -0.7136799614396837,
             "z": 0.5
            }
           }
          }
         }
        },
        {
         "layout": {
          "scene": {
           "camera": {
            "eye": {
             "x": 2.217586003572494,
             "y": -0.8030020652273412,
             "z": 0.5
            }
           }
          }
         }
        },
        {
         "layout": {
          "scene": {
           "camera": {
            "eye": {
             "x": 2.183700653360593,
             "y": -0.8910395370086099,
             "z": 0.5
            }
           }
          }
         }
        },
        {
         "layout": {
          "scene": {
           "camera": {
            "eye": {
             "x": 2.146321847934612,
             "y": -0.9776515356089576,
             "z": 0.5
            }
           }
          }
         }
        },
        {
         "layout": {
          "scene": {
           "camera": {
            "eye": {
             "x": 2.1055093854095075,
             "y": -1.0626995003068727,
             "z": 0.5
            }
           }
          }
         }
        },
        {
         "layout": {
          "scene": {
           "camera": {
            "eye": {
             "x": 2.061328557019131,
             "y": -1.146047372501429,
             "z": 0.5
            }
           }
          }
         }
        },
        {
         "layout": {
          "scene": {
           "camera": {
            "eye": {
             "x": 2.0138500426641603,
             "y": -1.2275618133770536,
             "z": 0.5
            }
           }
          }
         }
        },
        {
         "layout": {
          "scene": {
           "camera": {
            "eye": {
             "x": 1.9631497978393595,
             "y": -1.3071124172171582,
             "z": 0.5
            }
           }
          }
         }
        },
        {
         "layout": {
          "scene": {
           "camera": {
            "eye": {
             "x": 1.9093089321209678,
             "y": -1.3845719200254964,
             "z": 0.5
            }
           }
          }
         }
        },
        {
         "layout": {
          "scene": {
           "camera": {
            "eye": {
             "x": 1.8524135794087007,
             "y": -1.4598164031213803,
             "z": 0.5
            }
           }
          }
         }
        },
        {
         "layout": {
          "scene": {
           "camera": {
            "eye": {
             "x": 1.7925547601298653,
             "y": -1.5327254913831638,
             "z": 0.5
            }
           }
          }
         }
        },
        {
         "layout": {
          "scene": {
           "camera": {
            "eye": {
             "x": 1.7298282356261119,
             "y": -1.6031825458227307,
             "z": 0.5
            }
           }
          }
         }
        },
        {
         "layout": {
          "scene": {
           "camera": {
            "eye": {
             "x": 1.6643343549556968,
             "y": -1.6710748501830206,
             "z": 0.5
            }
           }
          }
         }
        },
        {
         "layout": {
          "scene": {
           "camera": {
            "eye": {
             "x": 1.5961778943564153,
             "y": -1.73629379125997,
             "z": 0.5
            }
           }
          }
         }
        },
        {
         "layout": {
          "scene": {
           "camera": {
            "eye": {
             "x": 1.525467889625954,
             "y": -1.7987350326604914,
             "z": 0.5
            }
           }
          }
         }
        },
        {
         "layout": {
          "scene": {
           "camera": {
            "eye": {
             "x": 1.4523174616878816,
             "y": -1.8582986817184337,
             "z": 0.5
            }
           }
          }
         }
        },
        {
         "layout": {
          "scene": {
           "camera": {
            "eye": {
             "x": 1.3768436356223135,
             "y": -1.9148894493015334,
             "z": 0.5
            }
           }
          }
         }
        },
        {
         "layout": {
          "scene": {
           "camera": {
            "eye": {
             "x": 1.2991671534507236,
             "y": -1.9684168022537158,
             "z": 0.5
            }
           }
          }
         }
        },
        {
         "layout": {
          "scene": {
           "camera": {
            "eye": {
             "x": 1.2194122809744943,
             "y": -2.018795108228812,
             "z": 0.5
            }
           }
          }
         }
        },
        {
         "layout": {
          "scene": {
           "camera": {
            "eye": {
             "x": 1.1377066089761148,
             "y": -2.0659437726840655,
             "z": 0.5
            }
           }
          }
         }
        },
        {
         "layout": {
          "scene": {
           "camera": {
            "eye": {
             "x": 1.0541808491011766,
             "y": -2.1097873678141887,
             "z": 0.5
            }
           }
          }
         }
        },
        {
         "layout": {
          "scene": {
           "camera": {
            "eye": {
             "x": 0.9689686247475929,
             "y": -2.1502557532197786,
             "z": 0.5
            }
           }
          }
         }
        },
        {
         "layout": {
          "scene": {
           "camera": {
            "eye": {
             "x": 0.8822062572966995,
             "y": -2.1872841881169784,
             "z": 0.5
            }
           }
          }
         }
        },
        {
         "layout": {
          "scene": {
           "camera": {
            "eye": {
             "x": 0.7940325480280916,
             "y": -2.2208134349089335,
             "z": 0.5
            }
           }
          }
         }
        },
        {
         "layout": {
          "scene": {
           "camera": {
            "eye": {
             "x": 0.7045885560672189,
             "y": -2.250789853953299,
             "z": 0.5
            }
           }
          }
         }
        },
        {
         "layout": {
          "scene": {
           "camera": {
            "eye": {
             "x": 0.6140173727208434,
             "y": -2.2771654893742337,
             "z": 0.5
            }
           }
          }
         }
        },
        {
         "layout": {
          "scene": {
           "camera": {
            "eye": {
             "x": 0.5224638925615056,
             "y": -2.299898145781565,
             "z": 0.5
            }
           }
          }
         }
        },
        {
         "layout": {
          "scene": {
           "camera": {
            "eye": {
             "x": 0.4300745816270848,
             "y": -2.318951455774417,
             "z": 0.5
            }
           }
          }
         }
        },
        {
         "layout": {
          "scene": {
           "camera": {
            "eye": {
             "x": 0.33699724310641566,
             "y": -2.33429493812129,
             "z": 0.5
            }
           }
          }
         }
        },
        {
         "layout": {
          "scene": {
           "camera": {
            "eye": {
             "x": 0.24338078088568293,
             "y": -2.3459040465235304,
             "z": 0.5
            }
           }
          }
         }
        },
        {
         "layout": {
          "scene": {
           "camera": {
            "eye": {
             "x": 0.14937496133400185,
             "y": -2.3537602088841734,
             "z": 0.5
            }
           }
          }
         }
        },
        {
         "layout": {
          "scene": {
           "camera": {
            "eye": {
             "x": 0.05513017370914075,
             "y": -2.3578508570193324,
             "z": 0.5
            }
           }
          }
         }
        },
        {
         "layout": {
          "scene": {
           "camera": {
            "eye": {
             "x": -0.039202810433174085,
             "y": -2.358169446764617,
             "z": 0.5
            }
           }
          }
         }
        },
        {
         "layout": {
          "scene": {
           "camera": {
            "eye": {
             "x": -0.13347307844162004,
             "y": -2.354715468444397,
             "z": 0.5
            }
           }
          }
         }
        },
        {
         "layout": {
          "scene": {
           "camera": {
            "eye": {
             "x": -0.22752981799729377,
             "y": -2.3474944476871755,
             "z": 0.5
            }
           }
          }
         }
        },
        {
         "layout": {
          "scene": {
           "camera": {
            "eye": {
             "x": -0.32122255838128166,
             "y": -2.3365179365857616,
             "z": 0.5
            }
           }
          }
         }
        },
        {
         "layout": {
          "scene": {
           "camera": {
            "eye": {
             "x": -0.41440141119567975,
             "y": -2.321803495216386,
             "z": 0.5
            }
           }
          }
         }
        },
        {
         "layout": {
          "scene": {
           "camera": {
            "eye": {
             "x": -0.5069173101530886,
             "y": -2.3033746635463275,
             "z": 0.5
            }
           }
          }
         }
        },
        {
         "layout": {
          "scene": {
           "camera": {
            "eye": {
             "x": -0.5986222495508402,
             "y": -2.2812609237749837,
             "z": 0.5
            }
           }
          }
         }
        },
        {
         "layout": {
          "scene": {
           "camera": {
            "eye": {
             "x": -0.6893695210485797,
             "y": -2.255497653168642,
             "z": 0.5
            }
           }
          }
         }
        },
        {
         "layout": {
          "scene": {
           "camera": {
            "eye": {
             "x": -0.7790139483703001,
             "y": -2.2261260674644,
             "z": 0.5
            }
           }
          }
         }
        },
        {
         "layout": {
          "scene": {
           "camera": {
            "eye": {
             "x": -0.8674121195554033,
             "y": -2.1931931549337835,
             "z": 0.5
            }
           }
          }
         }
        },
        {
         "layout": {
          "scene": {
           "camera": {
            "eye": {
             "x": -0.9544226163872714,
             "y": -2.156751601211525,
             "z": 0.5
            }
           }
          }
         }
        },
        {
         "layout": {
          "scene": {
           "camera": {
            "eye": {
             "x": -1.0399062406322153,
             "y": -2.116859705009799,
             "z": 0.5
            }
           }
          }
         }
        },
        {
         "layout": {
          "scene": {
           "camera": {
            "eye": {
             "x": -1.1237262367269847,
             "y": -2.0735812848527084,
             "z": 0.5
            }
           }
          }
         }
        },
        {
         "layout": {
          "scene": {
           "camera": {
            "eye": {
             "x": -1.205748510558466,
             "y": -2.026985576980271,
             "z": 0.5
            }
           }
          }
         }
        },
        {
         "layout": {
          "scene": {
           "camera": {
            "eye": {
             "x": -1.2858418439856878,
             "y": -1.9771471245851902,
             "z": 0.5
            }
           }
          }
         }
        },
        {
         "layout": {
          "scene": {
           "camera": {
            "eye": {
             "x": -1.3638781047608262,
             "y": -1.9241456585596675,
             "z": 0.5
            }
           }
          }
         }
        },
        {
         "layout": {
          "scene": {
           "camera": {
            "eye": {
             "x": -1.4397324515134955,
             "y": -1.8680659699429623,
             "z": 0.5
            }
           }
          }
         }
        },
        {
         "layout": {
          "scene": {
           "camera": {
            "eye": {
             "x": -1.5132835334702823,
             "y": -1.8089977742738372,
             "z": 0.5
            }
           }
          }
         }
        },
        {
         "layout": {
          "scene": {
           "camera": {
            "eye": {
             "x": -1.5844136845901233,
             "y": -1.7470355680648146,
             "z": 0.5
            }
           }
          }
         }
        },
        {
         "layout": {
          "scene": {
           "camera": {
            "eye": {
             "x": -1.6530091118048427,
             "y": -1.6822784776279354,
             "z": 0.5
            }
           }
          }
         }
        },
        {
         "layout": {
          "scene": {
           "camera": {
            "eye": {
             "x": -1.7189600770638147,
             "y": -1.614830100493784,
             "z": 0.5
            }
           }
          }
         }
        },
        {
         "layout": {
          "scene": {
           "camera": {
            "eye": {
             "x": -1.782161072891407,
             "y": -1.5447983396775609,
             "z": 0.5
            }
           }
          }
         }
        },
        {
         "layout": {
          "scene": {
           "camera": {
            "eye": {
             "x": -1.8425109911764617,
             "y": -1.472295231057254,
             "z": 0.5
            }
           }
          }
         }
        },
        {
         "layout": {
          "scene": {
           "camera": {
            "eye": {
             "x": -1.8999132849236797,
             "y": -1.3974367641401568,
             "z": 0.5
            }
           }
          }
         }
        },
        {
         "layout": {
          "scene": {
           "camera": {
            "eye": {
             "x": -1.9542761227082404,
             "y": -1.3203426965043759,
             "z": 0.5
            }
           }
          }
         }
        },
        {
         "layout": {
          "scene": {
           "camera": {
            "eye": {
             "x": -2.0055125355864702,
             "y": -1.2411363622122777,
             "z": 0.5
            }
           }
          }
         }
        },
        {
         "layout": {
          "scene": {
           "camera": {
            "eye": {
             "x": -2.0535405562276208,
             "y": -1.1599444745022727,
             "z": 0.5
            }
           }
          }
         }
        },
        {
         "layout": {
          "scene": {
           "camera": {
            "eye": {
             "x": -2.0982833500440927,
             "y": -1.0768969230746919,
             "z": 0.5
            }
           }
          }
         }
        },
        {
         "layout": {
          "scene": {
           "camera": {
            "eye": {
             "x": -2.1396693381104046,
             "y": -0.9921265662959455,
             "z": 0.5
            }
           }
          }
         }
        },
        {
         "layout": {
          "scene": {
           "camera": {
            "eye": {
             "x": -2.177632311674186,
             "y": -0.905769018653509,
             "z": 0.5
            }
           }
          }
         }
        },
        {
         "layout": {
          "scene": {
           "camera": {
            "eye": {
             "x": -2.212111538076074,
             "y": -0.8179624338016418,
             "z": 0.5
            }
           }
          }
         }
        },
        {
         "layout": {
          "scene": {
           "camera": {
            "eye": {
             "x": -2.2430518579089993,
             "y": -0.7288472835450424,
             "z": 0.5
            }
           }
          }
         }
        },
        {
         "layout": {
          "scene": {
           "camera": {
            "eye": {
             "x": -2.2704037732614792,
             "y": -0.6385661331138986,
             "z": 0.5
            }
           }
          }
         }
        },
        {
         "layout": {
          "scene": {
           "camera": {
            "eye": {
             "x": -2.2941235269037157,
             "y": -0.5472634130899451,
             "z": 0.5
            }
           }
          }
         }
        },
        {
         "layout": {
          "scene": {
           "camera": {
            "eye": {
             "x": -2.314173172289823,
             "y": -0.45508518834835343,
             "z": 0.5
            }
           }
          }
         }
        },
        {
         "layout": {
          "scene": {
           "camera": {
            "eye": {
             "x": -2.330520634264215,
             "y": -0.36217892438506283,
             "z": 0.5
            }
           }
          }
         }
        },
        {
         "layout": {
          "scene": {
           "camera": {
            "eye": {
             "x": -2.3431397603750033,
             "y": -0.26869325140347655,
             "z": 0.5
            }
           }
          }
         }
        },
        {
         "layout": {
          "scene": {
           "camera": {
            "eye": {
             "x": -2.352010362712349,
             "y": -0.17477772653781098,
             "z": 0.5
            }
           }
          }
         }
        },
        {
         "layout": {
          "scene": {
           "camera": {
            "eye": {
             "x": -2.357118250204805,
             "y": -0.08058259459361516,
             "z": 0.5
            }
           }
          }
         }
        },
        {
         "layout": {
          "scene": {
           "camera": {
            "eye": {
             "x": -2.3584552513220087,
             "y": 0.01374145231189794,
             "z": 0.5
            }
           }
          }
         }
        },
        {
         "layout": {
          "scene": {
           "camera": {
            "eye": {
             "x": -2.3560192271473848,
             "y": 0.10804351582506122,
             "z": 0.5
            }
           }
          }
         }
        },
        {
         "layout": {
          "scene": {
           "camera": {
            "eye": {
             "x": -2.349814074799954,
             "y": 0.2021727327609626,
             "z": 0.5
            }
           }
          }
         }
        },
        {
         "layout": {
          "scene": {
           "camera": {
            "eye": {
             "x": -2.339849721199778,
             "y": 0.2959785164523252,
             "z": 0.5
            }
           }
          }
         }
        },
        {
         "layout": {
          "scene": {
           "camera": {
            "eye": {
             "x": -2.3261421071870014,
             "y": 0.38931079765608434,
             "z": 0.5
            }
           }
          }
         }
        },
        {
         "layout": {
          "scene": {
           "camera": {
            "eye": {
             "x": -2.30871316201991,
             "y": 0.4820202646321301,
             "z": 0.5
            }
           }
          }
         }
        },
        {
         "layout": {
          "scene": {
           "camera": {
            "eye": {
             "x": -2.287590768292793,
             "y": 0.5739586020102745,
             "z": 0.5
            }
           }
          }
         }
        },
        {
         "layout": {
          "scene": {
           "camera": {
            "eye": {
             "x": -2.2628087173297455,
             "y": 0.6649787280631697,
             "z": 0.5
            }
           }
          }
         }
        },
        {
         "layout": {
          "scene": {
           "camera": {
            "eye": {
             "x": -2.234406655125751,
             "y": 0.7549350300057309,
             "z": 0.5
            }
           }
          }
         }
        },
        {
         "layout": {
          "scene": {
           "camera": {
            "eye": {
             "x": -2.2024300189215538,
             "y": 0.8436835969444961,
             "z": 0.5
            }
           }
          }
         }
        },
        {
         "layout": {
          "scene": {
           "camera": {
            "eye": {
             "x": -2.1669299645137605,
             "y": 0.9310824501043892,
             "z": 0.5
            }
           }
          }
         }
        },
        {
         "layout": {
          "scene": {
           "camera": {
            "eye": {
             "x": -2.1279632844164853,
             "y": 1.0169917699644406,
             "z": 0.5
            }
           }
          }
         }
        },
        {
         "layout": {
          "scene": {
           "camera": {
            "eye": {
             "x": -2.085592317005431,
             "y": 1.101274119939226,
             "z": 0.5
            }
           }
          }
         }
        },
        {
         "layout": {
          "scene": {
           "camera": {
            "eye": {
             "x": -2.039884846789803,
             "y": 1.1837946662480545,
             "z": 0.5
            }
           }
          }
         }
        },
        {
         "layout": {
          "scene": {
           "camera": {
            "eye": {
             "x": -1.9909139959715338,
             "y": 1.264421393620283,
             "z": 0.5
            }
           }
          }
         }
        },
        {
         "layout": {
          "scene": {
           "camera": {
            "eye": {
             "x": -1.9387581074653806,
             "y": 1.3430253164915604,
             "z": 0.5
            }
           }
          }
         }
        },
        {
         "layout": {
          "scene": {
           "camera": {
            "eye": {
             "x": -1.8835006195669515,
             "y": 1.419480685353242,
             "z": 0.5
            }
           }
          }
         }
        },
        {
         "layout": {
          "scene": {
           "camera": {
            "eye": {
             "x": -1.8252299324692538,
             "y": 1.4936651879247513,
             "z": 0.5
            }
           }
          }
         }
        },
        {
         "layout": {
          "scene": {
           "camera": {
            "eye": {
             "x": -1.764039266841222,
             "y": 1.5654601448271634,
             "z": 0.5
            }
           }
          }
         }
        },
        {
         "layout": {
          "scene": {
           "camera": {
            "eye": {
             "x": -1.700026514694554,
             "y": 1.634750699444869,
             "z": 0.5
            }
           }
          }
         }
        },
        {
         "layout": {
          "scene": {
           "camera": {
            "eye": {
             "x": -1.6332940827773552,
             "y": 1.7014260016716793,
             "z": 0.5
            }
           }
          }
         }
        },
        {
         "layout": {
          "scene": {
           "camera": {
            "eye": {
             "x": -1.5639487287451985,
             "y": 1.7653793852473405,
             "z": 0.5
            }
           }
          }
         }
        },
        {
         "layout": {
          "scene": {
           "camera": {
            "eye": {
             "x": -1.4921013903716538,
             "y": 1.8265085384007864,
             "z": 0.5
            }
           }
          }
         }
        },
        {
         "layout": {
          "scene": {
           "camera": {
            "eye": {
             "x": -1.4178670080714986,
             "y": 1.8847156675271677,
             "z": 0.5
            }
           }
          }
         }
        },
        {
         "layout": {
          "scene": {
           "camera": {
            "eye": {
             "x": -1.3413643410205953,
             "y": 1.9399076536367352,
             "z": 0.5
            }
           }
          }
         }
        },
        {
         "layout": {
          "scene": {
           "camera": {
            "eye": {
             "x": -1.262715777166521,
             "y": 1.9919962013253814,
             "z": 0.5
            }
           }
          }
         }
        },
        {
         "layout": {
          "scene": {
           "camera": {
            "eye": {
             "x": -1.1820471374339825,
             "y": 2.04089798002843,
             "z": 0.5
            }
           }
          }
         }
        },
        {
         "layout": {
          "scene": {
           "camera": {
            "eye": {
             "x": -1.0994874744381535,
             "y": 2.086534757331785,
             "z": 0.5
            }
           }
          }
         }
        },
        {
         "layout": {
          "scene": {
           "camera": {
            "eye": {
             "x": -1.0151688660280456,
             "y": 2.128833524127082,
             "z": 0.5
            }
           }
          }
         }
        },
        {
         "layout": {
          "scene": {
           "camera": {
            "eye": {
             "x": -0.9292262039900974,
             "y": 2.1677266114107088,
             "z": 0.5
            }
           }
          }
         }
        },
        {
         "layout": {
          "scene": {
           "camera": {
            "eye": {
             "x": -0.8417969782501199,
             "y": 2.203151798539757,
             "z": 0.5
            }
           }
          }
         }
        },
        {
         "layout": {
          "scene": {
           "camera": {
            "eye": {
             "x": -0.7530210569187163,
             "y": 2.2350524127717946,
             "z": 0.5
            }
           }
          }
         }
        },
        {
         "layout": {
          "scene": {
           "camera": {
            "eye": {
             "x": -0.6630404625321713,
             "y": 2.263377419929147,
             "z": 0.5
            }
           }
          }
         }
        },
        {
         "layout": {
          "scene": {
           "camera": {
            "eye": {
             "x": -0.5719991448466591,
             "y": 2.288081506042713,
             "z": 0.5
            }
           }
          }
         }
        },
        {
         "layout": {
          "scene": {
           "camera": {
            "eye": {
             "x": -0.4800427505493726,
             "y": 2.3091251498446317,
             "z": 0.5
            }
           }
          }
         }
        },
        {
         "layout": {
          "scene": {
           "camera": {
            "eye": {
             "x": -0.3873183902548616,
             "y": 2.326474685993893,
             "z": 0.5
            }
           }
          }
         }
        },
        {
         "layout": {
          "scene": {
           "camera": {
            "eye": {
             "x": -0.2939744031594633,
             "y": 2.3401023589336933,
             "z": 0.5
            }
           }
          }
         }
        },
        {
         "layout": {
          "scene": {
           "camera": {
            "eye": {
             "x": -0.20016011973020054,
             "y": 2.349986367294413,
             "z": 0.5
            }
           }
          }
         }
        },
        {
         "layout": {
          "scene": {
           "camera": {
            "eye": {
             "x": -0.10602562280792194,
             "y": 2.356110898771149,
             "z": 0.5
            }
           }
          }
         }
        },
        {
         "layout": {
          "scene": {
           "camera": {
            "eye": {
             "x": -0.011721507506739615,
             "y": 2.358466155420037,
             "z": 0.5
            }
           }
          }
         }
        },
        {
         "layout": {
          "scene": {
           "camera": {
            "eye": {
             "x": 0.08260135970599447,
             "y": 2.3570483693328654,
             "z": 0.5
            }
           }
          }
         }
        },
        {
         "layout": {
          "scene": {
           "camera": {
            "eye": {
             "x": 0.17679208236388666,
             "y": 2.35185980866493,
             "z": 0.5
            }
           }
          }
         }
        },
        {
         "layout": {
          "scene": {
           "camera": {
            "eye": {
             "x": 0.27069997540362534,
             "y": 2.3429087740064647,
             "z": 0.5
            }
           }
          }
         }
        },
        {
         "layout": {
          "scene": {
           "camera": {
            "eye": {
             "x": 0.36417480622897047,
             "y": 2.3302095851034714,
             "z": 0.5
            }
           }
          }
         }
        },
        {
         "layout": {
          "scene": {
           "camera": {
            "eye": {
             "x": 0.45706703505082713,
             "y": 2.313782557949179,
             "z": 0.5
            }
           }
          }
         }
        },
        {
         "layout": {
          "scene": {
           "camera": {
            "eye": {
             "x": 0.5492280541190365,
             "y": 2.293653972282789,
             "z": 0.5
            }
           }
          }
         }
        },
        {
         "layout": {
          "scene": {
           "camera": {
            "eye": {
             "x": 0.6405104254630621,
             "y": 2.2698560295474968,
             "z": 0.5
            }
           }
          }
         }
        },
        {
         "layout": {
          "scene": {
           "camera": {
            "eye": {
             "x": 0.7307681167612795,
             "y": 2.242426801375058,
             "z": 0.5
            }
           }
          }
         }
        },
        {
         "layout": {
          "scene": {
           "camera": {
            "eye": {
             "x": 0.8198567349615669,
             "y": 2.2114101686792886,
             "z": 0.5
            }
           }
          }
         }
        },
        {
         "layout": {
          "scene": {
           "camera": {
            "eye": {
             "x": 0.9076337572793539,
             "y": 2.1768557514559763,
             "z": 0.5
            }
           }
          }
         }
        },
        {
         "layout": {
          "scene": {
           "camera": {
            "eye": {
             "x": 0.9939587592037061,
             "y": 2.138818829401459,
             "z": 0.5
            }
           }
          }
         }
        },
        {
         "layout": {
          "scene": {
           "camera": {
            "eye": {
             "x": 1.0786936391465554,
             "y": 2.097360253476918,
             "z": 0.5
            }
           }
          }
         }
        },
        {
         "layout": {
          "scene": {
           "camera": {
            "eye": {
             "x": 1.1617028393758106,
             "y": 2.052546348559803,
             "z": 0.5
            }
           }
          }
         }
        },
        {
         "layout": {
          "scene": {
           "camera": {
            "eye": {
             "x": 1.242853562878783,
             "y": 2.004448807338196,
             "z": 0.5
            }
           }
          }
         }
        },
        {
         "layout": {
          "scene": {
           "camera": {
            "eye": {
             "x": 1.3220159858091054,
             "y": 1.9531445756177854,
             "z": 0.5
            }
           }
          }
         }
        },
        {
         "layout": {
          "scene": {
           "camera": {
            "eye": {
             "x": 1.3990634651771658,
             "y": 1.8987157292250099,
             "z": 0.5
            }
           }
          }
         }
        },
        {
         "layout": {
          "scene": {
           "camera": {
            "eye": {
             "x": 1.4738727414519008,
             "y": 1.8412493427032248,
             "z": 0.5
            }
           }
          }
         }
        },
        {
         "layout": {
          "scene": {
           "camera": {
            "eye": {
             "x": 1.5463241357497257,
             "y": 1.7808373500120287,
             "z": 0.5
            }
           }
          }
         }
        },
        {
         "layout": {
          "scene": {
           "camera": {
            "eye": {
             "x": 1.616301741295243,
             "y": 1.7175763974525164,
             "z": 0.5
            }
           }
          }
         }
        },
        {
         "layout": {
          "scene": {
           "camera": {
            "eye": {
             "x": 1.6836936088473335,
             "y": 1.65156768905384,
             "z": 0.5
            }
           }
          }
         }
        },
        {
         "layout": {
          "scene": {
           "camera": {
            "eye": {
             "x": 1.7483919257940852,
             "y": 1.5829168246683243,
             "z": 0.5
            }
           }
          }
         }
        },
        {
         "layout": {
          "scene": {
           "camera": {
            "eye": {
             "x": 1.8102931886299487,
             "y": 1.511733631034255,
             "z": 0.5
            }
           }
          }
         }
        },
        {
         "layout": {
          "scene": {
           "camera": {
            "eye": {
             "x": 1.8692983685392905,
             "y": 1.4381319860765027,
             "z": 0.5
            }
           }
          }
         }
        },
        {
         "layout": {
          "scene": {
           "camera": {
            "eye": {
             "x": 1.9253130698213512,
             "y": 1.3622296367261597,
             "z": 0.5
            }
           }
          }
         }
        },
        {
         "layout": {
          "scene": {
           "camera": {
            "eye": {
             "x": 1.9782476809032499,
             "y": 1.2841480105505416,
             "z": 0.5
            }
           }
          }
         }
        },
        {
         "layout": {
          "scene": {
           "camera": {
            "eye": {
             "x": 2.0280175176993653,
             "y": 1.2040120214950114,
             "z": 0.5
            }
           }
          }
         }
        },
        {
         "layout": {
          "scene": {
           "camera": {
            "eye": {
             "x": 2.0745429590878275,
             "y": 1.121949870047285,
             "z": 0.5
            }
           }
          }
         }
        },
        {
         "layout": {
          "scene": {
           "camera": {
            "eye": {
             "x": 2.117749574287309,
             "y": 1.0380928381440273,
             "z": 0.5
            }
           }
          }
         }
        },
        {
         "layout": {
          "scene": {
           "camera": {
            "eye": {
             "x": 2.157568241930414,
             "y": 0.95257507914773,
             "z": 0.5
            }
           }
          }
         }
        },
        {
         "layout": {
          "scene": {
           "camera": {
            "eye": {
             "x": 2.1939352606431055,
             "y": 0.8655334032299791,
             "z": 0.5
            }
           }
          }
         }
        },
        {
         "layout": {
          "scene": {
           "camera": {
            "eye": {
             "x": 2.226792450953329,
             "y": 0.7771070585043387,
             "z": 0.5
            }
           }
          }
         }
        },
        {
         "layout": {
          "scene": {
           "camera": {
            "eye": {
             "x": 2.2560872483657497,
             "y": 0.687437508259085,
             "z": 0.5
            }
           }
          }
         }
        },
        {
         "layout": {
          "scene": {
           "camera": {
            "eye": {
             "x": 2.2817727874537286,
             "y": 0.5966682046461349,
             "z": 0.5
            }
           }
          }
         }
        },
        {
         "layout": {
          "scene": {
           "camera": {
            "eye": {
             "x": 2.3038079768340163,
             "y": 0.504944359188175,
             "z": 0.5
            }
           }
          }
         }
        },
        {
         "layout": {
          "scene": {
           "camera": {
            "eye": {
             "x": 2.3221575649041926,
             "y": 0.41241271047123695,
             "z": 0.5
            }
           }
          }
         }
        },
        {
         "layout": {
          "scene": {
           "camera": {
            "eye": {
             "x": 2.336792196237716,
             "y": 0.31922128939422634,
             "z": 0.5
            }
           }
          }
         }
        },
        {
         "layout": {
          "scene": {
           "camera": {
            "eye": {
             "x": 2.3476884585463402,
             "y": 0.22551918235109902,
             "z": 0.5
            }
           }
          }
         }
        },
        {
         "layout": {
          "scene": {
           "camera": {
            "eye": {
             "x": 2.3548289201347847,
             "y": 0.13145629272439896,
             "z": 0.5
            }
           }
          }
         }
        },
        {
         "layout": {
          "scene": {
           "camera": {
            "eye": {
             "x": 2.3582021577877246,
             "y": 0.037183101071857294,
             "z": 0.5
            }
           }
          }
         }
        },
        {
         "layout": {
          "scene": {
           "camera": {
            "eye": {
             "x": 2.3578027750445005,
             "y": -0.057149575610431436,
             "z": 0.5
            }
           }
          }
         }
        },
        {
         "layout": {
          "scene": {
           "camera": {
            "eye": {
             "x": 2.353631410832305,
             "y": -0.15139082516299873,
             "z": 0.5
            }
           }
          }
         }
        },
        {
         "layout": {
          "scene": {
           "camera": {
            "eye": {
             "x": 2.3456947384440334,
             "y": -0.24538988169029619,
             "z": 0.5
            }
           }
          }
         }
        },
        {
         "layout": {
          "scene": {
           "camera": {
            "eye": {
             "x": 2.3340054548624414,
             "y": -0.33899636675393474,
             "z": 0.5
            }
           }
          }
         }
        },
        {
         "layout": {
          "scene": {
           "camera": {
            "eye": {
             "x": 2.3185822604476773,
             "y": -0.43206052994613897,
             "z": 0.5
            }
           }
          }
         }
        },
        {
         "layout": {
          "scene": {
           "camera": {
            "eye": {
             "x": 2.2994498290207006,
             "y": -0.5244334884584224,
             "z": 0.5
            }
           }
          }
         }
        },
        {
         "layout": {
          "scene": {
           "camera": {
            "eye": {
             "x": 2.276638768390425,
             "y": -0.6159674652623541,
             "z": 0.5
            }
           }
          }
         }
        },
        {
         "layout": {
          "scene": {
           "camera": {
            "eye": {
             "x": 2.2501855713877603,
             "y": -0.7065160255212466,
             "z": 0.5
            }
           }
          }
         }
        },
        {
         "layout": {
          "scene": {
           "camera": {
            "eye": {
             "x": 2.2201325574848614,
             "y": -0.7959343108546892,
             "z": 0.5
            }
           }
          }
         }
        },
        {
         "layout": {
          "scene": {
           "camera": {
            "eye": {
             "x": 2.1865278050930073,
             "y": -0.8840792710810246,
             "z": 0.5
            }
           }
          }
         }
        },
        {
         "layout": {
          "scene": {
           "camera": {
            "eye": {
             "x": 2.1494250746473913,
             "y": -0.9708098930671532,
             "z": 0.5
            }
           }
          }
         }
        },
        {
         "layout": {
          "scene": {
           "camera": {
            "eye": {
             "x": 2.1088837226019015,
             "y": -1.0559874263194358,
             "z": 0.5
            }
           }
          }
         }
        },
        {
         "layout": {
          "scene": {
           "camera": {
            "eye": {
             "x": 2.0649686064714476,
             "y": -1.1394756049549144,
             "z": 0.5
            }
           }
          }
         }
        },
        {
         "layout": {
          "scene": {
           "camera": {
            "eye": {
             "x": 2.0177499810737833,
             "y": -1.2211408656976261,
             "z": 0.5
            }
           }
          }
         }
        },
        {
         "layout": {
          "scene": {
           "camera": {
            "eye": {
             "x": 1.967303386136771,
             "y": -1.3008525615513828,
             "z": 0.5
            }
           }
          }
         }
        },
        {
         "layout": {
          "scene": {
           "camera": {
            "eye": {
             "x": 1.9137095254509484,
             "y": -1.3784831708070668,
             "z": 0.5
            }
           }
          }
         }
        },
        {
         "layout": {
          "scene": {
           "camera": {
            "eye": {
             "x": 1.8570541377606635,
             "y": -1.4539085010501858,
             "z": 0.5
            }
           }
          }
         }
        },
        {
         "layout": {
          "scene": {
           "camera": {
            "eye": {
             "x": 1.79742785960038,
             "y": -1.5270078878422328,
             "z": 0.5
            }
           }
          }
         }
        },
        {
         "layout": {
          "scene": {
           "camera": {
            "eye": {
             "x": 1.734926080295565,
             "y": -1.5976643877580383,
             "z": 0.5
            }
           }
          }
         }
        },
        {
         "layout": {
          "scene": {
           "camera": {
            "eye": {
             "x": 1.6696487893600989,
             "y": -1.6657649654703262,
             "z": 0.5
            }
           }
          }
         }
        },
        {
         "layout": {
          "scene": {
           "camera": {
            "eye": {
             "x": 1.6017004165344049,
             "y": -1.7312006745820987,
             "z": 0.5
            }
           }
          }
         }
        },
        {
         "layout": {
          "scene": {
           "camera": {
            "eye": {
             "x": 1.5311896647201184,
             "y": -1.793866831917657,
             "z": 0.5
            }
           }
          }
         }
        },
        {
         "layout": {
          "scene": {
           "camera": {
            "eye": {
             "x": 1.4582293360786571,
             "y": -1.8536631849933252,
             "z": 0.5
            }
           }
          }
         }
        },
        {
         "layout": {
          "scene": {
           "camera": {
            "eye": {
             "x": 1.3829361515718006,
             "y": -1.910494072400063,
             "z": 0.5
            }
           }
          }
         }
        },
        {
         "layout": {
          "scene": {
           "camera": {
            "eye": {
             "x": 1.3054305642330777,
             "y": -1.9642685768412904,
             "z": 0.5
            }
           }
          }
         }
        },
        {
         "layout": {
          "scene": {
           "camera": {
            "eye": {
             "x": 1.2258365664685793,
             "y": -2.014900670581189,
             "z": 0.5
            }
           }
          }
         }
        },
        {
         "layout": {
          "scene": {
           "camera": {
            "eye": {
             "x": 1.1442814916955886,
             "y": -2.062309353070707,
             "z": 0.5
            }
           }
          }
         }
        },
        {
         "layout": {
          "scene": {
           "camera": {
            "eye": {
             "x": 1.0608958106362474,
             "y": -2.106418780531179,
             "z": 0.5
            }
           }
          }
         }
        },
        {
         "layout": {
          "scene": {
           "camera": {
            "eye": {
             "x": 0.9758129225922612,
             "y": -2.1471583872881737,
             "z": 0.5
            }
           }
          }
         }
        },
        {
         "layout": {
          "scene": {
           "camera": {
            "eye": {
             "x": 0.8891689420344447,
             "y": -2.184462998661535,
             "z": 0.5
            }
           }
          }
         }
        },
        {
         "layout": {
          "scene": {
           "camera": {
            "eye": {
             "x": 0.8011024808486348,
             "y": -2.2182729352309565,
             "z": 0.5
            }
           }
          }
         }
        },
        {
         "layout": {
          "scene": {
           "camera": {
            "eye": {
             "x": 0.7117544265862112,
             "y": -2.2485341083103307,
             "z": 0.5
            }
           }
          }
         }
        },
        {
         "layout": {
          "scene": {
           "camera": {
            "eye": {
             "x": 0.6212677170741001,
             "y": -2.275198106478101,
             "z": 0.5
            }
           }
          }
         }
        },
        {
         "layout": {
          "scene": {
           "camera": {
            "eye": {
             "x": 0.529787111744715,
             "y": -2.2982222730252166,
             "z": 0.5
            }
           }
          }
         }
        },
        {
         "layout": {
          "scene": {
           "camera": {
            "eye": {
             "x": 0.4374589600517532,
             "y": -2.317569774196764,
             "z": 0.5
            }
           }
          }
         }
        },
        {
         "layout": {
          "scene": {
           "camera": {
            "eye": {
             "x": 0.3444309673423176,
             "y": -2.3332096581181117,
             "z": 0.5
            }
           }
          }
         }
        },
        {
         "layout": {
          "scene": {
           "camera": {
            "eye": {
             "x": 0.2508519585598219,
             "y": -2.3451169043113183,
             "z": 0.5
            }
           }
          }
         }
        },
        {
         "layout": {
          "scene": {
           "camera": {
            "eye": {
             "x": 0.15687164015586108,
             "y": -2.353272463722552,
             "z": 0.5
            }
           }
          }
         }
        },
        {
         "layout": {
          "scene": {
           "camera": {
            "eye": {
             "x": 0.06264036059180733,
             "y": -2.3576632891965144,
             "z": 0.5
            }
           }
          }
         }
        },
        {
         "layout": {
          "scene": {
           "camera": {
            "eye": {
             "x": -0.03169113018662029,
             "y": -2.3582823563491067,
             "z": 0.5
            }
           }
          }
         }
        },
        {
         "layout": {
          "scene": {
           "camera": {
            "eye": {
             "x": -0.12597192191716355,
             "y": -2.355128674804945,
             "z": 0.5
            }
           }
          }
         }
        },
        {
         "layout": {
          "scene": {
           "camera": {
            "eye": {
             "x": -0.22005118544521607,
             "y": -2.348207289781751,
             "z": 0.5
            }
           }
          }
         }
        },
        {
         "layout": {
          "scene": {
           "camera": {
            "eye": {
             "x": -0.3137784140183052,
             "y": -2.3375292740190776,
             "z": 0.5
            }
           }
          }
         }
        },
        {
         "layout": {
          "scene": {
           "camera": {
            "eye": {
             "x": -0.4070036640647987,
             "y": -2.32311171006429,
             "z": 0.5
            }
           }
          }
         }
        },
        {
         "layout": {
          "scene": {
           "camera": {
            "eye": {
             "x": -0.4995777950715977,
             "y": -2.3049776629441334,
             "z": 0.5
            }
           }
          }
         }
        },
        {
         "layout": {
          "scene": {
           "camera": {
            "eye": {
             "x": -0.5913527081771947,
             "y": -2.283156143265611,
             "z": 0.5
            }
           }
          }
         }
        },
        {
         "layout": {
          "scene": {
           "camera": {
            "eye": {
             "x": -0.6821815830982243,
             "y": -2.257682060805197,
             "z": 0.5
            }
           }
          }
         }
        },
        {
         "layout": {
          "scene": {
           "camera": {
            "eye": {
             "x": -0.7719191130106144,
             "y": -2.228596168660645,
             "z": 0.5
            }
           }
          }
         }
        },
        {
         "layout": {
          "scene": {
           "camera": {
            "eye": {
             "x": -0.8604217370094748,
             "y": -2.195944998054732,
             "z": 0.5
            }
           }
          }
         }
        },
        {
         "layout": {
          "scene": {
           "camera": {
            "eye": {
             "x": -0.9475478697759677,
             "y": -2.159780783895214,
             "z": 0.5
            }
           }
          }
         }
        },
        {
         "layout": {
          "scene": {
           "camera": {
            "eye": {
             "x": -1.033158128083584,
             "y": -2.120161381210125,
             "z": 0.5
            }
           }
          }
         }
        },
        {
         "layout": {
          "scene": {
           "camera": {
            "eye": {
             "x": -1.1171155537815864,
             "y": -2.0771501725920682,
             "z": 0.5
            }
           }
          }
         }
        },
        {
         "layout": {
          "scene": {
           "camera": {
            "eye": {
             "x": -1.199285832898806,
             "y": -2.0308159667996057,
             "z": 0.5
            }
           }
          }
         }
        },
        {
         "layout": {
          "scene": {
           "camera": {
            "eye": {
             "x": -1.279537510517387,
             "y": -1.9812328886778978,
             "z": 0.5
            }
           }
          }
         }
        },
        {
         "layout": {
          "scene": {
           "camera": {
            "eye": {
             "x": -1.3577422010725846,
             "y": -1.9284802605747806,
             "z": 0.5
            }
           }
          }
         }
        },
        {
         "layout": {
          "scene": {
           "camera": {
            "eye": {
             "x": -1.4337747937422949,
             "y": -1.8726424754419195,
             "z": 0.5
            }
           }
          }
         }
        },
        {
         "layout": {
          "scene": {
           "camera": {
            "eye": {
             "x": -1.507513652597654,
             "y": -1.813808861824112,
             "z": 0.5
            }
           }
          }
         }
        },
        {
         "layout": {
          "scene": {
           "camera": {
            "eye": {
             "x": -1.5788408111946175,
             "y": -1.7520735409526398,
             "z": 0.5
            }
           }
          }
         }
        },
        {
         "layout": {
          "scene": {
           "camera": {
            "eye": {
             "x": -1.6476421612950798,
             "y": -1.6875352761713984,
             "z": 0.5
            }
           }
          }
         }
        },
        {
         "layout": {
          "scene": {
           "camera": {
            "eye": {
             "x": -1.7138076354157246,
             "y": -1.6202973149366025,
             "z": 0.5
            }
           }
          }
         }
        },
        {
         "layout": {
          "scene": {
           "camera": {
            "eye": {
             "x": -1.7772313829124948,
             "y": -1.550467223642906,
             "z": 0.5
            }
           }
          }
         }
        },
        {
         "layout": {
          "scene": {
           "camera": {
            "eye": {
             "x": -1.8378119393190797,
             "y": -1.4781567155400819,
             "z": 0.5
            }
           }
          }
         }
        },
        {
         "layout": {
          "scene": {
           "camera": {
            "eye": {
             "x": -1.895452388668392,
             "y": -1.4034814720156754,
             "z": 0.5
            }
           }
          }
         }
        },
        {
         "layout": {
          "scene": {
           "camera": {
            "eye": {
             "x": -1.9500605185374502,
             "y": -1.3265609575294497,
             "z": 0.5
            }
           }
          }
         }
        },
        {
         "layout": {
          "scene": {
           "camera": {
            "eye": {
             "x": -2.001548967567568,
             "y": -1.2475182284957618,
             "z": 0.5
            }
           }
          }
         }
        },
        {
         "layout": {
          "scene": {
           "camera": {
            "eye": {
             "x": -2.049835365223918,
             "y": -1.1664797364195088,
             "z": 0.5
            }
           }
          }
         }
        },
        {
         "layout": {
          "scene": {
           "camera": {
            "eye": {
             "x": -2.0948424635707994,
             "y": -1.083575125600724,
             "z": 0.5
            }
           }
          }
         }
        },
        {
         "layout": {
          "scene": {
           "camera": {
            "eye": {
             "x": -2.1364982608518623,
             "y": -0.9989370257313355,
             "z": 0.5
            }
           }
          }
         }
        },
        {
         "layout": {
          "scene": {
           "camera": {
            "eye": {
             "x": -2.174736116677547,
             "y": -0.9127008397159847,
             "z": 0.5
            }
           }
          }
         }
        },
        {
         "layout": {
          "scene": {
           "camera": {
            "eye": {
             "x": -2.209494858635509,
             "y": -0.8250045270562165,
             "z": 0.5
            }
           }
          }
         }
        },
        {
         "layout": {
          "scene": {
           "camera": {
            "eye": {
             "x": -2.2407188801534197,
             "y": -0.7359883831447376,
             "z": 0.5
            }
           }
          }
         }
        },
        {
         "layout": {
          "scene": {
           "camera": {
            "eye": {
             "x": -2.268358229457619,
             "y": -0.6457948148227087,
             "z": 0.5
            }
           }
          }
         }
        },
        {
         "layout": {
          "scene": {
           "camera": {
            "eye": {
             "x": -2.2923686894853024,
             "y": -0.5545681125591684,
             "z": 0.5
            }
           }
          }
         }
        },
        {
         "layout": {
          "scene": {
           "camera": {
            "eye": {
             "x": -2.312711848622379,
             "y": -0.4624542196170959,
             "z": 0.5
            }
           }
          }
         }
        },
        {
         "layout": {
          "scene": {
           "camera": {
            "eye": {
             "x": -2.3293551621538757,
             "y": -0.36960049857527477,
             "z": 0.5
            }
           }
          }
         }
        },
        {
         "layout": {
          "scene": {
           "camera": {
            "eye": {
             "x": -2.342272004328525,
             "y": -0.27615549557963437,
             "z": 0.5
            }
           }
          }
         }
        },
        {
         "layout": {
          "scene": {
           "camera": {
            "eye": {
             "x": -2.351441710954295,
             "y": -0.18226870270108886,
             "z": 0.5
            }
           }
          }
         }
        },
        {
         "layout": {
          "scene": {
           "camera": {
            "eye": {
             "x": -2.3568496124566822,
             "y": -0.08809031878014562,
             "z": 0.5
            }
           }
          }
         }
        },
        {
         "layout": {
          "scene": {
           "camera": {
            "eye": {
             "x": -2.3584870573469074,
             "y": 0.0062289908592463306,
             "z": 0.5
            }
           }
          }
         }
        },
        {
         "layout": {
          "scene": {
           "camera": {
            "eye": {
             "x": -2.3563514260624503,
             "y": 0.10053833544204394,
             "z": 0.5
            }
           }
          }
         }
        },
        {
         "layout": {
          "scene": {
           "camera": {
            "eye": {
             "x": -2.3504461351577874,
             "y": 0.19468684013517712,
             "z": 0.5
            }
           }
          }
         }
        },
        {
         "layout": {
          "scene": {
           "camera": {
            "eye": {
             "x": -2.3407806318386397,
             "y": 0.2885238874150633,
             "z": 0.5
            }
           }
          }
         }
        },
        {
         "layout": {
          "scene": {
           "camera": {
            "eye": {
             "x": -2.3273703788484523,
             "y": 0.3818993580235652,
             "z": 0.5
            }
           }
          }
         }
        },
        {
         "layout": {
          "scene": {
           "camera": {
            "eye": {
             "x": -2.310236829731309,
             "y": 0.47466387112674757,
             "z": 0.5
            }
           }
          }
         }
        },
        {
         "layout": {
          "scene": {
           "camera": {
            "eye": {
             "x": -2.289407394510833,
             "y": 0.5666690232923606,
             "z": 0.5
            }
           }
          }
         }
        },
        {
         "layout": {
          "scene": {
           "camera": {
            "eye": {
             "x": -2.264915395840005,
             "y": 0.6577676259036419,
             "z": 0.5
            }
           }
          }
         }
        },
        {
         "layout": {
          "scene": {
           "camera": {
            "eye": {
             "x": -2.236800015692015,
             "y": 0.7478139406297543,
             "z": 0.5
            }
           }
          }
         }
        },
        {
         "layout": {
          "scene": {
           "camera": {
            "eye": {
             "x": -2.205106232677472,
             "y": 0.8366639125759912,
             "z": 0.5
            }
           }
          }
         }
        },
        {
         "layout": {
          "scene": {
           "camera": {
            "eye": {
             "x": -2.169884750088217,
             "y": 0.9241754007408968,
             "z": 0.5
            }
           }
          }
         }
        },
        {
         "layout": {
          "scene": {
           "camera": {
            "eye": {
             "x": -2.1311919147828826,
             "y": 1.010208405411513,
             "z": 0.5
            }
           }
          }
         }
        },
        {
         "layout": {
          "scene": {
           "camera": {
            "eye": {
             "x": -2.089089627043923,
             "y": 1.094625292133104,
             "z": 0.5
            }
           }
          }
         }
        },
        {
         "layout": {
          "scene": {
           "camera": {
            "eye": {
             "x": -2.0436452415503785,
             "y": 1.1772910118948903,
             "z": 0.5
            }
           }
          }
         }
        },
        {
         "layout": {
          "scene": {
           "camera": {
            "eye": {
             "x": -1.9949314596247496,
             "y": 1.2580733171796732,
             "z": 0.5
            }
           }
          }
         }
        },
        {
         "layout": {
          "scene": {
           "camera": {
            "eye": {
             "x": -1.943026212926406,
             "y": 1.336842973531622,
             "z": 0.5
            }
           }
          }
         }
        },
        {
         "layout": {
          "scene": {
           "camera": {
            "eye": {
             "x": -1.8880125387775324,
             "y": 1.4134739663038784,
             "z": 0.5
            }
           }
          }
         }
        },
        {
         "layout": {
          "scene": {
           "camera": {
            "eye": {
             "x": -1.8299784473211422,
             "y": 1.4878437022550792,
             "z": 0.5
            }
           }
          }
         }
        },
        {
         "layout": {
          "scene": {
           "camera": {
            "eye": {
             "x": -1.7690167807236201,
             "y": 1.5598332056724011,
             "z": 0.5
            }
           }
          }
         }
        },
        {
         "layout": {
          "scene": {
           "camera": {
            "eye": {
             "x": -1.7052250646470544,
             "y": 1.6293273087073237,
             "z": 0.5
            }
           }
          }
         }
        },
        {
         "layout": {
          "scene": {
           "camera": {
            "eye": {
             "x": -1.6387053522290045,
             "y": 1.6962148356195963,
             "z": 0.5
            }
           }
          }
         }
        },
        {
         "layout": {
          "scene": {
           "camera": {
            "eye": {
             "x": -1.5695640608192194,
             "y": 1.7603887806347442,
             "z": 0.5
            }
           }
          }
         }
        },
        {
         "layout": {
          "scene": {
           "camera": {
            "eye": {
             "x": -1.4979118017345991,
             "y": 1.8217464791304545,
             "z": 0.5
            }
           }
          }
         }
        },
        {
         "layout": {
          "scene": {
           "camera": {
            "eye": {
             "x": -1.423863203304672,
             "y": 1.8801897718780831,
             "z": 0.5
            }
           }
          }
         }
        },
        {
         "layout": {
          "scene": {
           "camera": {
            "eye": {
             "x": -1.3475367274907475,
             "y": 1.935625162076461,
             "z": 0.5
            }
           }
          }
         }
        },
        {
         "layout": {
          "scene": {
           "camera": {
            "eye": {
             "x": -1.2690544803720083,
             "y": 1.9879639649268626,
             "z": 0.5
            }
           }
          }
         }
        },
        {
         "layout": {
          "scene": {
           "camera": {
            "eye": {
             "x": -1.188542016801858,
             "y": 2.0371224495097424,
             "z": 0.5
            }
           }
          }
         }
        },
        {
         "layout": {
          "scene": {
           "camera": {
            "eye": {
             "x": -1.1061281395469247,
             "y": 2.083021972736356,
             "z": 0.5
            }
           }
          }
         }
        },
        {
         "layout": {
          "scene": {
           "camera": {
            "eye": {
             "x": -1.021944693230142,
             "y": 2.125589105160908,
             "z": 0.5
            }
           }
          }
         }
        },
        {
         "layout": {
          "scene": {
           "camera": {
            "eye": {
             "x": -0.9361263534074318,
             "y": 2.164755748452029,
             "z": 0.5
            }
           }
          }
         }
        },
        {
         "layout": {
          "scene": {
           "camera": {
            "eye": {
             "x": -0.8488104111155748,
             "y": 2.2004592443355566,
             "z": 0.5
            }
           }
          }
         }
        },
        {
         "layout": {
          "scene": {
           "camera": {
            "eye": {
             "x": -0.7601365532358215,
             "y": 2.23264247483442,
             "z": 0.5
            }
           }
          }
         }
        },
        {
         "layout": {
          "scene": {
           "camera": {
            "eye": {
             "x": -0.6702466390247155,
             "y": 2.2612539536452054,
             "z": 0.5
            }
           }
          }
         }
        },
        {
         "layout": {
          "scene": {
           "camera": {
            "eye": {
             "x": -0.5792844731694937,
             "y": 2.2862479085052745,
             "z": 0.5
            }
           }
          }
         }
        },
        {
         "layout": {
          "scene": {
           "camera": {
            "eye": {
             "x": -0.48739557573129766,
             "y": 2.3075843544186108,
             "z": 0.5
            }
           }
          }
         }
        },
        {
         "layout": {
          "scene": {
           "camera": {
            "eye": {
             "x": -0.3947269493441009,
             "y": 2.3252291576232866,
             "z": 0.5
            }
           }
          }
         }
        },
        {
         "layout": {
          "scene": {
           "camera": {
            "eye": {
             "x": -0.3014268440418866,
             "y": 2.3391540901981958,
             "z": 0.5
            }
           }
          }
         }
        },
        {
         "layout": {
          "scene": {
           "camera": {
            "eye": {
             "x": -0.2076445200901691,
             "y": 2.349336875221713,
             "z": 0.5
            }
           }
          }
         }
        },
        {
         "layout": {
          "scene": {
           "camera": {
            "eye": {
             "x": -0.11353000920144285,
             "y": 2.3557612224100133,
             "z": 0.5
            }
           }
          }
         }
        },
        {
         "layout": {
          "scene": {
           "camera": {
            "eye": {
             "x": -0.019233874516429328,
             "y": 2.3584168541780492,
             "z": 0.5
            }
           }
          }
         }
        },
        {
         "layout": {
          "scene": {
           "camera": {
            "eye": {
             "x": 0.07509303026479452,
             "y": 2.357299522081496,
             "z": 0.5
            }
           }
          }
         }
        },
        {
         "layout": {
          "scene": {
           "camera": {
            "eye": {
             "x": 0.1692998022165868,
             "y": 2.3524110136133576,
             "z": 0.5
            }
           }
          }
         }
        },
        {
         "layout": {
          "scene": {
           "camera": {
            "eye": {
             "x": 0.26323573060019734,
             "y": 2.343759149344356,
             "z": 0.5
            }
           }
          }
         }
        },
        {
         "layout": {
          "scene": {
           "camera": {
            "eye": {
             "x": 0.3567505379688084,
             "y": 2.3313577704116897,
             "z": 0.5
            }
           }
          }
         }
        },
        {
         "layout": {
          "scene": {
           "camera": {
            "eye": {
             "x": 0.44969462057940035,
             "y": 2.315226716376163,
             "z": 0.5
            }
           }
          }
         }
        },
        {
         "layout": {
          "scene": {
           "camera": {
            "eye": {
             "x": 0.5419192877267929,
             "y": 2.2953917934831267,
             "z": 0.5
            }
           }
          }
         }
        },
        {
         "layout": {
          "scene": {
           "camera": {
            "eye": {
             "x": 0.6332769996171049,
             "y": 2.271884733377985,
             "z": 0.5
            }
           }
          }
         }
        },
        {
         "layout": {
          "scene": {
           "camera": {
            "eye": {
             "x": 0.7236216033999179,
             "y": 2.244743142342333,
             "z": 0.5
            }
           }
          }
         }
        },
        {
         "layout": {
          "scene": {
           "camera": {
            "eye": {
             "x": 0.8128085669816747,
             "y": 2.2140104411319284,
             "z": 0.5
            }
           }
          }
         }
        },
        {
         "layout": {
          "scene": {
           "camera": {
            "eye": {
             "x": 0.9006952102461662,
             "y": 2.179735795512753,
             "z": 0.5
            }
           }
          }
         }
        },
        {
         "layout": {
          "scene": {
           "camera": {
            "eye": {
             "x": 0.9871409333123276,
             "y": 2.1419740376062606,
             "z": 0.5
            }
           }
          }
         }
        },
        {
         "layout": {
          "scene": {
           "camera": {
            "eye": {
             "x": 1.0720074414640242,
             "y": 2.1007855781696896,
             "z": 0.5
            }
           }
          }
         }
        },
        {
         "layout": {
          "scene": {
           "camera": {
            "eye": {
             "x": 1.1551589663921096,
             "y": 2.056236309951731,
             "z": 0.5
            }
           }
          }
         }
        },
        {
         "layout": {
          "scene": {
           "camera": {
            "eye": {
             "x": 1.2364624833947309,
             "y": 2.0083975022782057,
             "z": 0.5
            }
           }
          }
         }
        },
        {
         "layout": {
          "scene": {
           "camera": {
            "eye": {
             "x": 1.3157879241885153,
             "y": 1.9573456870363186,
             "z": 0.5
            }
           }
          }
         }
        },
        {
         "layout": {
          "scene": {
           "camera": {
            "eye": {
             "x": 1.393008384990052,
             "y": 1.9031625362399835,
             "z": 0.5
            }
           }
          }
         }
        },
        {
         "layout": {
          "scene": {
           "camera": {
            "eye": {
             "x": 1.4680003295348847,
             "y": 1.8459347313720142,
             "z": 0.5
            }
           }
          }
         }
        },
        {
         "layout": {
          "scene": {
           "camera": {
            "eye": {
             "x": 1.5406437867091562,
             "y": 1.7857538247122622,
             "z": 0.5
            }
           }
          }
         }
        },
        {
         "layout": {
          "scene": {
           "camera": {
            "eye": {
             "x": 1.610822542477839,
             "y": 1.722716092873469,
             "z": 0.5
            }
           }
          }
         }
        },
        {
         "layout": {
          "scene": {
           "camera": {
            "eye": {
             "x": 1.6784243258023728,
             "y": 1.6569223827792445,
             "z": 0.5
            }
           }
          }
         }
        },
        {
         "layout": {
          "scene": {
           "camera": {
            "eye": {
             "x": 1.7433409882503885,
             "y": 1.588477950330491,
             "z": 0.5
            }
           }
          }
         }
        }
       ],
       "layout": {
        "height": 700,
        "legend": {
         "title": {
          "text": "color"
         },
         "tracegroupgap": 0
        },
        "margin": {
         "t": 60
        },
        "scene": {
         "camera": {
          "eye": {
           "x": -1.25,
           "y": 2,
           "z": 0.5
          }
         },
         "domain": {
          "x": [
           0,
           1
          ],
          "y": [
           0,
           1
          ]
         },
         "xaxis": {
          "title": {
           "text": "0"
          }
         },
         "yaxis": {
          "title": {
           "text": "1"
          }
         },
         "zaxis": {
          "title": {
           "text": "2"
          }
         }
        },
        "template": {
         "data": {
          "bar": [
           {
            "error_x": {
             "color": "#2a3f5f"
            },
            "error_y": {
             "color": "#2a3f5f"
            },
            "marker": {
             "line": {
              "color": "#E5ECF6",
              "width": 0.5
             },
             "pattern": {
              "fillmode": "overlay",
              "size": 10,
              "solidity": 0.2
             }
            },
            "type": "bar"
           }
          ],
          "barpolar": [
           {
            "marker": {
             "line": {
              "color": "#E5ECF6",
              "width": 0.5
             },
             "pattern": {
              "fillmode": "overlay",
              "size": 10,
              "solidity": 0.2
             }
            },
            "type": "barpolar"
           }
          ],
          "carpet": [
           {
            "aaxis": {
             "endlinecolor": "#2a3f5f",
             "gridcolor": "white",
             "linecolor": "white",
             "minorgridcolor": "white",
             "startlinecolor": "#2a3f5f"
            },
            "baxis": {
             "endlinecolor": "#2a3f5f",
             "gridcolor": "white",
             "linecolor": "white",
             "minorgridcolor": "white",
             "startlinecolor": "#2a3f5f"
            },
            "type": "carpet"
           }
          ],
          "choropleth": [
           {
            "colorbar": {
             "outlinewidth": 0,
             "ticks": ""
            },
            "type": "choropleth"
           }
          ],
          "contour": [
           {
            "colorbar": {
             "outlinewidth": 0,
             "ticks": ""
            },
            "colorscale": [
             [
              0,
              "#0d0887"
             ],
             [
              0.1111111111111111,
              "#46039f"
             ],
             [
              0.2222222222222222,
              "#7201a8"
             ],
             [
              0.3333333333333333,
              "#9c179e"
             ],
             [
              0.4444444444444444,
              "#bd3786"
             ],
             [
              0.5555555555555556,
              "#d8576b"
             ],
             [
              0.6666666666666666,
              "#ed7953"
             ],
             [
              0.7777777777777778,
              "#fb9f3a"
             ],
             [
              0.8888888888888888,
              "#fdca26"
             ],
             [
              1,
              "#f0f921"
             ]
            ],
            "type": "contour"
           }
          ],
          "contourcarpet": [
           {
            "colorbar": {
             "outlinewidth": 0,
             "ticks": ""
            },
            "type": "contourcarpet"
           }
          ],
          "heatmap": [
           {
            "colorbar": {
             "outlinewidth": 0,
             "ticks": ""
            },
            "colorscale": [
             [
              0,
              "#0d0887"
             ],
             [
              0.1111111111111111,
              "#46039f"
             ],
             [
              0.2222222222222222,
              "#7201a8"
             ],
             [
              0.3333333333333333,
              "#9c179e"
             ],
             [
              0.4444444444444444,
              "#bd3786"
             ],
             [
              0.5555555555555556,
              "#d8576b"
             ],
             [
              0.6666666666666666,
              "#ed7953"
             ],
             [
              0.7777777777777778,
              "#fb9f3a"
             ],
             [
              0.8888888888888888,
              "#fdca26"
             ],
             [
              1,
              "#f0f921"
             ]
            ],
            "type": "heatmap"
           }
          ],
          "heatmapgl": [
           {
            "colorbar": {
             "outlinewidth": 0,
             "ticks": ""
            },
            "colorscale": [
             [
              0,
              "#0d0887"
             ],
             [
              0.1111111111111111,
              "#46039f"
             ],
             [
              0.2222222222222222,
              "#7201a8"
             ],
             [
              0.3333333333333333,
              "#9c179e"
             ],
             [
              0.4444444444444444,
              "#bd3786"
             ],
             [
              0.5555555555555556,
              "#d8576b"
             ],
             [
              0.6666666666666666,
              "#ed7953"
             ],
             [
              0.7777777777777778,
              "#fb9f3a"
             ],
             [
              0.8888888888888888,
              "#fdca26"
             ],
             [
              1,
              "#f0f921"
             ]
            ],
            "type": "heatmapgl"
           }
          ],
          "histogram": [
           {
            "marker": {
             "pattern": {
              "fillmode": "overlay",
              "size": 10,
              "solidity": 0.2
             }
            },
            "type": "histogram"
           }
          ],
          "histogram2d": [
           {
            "colorbar": {
             "outlinewidth": 0,
             "ticks": ""
            },
            "colorscale": [
             [
              0,
              "#0d0887"
             ],
             [
              0.1111111111111111,
              "#46039f"
             ],
             [
              0.2222222222222222,
              "#7201a8"
             ],
             [
              0.3333333333333333,
              "#9c179e"
             ],
             [
              0.4444444444444444,
              "#bd3786"
             ],
             [
              0.5555555555555556,
              "#d8576b"
             ],
             [
              0.6666666666666666,
              "#ed7953"
             ],
             [
              0.7777777777777778,
              "#fb9f3a"
             ],
             [
              0.8888888888888888,
              "#fdca26"
             ],
             [
              1,
              "#f0f921"
             ]
            ],
            "type": "histogram2d"
           }
          ],
          "histogram2dcontour": [
           {
            "colorbar": {
             "outlinewidth": 0,
             "ticks": ""
            },
            "colorscale": [
             [
              0,
              "#0d0887"
             ],
             [
              0.1111111111111111,
              "#46039f"
             ],
             [
              0.2222222222222222,
              "#7201a8"
             ],
             [
              0.3333333333333333,
              "#9c179e"
             ],
             [
              0.4444444444444444,
              "#bd3786"
             ],
             [
              0.5555555555555556,
              "#d8576b"
             ],
             [
              0.6666666666666666,
              "#ed7953"
             ],
             [
              0.7777777777777778,
              "#fb9f3a"
             ],
             [
              0.8888888888888888,
              "#fdca26"
             ],
             [
              1,
              "#f0f921"
             ]
            ],
            "type": "histogram2dcontour"
           }
          ],
          "mesh3d": [
           {
            "colorbar": {
             "outlinewidth": 0,
             "ticks": ""
            },
            "type": "mesh3d"
           }
          ],
          "parcoords": [
           {
            "line": {
             "colorbar": {
              "outlinewidth": 0,
              "ticks": ""
             }
            },
            "type": "parcoords"
           }
          ],
          "pie": [
           {
            "automargin": true,
            "type": "pie"
           }
          ],
          "scatter": [
           {
            "fillpattern": {
             "fillmode": "overlay",
             "size": 10,
             "solidity": 0.2
            },
            "type": "scatter"
           }
          ],
          "scatter3d": [
           {
            "line": {
             "colorbar": {
              "outlinewidth": 0,
              "ticks": ""
             }
            },
            "marker": {
             "colorbar": {
              "outlinewidth": 0,
              "ticks": ""
             }
            },
            "type": "scatter3d"
           }
          ],
          "scattercarpet": [
           {
            "marker": {
             "colorbar": {
              "outlinewidth": 0,
              "ticks": ""
             }
            },
            "type": "scattercarpet"
           }
          ],
          "scattergeo": [
           {
            "marker": {
             "colorbar": {
              "outlinewidth": 0,
              "ticks": ""
             }
            },
            "type": "scattergeo"
           }
          ],
          "scattergl": [
           {
            "marker": {
             "colorbar": {
              "outlinewidth": 0,
              "ticks": ""
             }
            },
            "type": "scattergl"
           }
          ],
          "scattermapbox": [
           {
            "marker": {
             "colorbar": {
              "outlinewidth": 0,
              "ticks": ""
             }
            },
            "type": "scattermapbox"
           }
          ],
          "scatterpolar": [
           {
            "marker": {
             "colorbar": {
              "outlinewidth": 0,
              "ticks": ""
             }
            },
            "type": "scatterpolar"
           }
          ],
          "scatterpolargl": [
           {
            "marker": {
             "colorbar": {
              "outlinewidth": 0,
              "ticks": ""
             }
            },
            "type": "scatterpolargl"
           }
          ],
          "scatterternary": [
           {
            "marker": {
             "colorbar": {
              "outlinewidth": 0,
              "ticks": ""
             }
            },
            "type": "scatterternary"
           }
          ],
          "surface": [
           {
            "colorbar": {
             "outlinewidth": 0,
             "ticks": ""
            },
            "colorscale": [
             [
              0,
              "#0d0887"
             ],
             [
              0.1111111111111111,
              "#46039f"
             ],
             [
              0.2222222222222222,
              "#7201a8"
             ],
             [
              0.3333333333333333,
              "#9c179e"
             ],
             [
              0.4444444444444444,
              "#bd3786"
             ],
             [
              0.5555555555555556,
              "#d8576b"
             ],
             [
              0.6666666666666666,
              "#ed7953"
             ],
             [
              0.7777777777777778,
              "#fb9f3a"
             ],
             [
              0.8888888888888888,
              "#fdca26"
             ],
             [
              1,
              "#f0f921"
             ]
            ],
            "type": "surface"
           }
          ],
          "table": [
           {
            "cells": {
             "fill": {
              "color": "#EBF0F8"
             },
             "line": {
              "color": "white"
             }
            },
            "header": {
             "fill": {
              "color": "#C8D4E3"
             },
             "line": {
              "color": "white"
             }
            },
            "type": "table"
           }
          ]
         },
         "layout": {
          "annotationdefaults": {
           "arrowcolor": "#2a3f5f",
           "arrowhead": 0,
           "arrowwidth": 1
          },
          "autotypenumbers": "strict",
          "coloraxis": {
           "colorbar": {
            "outlinewidth": 0,
            "ticks": ""
           }
          },
          "colorscale": {
           "diverging": [
            [
             0,
             "#8e0152"
            ],
            [
             0.1,
             "#c51b7d"
            ],
            [
             0.2,
             "#de77ae"
            ],
            [
             0.3,
             "#f1b6da"
            ],
            [
             0.4,
             "#fde0ef"
            ],
            [
             0.5,
             "#f7f7f7"
            ],
            [
             0.6,
             "#e6f5d0"
            ],
            [
             0.7,
             "#b8e186"
            ],
            [
             0.8,
             "#7fbc41"
            ],
            [
             0.9,
             "#4d9221"
            ],
            [
             1,
             "#276419"
            ]
           ],
           "sequential": [
            [
             0,
             "#0d0887"
            ],
            [
             0.1111111111111111,
             "#46039f"
            ],
            [
             0.2222222222222222,
             "#7201a8"
            ],
            [
             0.3333333333333333,
             "#9c179e"
            ],
            [
             0.4444444444444444,
             "#bd3786"
            ],
            [
             0.5555555555555556,
             "#d8576b"
            ],
            [
             0.6666666666666666,
             "#ed7953"
            ],
            [
             0.7777777777777778,
             "#fb9f3a"
            ],
            [
             0.8888888888888888,
             "#fdca26"
            ],
            [
             1,
             "#f0f921"
            ]
           ],
           "sequentialminus": [
            [
             0,
             "#0d0887"
            ],
            [
             0.1111111111111111,
             "#46039f"
            ],
            [
             0.2222222222222222,
             "#7201a8"
            ],
            [
             0.3333333333333333,
             "#9c179e"
            ],
            [
             0.4444444444444444,
             "#bd3786"
            ],
            [
             0.5555555555555556,
             "#d8576b"
            ],
            [
             0.6666666666666666,
             "#ed7953"
            ],
            [
             0.7777777777777778,
             "#fb9f3a"
            ],
            [
             0.8888888888888888,
             "#fdca26"
            ],
            [
             1,
             "#f0f921"
            ]
           ]
          },
          "colorway": [
           "#636efa",
           "#EF553B",
           "#00cc96",
           "#ab63fa",
           "#FFA15A",
           "#19d3f3",
           "#FF6692",
           "#B6E880",
           "#FF97FF",
           "#FECB52"
          ],
          "font": {
           "color": "#2a3f5f"
          },
          "geo": {
           "bgcolor": "white",
           "lakecolor": "white",
           "landcolor": "#E5ECF6",
           "showlakes": true,
           "showland": true,
           "subunitcolor": "white"
          },
          "hoverlabel": {
           "align": "left"
          },
          "hovermode": "closest",
          "mapbox": {
           "style": "light"
          },
          "paper_bgcolor": "white",
          "plot_bgcolor": "#E5ECF6",
          "polar": {
           "angularaxis": {
            "gridcolor": "white",
            "linecolor": "white",
            "ticks": ""
           },
           "bgcolor": "#E5ECF6",
           "radialaxis": {
            "gridcolor": "white",
            "linecolor": "white",
            "ticks": ""
           }
          },
          "scene": {
           "xaxis": {
            "backgroundcolor": "#E5ECF6",
            "gridcolor": "white",
            "gridwidth": 2,
            "linecolor": "white",
            "showbackground": true,
            "ticks": "",
            "zerolinecolor": "white"
           },
           "yaxis": {
            "backgroundcolor": "#E5ECF6",
            "gridcolor": "white",
            "gridwidth": 2,
            "linecolor": "white",
            "showbackground": true,
            "ticks": "",
            "zerolinecolor": "white"
           },
           "zaxis": {
            "backgroundcolor": "#E5ECF6",
            "gridcolor": "white",
            "gridwidth": 2,
            "linecolor": "white",
            "showbackground": true,
            "ticks": "",
            "zerolinecolor": "white"
           }
          },
          "shapedefaults": {
           "line": {
            "color": "#2a3f5f"
           }
          },
          "ternary": {
           "aaxis": {
            "gridcolor": "white",
            "linecolor": "white",
            "ticks": ""
           },
           "baxis": {
            "gridcolor": "white",
            "linecolor": "white",
            "ticks": ""
           },
           "bgcolor": "#E5ECF6",
           "caxis": {
            "gridcolor": "white",
            "linecolor": "white",
            "ticks": ""
           }
          },
          "title": {
           "x": 0.05
          },
          "xaxis": {
           "automargin": true,
           "gridcolor": "white",
           "linecolor": "white",
           "ticks": "",
           "title": {
            "standoff": 15
           },
           "zerolinecolor": "white",
           "zerolinewidth": 2
          },
          "yaxis": {
           "automargin": true,
           "gridcolor": "white",
           "linecolor": "white",
           "ticks": "",
           "title": {
            "standoff": 15
           },
           "zerolinecolor": "white",
           "zerolinewidth": 2
          }
         }
        },
        "title": {
         "text": "Animation Test"
        },
        "updatemenus": [
         {
          "buttons": [
           {
            "args": [
             null,
             {
              "frame": {
               "duration": 100,
               "redraw": true
              },
              "fromcurrent": true,
              "mode": "immediate",
              "transition": {
               "duration": 1
              }
             }
            ],
            "label": "Play",
            "method": "animate"
           }
          ],
          "pad": {
           "r": 10,
           "t": 45
          },
          "showactive": false,
          "type": "buttons",
          "x": 0.8,
          "xanchor": "left",
          "y": 1,
          "yanchor": "bottom"
         }
        ],
        "width": 980
       }
      },
      "text/html": [
       "<div>                            <div id=\"e85e302f-aaa0-45ef-a6c8-cfdfb7068716\" class=\"plotly-graph-div\" style=\"height:700px; width:980px;\"></div>            <script type=\"text/javascript\">                require([\"plotly\"], function(Plotly) {                    window.PLOTLYENV=window.PLOTLYENV || {};                                    if (document.getElementById(\"e85e302f-aaa0-45ef-a6c8-cfdfb7068716\")) {                    Plotly.newPlot(                        \"e85e302f-aaa0-45ef-a6c8-cfdfb7068716\",                        [{\"hovertemplate\":\"color=hand gestures\\u003cbr\\u003e0=%{x}\\u003cbr\\u003e1=%{y}\\u003cbr\\u003e2=%{z}\\u003cextra\\u003e\\u003c\\u002fextra\\u003e\",\"legendgroup\":\"hand gestures\",\"marker\":{\"color\":\"#636efa\",\"symbol\":\"circle\"},\"mode\":\"markers\",\"name\":\"hand gestures\",\"scene\":\"scene\",\"showlegend\":true,\"x\":[-11.747218214319465],\"y\":[-5.879646677431797],\"z\":[-17.583576888279236],\"type\":\"scatter3d\"},{\"hovertemplate\":\"color=start seat massage\\u003cbr\\u003e0=%{x}\\u003cbr\\u003e1=%{y}\\u003cbr\\u003e2=%{z}\\u003cextra\\u003e\\u003c\\u002fextra\\u003e\",\"legendgroup\":\"start seat massage\",\"marker\":{\"color\":\"#EF553B\",\"symbol\":\"circle\"},\"mode\":\"markers\",\"name\":\"start seat massage\",\"scene\":\"scene\",\"showlegend\":true,\"x\":[-0.49807283290900894],\"y\":[-5.725792409262003],\"z\":[0.5534591365293717],\"type\":\"scatter3d\"},{\"hovertemplate\":\"color=passenger seat massage\\u003cbr\\u003e0=%{x}\\u003cbr\\u003e1=%{y}\\u003cbr\\u003e2=%{z}\\u003cextra\\u003e\\u003c\\u002fextra\\u003e\",\"legendgroup\":\"passenger seat massage\",\"marker\":{\"color\":\"#00cc96\",\"symbol\":\"circle\"},\"mode\":\"markers\",\"name\":\"passenger seat massage\",\"scene\":\"scene\",\"showlegend\":true,\"x\":[8.851339837489995],\"y\":[-12.893408874121205],\"z\":[0.5454888371881084],\"type\":\"scatter3d\"},{\"hovertemplate\":\"color=turn on massager\\u003cbr\\u003e0=%{x}\\u003cbr\\u003e1=%{y}\\u003cbr\\u003e2=%{z}\\u003cextra\\u003e\\u003c\\u002fextra\\u003e\",\"legendgroup\":\"turn on massager\",\"marker\":{\"color\":\"#ab63fa\",\"symbol\":\"circle\"},\"mode\":\"markers\",\"name\":\"turn on massager\",\"scene\":\"scene\",\"showlegend\":true,\"x\":[-6.737451331297952],\"y\":[10.228172792041887],\"z\":[5.280277327874055],\"type\":\"scatter3d\"},{\"hovertemplate\":\"color=turn on the seat massage\\u003cbr\\u003e0=%{x}\\u003cbr\\u003e1=%{y}\\u003cbr\\u003e2=%{z}\\u003cextra\\u003e\\u003c\\u002fextra\\u003e\",\"legendgroup\":\"turn on the seat massage\",\"marker\":{\"color\":\"#FFA15A\",\"symbol\":\"circle\"},\"mode\":\"markers\",\"name\":\"turn on the seat massage\",\"scene\":\"scene\",\"showlegend\":true,\"x\":[4.632854678032058],\"y\":[2.511845432119705],\"z\":[3.6698748118917366],\"type\":\"scatter3d\"},{\"hovertemplate\":\"color=turn on seat massager\\u003cbr\\u003e0=%{x}\\u003cbr\\u003e1=%{y}\\u003cbr\\u003e2=%{z}\\u003cextra\\u003e\\u003c\\u002fextra\\u003e\",\"legendgroup\":\"turn on seat massager\",\"marker\":{\"color\":\"#19d3f3\",\"symbol\":\"circle\"},\"mode\":\"markers\",\"name\":\"turn on seat massager\",\"scene\":\"scene\",\"showlegend\":true,\"x\":[4.421108689583849],\"y\":[4.689730573677369],\"z\":[4.55003187838643],\"type\":\"scatter3d\"},{\"hovertemplate\":\"color=activate lumbar massage\\u003cbr\\u003e0=%{x}\\u003cbr\\u003e1=%{y}\\u003cbr\\u003e2=%{z}\\u003cextra\\u003e\\u003c\\u002fextra\\u003e\",\"legendgroup\":\"activate lumbar massage\",\"marker\":{\"color\":\"#FF6692\",\"symbol\":\"circle\"},\"mode\":\"markers\",\"name\":\"activate lumbar massage\",\"scene\":\"scene\",\"showlegend\":true,\"x\":[-10.987701094493106],\"y\":[0.2266985611022605],\"z\":[5.150248869823493],\"type\":\"scatter3d\"},{\"hovertemplate\":\"color=turn on massage for the back passenger\\u003cbr\\u003e0=%{x}\\u003cbr\\u003e1=%{y}\\u003cbr\\u003e2=%{z}\\u003cextra\\u003e\\u003c\\u002fextra\\u003e\",\"legendgroup\":\"turn on massage for the back passenger\",\"marker\":{\"color\":\"#B6E880\",\"symbol\":\"circle\"},\"mode\":\"markers\",\"name\":\"turn on massage for the back passenger\",\"scene\":\"scene\",\"showlegend\":true,\"x\":[4.609182456336596],\"y\":[-1.8313601124357086],\"z\":[1.3597379922902821],\"type\":\"scatter3d\"},{\"hovertemplate\":\"color=turn on passenger massage seat\\u003cbr\\u003e0=%{x}\\u003cbr\\u003e1=%{y}\\u003cbr\\u003e2=%{z}\\u003cextra\\u003e\\u003c\\u002fextra\\u003e\",\"legendgroup\":\"turn on passenger massage seat\",\"marker\":{\"color\":\"#FF97FF\",\"symbol\":\"circle\"},\"mode\":\"markers\",\"name\":\"turn on passenger massage seat\",\"scene\":\"scene\",\"showlegend\":true,\"x\":[9.243444686600412],\"y\":[1.4216222990609515],\"z\":[2.542301645902441],\"type\":\"scatter3d\"},{\"hovertemplate\":\"color=turn on the passenger massage\\u003cbr\\u003e0=%{x}\\u003cbr\\u003e1=%{y}\\u003cbr\\u003e2=%{z}\\u003cextra\\u003e\\u003c\\u002fextra\\u003e\",\"legendgroup\":\"turn on the passenger massage\",\"marker\":{\"color\":\"#FECB52\",\"symbol\":\"circle\"},\"mode\":\"markers\",\"name\":\"turn on the passenger massage\",\"scene\":\"scene\",\"showlegend\":true,\"x\":[7.931412651323907],\"y\":[-1.0648051311045041],\"z\":[2.1307834630036924],\"type\":\"scatter3d\"},{\"hovertemplate\":\"color=turn on my seat\\u003cbr\\u003e0=%{x}\\u003cbr\\u003e1=%{y}\\u003cbr\\u003e2=%{z}\\u003cextra\\u003e\\u003c\\u002fextra\\u003e\",\"legendgroup\":\"turn on my seat\",\"marker\":{\"color\":\"#636efa\",\"symbol\":\"circle\"},\"mode\":\"markers\",\"name\":\"turn on my seat\",\"scene\":\"scene\",\"showlegend\":true,\"x\":[2.932723069946229],\"y\":[6.3101280387637795],\"z\":[-7.349720178892966],\"type\":\"scatter3d\"},{\"hovertemplate\":\"color=turn massage on\\u003cbr\\u003e0=%{x}\\u003cbr\\u003e1=%{y}\\u003cbr\\u003e2=%{z}\\u003cextra\\u003e\\u003c\\u002fextra\\u003e\",\"legendgroup\":\"turn massage on\",\"marker\":{\"color\":\"#EF553B\",\"symbol\":\"circle\"},\"mode\":\"markers\",\"name\":\"turn massage on\",\"scene\":\"scene\",\"showlegend\":true,\"x\":[-5.403653885526837],\"y\":[9.112408341154504],\"z\":[4.80283281991124],\"type\":\"scatter3d\"},{\"hovertemplate\":\"color=turn on lumbar massage\\u003cbr\\u003e0=%{x}\\u003cbr\\u003e1=%{y}\\u003cbr\\u003e2=%{z}\\u003cextra\\u003e\\u003c\\u002fextra\\u003e\",\"legendgroup\":\"turn on lumbar massage\",\"marker\":{\"color\":\"#00cc96\",\"symbol\":\"circle\"},\"mode\":\"markers\",\"name\":\"turn on lumbar massage\",\"scene\":\"scene\",\"showlegend\":true,\"x\":[-6.244764385820924],\"y\":[6.790380675517424],\"z\":[6.000850950998031],\"type\":\"scatter3d\"},{\"hovertemplate\":\"color=turn on driver massage seat\\u003cbr\\u003e0=%{x}\\u003cbr\\u003e1=%{y}\\u003cbr\\u003e2=%{z}\\u003cextra\\u003e\\u003c\\u002fextra\\u003e\",\"legendgroup\":\"turn on driver massage seat\",\"marker\":{\"color\":\"#ab63fa\",\"symbol\":\"circle\"},\"mode\":\"markers\",\"name\":\"turn on driver massage seat\",\"scene\":\"scene\",\"showlegend\":true,\"x\":[8.259107325288157],\"y\":[3.3445734764948467],\"z\":[0.35892650205624094],\"type\":\"scatter3d\"},{\"hovertemplate\":\"color=turn on massaging seats\\u003cbr\\u003e0=%{x}\\u003cbr\\u003e1=%{y}\\u003cbr\\u003e2=%{z}\\u003cextra\\u003e\\u003c\\u002fextra\\u003e\",\"legendgroup\":\"turn on massaging seats\",\"marker\":{\"color\":\"#FFA15A\",\"symbol\":\"circle\"},\"mode\":\"markers\",\"name\":\"turn on massaging seats\",\"scene\":\"scene\",\"showlegend\":true,\"x\":[3.392306925465625],\"y\":[0.8319461019346346],\"z\":[-0.6182465547457076],\"type\":\"scatter3d\"},{\"hovertemplate\":\"color=turn on my massage seats\\u003cbr\\u003e0=%{x}\\u003cbr\\u003e1=%{y}\\u003cbr\\u003e2=%{z}\\u003cextra\\u003e\\u003c\\u002fextra\\u003e\",\"legendgroup\":\"turn on my massage seats\",\"marker\":{\"color\":\"#19d3f3\",\"symbol\":\"circle\"},\"mode\":\"markers\",\"name\":\"turn on my massage seats\",\"scene\":\"scene\",\"showlegend\":true,\"x\":[1.9017170290863377],\"y\":[4.005519584376964],\"z\":[4.571869699056427],\"type\":\"scatter3d\"},{\"hovertemplate\":\"color=turn on on the driver massage\\u003cbr\\u003e0=%{x}\\u003cbr\\u003e1=%{y}\\u003cbr\\u003e2=%{z}\\u003cextra\\u003e\\u003c\\u002fextra\\u003e\",\"legendgroup\":\"turn on on the driver massage\",\"marker\":{\"color\":\"#FF6692\",\"symbol\":\"circle\"},\"mode\":\"markers\",\"name\":\"turn on on the driver massage\",\"scene\":\"scene\",\"showlegend\":true,\"x\":[6.216769470539192],\"y\":[4.024664689553228],\"z\":[-1.0504311807496423],\"type\":\"scatter3d\"},{\"hovertemplate\":\"color=give me a massage\\u003cbr\\u003e0=%{x}\\u003cbr\\u003e1=%{y}\\u003cbr\\u003e2=%{z}\\u003cextra\\u003e\\u003c\\u002fextra\\u003e\",\"legendgroup\":\"give me a massage\",\"marker\":{\"color\":\"#B6E880\",\"symbol\":\"circle\"},\"mode\":\"markers\",\"name\":\"give me a massage\",\"scene\":\"scene\",\"showlegend\":true,\"x\":[-14.274909510943743],\"y\":[-5.668683342311474],\"z\":[3.265894142336302],\"type\":\"scatter3d\"},{\"hovertemplate\":\"color=start my massage\\u003cbr\\u003e0=%{x}\\u003cbr\\u003e1=%{y}\\u003cbr\\u003e2=%{z}\\u003cextra\\u003e\\u003c\\u002fextra\\u003e\",\"legendgroup\":\"start my massage\",\"marker\":{\"color\":\"#FF97FF\",\"symbol\":\"circle\"},\"mode\":\"markers\",\"name\":\"start my massage\",\"scene\":\"scene\",\"showlegend\":true,\"x\":[-15.265683120058961],\"y\":[-3.437314673756106],\"z\":[3.420722909056932],\"type\":\"scatter3d\"},{\"hovertemplate\":\"color=turn on the seat massager\\u003cbr\\u003e0=%{x}\\u003cbr\\u003e1=%{y}\\u003cbr\\u003e2=%{z}\\u003cextra\\u003e\\u003c\\u002fextra\\u003e\",\"legendgroup\":\"turn on the seat massager\",\"marker\":{\"color\":\"#FECB52\",\"symbol\":\"circle\"},\"mode\":\"markers\",\"name\":\"turn on the seat massager\",\"scene\":\"scene\",\"showlegend\":true,\"x\":[4.524038685923471],\"y\":[4.774603620087813],\"z\":[4.735596942393476],\"type\":\"scatter3d\"},{\"hovertemplate\":\"color=turn on driver seat\\u003cbr\\u003e0=%{x}\\u003cbr\\u003e1=%{y}\\u003cbr\\u003e2=%{z}\\u003cextra\\u003e\\u003c\\u002fextra\\u003e\",\"legendgroup\":\"turn on driver seat\",\"marker\":{\"color\":\"#636efa\",\"symbol\":\"circle\"},\"mode\":\"markers\",\"name\":\"turn on driver seat\",\"scene\":\"scene\",\"showlegend\":true,\"x\":[10.794181276161623],\"y\":[7.248850091920293],\"z\":[-14.224800780915105],\"type\":\"scatter3d\"},{\"hovertemplate\":\"color=can you turn on\\u003cbr\\u003e0=%{x}\\u003cbr\\u003e1=%{y}\\u003cbr\\u003e2=%{z}\\u003cextra\\u003e\\u003c\\u002fextra\\u003e\",\"legendgroup\":\"can you turn on\",\"marker\":{\"color\":\"#EF553B\",\"symbol\":\"circle\"},\"mode\":\"markers\",\"name\":\"can you turn on\",\"scene\":\"scene\",\"showlegend\":true,\"x\":[-6.0757649467118275],\"y\":[18.010031130497982],\"z\":[-13.102108933795979],\"type\":\"scatter3d\"},{\"hovertemplate\":\"color=start driver seat massage\\u003cbr\\u003e0=%{x}\\u003cbr\\u003e1=%{y}\\u003cbr\\u003e2=%{z}\\u003cextra\\u003e\\u003c\\u002fextra\\u003e\",\"legendgroup\":\"start driver seat massage\",\"marker\":{\"color\":\"#00cc96\",\"symbol\":\"circle\"},\"mode\":\"markers\",\"name\":\"start driver seat massage\",\"scene\":\"scene\",\"showlegend\":true,\"x\":[5.270424333952919],\"y\":[-6.634997177164216],\"z\":[-3.2712928672181083],\"type\":\"scatter3d\"},{\"hovertemplate\":\"color=turn on the driver seat massage\\u003cbr\\u003e0=%{x}\\u003cbr\\u003e1=%{y}\\u003cbr\\u003e2=%{z}\\u003cextra\\u003e\\u003c\\u002fextra\\u003e\",\"legendgroup\":\"turn on the driver seat massage\",\"marker\":{\"color\":\"#ab63fa\",\"symbol\":\"circle\"},\"mode\":\"markers\",\"name\":\"turn on the driver seat massage\",\"scene\":\"scene\",\"showlegend\":true,\"x\":[9.509071935342076],\"y\":[0.3763071670711063],\"z\":[-0.9885535849039574],\"type\":\"scatter3d\"},{\"hovertemplate\":\"color=driver massage\\u003cbr\\u003e0=%{x}\\u003cbr\\u003e1=%{y}\\u003cbr\\u003e2=%{z}\\u003cextra\\u003e\\u003c\\u002fextra\\u003e\",\"legendgroup\":\"driver massage\",\"marker\":{\"color\":\"#FFA15A\",\"symbol\":\"circle\"},\"mode\":\"markers\",\"name\":\"driver massage\",\"scene\":\"scene\",\"showlegend\":true,\"x\":[3.667533570604314],\"y\":[-10.659182970013758],\"z\":[-4.225946511167791],\"type\":\"scatter3d\"},{\"hovertemplate\":\"color=turn on driver side seat massage\\u003cbr\\u003e0=%{x}\\u003cbr\\u003e1=%{y}\\u003cbr\\u003e2=%{z}\\u003cextra\\u003e\\u003c\\u002fextra\\u003e\",\"legendgroup\":\"turn on driver side seat massage\",\"marker\":{\"color\":\"#19d3f3\",\"symbol\":\"circle\"},\"mode\":\"markers\",\"name\":\"turn on driver side seat massage\",\"scene\":\"scene\",\"showlegend\":true,\"x\":[8.181676392889885],\"y\":[1.473394058836183],\"z\":[-1.4794937100430101],\"type\":\"scatter3d\"},{\"hovertemplate\":\"color=turn on massage for the back passenger side\\u003cbr\\u003e0=%{x}\\u003cbr\\u003e1=%{y}\\u003cbr\\u003e2=%{z}\\u003cextra\\u003e\\u003c\\u002fextra\\u003e\",\"legendgroup\":\"turn on massage for the back passenger side\",\"marker\":{\"color\":\"#FF6692\",\"symbol\":\"circle\"},\"mode\":\"markers\",\"name\":\"turn on massage for the back passenger side\",\"scene\":\"scene\",\"showlegend\":true,\"x\":[5.395578288197664],\"y\":[-0.467547628190935],\"z\":[0.5385209914662767],\"type\":\"scatter3d\"},{\"hovertemplate\":\"color=activate my seat massage\\u003cbr\\u003e0=%{x}\\u003cbr\\u003e1=%{y}\\u003cbr\\u003e2=%{z}\\u003cextra\\u003e\\u003c\\u002fextra\\u003e\",\"legendgroup\":\"activate my seat massage\",\"marker\":{\"color\":\"#B6E880\",\"symbol\":\"circle\"},\"mode\":\"markers\",\"name\":\"activate my seat massage\",\"scene\":\"scene\",\"showlegend\":true,\"x\":[-2.2197048770900087],\"y\":[-3.4601505387655673],\"z\":[3.0957991371112072],\"type\":\"scatter3d\"},{\"hovertemplate\":\"color=massage me\\u003cbr\\u003e0=%{x}\\u003cbr\\u003e1=%{y}\\u003cbr\\u003e2=%{z}\\u003cextra\\u003e\\u003c\\u002fextra\\u003e\",\"legendgroup\":\"massage me\",\"marker\":{\"color\":\"#FF97FF\",\"symbol\":\"circle\"},\"mode\":\"markers\",\"name\":\"massage me\",\"scene\":\"scene\",\"showlegend\":true,\"x\":[-15.484300628957488],\"y\":[-9.247932811482181],\"z\":[2.339160876943322],\"type\":\"scatter3d\"},{\"hovertemplate\":\"color=turn on my massager\\u003cbr\\u003e0=%{x}\\u003cbr\\u003e1=%{y}\\u003cbr\\u003e2=%{z}\\u003cextra\\u003e\\u003c\\u002fextra\\u003e\",\"legendgroup\":\"turn on my massager\",\"marker\":{\"color\":\"#FECB52\",\"symbol\":\"circle\"},\"mode\":\"markers\",\"name\":\"turn on my massager\",\"scene\":\"scene\",\"showlegend\":true,\"x\":[-8.19355045931084],\"y\":[9.963069527397218],\"z\":[6.868749605056108],\"type\":\"scatter3d\"},{\"hovertemplate\":\"color=turn on on the driver seat massage\\u003cbr\\u003e0=%{x}\\u003cbr\\u003e1=%{y}\\u003cbr\\u003e2=%{z}\\u003cextra\\u003e\\u003c\\u002fextra\\u003e\",\"legendgroup\":\"turn on on the driver seat massage\",\"marker\":{\"color\":\"#636efa\",\"symbol\":\"circle\"},\"mode\":\"markers\",\"name\":\"turn on on the driver seat massage\",\"scene\":\"scene\",\"showlegend\":true,\"x\":[9.283664928440048],\"y\":[2.7677794914925693],\"z\":[-0.6330313179416314],\"type\":\"scatter3d\"},{\"hovertemplate\":\"color=turn on massage for the back driver seat\\u003cbr\\u003e0=%{x}\\u003cbr\\u003e1=%{y}\\u003cbr\\u003e2=%{z}\\u003cextra\\u003e\\u003c\\u002fextra\\u003e\",\"legendgroup\":\"turn on massage for the back driver seat\",\"marker\":{\"color\":\"#EF553B\",\"symbol\":\"circle\"},\"mode\":\"markers\",\"name\":\"turn on massage for the back driver seat\",\"scene\":\"scene\",\"showlegend\":true,\"x\":[6.04120955830951],\"y\":[0.1938871430770628],\"z\":[0.12032395226683106],\"type\":\"scatter3d\"},{\"hovertemplate\":\"color=turn on all massage\\u003cbr\\u003e0=%{x}\\u003cbr\\u003e1=%{y}\\u003cbr\\u003e2=%{z}\\u003cextra\\u003e\\u003c\\u002fextra\\u003e\",\"legendgroup\":\"turn on all massage\",\"marker\":{\"color\":\"#00cc96\",\"symbol\":\"circle\"},\"mode\":\"markers\",\"name\":\"turn on all massage\",\"scene\":\"scene\",\"showlegend\":true,\"x\":[-5.82343897241193],\"y\":[9.184087606255046],\"z\":[4.980867216263732],\"type\":\"scatter3d\"},{\"hovertemplate\":\"color=passenger massage\\u003cbr\\u003e0=%{x}\\u003cbr\\u003e1=%{y}\\u003cbr\\u003e2=%{z}\\u003cextra\\u003e\\u003c\\u002fextra\\u003e\",\"legendgroup\":\"passenger massage\",\"marker\":{\"color\":\"#ab63fa\",\"symbol\":\"circle\"},\"mode\":\"markers\",\"name\":\"passenger massage\",\"scene\":\"scene\",\"showlegend\":true,\"x\":[5.874241600313681],\"y\":[-14.920930520479576],\"z\":[0.5794228032602712],\"type\":\"scatter3d\"},{\"hovertemplate\":\"color=turn on front passenger massage\\u003cbr\\u003e0=%{x}\\u003cbr\\u003e1=%{y}\\u003cbr\\u003e2=%{z}\\u003cextra\\u003e\\u003c\\u002fextra\\u003e\",\"legendgroup\":\"turn on front passenger massage\",\"marker\":{\"color\":\"#FFA15A\",\"symbol\":\"circle\"},\"mode\":\"markers\",\"name\":\"turn on front passenger massage\",\"scene\":\"scene\",\"showlegend\":true,\"x\":[6.924858400528767],\"y\":[-1.160105912365148],\"z\":[1.7691386672985325],\"type\":\"scatter3d\"},{\"hovertemplate\":\"color=on passenger massage\\u003cbr\\u003e0=%{x}\\u003cbr\\u003e1=%{y}\\u003cbr\\u003e2=%{z}\\u003cextra\\u003e\\u003c\\u002fextra\\u003e\",\"legendgroup\":\"on passenger massage\",\"marker\":{\"color\":\"#19d3f3\",\"symbol\":\"circle\"},\"mode\":\"markers\",\"name\":\"on passenger massage\",\"scene\":\"scene\",\"showlegend\":true,\"x\":[6.671323836112369],\"y\":[-13.12639421756331],\"z\":[2.3764443223752814],\"type\":\"scatter3d\"},{\"hovertemplate\":\"color=turn on driver 's seat massage\\u003cbr\\u003e0=%{x}\\u003cbr\\u003e1=%{y}\\u003cbr\\u003e2=%{z}\\u003cextra\\u003e\\u003c\\u002fextra\\u003e\",\"legendgroup\":\"turn on driver 's seat massage\",\"marker\":{\"color\":\"#FF6692\",\"symbol\":\"circle\"},\"mode\":\"markers\",\"name\":\"turn on driver 's seat massage\",\"scene\":\"scene\",\"showlegend\":true,\"x\":[8.829735981392671],\"y\":[0.5339617552021357],\"z\":[-0.5153356460215294],\"type\":\"scatter3d\"},{\"hovertemplate\":\"color=start back\\u003cbr\\u003e0=%{x}\\u003cbr\\u003e1=%{y}\\u003cbr\\u003e2=%{z}\\u003cextra\\u003e\\u003c\\u002fextra\\u003e\",\"legendgroup\":\"start back\",\"marker\":{\"color\":\"#B6E880\",\"symbol\":\"circle\"},\"mode\":\"markers\",\"name\":\"start back\",\"scene\":\"scene\",\"showlegend\":true,\"x\":[-16.324626909937635],\"y\":[-1.7518482172783831],\"z\":[-17.972888307975182],\"type\":\"scatter3d\"},{\"hovertemplate\":\"color=activate my massage\\u003cbr\\u003e0=%{x}\\u003cbr\\u003e1=%{y}\\u003cbr\\u003e2=%{z}\\u003cextra\\u003e\\u003c\\u002fextra\\u003e\",\"legendgroup\":\"activate my massage\",\"marker\":{\"color\":\"#FF97FF\",\"symbol\":\"circle\"},\"mode\":\"markers\",\"name\":\"activate my massage\",\"scene\":\"scene\",\"showlegend\":true,\"x\":[-14.264068327952893],\"y\":[-0.10298504887039829],\"z\":[5.735221022650391],\"type\":\"scatter3d\"},{\"hovertemplate\":\"color=massage my back\\u003cbr\\u003e0=%{x}\\u003cbr\\u003e1=%{y}\\u003cbr\\u003e2=%{z}\\u003cextra\\u003e\\u003c\\u002fextra\\u003e\",\"legendgroup\":\"massage my back\",\"marker\":{\"color\":\"#FECB52\",\"symbol\":\"circle\"},\"mode\":\"markers\",\"name\":\"massage my back\",\"scene\":\"scene\",\"showlegend\":true,\"x\":[-13.81459611011876],\"y\":[-9.990575895038683],\"z\":[1.672879939259638],\"type\":\"scatter3d\"}],                        {\"height\":700,\"legend\":{\"title\":{\"text\":\"color\"},\"tracegroupgap\":0},\"margin\":{\"t\":60},\"scene\":{\"camera\":{\"eye\":{\"x\":-1.25,\"y\":2,\"z\":0.5}},\"domain\":{\"x\":[0.0,1.0],\"y\":[0.0,1.0]},\"xaxis\":{\"title\":{\"text\":\"0\"}},\"yaxis\":{\"title\":{\"text\":\"1\"}},\"zaxis\":{\"title\":{\"text\":\"2\"}}},\"template\":{\"data\":{\"barpolar\":[{\"marker\":{\"line\":{\"color\":\"#E5ECF6\",\"width\":0.5},\"pattern\":{\"fillmode\":\"overlay\",\"size\":10,\"solidity\":0.2}},\"type\":\"barpolar\"}],\"bar\":[{\"error_x\":{\"color\":\"#2a3f5f\"},\"error_y\":{\"color\":\"#2a3f5f\"},\"marker\":{\"line\":{\"color\":\"#E5ECF6\",\"width\":0.5},\"pattern\":{\"fillmode\":\"overlay\",\"size\":10,\"solidity\":0.2}},\"type\":\"bar\"}],\"carpet\":[{\"aaxis\":{\"endlinecolor\":\"#2a3f5f\",\"gridcolor\":\"white\",\"linecolor\":\"white\",\"minorgridcolor\":\"white\",\"startlinecolor\":\"#2a3f5f\"},\"baxis\":{\"endlinecolor\":\"#2a3f5f\",\"gridcolor\":\"white\",\"linecolor\":\"white\",\"minorgridcolor\":\"white\",\"startlinecolor\":\"#2a3f5f\"},\"type\":\"carpet\"}],\"choropleth\":[{\"colorbar\":{\"outlinewidth\":0,\"ticks\":\"\"},\"type\":\"choropleth\"}],\"contourcarpet\":[{\"colorbar\":{\"outlinewidth\":0,\"ticks\":\"\"},\"type\":\"contourcarpet\"}],\"contour\":[{\"colorbar\":{\"outlinewidth\":0,\"ticks\":\"\"},\"colorscale\":[[0.0,\"#0d0887\"],[0.1111111111111111,\"#46039f\"],[0.2222222222222222,\"#7201a8\"],[0.3333333333333333,\"#9c179e\"],[0.4444444444444444,\"#bd3786\"],[0.5555555555555556,\"#d8576b\"],[0.6666666666666666,\"#ed7953\"],[0.7777777777777778,\"#fb9f3a\"],[0.8888888888888888,\"#fdca26\"],[1.0,\"#f0f921\"]],\"type\":\"contour\"}],\"heatmapgl\":[{\"colorbar\":{\"outlinewidth\":0,\"ticks\":\"\"},\"colorscale\":[[0.0,\"#0d0887\"],[0.1111111111111111,\"#46039f\"],[0.2222222222222222,\"#7201a8\"],[0.3333333333333333,\"#9c179e\"],[0.4444444444444444,\"#bd3786\"],[0.5555555555555556,\"#d8576b\"],[0.6666666666666666,\"#ed7953\"],[0.7777777777777778,\"#fb9f3a\"],[0.8888888888888888,\"#fdca26\"],[1.0,\"#f0f921\"]],\"type\":\"heatmapgl\"}],\"heatmap\":[{\"colorbar\":{\"outlinewidth\":0,\"ticks\":\"\"},\"colorscale\":[[0.0,\"#0d0887\"],[0.1111111111111111,\"#46039f\"],[0.2222222222222222,\"#7201a8\"],[0.3333333333333333,\"#9c179e\"],[0.4444444444444444,\"#bd3786\"],[0.5555555555555556,\"#d8576b\"],[0.6666666666666666,\"#ed7953\"],[0.7777777777777778,\"#fb9f3a\"],[0.8888888888888888,\"#fdca26\"],[1.0,\"#f0f921\"]],\"type\":\"heatmap\"}],\"histogram2dcontour\":[{\"colorbar\":{\"outlinewidth\":0,\"ticks\":\"\"},\"colorscale\":[[0.0,\"#0d0887\"],[0.1111111111111111,\"#46039f\"],[0.2222222222222222,\"#7201a8\"],[0.3333333333333333,\"#9c179e\"],[0.4444444444444444,\"#bd3786\"],[0.5555555555555556,\"#d8576b\"],[0.6666666666666666,\"#ed7953\"],[0.7777777777777778,\"#fb9f3a\"],[0.8888888888888888,\"#fdca26\"],[1.0,\"#f0f921\"]],\"type\":\"histogram2dcontour\"}],\"histogram2d\":[{\"colorbar\":{\"outlinewidth\":0,\"ticks\":\"\"},\"colorscale\":[[0.0,\"#0d0887\"],[0.1111111111111111,\"#46039f\"],[0.2222222222222222,\"#7201a8\"],[0.3333333333333333,\"#9c179e\"],[0.4444444444444444,\"#bd3786\"],[0.5555555555555556,\"#d8576b\"],[0.6666666666666666,\"#ed7953\"],[0.7777777777777778,\"#fb9f3a\"],[0.8888888888888888,\"#fdca26\"],[1.0,\"#f0f921\"]],\"type\":\"histogram2d\"}],\"histogram\":[{\"marker\":{\"pattern\":{\"fillmode\":\"overlay\",\"size\":10,\"solidity\":0.2}},\"type\":\"histogram\"}],\"mesh3d\":[{\"colorbar\":{\"outlinewidth\":0,\"ticks\":\"\"},\"type\":\"mesh3d\"}],\"parcoords\":[{\"line\":{\"colorbar\":{\"outlinewidth\":0,\"ticks\":\"\"}},\"type\":\"parcoords\"}],\"pie\":[{\"automargin\":true,\"type\":\"pie\"}],\"scatter3d\":[{\"line\":{\"colorbar\":{\"outlinewidth\":0,\"ticks\":\"\"}},\"marker\":{\"colorbar\":{\"outlinewidth\":0,\"ticks\":\"\"}},\"type\":\"scatter3d\"}],\"scattercarpet\":[{\"marker\":{\"colorbar\":{\"outlinewidth\":0,\"ticks\":\"\"}},\"type\":\"scattercarpet\"}],\"scattergeo\":[{\"marker\":{\"colorbar\":{\"outlinewidth\":0,\"ticks\":\"\"}},\"type\":\"scattergeo\"}],\"scattergl\":[{\"marker\":{\"colorbar\":{\"outlinewidth\":0,\"ticks\":\"\"}},\"type\":\"scattergl\"}],\"scattermapbox\":[{\"marker\":{\"colorbar\":{\"outlinewidth\":0,\"ticks\":\"\"}},\"type\":\"scattermapbox\"}],\"scatterpolargl\":[{\"marker\":{\"colorbar\":{\"outlinewidth\":0,\"ticks\":\"\"}},\"type\":\"scatterpolargl\"}],\"scatterpolar\":[{\"marker\":{\"colorbar\":{\"outlinewidth\":0,\"ticks\":\"\"}},\"type\":\"scatterpolar\"}],\"scatter\":[{\"fillpattern\":{\"fillmode\":\"overlay\",\"size\":10,\"solidity\":0.2},\"type\":\"scatter\"}],\"scatterternary\":[{\"marker\":{\"colorbar\":{\"outlinewidth\":0,\"ticks\":\"\"}},\"type\":\"scatterternary\"}],\"surface\":[{\"colorbar\":{\"outlinewidth\":0,\"ticks\":\"\"},\"colorscale\":[[0.0,\"#0d0887\"],[0.1111111111111111,\"#46039f\"],[0.2222222222222222,\"#7201a8\"],[0.3333333333333333,\"#9c179e\"],[0.4444444444444444,\"#bd3786\"],[0.5555555555555556,\"#d8576b\"],[0.6666666666666666,\"#ed7953\"],[0.7777777777777778,\"#fb9f3a\"],[0.8888888888888888,\"#fdca26\"],[1.0,\"#f0f921\"]],\"type\":\"surface\"}],\"table\":[{\"cells\":{\"fill\":{\"color\":\"#EBF0F8\"},\"line\":{\"color\":\"white\"}},\"header\":{\"fill\":{\"color\":\"#C8D4E3\"},\"line\":{\"color\":\"white\"}},\"type\":\"table\"}]},\"layout\":{\"annotationdefaults\":{\"arrowcolor\":\"#2a3f5f\",\"arrowhead\":0,\"arrowwidth\":1},\"autotypenumbers\":\"strict\",\"coloraxis\":{\"colorbar\":{\"outlinewidth\":0,\"ticks\":\"\"}},\"colorscale\":{\"diverging\":[[0,\"#8e0152\"],[0.1,\"#c51b7d\"],[0.2,\"#de77ae\"],[0.3,\"#f1b6da\"],[0.4,\"#fde0ef\"],[0.5,\"#f7f7f7\"],[0.6,\"#e6f5d0\"],[0.7,\"#b8e186\"],[0.8,\"#7fbc41\"],[0.9,\"#4d9221\"],[1,\"#276419\"]],\"sequential\":[[0.0,\"#0d0887\"],[0.1111111111111111,\"#46039f\"],[0.2222222222222222,\"#7201a8\"],[0.3333333333333333,\"#9c179e\"],[0.4444444444444444,\"#bd3786\"],[0.5555555555555556,\"#d8576b\"],[0.6666666666666666,\"#ed7953\"],[0.7777777777777778,\"#fb9f3a\"],[0.8888888888888888,\"#fdca26\"],[1.0,\"#f0f921\"]],\"sequentialminus\":[[0.0,\"#0d0887\"],[0.1111111111111111,\"#46039f\"],[0.2222222222222222,\"#7201a8\"],[0.3333333333333333,\"#9c179e\"],[0.4444444444444444,\"#bd3786\"],[0.5555555555555556,\"#d8576b\"],[0.6666666666666666,\"#ed7953\"],[0.7777777777777778,\"#fb9f3a\"],[0.8888888888888888,\"#fdca26\"],[1.0,\"#f0f921\"]]},\"colorway\":[\"#636efa\",\"#EF553B\",\"#00cc96\",\"#ab63fa\",\"#FFA15A\",\"#19d3f3\",\"#FF6692\",\"#B6E880\",\"#FF97FF\",\"#FECB52\"],\"font\":{\"color\":\"#2a3f5f\"},\"geo\":{\"bgcolor\":\"white\",\"lakecolor\":\"white\",\"landcolor\":\"#E5ECF6\",\"showlakes\":true,\"showland\":true,\"subunitcolor\":\"white\"},\"hoverlabel\":{\"align\":\"left\"},\"hovermode\":\"closest\",\"mapbox\":{\"style\":\"light\"},\"paper_bgcolor\":\"white\",\"plot_bgcolor\":\"#E5ECF6\",\"polar\":{\"angularaxis\":{\"gridcolor\":\"white\",\"linecolor\":\"white\",\"ticks\":\"\"},\"bgcolor\":\"#E5ECF6\",\"radialaxis\":{\"gridcolor\":\"white\",\"linecolor\":\"white\",\"ticks\":\"\"}},\"scene\":{\"xaxis\":{\"backgroundcolor\":\"#E5ECF6\",\"gridcolor\":\"white\",\"gridwidth\":2,\"linecolor\":\"white\",\"showbackground\":true,\"ticks\":\"\",\"zerolinecolor\":\"white\"},\"yaxis\":{\"backgroundcolor\":\"#E5ECF6\",\"gridcolor\":\"white\",\"gridwidth\":2,\"linecolor\":\"white\",\"showbackground\":true,\"ticks\":\"\",\"zerolinecolor\":\"white\"},\"zaxis\":{\"backgroundcolor\":\"#E5ECF6\",\"gridcolor\":\"white\",\"gridwidth\":2,\"linecolor\":\"white\",\"showbackground\":true,\"ticks\":\"\",\"zerolinecolor\":\"white\"}},\"shapedefaults\":{\"line\":{\"color\":\"#2a3f5f\"}},\"ternary\":{\"aaxis\":{\"gridcolor\":\"white\",\"linecolor\":\"white\",\"ticks\":\"\"},\"baxis\":{\"gridcolor\":\"white\",\"linecolor\":\"white\",\"ticks\":\"\"},\"bgcolor\":\"#E5ECF6\",\"caxis\":{\"gridcolor\":\"white\",\"linecolor\":\"white\",\"ticks\":\"\"}},\"title\":{\"x\":0.05},\"xaxis\":{\"automargin\":true,\"gridcolor\":\"white\",\"linecolor\":\"white\",\"ticks\":\"\",\"title\":{\"standoff\":15},\"zerolinecolor\":\"white\",\"zerolinewidth\":2},\"yaxis\":{\"automargin\":true,\"gridcolor\":\"white\",\"linecolor\":\"white\",\"ticks\":\"\",\"title\":{\"standoff\":15},\"zerolinecolor\":\"white\",\"zerolinewidth\":2}}},\"title\":{\"text\":\"Animation Test\"},\"updatemenus\":[{\"buttons\":[{\"args\":[null,{\"frame\":{\"duration\":100,\"redraw\":true},\"transition\":{\"duration\":1},\"fromcurrent\":true,\"mode\":\"immediate\"}],\"label\":\"Play\",\"method\":\"animate\"}],\"pad\":{\"r\":10,\"t\":45},\"showactive\":false,\"type\":\"buttons\",\"x\":0.8,\"xanchor\":\"left\",\"y\":1,\"yanchor\":\"bottom\"}],\"width\":980},                        {\"responsive\": true}                    ).then(function(){\n",
       "                            Plotly.addFrames('e85e302f-aaa0-45ef-a6c8-cfdfb7068716', [{\"layout\":{\"scene\":{\"camera\":{\"eye\":{\"x\":-1.25,\"y\":2.0,\"z\":0.5}}}}},{\"layout\":{\"scene\":{\"camera\":{\"eye\":{\"x\":-1.169021464952954,\"y\":2.0483868810552486,\"z\":0.5}}}}},{\"layout\":{\"scene\":{\"camera\":{\"eye\":{\"x\":-1.0861727449399288,\"y\":2.0934967800667046,\"z\":0.5}}}}},{\"layout\":{\"scene\":{\"camera\":{\"eye\":{\"x\":-1.001586380239494,\"y\":2.1352575308188815,\"z\":0.5}}}}},{\"layout\":{\"scene\":{\"camera\":{\"eye\":{\"x\":-0.9153976909910417,\"y\":2.1736023250190613,\"z\":0.5}}}}},{\"layout\":{\"scene\":{\"camera\":{\"eye\":{\"x\":-0.8277445607114295,\"y\":2.20846981917631,\"z\":0.5}}}}},{\"layout\":{\"scene\":{\"camera\":{\"eye\":{\"x\":-0.7387672157107679,\"y\":2.2398042327379777,\"z\":0.5}}}}},{\"layout\":{\"scene\":{\"camera\":{\"eye\":{\"x\":-0.6486080007602362,\"y\":2.267555437326684,\"z\":0.5}}}}},{\"layout\":{\"scene\":{\"camera\":{\"eye\":{\"x\":-0.5574111513708155,\"y\":2.2916790369350286,\"z\":0.5}}}}},{\"layout\":{\"scene\":{\"camera\":{\"eye\":{\"x\":-0.4653225630472385,\"y\":2.312136438949732,\"z\":0.5}}}}},{\"layout\":{\"scene\":{\"camera\":{\"eye\":{\"x\":-0.37248955788630533,\"y\":2.3288949158915835,\"z\":0.5}}}}},{\"layout\":{\"scene\":{\"camera\":{\"eye\":{\"x\":-0.2790606488929549,\"y\":2.3419276577724264,\"z\":0.5}}}}},{\"layout\":{\"scene\":{\"camera\":{\"eye\":{\"x\":-0.18518530239113928,\"y\":2.351213814985422,\"z\":0.5}}}}},{\"layout\":{\"scene\":{\"camera\":{\"eye\":{\"x\":-0.09101369890958888,\"y\":2.3567385316599707,\"z\":0.5}}}}},{\"layout\":{\"scene\":{\"camera\":{\"eye\":{\"x\":0.0033035070749967144,\"y\":2.358492969427936,\"z\":0.5}}}}},{\"layout\":{\"scene\":{\"camera\":{\"eye\":{\"x\":0.09761542815297286,\"y\":2.3564743215631507,\"z\":0.5}}}}},{\"layout\":{\"scene\":{\"camera\":{\"eye\":{\"x\":0.1917711853694184,\"y\":2.3506858174715752,\"z\":0.5}}}}},{\"layout\":{\"scene\":{\"camera\":{\"eye\":{\"x\":0.2856201495982773,\"y\":2.3411367175249413,\"z\":0.5}}}}},{\"layout\":{\"scene\":{\"camera\":{\"eye\":{\"x\":0.37901218251682733,\"y\":2.3278422982461313,\"z\":0.5}}}}},{\"layout\":{\"scene\":{\"camera\":{\"eye\":{\"x\":0.4717978767949711,\"y\":2.3108238278699993,\"z\":0.5}}}}},{\"layout\":{\"scene\":{\"camera\":{\"eye\":{\"x\":0.5638287951150889,\"y\":2.290108532318734,\"z\":0.5}}}}},{\"layout\":{\"scene\":{\"camera\":{\"eye\":{\"x\":0.6549577076400834,\"y\":2.2657295516461904,\"z\":0.5}}}}},{\"layout\":{\"scene\":{\"camera\":{\"eye\":{\"x\":0.7450388275497133,\"y\":2.237725887020872,\"z\":0.5}}}}},{\"layout\":{\"scene\":{\"camera\":{\"eye\":{\"x\":0.8339280442684036,\"y\":2.2061423383323833,\"z\":0.5}}}}},{\"layout\":{\"scene\":{\"camera\":{\"eye\":{\"x\":0.9214831540114257,\"y\":2.171029432521161,\"z\":0.5}}}}},{\"layout\":{\"scene\":{\"camera\":{\"eye\":{\"x\":1.0075640872806182,\"y\":2.13244334274615,\"z\":0.5}}}}},{\"layout\":{\"scene\":{\"camera\":{\"eye\":{\"x\":1.0920331329457038,\"y\":2.09044579851973,\"z\":0.5}}}}},{\"layout\":{\"scene\":{\"camera\":{\"eye\":{\"x\":1.17475515855272,\"y\":2.0451039869536642,\"z\":0.5}}}}},{\"layout\":{\"scene\":{\"camera\":{\"eye\":{\"x\":1.25559782650712,\"y\":1.9964904452740555,\"z\":0.5}}}}},{\"layout\":{\"scene\":{\"camera\":{\"eye\":{\"x\":1.3344318057856923,\"y\":1.944682944777255,\"z\":0.5}}}}},{\"layout\":{\"scene\":{\"camera\":{\"eye\":{\"x\":1.4111309788386106,\"y\":1.88976436641238,\"z\":0.5}}}}},{\"layout\":{\"scene\":{\"camera\":{\"eye\":{\"x\":1.4855726433506076,\"y\":1.8318225681894762,\"z\":0.5}}}}},{\"layout\":{\"scene\":{\"camera\":{\"eye\":{\"x\":1.5576377085385054,\"y\":1.7709502446254421,\"z\":0.5}}}}},{\"layout\":{\"scene\":{\"camera\":{\"eye\":{\"x\":1.6272108856710643,\"y\":1.7072447784525773,\"z\":0.5}}}}},{\"layout\":{\"scene\":{\"camera\":{\"eye\":{\"x\":1.6941808725063585,\"y\":1.640808084826984,\"z\":0.5}}}}},{\"layout\":{\"scene\":{\"camera\":{\"eye\":{\"x\":1.7584405313516194,\"y\":1.571746448286057,\"z\":0.5}}}}},{\"layout\":{\"scene\":{\"camera\":{\"eye\":{\"x\":1.819887060460691,\"y\":1.5001703527158992,\"z\":0.5}}}}},{\"layout\":{\"scene\":{\"camera\":{\"eye\":{\"x\":1.878422158494893,\"y\":1.4261943046006693,\"z\":0.5}}}}},{\"layout\":{\"scene\":{\"camera\":{\"eye\":{\"x\":1.933952181784192,\"y\":1.349936649836637,\"z\":0.5}}}}},{\"layout\":{\"scene\":{\"camera\":{\"eye\":{\"x\":1.9863882941370983,\"y\":1.2715193844039927,\"z\":0.5}}}}},{\"layout\":{\"scene\":{\"camera\":{\"eye\":{\"x\":2.0356466089596212,\"y\":1.1910679591993036,\"z\":0.5}}}}},{\"layout\":{\"scene\":{\"camera\":{\"eye\":{\"x\":2.081648323455925,\"y\":1.1087110793408428,\"z\":0.5}}}}},{\"layout\":{\"scene\":{\"camera\":{\"eye\":{\"x\":2.1243198446959908,\"y\":1.0245804982678528,\"z\":0.5}}}}},{\"layout\":{\"scene\":{\"camera\":{\"eye\":{\"x\":2.1635929073486073,\"y\":0.9388108069631496,\"z\":0.5}}}}},{\"layout\":{\"scene\":{\"camera\":{\"eye\":{\"x\":2.199404682891337,\"y\":0.8515392186362629,\"z\":0.5}}}}},{\"layout\":{\"scene\":{\"camera\":{\"eye\":{\"x\":2.2316978801227494,\"y\":0.7629053492115697,\"z\":0.5}}}}},{\"layout\":{\"scene\":{\"camera\":{\"eye\":{\"x\":2.2604208368161216,\"y\":0.6730509939725993,\"z\":0.5}}}}},{\"layout\":{\"scene\":{\"camera\":{\"eye\":{\"x\":2.2855276023679822,\"y\":0.5821199007198272,\"z\":0.5}}}}},{\"layout\":{\"scene\":{\"camera\":{\"eye\":{\"x\":2.3069780113092726,\"y\":0.49025753980485975,\"z\":0.5}}}}},{\"layout\":{\"scene\":{\"camera\":{\"eye\":{\"x\":2.32473774756153,\"y\":0.3976108714089014,\"z\":0.5}}}}},{\"layout\":{\"scene\":{\"camera\":{\"eye\":{\"x\":2.3387783993352915,\"y\":0.3043281104378174,\"z\":0.5}}}}},{\"layout\":{\"scene\":{\"camera\":{\"eye\":{\"x\":2.3490775045828993,\"y\":0.21055848940990063,\"z\":0.5}}}}},{\"layout\":{\"scene\":{\"camera\":{\"eye\":{\"x\":2.355618586932982,\"y\":0.11645201971567687,\"z\":0.5}}}}},{\"layout\":{\"scene\":{\"camera\":{\"eye\":{\"x\":2.3583911820491363,\"y\":0.022159251631680643,\"z\":0.5}}}}},{\"layout\":{\"scene\":{\"camera\":{\"eye\":{\"x\":2.357390854370632,\"y\":-0.07216896652787153,\"z\":0.5}}}}},{\"layout\":{\"scene\":{\"camera\":{\"eye\":{\"x\":2.3526192042083625,\"y\":-0.16638172973620402,\"z\":0.5}}}}},{\"layout\":{\"scene\":{\"camera\":{\"eye\":{\"x\":2.3440838651846896,\"y\":-0.2603283176698348,\"z\":0.5}}}}},{\"layout\":{\"scene\":{\"camera\":{\"eye\":{\"x\":2.331798492021276,\"y\":-0.3538584358289396,\"z\":0.5}}}}},{\"layout\":{\"scene\":{\"camera\":{\"eye\":{\"x\":2.3157827386944434,\"y\":-0.44682245597649073,\"z\":0.5}}}}},{\"layout\":{\"scene\":{\"camera\":{\"eye\":{\"x\":2.296062226993003,\"y\":-0.5390716555115206,\"z\":0.5}}}}},{\"layout\":{\"scene\":{\"camera\":{\"eye\":{\"x\":2.2726685055288587,\"y\":-0.6304584553935522,\"z\":0.5}}}}},{\"layout\":{\"scene\":{\"camera\":{\"eye\":{\"x\":2.245638999265959,\"y\":-0.7208366562375849,\"z\":0.5}}}}},{\"layout\":{\"scene\":{\"camera\":{\"eye\":{\"x\":2.215016949648337,\"y\":-0.8100616722019226,\"z\":0.5}}}}},{\"layout\":{\"scene\":{\"camera\":{\"eye\":{\"x\":2.1808513454230263,\"y\":-0.8979907622946776,\"z\":0.5}}}}},{\"layout\":{\"scene\":{\"camera\":{\"eye\":{\"x\":2.1431968442685125,\"y\":-0.9844832587289071,\"z\":0.5}}}}},{\"layout\":{\"scene\":{\"camera\":{\"eye\":{\"x\":2.1021136853541122,\"y\":-1.0694007919610644,\"z\":0.5}}}}},{\"layout\":{\"scene\":{\"camera\":{\"eye\":{\"x\":2.0576675929701485,\"y\":-1.1526075120527528,\"z\":0.5}}}}},{\"layout\":{\"scene\":{\"camera\":{\"eye\":{\"x\":2.0099296713831074,\"y\":-1.2339703060016451,\"z\":0.5}}}}},{\"layout\":{\"scene\":{\"camera\":{\"eye\":{\"x\":1.958976291083982,\"y\":-1.3133590106938944,\"z\":0.5}}}}},{\"layout\":{\"scene\":{\"camera\":{\"eye\":{\"x\":1.9048889666117765,\"y\":-1.3906466211373463,\"z\":0.5}}}}},{\"layout\":{\"scene\":{\"camera\":{\"eye\":{\"x\":1.8477542261476323,\"y\":-1.4657094936424357,\"z\":0.5}}}}},{\"layout\":{\"scene\":{\"camera\":{\"eye\":{\"x\":1.7876634730881977,\"y\":-1.5384275436257122,\"z\":0.5}}}}},{\"layout\":{\"scene\":{\"camera\":{\"eye\":{\"x\":1.72471283981969,\"y\":-1.6086844377195608,\"z\":0.5}}}}},{\"layout\":{\"scene\":{\"camera\":{\"eye\":{\"x\":1.659003033926587,\"y\":-1.676367779880769,\"z\":0.5}}}}},{\"layout\":{\"scene\":{\"camera\":{\"eye\":{\"x\":1.5906391770809738,\"y\":-1.7413692912002217,\"z\":0.5}}}}},{\"layout\":{\"scene\":{\"camera\":{\"eye\":{\"x\":1.5197306368702912,\"y\":-1.8035849831260569,\"z\":0.5}}}}},{\"layout\":{\"scene\":{\"camera\":{\"eye\":{\"x\":1.446390851832528,\"y\":-1.8629153238231666,\"z\":0.5}}}}},{\"layout\":{\"scene\":{\"camera\":{\"eye\":{\"x\":1.3707371499787584,\"y\":-1.9192653974029,\"z\":0.5}}}}},{\"layout\":{\"scene\":{\"camera\":{\"eye\":{\"x\":1.2928905610933523,\"y\":-1.9725450557682367,\"z\":0.5}}}}},{\"layout\":{\"scene\":{\"camera\":{\"eye\":{\"x\":1.2129756231121402,\"y\":-2.022669062831514,\"z\":0.5}}}}},{\"layout\":{\"scene\":{\"camera\":{\"eye\":{\"x\":1.1311201828882813,\"y\":-2.0695572308739814,\"z\":0.5}}}}},{\"layout\":{\"scene\":{\"camera\":{\"eye\":{\"x\":1.0474551916645707,\"y\":-2.1131345488290467,\"z\":0.5}}}}},{\"layout\":{\"scene\":{\"camera\":{\"eye\":{\"x\":0.9621144955793868,\"y\":-2.15333130228398,\"z\":0.5}}}}},{\"layout\":{\"scene\":{\"camera\":{\"eye\":{\"x\":0.875234621541422,\"y\":-2.190083185008105,\"z\":0.5}}}}},{\"layout\":{\"scene\":{\"camera\":{\"eye\":{\"x\":0.7869545588157532,\"y\":-2.2233314018290447,\"z\":0.5}}}}},{\"layout\":{\"scene\":{\"camera\":{\"eye\":{\"x\":0.6974155366706638,\"y\":-2.2530227626924613,\"z\":0.5}}}}},{\"layout\":{\"scene\":{\"camera\":{\"eye\":{\"x\":0.6067607984409478,\"y\":-2.2791097677547922,\"z\":0.5}}}}},{\"layout\":{\"scene\":{\"camera\":{\"eye\":{\"x\":0.5151353723691265,\"y\":-2.301550683372869,\"z\":0.5}}}}},{\"layout\":{\"scene\":{\"camera\":{\"eye\":{\"x\":0.4226858395911999,\"y\":-2.320309608868843,\"z\":0.5}}}}},{\"layout\":{\"scene\":{\"camera\":{\"eye\":{\"x\":0.3295600996380973,\"y\":-2.33535653396361,\"z\":0.5}}}}},{\"layout\":{\"scene\":{\"camera\":{\"eye\":{\"x\":0.2359071338279789,\"y\":-2.3466673867868595,\"z\":0.5}}}}},{\"layout\":{\"scene\":{\"camera\":{\"eye\":{\"x\":0.14187676692790685,\"y\":-2.3542240723869265,\"z\":0.5}}}}},{\"layout\":{\"scene\":{\"camera\":{\"eye\":{\"x\":0.04761942746617942,\"y\":-2.3580145016788583,\"z\":0.5}}}}},{\"layout\":{\"scene\":{\"camera\":{\"eye\":{\"x\":-0.046714092921224415,\"y\":-2.358032610784369,\"z\":0.5}}}}},{\"layout\":{\"scene\":{\"camera\":{\"eye\":{\"x\":-0.14097288072509584,\"y\":-2.3542783707327537,\"z\":0.5}}}}},{\"layout\":{\"scene\":{\"camera\":{\"eye\":{\"x\":-0.23500614199241787,\"y\":-2.346757787507232,\"z\":0.5}}}}},{\"layout\":{\"scene\":{\"camera\":{\"eye\":{\"x\":-0.32866344356452093,\"y\":-2.335482892436661,\"z\":0.5}}}}},{\"layout\":{\"scene\":{\"camera\":{\"eye\":{\"x\":-0.4217949537380502,\"y\":-2.320471722947969,\"z\":0.5}}}}},{\"layout\":{\"scene\":{\"camera\":{\"eye\":{\"x\":-0.5142516819637232,\"y\":-2.3017482937101272,\"z\":0.5}}}}},{\"layout\":{\"scene\":{\"camera\":{\"eye\":{\"x\":-0.6058857171994289,\"y\":-2.279342558215797,\"z\":0.5}}}}},{\"layout\":{\"scene\":{\"camera\":{\"eye\":{\"x\":-0.6965504645363415,\"y\":-2.253290360862134,\"z\":0.5}}}}},{\"layout\":{\"scene\":{\"camera\":{\"eye\":{\"x\":-0.7861008797195037,\"y\":-2.223633379607399,\"z\":0.5}}}}},{\"layout\":{\"scene\":{\"camera\":{\"eye\":{\"x\":-0.8743937011876919,\"y\":-2.190419059295113,\"z\":0.5}}}}},{\"layout\":{\"scene\":{\"camera\":{\"eye\":{\"x\":-0.9612876792613543,\"y\":-2.1537005357524337,\"z\":0.5}}}}},{\"layout\":{\"scene\":{\"camera\":{\"eye\":{\"x\":-1.046643802111966,\"y\":-2.113536550784161,\"z\":0.5}}}}},{\"layout\":{\"scene\":{\"camera\":{\"eye\":{\"x\":-1.1303255181513021,\"y\":-2.069991358198384,\"z\":0.5}}}}},{\"layout\":{\"scene\":{\"camera\":{\"eye\":{\"x\":-1.2121989544848462,\"y\":-2.023134621014095,\"z\":0.5}}}}},{\"layout\":{\"scene\":{\"camera\":{\"eye\":{\"x\":-1.2921331310798663,\"y\":-1.9730413000152178,\"z\":0.5}}}}},{\"layout\":{\"scene\":{\"camera\":{\"eye\":{\"x\":-1.3700001703055256,\"y\":-1.9197915338293454,\"z\":0.5}}}}},{\"layout\":{\"scene\":{\"camera\":{\"eye\":{\"x\":-1.445675501509812,\"y\":-1.863470510723031,\"z\":0.5}}}}},{\"layout\":{\"scene\":{\"camera\":{\"eye\":{\"x\":-1.5190380603060079,\"y\":-1.8041683323187336,\"z\":0.5}}}}},{\"layout\":{\"scene\":{\"camera\":{\"eye\":{\"x\":-1.5899704822498846,\"y\":-1.741979869451444,\"z\":0.5}}}}},{\"layout\":{\"scene\":{\"camera\":{\"eye\":{\"x\":-1.6583592905977744,\"y\":-1.6770046103955847,\"z\":0.5}}}}},{\"layout\":{\"scene\":{\"camera\":{\"eye\":{\"x\":-1.7240950778451551,\"y\":-1.609346501704996,\"z\":0.5}}}}},{\"layout\":{\"scene\":{\"camera\":{\"eye\":{\"x\":-1.7870726807553179,\"y\":-1.5391137819206224,\"z\":0.5}}}}},{\"layout\":{\"scene\":{\"camera\":{\"eye\":{\"x\":-1.8471913485981115,\"y\":-1.4664188084119385,\"z\":0.5}}}}},{\"layout\":{\"scene\":{\"camera\":{\"eye\":{\"x\":-1.9043549043296184,\"y\":-1.3913778776291255,\"z\":0.5}}}}},{\"layout\":{\"scene\":{\"camera\":{\"eye\":{\"x\":-1.958471898454912,\"y\":-1.3141110390535544,\"z\":0.5}}}}},{\"layout\":{\"scene\":{\"camera\":{\"eye\":{\"x\":-2.0094557553277337,\"y\":-1.2347419031442348,\"z\":0.5}}}}},{\"layout\":{\"scene\":{\"camera\":{\"eye\":{\"x\":-2.057224911653063,\"y\":-1.1533974435874421,\"z\":0.5}}}}},{\"layout\":{\"scene\":{\"camera\":{\"eye\":{\"x\":-2.101702946970989,\"y\":-1.070207794165908,\"z\":0.5}}}}},{\"layout\":{\"scene\":{\"camera\":{\"eye\":{\"x\":-2.1428187059131454,\"y\":-0.9853060405725285,\"z\":0.5}}}}},{\"layout\":{\"scene\":{\"camera\":{\"eye\":{\"x\":-2.180506412036118,\"y\":-0.8988280075016445,\"z\":0.5}}}}},{\"layout\":{\"scene\":{\"camera\":{\"eye\":{\"x\":-2.214705773049725,\"y\":-0.8109120413585065,\"z\":0.5}}}}},{\"layout\":{\"scene\":{\"camera\":{\"eye\":{\"x\":-2.2453620772718197,\"y\":-0.7216987889345376,\"z\":0.5}}}}},{\"layout\":{\"scene\":{\"camera\":{\"eye\":{\"x\":-2.2724262811553095,\"y\":-0.6313309724024706,\"z\":0.5}}}}},{\"layout\":{\"scene\":{\"camera\":{\"eye\":{\"x\":-2.2958550877473702,\"y\":-0.5399531609913176,\"z\":0.5}}}}},{\"layout\":{\"scene\":{\"camera\":{\"eye\":{\"x\":-2.3156110159553323,\"y\":-0.4477115397064425,\"z\":0.5}}}}},{\"layout\":{\"scene\":{\"camera\":{\"eye\":{\"x\":-2.331662460508437,\"y\":-0.3547536754647387,\"z\":0.5}}}}},{\"layout\":{\"scene\":{\"camera\":{\"eye\":{\"x\":-2.3439837425195247,\"y\":-0.2612282810190394,\"z\":0.5}}}}},{\"layout\":{\"scene\":{\"camera\":{\"eye\":{\"x\":-2.352555150565778,\"y\":-0.16728497704943712,\"z\":0.5}}}}},{\"layout\":{\"scene\":{\"camera\":{\"eye\":{\"x\":-2.3573629722227913,\"y\":-0.07307405280211454,\"z\":0.5}}}}},{\"layout\":{\"scene\":{\"camera\":{\"eye\":{\"x\":-2.358399516001529,\"y\":0.02125377434139164,\"z\":0.5}}}}},{\"layout\":{\"scene\":{\"camera\":{\"eye\":{\"x\":-2.355663123653061,\"y\":0.11554759997984831,\"z\":0.5}}}}},{\"layout\":{\"scene\":{\"camera\":{\"eye\":{\"x\":-2.3491581728214133,\"y\":0.20965657410717753,\"z\":0.5}}}}},{\"layout\":{\"scene\":{\"camera\":{\"eye\":{\"x\":-2.3388950700402678,\"y\":0.30343014244028543,\"z\":0.5}}}}},{\"layout\":{\"scene\":{\"camera\":{\"eye\":{\"x\":-2.3248902340847284,\"y\":0.3967182872738003,\"z\":0.5}}}}},{\"layout\":{\"scene\":{\"camera\":{\"eye\":{\"x\":-2.3071660697047855,\"y\":0.4893717674763981,\"z\":0.5}}}}},{\"layout\":{\"scene\":{\"camera\":{\"eye\":{\"x\":-2.285750931782493,\"y\":0.5812423572447765,\"z\":0.5}}}}},{\"layout\":{\"scene\":{\"camera\":{\"eye\":{\"x\":-2.260679079970209,\"y\":0.6721830832333194,\"z\":0.5}}}}},{\"layout\":{\"scene\":{\"camera\":{\"eye\":{\"x\":-2.2319906238824543,\"y\":0.7620484596800993,\"z\":0.5}}}}},{\"layout\":{\"scene\":{\"camera\":{\"eye\":{\"x\":-2.1997314589290946,\"y\":0.8506947211530566,\"z\":0.5}}}}},{\"layout\":{\"scene\":{\"camera\":{\"eye\":{\"x\":-2.163953192892465,\"y\":0.9379800525440332,\"z\":0.5}}}}},{\"layout\":{\"scene\":{\"camera\":{\"eye\":{\"x\":-2.1247130633659346,\"y\":1.0237648159426784,\"z\":0.5}}}}},{\"layout\":{\"scene\":{\"camera\":{\"eye\":{\"x\":-2.082073846185965,\"y\":1.1079117740273285,\"z\":0.5}}}}},{\"layout\":{\"scene\":{\"camera\":{\"eye\":{\"x\":-2.0361037550041634,\"y\":1.1902863096154412,\"z\":0.5}}}}},{\"layout\":{\"scene\":{\"camera\":{\"eye\":{\"x\":-1.9868763321599903,\"y\":1.270756641022373,\"z\":0.5}}}}},{\"layout\":{\"scene\":{\"camera\":{\"eye\":{\"x\":-1.9344703310287068,\"y\":1.349194032883961,\"z\":0.5}}}}},{\"layout\":{\"scene\":{\"camera\":{\"eye\":{\"x\":-1.8789695900327714,\"y\":1.4254730021056445,\"z\":0.5}}}}},{\"layout\":{\"scene\":{\"camera\":{\"eye\":{\"x\":-1.8204628985182518,\"y\":1.499471518608648,\"z\":0.5}}}}},{\"layout\":{\"scene\":{\"camera\":{\"eye\":{\"x\":-1.7590438547108092,\"y\":1.5710712005520746,\"z\":0.5}}}}},{\"layout\":{\"scene\":{\"camera\":{\"eye\":{\"x\":-1.6948107159785049,\"y\":1.6401575037185996,\"z\":0.5}}}}},{\"layout\":{\"scene\":{\"camera\":{\"eye\":{\"x\":-1.6278662416409717,\"y\":1.706619904760781,\"z\":0.5}}}}},{\"layout\":{\"scene\":{\"camera\":{\"eye\":{\"x\":-1.5583175285764237,\"y\":1.7703520780148416,\"z\":0.5}}}}},{\"layout\":{\"scene\":{\"camera\":{\"eye\":{\"x\":-1.4862758398894962,\"y\":1.831252065599046,\"z\":0.5}}}}},{\"layout\":{\"scene\":{\"camera\":{\"eye\":{\"x\":-1.4118564269140148,\"y\":1.8892224405245646,\"z\":0.5}}}}},{\"layout\":{\"scene\":{\"camera\":{\"eye\":{\"x\":-1.3351783448354453,\"y\":1.9441704625578697,\"z\":0.5}}}}},{\"layout\":{\"scene\":{\"camera\":{\"eye\":{\"x\":-1.2563642622279951,\"y\":1.9960082265853278,\"z\":0.5}}}}},{\"layout\":{\"scene\":{\"camera\":{\"eye\":{\"x\":-1.1755402648110618,\"y\":2.0446528032426285,\"z\":0.5}}}}},{\"layout\":{\"scene\":{\"camera\":{\"eye\":{\"x\":-1.0928356537389794,\"y\":2.090026371584076,\"z\":0.5}}}}},{\"layout\":{\"scene\":{\"camera\":{\"eye\":{\"x\":-1.0083827387467537,\"y\":2.132056343579502,\"z\":0.5}}}}},{\"layout\":{\"scene\":{\"camera\":{\"eye\":{\"x\":-0.922316626482711,\"y\":2.1706754802396304,\"z\":0.5}}}}},{\"layout\":{\"scene\":{\"camera\":{\"eye\":{\"x\":-0.8347750043666831,\"y\":2.205821999184115,\"z\":0.5}}}}},{\"layout\":{\"scene\":{\"camera\":{\"eye\":{\"x\":-0.7458979203195049,\"y\":2.2374396734801674,\"z\":0.5}}}}},{\"layout\":{\"scene\":{\"camera\":{\"eye\":{\"x\":-0.6558275587162187,\"y\":2.265477921593659,\"z\":0.5}}}}},{\"layout\":{\"scene\":{\"camera\":{\"eye\":{\"x\":-0.5647080129214042,\"y\":2.289891888308782,\"z\":0.5}}}}},{\"layout\":{\"scene\":{\"camera\":{\"eye\":{\"x\":-0.47268505477053346,\"y\":2.310642516486827,\"z\":0.5}}}}},{\"layout\":{\"scene\":{\"camera\":{\"eye\":{\"x\":-0.379905901366132,\"y\":2.327696609549274,\"z\":0.5}}}}},{\"layout\":{\"scene\":{\"camera\":{\"eye\":{\"x\":-0.2865189795618127,\"y\":2.3410268845852364,\"z\":0.5}}}}},{\"layout\":{\"scene\":{\"camera\":{\"eye\":{\"x\":-0.19267368851098376,\"y\":2.350612015998296,\"z\":0.5}}}}},{\"layout\":{\"scene\":{\"camera\":{\"eye\":{\"x\":-0.0985201606600653,\"y\":2.356436669622911,\"z\":0.5}}}}},{\"layout\":{\"scene\":{\"camera\":{\"eye\":{\"x\":-0.004209021568603921,\"y\":2.3584915272558082,\"z\":0.5}}}}},{\"layout\":{\"scene\":{\"camera\":{\"eye\":{\"x\":0.09010885105949007,\"y\":2.356773301563122,\"z\":0.5}}}}},{\"layout\":{\"scene\":{\"camera\":{\"eye\":{\"x\":0.1842825687480858,\"y\":2.351284741339425,\"z\":0.5}}}}},{\"layout\":{\"scene\":{\"camera\":{\"eye\":{\"x\":0.2781614736382023,\"y\":2.342034627110245,\"z\":0.5}}}}},{\"layout\":{\"scene\":{\"camera\":{\"eye\":{\"x\":0.37159537950844734,\"y\":2.3290377570850955,\"z\":0.5}}}}},{\"layout\":{\"scene\":{\"camera\":{\"eye\":{\"x\":0.46443481204093207,\"y\":2.3123149234835,\"z\":0.5}}}}},{\"layout\":{\"scene\":{\"camera\":{\"eye\":{\"x\":0.5565312479482936,\"y\":2.291892879271873,\"z\":0.5}}}}},{\"layout\":{\"scene\":{\"camera\":{\"eye\":{\"x\":0.6477373525792725,\"y\":2.267804295364482,\"z\":0.5}}}}},{\"layout\":{\"scene\":{\"camera\":{\"eye\":{\"x\":0.7379072156227233,\"y\":2.240087708356956,\"z\":0.5}}}}},{\"layout\":{\"scene\":{\"camera\":{\"eye\":{\"x\":0.8268965845329881,\"y\":2.2087874588759506,\"z\":0.5}}}}},{\"layout\":{\"scene\":{\"camera\":{\"eye\":{\"x\":0.9145630953031971,\"y\":2.173953620643604,\"z\":0.5}}}}},{\"layout\":{\"scene\":{\"camera\":{\"eye\":{\"x\":1.000766500217309,\"y\":2.1356419203702663,\"z\":0.5}}}}},{\"layout\":{\"scene\":{\"camera\":{\"eye\":{\"x\":1.0853688922165405,\"y\":2.0939136486036474,\"z\":0.5}}}}},{\"layout\":{\"scene\":{\"camera\":{\"eye\":{\"x\":1.1682349255212408,\"y\":2.0488355616770177,\"z\":0.5}}}}},{\"layout\":{\"scene\":{\"camera\":{\"eye\":{\"x\":1.249232032155266,\"y\":2.0004797749133143,\"z\":0.5}}}}},{\"layout\":{\"scene\":{\"camera\":{\"eye\":{\"x\":1.3282306340264631,\"y\":1.9489236472560076,\"z\":0.5}}}}},{\"layout\":{\"scene\":{\"camera\":{\"eye\":{\"x\":1.4051043502239748,\"y\":1.894249657511296,\"z\":0.5}}}}},{\"layout\":{\"scene\":{\"camera\":{\"eye\":{\"x\":1.4797301992007363,\"y\":1.8365452723996076,\"z\":0.5}}}}},{\"layout\":{\"scene\":{\"camera\":{\"eye\":{\"x\":1.551988795517717,\"y\":1.77590280662751,\"z\":0.5}}}}},{\"layout\":{\"scene\":{\"camera\":{\"eye\":{\"x\":1.6217645408351546,\"y\":1.7124192752038678,\"z\":0.5}}}}},{\"layout\":{\"scene\":{\"camera\":{\"eye\":{\"x\":1.6889458088452396,\"y\":1.646196238236529,\"z\":0.5}}}}},{\"layout\":{\"scene\":{\"camera\":{\"eye\":{\"x\":1.7534251238503944,\"y\":1.5773396384578147,\"z\":0.5}}}}},{\"layout\":{\"scene\":{\"camera\":{\"eye\":{\"x\":1.8150993327014668,\"y\":1.505959631738743,\"z\":0.5}}}}},{\"layout\":{\"scene\":{\"camera\":{\"eye\":{\"x\":1.8738697698207567,\"y\":1.432170410863143,\"z\":0.5}}}}},{\"layout\":{\"scene\":{\"camera\":{\"eye\":{\"x\":1.9296424150458977,\"y\":1.3560900228435557,\"z\":0.5}}}}},{\"layout\":{\"scene\":{\"camera\":{\"eye\":{\"x\":1.9823280440420594,\"y\":1.2778401800711945,\"z\":0.5}}}}},{\"layout\":{\"scene\":{\"camera\":{\"eye\":{\"x\":2.0318423710418494,\"y\":1.1975460656020862,\"z\":0.5}}}}},{\"layout\":{\"scene\":{\"camera\":{\"eye\":{\"x\":2.078106183684561,\"y\":1.1153361328908833,\"z\":0.5}}}}},{\"layout\":{\"scene\":{\"camera\":{\"eye\":{\"x\":2.121045469739053,\"y\":1.0313419002927402,\"z\":0.5}}}}},{\"layout\":{\"scene\":{\"camera\":{\"eye\":{\"x\":2.1605915355075305,\"y\":0.9456977406620002,\"z\":0.5}}}}},{\"layout\":{\"scene\":{\"camera\":{\"eye\":{\"x\":2.196681115720809,\"y\":0.8585406663842908,\"z\":0.5}}}}},{\"layout\":{\"scene\":{\"camera\":{\"eye\":{\"x\":2.2292564747492447,\"y\":0.7700101101859445,\"z\":0.5}}}}},{\"layout\":{\"scene\":{\"camera\":{\"eye\":{\"x\":2.2582654989674342,\"y\":0.6802477020713595,\"z\":0.5}}}}},{\"layout\":{\"scene\":{\"camera\":{\"eye\":{\"x\":2.283661780124888,\"y\":0.5893970427452347,\"z\":0.5}}}}},{\"layout\":{\"scene\":{\"camera\":{\"eye\":{\"x\":2.3054046895893396,\"y\":0.4976034738820474,\"z\":0.5}}}}},{\"layout\":{\"scene\":{\"camera\":{\"eye\":{\"x\":2.3234594433438867,\"y\":0.4050138456103911,\"z\":0.5}}}}},{\"layout\":{\"scene\":{\"camera\":{\"eye\":{\"x\":2.3377971576339953,\"y\":0.31177628158410786,\"z\":0.5}}}}},{\"layout\":{\"scene\":{\"camera\":{\"eye\":{\"x\":2.3483948951753524,\"y\":0.2180399420160124,\"z\":0.5}}}}},{\"layout\":{\"scene\":{\"camera\":{\"eye\":{\"x\":2.3552357018486205,\"y\":0.12395478505340207,\"z\":0.5}}}}},{\"layout\":{\"scene\":{\"camera\":{\"eye\":{\"x\":2.3583086338224177,\"y\":0.029671326876979487,\"z\":0.5}}}}},{\"layout\":{\"scene\":{\"camera\":{\"eye\":{\"x\":2.3576087750611094,\"y\":-0.06465959909289665,\"z\":0.5}}}}},{\"layout\":{\"scene\":{\"camera\":{\"eye\":{\"x\":2.3531372451894184,\"y\":-0.15888708349754066,\"z\":0.5}}}}},{\"layout\":{\"scene\":{\"camera\":{\"eye\":{\"x\":2.3449011977012644,\"y\":-0.2528603824626877,\"z\":0.5}}}}},{\"layout\":{\"scene\":{\"camera\":{\"eye\":{\"x\":2.3329138085156975,\"y\":-0.34642915875656977,\"z\":0.5}}}}},{\"layout\":{\"scene\":{\"camera\":{\"eye\":{\"x\":2.3171942548982423,\"y\":-0.43944372229738327,\"z\":0.5}}}}},{\"layout\":{\"scene\":{\"camera\":{\"eye\":{\"x\":2.29776768478136,\"y\":-0.5317552696255191,\"z\":0.5}}}}},{\"layout\":{\"scene\":{\"camera\":{\"eye\":{\"x\":2.274665176533125,\"y\":-0.6232161219573242,\"z\":0.5}}}}},{\"layout\":{\"scene\":{\"camera\":{\"eye\":{\"x\":2.2479236892384606,\"y\":-0.7136799614396837,\"z\":0.5}}}}},{\"layout\":{\"scene\":{\"camera\":{\"eye\":{\"x\":2.217586003572494,\"y\":-0.8030020652273412,\"z\":0.5}}}}},{\"layout\":{\"scene\":{\"camera\":{\"eye\":{\"x\":2.183700653360593,\"y\":-0.8910395370086099,\"z\":0.5}}}}},{\"layout\":{\"scene\":{\"camera\":{\"eye\":{\"x\":2.146321847934612,\"y\":-0.9776515356089576,\"z\":0.5}}}}},{\"layout\":{\"scene\":{\"camera\":{\"eye\":{\"x\":2.1055093854095075,\"y\":-1.0626995003068727,\"z\":0.5}}}}},{\"layout\":{\"scene\":{\"camera\":{\"eye\":{\"x\":2.061328557019131,\"y\":-1.146047372501429,\"z\":0.5}}}}},{\"layout\":{\"scene\":{\"camera\":{\"eye\":{\"x\":2.0138500426641603,\"y\":-1.2275618133770536,\"z\":0.5}}}}},{\"layout\":{\"scene\":{\"camera\":{\"eye\":{\"x\":1.9631497978393595,\"y\":-1.3071124172171582,\"z\":0.5}}}}},{\"layout\":{\"scene\":{\"camera\":{\"eye\":{\"x\":1.9093089321209678,\"y\":-1.3845719200254964,\"z\":0.5}}}}},{\"layout\":{\"scene\":{\"camera\":{\"eye\":{\"x\":1.8524135794087007,\"y\":-1.4598164031213803,\"z\":0.5}}}}},{\"layout\":{\"scene\":{\"camera\":{\"eye\":{\"x\":1.7925547601298653,\"y\":-1.5327254913831638,\"z\":0.5}}}}},{\"layout\":{\"scene\":{\"camera\":{\"eye\":{\"x\":1.7298282356261119,\"y\":-1.6031825458227307,\"z\":0.5}}}}},{\"layout\":{\"scene\":{\"camera\":{\"eye\":{\"x\":1.6643343549556968,\"y\":-1.6710748501830206,\"z\":0.5}}}}},{\"layout\":{\"scene\":{\"camera\":{\"eye\":{\"x\":1.5961778943564153,\"y\":-1.73629379125997,\"z\":0.5}}}}},{\"layout\":{\"scene\":{\"camera\":{\"eye\":{\"x\":1.525467889625954,\"y\":-1.7987350326604914,\"z\":0.5}}}}},{\"layout\":{\"scene\":{\"camera\":{\"eye\":{\"x\":1.4523174616878816,\"y\":-1.8582986817184337,\"z\":0.5}}}}},{\"layout\":{\"scene\":{\"camera\":{\"eye\":{\"x\":1.3768436356223135,\"y\":-1.9148894493015334,\"z\":0.5}}}}},{\"layout\":{\"scene\":{\"camera\":{\"eye\":{\"x\":1.2991671534507236,\"y\":-1.9684168022537158,\"z\":0.5}}}}},{\"layout\":{\"scene\":{\"camera\":{\"eye\":{\"x\":1.2194122809744943,\"y\":-2.018795108228812,\"z\":0.5}}}}},{\"layout\":{\"scene\":{\"camera\":{\"eye\":{\"x\":1.1377066089761148,\"y\":-2.0659437726840655,\"z\":0.5}}}}},{\"layout\":{\"scene\":{\"camera\":{\"eye\":{\"x\":1.0541808491011766,\"y\":-2.1097873678141887,\"z\":0.5}}}}},{\"layout\":{\"scene\":{\"camera\":{\"eye\":{\"x\":0.9689686247475929,\"y\":-2.1502557532197786,\"z\":0.5}}}}},{\"layout\":{\"scene\":{\"camera\":{\"eye\":{\"x\":0.8822062572966995,\"y\":-2.1872841881169784,\"z\":0.5}}}}},{\"layout\":{\"scene\":{\"camera\":{\"eye\":{\"x\":0.7940325480280916,\"y\":-2.2208134349089335,\"z\":0.5}}}}},{\"layout\":{\"scene\":{\"camera\":{\"eye\":{\"x\":0.7045885560672189,\"y\":-2.250789853953299,\"z\":0.5}}}}},{\"layout\":{\"scene\":{\"camera\":{\"eye\":{\"x\":0.6140173727208434,\"y\":-2.2771654893742337,\"z\":0.5}}}}},{\"layout\":{\"scene\":{\"camera\":{\"eye\":{\"x\":0.5224638925615056,\"y\":-2.299898145781565,\"z\":0.5}}}}},{\"layout\":{\"scene\":{\"camera\":{\"eye\":{\"x\":0.4300745816270848,\"y\":-2.318951455774417,\"z\":0.5}}}}},{\"layout\":{\"scene\":{\"camera\":{\"eye\":{\"x\":0.33699724310641566,\"y\":-2.33429493812129,\"z\":0.5}}}}},{\"layout\":{\"scene\":{\"camera\":{\"eye\":{\"x\":0.24338078088568293,\"y\":-2.3459040465235304,\"z\":0.5}}}}},{\"layout\":{\"scene\":{\"camera\":{\"eye\":{\"x\":0.14937496133400185,\"y\":-2.3537602088841734,\"z\":0.5}}}}},{\"layout\":{\"scene\":{\"camera\":{\"eye\":{\"x\":0.05513017370914075,\"y\":-2.3578508570193324,\"z\":0.5}}}}},{\"layout\":{\"scene\":{\"camera\":{\"eye\":{\"x\":-0.039202810433174085,\"y\":-2.358169446764617,\"z\":0.5}}}}},{\"layout\":{\"scene\":{\"camera\":{\"eye\":{\"x\":-0.13347307844162004,\"y\":-2.354715468444397,\"z\":0.5}}}}},{\"layout\":{\"scene\":{\"camera\":{\"eye\":{\"x\":-0.22752981799729377,\"y\":-2.3474944476871755,\"z\":0.5}}}}},{\"layout\":{\"scene\":{\"camera\":{\"eye\":{\"x\":-0.32122255838128166,\"y\":-2.3365179365857616,\"z\":0.5}}}}},{\"layout\":{\"scene\":{\"camera\":{\"eye\":{\"x\":-0.41440141119567975,\"y\":-2.321803495216386,\"z\":0.5}}}}},{\"layout\":{\"scene\":{\"camera\":{\"eye\":{\"x\":-0.5069173101530886,\"y\":-2.3033746635463275,\"z\":0.5}}}}},{\"layout\":{\"scene\":{\"camera\":{\"eye\":{\"x\":-0.5986222495508402,\"y\":-2.2812609237749837,\"z\":0.5}}}}},{\"layout\":{\"scene\":{\"camera\":{\"eye\":{\"x\":-0.6893695210485797,\"y\":-2.255497653168642,\"z\":0.5}}}}},{\"layout\":{\"scene\":{\"camera\":{\"eye\":{\"x\":-0.7790139483703001,\"y\":-2.2261260674644,\"z\":0.5}}}}},{\"layout\":{\"scene\":{\"camera\":{\"eye\":{\"x\":-0.8674121195554033,\"y\":-2.1931931549337835,\"z\":0.5}}}}},{\"layout\":{\"scene\":{\"camera\":{\"eye\":{\"x\":-0.9544226163872714,\"y\":-2.156751601211525,\"z\":0.5}}}}},{\"layout\":{\"scene\":{\"camera\":{\"eye\":{\"x\":-1.0399062406322153,\"y\":-2.116859705009799,\"z\":0.5}}}}},{\"layout\":{\"scene\":{\"camera\":{\"eye\":{\"x\":-1.1237262367269847,\"y\":-2.0735812848527084,\"z\":0.5}}}}},{\"layout\":{\"scene\":{\"camera\":{\"eye\":{\"x\":-1.205748510558466,\"y\":-2.026985576980271,\"z\":0.5}}}}},{\"layout\":{\"scene\":{\"camera\":{\"eye\":{\"x\":-1.2858418439856878,\"y\":-1.9771471245851902,\"z\":0.5}}}}},{\"layout\":{\"scene\":{\"camera\":{\"eye\":{\"x\":-1.3638781047608262,\"y\":-1.9241456585596675,\"z\":0.5}}}}},{\"layout\":{\"scene\":{\"camera\":{\"eye\":{\"x\":-1.4397324515134955,\"y\":-1.8680659699429623,\"z\":0.5}}}}},{\"layout\":{\"scene\":{\"camera\":{\"eye\":{\"x\":-1.5132835334702823,\"y\":-1.8089977742738372,\"z\":0.5}}}}},{\"layout\":{\"scene\":{\"camera\":{\"eye\":{\"x\":-1.5844136845901233,\"y\":-1.7470355680648146,\"z\":0.5}}}}},{\"layout\":{\"scene\":{\"camera\":{\"eye\":{\"x\":-1.6530091118048427,\"y\":-1.6822784776279354,\"z\":0.5}}}}},{\"layout\":{\"scene\":{\"camera\":{\"eye\":{\"x\":-1.7189600770638147,\"y\":-1.614830100493784,\"z\":0.5}}}}},{\"layout\":{\"scene\":{\"camera\":{\"eye\":{\"x\":-1.782161072891407,\"y\":-1.5447983396775609,\"z\":0.5}}}}},{\"layout\":{\"scene\":{\"camera\":{\"eye\":{\"x\":-1.8425109911764617,\"y\":-1.472295231057254,\"z\":0.5}}}}},{\"layout\":{\"scene\":{\"camera\":{\"eye\":{\"x\":-1.8999132849236797,\"y\":-1.3974367641401568,\"z\":0.5}}}}},{\"layout\":{\"scene\":{\"camera\":{\"eye\":{\"x\":-1.9542761227082404,\"y\":-1.3203426965043759,\"z\":0.5}}}}},{\"layout\":{\"scene\":{\"camera\":{\"eye\":{\"x\":-2.0055125355864702,\"y\":-1.2411363622122777,\"z\":0.5}}}}},{\"layout\":{\"scene\":{\"camera\":{\"eye\":{\"x\":-2.0535405562276208,\"y\":-1.1599444745022727,\"z\":0.5}}}}},{\"layout\":{\"scene\":{\"camera\":{\"eye\":{\"x\":-2.0982833500440927,\"y\":-1.0768969230746919,\"z\":0.5}}}}},{\"layout\":{\"scene\":{\"camera\":{\"eye\":{\"x\":-2.1396693381104046,\"y\":-0.9921265662959455,\"z\":0.5}}}}},{\"layout\":{\"scene\":{\"camera\":{\"eye\":{\"x\":-2.177632311674186,\"y\":-0.905769018653509,\"z\":0.5}}}}},{\"layout\":{\"scene\":{\"camera\":{\"eye\":{\"x\":-2.212111538076074,\"y\":-0.8179624338016418,\"z\":0.5}}}}},{\"layout\":{\"scene\":{\"camera\":{\"eye\":{\"x\":-2.2430518579089993,\"y\":-0.7288472835450424,\"z\":0.5}}}}},{\"layout\":{\"scene\":{\"camera\":{\"eye\":{\"x\":-2.2704037732614792,\"y\":-0.6385661331138986,\"z\":0.5}}}}},{\"layout\":{\"scene\":{\"camera\":{\"eye\":{\"x\":-2.2941235269037157,\"y\":-0.5472634130899451,\"z\":0.5}}}}},{\"layout\":{\"scene\":{\"camera\":{\"eye\":{\"x\":-2.314173172289823,\"y\":-0.45508518834835343,\"z\":0.5}}}}},{\"layout\":{\"scene\":{\"camera\":{\"eye\":{\"x\":-2.330520634264215,\"y\":-0.36217892438506283,\"z\":0.5}}}}},{\"layout\":{\"scene\":{\"camera\":{\"eye\":{\"x\":-2.3431397603750033,\"y\":-0.26869325140347655,\"z\":0.5}}}}},{\"layout\":{\"scene\":{\"camera\":{\"eye\":{\"x\":-2.352010362712349,\"y\":-0.17477772653781098,\"z\":0.5}}}}},{\"layout\":{\"scene\":{\"camera\":{\"eye\":{\"x\":-2.357118250204805,\"y\":-0.08058259459361516,\"z\":0.5}}}}},{\"layout\":{\"scene\":{\"camera\":{\"eye\":{\"x\":-2.3584552513220087,\"y\":0.01374145231189794,\"z\":0.5}}}}},{\"layout\":{\"scene\":{\"camera\":{\"eye\":{\"x\":-2.3560192271473848,\"y\":0.10804351582506122,\"z\":0.5}}}}},{\"layout\":{\"scene\":{\"camera\":{\"eye\":{\"x\":-2.349814074799954,\"y\":0.2021727327609626,\"z\":0.5}}}}},{\"layout\":{\"scene\":{\"camera\":{\"eye\":{\"x\":-2.339849721199778,\"y\":0.2959785164523252,\"z\":0.5}}}}},{\"layout\":{\"scene\":{\"camera\":{\"eye\":{\"x\":-2.3261421071870014,\"y\":0.38931079765608434,\"z\":0.5}}}}},{\"layout\":{\"scene\":{\"camera\":{\"eye\":{\"x\":-2.30871316201991,\"y\":0.4820202646321301,\"z\":0.5}}}}},{\"layout\":{\"scene\":{\"camera\":{\"eye\":{\"x\":-2.287590768292793,\"y\":0.5739586020102745,\"z\":0.5}}}}},{\"layout\":{\"scene\":{\"camera\":{\"eye\":{\"x\":-2.2628087173297455,\"y\":0.6649787280631697,\"z\":0.5}}}}},{\"layout\":{\"scene\":{\"camera\":{\"eye\":{\"x\":-2.234406655125751,\"y\":0.7549350300057309,\"z\":0.5}}}}},{\"layout\":{\"scene\":{\"camera\":{\"eye\":{\"x\":-2.2024300189215538,\"y\":0.8436835969444961,\"z\":0.5}}}}},{\"layout\":{\"scene\":{\"camera\":{\"eye\":{\"x\":-2.1669299645137605,\"y\":0.9310824501043892,\"z\":0.5}}}}},{\"layout\":{\"scene\":{\"camera\":{\"eye\":{\"x\":-2.1279632844164853,\"y\":1.0169917699644406,\"z\":0.5}}}}},{\"layout\":{\"scene\":{\"camera\":{\"eye\":{\"x\":-2.085592317005431,\"y\":1.101274119939226,\"z\":0.5}}}}},{\"layout\":{\"scene\":{\"camera\":{\"eye\":{\"x\":-2.039884846789803,\"y\":1.1837946662480545,\"z\":0.5}}}}},{\"layout\":{\"scene\":{\"camera\":{\"eye\":{\"x\":-1.9909139959715338,\"y\":1.264421393620283,\"z\":0.5}}}}},{\"layout\":{\"scene\":{\"camera\":{\"eye\":{\"x\":-1.9387581074653806,\"y\":1.3430253164915604,\"z\":0.5}}}}},{\"layout\":{\"scene\":{\"camera\":{\"eye\":{\"x\":-1.8835006195669515,\"y\":1.419480685353242,\"z\":0.5}}}}},{\"layout\":{\"scene\":{\"camera\":{\"eye\":{\"x\":-1.8252299324692538,\"y\":1.4936651879247513,\"z\":0.5}}}}},{\"layout\":{\"scene\":{\"camera\":{\"eye\":{\"x\":-1.764039266841222,\"y\":1.5654601448271634,\"z\":0.5}}}}},{\"layout\":{\"scene\":{\"camera\":{\"eye\":{\"x\":-1.700026514694554,\"y\":1.634750699444869,\"z\":0.5}}}}},{\"layout\":{\"scene\":{\"camera\":{\"eye\":{\"x\":-1.6332940827773552,\"y\":1.7014260016716793,\"z\":0.5}}}}},{\"layout\":{\"scene\":{\"camera\":{\"eye\":{\"x\":-1.5639487287451985,\"y\":1.7653793852473405,\"z\":0.5}}}}},{\"layout\":{\"scene\":{\"camera\":{\"eye\":{\"x\":-1.4921013903716538,\"y\":1.8265085384007864,\"z\":0.5}}}}},{\"layout\":{\"scene\":{\"camera\":{\"eye\":{\"x\":-1.4178670080714986,\"y\":1.8847156675271677,\"z\":0.5}}}}},{\"layout\":{\"scene\":{\"camera\":{\"eye\":{\"x\":-1.3413643410205953,\"y\":1.9399076536367352,\"z\":0.5}}}}},{\"layout\":{\"scene\":{\"camera\":{\"eye\":{\"x\":-1.262715777166521,\"y\":1.9919962013253814,\"z\":0.5}}}}},{\"layout\":{\"scene\":{\"camera\":{\"eye\":{\"x\":-1.1820471374339825,\"y\":2.04089798002843,\"z\":0.5}}}}},{\"layout\":{\"scene\":{\"camera\":{\"eye\":{\"x\":-1.0994874744381535,\"y\":2.086534757331785,\"z\":0.5}}}}},{\"layout\":{\"scene\":{\"camera\":{\"eye\":{\"x\":-1.0151688660280456,\"y\":2.128833524127082,\"z\":0.5}}}}},{\"layout\":{\"scene\":{\"camera\":{\"eye\":{\"x\":-0.9292262039900974,\"y\":2.1677266114107088,\"z\":0.5}}}}},{\"layout\":{\"scene\":{\"camera\":{\"eye\":{\"x\":-0.8417969782501199,\"y\":2.203151798539757,\"z\":0.5}}}}},{\"layout\":{\"scene\":{\"camera\":{\"eye\":{\"x\":-0.7530210569187163,\"y\":2.2350524127717946,\"z\":0.5}}}}},{\"layout\":{\"scene\":{\"camera\":{\"eye\":{\"x\":-0.6630404625321713,\"y\":2.263377419929147,\"z\":0.5}}}}},{\"layout\":{\"scene\":{\"camera\":{\"eye\":{\"x\":-0.5719991448466591,\"y\":2.288081506042713,\"z\":0.5}}}}},{\"layout\":{\"scene\":{\"camera\":{\"eye\":{\"x\":-0.4800427505493726,\"y\":2.3091251498446317,\"z\":0.5}}}}},{\"layout\":{\"scene\":{\"camera\":{\"eye\":{\"x\":-0.3873183902548616,\"y\":2.326474685993893,\"z\":0.5}}}}},{\"layout\":{\"scene\":{\"camera\":{\"eye\":{\"x\":-0.2939744031594633,\"y\":2.3401023589336933,\"z\":0.5}}}}},{\"layout\":{\"scene\":{\"camera\":{\"eye\":{\"x\":-0.20016011973020054,\"y\":2.349986367294413,\"z\":0.5}}}}},{\"layout\":{\"scene\":{\"camera\":{\"eye\":{\"x\":-0.10602562280792194,\"y\":2.356110898771149,\"z\":0.5}}}}},{\"layout\":{\"scene\":{\"camera\":{\"eye\":{\"x\":-0.011721507506739615,\"y\":2.358466155420037,\"z\":0.5}}}}},{\"layout\":{\"scene\":{\"camera\":{\"eye\":{\"x\":0.08260135970599447,\"y\":2.3570483693328654,\"z\":0.5}}}}},{\"layout\":{\"scene\":{\"camera\":{\"eye\":{\"x\":0.17679208236388666,\"y\":2.35185980866493,\"z\":0.5}}}}},{\"layout\":{\"scene\":{\"camera\":{\"eye\":{\"x\":0.27069997540362534,\"y\":2.3429087740064647,\"z\":0.5}}}}},{\"layout\":{\"scene\":{\"camera\":{\"eye\":{\"x\":0.36417480622897047,\"y\":2.3302095851034714,\"z\":0.5}}}}},{\"layout\":{\"scene\":{\"camera\":{\"eye\":{\"x\":0.45706703505082713,\"y\":2.313782557949179,\"z\":0.5}}}}},{\"layout\":{\"scene\":{\"camera\":{\"eye\":{\"x\":0.5492280541190365,\"y\":2.293653972282789,\"z\":0.5}}}}},{\"layout\":{\"scene\":{\"camera\":{\"eye\":{\"x\":0.6405104254630621,\"y\":2.2698560295474968,\"z\":0.5}}}}},{\"layout\":{\"scene\":{\"camera\":{\"eye\":{\"x\":0.7307681167612795,\"y\":2.242426801375058,\"z\":0.5}}}}},{\"layout\":{\"scene\":{\"camera\":{\"eye\":{\"x\":0.8198567349615669,\"y\":2.2114101686792886,\"z\":0.5}}}}},{\"layout\":{\"scene\":{\"camera\":{\"eye\":{\"x\":0.9076337572793539,\"y\":2.1768557514559763,\"z\":0.5}}}}},{\"layout\":{\"scene\":{\"camera\":{\"eye\":{\"x\":0.9939587592037061,\"y\":2.138818829401459,\"z\":0.5}}}}},{\"layout\":{\"scene\":{\"camera\":{\"eye\":{\"x\":1.0786936391465554,\"y\":2.097360253476918,\"z\":0.5}}}}},{\"layout\":{\"scene\":{\"camera\":{\"eye\":{\"x\":1.1617028393758106,\"y\":2.052546348559803,\"z\":0.5}}}}},{\"layout\":{\"scene\":{\"camera\":{\"eye\":{\"x\":1.242853562878783,\"y\":2.004448807338196,\"z\":0.5}}}}},{\"layout\":{\"scene\":{\"camera\":{\"eye\":{\"x\":1.3220159858091054,\"y\":1.9531445756177854,\"z\":0.5}}}}},{\"layout\":{\"scene\":{\"camera\":{\"eye\":{\"x\":1.3990634651771658,\"y\":1.8987157292250099,\"z\":0.5}}}}},{\"layout\":{\"scene\":{\"camera\":{\"eye\":{\"x\":1.4738727414519008,\"y\":1.8412493427032248,\"z\":0.5}}}}},{\"layout\":{\"scene\":{\"camera\":{\"eye\":{\"x\":1.5463241357497257,\"y\":1.7808373500120287,\"z\":0.5}}}}},{\"layout\":{\"scene\":{\"camera\":{\"eye\":{\"x\":1.616301741295243,\"y\":1.7175763974525164,\"z\":0.5}}}}},{\"layout\":{\"scene\":{\"camera\":{\"eye\":{\"x\":1.6836936088473335,\"y\":1.65156768905384,\"z\":0.5}}}}},{\"layout\":{\"scene\":{\"camera\":{\"eye\":{\"x\":1.7483919257940852,\"y\":1.5829168246683243,\"z\":0.5}}}}},{\"layout\":{\"scene\":{\"camera\":{\"eye\":{\"x\":1.8102931886299487,\"y\":1.511733631034255,\"z\":0.5}}}}},{\"layout\":{\"scene\":{\"camera\":{\"eye\":{\"x\":1.8692983685392905,\"y\":1.4381319860765027,\"z\":0.5}}}}},{\"layout\":{\"scene\":{\"camera\":{\"eye\":{\"x\":1.9253130698213512,\"y\":1.3622296367261597,\"z\":0.5}}}}},{\"layout\":{\"scene\":{\"camera\":{\"eye\":{\"x\":1.9782476809032499,\"y\":1.2841480105505416,\"z\":0.5}}}}},{\"layout\":{\"scene\":{\"camera\":{\"eye\":{\"x\":2.0280175176993653,\"y\":1.2040120214950114,\"z\":0.5}}}}},{\"layout\":{\"scene\":{\"camera\":{\"eye\":{\"x\":2.0745429590878275,\"y\":1.121949870047285,\"z\":0.5}}}}},{\"layout\":{\"scene\":{\"camera\":{\"eye\":{\"x\":2.117749574287309,\"y\":1.0380928381440273,\"z\":0.5}}}}},{\"layout\":{\"scene\":{\"camera\":{\"eye\":{\"x\":2.157568241930414,\"y\":0.95257507914773,\"z\":0.5}}}}},{\"layout\":{\"scene\":{\"camera\":{\"eye\":{\"x\":2.1939352606431055,\"y\":0.8655334032299791,\"z\":0.5}}}}},{\"layout\":{\"scene\":{\"camera\":{\"eye\":{\"x\":2.226792450953329,\"y\":0.7771070585043387,\"z\":0.5}}}}},{\"layout\":{\"scene\":{\"camera\":{\"eye\":{\"x\":2.2560872483657497,\"y\":0.687437508259085,\"z\":0.5}}}}},{\"layout\":{\"scene\":{\"camera\":{\"eye\":{\"x\":2.2817727874537286,\"y\":0.5966682046461349,\"z\":0.5}}}}},{\"layout\":{\"scene\":{\"camera\":{\"eye\":{\"x\":2.3038079768340163,\"y\":0.504944359188175,\"z\":0.5}}}}},{\"layout\":{\"scene\":{\"camera\":{\"eye\":{\"x\":2.3221575649041926,\"y\":0.41241271047123695,\"z\":0.5}}}}},{\"layout\":{\"scene\":{\"camera\":{\"eye\":{\"x\":2.336792196237716,\"y\":0.31922128939422634,\"z\":0.5}}}}},{\"layout\":{\"scene\":{\"camera\":{\"eye\":{\"x\":2.3476884585463402,\"y\":0.22551918235109902,\"z\":0.5}}}}},{\"layout\":{\"scene\":{\"camera\":{\"eye\":{\"x\":2.3548289201347847,\"y\":0.13145629272439896,\"z\":0.5}}}}},{\"layout\":{\"scene\":{\"camera\":{\"eye\":{\"x\":2.3582021577877246,\"y\":0.037183101071857294,\"z\":0.5}}}}},{\"layout\":{\"scene\":{\"camera\":{\"eye\":{\"x\":2.3578027750445005,\"y\":-0.057149575610431436,\"z\":0.5}}}}},{\"layout\":{\"scene\":{\"camera\":{\"eye\":{\"x\":2.353631410832305,\"y\":-0.15139082516299873,\"z\":0.5}}}}},{\"layout\":{\"scene\":{\"camera\":{\"eye\":{\"x\":2.3456947384440334,\"y\":-0.24538988169029619,\"z\":0.5}}}}},{\"layout\":{\"scene\":{\"camera\":{\"eye\":{\"x\":2.3340054548624414,\"y\":-0.33899636675393474,\"z\":0.5}}}}},{\"layout\":{\"scene\":{\"camera\":{\"eye\":{\"x\":2.3185822604476773,\"y\":-0.43206052994613897,\"z\":0.5}}}}},{\"layout\":{\"scene\":{\"camera\":{\"eye\":{\"x\":2.2994498290207006,\"y\":-0.5244334884584224,\"z\":0.5}}}}},{\"layout\":{\"scene\":{\"camera\":{\"eye\":{\"x\":2.276638768390425,\"y\":-0.6159674652623541,\"z\":0.5}}}}},{\"layout\":{\"scene\":{\"camera\":{\"eye\":{\"x\":2.2501855713877603,\"y\":-0.7065160255212466,\"z\":0.5}}}}},{\"layout\":{\"scene\":{\"camera\":{\"eye\":{\"x\":2.2201325574848614,\"y\":-0.7959343108546892,\"z\":0.5}}}}},{\"layout\":{\"scene\":{\"camera\":{\"eye\":{\"x\":2.1865278050930073,\"y\":-0.8840792710810246,\"z\":0.5}}}}},{\"layout\":{\"scene\":{\"camera\":{\"eye\":{\"x\":2.1494250746473913,\"y\":-0.9708098930671532,\"z\":0.5}}}}},{\"layout\":{\"scene\":{\"camera\":{\"eye\":{\"x\":2.1088837226019015,\"y\":-1.0559874263194358,\"z\":0.5}}}}},{\"layout\":{\"scene\":{\"camera\":{\"eye\":{\"x\":2.0649686064714476,\"y\":-1.1394756049549144,\"z\":0.5}}}}},{\"layout\":{\"scene\":{\"camera\":{\"eye\":{\"x\":2.0177499810737833,\"y\":-1.2211408656976261,\"z\":0.5}}}}},{\"layout\":{\"scene\":{\"camera\":{\"eye\":{\"x\":1.967303386136771,\"y\":-1.3008525615513828,\"z\":0.5}}}}},{\"layout\":{\"scene\":{\"camera\":{\"eye\":{\"x\":1.9137095254509484,\"y\":-1.3784831708070668,\"z\":0.5}}}}},{\"layout\":{\"scene\":{\"camera\":{\"eye\":{\"x\":1.8570541377606635,\"y\":-1.4539085010501858,\"z\":0.5}}}}},{\"layout\":{\"scene\":{\"camera\":{\"eye\":{\"x\":1.79742785960038,\"y\":-1.5270078878422328,\"z\":0.5}}}}},{\"layout\":{\"scene\":{\"camera\":{\"eye\":{\"x\":1.734926080295565,\"y\":-1.5976643877580383,\"z\":0.5}}}}},{\"layout\":{\"scene\":{\"camera\":{\"eye\":{\"x\":1.6696487893600989,\"y\":-1.6657649654703262,\"z\":0.5}}}}},{\"layout\":{\"scene\":{\"camera\":{\"eye\":{\"x\":1.6017004165344049,\"y\":-1.7312006745820987,\"z\":0.5}}}}},{\"layout\":{\"scene\":{\"camera\":{\"eye\":{\"x\":1.5311896647201184,\"y\":-1.793866831917657,\"z\":0.5}}}}},{\"layout\":{\"scene\":{\"camera\":{\"eye\":{\"x\":1.4582293360786571,\"y\":-1.8536631849933252,\"z\":0.5}}}}},{\"layout\":{\"scene\":{\"camera\":{\"eye\":{\"x\":1.3829361515718006,\"y\":-1.910494072400063,\"z\":0.5}}}}},{\"layout\":{\"scene\":{\"camera\":{\"eye\":{\"x\":1.3054305642330777,\"y\":-1.9642685768412904,\"z\":0.5}}}}},{\"layout\":{\"scene\":{\"camera\":{\"eye\":{\"x\":1.2258365664685793,\"y\":-2.014900670581189,\"z\":0.5}}}}},{\"layout\":{\"scene\":{\"camera\":{\"eye\":{\"x\":1.1442814916955886,\"y\":-2.062309353070707,\"z\":0.5}}}}},{\"layout\":{\"scene\":{\"camera\":{\"eye\":{\"x\":1.0608958106362474,\"y\":-2.106418780531179,\"z\":0.5}}}}},{\"layout\":{\"scene\":{\"camera\":{\"eye\":{\"x\":0.9758129225922612,\"y\":-2.1471583872881737,\"z\":0.5}}}}},{\"layout\":{\"scene\":{\"camera\":{\"eye\":{\"x\":0.8891689420344447,\"y\":-2.184462998661535,\"z\":0.5}}}}},{\"layout\":{\"scene\":{\"camera\":{\"eye\":{\"x\":0.8011024808486348,\"y\":-2.2182729352309565,\"z\":0.5}}}}},{\"layout\":{\"scene\":{\"camera\":{\"eye\":{\"x\":0.7117544265862112,\"y\":-2.2485341083103307,\"z\":0.5}}}}},{\"layout\":{\"scene\":{\"camera\":{\"eye\":{\"x\":0.6212677170741001,\"y\":-2.275198106478101,\"z\":0.5}}}}},{\"layout\":{\"scene\":{\"camera\":{\"eye\":{\"x\":0.529787111744715,\"y\":-2.2982222730252166,\"z\":0.5}}}}},{\"layout\":{\"scene\":{\"camera\":{\"eye\":{\"x\":0.4374589600517532,\"y\":-2.317569774196764,\"z\":0.5}}}}},{\"layout\":{\"scene\":{\"camera\":{\"eye\":{\"x\":0.3444309673423176,\"y\":-2.3332096581181117,\"z\":0.5}}}}},{\"layout\":{\"scene\":{\"camera\":{\"eye\":{\"x\":0.2508519585598219,\"y\":-2.3451169043113183,\"z\":0.5}}}}},{\"layout\":{\"scene\":{\"camera\":{\"eye\":{\"x\":0.15687164015586108,\"y\":-2.353272463722552,\"z\":0.5}}}}},{\"layout\":{\"scene\":{\"camera\":{\"eye\":{\"x\":0.06264036059180733,\"y\":-2.3576632891965144,\"z\":0.5}}}}},{\"layout\":{\"scene\":{\"camera\":{\"eye\":{\"x\":-0.03169113018662029,\"y\":-2.3582823563491067,\"z\":0.5}}}}},{\"layout\":{\"scene\":{\"camera\":{\"eye\":{\"x\":-0.12597192191716355,\"y\":-2.355128674804945,\"z\":0.5}}}}},{\"layout\":{\"scene\":{\"camera\":{\"eye\":{\"x\":-0.22005118544521607,\"y\":-2.348207289781751,\"z\":0.5}}}}},{\"layout\":{\"scene\":{\"camera\":{\"eye\":{\"x\":-0.3137784140183052,\"y\":-2.3375292740190776,\"z\":0.5}}}}},{\"layout\":{\"scene\":{\"camera\":{\"eye\":{\"x\":-0.4070036640647987,\"y\":-2.32311171006429,\"z\":0.5}}}}},{\"layout\":{\"scene\":{\"camera\":{\"eye\":{\"x\":-0.4995777950715977,\"y\":-2.3049776629441334,\"z\":0.5}}}}},{\"layout\":{\"scene\":{\"camera\":{\"eye\":{\"x\":-0.5913527081771947,\"y\":-2.283156143265611,\"z\":0.5}}}}},{\"layout\":{\"scene\":{\"camera\":{\"eye\":{\"x\":-0.6821815830982243,\"y\":-2.257682060805197,\"z\":0.5}}}}},{\"layout\":{\"scene\":{\"camera\":{\"eye\":{\"x\":-0.7719191130106144,\"y\":-2.228596168660645,\"z\":0.5}}}}},{\"layout\":{\"scene\":{\"camera\":{\"eye\":{\"x\":-0.8604217370094748,\"y\":-2.195944998054732,\"z\":0.5}}}}},{\"layout\":{\"scene\":{\"camera\":{\"eye\":{\"x\":-0.9475478697759677,\"y\":-2.159780783895214,\"z\":0.5}}}}},{\"layout\":{\"scene\":{\"camera\":{\"eye\":{\"x\":-1.033158128083584,\"y\":-2.120161381210125,\"z\":0.5}}}}},{\"layout\":{\"scene\":{\"camera\":{\"eye\":{\"x\":-1.1171155537815864,\"y\":-2.0771501725920682,\"z\":0.5}}}}},{\"layout\":{\"scene\":{\"camera\":{\"eye\":{\"x\":-1.199285832898806,\"y\":-2.0308159667996057,\"z\":0.5}}}}},{\"layout\":{\"scene\":{\"camera\":{\"eye\":{\"x\":-1.279537510517387,\"y\":-1.9812328886778978,\"z\":0.5}}}}},{\"layout\":{\"scene\":{\"camera\":{\"eye\":{\"x\":-1.3577422010725846,\"y\":-1.9284802605747806,\"z\":0.5}}}}},{\"layout\":{\"scene\":{\"camera\":{\"eye\":{\"x\":-1.4337747937422949,\"y\":-1.8726424754419195,\"z\":0.5}}}}},{\"layout\":{\"scene\":{\"camera\":{\"eye\":{\"x\":-1.507513652597654,\"y\":-1.813808861824112,\"z\":0.5}}}}},{\"layout\":{\"scene\":{\"camera\":{\"eye\":{\"x\":-1.5788408111946175,\"y\":-1.7520735409526398,\"z\":0.5}}}}},{\"layout\":{\"scene\":{\"camera\":{\"eye\":{\"x\":-1.6476421612950798,\"y\":-1.6875352761713984,\"z\":0.5}}}}},{\"layout\":{\"scene\":{\"camera\":{\"eye\":{\"x\":-1.7138076354157246,\"y\":-1.6202973149366025,\"z\":0.5}}}}},{\"layout\":{\"scene\":{\"camera\":{\"eye\":{\"x\":-1.7772313829124948,\"y\":-1.550467223642906,\"z\":0.5}}}}},{\"layout\":{\"scene\":{\"camera\":{\"eye\":{\"x\":-1.8378119393190797,\"y\":-1.4781567155400819,\"z\":0.5}}}}},{\"layout\":{\"scene\":{\"camera\":{\"eye\":{\"x\":-1.895452388668392,\"y\":-1.4034814720156754,\"z\":0.5}}}}},{\"layout\":{\"scene\":{\"camera\":{\"eye\":{\"x\":-1.9500605185374502,\"y\":-1.3265609575294497,\"z\":0.5}}}}},{\"layout\":{\"scene\":{\"camera\":{\"eye\":{\"x\":-2.001548967567568,\"y\":-1.2475182284957618,\"z\":0.5}}}}},{\"layout\":{\"scene\":{\"camera\":{\"eye\":{\"x\":-2.049835365223918,\"y\":-1.1664797364195088,\"z\":0.5}}}}},{\"layout\":{\"scene\":{\"camera\":{\"eye\":{\"x\":-2.0948424635707994,\"y\":-1.083575125600724,\"z\":0.5}}}}},{\"layout\":{\"scene\":{\"camera\":{\"eye\":{\"x\":-2.1364982608518623,\"y\":-0.9989370257313355,\"z\":0.5}}}}},{\"layout\":{\"scene\":{\"camera\":{\"eye\":{\"x\":-2.174736116677547,\"y\":-0.9127008397159847,\"z\":0.5}}}}},{\"layout\":{\"scene\":{\"camera\":{\"eye\":{\"x\":-2.209494858635509,\"y\":-0.8250045270562165,\"z\":0.5}}}}},{\"layout\":{\"scene\":{\"camera\":{\"eye\":{\"x\":-2.2407188801534197,\"y\":-0.7359883831447376,\"z\":0.5}}}}},{\"layout\":{\"scene\":{\"camera\":{\"eye\":{\"x\":-2.268358229457619,\"y\":-0.6457948148227087,\"z\":0.5}}}}},{\"layout\":{\"scene\":{\"camera\":{\"eye\":{\"x\":-2.2923686894853024,\"y\":-0.5545681125591684,\"z\":0.5}}}}},{\"layout\":{\"scene\":{\"camera\":{\"eye\":{\"x\":-2.312711848622379,\"y\":-0.4624542196170959,\"z\":0.5}}}}},{\"layout\":{\"scene\":{\"camera\":{\"eye\":{\"x\":-2.3293551621538757,\"y\":-0.36960049857527477,\"z\":0.5}}}}},{\"layout\":{\"scene\":{\"camera\":{\"eye\":{\"x\":-2.342272004328525,\"y\":-0.27615549557963437,\"z\":0.5}}}}},{\"layout\":{\"scene\":{\"camera\":{\"eye\":{\"x\":-2.351441710954295,\"y\":-0.18226870270108886,\"z\":0.5}}}}},{\"layout\":{\"scene\":{\"camera\":{\"eye\":{\"x\":-2.3568496124566822,\"y\":-0.08809031878014562,\"z\":0.5}}}}},{\"layout\":{\"scene\":{\"camera\":{\"eye\":{\"x\":-2.3584870573469074,\"y\":0.0062289908592463306,\"z\":0.5}}}}},{\"layout\":{\"scene\":{\"camera\":{\"eye\":{\"x\":-2.3563514260624503,\"y\":0.10053833544204394,\"z\":0.5}}}}},{\"layout\":{\"scene\":{\"camera\":{\"eye\":{\"x\":-2.3504461351577874,\"y\":0.19468684013517712,\"z\":0.5}}}}},{\"layout\":{\"scene\":{\"camera\":{\"eye\":{\"x\":-2.3407806318386397,\"y\":0.2885238874150633,\"z\":0.5}}}}},{\"layout\":{\"scene\":{\"camera\":{\"eye\":{\"x\":-2.3273703788484523,\"y\":0.3818993580235652,\"z\":0.5}}}}},{\"layout\":{\"scene\":{\"camera\":{\"eye\":{\"x\":-2.310236829731309,\"y\":0.47466387112674757,\"z\":0.5}}}}},{\"layout\":{\"scene\":{\"camera\":{\"eye\":{\"x\":-2.289407394510833,\"y\":0.5666690232923606,\"z\":0.5}}}}},{\"layout\":{\"scene\":{\"camera\":{\"eye\":{\"x\":-2.264915395840005,\"y\":0.6577676259036419,\"z\":0.5}}}}},{\"layout\":{\"scene\":{\"camera\":{\"eye\":{\"x\":-2.236800015692015,\"y\":0.7478139406297543,\"z\":0.5}}}}},{\"layout\":{\"scene\":{\"camera\":{\"eye\":{\"x\":-2.205106232677472,\"y\":0.8366639125759912,\"z\":0.5}}}}},{\"layout\":{\"scene\":{\"camera\":{\"eye\":{\"x\":-2.169884750088217,\"y\":0.9241754007408968,\"z\":0.5}}}}},{\"layout\":{\"scene\":{\"camera\":{\"eye\":{\"x\":-2.1311919147828826,\"y\":1.010208405411513,\"z\":0.5}}}}},{\"layout\":{\"scene\":{\"camera\":{\"eye\":{\"x\":-2.089089627043923,\"y\":1.094625292133104,\"z\":0.5}}}}},{\"layout\":{\"scene\":{\"camera\":{\"eye\":{\"x\":-2.0436452415503785,\"y\":1.1772910118948903,\"z\":0.5}}}}},{\"layout\":{\"scene\":{\"camera\":{\"eye\":{\"x\":-1.9949314596247496,\"y\":1.2580733171796732,\"z\":0.5}}}}},{\"layout\":{\"scene\":{\"camera\":{\"eye\":{\"x\":-1.943026212926406,\"y\":1.336842973531622,\"z\":0.5}}}}},{\"layout\":{\"scene\":{\"camera\":{\"eye\":{\"x\":-1.8880125387775324,\"y\":1.4134739663038784,\"z\":0.5}}}}},{\"layout\":{\"scene\":{\"camera\":{\"eye\":{\"x\":-1.8299784473211422,\"y\":1.4878437022550792,\"z\":0.5}}}}},{\"layout\":{\"scene\":{\"camera\":{\"eye\":{\"x\":-1.7690167807236201,\"y\":1.5598332056724011,\"z\":0.5}}}}},{\"layout\":{\"scene\":{\"camera\":{\"eye\":{\"x\":-1.7052250646470544,\"y\":1.6293273087073237,\"z\":0.5}}}}},{\"layout\":{\"scene\":{\"camera\":{\"eye\":{\"x\":-1.6387053522290045,\"y\":1.6962148356195963,\"z\":0.5}}}}},{\"layout\":{\"scene\":{\"camera\":{\"eye\":{\"x\":-1.5695640608192194,\"y\":1.7603887806347442,\"z\":0.5}}}}},{\"layout\":{\"scene\":{\"camera\":{\"eye\":{\"x\":-1.4979118017345991,\"y\":1.8217464791304545,\"z\":0.5}}}}},{\"layout\":{\"scene\":{\"camera\":{\"eye\":{\"x\":-1.423863203304672,\"y\":1.8801897718780831,\"z\":0.5}}}}},{\"layout\":{\"scene\":{\"camera\":{\"eye\":{\"x\":-1.3475367274907475,\"y\":1.935625162076461,\"z\":0.5}}}}},{\"layout\":{\"scene\":{\"camera\":{\"eye\":{\"x\":-1.2690544803720083,\"y\":1.9879639649268626,\"z\":0.5}}}}},{\"layout\":{\"scene\":{\"camera\":{\"eye\":{\"x\":-1.188542016801858,\"y\":2.0371224495097424,\"z\":0.5}}}}},{\"layout\":{\"scene\":{\"camera\":{\"eye\":{\"x\":-1.1061281395469247,\"y\":2.083021972736356,\"z\":0.5}}}}},{\"layout\":{\"scene\":{\"camera\":{\"eye\":{\"x\":-1.021944693230142,\"y\":2.125589105160908,\"z\":0.5}}}}},{\"layout\":{\"scene\":{\"camera\":{\"eye\":{\"x\":-0.9361263534074318,\"y\":2.164755748452029,\"z\":0.5}}}}},{\"layout\":{\"scene\":{\"camera\":{\"eye\":{\"x\":-0.8488104111155748,\"y\":2.2004592443355566,\"z\":0.5}}}}},{\"layout\":{\"scene\":{\"camera\":{\"eye\":{\"x\":-0.7601365532358215,\"y\":2.23264247483442,\"z\":0.5}}}}},{\"layout\":{\"scene\":{\"camera\":{\"eye\":{\"x\":-0.6702466390247155,\"y\":2.2612539536452054,\"z\":0.5}}}}},{\"layout\":{\"scene\":{\"camera\":{\"eye\":{\"x\":-0.5792844731694937,\"y\":2.2862479085052745,\"z\":0.5}}}}},{\"layout\":{\"scene\":{\"camera\":{\"eye\":{\"x\":-0.48739557573129766,\"y\":2.3075843544186108,\"z\":0.5}}}}},{\"layout\":{\"scene\":{\"camera\":{\"eye\":{\"x\":-0.3947269493441009,\"y\":2.3252291576232866,\"z\":0.5}}}}},{\"layout\":{\"scene\":{\"camera\":{\"eye\":{\"x\":-0.3014268440418866,\"y\":2.3391540901981958,\"z\":0.5}}}}},{\"layout\":{\"scene\":{\"camera\":{\"eye\":{\"x\":-0.2076445200901691,\"y\":2.349336875221713,\"z\":0.5}}}}},{\"layout\":{\"scene\":{\"camera\":{\"eye\":{\"x\":-0.11353000920144285,\"y\":2.3557612224100133,\"z\":0.5}}}}},{\"layout\":{\"scene\":{\"camera\":{\"eye\":{\"x\":-0.019233874516429328,\"y\":2.3584168541780492,\"z\":0.5}}}}},{\"layout\":{\"scene\":{\"camera\":{\"eye\":{\"x\":0.07509303026479452,\"y\":2.357299522081496,\"z\":0.5}}}}},{\"layout\":{\"scene\":{\"camera\":{\"eye\":{\"x\":0.1692998022165868,\"y\":2.3524110136133576,\"z\":0.5}}}}},{\"layout\":{\"scene\":{\"camera\":{\"eye\":{\"x\":0.26323573060019734,\"y\":2.343759149344356,\"z\":0.5}}}}},{\"layout\":{\"scene\":{\"camera\":{\"eye\":{\"x\":0.3567505379688084,\"y\":2.3313577704116897,\"z\":0.5}}}}},{\"layout\":{\"scene\":{\"camera\":{\"eye\":{\"x\":0.44969462057940035,\"y\":2.315226716376163,\"z\":0.5}}}}},{\"layout\":{\"scene\":{\"camera\":{\"eye\":{\"x\":0.5419192877267929,\"y\":2.2953917934831267,\"z\":0.5}}}}},{\"layout\":{\"scene\":{\"camera\":{\"eye\":{\"x\":0.6332769996171049,\"y\":2.271884733377985,\"z\":0.5}}}}},{\"layout\":{\"scene\":{\"camera\":{\"eye\":{\"x\":0.7236216033999179,\"y\":2.244743142342333,\"z\":0.5}}}}},{\"layout\":{\"scene\":{\"camera\":{\"eye\":{\"x\":0.8128085669816747,\"y\":2.2140104411319284,\"z\":0.5}}}}},{\"layout\":{\"scene\":{\"camera\":{\"eye\":{\"x\":0.9006952102461662,\"y\":2.179735795512753,\"z\":0.5}}}}},{\"layout\":{\"scene\":{\"camera\":{\"eye\":{\"x\":0.9871409333123276,\"y\":2.1419740376062606,\"z\":0.5}}}}},{\"layout\":{\"scene\":{\"camera\":{\"eye\":{\"x\":1.0720074414640242,\"y\":2.1007855781696896,\"z\":0.5}}}}},{\"layout\":{\"scene\":{\"camera\":{\"eye\":{\"x\":1.1551589663921096,\"y\":2.056236309951731,\"z\":0.5}}}}},{\"layout\":{\"scene\":{\"camera\":{\"eye\":{\"x\":1.2364624833947309,\"y\":2.0083975022782057,\"z\":0.5}}}}},{\"layout\":{\"scene\":{\"camera\":{\"eye\":{\"x\":1.3157879241885153,\"y\":1.9573456870363186,\"z\":0.5}}}}},{\"layout\":{\"scene\":{\"camera\":{\"eye\":{\"x\":1.393008384990052,\"y\":1.9031625362399835,\"z\":0.5}}}}},{\"layout\":{\"scene\":{\"camera\":{\"eye\":{\"x\":1.4680003295348847,\"y\":1.8459347313720142,\"z\":0.5}}}}},{\"layout\":{\"scene\":{\"camera\":{\"eye\":{\"x\":1.5406437867091562,\"y\":1.7857538247122622,\"z\":0.5}}}}},{\"layout\":{\"scene\":{\"camera\":{\"eye\":{\"x\":1.610822542477839,\"y\":1.722716092873469,\"z\":0.5}}}}},{\"layout\":{\"scene\":{\"camera\":{\"eye\":{\"x\":1.6784243258023728,\"y\":1.6569223827792445,\"z\":0.5}}}}},{\"layout\":{\"scene\":{\"camera\":{\"eye\":{\"x\":1.7433409882503885,\"y\":1.588477950330491,\"z\":0.5}}}}}]);\n",
       "                        }).then(function(){\n",
       "                            \n",
       "var gd = document.getElementById('e85e302f-aaa0-45ef-a6c8-cfdfb7068716');\n",
       "var x = new MutationObserver(function (mutations, observer) {{\n",
       "        var display = window.getComputedStyle(gd).display;\n",
       "        if (!display || display === 'none') {{\n",
       "            console.log([gd, 'removed!']);\n",
       "            Plotly.purge(gd);\n",
       "            observer.disconnect();\n",
       "        }}\n",
       "}});\n",
       "\n",
       "// Listen for the removal of the full notebook cells\n",
       "var notebookContainer = gd.closest('#notebook-container');\n",
       "if (notebookContainer) {{\n",
       "    x.observe(notebookContainer, {childList: true});\n",
       "}}\n",
       "\n",
       "// Listen for the clearing of the current output cell\n",
       "var outputEl = gd.closest('.output');\n",
       "if (outputEl) {{\n",
       "    x.observe(outputEl, {childList: true});\n",
       "}}\n",
       "\n",
       "                        })                };                });            </script>        </div>"
      ]
     },
     "metadata": {},
     "output_type": "display_data"
    }
   ],
   "source": [
    "'''import plotly.graph_objects as go\n",
    "import numpy as np\n",
    "\n",
    "# Helix equation\n",
    "t = np.linspace(0, 10, 50)\n",
    "x, y, z = np.cos(t), np.sin(t), t\n",
    "'''\n",
    "fig= go.Figure(fig)\n",
    "\n",
    "x_eye = -1.25\n",
    "y_eye = 2\n",
    "z_eye = 0.5\n",
    "\n",
    "fig.update_layout(\n",
    "         title='Animation Test',\n",
    "         width=980,\n",
    "         height=700,\n",
    "         scene_camera_eye=dict(x=x_eye, y=y_eye, z=z_eye),\n",
    "         updatemenus=[dict(type='buttons',\n",
    "                  showactive=False,\n",
    "                  y=1,\n",
    "                  x=0.8,\n",
    "                  xanchor='left',\n",
    "                  yanchor='bottom',\n",
    "                  pad=dict(t=45, r=10),\n",
    "                  buttons=[dict(label='Play',\n",
    "                                 method='animate',\n",
    "                                 args=[None, dict(frame=dict(duration=100, redraw=True), \n",
    "                                                             transition=dict(duration=1),\n",
    "                                                             fromcurrent=True,\n",
    "                                                             mode='immediate'\n",
    "                                                            )]\n",
    "                                            )\n",
    "                                      ]\n",
    "                              )\n",
    "                        ]\n",
    ")\n",
    "\n",
    "\n",
    "def rotate_z(x, y, z, theta):\n",
    "    w = x+1j*y\n",
    "    return np.real(np.exp(1j*theta)*w), np.imag(np.exp(1j*theta)*w), z\n",
    "\n",
    "frames=[]\n",
    "for t in np.arange(0, 20.26, 0.04):\n",
    "    xe, ye, ze = rotate_z(x_eye, y_eye, z_eye, -t)\n",
    "    frames.append(go.Frame(layout=dict(scene_camera_eye=dict(x=xe, y=ye, z=ze))))\n",
    "fig.frames=frames\n",
    "\n",
    "fig.show()"
   ]
  },
  {
   "cell_type": "code",
   "execution_count": 30,
   "metadata": {},
   "outputs": [
    {
     "data": {
      "image/png": "[encoded data removed]",
      "text/plain": [
       "<Figure size 700x700 with 1 Axes>"
      ]
     },
     "metadata": {},
     "output_type": "display_data"
    }
   ],
   "source": [
    "# find the optimal number of clusters using elbow method\n",
    "from sklearn.cluster import KMeans\n",
    "import matplotlib.pyplot as plt\n",
    "\n",
    "WCSS = []\n",
    "for i in range(1,11):\n",
    "    model = KMeans(n_clusters = i,init = 'k-means++')\n",
    "    model.fit(pca_array)\n",
    "    WCSS.append(model.inertia_)\n",
    "fig = plt.figure(figsize = (7,7))\n",
    "plt.plot(range(1,11),WCSS, linewidth=4, markersize=10,marker='o',color = 'green')\n",
    "plt.xticks(np.arange(11))\n",
    "plt.xlabel(\"Number of clusters\")\n",
    "plt.ylabel(\"WCSS\")\n",
    "plt.show()"
   ]
  },
  {
   "cell_type": "code",
   "execution_count": 31,
   "metadata": {},
   "outputs": [
    {
     "data": {
      "application/vnd.plotly.v1+json": {
       "config": {
        "plotlyServerURL": "https://plot.ly"
       },
       "data": [
        {
         "marker": {
          "color": [
           0,
           1,
           2,
           3,
           4,
           5,
           6,
           7
          ],
          "line": {
           "color": "black",
           "width": 10
          },
          "size": 10
         },
         "mode": "markers",
         "type": "scatter3d",
         "x": [
          33.549156,
          69.58943,
          14.669685,
          -26.162903,
          -0.3244129,
          -117.13708,
          -77.07949,
          62.660828,
          42.103718,
          71.43333,
          98.133934,
          56.58617,
          3.719329,
          4.490241,
          33.803104,
          -52.638237,
          9.960828,
          4.137829,
          -113.386795,
          13.490489,
          58.966278,
          -45.671806,
          25.165312,
          -38.909103,
          -3.2595527,
          48.46155,
          36.633472,
          -25.682743,
          47.812706,
          25.138098,
          51.11065,
          -67.218094,
          -44.354454,
          17.903532,
          -81.2321,
          52.670704,
          -96.3908,
          -42.863937,
          -38.909103,
          -0.9863972,
          -5.2644897,
          -7.2847815,
          104.31789,
          104.31789,
          -114.261116,
          -52.237427,
          45.761097,
          -31.418093,
          -27.886734,
          6.2637396,
          25.83173,
          -79.574005,
          -80.08483,
          104.31789,
          -115.790276,
          27.418636,
          -34.173454,
          7.869573,
          -48.81242,
          37.997257,
          61.62825,
          54.042286,
          99.38032,
          -77.07949,
          108.18417,
          -3.8721542,
          6.79128,
          57.3682,
          29.04513,
          30.350483,
          -45.78693,
          -45.04977,
          8.972331,
          80.550476,
          -7.2847815,
          -27.706766,
          -75.531586,
          -38.909103,
          83.06447,
          -21.064837
         ],
         "y": [
          57.761295,
          85.57642,
          -24.00868,
          87.95821,
          44.743774,
          11.6924715,
          -23.87913,
          -11.773518,
          -47.370415,
          87.26356,
          -34.60164,
          65.669136,
          -12.008812,
          -22.44534,
          -41.630833,
          -26.301565,
          -49.012367,
          106.790695,
          -5.2521634,
          34.803596,
          -9.073625,
          43.410088,
          120.93555,
          -2.6070373,
          15.55828,
          27.511866,
          -88.324486,
          -55.72202,
          -27.764627,
          11.788872,
          -18.135557,
          -10.397926,
          -51.647396,
          -66.56625,
          -49.45515,
          -69.12173,
          4.4634757,
          -15.924087,
          -2.6070373,
          -12.028101,
          85.7765,
          44.9568,
          28.964298,
          28.964298,
          -37.03265,
          48.879356,
          -7.942313,
          -2.3497338,
          -31.171871,
          -122.36005,
          9.224962,
          85.388695,
          -46.31009,
          28.964298,
          -3.3706174,
          26.973656,
          115.220695,
          63.35096,
          -13.296632,
          26.090479,
          -75.43682,
          38.25863,
          -89.267624,
          -23.87913,
          22.502314,
          -62.4386,
          -8.603481,
          23.980846,
          -109.54954,
          49.94529,
          -101.33099,
          27.88395,
          99.74352,
          -23.646461,
          44.9568,
          -112.08162,
          54.268764,
          -2.6070373,
          -53.39374,
          33.11618
         ],
         "z": [
          42.346363,
          -61.833157,
          33.67278,
          -2.7140386,
          -3.403233,
          -37.31682,
          -50.804184,
          -63.866478,
          52.44892,
          -1.9835429,
          -11.93496,
          18.822693,
          -13.421408,
          -81.3488,
          89.09838,
          69.812325,
          54.446228,
          -43.202103,
          -13.334042,
          92.71615,
          56.839676,
          34.23772,
          28.921392,
          10.988241,
          -68.13357,
          -112.9835,
          17.18035,
          -48.462547,
          -20.690065,
          45.36021,
          26.917282,
          -89.3992,
          25.697077,
          -43.475346,
          60.913376,
          -91.63212,
          59.9597,
          -115.15345,
          10.988241,
          71.268776,
          -84.76386,
          -36.510365,
          6.62166,
          6.62166,
          42.416424,
          -46.42869,
          -114.590866,
          -28.194607,
          -14.121652,
          -21.419073,
          -57.1714,
          -14.732531,
          -21.963596,
          6.62166,
          37.860004,
          -22.058672,
          14.568611,
          50.90851,
          104.809074,
          129.70049,
          -32.030575,
          -34.95921,
          14.902445,
          -50.804184,
          57.841682,
          4.198919,
          119.74537,
          107.83578,
          46.500763,
          -70.249985,
          -31.76968,
          70.350334,
          16.36521,
          110.057335,
          -36.510365,
          -2.8273733,
          19.380451,
          10.988241,
          61.152966,
          -90.30602
         ]
        }
       ],
       "layout": {
        "height": 800,
        "margin": {
         "l": 0,
         "r": 0
        },
        "scene": {
         "xaxis": {
          "title": {
           "text": "1st dimension -->"
          }
         },
         "yaxis": {
          "title": {
           "text": "2nd dimension--->"
          }
         },
         "zaxis": {
          "title": {
           "text": "3rd dimension-->"
          }
         }
        },
        "template": {
         "data": {
          "bar": [
           {
            "error_x": {
             "color": "#2a3f5f"
            },
            "error_y": {
             "color": "#2a3f5f"
            },
            "marker": {
             "line": {
              "color": "#E5ECF6",
              "width": 0.5
             },
             "pattern": {
              "fillmode": "overlay",
              "size": 10,
              "solidity": 0.2
             }
            },
            "type": "bar"
           }
          ],
          "barpolar": [
           {
            "marker": {
             "line": {
              "color": "#E5ECF6",
              "width": 0.5
             },
             "pattern": {
              "fillmode": "overlay",
              "size": 10,
              "solidity": 0.2
             }
            },
            "type": "barpolar"
           }
          ],
          "carpet": [
           {
            "aaxis": {
             "endlinecolor": "#2a3f5f",
             "gridcolor": "white",
             "linecolor": "white",
             "minorgridcolor": "white",
             "startlinecolor": "#2a3f5f"
            },
            "baxis": {
             "endlinecolor": "#2a3f5f",
             "gridcolor": "white",
             "linecolor": "white",
             "minorgridcolor": "white",
             "startlinecolor": "#2a3f5f"
            },
            "type": "carpet"
           }
          ],
          "choropleth": [
           {
            "colorbar": {
             "outlinewidth": 0,
             "ticks": ""
            },
            "type": "choropleth"
           }
          ],
          "contour": [
           {
            "colorbar": {
             "outlinewidth": 0,
             "ticks": ""
            },
            "colorscale": [
             [
              0,
              "#0d0887"
             ],
             [
              0.1111111111111111,
              "#46039f"
             ],
             [
              0.2222222222222222,
              "#7201a8"
             ],
             [
              0.3333333333333333,
              "#9c179e"
             ],
             [
              0.4444444444444444,
              "#bd3786"
             ],
             [
              0.5555555555555556,
              "#d8576b"
             ],
             [
              0.6666666666666666,
              "#ed7953"
             ],
             [
              0.7777777777777778,
              "#fb9f3a"
             ],
             [
              0.8888888888888888,
              "#fdca26"
             ],
             [
              1,
              "#f0f921"
             ]
            ],
            "type": "contour"
           }
          ],
          "contourcarpet": [
           {
            "colorbar": {
             "outlinewidth": 0,
             "ticks": ""
            },
            "type": "contourcarpet"
           }
          ],
          "heatmap": [
           {
            "colorbar": {
             "outlinewidth": 0,
             "ticks": ""
            },
            "colorscale": [
             [
              0,
              "#0d0887"
             ],
             [
              0.1111111111111111,
              "#46039f"
             ],
             [
              0.2222222222222222,
              "#7201a8"
             ],
             [
              0.3333333333333333,
              "#9c179e"
             ],
             [
              0.4444444444444444,
              "#bd3786"
             ],
             [
              0.5555555555555556,
              "#d8576b"
             ],
             [
              0.6666666666666666,
              "#ed7953"
             ],
             [
              0.7777777777777778,
              "#fb9f3a"
             ],
             [
              0.8888888888888888,
              "#fdca26"
             ],
             [
              1,
              "#f0f921"
             ]
            ],
            "type": "heatmap"
           }
          ],
          "heatmapgl": [
           {
            "colorbar": {
             "outlinewidth": 0,
             "ticks": ""
            },
            "colorscale": [
             [
              0,
              "#0d0887"
             ],
             [
              0.1111111111111111,
              "#46039f"
             ],
             [
              0.2222222222222222,
              "#7201a8"
             ],
             [
              0.3333333333333333,
              "#9c179e"
             ],
             [
              0.4444444444444444,
              "#bd3786"
             ],
             [
              0.5555555555555556,
              "#d8576b"
             ],
             [
              0.6666666666666666,
              "#ed7953"
             ],
             [
              0.7777777777777778,
              "#fb9f3a"
             ],
             [
              0.8888888888888888,
              "#fdca26"
             ],
             [
              1,
              "#f0f921"
             ]
            ],
            "type": "heatmapgl"
           }
          ],
          "histogram": [
           {
            "marker": {
             "pattern": {
              "fillmode": "overlay",
              "size": 10,
              "solidity": 0.2
             }
            },
            "type": "histogram"
           }
          ],
          "histogram2d": [
           {
            "colorbar": {
             "outlinewidth": 0,
             "ticks": ""
            },
            "colorscale": [
             [
              0,
              "#0d0887"
             ],
             [
              0.1111111111111111,
              "#46039f"
             ],
             [
              0.2222222222222222,
              "#7201a8"
             ],
             [
              0.3333333333333333,
              "#9c179e"
             ],
             [
              0.4444444444444444,
              "#bd3786"
             ],
             [
              0.5555555555555556,
              "#d8576b"
             ],
             [
              0.6666666666666666,
              "#ed7953"
             ],
             [
              0.7777777777777778,
              "#fb9f3a"
             ],
             [
              0.8888888888888888,
              "#fdca26"
             ],
             [
              1,
              "#f0f921"
             ]
            ],
            "type": "histogram2d"
           }
          ],
          "histogram2dcontour": [
           {
            "colorbar": {
             "outlinewidth": 0,
             "ticks": ""
            },
            "colorscale": [
             [
              0,
              "#0d0887"
             ],
             [
              0.1111111111111111,
              "#46039f"
             ],
             [
              0.2222222222222222,
              "#7201a8"
             ],
             [
              0.3333333333333333,
              "#9c179e"
             ],
             [
              0.4444444444444444,
              "#bd3786"
             ],
             [
              0.5555555555555556,
              "#d8576b"
             ],
             [
              0.6666666666666666,
              "#ed7953"
             ],
             [
              0.7777777777777778,
              "#fb9f3a"
             ],
             [
              0.8888888888888888,
              "#fdca26"
             ],
             [
              1,
              "#f0f921"
             ]
            ],
            "type": "histogram2dcontour"
           }
          ],
          "mesh3d": [
           {
            "colorbar": {
             "outlinewidth": 0,
             "ticks": ""
            },
            "type": "mesh3d"
           }
          ],
          "parcoords": [
           {
            "line": {
             "colorbar": {
              "outlinewidth": 0,
              "ticks": ""
             }
            },
            "type": "parcoords"
           }
          ],
          "pie": [
           {
            "automargin": true,
            "type": "pie"
           }
          ],
          "scatter": [
           {
            "fillpattern": {
             "fillmode": "overlay",
             "size": 10,
             "solidity": 0.2
            },
            "type": "scatter"
           }
          ],
          "scatter3d": [
           {
            "line": {
             "colorbar": {
              "outlinewidth": 0,
              "ticks": ""
             }
            },
            "marker": {
             "colorbar": {
              "outlinewidth": 0,
              "ticks": ""
             }
            },
            "type": "scatter3d"
           }
          ],
          "scattercarpet": [
           {
            "marker": {
             "colorbar": {
              "outlinewidth": 0,
              "ticks": ""
             }
            },
            "type": "scattercarpet"
           }
          ],
          "scattergeo": [
           {
            "marker": {
             "colorbar": {
              "outlinewidth": 0,
              "ticks": ""
             }
            },
            "type": "scattergeo"
           }
          ],
          "scattergl": [
           {
            "marker": {
             "colorbar": {
              "outlinewidth": 0,
              "ticks": ""
             }
            },
            "type": "scattergl"
           }
          ],
          "scattermapbox": [
           {
            "marker": {
             "colorbar": {
              "outlinewidth": 0,
              "ticks": ""
             }
            },
            "type": "scattermapbox"
           }
          ],
          "scatterpolar": [
           {
            "marker": {
             "colorbar": {
              "outlinewidth": 0,
              "ticks": ""
             }
            },
            "type": "scatterpolar"
           }
          ],
          "scatterpolargl": [
           {
            "marker": {
             "colorbar": {
              "outlinewidth": 0,
              "ticks": ""
             }
            },
            "type": "scatterpolargl"
           }
          ],
          "scatterternary": [
           {
            "marker": {
             "colorbar": {
              "outlinewidth": 0,
              "ticks": ""
             }
            },
            "type": "scatterternary"
           }
          ],
          "surface": [
           {
            "colorbar": {
             "outlinewidth": 0,
             "ticks": ""
            },
            "colorscale": [
             [
              0,
              "#0d0887"
             ],
             [
              0.1111111111111111,
              "#46039f"
             ],
             [
              0.2222222222222222,
              "#7201a8"
             ],
             [
              0.3333333333333333,
              "#9c179e"
             ],
             [
              0.4444444444444444,
              "#bd3786"
             ],
             [
              0.5555555555555556,
              "#d8576b"
             ],
             [
              0.6666666666666666,
              "#ed7953"
             ],
             [
              0.7777777777777778,
              "#fb9f3a"
             ],
             [
              0.8888888888888888,
              "#fdca26"
             ],
             [
              1,
              "#f0f921"
             ]
            ],
            "type": "surface"
           }
          ],
          "table": [
           {
            "cells": {
             "fill": {
              "color": "#EBF0F8"
             },
             "line": {
              "color": "white"
             }
            },
            "header": {
             "fill": {
              "color": "#C8D4E3"
             },
             "line": {
              "color": "white"
             }
            },
            "type": "table"
           }
          ]
         },
         "layout": {
          "annotationdefaults": {
           "arrowcolor": "#2a3f5f",
           "arrowhead": 0,
           "arrowwidth": 1
          },
          "autotypenumbers": "strict",
          "coloraxis": {
           "colorbar": {
            "outlinewidth": 0,
            "ticks": ""
           }
          },
          "colorscale": {
           "diverging": [
            [
             0,
             "#8e0152"
            ],
            [
             0.1,
             "#c51b7d"
            ],
            [
             0.2,
             "#de77ae"
            ],
            [
             0.3,
             "#f1b6da"
            ],
            [
             0.4,
             "#fde0ef"
            ],
            [
             0.5,
             "#f7f7f7"
            ],
            [
             0.6,
             "#e6f5d0"
            ],
            [
             0.7,
             "#b8e186"
            ],
            [
             0.8,
             "#7fbc41"
            ],
            [
             0.9,
             "#4d9221"
            ],
            [
             1,
             "#276419"
            ]
           ],
           "sequential": [
            [
             0,
             "#0d0887"
            ],
            [
             0.1111111111111111,
             "#46039f"
            ],
            [
             0.2222222222222222,
             "#7201a8"
            ],
            [
             0.3333333333333333,
             "#9c179e"
            ],
            [
             0.4444444444444444,
             "#bd3786"
            ],
            [
             0.5555555555555556,
             "#d8576b"
            ],
            [
             0.6666666666666666,
             "#ed7953"
            ],
            [
             0.7777777777777778,
             "#fb9f3a"
            ],
            [
             0.8888888888888888,
             "#fdca26"
            ],
            [
             1,
             "#f0f921"
            ]
           ],
           "sequentialminus": [
            [
             0,
             "#0d0887"
            ],
            [
             0.1111111111111111,
             "#46039f"
            ],
            [
             0.2222222222222222,
             "#7201a8"
            ],
            [
             0.3333333333333333,
             "#9c179e"
            ],
            [
             0.4444444444444444,
             "#bd3786"
            ],
            [
             0.5555555555555556,
             "#d8576b"
            ],
            [
             0.6666666666666666,
             "#ed7953"
            ],
            [
             0.7777777777777778,
             "#fb9f3a"
            ],
            [
             0.8888888888888888,
             "#fdca26"
            ],
            [
             1,
             "#f0f921"
            ]
           ]
          },
          "colorway": [
           "#636efa",
           "#EF553B",
           "#00cc96",
           "#ab63fa",
           "#FFA15A",
           "#19d3f3",
           "#FF6692",
           "#B6E880",
           "#FF97FF",
           "#FECB52"
          ],
          "font": {
           "color": "#2a3f5f"
          },
          "geo": {
           "bgcolor": "white",
           "lakecolor": "white",
           "landcolor": "#E5ECF6",
           "showlakes": true,
           "showland": true,
           "subunitcolor": "white"
          },
          "hoverlabel": {
           "align": "left"
          },
          "hovermode": "closest",
          "mapbox": {
           "style": "light"
          },
          "paper_bgcolor": "white",
          "plot_bgcolor": "#E5ECF6",
          "polar": {
           "angularaxis": {
            "gridcolor": "white",
            "linecolor": "white",
            "ticks": ""
           },
           "bgcolor": "#E5ECF6",
           "radialaxis": {
            "gridcolor": "white",
            "linecolor": "white",
            "ticks": ""
           }
          },
          "scene": {
           "xaxis": {
            "backgroundcolor": "#E5ECF6",
            "gridcolor": "white",
            "gridwidth": 2,
            "linecolor": "white",
            "showbackground": true,
            "ticks": "",
            "zerolinecolor": "white"
           },
           "yaxis": {
            "backgroundcolor": "#E5ECF6",
            "gridcolor": "white",
            "gridwidth": 2,
            "linecolor": "white",
            "showbackground": true,
            "ticks": "",
            "zerolinecolor": "white"
           },
           "zaxis": {
            "backgroundcolor": "#E5ECF6",
            "gridcolor": "white",
            "gridwidth": 2,
            "linecolor": "white",
            "showbackground": true,
            "ticks": "",
            "zerolinecolor": "white"
           }
          },
          "shapedefaults": {
           "line": {
            "color": "#2a3f5f"
           }
          },
          "ternary": {
           "aaxis": {
            "gridcolor": "white",
            "linecolor": "white",
            "ticks": ""
           },
           "baxis": {
            "gridcolor": "white",
            "linecolor": "white",
            "ticks": ""
           },
           "bgcolor": "#E5ECF6",
           "caxis": {
            "gridcolor": "white",
            "linecolor": "white",
            "ticks": ""
           }
          },
          "title": {
           "x": 0.05
          },
          "xaxis": {
           "automargin": true,
           "gridcolor": "white",
           "linecolor": "white",
           "ticks": "",
           "title": {
            "standoff": 15
           },
           "zerolinecolor": "white",
           "zerolinewidth": 2
          },
          "yaxis": {
           "automargin": true,
           "gridcolor": "white",
           "linecolor": "white",
           "ticks": "",
           "title": {
            "standoff": 15
           },
           "zerolinecolor": "white",
           "zerolinewidth": 2
          }
         }
        },
        "width": 800
       }
      },
      "text/html": [
       "<div>                            <div id=\"93af6854-dbbb-42cc-8965-26d7ff29fdcc\" class=\"plotly-graph-div\" style=\"height:800px; width:800px;\"></div>            <script type=\"text/javascript\">                require([\"plotly\"], function(Plotly) {                    window.PLOTLYENV=window.PLOTLYENV || {};                                    if (document.getElementById(\"93af6854-dbbb-42cc-8965-26d7ff29fdcc\")) {                    Plotly.newPlot(                        \"93af6854-dbbb-42cc-8965-26d7ff29fdcc\",                        [{\"marker\":{\"color\":[0,1,2,3,4,5,6,7],\"line\":{\"color\":\"black\",\"width\":10},\"size\":10},\"mode\":\"markers\",\"x\":[33.549156,69.58943,14.669685,-26.162903,-0.3244129,-117.13708,-77.07949,62.660828,42.103718,71.43333,98.133934,56.58617,3.719329,4.490241,33.803104,-52.638237,9.960828,4.137829,-113.386795,13.490489,58.966278,-45.671806,25.165312,-38.909103,-3.2595527,48.46155,36.633472,-25.682743,47.812706,25.138098,51.11065,-67.218094,-44.354454,17.903532,-81.2321,52.670704,-96.3908,-42.863937,-38.909103,-0.9863972,-5.2644897,-7.2847815,104.31789,104.31789,-114.261116,-52.237427,45.761097,-31.418093,-27.886734,6.2637396,25.83173,-79.574005,-80.08483,104.31789,-115.790276,27.418636,-34.173454,7.869573,-48.81242,37.997257,61.62825,54.042286,99.38032,-77.07949,108.18417,-3.8721542,6.79128,57.3682,29.04513,30.350483,-45.78693,-45.04977,8.972331,80.550476,-7.2847815,-27.706766,-75.531586,-38.909103,83.06447,-21.064837],\"y\":[57.761295,85.57642,-24.00868,87.95821,44.743774,11.6924715,-23.87913,-11.773518,-47.370415,87.26356,-34.60164,65.669136,-12.008812,-22.44534,-41.630833,-26.301565,-49.012367,106.790695,-5.2521634,34.803596,-9.073625,43.410088,120.93555,-2.6070373,15.55828,27.511866,-88.324486,-55.72202,-27.764627,11.788872,-18.135557,-10.397926,-51.647396,-66.56625,-49.45515,-69.12173,4.4634757,-15.924087,-2.6070373,-12.028101,85.7765,44.9568,28.964298,28.964298,-37.03265,48.879356,-7.942313,-2.3497338,-31.171871,-122.36005,9.224962,85.388695,-46.31009,28.964298,-3.3706174,26.973656,115.220695,63.35096,-13.296632,26.090479,-75.43682,38.25863,-89.267624,-23.87913,22.502314,-62.4386,-8.603481,23.980846,-109.54954,49.94529,-101.33099,27.88395,99.74352,-23.646461,44.9568,-112.08162,54.268764,-2.6070373,-53.39374,33.11618],\"z\":[42.346363,-61.833157,33.67278,-2.7140386,-3.403233,-37.31682,-50.804184,-63.866478,52.44892,-1.9835429,-11.93496,18.822693,-13.421408,-81.3488,89.09838,69.812325,54.446228,-43.202103,-13.334042,92.71615,56.839676,34.23772,28.921392,10.988241,-68.13357,-112.9835,17.18035,-48.462547,-20.690065,45.36021,26.917282,-89.3992,25.697077,-43.475346,60.913376,-91.63212,59.9597,-115.15345,10.988241,71.268776,-84.76386,-36.510365,6.62166,6.62166,42.416424,-46.42869,-114.590866,-28.194607,-14.121652,-21.419073,-57.1714,-14.732531,-21.963596,6.62166,37.860004,-22.058672,14.568611,50.90851,104.809074,129.70049,-32.030575,-34.95921,14.902445,-50.804184,57.841682,4.198919,119.74537,107.83578,46.500763,-70.249985,-31.76968,70.350334,16.36521,110.057335,-36.510365,-2.8273733,19.380451,10.988241,61.152966,-90.30602],\"type\":\"scatter3d\"}],                        {\"height\":800,\"margin\":{\"l\":0,\"r\":0},\"scene\":{\"xaxis\":{\"title\":{\"text\":\"1st dimension --\\u003e\"}},\"yaxis\":{\"title\":{\"text\":\"2nd dimension---\\u003e\"}},\"zaxis\":{\"title\":{\"text\":\"3rd dimension--\\u003e\"}}},\"width\":800,\"template\":{\"data\":{\"histogram2dcontour\":[{\"type\":\"histogram2dcontour\",\"colorbar\":{\"outlinewidth\":0,\"ticks\":\"\"},\"colorscale\":[[0.0,\"#0d0887\"],[0.1111111111111111,\"#46039f\"],[0.2222222222222222,\"#7201a8\"],[0.3333333333333333,\"#9c179e\"],[0.4444444444444444,\"#bd3786\"],[0.5555555555555556,\"#d8576b\"],[0.6666666666666666,\"#ed7953\"],[0.7777777777777778,\"#fb9f3a\"],[0.8888888888888888,\"#fdca26\"],[1.0,\"#f0f921\"]]}],\"choropleth\":[{\"type\":\"choropleth\",\"colorbar\":{\"outlinewidth\":0,\"ticks\":\"\"}}],\"histogram2d\":[{\"type\":\"histogram2d\",\"colorbar\":{\"outlinewidth\":0,\"ticks\":\"\"},\"colorscale\":[[0.0,\"#0d0887\"],[0.1111111111111111,\"#46039f\"],[0.2222222222222222,\"#7201a8\"],[0.3333333333333333,\"#9c179e\"],[0.4444444444444444,\"#bd3786\"],[0.5555555555555556,\"#d8576b\"],[0.6666666666666666,\"#ed7953\"],[0.7777777777777778,\"#fb9f3a\"],[0.8888888888888888,\"#fdca26\"],[1.0,\"#f0f921\"]]}],\"heatmap\":[{\"type\":\"heatmap\",\"colorbar\":{\"outlinewidth\":0,\"ticks\":\"\"},\"colorscale\":[[0.0,\"#0d0887\"],[0.1111111111111111,\"#46039f\"],[0.2222222222222222,\"#7201a8\"],[0.3333333333333333,\"#9c179e\"],[0.4444444444444444,\"#bd3786\"],[0.5555555555555556,\"#d8576b\"],[0.6666666666666666,\"#ed7953\"],[0.7777777777777778,\"#fb9f3a\"],[0.8888888888888888,\"#fdca26\"],[1.0,\"#f0f921\"]]}],\"heatmapgl\":[{\"type\":\"heatmapgl\",\"colorbar\":{\"outlinewidth\":0,\"ticks\":\"\"},\"colorscale\":[[0.0,\"#0d0887\"],[0.1111111111111111,\"#46039f\"],[0.2222222222222222,\"#7201a8\"],[0.3333333333333333,\"#9c179e\"],[0.4444444444444444,\"#bd3786\"],[0.5555555555555556,\"#d8576b\"],[0.6666666666666666,\"#ed7953\"],[0.7777777777777778,\"#fb9f3a\"],[0.8888888888888888,\"#fdca26\"],[1.0,\"#f0f921\"]]}],\"contourcarpet\":[{\"type\":\"contourcarpet\",\"colorbar\":{\"outlinewidth\":0,\"ticks\":\"\"}}],\"contour\":[{\"type\":\"contour\",\"colorbar\":{\"outlinewidth\":0,\"ticks\":\"\"},\"colorscale\":[[0.0,\"#0d0887\"],[0.1111111111111111,\"#46039f\"],[0.2222222222222222,\"#7201a8\"],[0.3333333333333333,\"#9c179e\"],[0.4444444444444444,\"#bd3786\"],[0.5555555555555556,\"#d8576b\"],[0.6666666666666666,\"#ed7953\"],[0.7777777777777778,\"#fb9f3a\"],[0.8888888888888888,\"#fdca26\"],[1.0,\"#f0f921\"]]}],\"surface\":[{\"type\":\"surface\",\"colorbar\":{\"outlinewidth\":0,\"ticks\":\"\"},\"colorscale\":[[0.0,\"#0d0887\"],[0.1111111111111111,\"#46039f\"],[0.2222222222222222,\"#7201a8\"],[0.3333333333333333,\"#9c179e\"],[0.4444444444444444,\"#bd3786\"],[0.5555555555555556,\"#d8576b\"],[0.6666666666666666,\"#ed7953\"],[0.7777777777777778,\"#fb9f3a\"],[0.8888888888888888,\"#fdca26\"],[1.0,\"#f0f921\"]]}],\"mesh3d\":[{\"type\":\"mesh3d\",\"colorbar\":{\"outlinewidth\":0,\"ticks\":\"\"}}],\"scatter\":[{\"fillpattern\":{\"fillmode\":\"overlay\",\"size\":10,\"solidity\":0.2},\"type\":\"scatter\"}],\"parcoords\":[{\"type\":\"parcoords\",\"line\":{\"colorbar\":{\"outlinewidth\":0,\"ticks\":\"\"}}}],\"scatterpolargl\":[{\"type\":\"scatterpolargl\",\"marker\":{\"colorbar\":{\"outlinewidth\":0,\"ticks\":\"\"}}}],\"bar\":[{\"error_x\":{\"color\":\"#2a3f5f\"},\"error_y\":{\"color\":\"#2a3f5f\"},\"marker\":{\"line\":{\"color\":\"#E5ECF6\",\"width\":0.5},\"pattern\":{\"fillmode\":\"overlay\",\"size\":10,\"solidity\":0.2}},\"type\":\"bar\"}],\"scattergeo\":[{\"type\":\"scattergeo\",\"marker\":{\"colorbar\":{\"outlinewidth\":0,\"ticks\":\"\"}}}],\"scatterpolar\":[{\"type\":\"scatterpolar\",\"marker\":{\"colorbar\":{\"outlinewidth\":0,\"ticks\":\"\"}}}],\"histogram\":[{\"marker\":{\"pattern\":{\"fillmode\":\"overlay\",\"size\":10,\"solidity\":0.2}},\"type\":\"histogram\"}],\"scattergl\":[{\"type\":\"scattergl\",\"marker\":{\"colorbar\":{\"outlinewidth\":0,\"ticks\":\"\"}}}],\"scatter3d\":[{\"type\":\"scatter3d\",\"line\":{\"colorbar\":{\"outlinewidth\":0,\"ticks\":\"\"}},\"marker\":{\"colorbar\":{\"outlinewidth\":0,\"ticks\":\"\"}}}],\"scattermapbox\":[{\"type\":\"scattermapbox\",\"marker\":{\"colorbar\":{\"outlinewidth\":0,\"ticks\":\"\"}}}],\"scatterternary\":[{\"type\":\"scatterternary\",\"marker\":{\"colorbar\":{\"outlinewidth\":0,\"ticks\":\"\"}}}],\"scattercarpet\":[{\"type\":\"scattercarpet\",\"marker\":{\"colorbar\":{\"outlinewidth\":0,\"ticks\":\"\"}}}],\"carpet\":[{\"aaxis\":{\"endlinecolor\":\"#2a3f5f\",\"gridcolor\":\"white\",\"linecolor\":\"white\",\"minorgridcolor\":\"white\",\"startlinecolor\":\"#2a3f5f\"},\"baxis\":{\"endlinecolor\":\"#2a3f5f\",\"gridcolor\":\"white\",\"linecolor\":\"white\",\"minorgridcolor\":\"white\",\"startlinecolor\":\"#2a3f5f\"},\"type\":\"carpet\"}],\"table\":[{\"cells\":{\"fill\":{\"color\":\"#EBF0F8\"},\"line\":{\"color\":\"white\"}},\"header\":{\"fill\":{\"color\":\"#C8D4E3\"},\"line\":{\"color\":\"white\"}},\"type\":\"table\"}],\"barpolar\":[{\"marker\":{\"line\":{\"color\":\"#E5ECF6\",\"width\":0.5},\"pattern\":{\"fillmode\":\"overlay\",\"size\":10,\"solidity\":0.2}},\"type\":\"barpolar\"}],\"pie\":[{\"automargin\":true,\"type\":\"pie\"}]},\"layout\":{\"autotypenumbers\":\"strict\",\"colorway\":[\"#636efa\",\"#EF553B\",\"#00cc96\",\"#ab63fa\",\"#FFA15A\",\"#19d3f3\",\"#FF6692\",\"#B6E880\",\"#FF97FF\",\"#FECB52\"],\"font\":{\"color\":\"#2a3f5f\"},\"hovermode\":\"closest\",\"hoverlabel\":{\"align\":\"left\"},\"paper_bgcolor\":\"white\",\"plot_bgcolor\":\"#E5ECF6\",\"polar\":{\"bgcolor\":\"#E5ECF6\",\"angularaxis\":{\"gridcolor\":\"white\",\"linecolor\":\"white\",\"ticks\":\"\"},\"radialaxis\":{\"gridcolor\":\"white\",\"linecolor\":\"white\",\"ticks\":\"\"}},\"ternary\":{\"bgcolor\":\"#E5ECF6\",\"aaxis\":{\"gridcolor\":\"white\",\"linecolor\":\"white\",\"ticks\":\"\"},\"baxis\":{\"gridcolor\":\"white\",\"linecolor\":\"white\",\"ticks\":\"\"},\"caxis\":{\"gridcolor\":\"white\",\"linecolor\":\"white\",\"ticks\":\"\"}},\"coloraxis\":{\"colorbar\":{\"outlinewidth\":0,\"ticks\":\"\"}},\"colorscale\":{\"sequential\":[[0.0,\"#0d0887\"],[0.1111111111111111,\"#46039f\"],[0.2222222222222222,\"#7201a8\"],[0.3333333333333333,\"#9c179e\"],[0.4444444444444444,\"#bd3786\"],[0.5555555555555556,\"#d8576b\"],[0.6666666666666666,\"#ed7953\"],[0.7777777777777778,\"#fb9f3a\"],[0.8888888888888888,\"#fdca26\"],[1.0,\"#f0f921\"]],\"sequentialminus\":[[0.0,\"#0d0887\"],[0.1111111111111111,\"#46039f\"],[0.2222222222222222,\"#7201a8\"],[0.3333333333333333,\"#9c179e\"],[0.4444444444444444,\"#bd3786\"],[0.5555555555555556,\"#d8576b\"],[0.6666666666666666,\"#ed7953\"],[0.7777777777777778,\"#fb9f3a\"],[0.8888888888888888,\"#fdca26\"],[1.0,\"#f0f921\"]],\"diverging\":[[0,\"#8e0152\"],[0.1,\"#c51b7d\"],[0.2,\"#de77ae\"],[0.3,\"#f1b6da\"],[0.4,\"#fde0ef\"],[0.5,\"#f7f7f7\"],[0.6,\"#e6f5d0\"],[0.7,\"#b8e186\"],[0.8,\"#7fbc41\"],[0.9,\"#4d9221\"],[1,\"#276419\"]]},\"xaxis\":{\"gridcolor\":\"white\",\"linecolor\":\"white\",\"ticks\":\"\",\"title\":{\"standoff\":15},\"zerolinecolor\":\"white\",\"automargin\":true,\"zerolinewidth\":2},\"yaxis\":{\"gridcolor\":\"white\",\"linecolor\":\"white\",\"ticks\":\"\",\"title\":{\"standoff\":15},\"zerolinecolor\":\"white\",\"automargin\":true,\"zerolinewidth\":2},\"scene\":{\"xaxis\":{\"backgroundcolor\":\"#E5ECF6\",\"gridcolor\":\"white\",\"linecolor\":\"white\",\"showbackground\":true,\"ticks\":\"\",\"zerolinecolor\":\"white\",\"gridwidth\":2},\"yaxis\":{\"backgroundcolor\":\"#E5ECF6\",\"gridcolor\":\"white\",\"linecolor\":\"white\",\"showbackground\":true,\"ticks\":\"\",\"zerolinecolor\":\"white\",\"gridwidth\":2},\"zaxis\":{\"backgroundcolor\":\"#E5ECF6\",\"gridcolor\":\"white\",\"linecolor\":\"white\",\"showbackground\":true,\"ticks\":\"\",\"zerolinecolor\":\"white\",\"gridwidth\":2}},\"shapedefaults\":{\"line\":{\"color\":\"#2a3f5f\"}},\"annotationdefaults\":{\"arrowcolor\":\"#2a3f5f\",\"arrowhead\":0,\"arrowwidth\":1},\"geo\":{\"bgcolor\":\"white\",\"landcolor\":\"#E5ECF6\",\"subunitcolor\":\"white\",\"showland\":true,\"showlakes\":true,\"lakecolor\":\"white\"},\"title\":{\"x\":0.05},\"mapbox\":{\"style\":\"light\"}}}},                        {\"responsive\": true}                    ).then(function(){\n",
       "                            \n",
       "var gd = document.getElementById('93af6854-dbbb-42cc-8965-26d7ff29fdcc');\n",
       "var x = new MutationObserver(function (mutations, observer) {{\n",
       "        var display = window.getComputedStyle(gd).display;\n",
       "        if (!display || display === 'none') {{\n",
       "            console.log([gd, 'removed!']);\n",
       "            Plotly.purge(gd);\n",
       "            observer.disconnect();\n",
       "        }}\n",
       "}});\n",
       "\n",
       "// Listen for the removal of the full notebook cells\n",
       "var notebookContainer = gd.closest('#notebook-container');\n",
       "if (notebookContainer) {{\n",
       "    x.observe(notebookContainer, {childList: true});\n",
       "}}\n",
       "\n",
       "// Listen for the clearing of the current output cell\n",
       "var outputEl = gd.closest('.output');\n",
       "if (outputEl) {{\n",
       "    x.observe(outputEl, {childList: true});\n",
       "}}\n",
       "\n",
       "                        })                };                });            </script>        </div>"
      ]
     },
     "metadata": {},
     "output_type": "display_data"
    }
   ],
   "source": [
    "\n",
    "Scene = dict(xaxis = dict(title  = '1st dimension -->'),yaxis = dict(title  = '2nd dimension--->'),zaxis = dict(title  = '3rd dimension-->'))\n",
    "\n",
    "trace = go.Scatter3d(x=tsne_result[:, 0], y=tsne_result[:, 1], z=tsne_result[:, 2], mode='markers',marker=dict(color = [0, 1, 2, 3, 4, 5, 6, 7], size= 10, line=dict(color= 'black',width = 10)))\n",
    "layout = go.Layout(margin=dict(l=0,r=0),scene = Scene,height = 800,width = 800)\n",
    "data = [trace]\n",
    "fig = go.Figure(data = data, layout = layout)\n",
    "fig.show()\n"
   ]
  },
  {
   "cell_type": "code",
   "execution_count": null,
   "metadata": {},
   "outputs": [],
   "source": [
    "\n",
    "pca = PCA(n_components=3)\n",
    "X = pca.fit_transform(scaled_df)\n",
    "print(f\"PCA transformed dimn: {X.shape}\")\n",
    "\n",
    "fig = px.scatter_3d(X[:number_rows],x=0,y=1,z=2, color=llm_utt_col[:number_rows])\n",
    "fig.show()\n",
    "\n",
    "#Reference to PCA can be found here:\n",
    "# https://www.kdnuggets.com/2023/05/principal-component-analysis-pca-scikitlearn.html"
   ]
  },
  {
   "cell_type": "markdown",
   "metadata": {},
   "source": [
    "<span style=\"font-size:28px; color:yellow\">Captured Variance</span>"
   ]
  },
  {
   "cell_type": "code",
   "execution_count": 30,
   "metadata": {},
   "outputs": [
    {
     "data": {
      "text/plain": [
       "Text(0.5, 1.0, 'Dimensions vs. Captured Variance Ratio')"
      ]
     },
     "execution_count": 30,
     "metadata": {},
     "output_type": "execute_result"
    },
    {
     "data": {
      "image/png": "[encoded data removed]",
      "text/plain": [
       "<Figure size 700x400 with 1 Axes>"
      ]
     },
     "metadata": {},
     "output_type": "display_data"
    }
   ],
   "source": [
    "import numpy as np\n",
    "import matplotlib.pyplot as plt\n",
    "\n",
    "nums = np.arange(14)\n",
    "\n",
    "var_ratio = []\n",
    "for num in nums:\n",
    "  pca = PCA(n_components=num)\n",
    "  pca.fit(scaled_df)\n",
    "  var_ratio.append(np.sum(pca.explained_variance_ratio_))\n",
    "\n",
    "plt.figure(figsize=(7,4),dpi=100)\n",
    "plt.grid()\n",
    "plt.plot(nums,var_ratio,marker='o')\n",
    "plt.xlabel('Number of Dimensions')\n",
    "plt.ylabel('Captured variance ratio')\n",
    "plt.title('Dimensions vs. Captured Variance Ratio')\n"
   ]
  },
  {
   "cell_type": "markdown",
   "metadata": {},
   "source": [
    "<span style=\"font-size:28px; color:yellow\">Computing Cosine Similarities</span>"
   ]
  },
  {
   "cell_type": "code",
   "execution_count": 30,
   "metadata": {},
   "outputs": [],
   "source": [
    "from sklearn.metrics.pairwise import cosine_similarity\n",
    "import datetime\n",
    "from typing import List\n",
    "import datetime\n",
    "import numpy as np\n",
    "import pandas as pd\n",
    "import csv\n",
    "\n",
    "def embedding(utterance : str):\n",
    "    embedding = hf.embed_query(utterance)\n",
    "    return embedding\n",
    "\n",
    "def pairwise_cosine_similarity(user_utter : str, llm_uttr : str):\n",
    "    distances = []\n",
    "    #for i in range(len(user_utter) - 1): #last utterance has nothing to compare with\n",
    "    embedding_current = embedding(user_utter)\n",
    "    embedding_next = embedding(llm_uttr)\n",
    "    \n",
    "    # Calculate cosine similarity --> values between -1(180 degree opposite) to 1(aligned)\n",
    "    similarity = cosine_similarity([embedding_current], [embedding_next])[0][0] #extracts the scalar value from the returned 2d array\n",
    "    \n",
    "    # Convert to cosine distance\n",
    "    #distance = 1 - similarity\n",
    "\n",
    "        # Append cosine distance to the list\n",
    "        #distances.append(distance)\n",
    "\n",
    "    # Optionally handle the last sentence\n",
    "    # sentences[-1]['distance_to_next'] = None  # or a default value\n",
    "\n",
    "    return similarity\n",
    "\n",
    "def calculate_cosine_distances(utterances : List) -> List:\n",
    "    distances = []\n",
    "    for i in range(len(utterances) - 1): #last utterance has nothing to compare with\n",
    "        embedding_current = embedding(utterances[i])\n",
    "        embedding_next = embedding(utterances[i + 1])\n",
    "        \n",
    "        # Calculate cosine similarity\n",
    "        similarity = cosine_similarity([embedding_current], [embedding_next])[0][0] #extracts the scalar value from the returned 2d array\n",
    "        \n",
    "        # Convert to cosine distance\n",
    "        distance = 1 - similarity\n",
    "\n",
    "        # Append cosine distance to the list\n",
    "        distances.append(distance)\n",
    "\n",
    "    # Optionally handle the last sentence\n",
    "    # sentences[-1]['distance_to_next'] = None  # or a default value\n",
    "\n",
    "    return distances\n",
    "\n",
    "#filename = 'LLM_utt_2024-07-19-13:55:22.csv'\n",
    "df = pd.read_csv(out_file)\n",
    "user_utt_col = df['User_utterance']\n",
    "llm_utt_col = df['LLM_utterance']\n",
    "#out_file = open(pathname + \"Nav_similarity_output\" + str(datetime.datetime.now().strftime(\"%Y-%m-%d-%H:%M:%S\")) + \".csv\", \"w\")\n",
    "\n",
    "number_rows = int(input(\"Number of rows: \")) \n",
    "all_user_uttr = []\n",
    "all_llm_uttr = []\n",
    "pairwise_similarity = []\n",
    "llm_avg_similarities = []\n",
    "\n",
    "'''for row_index, row in list(enumerate(reader))[2:number_rows + 1]:\n",
    "    csv_dict[count] = {'user_utt' : row[0],\n",
    "                        'llm_utt' : row[1]}\n",
    "    count += 1\n",
    "    all_user_uttr.append(row[0])\n",
    "    all_llm_uttr.append(row[1])'''\n",
    "    \n",
    "#compares every llm_utt with every other user_utt --> assigns the mean similarity score to that llm_utt\n",
    "for j, llm in enumerate(llm_utt_col[1:number_rows+1]):\n",
    "    comparative_similarity = []\n",
    "    for k, user in enumerate(user_utt_col[1:number_rows+1]):\n",
    "        comparative_similarity.append(pairwise_cosine_similarity(user, llm))\n",
    "    #print(f\"com_sim: {comparative_similarity}\")\n",
    "    pairwise_similarity.append(comparative_similarity[j])   #extracts and stores the matching index value which is basically a vanilla pairwise similarity\n",
    "    llm_avg_similarity = np.mean(comparative_similarity)\n",
    "    llm_avg_similarities.append(llm_avg_similarity)\n",
    "    all_user_uttr.append(user_utt_col[j])\n",
    "    all_llm_uttr.append(llm_utt_col[j])\n",
    "    #print(f\"llm_avg_similaritiea: {llm_avg_similarities}\")\n",
    "\n",
    "# Writes into csv    \n",
    "ds = pd.DataFrame({'User_utterance' : user_utt_col[1:number_rows+1],\n",
    "                   'LLM_utterance' : llm_utt_col[1:number_rows+1],\n",
    "                   'Pairwise Similarity' : pairwise_similarity,\n",
    "                   'Comparative Avg Similarity' : llm_avg_similarities})  \n",
    "ds.to_csv(str(pathname + 'all_similarities.csv'), index=False) \n",
    "#print(user_uttr_dist)\n"
   ]
  },
  {
   "cell_type": "code",
   "execution_count": 31,
   "metadata": {},
   "outputs": [
    {
     "name": "stdout",
     "output_type": "stream",
     "text": [
      "['weather', \"What's the weather\", \"What's the weather today\", 'Weather']\n"
     ]
    },
    {
     "data": {
      "text/plain": [
       "'user_uttr_dist = calculate_cosine_distances(all_user_uttr)\\nllm_uttr_dist = calculate_cosine_distances(all_llm_uttr)'"
      ]
     },
     "execution_count": 31,
     "metadata": {},
     "output_type": "execute_result"
    }
   ],
   "source": [
    "print(all_user_uttr[1:5])\n",
    "\n",
    "# Embedded distances\n",
    "'''user_uttr_dist = calculate_cosine_distances(all_user_uttr)\n",
    "llm_uttr_dist = calculate_cosine_distances(all_llm_uttr)'''"
   ]
  },
  {
   "cell_type": "markdown",
   "metadata": {},
   "source": [
    "<span style=\"font-size:32px; color:yellow\">Plotting the Similarities</span>"
   ]
  },
  {
   "cell_type": "code",
   "execution_count": 14,
   "metadata": {},
   "outputs": [
    {
     "name": "stdout",
     "output_type": "stream",
     "text": [
      "Breakpoint Threshold: 0.8271711600148183\n"
     ]
    },
    {
     "data": {
      "image/png": "[encoded data removed]",
      "text/plain": [
       "<Figure size 1400x600 with 1 Axes>"
      ]
     },
     "metadata": {},
     "output_type": "display_data"
    },
    {
     "name": "stdout",
     "output_type": "stream",
     "text": [
      "Breakpoint Threshold: 0.6458799096907499\n"
     ]
    },
    {
     "data": {
      "image/png": "[encoded data removed]",
      "text/plain": [
       "<Figure size 1400x600 with 1 Axes>"
      ]
     },
     "metadata": {},
     "output_type": "display_data"
    }
   ],
   "source": [
    "import matplotlib.pyplot as plt\n",
    "import pandas as pd\n",
    "import numpy as np\n",
    "\n",
    "def dist_plot(distances, user_utt=None, llm_utt=None, schema= None):\n",
    "    plt.figure(figsize=(14,6), dpi=100)\n",
    "\n",
    "    X = np.linspace(0,len(distances)-1,num=len(distances))\n",
    "\n",
    "    if schema == 1:\n",
    "        y_upper_bound = .5\n",
    "        y_lower_bound = -4.440892098500626e-16\n",
    "        plt.plot(distances)\n",
    "\n",
    "    if schema == 2:\n",
    "        y_upper_bound = 1\n",
    "        y_lower_bound = 0.6\n",
    "\n",
    "    if schema == 3:\n",
    "        y_upper_bound = 0.9\n",
    "        y_lower_bound = 0.4\n",
    "\n",
    "    plt.ylim(y_lower_bound, y_upper_bound)\n",
    "    plt.xlim(0, len(distances))\n",
    "    \n",
    "    # We need to get the distance threshold that we'll consider an outlier\n",
    "    # We'll use numpy .percentile() for this\n",
    "    if schema == 1:\n",
    "        breakpoint_percentile_threshold = 70\n",
    "        breakpoint_distance_threshold = np.percentile(distances, breakpoint_percentile_threshold) # for more chunks, lower the percentile cutoff\n",
    "\n",
    "    # distance = similarity for schema 2 & 3\n",
    "    else:\n",
    "        breakpoint_percentile_threshold = 6\n",
    "        breakpoint_distance_threshold = np.percentile(distances, breakpoint_percentile_threshold) # for more chunks, lower the percentile cutoff\n",
    "        low_similarity_scores = [d for d in distances if d<breakpoint_distance_threshold]\n",
    "        low_similarity_indices = [idx for idx, d in enumerate(distances) if d<breakpoint_distance_threshold]\n",
    "        acceptable_scores = [d for d in distances if d>= breakpoint_distance_threshold]\n",
    "        acceptable_indices = [idx for idx, d in enumerate(distances) if d>= breakpoint_distance_threshold]\n",
    "        plt.scatter(low_similarity_indices, low_similarity_scores, color='r', s=12, label='Low Similarity score')\n",
    "        plt.scatter(acceptable_indices, acceptable_scores, color='b', s=12, label='Acceptable Similarity scores')\n",
    "        for i, itm in enumerate(low_similarity_indices):   \n",
    "            if schema == 2:\n",
    "                plt.text(itm-0.79, low_similarity_scores[i]+0.0065, f'User: {user_utt[itm]}', rotation=90, verticalalignment='center', size='small', color='black')\n",
    "                plt.text(itm+0.22, low_similarity_scores[i]+0.0065, f'LLM: {llm_utt[itm]}', rotation=90, verticalalignment='center', size='small', color='black')\n",
    "\n",
    "            if schema == 3:\n",
    "                plt.text(itm-1.95, low_similarity_scores[i]+0.0025, f'User: {user_utt[itm]}', rotation=50, horizontalalignment='left', verticalalignment='bottom', size='medium', color='black')\n",
    "                plt.text(itm+0.03, low_similarity_scores[i]+0.0054, f'LLM: {llm_utt[itm]}', rotation=50, horizontalalignment='left', verticalalignment='bottom', size='medium', color='black')\n",
    "\n",
    "\n",
    "    #plt.axhline(y=breakpoint_distance_threshold, color='r', linestyle='-')\n",
    "    Y = np.full(len(distances), breakpoint_distance_threshold)\n",
    "    plt.plot(X, Y, color='r', label='Breakpoint Threshold')\n",
    "    print(f\"Breakpoint Threshold: {breakpoint_distance_threshold}\")\n",
    "\n",
    "    # How many distances are actually above this one\n",
    "    num_distances_above_theshold = len([x for x in distances if x > breakpoint_distance_threshold]) # The amount of distances above the threshold\n",
    "    #plt.text(x=(len(distances)*.01), y=y_upper_bound/60, s=f\"{num_distances_above_theshold + 1} Chunks\")  #prints total splitted chunks\n",
    "\n",
    "    # To get the index of the distances that are above the threshold.  where to split the utterance\n",
    "    indices_above_thresh = [i for i, x in enumerate(distances) if x > breakpoint_distance_threshold] # The indices of those breakpoints on your list\n",
    "\n",
    "    # Start of the shading and text\n",
    "    colors = ['b', 'g', 'r', 'c', 'm', 'y', 'k']\n",
    "    for i, breakpoint_index in enumerate(indices_above_thresh):\n",
    "        start_index = 0 if i == 0 else indices_above_thresh[i - 1]\n",
    "        end_index = breakpoint_index if i < len(indices_above_thresh) - 1 else len(distances)\n",
    "\n",
    "        plt.axvspan(start_index, end_index, facecolor=colors[i % len(colors)], alpha=0.25)\n",
    "        plt.text(x=np.average([start_index, end_index]),\n",
    "                y=breakpoint_distance_threshold + (y_upper_bound)/ 20,\n",
    "                s=f\"\", horizontalalignment='center',\n",
    "                rotation='vertical')\n",
    "\n",
    "    # # Additional step to shade from the last breakpoint to the end of the dataset\n",
    "    if indices_above_thresh:\n",
    "        last_breakpoint = indices_above_thresh[-1]\n",
    "        if last_breakpoint < len(distances):\n",
    "            plt.axvspan(last_breakpoint, len(distances), facecolor=colors[len(indices_above_thresh) % len(colors)], alpha=0.25)\n",
    "            plt.text(x=np.average([last_breakpoint, len(distances)]),\n",
    "                    y=breakpoint_distance_threshold + (y_upper_bound)/ 20,\n",
    "                    s=f\"\",\n",
    "                    rotation='vertical')\n",
    "            \n",
    "    if schema == 1: #distance schema\n",
    "        plt.title(\"Utterance Chunks splitted as per their divergences\")\n",
    "        plt.xlabel(\"Sequence of Utterances\")\n",
    "        plt.ylabel(\"Cosine distance between sequential utterances\")\n",
    "        plt.legend()\n",
    "        plt.show()\n",
    "    if schema == 2:   #pairwise similarity schema\n",
    "        plt.title(\"User-LLM Utterance Pairwise Similarity\")\n",
    "        plt.xlabel(\"Sequence of User-LLM utterance pairs\")\n",
    "        plt.ylabel(\"Similarity score between user and LLM\")\n",
    "        plt.legend(loc='lower left')\n",
    "        plt.show()\n",
    "    if schema == 3:   #comp_avg similarity schema\n",
    "        plt.title(\"LLM Utterance Comparative Average Similarity\")\n",
    "        plt.xlabel(\"Sequence of LLM utterances\")\n",
    "        plt.ylabel(\"Comparative Similarity score of LLM w.r.t all User Utt\")\n",
    "        plt.legend(loc='lower left')\n",
    "        plt.show()\n",
    "\n",
    "pathname = '/home/devbox/test/Diversifying_uttr/data/Inq_weather/'\n",
    "read =  pd.read_csv(str(pathname + 'all_similarities.csv'))     \n",
    "#read = pd.read_csv('/home/devbox/test/Diversifying_uttr/data/Nav_unique/Nav_all_similarities.csv')\n",
    "#read2 = pd.read_csv('/home/devbox/test/Diversifying_uttr/data/Nav_unique/Nav_all_similarities.csv')\n",
    "\n",
    "comp_avg_similarities = read['Comparative Avg Similarity']\n",
    "pairwise_sim = read['Pairwise Similarity']\n",
    "user_utterances = read['User_utterance']\n",
    "llm_utterances = read['LLM_utterance']\n",
    "dist_plot(pairwise_sim, user_utterances, llm_utterances, 2)\n",
    "dist_plot(comp_avg_similarities, user_utterances, llm_utterances, 3)\n",
    "#dist_plot(user_uttr_dist, 1)\n",
    "#dist_plot(llm_uttr_dist, 1)\n",
    "\n",
    "\n",
    "#print(user_uttr_dist[:6])\n",
    "#print(llm_uttr_dist[:6])\n",
    "#print(user_llm_similarity[:6])"
   ]
  },
  {
   "cell_type": "code",
   "execution_count": null,
   "metadata": {},
   "outputs": [],
   "source": []
  },
  {
   "cell_type": "code",
   "execution_count": null,
   "metadata": {},
   "outputs": [],
   "source": []
  },
  {
   "cell_type": "code",
   "execution_count": null,
   "metadata": {},
   "outputs": [],
   "source": []
  }
 ],
 "metadata": {
  "kernelspec": {
   "display_name": "base",
   "language": "python",
   "name": "python3"
  },
  "language_info": {
   "codemirror_mode": {
    "name": "ipython",
    "version": 3
   },
   "file_extension": ".py",
   "mimetype": "text/x-python",
   "name": "python",
   "nbconvert_exporter": "python",
   "pygments_lexer": "ipython3",
   "version": "3.12.2"
  }
 },
 "nbformat": 4,
 "nbformat_minor": 2
}
