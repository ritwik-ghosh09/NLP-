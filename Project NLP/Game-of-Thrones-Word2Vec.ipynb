{
 "cells": [
  {
   "cell_type": "code",
   "execution_count": 1,
   "id": "13267574",
   "metadata": {},
   "outputs": [],
   "source": [
    "import numpy as np\n",
    "import pandas as pd"
   ]
  },
  {
   "cell_type": "code",
   "execution_count": 8,
   "id": "45b5f57d",
   "metadata": {},
   "outputs": [
    {
     "name": "stdout",
     "output_type": "stream",
     "text": [
      "Collecting gensim\n",
      "  Downloading gensim-4.1.2-cp38-cp38-win_amd64.whl (24.0 MB)\n",
      "Requirement already satisfied: numpy>=1.17.0 in c:\\users\\91842\\anaconda3\\lib\\site-packages (from gensim) (1.20.1)\n",
      "Requirement already satisfied: scipy>=0.18.1 in c:\\users\\91842\\anaconda3\\lib\\site-packages (from gensim) (1.6.2)\n",
      "Requirement already satisfied: Cython==0.29.23 in c:\\users\\91842\\anaconda3\\lib\\site-packages (from gensim) (0.29.23)\n",
      "Collecting smart-open>=1.8.1\n",
      "  Downloading smart_open-5.2.1-py3-none-any.whl (58 kB)\n",
      "Installing collected packages: smart-open, gensim\n",
      "Successfully installed gensim-4.1.2 smart-open-5.2.1\n"
     ]
    }
   ],
   "source": [
    "!pip install gensim"
   ]
  },
  {
   "cell_type": "code",
   "execution_count": 2,
   "id": "a577fae2",
   "metadata": {
    "ExecuteTime": {
     "end_time": "2024-03-01T02:43:38.398543600Z",
     "start_time": "2024-03-01T02:43:31.551888900Z"
    }
   },
   "outputs": [],
   "source": [
    "import gensim\n",
    "import os"
   ]
  },
  {
   "cell_type": "markdown",
   "source": [
    "**Building the corpus of sentences**"
   ],
   "metadata": {
    "collapsed": false
   },
   "id": "8e0d92e30a97fa58"
  },
  {
   "cell_type": "code",
   "execution_count": 4,
   "id": "139704db",
   "metadata": {
    "ExecuteTime": {
     "end_time": "2024-03-01T02:44:49.680327600Z",
     "start_time": "2024-03-01T02:44:04.823398400Z"
    }
   },
   "outputs": [],
   "source": [
    "from nltk import sent_tokenize, word_tokenize\n",
    "from nltk.corpus import stopwords\n",
    "from gensim.utils import simple_preprocess\n",
    "\n",
    "story = []\n",
    "stop_words = set(stopwords.words('english'))\n",
    "\n",
    "for filename in os.listdir('data'):\n",
    "    \n",
    "    f = open(os.path.join('data',filename))\n",
    "    corpus = f.read()\n",
    "    raw_sent = sent_tokenize(corpus)\n",
    "    for sent in raw_sent:\n",
    "        filtered_vocab = [word for word in word_tokenize(sent) if word.lower() not in stop_words]\n",
    "        filtered_sent = ' '.join(filtered_vocab)\n",
    "        story.append(simple_preprocess(filtered_sent))  #creates a list of filtered_sentence elements\n",
    "    "
   ]
  },
  {
   "cell_type": "code",
   "execution_count": 8,
   "id": "b2a30742",
   "metadata": {
    "ExecuteTime": {
     "end_time": "2024-03-01T02:47:40.086905900Z",
     "start_time": "2024-03-01T02:47:39.689085500Z"
    }
   },
   "outputs": [
    {
     "data": {
      "text/plain": "[['game',\n  'thrones',\n  'book',\n  'one',\n  'song',\n  'ice',\n  'fire',\n  'george',\n  'martin',\n  'prologue',\n  'start',\n  'back',\n  'gared',\n  'urged',\n  'woods',\n  'began',\n  'grow',\n  'dark',\n  'around'],\n ['wildlings', 'dead'],\n ['dead', 'frighten'],\n ['ser', 'waymar', 'royce', 'asked', 'hint', 'smile'],\n ['gared', 'rise', 'bait'],\n ['old', 'man', 'past', 'fifty', 'seen', 'lordlings', 'come', 'go'],\n ['dead', 'dead', 'said'],\n ['business', 'dead'],\n ['dead'],\n ['royce', 'asked', 'softly'],\n ['proof'],\n ['saw', 'gared', 'said'],\n ['says', 'dead', 'proof', 'enough'],\n ['known', 'would', 'drag', 'quarrel', 'sooner', 'later'],\n ['wished', 'later', 'rather', 'sooner'],\n ['mother', 'told', 'dead', 'men', 'sing', 'songs', 'put'],\n ['wet', 'nurse', 'said', 'thing', 'royce', 'replied'],\n ['never', 'believe', 'anything', 'hear', 'woman', 'tit'],\n ['things', 'learned', 'even', 'dead'],\n ['voice', 'echoed', 'loud', 'twilit', 'forest']]"
     },
     "execution_count": 8,
     "metadata": {},
     "output_type": "execute_result"
    }
   ],
   "source": [
    "story[:20]"
   ]
  },
  {
   "cell_type": "code",
   "execution_count": 10,
   "id": "56e82e5f",
   "metadata": {
    "ExecuteTime": {
     "end_time": "2024-03-01T02:52:32.822868Z",
     "start_time": "2024-03-01T02:52:32.594482900Z"
    }
   },
   "outputs": [],
   "source": [
    "#Vectorization into a 100d space\n",
    "model = gensim.models.Word2Vec(\n",
    "    window=10,      #10-gram window\n",
    "    min_count=2     #sentences with at lest 2 words\n",
    ")"
   ]
  },
  {
   "cell_type": "markdown",
   "source": [
    "**Extracting unique words**"
   ],
   "metadata": {
    "collapsed": false
   },
   "id": "69b6686f61fe1fc5"
  },
  {
   "cell_type": "code",
   "execution_count": 14,
   "id": "dd99ef10",
   "metadata": {
    "ExecuteTime": {
     "end_time": "2024-03-01T03:06:27.057117100Z",
     "start_time": "2024-03-01T03:06:26.496547200Z"
    }
   },
   "outputs": [],
   "source": [
    "model.build_vocab(story)"
   ]
  },
  {
   "cell_type": "markdown",
   "source": [
    "**Training**"
   ],
   "metadata": {
    "collapsed": false
   },
   "id": "4dc5d11d109d0f97"
  },
  {
   "cell_type": "code",
   "execution_count": 15,
   "id": "f51fb739",
   "metadata": {
    "ExecuteTime": {
     "end_time": "2024-03-01T03:06:37.891362Z",
     "start_time": "2024-03-01T03:06:33.189236200Z"
    }
   },
   "outputs": [
    {
     "data": {
      "text/plain": "(4434515, 4616340)"
     },
     "execution_count": 15,
     "metadata": {},
     "output_type": "execute_result"
    }
   ],
   "source": [
    "model.train(story, total_examples=model.corpus_count, epochs=model.epochs)"
   ]
  },
  {
   "cell_type": "code",
   "execution_count": 16,
   "id": "073e6f4e",
   "metadata": {
    "ExecuteTime": {
     "end_time": "2024-03-01T03:07:19.557321700Z",
     "start_time": "2024-03-01T03:07:19.050499300Z"
    }
   },
   "outputs": [
    {
     "data": {
      "text/plain": "[('stormborn', 0.8911494016647339),\n ('unburnt', 0.8871327042579651),\n ('rhaella', 0.8391223549842834),\n ('viserys', 0.8156229257583618),\n ('targaryen', 0.8031334280967712),\n ('regent', 0.8017124533653259),\n ('myrcella', 0.7973771095275879),\n ('court', 0.795520544052124),\n ('consort', 0.7900921106338501),\n ('elia', 0.7897936105728149)]"
     },
     "execution_count": 16,
     "metadata": {},
     "output_type": "execute_result"
    }
   ],
   "source": [
    "model.wv.most_similar('daenerys')"
   ]
  },
  {
   "cell_type": "code",
   "execution_count": 11,
   "id": "2b235d21",
   "metadata": {},
   "outputs": [
    {
     "data": {
      "text/plain": [
       "'jon'"
      ]
     },
     "execution_count": 11,
     "metadata": {},
     "output_type": "execute_result"
    }
   ],
   "source": [
    "model.wv.doesnt_match(['jon','rikon','robb','arya','sansa','bran'])"
   ]
  },
  {
   "cell_type": "code",
   "execution_count": 18,
   "id": "ba332386",
   "metadata": {
    "ExecuteTime": {
     "end_time": "2024-03-01T03:10:11.200862300Z",
     "start_time": "2024-03-01T03:10:10.834307700Z"
    }
   },
   "outputs": [
    {
     "data": {
      "text/plain": "array([ 0.06087454,  0.22472289, -1.5428451 , -0.09798234,  0.34599316,\n       -1.1967156 ,  1.0271225 , -1.2181706 ,  0.28867447,  0.6482783 ,\n       -1.5667027 , -1.0073705 , -1.1044483 ,  0.08613513, -0.25862864,\n       -0.0931436 ,  1.0841956 , -0.41967374,  0.36977082,  0.98510957,\n       -0.47680908,  0.4307621 , -0.01803811, -0.56367236, -1.7331791 ,\n       -1.4686623 , -0.27115566, -1.8720524 ,  0.5501677 ,  1.7635877 ,\n        1.1755773 ,  0.09396222, -0.54074734,  0.66806984, -1.3330129 ,\n       -1.000873  ,  0.30844724, -0.09754684,  0.1600971 , -0.1819655 ,\n        1.21667   ,  1.7139126 ,  0.47280842,  0.4531746 ,  1.1852827 ,\n       -1.33135   ,  1.5246102 ,  0.54882437, -0.7836798 , -0.68735236,\n        0.7709872 , -0.11376972, -1.7854091 ,  0.6651417 , -0.35651174,\n       -0.9539841 ,  1.6397679 ,  2.0584826 , -1.3922762 , -0.8055247 ,\n        1.4299219 ,  0.44587424, -0.75625277, -1.2232834 ,  1.2494426 ,\n       -2.0433164 ,  1.0256153 ,  1.6725074 ,  0.57744056,  0.6624166 ,\n       -1.8318541 ,  0.33438137,  0.8950039 , -0.2896881 ,  0.66861755,\n        1.580717  ,  0.09953385, -1.8534997 , -0.23373814, -0.8303419 ,\n        0.37630945,  2.166901  , -0.9187947 ,  0.38261405,  0.9452235 ,\n        0.2602416 ,  0.9366858 ,  0.5877729 ,  0.27111793,  0.3763124 ,\n       -1.3291471 , -0.6095938 ,  0.609227  ,  0.50352085,  0.07003124,\n       -1.9042875 ,  1.8717517 ,  0.11186947,  0.05382342, -0.85528606],\n      dtype=float32)"
     },
     "execution_count": 18,
     "metadata": {},
     "output_type": "execute_result"
    }
   ],
   "source": [
    "model.wv['jon']"
   ]
  },
  {
   "cell_type": "code",
   "execution_count": 14,
   "id": "14101f96",
   "metadata": {},
   "outputs": [
    {
     "data": {
      "text/plain": [
       "0.8534194"
      ]
     },
     "execution_count": 14,
     "metadata": {},
     "output_type": "execute_result"
    }
   ],
   "source": [
    "model.wv.similarity('arya','sansa')"
   ]
  },
  {
   "cell_type": "code",
   "execution_count": 19,
   "id": "b978159e",
   "metadata": {
    "ExecuteTime": {
     "end_time": "2024-03-01T03:11:21.604538600Z",
     "start_time": "2024-03-01T03:11:21.355520500Z"
    }
   },
   "outputs": [
    {
     "data": {
      "text/plain": "0.84129274"
     },
     "execution_count": 19,
     "metadata": {},
     "output_type": "execute_result"
    }
   ],
   "source": [
    "model.wv.similarity('winterfell','stark')"
   ]
  },
  {
   "cell_type": "code",
   "execution_count": 23,
   "id": "ed358183",
   "metadata": {
    "ExecuteTime": {
     "end_time": "2024-03-01T03:13:56.719071100Z",
     "start_time": "2024-03-01T03:13:56.583144600Z"
    }
   },
   "outputs": [
    {
     "data": {
      "text/plain": "0.33805794"
     },
     "execution_count": 23,
     "metadata": {},
     "output_type": "execute_result"
    }
   ],
   "source": [
    "model.wv.similarity('lannister','rob')"
   ]
  },
  {
   "cell_type": "code",
   "execution_count": 88,
   "id": "959c5f26",
   "metadata": {},
   "outputs": [
    {
     "data": {
      "text/plain": [
       "array([[-0.11974421, -0.18864349,  0.20628448, ..., -0.11863696,\n",
       "         0.00497017,  0.02195935],\n",
       "       [-0.25077537, -0.03254947,  0.22424528, ..., -0.10946808,\n",
       "         0.02671707,  0.08537447],\n",
       "       [ 0.06232982, -0.02960947, -0.04660568, ..., -0.09887758,\n",
       "         0.09963721, -0.08160619],\n",
       "       ...,\n",
       "       [-0.03013285,  0.04750119, -0.01497496, ...,  0.00407487,\n",
       "         0.01391101,  0.05480921],\n",
       "       [-0.00955141,  0.07727367,  0.11235627, ..., -0.03055063,\n",
       "        -0.00149143, -0.13749485],\n",
       "       [-0.04895716,  0.05263472,  0.12851088, ..., -0.05369092,\n",
       "         0.09577035, -0.07121768]], dtype=float32)"
      ]
     },
     "execution_count": 88,
     "metadata": {},
     "output_type": "execute_result"
    }
   ],
   "source": [
    "model.wv.get_normed_vectors()   #shape-> (17418, 100)"
   ]
  },
  {
   "cell_type": "code",
   "execution_count": 24,
   "id": "683f518f",
   "metadata": {
    "ExecuteTime": {
     "end_time": "2024-03-01T03:14:15.983482900Z",
     "start_time": "2024-03-01T03:14:15.952009500Z"
    }
   },
   "outputs": [],
   "source": [
    "y = model.wv.index_to_key"
   ]
  },
  {
   "cell_type": "code",
   "execution_count": 26,
   "id": "2076548a",
   "metadata": {
    "ExecuteTime": {
     "end_time": "2024-03-01T03:15:02.451549900Z",
     "start_time": "2024-03-01T03:15:02.290655900Z"
    }
   },
   "outputs": [
    {
     "name": "stdout",
     "output_type": "stream",
     "text": [
      "17418\n"
     ]
    },
    {
     "data": {
      "text/plain": "['said',\n 'lord',\n 'would',\n 'one',\n 'ser',\n 'could',\n 'man',\n 'king',\n 'men',\n 'back',\n 'well',\n 'like',\n 'jon',\n 'father',\n 'old',\n 'hand',\n 'even',\n 'tyrion',\n 'never',\n 'see',\n 'know',\n 'made',\n 'eyes',\n 'black',\n 'told',\n 'lady',\n 'thought',\n 'time',\n 'long',\n 'might',\n 'us',\n 'come',\n 'still',\n 'face',\n 'head',\n 'red',\n 'way',\n 'boy',\n 'page',\n 'must',\n 'queen',\n 'good',\n 'two',\n 'brother',\n 'night',\n 'little',\n 'took',\n 'came',\n 'though',\n 'say',\n 'three',\n 'away',\n 'dead',\n 'son',\n 'blood',\n 'take',\n 'go',\n 'half',\n 'make',\n 'arya',\n 'saw',\n 'day',\n 'white',\n 'jaime',\n 'first',\n 'look',\n 'want',\n 'much',\n 'enough',\n 'sword',\n 'tell',\n 'girl',\n 'bran',\n 'great',\n 'looked',\n 'll',\n 'left',\n 'knew',\n 'asked',\n 'gave',\n 'maester',\n 'called',\n 'wall',\n 'every',\n 'heard',\n 'sansa',\n 'let',\n 'yet',\n 'went',\n 'turned',\n 'dany',\n 'need',\n 'behind',\n 'around',\n 'woman',\n 'another',\n 'snow',\n 'beneath',\n 'across',\n 'knight',\n 'keep',\n 'grace',\n 'found',\n 'gold',\n 'last',\n 'cersei',\n 'castle',\n 'stark',\n 'gods',\n 'think',\n 'hair',\n 'many',\n 'feet',\n 'hands',\n 'stannis',\n 'mother',\n 'catelyn',\n 'robert',\n 'seemed',\n 'prince',\n 'may',\n 'ever',\n 'robb',\n 'done',\n 'find',\n 'lannister',\n 'hear',\n 'name',\n 'grey',\n 'horse',\n 'high',\n 'put',\n 'stone',\n 'wine',\n 'hard',\n 'water',\n 'upon',\n 'fire',\n 'iron',\n 'voice',\n 'gone',\n 'give',\n 'sam',\n 'better',\n 'seen',\n 'shall',\n 'ned',\n 'always',\n 'years',\n 'dark',\n 'place',\n 'small',\n 'cold',\n 'winterfell',\n 'hundred',\n 'stood',\n 'end',\n 'sister',\n 'words',\n 'sea',\n 'right',\n 'nothing',\n 'walls',\n 'fingers',\n 'cloak',\n 'house',\n 'young',\n 'beside',\n 'get',\n 'mouth',\n 'seven',\n 'watch',\n 'door',\n 'joffrey',\n 'green',\n 'big',\n 'sent',\n 'perhaps',\n 'almost',\n 'wanted',\n 'daughter',\n 'true',\n 'leave',\n 'wind',\n 'city',\n 'light',\n 'arms',\n 'children',\n 'sweet',\n 'others',\n 'lost',\n 'theon',\n 'felt',\n 're',\n 'side',\n 'yes',\n 'brothers',\n 'best',\n 'die',\n 'brought',\n 'soon',\n 'far',\n 'died',\n 'north',\n 'child',\n 'fear',\n 'along',\n 'word',\n 'brienne',\n 'taken',\n 'battle',\n 'help',\n 'new',\n 'tywin',\n 'davos',\n 'lords',\n 'something',\n 'mean',\n 'wife',\n 'hall',\n 'rest',\n 'kill',\n 'strong',\n 'steel',\n 'began',\n 'sound',\n 'dragon',\n 'past',\n 'life',\n 'tower',\n 'killed',\n 'arm',\n 'tried',\n 'sons',\n 'free',\n 'thing',\n 'days',\n 'bear',\n 'bloody',\n 'heart',\n 'pale',\n 'love',\n 'sat',\n 'moment',\n 'bring',\n 'bed',\n 'close',\n 'knights',\n 'cut',\n 'wolf',\n 'horses',\n 'death',\n 'smile',\n 'inside',\n 'four',\n 'brown',\n 'dragons',\n 'hot',\n 'silver',\n 'part',\n 'bastard',\n 'open',\n 'thousand',\n 'landing',\n 'uncle',\n 'going',\n 'blue',\n 'air',\n 'captain',\n 'please',\n 'laughed',\n 'river',\n 'rose',\n 'sun',\n 'fell',\n 'war',\n 'golden',\n 'sleep',\n 'swords',\n 'without',\n 'speak',\n 'renly',\n 'certain',\n 'fool',\n 'full',\n 'beyond',\n 'feel',\n 'send',\n 'tongue',\n 'fight',\n 'got',\n 'rode',\n 'set',\n 'thick',\n 'throat',\n 'world',\n 'legs',\n 'deep',\n 'call',\n 'honor',\n 'rock',\n 'trees',\n 'tall',\n 'table',\n 'pulled',\n 'broken',\n 'mormont',\n 'women',\n 'steps',\n 'things',\n 'next',\n 'hodor',\n 'heavy',\n 'burned',\n 'oh',\n 'toward',\n 'together',\n 'skin',\n 'given',\n 'since',\n 'alone',\n 'moved',\n 'dwarf',\n 'smiled',\n 'storm',\n 'raised',\n 'ride',\n 'ask',\n 'eye',\n 'hope',\n 'reached',\n 'soft',\n 'second',\n 'frey',\n 'remember',\n 've',\n 'someone',\n 'remembered',\n 'coming',\n 'meant',\n 'hold',\n 'morning',\n 'ten',\n 'teeth',\n 'else',\n 'throne',\n 'command',\n 'fat',\n 'truth',\n 'commander',\n 'walder',\n 'doubt',\n 'ground',\n 'jorah',\n 'cup',\n 'outside',\n 'known',\n 'wore',\n 'ran',\n 'gate',\n 'held',\n 'room',\n 'closed',\n 'home',\n 'matter',\n 'sky',\n 'wood',\n 'south',\n 'people',\n 'dozen',\n 'wed',\n 'neck',\n 'riverrun',\n 'food',\n 'instead',\n 'near',\n 'talk',\n 'turn',\n 'none',\n 'ships',\n 'tyrell',\n 'moon',\n 'lips',\n 'shadow',\n 'summer',\n 'bolton',\n 'watched',\n 'times',\n 'leather',\n 'varys',\n 'shoulder',\n 'warm',\n 'septon',\n 'caught',\n 'believe',\n 'least',\n 'guards',\n 'answer',\n 'blade',\n 'god',\n 'ice',\n 'wondered',\n 'shield',\n 'mine',\n 'barristan',\n 'opened',\n 'armor',\n 'safe',\n 'six',\n 'and',\n 'kept',\n 'wish',\n 'return',\n 'tommen',\n 'used',\n 'smell',\n 'less',\n 'foot',\n 'squire',\n 'floor',\n 'eddard',\n 'empty',\n 'followed',\n 'run',\n 'friends',\n 'serve',\n 'beard',\n 'boys',\n 'wedding',\n 'cloaks',\n 'baratheon',\n 'eat',\n 'wrong',\n 'daenerys',\n 'ghost',\n 'five',\n 'hound',\n 'flesh',\n 'sight',\n 'ship',\n 'strength',\n 'nose',\n 'returned',\n 'bones',\n 'crown',\n 'yellow',\n 'chest',\n 'covered',\n 'says',\n 'commanded',\n 'petyr',\n 'sometimes',\n 'aemon',\n 'filled',\n 'led',\n 'friend',\n 'common',\n 'aye',\n 'fighting',\n 'spoke',\n 'show',\n 'flames',\n 'aside',\n 'asha',\n 'huge',\n 'lysa',\n 'crow',\n 'belly',\n 'master',\n 'seem',\n 'breath',\n 'yard',\n 'gates',\n 'waiting',\n 'within',\n 'looking',\n 'wet',\n 'wooden',\n 'realm',\n 'thin',\n 'work',\n 'bad',\n 'use',\n 'promised',\n 'later',\n 'husband',\n 'tree',\n 'grew',\n 'onto',\n 'loved',\n 'wildlings',\n 'girls',\n 'afraid',\n 'greyjoy',\n 'shoulders',\n 'rain',\n 'shouted',\n 'walked',\n 'maid',\n 'late',\n 'mance',\n 'remained',\n 'guard',\n 'meereen',\n 'littlefinger',\n 'fall',\n 'liked',\n 'margaery',\n 'dog',\n 'year',\n 'hurt',\n 'passed',\n 'taste',\n 'balon',\n 'you',\n 'lay',\n 'drew',\n 'dothraki',\n 'song',\n 'realized',\n 'pushed',\n 'spear',\n 'sure',\n 'named',\n 'brave',\n 'stand',\n 'finally',\n 'whispered',\n 'reach',\n 'different',\n 'wo',\n 'suddenly',\n 'wolves',\n 'poor',\n 'kingsguard',\n 'stay',\n 'drogo',\n 'arryn',\n 'stop',\n 'kingdoms',\n 'ears',\n 'edmure',\n 'broke',\n 'burning',\n 'princess',\n 'faces',\n 'lannisters',\n 'dream',\n 'axe',\n 'direwolf',\n 'tears',\n 'west',\n 'heir',\n 'either',\n 'drink',\n 'darkness',\n 'clegane',\n 'raven',\n 'pointed',\n 'try',\n 'hill',\n 'pain',\n 'forward',\n 'sworn',\n 'lie',\n 'khal',\n 'truly',\n 'kings',\n 'dagger',\n 'seat',\n 'grown',\n 'road',\n 'born',\n 'care',\n 'harrenhal',\n 'bronn',\n 'round',\n 'helm',\n 'feast',\n 'understand',\n 'meat',\n 'pycelle',\n 'quick',\n 'amongst',\n 'lifted',\n 'longer',\n 'reminded',\n 'whilst',\n 'maybe',\n 'mountain',\n 'short',\n 'step',\n 'rodrik',\n 'ones',\n 'pretty',\n 'melisandre',\n 'third',\n 'bit',\n 'stopped',\n 'worse',\n 'lands',\n 'aegon',\n 'sit',\n 'sharp',\n 'victarion',\n 'save',\n 'knows',\n 'live',\n 'smoke',\n 'whose',\n 'window',\n 'horn',\n 'pray',\n 'leg',\n 'younger',\n 'westeros',\n 'heads',\n 'silk',\n 'twenty',\n 'ago',\n 'slaves',\n 'pie',\n 'septa',\n 'peace',\n 'wants',\n 'low',\n 'bread',\n 'hizdahr',\n 'mind',\n 'laugh',\n 'east',\n 'blind',\n 'towers',\n 'sooner',\n 'bright',\n 'reek',\n 'mad',\n 'older',\n 'making',\n 'camp',\n 'slain',\n 'coin',\n 'served',\n 'salt',\n 'walk',\n 'wait',\n 'narrow',\n 'point',\n 'drowned',\n 'glanced',\n 'cheeks',\n 'cousin',\n 'luwin',\n 'knife',\n 'stepped',\n 'sort',\n 'riding',\n 'often',\n 'quiet',\n 'touched',\n 'targaryen',\n 'shook',\n 'naked',\n 'twisted',\n 'loras',\n 'choice',\n 'forgotten',\n 'lion',\n 'kevan',\n 'fish',\n 'silence',\n 'read',\n 'ramsay',\n 'hung',\n 'gift',\n 'fallen',\n 'running',\n 'replied',\n 'large',\n 'knees',\n 'silent',\n 'fought',\n 'ahead',\n 'cat',\n 'company',\n 'sept',\n 'beautiful',\n 'needs',\n 'rhaegar',\n 'dawn',\n 'dogs',\n 'casterly',\n 'pass',\n 'knee',\n 'dorne',\n 'tully',\n 'mud',\n 'stupid',\n 'body',\n 'singer',\n 'gregor',\n 'court',\n 'meera',\n 'trying',\n 'age',\n 'top',\n 'me',\n 'kind',\n 'ca',\n 'swear',\n 'offered',\n 'gendry',\n 'clothes',\n 'leaves',\n 'closer',\n 'whole',\n 'kiss',\n 'anything',\n 'agreed',\n 'pay',\n 'whatever',\n 'wonder',\n 'threw',\n 'climbed',\n 'answered',\n 'saying',\n 'wide',\n 'saddle',\n 'comes',\n 'stars',\n 'stones',\n 'chain',\n 'trust',\n 'host',\n 'trident',\n 'pleased',\n 'his',\n 'fair',\n 'spears',\n 'dry',\n 'yunkai',\n 'insisted',\n 'dying',\n 'eight',\n 'hour',\n 'ear',\n 'fast',\n 'service',\n 'carried',\n 'doors',\n 'ought',\n 'fist',\n 'mail',\n 'woods',\n 'council',\n 'milk',\n 'join',\n 'crossed',\n 'thank',\n 'needed',\n 'wildling',\n 'fine',\n 'gilly',\n 'quentyn',\n 'finger',\n 'tent',\n 'shadows',\n 'land',\n 'win',\n 'boots',\n 'helped',\n 'bird',\n 'somehow',\n 'crows',\n 'folk',\n 'imp',\n 'names',\n 'letter',\n 'banners',\n 'kissed',\n 'winter',\n 'angry',\n 'pink',\n 'screamed',\n 'frightened',\n 'alive',\n 'learn',\n 'torch',\n 'eunuch',\n 'chair',\n 'daughters',\n 'watching',\n 'fires',\n 'tarly',\n 'harm',\n 'dragonstone',\n 'serving',\n 'standing',\n 'nine',\n 'learned',\n 'easy',\n 'neither',\n 'question',\n 'wings',\n 'drunk',\n 'myrcella',\n 'sisters',\n 'nodded',\n 'sail',\n 'priest',\n 'forth',\n 'harbor',\n 'warned',\n 'bone',\n 'giant',\n 'slipped',\n 'field',\n 'slow',\n 'slid',\n 'dreams',\n 'falling',\n 'bronze',\n 'slowly',\n 'promise',\n 'atop',\n 'rise',\n 'slave',\n 'move',\n 'whore',\n 'line',\n 'illyrio',\n 'laughter',\n 'makes',\n 'pyke',\n 'flowers',\n 'faced',\n 'earth',\n 'grass',\n 'declared',\n 'loose',\n 'bay',\n 'lived',\n 'front',\n 'power',\n 'twice',\n 'viserys',\n 'happened',\n 'cell',\n 'play',\n 'dance',\n 'oldtown',\n 'break',\n 'chains',\n 'aerys',\n 'surely',\n 'clean',\n 'jeyne',\n 'claim',\n 'eyrie',\n 'unless',\n 'cried',\n 'fresh',\n 'laid',\n 'pair',\n 'craster',\n 'tormund',\n 'quite',\n 'sad',\n 'shouting',\n 'met',\n 'game',\n 'morrow',\n 'already',\n 'touch',\n 'rule',\n 'softly',\n 'woke',\n 'count',\n 'mounted',\n 'steward',\n 'afterward',\n 'started',\n 'sense',\n 'the',\n 'hide',\n 'sudden',\n 'waters',\n 'at',\n 'highgarden',\n 'jojen',\n 'captive',\n 'cheek',\n 'ravens',\n 'follow',\n 'course',\n 'anyone',\n 'among',\n 'however',\n 'means',\n 'taking',\n 'purple',\n 'wench',\n 'rickon',\n 'noble',\n 'bare',\n 'carved',\n 'grenn',\n 'waited',\n 'murdered',\n 'weak',\n 'cruel',\n 'vale',\n 'thinking',\n 'rising',\n 'roof',\n 'roose',\n 'hidden',\n 'eyed',\n 'arrow',\n 'forest',\n 'blow',\n 'town',\n 'hungry',\n 'voices',\n 'today',\n 'wise',\n 'growing',\n 'grand',\n 'army',\n 'sorry',\n 'protect',\n 'tale',\n 'wound',\n 'griff',\n 'cry',\n 'beric',\n 'twins',\n 'weight',\n 'inn',\n 'ugly',\n 'forget',\n 'ygritte',\n 'dressed',\n 'rolled',\n 'knelt',\n 'sick',\n 'hoped',\n 'enemies',\n 'climb',\n 'chance',\n 'daario',\n 'marry',\n 'fur',\n 'grow',\n 'seems',\n 'courage',\n 'lad',\n 'whether',\n 'smiling',\n 'freys',\n 'laughing',\n 'fleet',\n 'bride',\n 'corpse',\n 'breasts',\n 'square',\n 'marriage',\n 'unsullied',\n 'meet',\n 'appeared',\n 'kingslayer',\n 'showed',\n 'drank',\n 'wool',\n 'alayne',\n 'edge',\n 'frozen',\n 'mercy',\n 'mountains',\n 'trouble',\n 'march',\n 'arrows',\n 'slynt',\n 'wear',\n 'ragged',\n 'shae',\n 'bound',\n 'allowed',\n 'sing',\n 'decided',\n 'recall',\n 'welcome',\n 'offer',\n 'swore',\n 'everything',\n 'spread',\n 'ill',\n 'seated',\n 'quickly',\n 'mace',\n ...]"
     },
     "execution_count": 26,
     "metadata": {},
     "output_type": "execute_result"
    }
   ],
   "source": [
    "print(len(y))\n",
    "y   #listing unique words"
   ]
  },
  {
   "cell_type": "markdown",
   "source": [
    "**Scatter Plot for vector similarity** "
   ],
   "metadata": {
    "collapsed": false
   },
   "id": "6766dc6635be66d2"
  },
  {
   "cell_type": "code",
   "execution_count": 27,
   "id": "67604c5d",
   "metadata": {
    "ExecuteTime": {
     "end_time": "2024-03-01T03:16:04.484116100Z",
     "start_time": "2024-03-01T03:16:04.296074Z"
    }
   },
   "outputs": [],
   "source": [
    "from sklearn.decomposition import PCA"
   ]
  },
  {
   "cell_type": "code",
   "execution_count": 28,
   "id": "5aba7549",
   "metadata": {
    "ExecuteTime": {
     "end_time": "2024-03-01T03:17:35.723530Z",
     "start_time": "2024-03-01T03:17:35.700694700Z"
    }
   },
   "outputs": [],
   "source": [
    "pca = PCA(n_components=3)"
   ]
  },
  {
   "cell_type": "code",
   "execution_count": 29,
   "id": "cc7d0377",
   "metadata": {
    "ExecuteTime": {
     "end_time": "2024-03-01T03:17:39.686526100Z",
     "start_time": "2024-03-01T03:17:38.828185600Z"
    }
   },
   "outputs": [],
   "source": [
    "X = pca.fit_transform(model.wv.get_normed_vectors())"
   ]
  },
  {
   "cell_type": "code",
   "execution_count": 30,
   "id": "0511c867",
   "metadata": {
    "ExecuteTime": {
     "end_time": "2024-03-01T03:17:42.969986500Z",
     "start_time": "2024-03-01T03:17:42.960014200Z"
    }
   },
   "outputs": [
    {
     "data": {
      "text/plain": "(17418, 3)"
     },
     "execution_count": 30,
     "metadata": {},
     "output_type": "execute_result"
    }
   ],
   "source": [
    "X.shape"
   ]
  },
  {
   "cell_type": "code",
   "execution_count": 33,
   "id": "bb830a41",
   "metadata": {
    "ExecuteTime": {
     "end_time": "2024-03-01T03:22:05.999546800Z",
     "start_time": "2024-03-01T03:22:04.808356400Z"
    }
   },
   "outputs": [
    {
     "data": {
      "application/vnd.plotly.v1+json": {
       "data": [
        {
         "hovertemplate": "color=said<br>0=%{x}<br>1=%{y}<br>2=%{z}<extra></extra>",
         "legendgroup": "said",
         "marker": {
          "color": "#636efa",
          "symbol": "circle"
         },
         "mode": "markers",
         "name": "said",
         "scene": "scene",
         "showlegend": true,
         "x": [
          0.48506826162338257
         ],
         "y": [
          0.056990329176187515
         ],
         "z": [
          -0.226688951253891
         ],
         "type": "scatter3d"
        },
        {
         "hovertemplate": "color=lord<br>0=%{x}<br>1=%{y}<br>2=%{z}<extra></extra>",
         "legendgroup": "lord",
         "marker": {
          "color": "#EF553B",
          "symbol": "circle"
         },
         "mode": "markers",
         "name": "lord",
         "scene": "scene",
         "showlegend": true,
         "x": [
          0.3945750296115875
         ],
         "y": [
          0.5842598676681519
         ],
         "z": [
          -0.32263943552970886
         ],
         "type": "scatter3d"
        },
        {
         "hovertemplate": "color=would<br>0=%{x}<br>1=%{y}<br>2=%{z}<extra></extra>",
         "legendgroup": "would",
         "marker": {
          "color": "#00cc96",
          "symbol": "circle"
         },
         "mode": "markers",
         "name": "would",
         "scene": "scene",
         "showlegend": true,
         "x": [
          0.5247564315795898
         ],
         "y": [
          -0.08636138588190079
         ],
         "z": [
          0.31121137738227844
         ],
         "type": "scatter3d"
        },
        {
         "hovertemplate": "color=one<br>0=%{x}<br>1=%{y}<br>2=%{z}<extra></extra>",
         "legendgroup": "one",
         "marker": {
          "color": "#ab63fa",
          "symbol": "circle"
         },
         "mode": "markers",
         "name": "one",
         "scene": "scene",
         "showlegend": true,
         "x": [
          0.003836067160591483
         ],
         "y": [
          0.15460020303726196
         ],
         "z": [
          0.024438919499516487
         ],
         "type": "scatter3d"
        },
        {
         "hovertemplate": "color=ser<br>0=%{x}<br>1=%{y}<br>2=%{z}<extra></extra>",
         "legendgroup": "ser",
         "marker": {
          "color": "#FFA15A",
          "symbol": "circle"
         },
         "mode": "markers",
         "name": "ser",
         "scene": "scene",
         "showlegend": true,
         "x": [
          0.26401564478874207
         ],
         "y": [
          0.5816125869750977
         ],
         "z": [
          -0.45026496052742004
         ],
         "type": "scatter3d"
        },
        {
         "hovertemplate": "color=could<br>0=%{x}<br>1=%{y}<br>2=%{z}<extra></extra>",
         "legendgroup": "could",
         "marker": {
          "color": "#19d3f3",
          "symbol": "circle"
         },
         "mode": "markers",
         "name": "could",
         "scene": "scene",
         "showlegend": true,
         "x": [
          0.007796979043632746
         ],
         "y": [
          -0.14701788127422333
         ],
         "z": [
          0.23988103866577148
         ],
         "type": "scatter3d"
        },
        {
         "hovertemplate": "color=man<br>0=%{x}<br>1=%{y}<br>2=%{z}<extra></extra>",
         "legendgroup": "man",
         "marker": {
          "color": "#FF6692",
          "symbol": "circle"
         },
         "mode": "markers",
         "name": "man",
         "scene": "scene",
         "showlegend": true,
         "x": [
          0.03174993023276329
         ],
         "y": [
          0.11410325020551682
         ],
         "z": [
          -0.15780702233314514
         ],
         "type": "scatter3d"
        },
        {
         "hovertemplate": "color=king<br>0=%{x}<br>1=%{y}<br>2=%{z}<extra></extra>",
         "legendgroup": "king",
         "marker": {
          "color": "#B6E880",
          "symbol": "circle"
         },
         "mode": "markers",
         "name": "king",
         "scene": "scene",
         "showlegend": true,
         "x": [
          0.3713393807411194
         ],
         "y": [
          0.5134773850440979
         ],
         "z": [
          -0.05790725722908974
         ],
         "type": "scatter3d"
        },
        {
         "hovertemplate": "color=men<br>0=%{x}<br>1=%{y}<br>2=%{z}<extra></extra>",
         "legendgroup": "men",
         "marker": {
          "color": "#FF97FF",
          "symbol": "circle"
         },
         "mode": "markers",
         "name": "men",
         "scene": "scene",
         "showlegend": true,
         "x": [
          0.0647551417350769
         ],
         "y": [
          0.48540258407592773
         ],
         "z": [
          0.36418476700782776
         ],
         "type": "scatter3d"
        },
        {
         "hovertemplate": "color=back<br>0=%{x}<br>1=%{y}<br>2=%{z}<extra></extra>",
         "legendgroup": "back",
         "marker": {
          "color": "#FECB52",
          "symbol": "circle"
         },
         "mode": "markers",
         "name": "back",
         "scene": "scene",
         "showlegend": true,
         "x": [
          -0.262469083070755
         ],
         "y": [
          0.00366782583296299
         ],
         "z": [
          -0.00961484108120203
         ],
         "type": "scatter3d"
        },
        {
         "hovertemplate": "color=well<br>0=%{x}<br>1=%{y}<br>2=%{z}<extra></extra>",
         "legendgroup": "well",
         "marker": {
          "color": "#636efa",
          "symbol": "circle"
         },
         "mode": "markers",
         "name": "well",
         "scene": "scene",
         "showlegend": true,
         "x": [
          0.4853707253932953
         ],
         "y": [
          0.17541779577732086
         ],
         "z": [
          0.20680250227451324
         ],
         "type": "scatter3d"
        },
        {
         "hovertemplate": "color=like<br>0=%{x}<br>1=%{y}<br>2=%{z}<extra></extra>",
         "legendgroup": "like",
         "marker": {
          "color": "#EF553B",
          "symbol": "circle"
         },
         "mode": "markers",
         "name": "like",
         "scene": "scene",
         "showlegend": true,
         "x": [
          -0.23984549939632416
         ],
         "y": [
          -0.18729223310947418
         ],
         "z": [
          0.17087353765964508
         ],
         "type": "scatter3d"
        },
        {
         "hovertemplate": "color=jon<br>0=%{x}<br>1=%{y}<br>2=%{z}<extra></extra>",
         "legendgroup": "jon",
         "marker": {
          "color": "#00cc96",
          "symbol": "circle"
         },
         "mode": "markers",
         "name": "jon",
         "scene": "scene",
         "showlegend": true,
         "x": [
          0.024168768897652626
         ],
         "y": [
          -0.004321732558310032
         ],
         "z": [
          -0.13757124543190002
         ],
         "type": "scatter3d"
        },
        {
         "hovertemplate": "color=father<br>0=%{x}<br>1=%{y}<br>2=%{z}<extra></extra>",
         "legendgroup": "father",
         "marker": {
          "color": "#ab63fa",
          "symbol": "circle"
         },
         "mode": "markers",
         "name": "father",
         "scene": "scene",
         "showlegend": true,
         "x": [
          0.6402989029884338
         ],
         "y": [
          0.3290264308452606
         ],
         "z": [
          -0.13409946858882904
         ],
         "type": "scatter3d"
        },
        {
         "hovertemplate": "color=old<br>0=%{x}<br>1=%{y}<br>2=%{z}<extra></extra>",
         "legendgroup": "old",
         "marker": {
          "color": "#FFA15A",
          "symbol": "circle"
         },
         "mode": "markers",
         "name": "old",
         "scene": "scene",
         "showlegend": true,
         "x": [
          0.008314457722008228
         ],
         "y": [
          0.2936818301677704
         ],
         "z": [
          -0.030292971059679985
         ],
         "type": "scatter3d"
        },
        {
         "hovertemplate": "color=hand<br>0=%{x}<br>1=%{y}<br>2=%{z}<extra></extra>",
         "legendgroup": "hand",
         "marker": {
          "color": "#19d3f3",
          "symbol": "circle"
         },
         "mode": "markers",
         "name": "hand",
         "scene": "scene",
         "showlegend": true,
         "x": [
          -0.10403218865394592
         ],
         "y": [
          0.14004266262054443
         ],
         "z": [
          -0.4097239673137665
         ],
         "type": "scatter3d"
        },
        {
         "hovertemplate": "color=even<br>0=%{x}<br>1=%{y}<br>2=%{z}<extra></extra>",
         "legendgroup": "even",
         "marker": {
          "color": "#FF6692",
          "symbol": "circle"
         },
         "mode": "markers",
         "name": "even",
         "scene": "scene",
         "showlegend": true,
         "x": [
          0.08463184535503387
         ],
         "y": [
          -0.12895548343658447
         ],
         "z": [
          0.4244493544101715
         ],
         "type": "scatter3d"
        },
        {
         "hovertemplate": "color=tyrion<br>0=%{x}<br>1=%{y}<br>2=%{z}<extra></extra>",
         "legendgroup": "tyrion",
         "marker": {
          "color": "#B6E880",
          "symbol": "circle"
         },
         "mode": "markers",
         "name": "tyrion",
         "scene": "scene",
         "showlegend": true,
         "x": [
          0.10528551787137985
         ],
         "y": [
          -0.17870891094207764
         ],
         "z": [
          -0.342357873916626
         ],
         "type": "scatter3d"
        },
        {
         "hovertemplate": "color=never<br>0=%{x}<br>1=%{y}<br>2=%{z}<extra></extra>",
         "legendgroup": "never",
         "marker": {
          "color": "#FF97FF",
          "symbol": "circle"
         },
         "mode": "markers",
         "name": "never",
         "scene": "scene",
         "showlegend": true,
         "x": [
          0.4580838084220886
         ],
         "y": [
          -0.21301725506782532
         ],
         "z": [
          0.13577717542648315
         ],
         "type": "scatter3d"
        },
        {
         "hovertemplate": "color=see<br>0=%{x}<br>1=%{y}<br>2=%{z}<extra></extra>",
         "legendgroup": "see",
         "marker": {
          "color": "#FECB52",
          "symbol": "circle"
         },
         "mode": "markers",
         "name": "see",
         "scene": "scene",
         "showlegend": true,
         "x": [
          0.08288583904504776
         ],
         "y": [
          -0.07059122622013092
         ],
         "z": [
          0.13436411321163177
         ],
         "type": "scatter3d"
        },
        {
         "hovertemplate": "color=know<br>0=%{x}<br>1=%{y}<br>2=%{z}<extra></extra>",
         "legendgroup": "know",
         "marker": {
          "color": "#636efa",
          "symbol": "circle"
         },
         "mode": "markers",
         "name": "know",
         "scene": "scene",
         "showlegend": true,
         "x": [
          0.666056215763092
         ],
         "y": [
          -0.11093567311763763
         ],
         "z": [
          0.17103539407253265
         ],
         "type": "scatter3d"
        },
        {
         "hovertemplate": "color=made<br>0=%{x}<br>1=%{y}<br>2=%{z}<extra></extra>",
         "legendgroup": "made",
         "marker": {
          "color": "#EF553B",
          "symbol": "circle"
         },
         "mode": "markers",
         "name": "made",
         "scene": "scene",
         "showlegend": true,
         "x": [
          -0.1112765371799469
         ],
         "y": [
          -0.13132908940315247
         ],
         "z": [
          0.0903407484292984
         ],
         "type": "scatter3d"
        },
        {
         "hovertemplate": "color=eyes<br>0=%{x}<br>1=%{y}<br>2=%{z}<extra></extra>",
         "legendgroup": "eyes",
         "marker": {
          "color": "#00cc96",
          "symbol": "circle"
         },
         "mode": "markers",
         "name": "eyes",
         "scene": "scene",
         "showlegend": true,
         "x": [
          -0.2797335684299469
         ],
         "y": [
          -0.13916368782520294
         ],
         "z": [
          -0.25177302956581116
         ],
         "type": "scatter3d"
        },
        {
         "hovertemplate": "color=black<br>0=%{x}<br>1=%{y}<br>2=%{z}<extra></extra>",
         "legendgroup": "black",
         "marker": {
          "color": "#ab63fa",
          "symbol": "circle"
         },
         "mode": "markers",
         "name": "black",
         "scene": "scene",
         "showlegend": true,
         "x": [
          -0.4590623080730438
         ],
         "y": [
          0.4416309893131256
         ],
         "z": [
          -0.035700418055057526
         ],
         "type": "scatter3d"
        },
        {
         "hovertemplate": "color=told<br>0=%{x}<br>1=%{y}<br>2=%{z}<extra></extra>",
         "legendgroup": "told",
         "marker": {
          "color": "#FFA15A",
          "symbol": "circle"
         },
         "mode": "markers",
         "name": "told",
         "scene": "scene",
         "showlegend": true,
         "x": [
          0.5009162425994873
         ],
         "y": [
          -0.03687635809183121
         ],
         "z": [
          0.09326930344104767
         ],
         "type": "scatter3d"
        },
        {
         "hovertemplate": "color=lady<br>0=%{x}<br>1=%{y}<br>2=%{z}<extra></extra>",
         "legendgroup": "lady",
         "marker": {
          "color": "#19d3f3",
          "symbol": "circle"
         },
         "mode": "markers",
         "name": "lady",
         "scene": "scene",
         "showlegend": true,
         "x": [
          0.44631385803222656
         ],
         "y": [
          0.46091264486312866
         ],
         "z": [
          -0.43796005845069885
         ],
         "type": "scatter3d"
        },
        {
         "hovertemplate": "color=thought<br>0=%{x}<br>1=%{y}<br>2=%{z}<extra></extra>",
         "legendgroup": "thought",
         "marker": {
          "color": "#FF6692",
          "symbol": "circle"
         },
         "mode": "markers",
         "name": "thought",
         "scene": "scene",
         "showlegend": true,
         "x": [
          0.2935648262500763
         ],
         "y": [
          -0.24206769466400146
         ],
         "z": [
          0.09103124588727951
         ],
         "type": "scatter3d"
        },
        {
         "hovertemplate": "color=time<br>0=%{x}<br>1=%{y}<br>2=%{z}<extra></extra>",
         "legendgroup": "time",
         "marker": {
          "color": "#B6E880",
          "symbol": "circle"
         },
         "mode": "markers",
         "name": "time",
         "scene": "scene",
         "showlegend": true,
         "x": [
          0.01868673972785473
         ],
         "y": [
          -0.0962926596403122
         ],
         "z": [
          0.19546355307102203
         ],
         "type": "scatter3d"
        },
        {
         "hovertemplate": "color=long<br>0=%{x}<br>1=%{y}<br>2=%{z}<extra></extra>",
         "legendgroup": "long",
         "marker": {
          "color": "#FF97FF",
          "symbol": "circle"
         },
         "mode": "markers",
         "name": "long",
         "scene": "scene",
         "showlegend": true,
         "x": [
          -0.30397510528564453
         ],
         "y": [
          0.20357415080070496
         ],
         "z": [
          0.24819739162921906
         ],
         "type": "scatter3d"
        },
        {
         "hovertemplate": "color=might<br>0=%{x}<br>1=%{y}<br>2=%{z}<extra></extra>",
         "legendgroup": "might",
         "marker": {
          "color": "#FECB52",
          "symbol": "circle"
         },
         "mode": "markers",
         "name": "might",
         "scene": "scene",
         "showlegend": true,
         "x": [
          0.5686132311820984
         ],
         "y": [
          -0.0927216187119484
         ],
         "z": [
          0.26052653789520264
         ],
         "type": "scatter3d"
        },
        {
         "hovertemplate": "color=us<br>0=%{x}<br>1=%{y}<br>2=%{z}<extra></extra>",
         "legendgroup": "us",
         "marker": {
          "color": "#636efa",
          "symbol": "circle"
         },
         "mode": "markers",
         "name": "us",
         "scene": "scene",
         "showlegend": true,
         "x": [
          0.5339314937591553
         ],
         "y": [
          0.14616045355796814
         ],
         "z": [
          0.34139901399612427
         ],
         "type": "scatter3d"
        },
        {
         "hovertemplate": "color=come<br>0=%{x}<br>1=%{y}<br>2=%{z}<extra></extra>",
         "legendgroup": "come",
         "marker": {
          "color": "#EF553B",
          "symbol": "circle"
         },
         "mode": "markers",
         "name": "come",
         "scene": "scene",
         "showlegend": true,
         "x": [
          0.35874518752098083
         ],
         "y": [
          0.021106457337737083
         ],
         "z": [
          0.46365785598754883
         ],
         "type": "scatter3d"
        },
        {
         "hovertemplate": "color=still<br>0=%{x}<br>1=%{y}<br>2=%{z}<extra></extra>",
         "legendgroup": "still",
         "marker": {
          "color": "#00cc96",
          "symbol": "circle"
         },
         "mode": "markers",
         "name": "still",
         "scene": "scene",
         "showlegend": true,
         "x": [
          -0.11897943913936615
         ],
         "y": [
          0.004004382528364658
         ],
         "z": [
          0.33554527163505554
         ],
         "type": "scatter3d"
        },
        {
         "hovertemplate": "color=face<br>0=%{x}<br>1=%{y}<br>2=%{z}<extra></extra>",
         "legendgroup": "face",
         "marker": {
          "color": "#ab63fa",
          "symbol": "circle"
         },
         "mode": "markers",
         "name": "face",
         "scene": "scene",
         "showlegend": true,
         "x": [
          -0.3463916778564453
         ],
         "y": [
          -0.2040473073720932
         ],
         "z": [
          -0.442092627286911
         ],
         "type": "scatter3d"
        },
        {
         "hovertemplate": "color=head<br>0=%{x}<br>1=%{y}<br>2=%{z}<extra></extra>",
         "legendgroup": "head",
         "marker": {
          "color": "#FFA15A",
          "symbol": "circle"
         },
         "mode": "markers",
         "name": "head",
         "scene": "scene",
         "showlegend": true,
         "x": [
          -0.34256598353385925
         ],
         "y": [
          0.026628561317920685
         ],
         "z": [
          -0.5474324226379395
         ],
         "type": "scatter3d"
        },
        {
         "hovertemplate": "color=red<br>0=%{x}<br>1=%{y}<br>2=%{z}<extra></extra>",
         "legendgroup": "red",
         "marker": {
          "color": "#19d3f3",
          "symbol": "circle"
         },
         "mode": "markers",
         "name": "red",
         "scene": "scene",
         "showlegend": true,
         "x": [
          -0.33430030941963196
         ],
         "y": [
          0.3909877836704254
         ],
         "z": [
          -0.22792233526706696
         ],
         "type": "scatter3d"
        },
        {
         "hovertemplate": "color=way<br>0=%{x}<br>1=%{y}<br>2=%{z}<extra></extra>",
         "legendgroup": "way",
         "marker": {
          "color": "#FF6692",
          "symbol": "circle"
         },
         "mode": "markers",
         "name": "way",
         "scene": "scene",
         "showlegend": true,
         "x": [
          -0.11005907505750656
         ],
         "y": [
          -0.09209153801202774
         ],
         "z": [
          0.32646483182907104
         ],
         "type": "scatter3d"
        },
        {
         "hovertemplate": "color=boy<br>0=%{x}<br>1=%{y}<br>2=%{z}<extra></extra>",
         "legendgroup": "boy",
         "marker": {
          "color": "#B6E880",
          "symbol": "circle"
         },
         "mode": "markers",
         "name": "boy",
         "scene": "scene",
         "showlegend": true,
         "x": [
          0.2775794565677643
         ],
         "y": [
          0.2295840084552765
         ],
         "z": [
          -0.38167059421539307
         ],
         "type": "scatter3d"
        },
        {
         "hovertemplate": "color=page<br>0=%{x}<br>1=%{y}<br>2=%{z}<extra></extra>",
         "legendgroup": "page",
         "marker": {
          "color": "#FF97FF",
          "symbol": "circle"
         },
         "mode": "markers",
         "name": "page",
         "scene": "scene",
         "showlegend": true,
         "x": [
          0.17608845233917236
         ],
         "y": [
          0.2324383705854416
         ],
         "z": [
          -0.28447046875953674
         ],
         "type": "scatter3d"
        },
        {
         "hovertemplate": "color=must<br>0=%{x}<br>1=%{y}<br>2=%{z}<extra></extra>",
         "legendgroup": "must",
         "marker": {
          "color": "#FECB52",
          "symbol": "circle"
         },
         "mode": "markers",
         "name": "must",
         "scene": "scene",
         "showlegend": true,
         "x": [
          0.613698422908783
         ],
         "y": [
          0.01983405277132988
         ],
         "z": [
          0.24342380464076996
         ],
         "type": "scatter3d"
        },
        {
         "hovertemplate": "color=queen<br>0=%{x}<br>1=%{y}<br>2=%{z}<extra></extra>",
         "legendgroup": "queen",
         "marker": {
          "color": "#636efa",
          "symbol": "circle"
         },
         "mode": "markers",
         "name": "queen",
         "scene": "scene",
         "showlegend": true,
         "x": [
          0.45465973019599915
         ],
         "y": [
          0.3373248279094696
         ],
         "z": [
          -0.1802082061767578
         ],
         "type": "scatter3d"
        },
        {
         "hovertemplate": "color=good<br>0=%{x}<br>1=%{y}<br>2=%{z}<extra></extra>",
         "legendgroup": "good",
         "marker": {
          "color": "#EF553B",
          "symbol": "circle"
         },
         "mode": "markers",
         "name": "good",
         "scene": "scene",
         "showlegend": true,
         "x": [
          0.5034641027450562
         ],
         "y": [
          -0.09417527914047241
         ],
         "z": [
          0.15475288033485413
         ],
         "type": "scatter3d"
        },
        {
         "hovertemplate": "color=two<br>0=%{x}<br>1=%{y}<br>2=%{z}<extra></extra>",
         "legendgroup": "two",
         "marker": {
          "color": "#00cc96",
          "symbol": "circle"
         },
         "mode": "markers",
         "name": "two",
         "scene": "scene",
         "showlegend": true,
         "x": [
          -0.2041977494955063
         ],
         "y": [
          0.5766278505325317
         ],
         "z": [
          0.19929257035255432
         ],
         "type": "scatter3d"
        },
        {
         "hovertemplate": "color=brother<br>0=%{x}<br>1=%{y}<br>2=%{z}<extra></extra>",
         "legendgroup": "brother",
         "marker": {
          "color": "#ab63fa",
          "symbol": "circle"
         },
         "mode": "markers",
         "name": "brother",
         "scene": "scene",
         "showlegend": true,
         "x": [
          0.5358636975288391
         ],
         "y": [
          0.5232949256896973
         ],
         "z": [
          -0.2975202798843384
         ],
         "type": "scatter3d"
        },
        {
         "hovertemplate": "color=night<br>0=%{x}<br>1=%{y}<br>2=%{z}<extra></extra>",
         "legendgroup": "night",
         "marker": {
          "color": "#FFA15A",
          "symbol": "circle"
         },
         "mode": "markers",
         "name": "night",
         "scene": "scene",
         "showlegend": true,
         "x": [
          -0.020431358367204666
         ],
         "y": [
          0.10134287923574448
         ],
         "z": [
          0.3134305477142334
         ],
         "type": "scatter3d"
        },
        {
         "hovertemplate": "color=little<br>0=%{x}<br>1=%{y}<br>2=%{z}<extra></extra>",
         "legendgroup": "little",
         "marker": {
          "color": "#19d3f3",
          "symbol": "circle"
         },
         "mode": "markers",
         "name": "little",
         "scene": "scene",
         "showlegend": true,
         "x": [
          0.11653431504964828
         ],
         "y": [
          -0.15667608380317688
         ],
         "z": [
          -0.07516277581453323
         ],
         "type": "scatter3d"
        },
        {
         "hovertemplate": "color=took<br>0=%{x}<br>1=%{y}<br>2=%{z}<extra></extra>",
         "legendgroup": "took",
         "marker": {
          "color": "#FF6692",
          "symbol": "circle"
         },
         "mode": "markers",
         "name": "took",
         "scene": "scene",
         "showlegend": true,
         "x": [
          -0.01426677219569683
         ],
         "y": [
          0.20581261813640594
         ],
         "z": [
          -0.1726195365190506
         ],
         "type": "scatter3d"
        },
        {
         "hovertemplate": "color=came<br>0=%{x}<br>1=%{y}<br>2=%{z}<extra></extra>",
         "legendgroup": "came",
         "marker": {
          "color": "#B6E880",
          "symbol": "circle"
         },
         "mode": "markers",
         "name": "came",
         "scene": "scene",
         "showlegend": true,
         "x": [
          -0.2658800184726715
         ],
         "y": [
          0.11803052574396133
         ],
         "z": [
          0.3701799511909485
         ],
         "type": "scatter3d"
        },
        {
         "hovertemplate": "color=though<br>0=%{x}<br>1=%{y}<br>2=%{z}<extra></extra>",
         "legendgroup": "though",
         "marker": {
          "color": "#FF97FF",
          "symbol": "circle"
         },
         "mode": "markers",
         "name": "though",
         "scene": "scene",
         "showlegend": true,
         "x": [
          0.19620606303215027
         ],
         "y": [
          -0.18159620463848114
         ],
         "z": [
          0.19272325932979584
         ],
         "type": "scatter3d"
        },
        {
         "hovertemplate": "color=say<br>0=%{x}<br>1=%{y}<br>2=%{z}<extra></extra>",
         "legendgroup": "say",
         "marker": {
          "color": "#FECB52",
          "symbol": "circle"
         },
         "mode": "markers",
         "name": "say",
         "scene": "scene",
         "showlegend": true,
         "x": [
          0.6110732555389404
         ],
         "y": [
          -0.19688169658184052
         ],
         "z": [
          0.03633243590593338
         ],
         "type": "scatter3d"
        },
        {
         "hovertemplate": "color=three<br>0=%{x}<br>1=%{y}<br>2=%{z}<extra></extra>",
         "legendgroup": "three",
         "marker": {
          "color": "#636efa",
          "symbol": "circle"
         },
         "mode": "markers",
         "name": "three",
         "scene": "scene",
         "showlegend": true,
         "x": [
          -0.08223074674606323
         ],
         "y": [
          0.6981545686721802
         ],
         "z": [
          0.2611023783683777
         ],
         "type": "scatter3d"
        },
        {
         "hovertemplate": "color=away<br>0=%{x}<br>1=%{y}<br>2=%{z}<extra></extra>",
         "legendgroup": "away",
         "marker": {
          "color": "#EF553B",
          "symbol": "circle"
         },
         "mode": "markers",
         "name": "away",
         "scene": "scene",
         "showlegend": true,
         "x": [
          -0.2868480682373047
         ],
         "y": [
          -0.19974856078624725
         ],
         "z": [
          0.040362562984228134
         ],
         "type": "scatter3d"
        },
        {
         "hovertemplate": "color=dead<br>0=%{x}<br>1=%{y}<br>2=%{z}<extra></extra>",
         "legendgroup": "dead",
         "marker": {
          "color": "#00cc96",
          "symbol": "circle"
         },
         "mode": "markers",
         "name": "dead",
         "scene": "scene",
         "showlegend": true,
         "x": [
          0.038167860358953476
         ],
         "y": [
          0.09834287315607071
         ],
         "z": [
          0.20137156546115875
         ],
         "type": "scatter3d"
        },
        {
         "hovertemplate": "color=son<br>0=%{x}<br>1=%{y}<br>2=%{z}<extra></extra>",
         "legendgroup": "son",
         "marker": {
          "color": "#ab63fa",
          "symbol": "circle"
         },
         "mode": "markers",
         "name": "son",
         "scene": "scene",
         "showlegend": true,
         "x": [
          0.434638112783432
         ],
         "y": [
          0.7366990447044373
         ],
         "z": [
          -0.4016772210597992
         ],
         "type": "scatter3d"
        },
        {
         "hovertemplate": "color=blood<br>0=%{x}<br>1=%{y}<br>2=%{z}<extra></extra>",
         "legendgroup": "blood",
         "marker": {
          "color": "#FFA15A",
          "symbol": "circle"
         },
         "mode": "markers",
         "name": "blood",
         "scene": "scene",
         "showlegend": true,
         "x": [
          -0.25831449031829834
         ],
         "y": [
          -0.14172221720218658
         ],
         "z": [
          0.004122166428714991
         ],
         "type": "scatter3d"
        },
        {
         "hovertemplate": "color=take<br>0=%{x}<br>1=%{y}<br>2=%{z}<extra></extra>",
         "legendgroup": "take",
         "marker": {
          "color": "#19d3f3",
          "symbol": "circle"
         },
         "mode": "markers",
         "name": "take",
         "scene": "scene",
         "showlegend": true,
         "x": [
          0.4353701174259186
         ],
         "y": [
          0.14714443683624268
         ],
         "z": [
          0.17540231347084045
         ],
         "type": "scatter3d"
        },
        {
         "hovertemplate": "color=go<br>0=%{x}<br>1=%{y}<br>2=%{z}<extra></extra>",
         "legendgroup": "go",
         "marker": {
          "color": "#FF6692",
          "symbol": "circle"
         },
         "mode": "markers",
         "name": "go",
         "scene": "scene",
         "showlegend": true,
         "x": [
          0.2681470215320587
         ],
         "y": [
          -0.2562407851219177
         ],
         "z": [
          0.31128495931625366
         ],
         "type": "scatter3d"
        },
        {
         "hovertemplate": "color=half<br>0=%{x}<br>1=%{y}<br>2=%{z}<extra></extra>",
         "legendgroup": "half",
         "marker": {
          "color": "#B6E880",
          "symbol": "circle"
         },
         "mode": "markers",
         "name": "half",
         "scene": "scene",
         "showlegend": true,
         "x": [
          -0.2576845586299896
         ],
         "y": [
          0.1910705715417862
         ],
         "z": [
          0.33635255694389343
         ],
         "type": "scatter3d"
        },
        {
         "hovertemplate": "color=make<br>0=%{x}<br>1=%{y}<br>2=%{z}<extra></extra>",
         "legendgroup": "make",
         "marker": {
          "color": "#FF97FF",
          "symbol": "circle"
         },
         "mode": "markers",
         "name": "make",
         "scene": "scene",
         "showlegend": true,
         "x": [
          0.4401487708091736
         ],
         "y": [
          -0.22397831082344055
         ],
         "z": [
          0.2677290141582489
         ],
         "type": "scatter3d"
        },
        {
         "hovertemplate": "color=arya<br>0=%{x}<br>1=%{y}<br>2=%{z}<extra></extra>",
         "legendgroup": "arya",
         "marker": {
          "color": "#FECB52",
          "symbol": "circle"
         },
         "mode": "markers",
         "name": "arya",
         "scene": "scene",
         "showlegend": true,
         "x": [
          -0.120478555560112
         ],
         "y": [
          -0.3768259882926941
         ],
         "z": [
          -0.07822781801223755
         ],
         "type": "scatter3d"
        },
        {
         "hovertemplate": "color=saw<br>0=%{x}<br>1=%{y}<br>2=%{z}<extra></extra>",
         "legendgroup": "saw",
         "marker": {
          "color": "#636efa",
          "symbol": "circle"
         },
         "mode": "markers",
         "name": "saw",
         "scene": "scene",
         "showlegend": true,
         "x": [
          -0.34259533882141113
         ],
         "y": [
          0.09386957436800003
         ],
         "z": [
          0.002112789312377572
         ],
         "type": "scatter3d"
        },
        {
         "hovertemplate": "color=day<br>0=%{x}<br>1=%{y}<br>2=%{z}<extra></extra>",
         "legendgroup": "day",
         "marker": {
          "color": "#EF553B",
          "symbol": "circle"
         },
         "mode": "markers",
         "name": "day",
         "scene": "scene",
         "showlegend": true,
         "x": [
          0.09217403829097748
         ],
         "y": [
          0.16332460939884186
         ],
         "z": [
          0.35041943192481995
         ],
         "type": "scatter3d"
        },
        {
         "hovertemplate": "color=white<br>0=%{x}<br>1=%{y}<br>2=%{z}<extra></extra>",
         "legendgroup": "white",
         "marker": {
          "color": "#00cc96",
          "symbol": "circle"
         },
         "mode": "markers",
         "name": "white",
         "scene": "scene",
         "showlegend": true,
         "x": [
          -0.41869881749153137
         ],
         "y": [
          0.5504313111305237
         ],
         "z": [
          -0.2764515280723572
         ],
         "type": "scatter3d"
        },
        {
         "hovertemplate": "color=jaime<br>0=%{x}<br>1=%{y}<br>2=%{z}<extra></extra>",
         "legendgroup": "jaime",
         "marker": {
          "color": "#ab63fa",
          "symbol": "circle"
         },
         "mode": "markers",
         "name": "jaime",
         "scene": "scene",
         "showlegend": true,
         "x": [
          0.22665351629257202
         ],
         "y": [
          0.08773501962423325
         ],
         "z": [
          -0.33750420808792114
         ],
         "type": "scatter3d"
        },
        {
         "hovertemplate": "color=first<br>0=%{x}<br>1=%{y}<br>2=%{z}<extra></extra>",
         "legendgroup": "first",
         "marker": {
          "color": "#FFA15A",
          "symbol": "circle"
         },
         "mode": "markers",
         "name": "first",
         "scene": "scene",
         "showlegend": true,
         "x": [
          0.16251802444458008
         ],
         "y": [
          0.33017903566360474
         ],
         "z": [
          0.24012751877307892
         ],
         "type": "scatter3d"
        },
        {
         "hovertemplate": "color=look<br>0=%{x}<br>1=%{y}<br>2=%{z}<extra></extra>",
         "legendgroup": "look",
         "marker": {
          "color": "#19d3f3",
          "symbol": "circle"
         },
         "mode": "markers",
         "name": "look",
         "scene": "scene",
         "showlegend": true,
         "x": [
          0.013507458381354809
         ],
         "y": [
          -0.21669186651706696
         ],
         "z": [
          -0.213467538356781
         ],
         "type": "scatter3d"
        },
        {
         "hovertemplate": "color=want<br>0=%{x}<br>1=%{y}<br>2=%{z}<extra></extra>",
         "legendgroup": "want",
         "marker": {
          "color": "#FF6692",
          "symbol": "circle"
         },
         "mode": "markers",
         "name": "want",
         "scene": "scene",
         "showlegend": true,
         "x": [
          0.5397276282310486
         ],
         "y": [
          -0.2530041038990021
         ],
         "z": [
          0.1447240710258484
         ],
         "type": "scatter3d"
        },
        {
         "hovertemplate": "color=much<br>0=%{x}<br>1=%{y}<br>2=%{z}<extra></extra>",
         "legendgroup": "much",
         "marker": {
          "color": "#B6E880",
          "symbol": "circle"
         },
         "mode": "markers",
         "name": "much",
         "scene": "scene",
         "showlegend": true,
         "x": [
          0.47626015543937683
         ],
         "y": [
          -0.2731322646141052
         ],
         "z": [
          0.20225052535533905
         ],
         "type": "scatter3d"
        },
        {
         "hovertemplate": "color=enough<br>0=%{x}<br>1=%{y}<br>2=%{z}<extra></extra>",
         "legendgroup": "enough",
         "marker": {
          "color": "#FF97FF",
          "symbol": "circle"
         },
         "mode": "markers",
         "name": "enough",
         "scene": "scene",
         "showlegend": true,
         "x": [
          0.20616823434829712
         ],
         "y": [
          -0.12154234945774078
         ],
         "z": [
          0.30252835154533386
         ],
         "type": "scatter3d"
        },
        {
         "hovertemplate": "color=sword<br>0=%{x}<br>1=%{y}<br>2=%{z}<extra></extra>",
         "legendgroup": "sword",
         "marker": {
          "color": "#FECB52",
          "symbol": "circle"
         },
         "mode": "markers",
         "name": "sword",
         "scene": "scene",
         "showlegend": true,
         "x": [
          -0.11885365098714828
         ],
         "y": [
          0.1795758754014969
         ],
         "z": [
          -0.2822984755039215
         ],
         "type": "scatter3d"
        },
        {
         "hovertemplate": "color=tell<br>0=%{x}<br>1=%{y}<br>2=%{z}<extra></extra>",
         "legendgroup": "tell",
         "marker": {
          "color": "#636efa",
          "symbol": "circle"
         },
         "mode": "markers",
         "name": "tell",
         "scene": "scene",
         "showlegend": true,
         "x": [
          0.6525968313217163
         ],
         "y": [
          -0.19798466563224792
         ],
         "z": [
          0.11430849134922028
         ],
         "type": "scatter3d"
        },
        {
         "hovertemplate": "color=girl<br>0=%{x}<br>1=%{y}<br>2=%{z}<extra></extra>",
         "legendgroup": "girl",
         "marker": {
          "color": "#EF553B",
          "symbol": "circle"
         },
         "mode": "markers",
         "name": "girl",
         "scene": "scene",
         "showlegend": true,
         "x": [
          0.23116953670978546
         ],
         "y": [
          0.027363894507288933
         ],
         "z": [
          -0.33410555124282837
         ],
         "type": "scatter3d"
        },
        {
         "hovertemplate": "color=bran<br>0=%{x}<br>1=%{y}<br>2=%{z}<extra></extra>",
         "legendgroup": "bran",
         "marker": {
          "color": "#00cc96",
          "symbol": "circle"
         },
         "mode": "markers",
         "name": "bran",
         "scene": "scene",
         "showlegend": true,
         "x": [
          -0.061509422957897186
         ],
         "y": [
          -0.33838117122650146
         ],
         "z": [
          0.024194683879613876
         ],
         "type": "scatter3d"
        },
        {
         "hovertemplate": "color=great<br>0=%{x}<br>1=%{y}<br>2=%{z}<extra></extra>",
         "legendgroup": "great",
         "marker": {
          "color": "#ab63fa",
          "symbol": "circle"
         },
         "mode": "markers",
         "name": "great",
         "scene": "scene",
         "showlegend": true,
         "x": [
          -0.17137663066387177
         ],
         "y": [
          0.7805922031402588
         ],
         "z": [
          0.2532123327255249
         ],
         "type": "scatter3d"
        },
        {
         "hovertemplate": "color=looked<br>0=%{x}<br>1=%{y}<br>2=%{z}<extra></extra>",
         "legendgroup": "looked",
         "marker": {
          "color": "#FFA15A",
          "symbol": "circle"
         },
         "mode": "markers",
         "name": "looked",
         "scene": "scene",
         "showlegend": true,
         "x": [
          -0.20529864728450775
         ],
         "y": [
          -0.024580931290984154
         ],
         "z": [
          -0.2911797761917114
         ],
         "type": "scatter3d"
        },
        {
         "hovertemplate": "color=ll<br>0=%{x}<br>1=%{y}<br>2=%{z}<extra></extra>",
         "legendgroup": "ll",
         "marker": {
          "color": "#19d3f3",
          "symbol": "circle"
         },
         "mode": "markers",
         "name": "ll",
         "scene": "scene",
         "showlegend": true,
         "x": [
          0.337038516998291
         ],
         "y": [
          -0.22976191341876984
         ],
         "z": [
          0.2216700315475464
         ],
         "type": "scatter3d"
        },
        {
         "hovertemplate": "color=left<br>0=%{x}<br>1=%{y}<br>2=%{z}<extra></extra>",
         "legendgroup": "left",
         "marker": {
          "color": "#FF6692",
          "symbol": "circle"
         },
         "mode": "markers",
         "name": "left",
         "scene": "scene",
         "showlegend": true,
         "x": [
          -0.22048847377300262
         ],
         "y": [
          0.2525745630264282
         ],
         "z": [
          0.013100720010697842
         ],
         "type": "scatter3d"
        },
        {
         "hovertemplate": "color=knew<br>0=%{x}<br>1=%{y}<br>2=%{z}<extra></extra>",
         "legendgroup": "knew",
         "marker": {
          "color": "#B6E880",
          "symbol": "circle"
         },
         "mode": "markers",
         "name": "knew",
         "scene": "scene",
         "showlegend": true,
         "x": [
          0.3487853705883026
         ],
         "y": [
          -0.2217920869588852
         ],
         "z": [
          0.26763537526130676
         ],
         "type": "scatter3d"
        },
        {
         "hovertemplate": "color=asked<br>0=%{x}<br>1=%{y}<br>2=%{z}<extra></extra>",
         "legendgroup": "asked",
         "marker": {
          "color": "#FF97FF",
          "symbol": "circle"
         },
         "mode": "markers",
         "name": "asked",
         "scene": "scene",
         "showlegend": true,
         "x": [
          0.5259551405906677
         ],
         "y": [
          0.03296225517988205
         ],
         "z": [
          -0.308078795671463
         ],
         "type": "scatter3d"
        },
        {
         "hovertemplate": "color=gave<br>0=%{x}<br>1=%{y}<br>2=%{z}<extra></extra>",
         "legendgroup": "gave",
         "marker": {
          "color": "#FECB52",
          "symbol": "circle"
         },
         "mode": "markers",
         "name": "gave",
         "scene": "scene",
         "showlegend": true,
         "x": [
          0.07189696282148361
         ],
         "y": [
          -0.09409905970096588
         ],
         "z": [
          -0.5266665816307068
         ],
         "type": "scatter3d"
        },
        {
         "hovertemplate": "color=maester<br>0=%{x}<br>1=%{y}<br>2=%{z}<extra></extra>",
         "legendgroup": "maester",
         "marker": {
          "color": "#636efa",
          "symbol": "circle"
         },
         "mode": "markers",
         "name": "maester",
         "scene": "scene",
         "showlegend": true,
         "x": [
          0.165028914809227
         ],
         "y": [
          0.27300089597702026
         ],
         "z": [
          -0.3170243501663208
         ],
         "type": "scatter3d"
        },
        {
         "hovertemplate": "color=called<br>0=%{x}<br>1=%{y}<br>2=%{z}<extra></extra>",
         "legendgroup": "called",
         "marker": {
          "color": "#EF553B",
          "symbol": "circle"
         },
         "mode": "markers",
         "name": "called",
         "scene": "scene",
         "showlegend": true,
         "x": [
          0.1817571222782135
         ],
         "y": [
          0.7406703233718872
         ],
         "z": [
          -0.342645525932312
         ],
         "type": "scatter3d"
        },
        {
         "hovertemplate": "color=wall<br>0=%{x}<br>1=%{y}<br>2=%{z}<extra></extra>",
         "legendgroup": "wall",
         "marker": {
          "color": "#00cc96",
          "symbol": "circle"
         },
         "mode": "markers",
         "name": "wall",
         "scene": "scene",
         "showlegend": true,
         "x": [
          -0.2558991312980652
         ],
         "y": [
          0.26294031739234924
         ],
         "z": [
          0.5023596882820129
         ],
         "type": "scatter3d"
        },
        {
         "hovertemplate": "color=every<br>0=%{x}<br>1=%{y}<br>2=%{z}<extra></extra>",
         "legendgroup": "every",
         "marker": {
          "color": "#ab63fa",
          "symbol": "circle"
         },
         "mode": "markers",
         "name": "every",
         "scene": "scene",
         "showlegend": true,
         "x": [
          -0.13163253664970398
         ],
         "y": [
          0.1829679310321808
         ],
         "z": [
          0.32540279626846313
         ],
         "type": "scatter3d"
        },
        {
         "hovertemplate": "color=heard<br>0=%{x}<br>1=%{y}<br>2=%{z}<extra></extra>",
         "legendgroup": "heard",
         "marker": {
          "color": "#FFA15A",
          "symbol": "circle"
         },
         "mode": "markers",
         "name": "heard",
         "scene": "scene",
         "showlegend": true,
         "x": [
          0.025852525606751442
         ],
         "y": [
          -0.14575810730457306
         ],
         "z": [
          0.21912921965122223
         ],
         "type": "scatter3d"
        },
        {
         "hovertemplate": "color=sansa<br>0=%{x}<br>1=%{y}<br>2=%{z}<extra></extra>",
         "legendgroup": "sansa",
         "marker": {
          "color": "#19d3f3",
          "symbol": "circle"
         },
         "mode": "markers",
         "name": "sansa",
         "scene": "scene",
         "showlegend": true,
         "x": [
          0.19227679073810577
         ],
         "y": [
          -0.23417864739894867
         ],
         "z": [
          -0.3578183054924011
         ],
         "type": "scatter3d"
        },
        {
         "hovertemplate": "color=let<br>0=%{x}<br>1=%{y}<br>2=%{z}<extra></extra>",
         "legendgroup": "let",
         "marker": {
          "color": "#FF6692",
          "symbol": "circle"
         },
         "mode": "markers",
         "name": "let",
         "scene": "scene",
         "showlegend": true,
         "x": [
          0.22561004757881165
         ],
         "y": [
          -0.2934435307979584
         ],
         "z": [
          0.1451362669467926
         ],
         "type": "scatter3d"
        },
        {
         "hovertemplate": "color=yet<br>0=%{x}<br>1=%{y}<br>2=%{z}<extra></extra>",
         "legendgroup": "yet",
         "marker": {
          "color": "#B6E880",
          "symbol": "circle"
         },
         "mode": "markers",
         "name": "yet",
         "scene": "scene",
         "showlegend": true,
         "x": [
          0.24796319007873535
         ],
         "y": [
          -0.06203252449631691
         ],
         "z": [
          0.38262292742729187
         ],
         "type": "scatter3d"
        },
        {
         "hovertemplate": "color=went<br>0=%{x}<br>1=%{y}<br>2=%{z}<extra></extra>",
         "legendgroup": "went",
         "marker": {
          "color": "#FF97FF",
          "symbol": "circle"
         },
         "mode": "markers",
         "name": "went",
         "scene": "scene",
         "showlegend": true,
         "x": [
          -0.3720184564590454
         ],
         "y": [
          0.030531929805874825
         ],
         "z": [
          0.08450450003147125
         ],
         "type": "scatter3d"
        },
        {
         "hovertemplate": "color=turned<br>0=%{x}<br>1=%{y}<br>2=%{z}<extra></extra>",
         "legendgroup": "turned",
         "marker": {
          "color": "#FECB52",
          "symbol": "circle"
         },
         "mode": "markers",
         "name": "turned",
         "scene": "scene",
         "showlegend": true,
         "x": [
          -0.27633970975875854
         ],
         "y": [
          0.07381443679332733
         ],
         "z": [
          -0.230307474732399
         ],
         "type": "scatter3d"
        },
        {
         "hovertemplate": "color=dany<br>0=%{x}<br>1=%{y}<br>2=%{z}<extra></extra>",
         "legendgroup": "dany",
         "marker": {
          "color": "#636efa",
          "symbol": "circle"
         },
         "mode": "markers",
         "name": "dany",
         "scene": "scene",
         "showlegend": true,
         "x": [
          -0.12658800184726715
         ],
         "y": [
          -0.21216626465320587
         ],
         "z": [
          0.030754191800951958
         ],
         "type": "scatter3d"
        },
        {
         "hovertemplate": "color=need<br>0=%{x}<br>1=%{y}<br>2=%{z}<extra></extra>",
         "legendgroup": "need",
         "marker": {
          "color": "#EF553B",
          "symbol": "circle"
         },
         "mode": "markers",
         "name": "need",
         "scene": "scene",
         "showlegend": true,
         "x": [
          0.4755233824253082
         ],
         "y": [
          -0.033909887075424194
         ],
         "z": [
          0.32938793301582336
         ],
         "type": "scatter3d"
        },
        {
         "hovertemplate": "color=behind<br>0=%{x}<br>1=%{y}<br>2=%{z}<extra></extra>",
         "legendgroup": "behind",
         "marker": {
          "color": "#00cc96",
          "symbol": "circle"
         },
         "mode": "markers",
         "name": "behind",
         "scene": "scene",
         "showlegend": true,
         "x": [
          -0.5731054544448853
         ],
         "y": [
          0.3467622697353363
         ],
         "z": [
          0.14897421002388
         ],
         "type": "scatter3d"
        },
        {
         "hovertemplate": "color=around<br>0=%{x}<br>1=%{y}<br>2=%{z}<extra></extra>",
         "legendgroup": "around",
         "marker": {
          "color": "#ab63fa",
          "symbol": "circle"
         },
         "mode": "markers",
         "name": "around",
         "scene": "scene",
         "showlegend": true,
         "x": [
          -0.7393093109130859
         ],
         "y": [
          0.10060446709394455
         ],
         "z": [
          0.04800344631075859
         ],
         "type": "scatter3d"
        },
        {
         "hovertemplate": "color=woman<br>0=%{x}<br>1=%{y}<br>2=%{z}<extra></extra>",
         "legendgroup": "woman",
         "marker": {
          "color": "#FFA15A",
          "symbol": "circle"
         },
         "mode": "markers",
         "name": "woman",
         "scene": "scene",
         "showlegend": true,
         "x": [
          0.07117925584316254
         ],
         "y": [
          -0.0733945295214653
         ],
         "z": [
          -0.2500761151313782
         ],
         "type": "scatter3d"
        },
        {
         "hovertemplate": "color=another<br>0=%{x}<br>1=%{y}<br>2=%{z}<extra></extra>",
         "legendgroup": "another",
         "marker": {
          "color": "#19d3f3",
          "symbol": "circle"
         },
         "mode": "markers",
         "name": "another",
         "scene": "scene",
         "showlegend": true,
         "x": [
          -0.04981895536184311
         ],
         "y": [
          -0.02088117226958275
         ],
         "z": [
          0.1640525609254837
         ],
         "type": "scatter3d"
        },
        {
         "hovertemplate": "color=snow<br>0=%{x}<br>1=%{y}<br>2=%{z}<extra></extra>",
         "legendgroup": "snow",
         "marker": {
          "color": "#FF6692",
          "symbol": "circle"
         },
         "mode": "markers",
         "name": "snow",
         "scene": "scene",
         "showlegend": true,
         "x": [
          -0.26909422874450684
         ],
         "y": [
          -0.0032733005937188864
         ],
         "z": [
          0.043345700949430466
         ],
         "type": "scatter3d"
        },
        {
         "hovertemplate": "color=beneath<br>0=%{x}<br>1=%{y}<br>2=%{z}<extra></extra>",
         "legendgroup": "beneath",
         "marker": {
          "color": "#B6E880",
          "symbol": "circle"
         },
         "mode": "markers",
         "name": "beneath",
         "scene": "scene",
         "showlegend": true,
         "x": [
          -0.7594982385635376
         ],
         "y": [
          0.2994382977485657
         ],
         "z": [
          0.17064882814884186
         ],
         "type": "scatter3d"
        },
        {
         "hovertemplate": "color=across<br>0=%{x}<br>1=%{y}<br>2=%{z}<extra></extra>",
         "legendgroup": "across",
         "marker": {
          "color": "#FF97FF",
          "symbol": "circle"
         },
         "mode": "markers",
         "name": "across",
         "scene": "scene",
         "showlegend": true,
         "x": [
          -0.6929696202278137
         ],
         "y": [
          0.2849076986312866
         ],
         "z": [
          0.09769970178604126
         ],
         "type": "scatter3d"
        },
        {
         "hovertemplate": "color=knight<br>0=%{x}<br>1=%{y}<br>2=%{z}<extra></extra>",
         "legendgroup": "knight",
         "marker": {
          "color": "#FECB52",
          "symbol": "circle"
         },
         "mode": "markers",
         "name": "knight",
         "scene": "scene",
         "showlegend": true,
         "x": [
          0.2493285834789276
         ],
         "y": [
          0.5504967570304871
         ],
         "z": [
          -0.5011367201805115
         ],
         "type": "scatter3d"
        },
        {
         "hovertemplate": "color=keep<br>0=%{x}<br>1=%{y}<br>2=%{z}<extra></extra>",
         "legendgroup": "keep",
         "marker": {
          "color": "#636efa",
          "symbol": "circle"
         },
         "mode": "markers",
         "name": "keep",
         "scene": "scene",
         "showlegend": true,
         "x": [
          0.0652323067188263
         ],
         "y": [
          0.10519415885210037
         ],
         "z": [
          0.333501398563385
         ],
         "type": "scatter3d"
        },
        {
         "hovertemplate": "color=grace<br>0=%{x}<br>1=%{y}<br>2=%{z}<extra></extra>",
         "legendgroup": "grace",
         "marker": {
          "color": "#EF553B",
          "symbol": "circle"
         },
         "mode": "markers",
         "name": "grace",
         "scene": "scene",
         "showlegend": true,
         "x": [
          0.7113783955574036
         ],
         "y": [
          0.26005294919013977
         ],
         "z": [
          -0.17737114429473877
         ],
         "type": "scatter3d"
        },
        {
         "hovertemplate": "color=found<br>0=%{x}<br>1=%{y}<br>2=%{z}<extra></extra>",
         "legendgroup": "found",
         "marker": {
          "color": "#00cc96",
          "symbol": "circle"
         },
         "mode": "markers",
         "name": "found",
         "scene": "scene",
         "showlegend": true,
         "x": [
          -0.3197280168533325
         ],
         "y": [
          0.07139211148023605
         ],
         "z": [
          0.1425907015800476
         ],
         "type": "scatter3d"
        },
        {
         "hovertemplate": "color=gold<br>0=%{x}<br>1=%{y}<br>2=%{z}<extra></extra>",
         "legendgroup": "gold",
         "marker": {
          "color": "#ab63fa",
          "symbol": "circle"
         },
         "mode": "markers",
         "name": "gold",
         "scene": "scene",
         "showlegend": true,
         "x": [
          -0.12881925702095032
         ],
         "y": [
          0.506704568862915
         ],
         "z": [
          -0.10438119620084763
         ],
         "type": "scatter3d"
        },
        {
         "hovertemplate": "color=last<br>0=%{x}<br>1=%{y}<br>2=%{z}<extra></extra>",
         "legendgroup": "last",
         "marker": {
          "color": "#FFA15A",
          "symbol": "circle"
         },
         "mode": "markers",
         "name": "last",
         "scene": "scene",
         "showlegend": true,
         "x": [
          0.07179538905620575
         ],
         "y": [
          0.18728284537792206
         ],
         "z": [
          0.1395883858203888
         ],
         "type": "scatter3d"
        },
        {
         "hovertemplate": "color=cersei<br>0=%{x}<br>1=%{y}<br>2=%{z}<extra></extra>",
         "legendgroup": "cersei",
         "marker": {
          "color": "#19d3f3",
          "symbol": "circle"
         },
         "mode": "markers",
         "name": "cersei",
         "scene": "scene",
         "showlegend": true,
         "x": [
          0.37778374552726746
         ],
         "y": [
          -0.014329060912132263
         ],
         "z": [
          -0.38462355732917786
         ],
         "type": "scatter3d"
        },
        {
         "hovertemplate": "color=castle<br>0=%{x}<br>1=%{y}<br>2=%{z}<extra></extra>",
         "legendgroup": "castle",
         "marker": {
          "color": "#FF6692",
          "symbol": "circle"
         },
         "mode": "markers",
         "name": "castle",
         "scene": "scene",
         "showlegend": true,
         "x": [
          0.07405425608158112
         ],
         "y": [
          0.6243854761123657
         ],
         "z": [
          0.36491525173187256
         ],
         "type": "scatter3d"
        },
        {
         "hovertemplate": "color=stark<br>0=%{x}<br>1=%{y}<br>2=%{z}<extra></extra>",
         "legendgroup": "stark",
         "marker": {
          "color": "#B6E880",
          "symbol": "circle"
         },
         "mode": "markers",
         "name": "stark",
         "scene": "scene",
         "showlegend": true,
         "x": [
          0.3580046594142914
         ],
         "y": [
          0.4260067939758301
         ],
         "z": [
          -0.22307740151882172
         ],
         "type": "scatter3d"
        },
        {
         "hovertemplate": "color=gods<br>0=%{x}<br>1=%{y}<br>2=%{z}<extra></extra>",
         "legendgroup": "gods",
         "marker": {
          "color": "#FF97FF",
          "symbol": "circle"
         },
         "mode": "markers",
         "name": "gods",
         "scene": "scene",
         "showlegend": true,
         "x": [
          0.44377216696739197
         ],
         "y": [
          0.0807657241821289
         ],
         "z": [
          0.27260708808898926
         ],
         "type": "scatter3d"
        },
        {
         "hovertemplate": "color=think<br>0=%{x}<br>1=%{y}<br>2=%{z}<extra></extra>",
         "legendgroup": "think",
         "marker": {
          "color": "#FECB52",
          "symbol": "circle"
         },
         "mode": "markers",
         "name": "think",
         "scene": "scene",
         "showlegend": true,
         "x": [
          0.5617464184761047
         ],
         "y": [
          -0.3429877460002899
         ],
         "z": [
          0.19183513522148132
         ],
         "type": "scatter3d"
        },
        {
         "hovertemplate": "color=hair<br>0=%{x}<br>1=%{y}<br>2=%{z}<extra></extra>",
         "legendgroup": "hair",
         "marker": {
          "color": "#636efa",
          "symbol": "circle"
         },
         "mode": "markers",
         "name": "hair",
         "scene": "scene",
         "showlegend": true,
         "x": [
          -0.4663568437099457
         ],
         "y": [
          -0.06958682835102081
         ],
         "z": [
          -0.37379738688468933
         ],
         "type": "scatter3d"
        },
        {
         "hovertemplate": "color=many<br>0=%{x}<br>1=%{y}<br>2=%{z}<extra></extra>",
         "legendgroup": "many",
         "marker": {
          "color": "#EF553B",
          "symbol": "circle"
         },
         "mode": "markers",
         "name": "many",
         "scene": "scene",
         "showlegend": true,
         "x": [
          0.23499281704425812
         ],
         "y": [
          0.4673384428024292
         ],
         "z": [
          0.5536174178123474
         ],
         "type": "scatter3d"
        },
        {
         "hovertemplate": "color=feet<br>0=%{x}<br>1=%{y}<br>2=%{z}<extra></extra>",
         "legendgroup": "feet",
         "marker": {
          "color": "#00cc96",
          "symbol": "circle"
         },
         "mode": "markers",
         "name": "feet",
         "scene": "scene",
         "showlegend": true,
         "x": [
          -0.6022822260856628
         ],
         "y": [
          0.2104484736919403
         ],
         "z": [
          0.021945770829916
         ],
         "type": "scatter3d"
        },
        {
         "hovertemplate": "color=hands<br>0=%{x}<br>1=%{y}<br>2=%{z}<extra></extra>",
         "legendgroup": "hands",
         "marker": {
          "color": "#ab63fa",
          "symbol": "circle"
         },
         "mode": "markers",
         "name": "hands",
         "scene": "scene",
         "showlegend": true,
         "x": [
          -0.5243895649909973
         ],
         "y": [
          -0.12573514878749847
         ],
         "z": [
          -0.2920050024986267
         ],
         "type": "scatter3d"
        },
        {
         "hovertemplate": "color=stannis<br>0=%{x}<br>1=%{y}<br>2=%{z}<extra></extra>",
         "legendgroup": "stannis",
         "marker": {
          "color": "#FFA15A",
          "symbol": "circle"
         },
         "mode": "markers",
         "name": "stannis",
         "scene": "scene",
         "showlegend": true,
         "x": [
          0.40160948038101196
         ],
         "y": [
          0.5412329435348511
         ],
         "z": [
          -0.0296423751860857
         ],
         "type": "scatter3d"
        },
        {
         "hovertemplate": "color=mother<br>0=%{x}<br>1=%{y}<br>2=%{z}<extra></extra>",
         "legendgroup": "mother",
         "marker": {
          "color": "#19d3f3",
          "symbol": "circle"
         },
         "mode": "markers",
         "name": "mother",
         "scene": "scene",
         "showlegend": true,
         "x": [
          0.5018500685691833
         ],
         "y": [
          0.2308395802974701
         ],
         "z": [
          -0.08274449408054352
         ],
         "type": "scatter3d"
        },
        {
         "hovertemplate": "color=catelyn<br>0=%{x}<br>1=%{y}<br>2=%{z}<extra></extra>",
         "legendgroup": "catelyn",
         "marker": {
          "color": "#FF6692",
          "symbol": "circle"
         },
         "mode": "markers",
         "name": "catelyn",
         "scene": "scene",
         "showlegend": true,
         "x": [
          0.21118679642677307
         ],
         "y": [
          0.029293883591890335
         ],
         "z": [
          -0.3026936948299408
         ],
         "type": "scatter3d"
        },
        {
         "hovertemplate": "color=robert<br>0=%{x}<br>1=%{y}<br>2=%{z}<extra></extra>",
         "legendgroup": "robert",
         "marker": {
          "color": "#B6E880",
          "symbol": "circle"
         },
         "mode": "markers",
         "name": "robert",
         "scene": "scene",
         "showlegend": true,
         "x": [
          0.5098413228988647
         ],
         "y": [
          0.4385446608066559
         ],
         "z": [
          -0.2060120850801468
         ],
         "type": "scatter3d"
        },
        {
         "hovertemplate": "color=seemed<br>0=%{x}<br>1=%{y}<br>2=%{z}<extra></extra>",
         "legendgroup": "seemed",
         "marker": {
          "color": "#FF97FF",
          "symbol": "circle"
         },
         "mode": "markers",
         "name": "seemed",
         "scene": "scene",
         "showlegend": true,
         "x": [
          -0.1509806215763092
         ],
         "y": [
          -0.24645698070526123
         ],
         "z": [
          0.3195185959339142
         ],
         "type": "scatter3d"
        },
        {
         "hovertemplate": "color=prince<br>0=%{x}<br>1=%{y}<br>2=%{z}<extra></extra>",
         "legendgroup": "prince",
         "marker": {
          "color": "#FECB52",
          "symbol": "circle"
         },
         "mode": "markers",
         "name": "prince",
         "scene": "scene",
         "showlegend": true,
         "x": [
          0.5133521556854248
         ],
         "y": [
          0.5711639523506165
         ],
         "z": [
          -0.38054630160331726
         ],
         "type": "scatter3d"
        },
        {
         "hovertemplate": "color=may<br>0=%{x}<br>1=%{y}<br>2=%{z}<extra></extra>",
         "legendgroup": "may",
         "marker": {
          "color": "#636efa",
          "symbol": "circle"
         },
         "mode": "markers",
         "name": "may",
         "scene": "scene",
         "showlegend": true,
         "x": [
          0.6828551292419434
         ],
         "y": [
          0.03147326782345772
         ],
         "z": [
          0.2666694223880768
         ],
         "type": "scatter3d"
        },
        {
         "hovertemplate": "color=ever<br>0=%{x}<br>1=%{y}<br>2=%{z}<extra></extra>",
         "legendgroup": "ever",
         "marker": {
          "color": "#EF553B",
          "symbol": "circle"
         },
         "mode": "markers",
         "name": "ever",
         "scene": "scene",
         "showlegend": true,
         "x": [
          0.3915805518627167
         ],
         "y": [
          -0.11754094809293747
         ],
         "z": [
          0.20135103166103363
         ],
         "type": "scatter3d"
        },
        {
         "hovertemplate": "color=robb<br>0=%{x}<br>1=%{y}<br>2=%{z}<extra></extra>",
         "legendgroup": "robb",
         "marker": {
          "color": "#00cc96",
          "symbol": "circle"
         },
         "mode": "markers",
         "name": "robb",
         "scene": "scene",
         "showlegend": true,
         "x": [
          0.3909393548965454
         ],
         "y": [
          0.26655447483062744
         ],
         "z": [
          -0.2185095101594925
         ],
         "type": "scatter3d"
        },
        {
         "hovertemplate": "color=done<br>0=%{x}<br>1=%{y}<br>2=%{z}<extra></extra>",
         "legendgroup": "done",
         "marker": {
          "color": "#ab63fa",
          "symbol": "circle"
         },
         "mode": "markers",
         "name": "done",
         "scene": "scene",
         "showlegend": true,
         "x": [
          0.6372630000114441
         ],
         "y": [
          -0.1258053034543991
         ],
         "z": [
          0.1864829659461975
         ],
         "type": "scatter3d"
        },
        {
         "hovertemplate": "color=find<br>0=%{x}<br>1=%{y}<br>2=%{z}<extra></extra>",
         "legendgroup": "find",
         "marker": {
          "color": "#FFA15A",
          "symbol": "circle"
         },
         "mode": "markers",
         "name": "find",
         "scene": "scene",
         "showlegend": true,
         "x": [
          0.3716028034687042
         ],
         "y": [
          -0.13457824289798737
         ],
         "z": [
          0.3416188061237335
         ],
         "type": "scatter3d"
        },
        {
         "hovertemplate": "color=lannister<br>0=%{x}<br>1=%{y}<br>2=%{z}<extra></extra>",
         "legendgroup": "lannister",
         "marker": {
          "color": "#19d3f3",
          "symbol": "circle"
         },
         "mode": "markers",
         "name": "lannister",
         "scene": "scene",
         "showlegend": true,
         "x": [
          0.3161603510379791
         ],
         "y": [
          0.5944154858589172
         ],
         "z": [
          -0.33519792556762695
         ],
         "type": "scatter3d"
        },
        {
         "hovertemplate": "color=hear<br>0=%{x}<br>1=%{y}<br>2=%{z}<extra></extra>",
         "legendgroup": "hear",
         "marker": {
          "color": "#FF6692",
          "symbol": "circle"
         },
         "mode": "markers",
         "name": "hear",
         "scene": "scene",
         "showlegend": true,
         "x": [
          0.09231021255254745
         ],
         "y": [
          -0.2891964912414551
         ],
         "z": [
          0.21526312828063965
         ],
         "type": "scatter3d"
        },
        {
         "hovertemplate": "color=name<br>0=%{x}<br>1=%{y}<br>2=%{z}<extra></extra>",
         "legendgroup": "name",
         "marker": {
          "color": "#B6E880",
          "symbol": "circle"
         },
         "mode": "markers",
         "name": "name",
         "scene": "scene",
         "showlegend": true,
         "x": [
          0.6107984185218811
         ],
         "y": [
          0.22460192441940308
         ],
         "z": [
          -0.17262694239616394
         ],
         "type": "scatter3d"
        },
        {
         "hovertemplate": "color=grey<br>0=%{x}<br>1=%{y}<br>2=%{z}<extra></extra>",
         "legendgroup": "grey",
         "marker": {
          "color": "#FF97FF",
          "symbol": "circle"
         },
         "mode": "markers",
         "name": "grey",
         "scene": "scene",
         "showlegend": true,
         "x": [
          -0.517147958278656
         ],
         "y": [
          0.3366687297821045
         ],
         "z": [
          -0.07406999915838242
         ],
         "type": "scatter3d"
        },
        {
         "hovertemplate": "color=horse<br>0=%{x}<br>1=%{y}<br>2=%{z}<extra></extra>",
         "legendgroup": "horse",
         "marker": {
          "color": "#FECB52",
          "symbol": "circle"
         },
         "mode": "markers",
         "name": "horse",
         "scene": "scene",
         "showlegend": true,
         "x": [
          -0.4286787509918213
         ],
         "y": [
          0.0385156087577343
         ],
         "z": [
          0.02341819368302822
         ],
         "type": "scatter3d"
        },
        {
         "hovertemplate": "color=high<br>0=%{x}<br>1=%{y}<br>2=%{z}<extra></extra>",
         "legendgroup": "high",
         "marker": {
          "color": "#636efa",
          "symbol": "circle"
         },
         "mode": "markers",
         "name": "high",
         "scene": "scene",
         "showlegend": true,
         "x": [
          -0.22177767753601074
         ],
         "y": [
          0.6596004962921143
         ],
         "z": [
          0.10677062720060349
         ],
         "type": "scatter3d"
        },
        {
         "hovertemplate": "color=put<br>0=%{x}<br>1=%{y}<br>2=%{z}<extra></extra>",
         "legendgroup": "put",
         "marker": {
          "color": "#EF553B",
          "symbol": "circle"
         },
         "mode": "markers",
         "name": "put",
         "scene": "scene",
         "showlegend": true,
         "x": [
          0.11758805066347122
         ],
         "y": [
          0.052958738058805466
         ],
         "z": [
          -0.11543290317058563
         ],
         "type": "scatter3d"
        },
        {
         "hovertemplate": "color=stone<br>0=%{x}<br>1=%{y}<br>2=%{z}<extra></extra>",
         "legendgroup": "stone",
         "marker": {
          "color": "#00cc96",
          "symbol": "circle"
         },
         "mode": "markers",
         "name": "stone",
         "scene": "scene",
         "showlegend": true,
         "x": [
          -0.6636765599250793
         ],
         "y": [
          0.3707176446914673
         ],
         "z": [
          0.26711806654930115
         ],
         "type": "scatter3d"
        },
        {
         "hovertemplate": "color=wine<br>0=%{x}<br>1=%{y}<br>2=%{z}<extra></extra>",
         "legendgroup": "wine",
         "marker": {
          "color": "#ab63fa",
          "symbol": "circle"
         },
         "mode": "markers",
         "name": "wine",
         "scene": "scene",
         "showlegend": true,
         "x": [
          -0.10895521193742752
         ],
         "y": [
          -0.22912156581878662
         ],
         "z": [
          -0.21721817553043365
         ],
         "type": "scatter3d"
        },
        {
         "hovertemplate": "color=hard<br>0=%{x}<br>1=%{y}<br>2=%{z}<extra></extra>",
         "legendgroup": "hard",
         "marker": {
          "color": "#FFA15A",
          "symbol": "circle"
         },
         "mode": "markers",
         "name": "hard",
         "scene": "scene",
         "showlegend": true,
         "x": [
          -0.47365859150886536
         ],
         "y": [
          -0.42264270782470703
         ],
         "z": [
          0.09264132380485535
         ],
         "type": "scatter3d"
        },
        {
         "hovertemplate": "color=water<br>0=%{x}<br>1=%{y}<br>2=%{z}<extra></extra>",
         "legendgroup": "water",
         "marker": {
          "color": "#19d3f3",
          "symbol": "circle"
         },
         "mode": "markers",
         "name": "water",
         "scene": "scene",
         "showlegend": true,
         "x": [
          -0.6018760204315186
         ],
         "y": [
          -0.2734648585319519
         ],
         "z": [
          0.3226572275161743
         ],
         "type": "scatter3d"
        },
        {
         "hovertemplate": "color=upon<br>0=%{x}<br>1=%{y}<br>2=%{z}<extra></extra>",
         "legendgroup": "upon",
         "marker": {
          "color": "#FF6692",
          "symbol": "circle"
         },
         "mode": "markers",
         "name": "upon",
         "scene": "scene",
         "showlegend": true,
         "x": [
          -0.3632532060146332
         ],
         "y": [
          0.412916362285614
         ],
         "z": [
          0.1639486849308014
         ],
         "type": "scatter3d"
        },
        {
         "hovertemplate": "color=fire<br>0=%{x}<br>1=%{y}<br>2=%{z}<extra></extra>",
         "legendgroup": "fire",
         "marker": {
          "color": "#B6E880",
          "symbol": "circle"
         },
         "mode": "markers",
         "name": "fire",
         "scene": "scene",
         "showlegend": true,
         "x": [
          -0.5385591387748718
         ],
         "y": [
          -0.12340597808361053
         ],
         "z": [
          0.40777719020843506
         ],
         "type": "scatter3d"
        },
        {
         "hovertemplate": "color=iron<br>0=%{x}<br>1=%{y}<br>2=%{z}<extra></extra>",
         "legendgroup": "iron",
         "marker": {
          "color": "#FF97FF",
          "symbol": "circle"
         },
         "mode": "markers",
         "name": "iron",
         "scene": "scene",
         "showlegend": true,
         "x": [
          -0.2574915289878845
         ],
         "y": [
          0.6754158735275269
         ],
         "z": [
          0.03338300809264183
         ],
         "type": "scatter3d"
        },
        {
         "hovertemplate": "color=voice<br>0=%{x}<br>1=%{y}<br>2=%{z}<extra></extra>",
         "legendgroup": "voice",
         "marker": {
          "color": "#FECB52",
          "symbol": "circle"
         },
         "mode": "markers",
         "name": "voice",
         "scene": "scene",
         "showlegend": true,
         "x": [
          -0.0360373854637146
         ],
         "y": [
          -0.30318570137023926
         ],
         "z": [
          -0.32918548583984375
         ],
         "type": "scatter3d"
        },
        {
         "hovertemplate": "color=gone<br>0=%{x}<br>1=%{y}<br>2=%{z}<extra></extra>",
         "legendgroup": "gone",
         "marker": {
          "color": "#636efa",
          "symbol": "circle"
         },
         "mode": "markers",
         "name": "gone",
         "scene": "scene",
         "showlegend": true,
         "x": [
          0.007944265380501747
         ],
         "y": [
          -0.14837408065795898
         ],
         "z": [
          0.34270229935646057
         ],
         "type": "scatter3d"
        },
        {
         "hovertemplate": "color=give<br>0=%{x}<br>1=%{y}<br>2=%{z}<extra></extra>",
         "legendgroup": "give",
         "marker": {
          "color": "#EF553B",
          "symbol": "circle"
         },
         "mode": "markers",
         "name": "give",
         "scene": "scene",
         "showlegend": true,
         "x": [
          0.6242374181747437
         ],
         "y": [
          0.021368395537137985
         ],
         "z": [
          0.13238203525543213
         ],
         "type": "scatter3d"
        },
        {
         "hovertemplate": "color=sam<br>0=%{x}<br>1=%{y}<br>2=%{z}<extra></extra>",
         "legendgroup": "sam",
         "marker": {
          "color": "#00cc96",
          "symbol": "circle"
         },
         "mode": "markers",
         "name": "sam",
         "scene": "scene",
         "showlegend": true,
         "x": [
          -0.03318262845277786
         ],
         "y": [
          -0.4246625006198883
         ],
         "z": [
          -0.0867667868733406
         ],
         "type": "scatter3d"
        },
        {
         "hovertemplate": "color=better<br>0=%{x}<br>1=%{y}<br>2=%{z}<extra></extra>",
         "legendgroup": "better",
         "marker": {
          "color": "#ab63fa",
          "symbol": "circle"
         },
         "mode": "markers",
         "name": "better",
         "scene": "scene",
         "showlegend": true,
         "x": [
          0.6174252033233643
         ],
         "y": [
          -0.1713736206293106
         ],
         "z": [
          0.25362643599510193
         ],
         "type": "scatter3d"
        },
        {
         "hovertemplate": "color=seen<br>0=%{x}<br>1=%{y}<br>2=%{z}<extra></extra>",
         "legendgroup": "seen",
         "marker": {
          "color": "#FFA15A",
          "symbol": "circle"
         },
         "mode": "markers",
         "name": "seen",
         "scene": "scene",
         "showlegend": true,
         "x": [
          0.040893420577049255
         ],
         "y": [
          0.1540544182062149
         ],
         "z": [
          0.3321724832057953
         ],
         "type": "scatter3d"
        },
        {
         "hovertemplate": "color=shall<br>0=%{x}<br>1=%{y}<br>2=%{z}<extra></extra>",
         "legendgroup": "shall",
         "marker": {
          "color": "#19d3f3",
          "symbol": "circle"
         },
         "mode": "markers",
         "name": "shall",
         "scene": "scene",
         "showlegend": true,
         "x": [
          0.5960351228713989
         ],
         "y": [
          0.26990440487861633
         ],
         "z": [
          0.23186644911766052
         ],
         "type": "scatter3d"
        },
        {
         "hovertemplate": "color=ned<br>0=%{x}<br>1=%{y}<br>2=%{z}<extra></extra>",
         "legendgroup": "ned",
         "marker": {
          "color": "#FF6692",
          "symbol": "circle"
         },
         "mode": "markers",
         "name": "ned",
         "scene": "scene",
         "showlegend": true,
         "x": [
          0.2552919387817383
         ],
         "y": [
          -0.06389093399047852
         ],
         "z": [
          -0.3291013538837433
         ],
         "type": "scatter3d"
        },
        {
         "hovertemplate": "color=always<br>0=%{x}<br>1=%{y}<br>2=%{z}<extra></extra>",
         "legendgroup": "always",
         "marker": {
          "color": "#B6E880",
          "symbol": "circle"
         },
         "mode": "markers",
         "name": "always",
         "scene": "scene",
         "showlegend": true,
         "x": [
          0.5204468369483948
         ],
         "y": [
          -0.21480302512645721
         ],
         "z": [
          0.13992498815059662
         ],
         "type": "scatter3d"
        },
        {
         "hovertemplate": "color=years<br>0=%{x}<br>1=%{y}<br>2=%{z}<extra></extra>",
         "legendgroup": "years",
         "marker": {
          "color": "#FF97FF",
          "symbol": "circle"
         },
         "mode": "markers",
         "name": "years",
         "scene": "scene",
         "showlegend": true,
         "x": [
          0.26133447885513306
         ],
         "y": [
          0.6204281449317932
         ],
         "z": [
          0.22651812434196472
         ],
         "type": "scatter3d"
        },
        {
         "hovertemplate": "color=dark<br>0=%{x}<br>1=%{y}<br>2=%{z}<extra></extra>",
         "legendgroup": "dark",
         "marker": {
          "color": "#FECB52",
          "symbol": "circle"
         },
         "mode": "markers",
         "name": "dark",
         "scene": "scene",
         "showlegend": true,
         "x": [
          -0.5864595770835876
         ],
         "y": [
          -0.05622056499123573
         ],
         "z": [
          0.14402958750724792
         ],
         "type": "scatter3d"
        },
        {
         "hovertemplate": "color=place<br>0=%{x}<br>1=%{y}<br>2=%{z}<extra></extra>",
         "legendgroup": "place",
         "marker": {
          "color": "#636efa",
          "symbol": "circle"
         },
         "mode": "markers",
         "name": "place",
         "scene": "scene",
         "showlegend": true,
         "x": [
          0.31171345710754395
         ],
         "y": [
          0.24027429521083832
         ],
         "z": [
          0.4042971134185791
         ],
         "type": "scatter3d"
        },
        {
         "hovertemplate": "color=small<br>0=%{x}<br>1=%{y}<br>2=%{z}<extra></extra>",
         "legendgroup": "small",
         "marker": {
          "color": "#EF553B",
          "symbol": "circle"
         },
         "mode": "markers",
         "name": "small",
         "scene": "scene",
         "showlegend": true,
         "x": [
          -0.3136981129646301
         ],
         "y": [
          0.34906861186027527
         ],
         "z": [
          0.15510331094264984
         ],
         "type": "scatter3d"
        },
        {
         "hovertemplate": "color=cold<br>0=%{x}<br>1=%{y}<br>2=%{z}<extra></extra>",
         "legendgroup": "cold",
         "marker": {
          "color": "#00cc96",
          "symbol": "circle"
         },
         "mode": "markers",
         "name": "cold",
         "scene": "scene",
         "showlegend": true,
         "x": [
          -0.4341886341571808
         ],
         "y": [
          -0.3652229905128479
         ],
         "z": [
          0.336078017950058
         ],
         "type": "scatter3d"
        },
        {
         "hovertemplate": "color=winterfell<br>0=%{x}<br>1=%{y}<br>2=%{z}<extra></extra>",
         "legendgroup": "winterfell",
         "marker": {
          "color": "#ab63fa",
          "symbol": "circle"
         },
         "mode": "markers",
         "name": "winterfell",
         "scene": "scene",
         "showlegend": true,
         "x": [
          0.3279420733451843
         ],
         "y": [
          0.45537686347961426
         ],
         "z": [
          0.1577288955450058
         ],
         "type": "scatter3d"
        },
        {
         "hovertemplate": "color=hundred<br>0=%{x}<br>1=%{y}<br>2=%{z}<extra></extra>",
         "legendgroup": "hundred",
         "marker": {
          "color": "#FFA15A",
          "symbol": "circle"
         },
         "mode": "markers",
         "name": "hundred",
         "scene": "scene",
         "showlegend": true,
         "x": [
          -0.08852646499872208
         ],
         "y": [
          0.6055343151092529
         ],
         "z": [
          0.4859541952610016
         ],
         "type": "scatter3d"
        },
        {
         "hovertemplate": "color=stood<br>0=%{x}<br>1=%{y}<br>2=%{z}<extra></extra>",
         "legendgroup": "stood",
         "marker": {
          "color": "#19d3f3",
          "symbol": "circle"
         },
         "mode": "markers",
         "name": "stood",
         "scene": "scene",
         "showlegend": true,
         "x": [
          -0.4532860517501831
         ],
         "y": [
          0.669111967086792
         ],
         "z": [
          -0.12534993886947632
         ],
         "type": "scatter3d"
        },
        {
         "hovertemplate": "color=end<br>0=%{x}<br>1=%{y}<br>2=%{z}<extra></extra>",
         "legendgroup": "end",
         "marker": {
          "color": "#FF6692",
          "symbol": "circle"
         },
         "mode": "markers",
         "name": "end",
         "scene": "scene",
         "showlegend": true,
         "x": [
          0.0663476511836052
         ],
         "y": [
          0.4821268916130066
         ],
         "z": [
          0.3152564764022827
         ],
         "type": "scatter3d"
        },
        {
         "hovertemplate": "color=sister<br>0=%{x}<br>1=%{y}<br>2=%{z}<extra></extra>",
         "legendgroup": "sister",
         "marker": {
          "color": "#B6E880",
          "symbol": "circle"
         },
         "mode": "markers",
         "name": "sister",
         "scene": "scene",
         "showlegend": true,
         "x": [
          0.6099566221237183
         ],
         "y": [
          0.17059312760829926
         ],
         "z": [
          -0.3636801242828369
         ],
         "type": "scatter3d"
        },
        {
         "hovertemplate": "color=words<br>0=%{x}<br>1=%{y}<br>2=%{z}<extra></extra>",
         "legendgroup": "words",
         "marker": {
          "color": "#FF97FF",
          "symbol": "circle"
         },
         "mode": "markers",
         "name": "words",
         "scene": "scene",
         "showlegend": true,
         "x": [
          0.34372228384017944
         ],
         "y": [
          -0.49468958377838135
         ],
         "z": [
          -0.10026953369379044
         ],
         "type": "scatter3d"
        },
        {
         "hovertemplate": "color=sea<br>0=%{x}<br>1=%{y}<br>2=%{z}<extra></extra>",
         "legendgroup": "sea",
         "marker": {
          "color": "#FECB52",
          "symbol": "circle"
         },
         "mode": "markers",
         "name": "sea",
         "scene": "scene",
         "showlegend": true,
         "x": [
          -0.16513606905937195
         ],
         "y": [
          0.48841944336891174
         ],
         "z": [
          0.5837386846542358
         ],
         "type": "scatter3d"
        },
        {
         "hovertemplate": "color=right<br>0=%{x}<br>1=%{y}<br>2=%{z}<extra></extra>",
         "legendgroup": "right",
         "marker": {
          "color": "#636efa",
          "symbol": "circle"
         },
         "mode": "markers",
         "name": "right",
         "scene": "scene",
         "showlegend": true,
         "x": [
          -0.171602264046669
         ],
         "y": [
          -0.03085547685623169
         ],
         "z": [
          -0.2784837484359741
         ],
         "type": "scatter3d"
        },
        {
         "hovertemplate": "color=nothing<br>0=%{x}<br>1=%{y}<br>2=%{z}<extra></extra>",
         "legendgroup": "nothing",
         "marker": {
          "color": "#EF553B",
          "symbol": "circle"
         },
         "mode": "markers",
         "name": "nothing",
         "scene": "scene",
         "showlegend": true,
         "x": [
          0.2561487555503845
         ],
         "y": [
          -0.4904042184352875
         ],
         "z": [
          0.2756907045841217
         ],
         "type": "scatter3d"
        },
        {
         "hovertemplate": "color=walls<br>0=%{x}<br>1=%{y}<br>2=%{z}<extra></extra>",
         "legendgroup": "walls",
         "marker": {
          "color": "#00cc96",
          "symbol": "circle"
         },
         "mode": "markers",
         "name": "walls",
         "scene": "scene",
         "showlegend": true,
         "x": [
          -0.47258642315864563
         ],
         "y": [
          0.44457581639289856
         ],
         "z": [
          0.5122318267822266
         ],
         "type": "scatter3d"
        },
        {
         "hovertemplate": "color=fingers<br>0=%{x}<br>1=%{y}<br>2=%{z}<extra></extra>",
         "legendgroup": "fingers",
         "marker": {
          "color": "#ab63fa",
          "symbol": "circle"
         },
         "mode": "markers",
         "name": "fingers",
         "scene": "scene",
         "showlegend": true,
         "x": [
          -0.6529380083084106
         ],
         "y": [
          -0.17840589582920074
         ],
         "z": [
          -0.291769802570343
         ],
         "type": "scatter3d"
        },
        {
         "hovertemplate": "color=cloak<br>0=%{x}<br>1=%{y}<br>2=%{z}<extra></extra>",
         "legendgroup": "cloak",
         "marker": {
          "color": "#FFA15A",
          "symbol": "circle"
         },
         "mode": "markers",
         "name": "cloak",
         "scene": "scene",
         "showlegend": true,
         "x": [
          -0.5415588021278381
         ],
         "y": [
          0.3579336106777191
         ],
         "z": [
          -0.4599177837371826
         ],
         "type": "scatter3d"
        },
        {
         "hovertemplate": "color=house<br>0=%{x}<br>1=%{y}<br>2=%{z}<extra></extra>",
         "legendgroup": "house",
         "marker": {
          "color": "#19d3f3",
          "symbol": "circle"
         },
         "mode": "markers",
         "name": "house",
         "scene": "scene",
         "showlegend": true,
         "x": [
          0.1978563666343689
         ],
         "y": [
          0.853156566619873
         ],
         "z": [
          -0.26938769221305847
         ],
         "type": "scatter3d"
        },
        {
         "hovertemplate": "color=young<br>0=%{x}<br>1=%{y}<br>2=%{z}<extra></extra>",
         "legendgroup": "young",
         "marker": {
          "color": "#FF6692",
          "symbol": "circle"
         },
         "mode": "markers",
         "name": "young",
         "scene": "scene",
         "showlegend": true,
         "x": [
          0.3959991931915283
         ],
         "y": [
          0.529438853263855
         ],
         "z": [
          -0.31895026564598083
         ],
         "type": "scatter3d"
        },
        {
         "hovertemplate": "color=beside<br>0=%{x}<br>1=%{y}<br>2=%{z}<extra></extra>",
         "legendgroup": "beside",
         "marker": {
          "color": "#B6E880",
          "symbol": "circle"
         },
         "mode": "markers",
         "name": "beside",
         "scene": "scene",
         "showlegend": true,
         "x": [
          -0.46508434414863586
         ],
         "y": [
          0.49471086263656616
         ],
         "z": [
          -0.2419111132621765
         ],
         "type": "scatter3d"
        },
        {
         "hovertemplate": "color=get<br>0=%{x}<br>1=%{y}<br>2=%{z}<extra></extra>",
         "legendgroup": "get",
         "marker": {
          "color": "#FF97FF",
          "symbol": "circle"
         },
         "mode": "markers",
         "name": "get",
         "scene": "scene",
         "showlegend": true,
         "x": [
          0.1427072286605835
         ],
         "y": [
          -0.39844706654548645
         ],
         "z": [
          0.2640809714794159
         ],
         "type": "scatter3d"
        },
        {
         "hovertemplate": "color=mouth<br>0=%{x}<br>1=%{y}<br>2=%{z}<extra></extra>",
         "legendgroup": "mouth",
         "marker": {
          "color": "#FECB52",
          "symbol": "circle"
         },
         "mode": "markers",
         "name": "mouth",
         "scene": "scene",
         "showlegend": true,
         "x": [
          -0.4723052680492401
         ],
         "y": [
          -0.45284780859947205
         ],
         "z": [
          -0.36172834038734436
         ],
         "type": "scatter3d"
        },
        {
         "hovertemplate": "color=seven<br>0=%{x}<br>1=%{y}<br>2=%{z}<extra></extra>",
         "legendgroup": "seven",
         "marker": {
          "color": "#636efa",
          "symbol": "circle"
         },
         "mode": "markers",
         "name": "seven",
         "scene": "scene",
         "showlegend": true,
         "x": [
          0.22991980612277985
         ],
         "y": [
          0.633741021156311
         ],
         "z": [
          0.3300994634628296
         ],
         "type": "scatter3d"
        },
        {
         "hovertemplate": "color=watch<br>0=%{x}<br>1=%{y}<br>2=%{z}<extra></extra>",
         "legendgroup": "watch",
         "marker": {
          "color": "#EF553B",
          "symbol": "circle"
         },
         "mode": "markers",
         "name": "watch",
         "scene": "scene",
         "showlegend": true,
         "x": [
          0.23816899955272675
         ],
         "y": [
          0.4447433054447174
         ],
         "z": [
          0.20710846781730652
         ],
         "type": "scatter3d"
        },
        {
         "hovertemplate": "color=door<br>0=%{x}<br>1=%{y}<br>2=%{z}<extra></extra>",
         "legendgroup": "door",
         "marker": {
          "color": "#00cc96",
          "symbol": "circle"
         },
         "mode": "markers",
         "name": "door",
         "scene": "scene",
         "showlegend": true,
         "x": [
          -0.49405884742736816
         ],
         "y": [
          0.1402464509010315
         ],
         "z": [
          -0.16575025022029877
         ],
         "type": "scatter3d"
        },
        {
         "hovertemplate": "color=joffrey<br>0=%{x}<br>1=%{y}<br>2=%{z}<extra></extra>",
         "legendgroup": "joffrey",
         "marker": {
          "color": "#ab63fa",
          "symbol": "circle"
         },
         "mode": "markers",
         "name": "joffrey",
         "scene": "scene",
         "showlegend": true,
         "x": [
          0.46113163232803345
         ],
         "y": [
          0.2294357866048813
         ],
         "z": [
          -0.32369527220726013
         ],
         "type": "scatter3d"
        },
        {
         "hovertemplate": "color=green<br>0=%{x}<br>1=%{y}<br>2=%{z}<extra></extra>",
         "legendgroup": "green",
         "marker": {
          "color": "#FFA15A",
          "symbol": "circle"
         },
         "mode": "markers",
         "name": "green",
         "scene": "scene",
         "showlegend": true,
         "x": [
          -0.5057428479194641
         ],
         "y": [
          0.4183509051799774
         ],
         "z": [
          -0.08214175701141357
         ],
         "type": "scatter3d"
        },
        {
         "hovertemplate": "color=big<br>0=%{x}<br>1=%{y}<br>2=%{z}<extra></extra>",
         "legendgroup": "big",
         "marker": {
          "color": "#19d3f3",
          "symbol": "circle"
         },
         "mode": "markers",
         "name": "big",
         "scene": "scene",
         "showlegend": true,
         "x": [
          -0.3786919116973877
         ],
         "y": [
          0.10446280241012573
         ],
         "z": [
          -0.23421694338321686
         ],
         "type": "scatter3d"
        },
        {
         "hovertemplate": "color=sent<br>0=%{x}<br>1=%{y}<br>2=%{z}<extra></extra>",
         "legendgroup": "sent",
         "marker": {
          "color": "#FF6692",
          "symbol": "circle"
         },
         "mode": "markers",
         "name": "sent",
         "scene": "scene",
         "showlegend": true,
         "x": [
          0.2717939615249634
         ],
         "y": [
          0.41150158643722534
         ],
         "z": [
          0.11299847066402435
         ],
         "type": "scatter3d"
        },
        {
         "hovertemplate": "color=perhaps<br>0=%{x}<br>1=%{y}<br>2=%{z}<extra></extra>",
         "legendgroup": "perhaps",
         "marker": {
          "color": "#B6E880",
          "symbol": "circle"
         },
         "mode": "markers",
         "name": "perhaps",
         "scene": "scene",
         "showlegend": true,
         "x": [
          0.7279118895530701
         ],
         "y": [
          -0.1017179936170578
         ],
         "z": [
          0.24508549273014069
         ],
         "type": "scatter3d"
        },
        {
         "hovertemplate": "color=almost<br>0=%{x}<br>1=%{y}<br>2=%{z}<extra></extra>",
         "legendgroup": "almost",
         "marker": {
          "color": "#FF97FF",
          "symbol": "circle"
         },
         "mode": "markers",
         "name": "almost",
         "scene": "scene",
         "showlegend": true,
         "x": [
          -0.3377877473831177
         ],
         "y": [
          -0.363243043422699
         ],
         "z": [
          0.013375625014305115
         ],
         "type": "scatter3d"
        },
        {
         "hovertemplate": "color=wanted<br>0=%{x}<br>1=%{y}<br>2=%{z}<extra></extra>",
         "legendgroup": "wanted",
         "marker": {
          "color": "#FECB52",
          "symbol": "circle"
         },
         "mode": "markers",
         "name": "wanted",
         "scene": "scene",
         "showlegend": true,
         "x": [
          0.4864389896392822
         ],
         "y": [
          -0.410238653421402
         ],
         "z": [
          0.14807510375976562
         ],
         "type": "scatter3d"
        },
        {
         "hovertemplate": "color=daughter<br>0=%{x}<br>1=%{y}<br>2=%{z}<extra></extra>",
         "legendgroup": "daughter",
         "marker": {
          "color": "#636efa",
          "symbol": "circle"
         },
         "mode": "markers",
         "name": "daughter",
         "scene": "scene",
         "showlegend": true,
         "x": [
          0.450887531042099
         ],
         "y": [
          0.6860049366950989
         ],
         "z": [
          -0.44966158270835876
         ],
         "type": "scatter3d"
        },
        {
         "hovertemplate": "color=true<br>0=%{x}<br>1=%{y}<br>2=%{z}<extra></extra>",
         "legendgroup": "true",
         "marker": {
          "color": "#EF553B",
          "symbol": "circle"
         },
         "mode": "markers",
         "name": "true",
         "scene": "scene",
         "showlegend": true,
         "x": [
          0.7023205757141113
         ],
         "y": [
          0.13115611672401428
         ],
         "z": [
          0.07518573105335236
         ],
         "type": "scatter3d"
        },
        {
         "hovertemplate": "color=leave<br>0=%{x}<br>1=%{y}<br>2=%{z}<extra></extra>",
         "legendgroup": "leave",
         "marker": {
          "color": "#00cc96",
          "symbol": "circle"
         },
         "mode": "markers",
         "name": "leave",
         "scene": "scene",
         "showlegend": true,
         "x": [
          0.519869863986969
         ],
         "y": [
          -0.00875009223818779
         ],
         "z": [
          0.1355123370885849
         ],
         "type": "scatter3d"
        },
        {
         "hovertemplate": "color=wind<br>0=%{x}<br>1=%{y}<br>2=%{z}<extra></extra>",
         "legendgroup": "wind",
         "marker": {
          "color": "#ab63fa",
          "symbol": "circle"
         },
         "mode": "markers",
         "name": "wind",
         "scene": "scene",
         "showlegend": true,
         "x": [
          -0.6509677767753601
         ],
         "y": [
          -0.01614132523536682
         ],
         "z": [
          0.2861630618572235
         ],
         "type": "scatter3d"
        },
        {
         "hovertemplate": "color=city<br>0=%{x}<br>1=%{y}<br>2=%{z}<extra></extra>",
         "legendgroup": "city",
         "marker": {
          "color": "#FFA15A",
          "symbol": "circle"
         },
         "mode": "markers",
         "name": "city",
         "scene": "scene",
         "showlegend": true,
         "x": [
          0.11226720362901688
         ],
         "y": [
          0.5227438807487488
         ],
         "z": [
          0.528359055519104
         ],
         "type": "scatter3d"
        },
        {
         "hovertemplate": "color=light<br>0=%{x}<br>1=%{y}<br>2=%{z}<extra></extra>",
         "legendgroup": "light",
         "marker": {
          "color": "#19d3f3",
          "symbol": "circle"
         },
         "mode": "markers",
         "name": "light",
         "scene": "scene",
         "showlegend": true,
         "x": [
          -0.5163033604621887
         ],
         "y": [
          0.08234498649835587
         ],
         "z": [
          0.23265515267848969
         ],
         "type": "scatter3d"
        },
        {
         "hovertemplate": "color=arms<br>0=%{x}<br>1=%{y}<br>2=%{z}<extra></extra>",
         "legendgroup": "arms",
         "marker": {
          "color": "#FF6692",
          "symbol": "circle"
         },
         "mode": "markers",
         "name": "arms",
         "scene": "scene",
         "showlegend": true,
         "x": [
          -0.2936953902244568
         ],
         "y": [
          0.5679563283920288
         ],
         "z": [
          -0.3052697777748108
         ],
         "type": "scatter3d"
        },
        {
         "hovertemplate": "color=children<br>0=%{x}<br>1=%{y}<br>2=%{z}<extra></extra>",
         "legendgroup": "children",
         "marker": {
          "color": "#B6E880",
          "symbol": "circle"
         },
         "mode": "markers",
         "name": "children",
         "scene": "scene",
         "showlegend": true,
         "x": [
          0.441872239112854
         ],
         "y": [
          0.4078691899776459
         ],
         "z": [
          0.35973843932151794
         ],
         "type": "scatter3d"
        },
        {
         "hovertemplate": "color=sweet<br>0=%{x}<br>1=%{y}<br>2=%{z}<extra></extra>",
         "legendgroup": "sweet",
         "marker": {
          "color": "#FF97FF",
          "symbol": "circle"
         },
         "mode": "markers",
         "name": "sweet",
         "scene": "scene",
         "showlegend": true,
         "x": [
          0.3043206036090851
         ],
         "y": [
          -0.32666507363319397
         ],
         "z": [
          -0.22783438861370087
         ],
         "type": "scatter3d"
        },
        {
         "hovertemplate": "color=others<br>0=%{x}<br>1=%{y}<br>2=%{z}<extra></extra>",
         "legendgroup": "others",
         "marker": {
          "color": "#FECB52",
          "symbol": "circle"
         },
         "mode": "markers",
         "name": "others",
         "scene": "scene",
         "showlegend": true,
         "x": [
          0.0903499647974968
         ],
         "y": [
          0.28632625937461853
         ],
         "z": [
          0.3074030876159668
         ],
         "type": "scatter3d"
        },
        {
         "hovertemplate": "color=lost<br>0=%{x}<br>1=%{y}<br>2=%{z}<extra></extra>",
         "legendgroup": "lost",
         "marker": {
          "color": "#636efa",
          "symbol": "circle"
         },
         "mode": "markers",
         "name": "lost",
         "scene": "scene",
         "showlegend": true,
         "x": [
          0.26336008310317993
         ],
         "y": [
          0.36928245425224304
         ],
         "z": [
          0.20351776480674744
         ],
         "type": "scatter3d"
        },
        {
         "hovertemplate": "color=theon<br>0=%{x}<br>1=%{y}<br>2=%{z}<extra></extra>",
         "legendgroup": "theon",
         "marker": {
          "color": "#EF553B",
          "symbol": "circle"
         },
         "mode": "markers",
         "name": "theon",
         "scene": "scene",
         "showlegend": true,
         "x": [
          0.1601826250553131
         ],
         "y": [
          0.024531779810786247
         ],
         "z": [
          -0.3128435015678406
         ],
         "type": "scatter3d"
        },
        {
         "hovertemplate": "color=felt<br>0=%{x}<br>1=%{y}<br>2=%{z}<extra></extra>",
         "legendgroup": "felt",
         "marker": {
          "color": "#00cc96",
          "symbol": "circle"
         },
         "mode": "markers",
         "name": "felt",
         "scene": "scene",
         "showlegend": true,
         "x": [
          -0.2725975215435028
         ],
         "y": [
          -0.5374635457992554
         ],
         "z": [
          -0.004343532025814056
         ],
         "type": "scatter3d"
        },
        {
         "hovertemplate": "color=re<br>0=%{x}<br>1=%{y}<br>2=%{z}<extra></extra>",
         "legendgroup": "re",
         "marker": {
          "color": "#ab63fa",
          "symbol": "circle"
         },
         "mode": "markers",
         "name": "re",
         "scene": "scene",
         "showlegend": true,
         "x": [
          0.46151605248451233
         ],
         "y": [
          -0.33293017745018005
         ],
         "z": [
          0.2872072756290436
         ],
         "type": "scatter3d"
        },
        {
         "hovertemplate": "color=side<br>0=%{x}<br>1=%{y}<br>2=%{z}<extra></extra>",
         "legendgroup": "side",
         "marker": {
          "color": "#FFA15A",
          "symbol": "circle"
         },
         "mode": "markers",
         "name": "side",
         "scene": "scene",
         "showlegend": true,
         "x": [
          -0.43492940068244934
         ],
         "y": [
          0.36097609996795654
         ],
         "z": [
          0.07733305543661118
         ],
         "type": "scatter3d"
        },
        {
         "hovertemplate": "color=yes<br>0=%{x}<br>1=%{y}<br>2=%{z}<extra></extra>",
         "legendgroup": "yes",
         "marker": {
          "color": "#19d3f3",
          "symbol": "circle"
         },
         "mode": "markers",
         "name": "yes",
         "scene": "scene",
         "showlegend": true,
         "x": [
          0.7350682616233826
         ],
         "y": [
          -0.1819496899843216
         ],
         "z": [
          -0.1478838324546814
         ],
         "type": "scatter3d"
        },
        {
         "hovertemplate": "color=brothers<br>0=%{x}<br>1=%{y}<br>2=%{z}<extra></extra>",
         "legendgroup": "brothers",
         "marker": {
          "color": "#FF6692",
          "symbol": "circle"
         },
         "mode": "markers",
         "name": "brothers",
         "scene": "scene",
         "showlegend": true,
         "x": [
          0.33290502429008484
         ],
         "y": [
          0.6557159423828125
         ],
         "z": [
          0.13793958723545074
         ],
         "type": "scatter3d"
        },
        {
         "hovertemplate": "color=best<br>0=%{x}<br>1=%{y}<br>2=%{z}<extra></extra>",
         "legendgroup": "best",
         "marker": {
          "color": "#B6E880",
          "symbol": "circle"
         },
         "mode": "markers",
         "name": "best",
         "scene": "scene",
         "showlegend": true,
         "x": [
          0.5598331689834595
         ],
         "y": [
          -0.1597328633069992
         ],
         "z": [
          0.41440272331237793
         ],
         "type": "scatter3d"
        },
        {
         "hovertemplate": "color=die<br>0=%{x}<br>1=%{y}<br>2=%{z}<extra></extra>",
         "legendgroup": "die",
         "marker": {
          "color": "#FF97FF",
          "symbol": "circle"
         },
         "mode": "markers",
         "name": "die",
         "scene": "scene",
         "showlegend": true,
         "x": [
          0.5845775008201599
         ],
         "y": [
          -0.12003864347934723
         ],
         "z": [
          0.345214307308197
         ],
         "type": "scatter3d"
        },
        {
         "hovertemplate": "color=brought<br>0=%{x}<br>1=%{y}<br>2=%{z}<extra></extra>",
         "legendgroup": "brought",
         "marker": {
          "color": "#FECB52",
          "symbol": "circle"
         },
         "mode": "markers",
         "name": "brought",
         "scene": "scene",
         "showlegend": true,
         "x": [
          0.09035900235176086
         ],
         "y": [
          0.30808398127555847
         ],
         "z": [
          -0.010737676173448563
         ],
         "type": "scatter3d"
        },
        {
         "hovertemplate": "color=soon<br>0=%{x}<br>1=%{y}<br>2=%{z}<extra></extra>",
         "legendgroup": "soon",
         "marker": {
          "color": "#636efa",
          "symbol": "circle"
         },
         "mode": "markers",
         "name": "soon",
         "scene": "scene",
         "showlegend": true,
         "x": [
          0.3559631407260895
         ],
         "y": [
          -0.09156885743141174
         ],
         "z": [
          0.5133922696113586
         ],
         "type": "scatter3d"
        },
        {
         "hovertemplate": "color=far<br>0=%{x}<br>1=%{y}<br>2=%{z}<extra></extra>",
         "legendgroup": "far",
         "marker": {
          "color": "#EF553B",
          "symbol": "circle"
         },
         "mode": "markers",
         "name": "far",
         "scene": "scene",
         "showlegend": true,
         "x": [
          -0.035672254860401154
         ],
         "y": [
          0.05212172865867615
         ],
         "z": [
          0.5493559837341309
         ],
         "type": "scatter3d"
        },
        {
         "hovertemplate": "color=died<br>0=%{x}<br>1=%{y}<br>2=%{z}<extra></extra>",
         "legendgroup": "died",
         "marker": {
          "color": "#00cc96",
          "symbol": "circle"
         },
         "mode": "markers",
         "name": "died",
         "scene": "scene",
         "showlegend": true,
         "x": [
          0.37048086524009705
         ],
         "y": [
          0.5711649656295776
         ],
         "z": [
          0.024115270003676414
         ],
         "type": "scatter3d"
        },
        {
         "hovertemplate": "color=north<br>0=%{x}<br>1=%{y}<br>2=%{z}<extra></extra>",
         "legendgroup": "north",
         "marker": {
          "color": "#ab63fa",
          "symbol": "circle"
         },
         "mode": "markers",
         "name": "north",
         "scene": "scene",
         "showlegend": true,
         "x": [
          0.1329072266817093
         ],
         "y": [
          0.6134512424468994
         ],
         "z": [
          0.3651556372642517
         ],
         "type": "scatter3d"
        },
        {
         "hovertemplate": "color=child<br>0=%{x}<br>1=%{y}<br>2=%{z}<extra></extra>",
         "legendgroup": "child",
         "marker": {
          "color": "#FFA15A",
          "symbol": "circle"
         },
         "mode": "markers",
         "name": "child",
         "scene": "scene",
         "showlegend": true,
         "x": [
          0.5547178983688354
         ],
         "y": [
          -0.07932623475790024
         ],
         "z": [
          -0.10604557394981384
         ],
         "type": "scatter3d"
        },
        {
         "hovertemplate": "color=fear<br>0=%{x}<br>1=%{y}<br>2=%{z}<extra></extra>",
         "legendgroup": "fear",
         "marker": {
          "color": "#19d3f3",
          "symbol": "circle"
         },
         "mode": "markers",
         "name": "fear",
         "scene": "scene",
         "showlegend": true,
         "x": [
          0.35003870725631714
         ],
         "y": [
          -0.4786653220653534
         ],
         "z": [
          0.2663927972316742
         ],
         "type": "scatter3d"
        },
        {
         "hovertemplate": "color=along<br>0=%{x}<br>1=%{y}<br>2=%{z}<extra></extra>",
         "legendgroup": "along",
         "marker": {
          "color": "#FF6692",
          "symbol": "circle"
         },
         "mode": "markers",
         "name": "along",
         "scene": "scene",
         "showlegend": true,
         "x": [
          -0.4991930425167084
         ],
         "y": [
          0.47417768836021423
         ],
         "z": [
          0.4495866298675537
         ],
         "type": "scatter3d"
        },
        {
         "hovertemplate": "color=word<br>0=%{x}<br>1=%{y}<br>2=%{z}<extra></extra>",
         "legendgroup": "word",
         "marker": {
          "color": "#B6E880",
          "symbol": "circle"
         },
         "mode": "markers",
         "name": "word",
         "scene": "scene",
         "showlegend": true,
         "x": [
          0.6388021111488342
         ],
         "y": [
          -0.06899233162403107
         ],
         "z": [
          -0.026303093880414963
         ],
         "type": "scatter3d"
        },
        {
         "hovertemplate": "color=brienne<br>0=%{x}<br>1=%{y}<br>2=%{z}<extra></extra>",
         "legendgroup": "brienne",
         "marker": {
          "color": "#FF97FF",
          "symbol": "circle"
         },
         "mode": "markers",
         "name": "brienne",
         "scene": "scene",
         "showlegend": true,
         "x": [
          -0.021151341497898102
         ],
         "y": [
          -0.2652052044868469
         ],
         "z": [
          -0.29578229784965515
         ],
         "type": "scatter3d"
        },
        {
         "hovertemplate": "color=taken<br>0=%{x}<br>1=%{y}<br>2=%{z}<extra></extra>",
         "legendgroup": "taken",
         "marker": {
          "color": "#FECB52",
          "symbol": "circle"
         },
         "mode": "markers",
         "name": "taken",
         "scene": "scene",
         "showlegend": true,
         "x": [
          0.41511985659599304
         ],
         "y": [
          0.6176306009292603
         ],
         "z": [
          0.14888150990009308
         ],
         "type": "scatter3d"
        },
        {
         "hovertemplate": "color=battle<br>0=%{x}<br>1=%{y}<br>2=%{z}<extra></extra>",
         "legendgroup": "battle",
         "marker": {
          "color": "#636efa",
          "symbol": "circle"
         },
         "mode": "markers",
         "name": "battle",
         "scene": "scene",
         "showlegend": true,
         "x": [
          0.3837108612060547
         ],
         "y": [
          0.6431999206542969
         ],
         "z": [
          0.1805899739265442
         ],
         "type": "scatter3d"
        },
        {
         "hovertemplate": "color=help<br>0=%{x}<br>1=%{y}<br>2=%{z}<extra></extra>",
         "legendgroup": "help",
         "marker": {
          "color": "#EF553B",
          "symbol": "circle"
         },
         "mode": "markers",
         "name": "help",
         "scene": "scene",
         "showlegend": true,
         "x": [
          0.5211886763572693
         ],
         "y": [
          -0.25901177525520325
         ],
         "z": [
          0.12735073268413544
         ],
         "type": "scatter3d"
        },
        {
         "hovertemplate": "color=new<br>0=%{x}<br>1=%{y}<br>2=%{z}<extra></extra>",
         "legendgroup": "new",
         "marker": {
          "color": "#00cc96",
          "symbol": "circle"
         },
         "mode": "markers",
         "name": "new",
         "scene": "scene",
         "showlegend": true,
         "x": [
          0.3446367084980011
         ],
         "y": [
          0.5945752859115601
         ],
         "z": [
          0.2122577726840973
         ],
         "type": "scatter3d"
        },
        {
         "hovertemplate": "color=tywin<br>0=%{x}<br>1=%{y}<br>2=%{z}<extra></extra>",
         "legendgroup": "tywin",
         "marker": {
          "color": "#ab63fa",
          "symbol": "circle"
         },
         "mode": "markers",
         "name": "tywin",
         "scene": "scene",
         "showlegend": true,
         "x": [
          0.41288405656814575
         ],
         "y": [
          0.36349567770957947
         ],
         "z": [
          -0.2414911836385727
         ],
         "type": "scatter3d"
        },
        {
         "hovertemplate": "color=davos<br>0=%{x}<br>1=%{y}<br>2=%{z}<extra></extra>",
         "legendgroup": "davos",
         "marker": {
          "color": "#FFA15A",
          "symbol": "circle"
         },
         "mode": "markers",
         "name": "davos",
         "scene": "scene",
         "showlegend": true,
         "x": [
          0.14215970039367676
         ],
         "y": [
          -0.03403889387845993
         ],
         "z": [
          -0.1899828463792801
         ],
         "type": "scatter3d"
        },
        {
         "hovertemplate": "color=lords<br>0=%{x}<br>1=%{y}<br>2=%{z}<extra></extra>",
         "legendgroup": "lords",
         "marker": {
          "color": "#19d3f3",
          "symbol": "circle"
         },
         "mode": "markers",
         "name": "lords",
         "scene": "scene",
         "showlegend": true,
         "x": [
          0.4448610246181488
         ],
         "y": [
          0.8223457336425781
         ],
         "z": [
          0.13524825870990753
         ],
         "type": "scatter3d"
        },
        {
         "hovertemplate": "color=something<br>0=%{x}<br>1=%{y}<br>2=%{z}<extra></extra>",
         "legendgroup": "something",
         "marker": {
          "color": "#FF6692",
          "symbol": "circle"
         },
         "mode": "markers",
         "name": "something",
         "scene": "scene",
         "showlegend": true,
         "x": [
          0.07487340271472931
         ],
         "y": [
          -0.6954503655433655
         ],
         "z": [
          -0.012016727589070797
         ],
         "type": "scatter3d"
        },
        {
         "hovertemplate": "color=mean<br>0=%{x}<br>1=%{y}<br>2=%{z}<extra></extra>",
         "legendgroup": "mean",
         "marker": {
          "color": "#B6E880",
          "symbol": "circle"
         },
         "mode": "markers",
         "name": "mean",
         "scene": "scene",
         "showlegend": true,
         "x": [
          0.7512606978416443
         ],
         "y": [
          0.02042434737086296
         ],
         "z": [
          0.20621827244758606
         ],
         "type": "scatter3d"
        },
        {
         "hovertemplate": "color=wife<br>0=%{x}<br>1=%{y}<br>2=%{z}<extra></extra>",
         "legendgroup": "wife",
         "marker": {
          "color": "#FF97FF",
          "symbol": "circle"
         },
         "mode": "markers",
         "name": "wife",
         "scene": "scene",
         "showlegend": true,
         "x": [
          0.589895486831665
         ],
         "y": [
          0.5105769634246826
         ],
         "z": [
          -0.2681152820587158
         ],
         "type": "scatter3d"
        },
        {
         "hovertemplate": "color=hall<br>0=%{x}<br>1=%{y}<br>2=%{z}<extra></extra>",
         "legendgroup": "hall",
         "marker": {
          "color": "#FECB52",
          "symbol": "circle"
         },
         "mode": "markers",
         "name": "hall",
         "scene": "scene",
         "showlegend": true,
         "x": [
          -0.3569599688053131
         ],
         "y": [
          0.539862871170044
         ],
         "z": [
          0.11534862965345383
         ],
         "type": "scatter3d"
        },
        {
         "hovertemplate": "color=rest<br>0=%{x}<br>1=%{y}<br>2=%{z}<extra></extra>",
         "legendgroup": "rest",
         "marker": {
          "color": "#636efa",
          "symbol": "circle"
         },
         "mode": "markers",
         "name": "rest",
         "scene": "scene",
         "showlegend": true,
         "x": [
          0.19220753014087677
         ],
         "y": [
          0.23950175940990448
         ],
         "z": [
          0.4487690329551697
         ],
         "type": "scatter3d"
        },
        {
         "hovertemplate": "color=kill<br>0=%{x}<br>1=%{y}<br>2=%{z}<extra></extra>",
         "legendgroup": "kill",
         "marker": {
          "color": "#EF553B",
          "symbol": "circle"
         },
         "mode": "markers",
         "name": "kill",
         "scene": "scene",
         "showlegend": true,
         "x": [
          0.6024175882339478
         ],
         "y": [
          -0.3052944540977478
         ],
         "z": [
          0.12224739789962769
         ],
         "type": "scatter3d"
        },
        {
         "hovertemplate": "color=strong<br>0=%{x}<br>1=%{y}<br>2=%{z}<extra></extra>",
         "legendgroup": "strong",
         "marker": {
          "color": "#00cc96",
          "symbol": "circle"
         },
         "mode": "markers",
         "name": "strong",
         "scene": "scene",
         "showlegend": true,
         "x": [
          0.1763632446527481
         ],
         "y": [
          0.03736472129821777
         ],
         "z": [
          0.17899587750434875
         ],
         "type": "scatter3d"
        },
        {
         "hovertemplate": "color=steel<br>0=%{x}<br>1=%{y}<br>2=%{z}<extra></extra>",
         "legendgroup": "steel",
         "marker": {
          "color": "#ab63fa",
          "symbol": "circle"
         },
         "mode": "markers",
         "name": "steel",
         "scene": "scene",
         "showlegend": true,
         "x": [
          -0.6643556952476501
         ],
         "y": [
          0.11753694713115692
         ],
         "z": [
          -0.02476365491747856
         ],
         "type": "scatter3d"
        },
        {
         "hovertemplate": "color=began<br>0=%{x}<br>1=%{y}<br>2=%{z}<extra></extra>",
         "legendgroup": "began",
         "marker": {
          "color": "#FFA15A",
          "symbol": "circle"
         },
         "mode": "markers",
         "name": "began",
         "scene": "scene",
         "showlegend": true,
         "x": [
          -0.4895889163017273
         ],
         "y": [
          -0.21448931097984314
         ],
         "z": [
          0.18367527425289154
         ],
         "type": "scatter3d"
        },
        {
         "hovertemplate": "color=sound<br>0=%{x}<br>1=%{y}<br>2=%{z}<extra></extra>",
         "legendgroup": "sound",
         "marker": {
          "color": "#19d3f3",
          "symbol": "circle"
         },
         "mode": "markers",
         "name": "sound",
         "scene": "scene",
         "showlegend": true,
         "x": [
          -0.4832618534564972
         ],
         "y": [
          -0.3356049060821533
         ],
         "z": [
          0.2234598845243454
         ],
         "type": "scatter3d"
        },
        {
         "hovertemplate": "color=dragon<br>0=%{x}<br>1=%{y}<br>2=%{z}<extra></extra>",
         "legendgroup": "dragon",
         "marker": {
          "color": "#FF6692",
          "symbol": "circle"
         },
         "mode": "markers",
         "name": "dragon",
         "scene": "scene",
         "showlegend": true,
         "x": [
          -0.12830205261707306
         ],
         "y": [
          0.20499679446220398
         ],
         "z": [
          0.33766666054725647
         ],
         "type": "scatter3d"
        },
        {
         "hovertemplate": "color=past<br>0=%{x}<br>1=%{y}<br>2=%{z}<extra></extra>",
         "legendgroup": "past",
         "marker": {
          "color": "#B6E880",
          "symbol": "circle"
         },
         "mode": "markers",
         "name": "past",
         "scene": "scene",
         "showlegend": true,
         "x": [
          -0.46288347244262695
         ],
         "y": [
          0.4601300060749054
         ],
         "z": [
          0.2928800582885742
         ],
         "type": "scatter3d"
        },
        {
         "hovertemplate": "color=life<br>0=%{x}<br>1=%{y}<br>2=%{z}<extra></extra>",
         "legendgroup": "life",
         "marker": {
          "color": "#FF97FF",
          "symbol": "circle"
         },
         "mode": "markers",
         "name": "life",
         "scene": "scene",
         "showlegend": true,
         "x": [
          0.5898317694664001
         ],
         "y": [
          0.018438536673784256
         ],
         "z": [
          0.3864929676055908
         ],
         "type": "scatter3d"
        },
        {
         "hovertemplate": "color=tower<br>0=%{x}<br>1=%{y}<br>2=%{z}<extra></extra>",
         "legendgroup": "tower",
         "marker": {
          "color": "#FECB52",
          "symbol": "circle"
         },
         "mode": "markers",
         "name": "tower",
         "scene": "scene",
         "showlegend": true,
         "x": [
          -0.34399136900901794
         ],
         "y": [
          0.6021301746368408
         ],
         "z": [
          0.2150615155696869
         ],
         "type": "scatter3d"
        },
        {
         "hovertemplate": "color=killed<br>0=%{x}<br>1=%{y}<br>2=%{z}<extra></extra>",
         "legendgroup": "killed",
         "marker": {
          "color": "#636efa",
          "symbol": "circle"
         },
         "mode": "markers",
         "name": "killed",
         "scene": "scene",
         "showlegend": true,
         "x": [
          0.6102918982505798
         ],
         "y": [
          0.2153552621603012
         ],
         "z": [
          -0.1609959602355957
         ],
         "type": "scatter3d"
        },
        {
         "hovertemplate": "color=arm<br>0=%{x}<br>1=%{y}<br>2=%{z}<extra></extra>",
         "legendgroup": "arm",
         "marker": {
          "color": "#EF553B",
          "symbol": "circle"
         },
         "mode": "markers",
         "name": "arm",
         "scene": "scene",
         "showlegend": true,
         "x": [
          -0.4448081851005554
         ],
         "y": [
          -0.023607222363352776
         ],
         "z": [
          -0.39999455213546753
         ],
         "type": "scatter3d"
        },
        {
         "hovertemplate": "color=tried<br>0=%{x}<br>1=%{y}<br>2=%{z}<extra></extra>",
         "legendgroup": "tried",
         "marker": {
          "color": "#00cc96",
          "symbol": "circle"
         },
         "mode": "markers",
         "name": "tried",
         "scene": "scene",
         "showlegend": true,
         "x": [
          -0.0034955041483044624
         ],
         "y": [
          -0.45854130387306213
         ],
         "z": [
          0.0420125350356102
         ],
         "type": "scatter3d"
        },
        {
         "hovertemplate": "color=sons<br>0=%{x}<br>1=%{y}<br>2=%{z}<extra></extra>",
         "legendgroup": "sons",
         "marker": {
          "color": "#ab63fa",
          "symbol": "circle"
         },
         "mode": "markers",
         "name": "sons",
         "scene": "scene",
         "showlegend": true,
         "x": [
          0.4678959250450134
         ],
         "y": [
          0.8261831998825073
         ],
         "z": [
          -0.013546274043619633
         ],
         "type": "scatter3d"
        },
        {
         "hovertemplate": "color=free<br>0=%{x}<br>1=%{y}<br>2=%{z}<extra></extra>",
         "legendgroup": "free",
         "marker": {
          "color": "#FFA15A",
          "symbol": "circle"
         },
         "mode": "markers",
         "name": "free",
         "scene": "scene",
         "showlegend": true,
         "x": [
          0.1672995388507843
         ],
         "y": [
          0.2650638222694397
         ],
         "z": [
          0.6171605587005615
         ],
         "type": "scatter3d"
        },
        {
         "hovertemplate": "color=thing<br>0=%{x}<br>1=%{y}<br>2=%{z}<extra></extra>",
         "legendgroup": "thing",
         "marker": {
          "color": "#19d3f3",
          "symbol": "circle"
         },
         "mode": "markers",
         "name": "thing",
         "scene": "scene",
         "showlegend": true,
         "x": [
          0.21988807618618011
         ],
         "y": [
          -0.4083929657936096
         ],
         "z": [
          0.19831280410289764
         ],
         "type": "scatter3d"
        },
        {
         "hovertemplate": "color=days<br>0=%{x}<br>1=%{y}<br>2=%{z}<extra></extra>",
         "legendgroup": "days",
         "marker": {
          "color": "#FF6692",
          "symbol": "circle"
         },
         "mode": "markers",
         "name": "days",
         "scene": "scene",
         "showlegend": true,
         "x": [
          0.12237593531608582
         ],
         "y": [
          0.3557451665401459
         ],
         "z": [
          0.6376367807388306
         ],
         "type": "scatter3d"
        },
        {
         "hovertemplate": "color=bear<br>0=%{x}<br>1=%{y}<br>2=%{z}<extra></extra>",
         "legendgroup": "bear",
         "marker": {
          "color": "#B6E880",
          "symbol": "circle"
         },
         "mode": "markers",
         "name": "bear",
         "scene": "scene",
         "showlegend": true,
         "x": [
          0.10468513518571854
         ],
         "y": [
          0.11209922283887863
         ],
         "z": [
          -0.08524024486541748
         ],
         "type": "scatter3d"
        },
        {
         "hovertemplate": "color=bloody<br>0=%{x}<br>1=%{y}<br>2=%{z}<extra></extra>",
         "legendgroup": "bloody",
         "marker": {
          "color": "#FF97FF",
          "symbol": "circle"
         },
         "mode": "markers",
         "name": "bloody",
         "scene": "scene",
         "showlegend": true,
         "x": [
          0.029895497485995293
         ],
         "y": [
          -0.22024348378181458
         ],
         "z": [
          0.16043445467948914
         ],
         "type": "scatter3d"
        },
        {
         "hovertemplate": "color=heart<br>0=%{x}<br>1=%{y}<br>2=%{z}<extra></extra>",
         "legendgroup": "heart",
         "marker": {
          "color": "#FECB52",
          "symbol": "circle"
         },
         "mode": "markers",
         "name": "heart",
         "scene": "scene",
         "showlegend": true,
         "x": [
          -0.24939456582069397
         ],
         "y": [
          -0.13907845318317413
         ],
         "z": [
          0.033085547387599945
         ],
         "type": "scatter3d"
        },
        {
         "hovertemplate": "color=pale<br>0=%{x}<br>1=%{y}<br>2=%{z}<extra></extra>",
         "legendgroup": "pale",
         "marker": {
          "color": "#636efa",
          "symbol": "circle"
         },
         "mode": "markers",
         "name": "pale",
         "scene": "scene",
         "showlegend": true,
         "x": [
          -0.6881192922592163
         ],
         "y": [
          0.10362350940704346
         ],
         "z": [
          -0.17622093856334686
         ],
         "type": "scatter3d"
        },
        {
         "hovertemplate": "color=love<br>0=%{x}<br>1=%{y}<br>2=%{z}<extra></extra>",
         "legendgroup": "love",
         "marker": {
          "color": "#EF553B",
          "symbol": "circle"
         },
         "mode": "markers",
         "name": "love",
         "scene": "scene",
         "showlegend": true,
         "x": [
          0.7680594325065613
         ],
         "y": [
          -0.07620546221733093
         ],
         "z": [
          0.05257907137274742
         ],
         "type": "scatter3d"
        },
        {
         "hovertemplate": "color=sat<br>0=%{x}<br>1=%{y}<br>2=%{z}<extra></extra>",
         "legendgroup": "sat",
         "marker": {
          "color": "#00cc96",
          "symbol": "circle"
         },
         "mode": "markers",
         "name": "sat",
         "scene": "scene",
         "showlegend": true,
         "x": [
          -0.4801686108112335
         ],
         "y": [
          0.4288780987262726
         ],
         "z": [
          -0.23211275041103363
         ],
         "type": "scatter3d"
        },
        {
         "hovertemplate": "color=moment<br>0=%{x}<br>1=%{y}<br>2=%{z}<extra></extra>",
         "legendgroup": "moment",
         "marker": {
          "color": "#ab63fa",
          "symbol": "circle"
         },
         "mode": "markers",
         "name": "moment",
         "scene": "scene",
         "showlegend": true,
         "x": [
          0.023898588493466377
         ],
         "y": [
          -0.4819731116294861
         ],
         "z": [
          -0.1970597356557846
         ],
         "type": "scatter3d"
        },
        {
         "hovertemplate": "color=bring<br>0=%{x}<br>1=%{y}<br>2=%{z}<extra></extra>",
         "legendgroup": "bring",
         "marker": {
          "color": "#FFA15A",
          "symbol": "circle"
         },
         "mode": "markers",
         "name": "bring",
         "scene": "scene",
         "showlegend": true,
         "x": [
          0.5176565647125244
         ],
         "y": [
          0.018756521865725517
         ],
         "z": [
          0.13533979654312134
         ],
         "type": "scatter3d"
        },
        {
         "hovertemplate": "color=bed<br>0=%{x}<br>1=%{y}<br>2=%{z}<extra></extra>",
         "legendgroup": "bed",
         "marker": {
          "color": "#19d3f3",
          "symbol": "circle"
         },
         "mode": "markers",
         "name": "bed",
         "scene": "scene",
         "showlegend": true,
         "x": [
          -0.08365457504987717
         ],
         "y": [
          -0.23791399598121643
         ],
         "z": [
          -0.011504084803164005
         ],
         "type": "scatter3d"
        },
        {
         "hovertemplate": "color=close<br>0=%{x}<br>1=%{y}<br>2=%{z}<extra></extra>",
         "legendgroup": "close",
         "marker": {
          "color": "#FF6692",
          "symbol": "circle"
         },
         "mode": "markers",
         "name": "close",
         "scene": "scene",
         "showlegend": true,
         "x": [
          -0.3321048617362976
         ],
         "y": [
          -0.2110055834054947
         ],
         "z": [
          0.10053350031375885
         ],
         "type": "scatter3d"
        },
        {
         "hovertemplate": "color=knights<br>0=%{x}<br>1=%{y}<br>2=%{z}<extra></extra>",
         "legendgroup": "knights",
         "marker": {
          "color": "#B6E880",
          "symbol": "circle"
         },
         "mode": "markers",
         "name": "knights",
         "scene": "scene",
         "showlegend": true,
         "x": [
          0.2237194925546646
         ],
         "y": [
          0.8719203472137451
         ],
         "z": [
          0.0888761356472969
         ],
         "type": "scatter3d"
        },
        {
         "hovertemplate": "color=cut<br>0=%{x}<br>1=%{y}<br>2=%{z}<extra></extra>",
         "legendgroup": "cut",
         "marker": {
          "color": "#FF97FF",
          "symbol": "circle"
         },
         "mode": "markers",
         "name": "cut",
         "scene": "scene",
         "showlegend": true,
         "x": [
          -0.30637165904045105
         ],
         "y": [
          -0.22597159445285797
         ],
         "z": [
          -0.04170228913426399
         ],
         "type": "scatter3d"
        },
        {
         "hovertemplate": "color=wolf<br>0=%{x}<br>1=%{y}<br>2=%{z}<extra></extra>",
         "legendgroup": "wolf",
         "marker": {
          "color": "#FECB52",
          "symbol": "circle"
         },
         "mode": "markers",
         "name": "wolf",
         "scene": "scene",
         "showlegend": true,
         "x": [
          -0.02294466458261013
         ],
         "y": [
          -0.15652339160442352
         ],
         "z": [
          -0.10412581264972687
         ],
         "type": "scatter3d"
        },
        {
         "hovertemplate": "color=horses<br>0=%{x}<br>1=%{y}<br>2=%{z}<extra></extra>",
         "legendgroup": "horses",
         "marker": {
          "color": "#636efa",
          "symbol": "circle"
         },
         "mode": "markers",
         "name": "horses",
         "scene": "scene",
         "showlegend": true,
         "x": [
          -0.37411773204803467
         ],
         "y": [
          0.12694692611694336
         ],
         "z": [
          0.5776724815368652
         ],
         "type": "scatter3d"
        },
        {
         "hovertemplate": "color=death<br>0=%{x}<br>1=%{y}<br>2=%{z}<extra></extra>",
         "legendgroup": "death",
         "marker": {
          "color": "#EF553B",
          "symbol": "circle"
         },
         "mode": "markers",
         "name": "death",
         "scene": "scene",
         "showlegend": true,
         "x": [
          0.5137998461723328
         ],
         "y": [
          -0.011037897318601608
         ],
         "z": [
          0.1730603724718094
         ],
         "type": "scatter3d"
        },
        {
         "hovertemplate": "color=smile<br>0=%{x}<br>1=%{y}<br>2=%{z}<extra></extra>",
         "legendgroup": "smile",
         "marker": {
          "color": "#00cc96",
          "symbol": "circle"
         },
         "mode": "markers",
         "name": "smile",
         "scene": "scene",
         "showlegend": true,
         "x": [
          0.047512199729681015
         ],
         "y": [
          -0.3798576295375824
         ],
         "z": [
          -0.6031190156936646
         ],
         "type": "scatter3d"
        },
        {
         "hovertemplate": "color=inside<br>0=%{x}<br>1=%{y}<br>2=%{z}<extra></extra>",
         "legendgroup": "inside",
         "marker": {
          "color": "#ab63fa",
          "symbol": "circle"
         },
         "mode": "markers",
         "name": "inside",
         "scene": "scene",
         "showlegend": true,
         "x": [
          -0.6556298732757568
         ],
         "y": [
          -0.12897631525993347
         ],
         "z": [
          0.2740355134010315
         ],
         "type": "scatter3d"
        },
        {
         "hovertemplate": "color=four<br>0=%{x}<br>1=%{y}<br>2=%{z}<extra></extra>",
         "legendgroup": "four",
         "marker": {
          "color": "#FFA15A",
          "symbol": "circle"
         },
         "mode": "markers",
         "name": "four",
         "scene": "scene",
         "showlegend": true,
         "x": [
          -0.04817323386669159
         ],
         "y": [
          0.6939622163772583
         ],
         "z": [
          0.27169978618621826
         ],
         "type": "scatter3d"
        },
        {
         "hovertemplate": "color=brown<br>0=%{x}<br>1=%{y}<br>2=%{z}<extra></extra>",
         "legendgroup": "brown",
         "marker": {
          "color": "#19d3f3",
          "symbol": "circle"
         },
         "mode": "markers",
         "name": "brown",
         "scene": "scene",
         "showlegend": true,
         "x": [
          -0.6005392670631409
         ],
         "y": [
          0.12487829476594925
         ],
         "z": [
          -0.27559390664100647
         ],
         "type": "scatter3d"
        },
        {
         "hovertemplate": "color=dragons<br>0=%{x}<br>1=%{y}<br>2=%{z}<extra></extra>",
         "legendgroup": "dragons",
         "marker": {
          "color": "#FF6692",
          "symbol": "circle"
         },
         "mode": "markers",
         "name": "dragons",
         "scene": "scene",
         "showlegend": true,
         "x": [
          0.2431352436542511
         ],
         "y": [
          0.2134983390569687
         ],
         "z": [
          0.5158048272132874
         ],
         "type": "scatter3d"
        },
        {
         "hovertemplate": "color=hot<br>0=%{x}<br>1=%{y}<br>2=%{z}<extra></extra>",
         "legendgroup": "hot",
         "marker": {
          "color": "#B6E880",
          "symbol": "circle"
         },
         "mode": "markers",
         "name": "hot",
         "scene": "scene",
         "showlegend": true,
         "x": [
          -0.4383138120174408
         ],
         "y": [
          -0.4899956285953522
         ],
         "z": [
          0.18623067438602448
         ],
         "type": "scatter3d"
        },
        {
         "hovertemplate": "color=silver<br>0=%{x}<br>1=%{y}<br>2=%{z}<extra></extra>",
         "legendgroup": "silver",
         "marker": {
          "color": "#FF97FF",
          "symbol": "circle"
         },
         "mode": "markers",
         "name": "silver",
         "scene": "scene",
         "showlegend": true,
         "x": [
          -0.513329267501831
         ],
         "y": [
          0.4221605956554413
         ],
         "z": [
          -0.20438651740550995
         ],
         "type": "scatter3d"
        },
        {
         "hovertemplate": "color=part<br>0=%{x}<br>1=%{y}<br>2=%{z}<extra></extra>",
         "legendgroup": "part",
         "marker": {
          "color": "#FECB52",
          "symbol": "circle"
         },
         "mode": "markers",
         "name": "part",
         "scene": "scene",
         "showlegend": true,
         "x": [
          0.602150022983551
         ],
         "y": [
          0.09761994332075119
         ],
         "z": [
          0.3483699560165405
         ],
         "type": "scatter3d"
        },
        {
         "hovertemplate": "color=bastard<br>0=%{x}<br>1=%{y}<br>2=%{z}<extra></extra>",
         "legendgroup": "bastard",
         "marker": {
          "color": "#636efa",
          "symbol": "circle"
         },
         "mode": "markers",
         "name": "bastard",
         "scene": "scene",
         "showlegend": true,
         "x": [
          0.5859267115592957
         ],
         "y": [
          0.5417813062667847
         ],
         "z": [
          -0.2317187786102295
         ],
         "type": "scatter3d"
        },
        {
         "hovertemplate": "color=open<br>0=%{x}<br>1=%{y}<br>2=%{z}<extra></extra>",
         "legendgroup": "open",
         "marker": {
          "color": "#EF553B",
          "symbol": "circle"
         },
         "mode": "markers",
         "name": "open",
         "scene": "scene",
         "showlegend": true,
         "x": [
          -0.4677242636680603
         ],
         "y": [
          -0.011953940615057945
         ],
         "z": [
          -0.029174929484725
         ],
         "type": "scatter3d"
        },
        {
         "hovertemplate": "color=thousand<br>0=%{x}<br>1=%{y}<br>2=%{z}<extra></extra>",
         "legendgroup": "thousand",
         "marker": {
          "color": "#00cc96",
          "symbol": "circle"
         },
         "mode": "markers",
         "name": "thousand",
         "scene": "scene",
         "showlegend": true,
         "x": [
          0.03789781033992767
         ],
         "y": [
          0.5509672164916992
         ],
         "z": [
          0.5630607008934021
         ],
         "type": "scatter3d"
        },
        {
         "hovertemplate": "color=landing<br>0=%{x}<br>1=%{y}<br>2=%{z}<extra></extra>",
         "legendgroup": "landing",
         "marker": {
          "color": "#ab63fa",
          "symbol": "circle"
         },
         "mode": "markers",
         "name": "landing",
         "scene": "scene",
         "showlegend": true,
         "x": [
          0.3361662030220032
         ],
         "y": [
          0.46922942996025085
         ],
         "z": [
          0.08947396278381348
         ],
         "type": "scatter3d"
        },
        {
         "hovertemplate": "color=uncle<br>0=%{x}<br>1=%{y}<br>2=%{z}<extra></extra>",
         "legendgroup": "uncle",
         "marker": {
          "color": "#FFA15A",
          "symbol": "circle"
         },
         "mode": "markers",
         "name": "uncle",
         "scene": "scene",
         "showlegend": true,
         "x": [
          0.6517503261566162
         ],
         "y": [
          0.5074120759963989
         ],
         "z": [
          -0.3208565413951874
         ],
         "type": "scatter3d"
        },
        {
         "hovertemplate": "color=going<br>0=%{x}<br>1=%{y}<br>2=%{z}<extra></extra>",
         "legendgroup": "going",
         "marker": {
          "color": "#19d3f3",
          "symbol": "circle"
         },
         "mode": "markers",
         "name": "going",
         "scene": "scene",
         "showlegend": true,
         "x": [
          0.2749468982219696
         ],
         "y": [
          -0.3498351275920868
         ],
         "z": [
          0.4473501443862915
         ],
         "type": "scatter3d"
        },
        {
         "hovertemplate": "color=blue<br>0=%{x}<br>1=%{y}<br>2=%{z}<extra></extra>",
         "legendgroup": "blue",
         "marker": {
          "color": "#FF6692",
          "symbol": "circle"
         },
         "mode": "markers",
         "name": "blue",
         "scene": "scene",
         "showlegend": true,
         "x": [
          -0.5448316335678101
         ],
         "y": [
          0.29208672046661377
         ],
         "z": [
          -0.13933596014976501
         ],
         "type": "scatter3d"
        },
        {
         "hovertemplate": "color=air<br>0=%{x}<br>1=%{y}<br>2=%{z}<extra></extra>",
         "legendgroup": "air",
         "marker": {
          "color": "#B6E880",
          "symbol": "circle"
         },
         "mode": "markers",
         "name": "air",
         "scene": "scene",
         "showlegend": true,
         "x": [
          -0.7027880549430847
         ],
         "y": [
          -0.24636729061603546
         ],
         "z": [
          0.20986969769001007
         ],
         "type": "scatter3d"
        },
        {
         "hovertemplate": "color=captain<br>0=%{x}<br>1=%{y}<br>2=%{z}<extra></extra>",
         "legendgroup": "captain",
         "marker": {
          "color": "#FF97FF",
          "symbol": "circle"
         },
         "mode": "markers",
         "name": "captain",
         "scene": "scene",
         "showlegend": true,
         "x": [
          0.3023160696029663
         ],
         "y": [
          0.688442051410675
         ],
         "z": [
          -0.28643637895584106
         ],
         "type": "scatter3d"
        },
        {
         "hovertemplate": "color=please<br>0=%{x}<br>1=%{y}<br>2=%{z}<extra></extra>",
         "legendgroup": "please",
         "marker": {
          "color": "#FECB52",
          "symbol": "circle"
         },
         "mode": "markers",
         "name": "please",
         "scene": "scene",
         "showlegend": true,
         "x": [
          0.6915105581283569
         ],
         "y": [
          -0.17816126346588135
         ],
         "z": [
          -0.1548362523317337
         ],
         "type": "scatter3d"
        },
        {
         "hovertemplate": "color=laughed<br>0=%{x}<br>1=%{y}<br>2=%{z}<extra></extra>",
         "legendgroup": "laughed",
         "marker": {
          "color": "#636efa",
          "symbol": "circle"
         },
         "mode": "markers",
         "name": "laughed",
         "scene": "scene",
         "showlegend": true,
         "x": [
          0.3278813362121582
         ],
         "y": [
          -0.22796034812927246
         ],
         "z": [
          -0.4545896053314209
         ],
         "type": "scatter3d"
        },
        {
         "hovertemplate": "color=river<br>0=%{x}<br>1=%{y}<br>2=%{z}<extra></extra>",
         "legendgroup": "river",
         "marker": {
          "color": "#EF553B",
          "symbol": "circle"
         },
         "mode": "markers",
         "name": "river",
         "scene": "scene",
         "showlegend": true,
         "x": [
          -0.4198665916919708
         ],
         "y": [
          0.33862578868865967
         ],
         "z": [
          0.5527826547622681
         ],
         "type": "scatter3d"
        },
        {
         "hovertemplate": "color=rose<br>0=%{x}<br>1=%{y}<br>2=%{z}<extra></extra>",
         "legendgroup": "rose",
         "marker": {
          "color": "#00cc96",
          "symbol": "circle"
         },
         "mode": "markers",
         "name": "rose",
         "scene": "scene",
         "showlegend": true,
         "x": [
          -0.6721729636192322
         ],
         "y": [
          0.38064613938331604
         ],
         "z": [
          -0.09337334334850311
         ],
         "type": "scatter3d"
        },
        {
         "hovertemplate": "color=sun<br>0=%{x}<br>1=%{y}<br>2=%{z}<extra></extra>",
         "legendgroup": "sun",
         "marker": {
          "color": "#ab63fa",
          "symbol": "circle"
         },
         "mode": "markers",
         "name": "sun",
         "scene": "scene",
         "showlegend": true,
         "x": [
          -0.5600839853286743
         ],
         "y": [
          0.18538527190685272
         ],
         "z": [
          0.38815024495124817
         ],
         "type": "scatter3d"
        },
        {
         "hovertemplate": "color=fell<br>0=%{x}<br>1=%{y}<br>2=%{z}<extra></extra>",
         "legendgroup": "fell",
         "marker": {
          "color": "#FFA15A",
          "symbol": "circle"
         },
         "mode": "markers",
         "name": "fell",
         "scene": "scene",
         "showlegend": true,
         "x": [
          -0.5977765917778015
         ],
         "y": [
          0.10387606918811798
         ],
         "z": [
          -0.12232930213212967
         ],
         "type": "scatter3d"
        },
        {
         "hovertemplate": "color=war<br>0=%{x}<br>1=%{y}<br>2=%{z}<extra></extra>",
         "legendgroup": "war",
         "marker": {
          "color": "#19d3f3",
          "symbol": "circle"
         },
         "mode": "markers",
         "name": "war",
         "scene": "scene",
         "showlegend": true,
         "x": [
          0.6040164232254028
         ],
         "y": [
          0.5075348615646362
         ],
         "z": [
          0.38566845655441284
         ],
         "type": "scatter3d"
        },
        {
         "hovertemplate": "color=golden<br>0=%{x}<br>1=%{y}<br>2=%{z}<extra></extra>",
         "legendgroup": "golden",
         "marker": {
          "color": "#FF6692",
          "symbol": "circle"
         },
         "mode": "markers",
         "name": "golden",
         "scene": "scene",
         "showlegend": true,
         "x": [
          -0.46053561568260193
         ],
         "y": [
          0.5951849818229675
         ],
         "z": [
          -0.22271835803985596
         ],
         "type": "scatter3d"
        },
        {
         "hovertemplate": "color=sleep<br>0=%{x}<br>1=%{y}<br>2=%{z}<extra></extra>",
         "legendgroup": "sleep",
         "marker": {
          "color": "#B6E880",
          "symbol": "circle"
         },
         "mode": "markers",
         "name": "sleep",
         "scene": "scene",
         "showlegend": true,
         "x": [
          -0.005933233071118593
         ],
         "y": [
          -0.5535789728164673
         ],
         "z": [
          0.22321739792823792
         ],
         "type": "scatter3d"
        },
        {
         "hovertemplate": "color=swords<br>0=%{x}<br>1=%{y}<br>2=%{z}<extra></extra>",
         "legendgroup": "swords",
         "marker": {
          "color": "#FF97FF",
          "symbol": "circle"
         },
         "mode": "markers",
         "name": "swords",
         "scene": "scene",
         "showlegend": true,
         "x": [
          0.07072465121746063
         ],
         "y": [
          0.6652153730392456
         ],
         "z": [
          0.3943430781364441
         ],
         "type": "scatter3d"
        },
        {
         "hovertemplate": "color=without<br>0=%{x}<br>1=%{y}<br>2=%{z}<extra></extra>",
         "legendgroup": "without",
         "marker": {
          "color": "#FECB52",
          "symbol": "circle"
         },
         "mode": "markers",
         "name": "without",
         "scene": "scene",
         "showlegend": true,
         "x": [
          0.5030949115753174
         ],
         "y": [
          0.005908763036131859
         ],
         "z": [
          0.38489073514938354
         ],
         "type": "scatter3d"
        },
        {
         "hovertemplate": "color=speak<br>0=%{x}<br>1=%{y}<br>2=%{z}<extra></extra>",
         "legendgroup": "speak",
         "marker": {
          "color": "#636efa",
          "symbol": "circle"
         },
         "mode": "markers",
         "name": "speak",
         "scene": "scene",
         "showlegend": true,
         "x": [
          0.6848300695419312
         ],
         "y": [
          -0.18307194113731384
         ],
         "z": [
          0.0747222825884819
         ],
         "type": "scatter3d"
        },
        {
         "hovertemplate": "color=renly<br>0=%{x}<br>1=%{y}<br>2=%{z}<extra></extra>",
         "legendgroup": "renly",
         "marker": {
          "color": "#EF553B",
          "symbol": "circle"
         },
         "mode": "markers",
         "name": "renly",
         "scene": "scene",
         "showlegend": true,
         "x": [
          0.46143433451652527
         ],
         "y": [
          0.534751832485199
         ],
         "z": [
          -0.2359454482793808
         ],
         "type": "scatter3d"
        },
        {
         "hovertemplate": "color=certain<br>0=%{x}<br>1=%{y}<br>2=%{z}<extra></extra>",
         "legendgroup": "certain",
         "marker": {
          "color": "#00cc96",
          "symbol": "circle"
         },
         "mode": "markers",
         "name": "certain",
         "scene": "scene",
         "showlegend": true,
         "x": [
          0.5715665221214294
         ],
         "y": [
          -0.2278805673122406
         ],
         "z": [
          0.18455688655376434
         ],
         "type": "scatter3d"
        },
        {
         "hovertemplate": "color=fool<br>0=%{x}<br>1=%{y}<br>2=%{z}<extra></extra>",
         "legendgroup": "fool",
         "marker": {
          "color": "#ab63fa",
          "symbol": "circle"
         },
         "mode": "markers",
         "name": "fool",
         "scene": "scene",
         "showlegend": true,
         "x": [
          0.5701920986175537
         ],
         "y": [
          -0.1717040240764618
         ],
         "z": [
          -0.2359401136636734
         ],
         "type": "scatter3d"
        },
        {
         "hovertemplate": "color=full<br>0=%{x}<br>1=%{y}<br>2=%{z}<extra></extra>",
         "legendgroup": "full",
         "marker": {
          "color": "#FFA15A",
          "symbol": "circle"
         },
         "mode": "markers",
         "name": "full",
         "scene": "scene",
         "showlegend": true,
         "x": [
          -0.42767027020454407
         ],
         "y": [
          -0.19585704803466797
         ],
         "z": [
          0.3314453959465027
         ],
         "type": "scatter3d"
        },
        {
         "hovertemplate": "color=beyond<br>0=%{x}<br>1=%{y}<br>2=%{z}<extra></extra>",
         "legendgroup": "beyond",
         "marker": {
          "color": "#19d3f3",
          "symbol": "circle"
         },
         "mode": "markers",
         "name": "beyond",
         "scene": "scene",
         "showlegend": true,
         "x": [
          -0.08542919158935547
         ],
         "y": [
          0.3961679935455322
         ],
         "z": [
          0.6455895304679871
         ],
         "type": "scatter3d"
        },
        {
         "hovertemplate": "color=feel<br>0=%{x}<br>1=%{y}<br>2=%{z}<extra></extra>",
         "legendgroup": "feel",
         "marker": {
          "color": "#FF6692",
          "symbol": "circle"
         },
         "mode": "markers",
         "name": "feel",
         "scene": "scene",
         "showlegend": true,
         "x": [
          -0.2277698963880539
         ],
         "y": [
          -0.49510759115219116
         ],
         "z": [
          0.08042457699775696
         ],
         "type": "scatter3d"
        },
        {
         "hovertemplate": "color=send<br>0=%{x}<br>1=%{y}<br>2=%{z}<extra></extra>",
         "legendgroup": "send",
         "marker": {
          "color": "#B6E880",
          "symbol": "circle"
         },
         "mode": "markers",
         "name": "send",
         "scene": "scene",
         "showlegend": true,
         "x": [
          0.5796229839324951
         ],
         "y": [
          0.15270937979221344
         ],
         "z": [
          0.18987441062927246
         ],
         "type": "scatter3d"
        },
        {
         "hovertemplate": "color=tongue<br>0=%{x}<br>1=%{y}<br>2=%{z}<extra></extra>",
         "legendgroup": "tongue",
         "marker": {
          "color": "#FF97FF",
          "symbol": "circle"
         },
         "mode": "markers",
         "name": "tongue",
         "scene": "scene",
         "showlegend": true,
         "x": [
          0.15774308145046234
         ],
         "y": [
          -0.475852370262146
         ],
         "z": [
          -0.1498422473669052
         ],
         "type": "scatter3d"
        },
        {
         "hovertemplate": "color=fight<br>0=%{x}<br>1=%{y}<br>2=%{z}<extra></extra>",
         "legendgroup": "fight",
         "marker": {
          "color": "#FECB52",
          "symbol": "circle"
         },
         "mode": "markers",
         "name": "fight",
         "scene": "scene",
         "showlegend": true,
         "x": [
          0.4809240996837616
         ],
         "y": [
          -0.0340350866317749
         ],
         "z": [
          0.4366254508495331
         ],
         "type": "scatter3d"
        },
        {
         "hovertemplate": "color=got<br>0=%{x}<br>1=%{y}<br>2=%{z}<extra></extra>",
         "legendgroup": "got",
         "marker": {
          "color": "#636efa",
          "symbol": "circle"
         },
         "mode": "markers",
         "name": "got",
         "scene": "scene",
         "showlegend": true,
         "x": [
          -0.007735655177384615
         ],
         "y": [
          -0.3663650453090668
         ],
         "z": [
          0.09066838771104813
         ],
         "type": "scatter3d"
        },
        {
         "hovertemplate": "color=rode<br>0=%{x}<br>1=%{y}<br>2=%{z}<extra></extra>",
         "legendgroup": "rode",
         "marker": {
          "color": "#EF553B",
          "symbol": "circle"
         },
         "mode": "markers",
         "name": "rode",
         "scene": "scene",
         "showlegend": true,
         "x": [
          -0.376711905002594
         ],
         "y": [
          0.5835220813751221
         ],
         "z": [
          0.09457536786794662
         ],
         "type": "scatter3d"
        },
        {
         "hovertemplate": "color=set<br>0=%{x}<br>1=%{y}<br>2=%{z}<extra></extra>",
         "legendgroup": "set",
         "marker": {
          "color": "#00cc96",
          "symbol": "circle"
         },
         "mode": "markers",
         "name": "set",
         "scene": "scene",
         "showlegend": true,
         "x": [
          -0.35696256160736084
         ],
         "y": [
          0.32735002040863037
         ],
         "z": [
          0.1962079256772995
         ],
         "type": "scatter3d"
        },
        {
         "hovertemplate": "color=thick<br>0=%{x}<br>1=%{y}<br>2=%{z}<extra></extra>",
         "legendgroup": "thick",
         "marker": {
          "color": "#ab63fa",
          "symbol": "circle"
         },
         "mode": "markers",
         "name": "thick",
         "scene": "scene",
         "showlegend": true,
         "x": [
          -0.7477198243141174
         ],
         "y": [
          0.11245004087686539
         ],
         "z": [
          -0.0357942171394825
         ],
         "type": "scatter3d"
        },
        {
         "hovertemplate": "color=throat<br>0=%{x}<br>1=%{y}<br>2=%{z}<extra></extra>",
         "legendgroup": "throat",
         "marker": {
          "color": "#FFA15A",
          "symbol": "circle"
         },
         "mode": "markers",
         "name": "throat",
         "scene": "scene",
         "showlegend": true,
         "x": [
          -0.4521525204181671
         ],
         "y": [
          -0.3972032070159912
         ],
         "z": [
          -0.4380234479904175
         ],
         "type": "scatter3d"
        },
        {
         "hovertemplate": "color=world<br>0=%{x}<br>1=%{y}<br>2=%{z}<extra></extra>",
         "legendgroup": "world",
         "marker": {
          "color": "#19d3f3",
          "symbol": "circle"
         },
         "mode": "markers",
         "name": "world",
         "scene": "scene",
         "showlegend": true,
         "x": [
          -0.033483557403087616
         ],
         "y": [
          -0.1238040179014206
         ],
         "z": [
          0.6911559104919434
         ],
         "type": "scatter3d"
        },
        {
         "hovertemplate": "color=legs<br>0=%{x}<br>1=%{y}<br>2=%{z}<extra></extra>",
         "legendgroup": "legs",
         "marker": {
          "color": "#FF6692",
          "symbol": "circle"
         },
         "mode": "markers",
         "name": "legs",
         "scene": "scene",
         "showlegend": true,
         "x": [
          -0.7046756148338318
         ],
         "y": [
          -0.17216674983501434
         ],
         "z": [
          -0.10041695088148117
         ],
         "type": "scatter3d"
        },
        {
         "hovertemplate": "color=deep<br>0=%{x}<br>1=%{y}<br>2=%{z}<extra></extra>",
         "legendgroup": "deep",
         "marker": {
          "color": "#B6E880",
          "symbol": "circle"
         },
         "mode": "markers",
         "name": "deep",
         "scene": "scene",
         "showlegend": true,
         "x": [
          -0.7537911534309387
         ],
         "y": [
          -0.011682424694299698
         ],
         "z": [
          0.10520823299884796
         ],
         "type": "scatter3d"
        },
        {
         "hovertemplate": "color=call<br>0=%{x}<br>1=%{y}<br>2=%{z}<extra></extra>",
         "legendgroup": "call",
         "marker": {
          "color": "#FF97FF",
          "symbol": "circle"
         },
         "mode": "markers",
         "name": "call",
         "scene": "scene",
         "showlegend": true,
         "x": [
          0.6571648120880127
         ],
         "y": [
          -0.010797989554703236
         ],
         "z": [
          0.08298514038324356
         ],
         "type": "scatter3d"
        },
        {
         "hovertemplate": "color=honor<br>0=%{x}<br>1=%{y}<br>2=%{z}<extra></extra>",
         "legendgroup": "honor",
         "marker": {
          "color": "#FECB52",
          "symbol": "circle"
         },
         "mode": "markers",
         "name": "honor",
         "scene": "scene",
         "showlegend": true,
         "x": [
          0.7155501842498779
         ],
         "y": [
          0.44998425245285034
         ],
         "z": [
          -0.039162527769804
         ],
         "type": "scatter3d"
        }
       ],
       "layout": {
        "template": {
         "data": {
          "histogram2dcontour": [
           {
            "type": "histogram2dcontour",
            "colorbar": {
             "outlinewidth": 0,
             "ticks": ""
            },
            "colorscale": [
             [
              0.0,
              "#0d0887"
             ],
             [
              0.1111111111111111,
              "#46039f"
             ],
             [
              0.2222222222222222,
              "#7201a8"
             ],
             [
              0.3333333333333333,
              "#9c179e"
             ],
             [
              0.4444444444444444,
              "#bd3786"
             ],
             [
              0.5555555555555556,
              "#d8576b"
             ],
             [
              0.6666666666666666,
              "#ed7953"
             ],
             [
              0.7777777777777778,
              "#fb9f3a"
             ],
             [
              0.8888888888888888,
              "#fdca26"
             ],
             [
              1.0,
              "#f0f921"
             ]
            ]
           }
          ],
          "choropleth": [
           {
            "type": "choropleth",
            "colorbar": {
             "outlinewidth": 0,
             "ticks": ""
            }
           }
          ],
          "histogram2d": [
           {
            "type": "histogram2d",
            "colorbar": {
             "outlinewidth": 0,
             "ticks": ""
            },
            "colorscale": [
             [
              0.0,
              "#0d0887"
             ],
             [
              0.1111111111111111,
              "#46039f"
             ],
             [
              0.2222222222222222,
              "#7201a8"
             ],
             [
              0.3333333333333333,
              "#9c179e"
             ],
             [
              0.4444444444444444,
              "#bd3786"
             ],
             [
              0.5555555555555556,
              "#d8576b"
             ],
             [
              0.6666666666666666,
              "#ed7953"
             ],
             [
              0.7777777777777778,
              "#fb9f3a"
             ],
             [
              0.8888888888888888,
              "#fdca26"
             ],
             [
              1.0,
              "#f0f921"
             ]
            ]
           }
          ],
          "heatmap": [
           {
            "type": "heatmap",
            "colorbar": {
             "outlinewidth": 0,
             "ticks": ""
            },
            "colorscale": [
             [
              0.0,
              "#0d0887"
             ],
             [
              0.1111111111111111,
              "#46039f"
             ],
             [
              0.2222222222222222,
              "#7201a8"
             ],
             [
              0.3333333333333333,
              "#9c179e"
             ],
             [
              0.4444444444444444,
              "#bd3786"
             ],
             [
              0.5555555555555556,
              "#d8576b"
             ],
             [
              0.6666666666666666,
              "#ed7953"
             ],
             [
              0.7777777777777778,
              "#fb9f3a"
             ],
             [
              0.8888888888888888,
              "#fdca26"
             ],
             [
              1.0,
              "#f0f921"
             ]
            ]
           }
          ],
          "heatmapgl": [
           {
            "type": "heatmapgl",
            "colorbar": {
             "outlinewidth": 0,
             "ticks": ""
            },
            "colorscale": [
             [
              0.0,
              "#0d0887"
             ],
             [
              0.1111111111111111,
              "#46039f"
             ],
             [
              0.2222222222222222,
              "#7201a8"
             ],
             [
              0.3333333333333333,
              "#9c179e"
             ],
             [
              0.4444444444444444,
              "#bd3786"
             ],
             [
              0.5555555555555556,
              "#d8576b"
             ],
             [
              0.6666666666666666,
              "#ed7953"
             ],
             [
              0.7777777777777778,
              "#fb9f3a"
             ],
             [
              0.8888888888888888,
              "#fdca26"
             ],
             [
              1.0,
              "#f0f921"
             ]
            ]
           }
          ],
          "contourcarpet": [
           {
            "type": "contourcarpet",
            "colorbar": {
             "outlinewidth": 0,
             "ticks": ""
            }
           }
          ],
          "contour": [
           {
            "type": "contour",
            "colorbar": {
             "outlinewidth": 0,
             "ticks": ""
            },
            "colorscale": [
             [
              0.0,
              "#0d0887"
             ],
             [
              0.1111111111111111,
              "#46039f"
             ],
             [
              0.2222222222222222,
              "#7201a8"
             ],
             [
              0.3333333333333333,
              "#9c179e"
             ],
             [
              0.4444444444444444,
              "#bd3786"
             ],
             [
              0.5555555555555556,
              "#d8576b"
             ],
             [
              0.6666666666666666,
              "#ed7953"
             ],
             [
              0.7777777777777778,
              "#fb9f3a"
             ],
             [
              0.8888888888888888,
              "#fdca26"
             ],
             [
              1.0,
              "#f0f921"
             ]
            ]
           }
          ],
          "surface": [
           {
            "type": "surface",
            "colorbar": {
             "outlinewidth": 0,
             "ticks": ""
            },
            "colorscale": [
             [
              0.0,
              "#0d0887"
             ],
             [
              0.1111111111111111,
              "#46039f"
             ],
             [
              0.2222222222222222,
              "#7201a8"
             ],
             [
              0.3333333333333333,
              "#9c179e"
             ],
             [
              0.4444444444444444,
              "#bd3786"
             ],
             [
              0.5555555555555556,
              "#d8576b"
             ],
             [
              0.6666666666666666,
              "#ed7953"
             ],
             [
              0.7777777777777778,
              "#fb9f3a"
             ],
             [
              0.8888888888888888,
              "#fdca26"
             ],
             [
              1.0,
              "#f0f921"
             ]
            ]
           }
          ],
          "mesh3d": [
           {
            "type": "mesh3d",
            "colorbar": {
             "outlinewidth": 0,
             "ticks": ""
            }
           }
          ],
          "scatter": [
           {
            "fillpattern": {
             "fillmode": "overlay",
             "size": 10,
             "solidity": 0.2
            },
            "type": "scatter"
           }
          ],
          "parcoords": [
           {
            "type": "parcoords",
            "line": {
             "colorbar": {
              "outlinewidth": 0,
              "ticks": ""
             }
            }
           }
          ],
          "scatterpolargl": [
           {
            "type": "scatterpolargl",
            "marker": {
             "colorbar": {
              "outlinewidth": 0,
              "ticks": ""
             }
            }
           }
          ],
          "bar": [
           {
            "error_x": {
             "color": "#2a3f5f"
            },
            "error_y": {
             "color": "#2a3f5f"
            },
            "marker": {
             "line": {
              "color": "#E5ECF6",
              "width": 0.5
             },
             "pattern": {
              "fillmode": "overlay",
              "size": 10,
              "solidity": 0.2
             }
            },
            "type": "bar"
           }
          ],
          "scattergeo": [
           {
            "type": "scattergeo",
            "marker": {
             "colorbar": {
              "outlinewidth": 0,
              "ticks": ""
             }
            }
           }
          ],
          "scatterpolar": [
           {
            "type": "scatterpolar",
            "marker": {
             "colorbar": {
              "outlinewidth": 0,
              "ticks": ""
             }
            }
           }
          ],
          "histogram": [
           {
            "marker": {
             "pattern": {
              "fillmode": "overlay",
              "size": 10,
              "solidity": 0.2
             }
            },
            "type": "histogram"
           }
          ],
          "scattergl": [
           {
            "type": "scattergl",
            "marker": {
             "colorbar": {
              "outlinewidth": 0,
              "ticks": ""
             }
            }
           }
          ],
          "scatter3d": [
           {
            "type": "scatter3d",
            "line": {
             "colorbar": {
              "outlinewidth": 0,
              "ticks": ""
             }
            },
            "marker": {
             "colorbar": {
              "outlinewidth": 0,
              "ticks": ""
             }
            }
           }
          ],
          "scattermapbox": [
           {
            "type": "scattermapbox",
            "marker": {
             "colorbar": {
              "outlinewidth": 0,
              "ticks": ""
             }
            }
           }
          ],
          "scatterternary": [
           {
            "type": "scatterternary",
            "marker": {
             "colorbar": {
              "outlinewidth": 0,
              "ticks": ""
             }
            }
           }
          ],
          "scattercarpet": [
           {
            "type": "scattercarpet",
            "marker": {
             "colorbar": {
              "outlinewidth": 0,
              "ticks": ""
             }
            }
           }
          ],
          "carpet": [
           {
            "aaxis": {
             "endlinecolor": "#2a3f5f",
             "gridcolor": "white",
             "linecolor": "white",
             "minorgridcolor": "white",
             "startlinecolor": "#2a3f5f"
            },
            "baxis": {
             "endlinecolor": "#2a3f5f",
             "gridcolor": "white",
             "linecolor": "white",
             "minorgridcolor": "white",
             "startlinecolor": "#2a3f5f"
            },
            "type": "carpet"
           }
          ],
          "table": [
           {
            "cells": {
             "fill": {
              "color": "#EBF0F8"
             },
             "line": {
              "color": "white"
             }
            },
            "header": {
             "fill": {
              "color": "#C8D4E3"
             },
             "line": {
              "color": "white"
             }
            },
            "type": "table"
           }
          ],
          "barpolar": [
           {
            "marker": {
             "line": {
              "color": "#E5ECF6",
              "width": 0.5
             },
             "pattern": {
              "fillmode": "overlay",
              "size": 10,
              "solidity": 0.2
             }
            },
            "type": "barpolar"
           }
          ],
          "pie": [
           {
            "automargin": true,
            "type": "pie"
           }
          ]
         },
         "layout": {
          "autotypenumbers": "strict",
          "colorway": [
           "#636efa",
           "#EF553B",
           "#00cc96",
           "#ab63fa",
           "#FFA15A",
           "#19d3f3",
           "#FF6692",
           "#B6E880",
           "#FF97FF",
           "#FECB52"
          ],
          "font": {
           "color": "#2a3f5f"
          },
          "hovermode": "closest",
          "hoverlabel": {
           "align": "left"
          },
          "paper_bgcolor": "white",
          "plot_bgcolor": "#E5ECF6",
          "polar": {
           "bgcolor": "#E5ECF6",
           "angularaxis": {
            "gridcolor": "white",
            "linecolor": "white",
            "ticks": ""
           },
           "radialaxis": {
            "gridcolor": "white",
            "linecolor": "white",
            "ticks": ""
           }
          },
          "ternary": {
           "bgcolor": "#E5ECF6",
           "aaxis": {
            "gridcolor": "white",
            "linecolor": "white",
            "ticks": ""
           },
           "baxis": {
            "gridcolor": "white",
            "linecolor": "white",
            "ticks": ""
           },
           "caxis": {
            "gridcolor": "white",
            "linecolor": "white",
            "ticks": ""
           }
          },
          "coloraxis": {
           "colorbar": {
            "outlinewidth": 0,
            "ticks": ""
           }
          },
          "colorscale": {
           "sequential": [
            [
             0.0,
             "#0d0887"
            ],
            [
             0.1111111111111111,
             "#46039f"
            ],
            [
             0.2222222222222222,
             "#7201a8"
            ],
            [
             0.3333333333333333,
             "#9c179e"
            ],
            [
             0.4444444444444444,
             "#bd3786"
            ],
            [
             0.5555555555555556,
             "#d8576b"
            ],
            [
             0.6666666666666666,
             "#ed7953"
            ],
            [
             0.7777777777777778,
             "#fb9f3a"
            ],
            [
             0.8888888888888888,
             "#fdca26"
            ],
            [
             1.0,
             "#f0f921"
            ]
           ],
           "sequentialminus": [
            [
             0.0,
             "#0d0887"
            ],
            [
             0.1111111111111111,
             "#46039f"
            ],
            [
             0.2222222222222222,
             "#7201a8"
            ],
            [
             0.3333333333333333,
             "#9c179e"
            ],
            [
             0.4444444444444444,
             "#bd3786"
            ],
            [
             0.5555555555555556,
             "#d8576b"
            ],
            [
             0.6666666666666666,
             "#ed7953"
            ],
            [
             0.7777777777777778,
             "#fb9f3a"
            ],
            [
             0.8888888888888888,
             "#fdca26"
            ],
            [
             1.0,
             "#f0f921"
            ]
           ],
           "diverging": [
            [
             0,
             "#8e0152"
            ],
            [
             0.1,
             "#c51b7d"
            ],
            [
             0.2,
             "#de77ae"
            ],
            [
             0.3,
             "#f1b6da"
            ],
            [
             0.4,
             "#fde0ef"
            ],
            [
             0.5,
             "#f7f7f7"
            ],
            [
             0.6,
             "#e6f5d0"
            ],
            [
             0.7,
             "#b8e186"
            ],
            [
             0.8,
             "#7fbc41"
            ],
            [
             0.9,
             "#4d9221"
            ],
            [
             1,
             "#276419"
            ]
           ]
          },
          "xaxis": {
           "gridcolor": "white",
           "linecolor": "white",
           "ticks": "",
           "title": {
            "standoff": 15
           },
           "zerolinecolor": "white",
           "automargin": true,
           "zerolinewidth": 2
          },
          "yaxis": {
           "gridcolor": "white",
           "linecolor": "white",
           "ticks": "",
           "title": {
            "standoff": 15
           },
           "zerolinecolor": "white",
           "automargin": true,
           "zerolinewidth": 2
          },
          "scene": {
           "xaxis": {
            "backgroundcolor": "#E5ECF6",
            "gridcolor": "white",
            "linecolor": "white",
            "showbackground": true,
            "ticks": "",
            "zerolinecolor": "white",
            "gridwidth": 2
           },
           "yaxis": {
            "backgroundcolor": "#E5ECF6",
            "gridcolor": "white",
            "linecolor": "white",
            "showbackground": true,
            "ticks": "",
            "zerolinecolor": "white",
            "gridwidth": 2
           },
           "zaxis": {
            "backgroundcolor": "#E5ECF6",
            "gridcolor": "white",
            "linecolor": "white",
            "showbackground": true,
            "ticks": "",
            "zerolinecolor": "white",
            "gridwidth": 2
           }
          },
          "shapedefaults": {
           "line": {
            "color": "#2a3f5f"
           }
          },
          "annotationdefaults": {
           "arrowcolor": "#2a3f5f",
           "arrowhead": 0,
           "arrowwidth": 1
          },
          "geo": {
           "bgcolor": "white",
           "landcolor": "#E5ECF6",
           "subunitcolor": "white",
           "showland": true,
           "showlakes": true,
           "lakecolor": "white"
          },
          "title": {
           "x": 0.05
          },
          "mapbox": {
           "style": "light"
          }
         }
        },
        "scene": {
         "domain": {
          "x": [
           0.0,
           1.0
          ],
          "y": [
           0.0,
           1.0
          ]
         },
         "xaxis": {
          "title": {
           "text": "0"
          }
         },
         "yaxis": {
          "title": {
           "text": "1"
          }
         },
         "zaxis": {
          "title": {
           "text": "2"
          }
         }
        },
        "legend": {
         "title": {
          "text": "color"
         },
         "tracegroupgap": 0
        },
        "margin": {
         "t": 60
        }
       },
       "config": {
        "plotlyServerURL": "https://plot.ly"
       }
      },
      "text/html": "<div>                            <div id=\"334cf6ad-3f56-4e0d-b6d7-72b6eefa4786\" class=\"plotly-graph-div\" style=\"height:525px; width:100%;\"></div>            <script type=\"text/javascript\">                require([\"plotly\"], function(Plotly) {                    window.PLOTLYENV=window.PLOTLYENV || {};                                    if (document.getElementById(\"334cf6ad-3f56-4e0d-b6d7-72b6eefa4786\")) {                    Plotly.newPlot(                        \"334cf6ad-3f56-4e0d-b6d7-72b6eefa4786\",                        [{\"hovertemplate\":\"color=said<br>0=%{x}<br>1=%{y}<br>2=%{z}<extra></extra>\",\"legendgroup\":\"said\",\"marker\":{\"color\":\"#636efa\",\"symbol\":\"circle\"},\"mode\":\"markers\",\"name\":\"said\",\"scene\":\"scene\",\"showlegend\":true,\"x\":[0.48506826162338257],\"y\":[0.056990329176187515],\"z\":[-0.226688951253891],\"type\":\"scatter3d\"},{\"hovertemplate\":\"color=lord<br>0=%{x}<br>1=%{y}<br>2=%{z}<extra></extra>\",\"legendgroup\":\"lord\",\"marker\":{\"color\":\"#EF553B\",\"symbol\":\"circle\"},\"mode\":\"markers\",\"name\":\"lord\",\"scene\":\"scene\",\"showlegend\":true,\"x\":[0.3945750296115875],\"y\":[0.5842598676681519],\"z\":[-0.32263943552970886],\"type\":\"scatter3d\"},{\"hovertemplate\":\"color=would<br>0=%{x}<br>1=%{y}<br>2=%{z}<extra></extra>\",\"legendgroup\":\"would\",\"marker\":{\"color\":\"#00cc96\",\"symbol\":\"circle\"},\"mode\":\"markers\",\"name\":\"would\",\"scene\":\"scene\",\"showlegend\":true,\"x\":[0.5247564315795898],\"y\":[-0.08636138588190079],\"z\":[0.31121137738227844],\"type\":\"scatter3d\"},{\"hovertemplate\":\"color=one<br>0=%{x}<br>1=%{y}<br>2=%{z}<extra></extra>\",\"legendgroup\":\"one\",\"marker\":{\"color\":\"#ab63fa\",\"symbol\":\"circle\"},\"mode\":\"markers\",\"name\":\"one\",\"scene\":\"scene\",\"showlegend\":true,\"x\":[0.003836067160591483],\"y\":[0.15460020303726196],\"z\":[0.024438919499516487],\"type\":\"scatter3d\"},{\"hovertemplate\":\"color=ser<br>0=%{x}<br>1=%{y}<br>2=%{z}<extra></extra>\",\"legendgroup\":\"ser\",\"marker\":{\"color\":\"#FFA15A\",\"symbol\":\"circle\"},\"mode\":\"markers\",\"name\":\"ser\",\"scene\":\"scene\",\"showlegend\":true,\"x\":[0.26401564478874207],\"y\":[0.5816125869750977],\"z\":[-0.45026496052742004],\"type\":\"scatter3d\"},{\"hovertemplate\":\"color=could<br>0=%{x}<br>1=%{y}<br>2=%{z}<extra></extra>\",\"legendgroup\":\"could\",\"marker\":{\"color\":\"#19d3f3\",\"symbol\":\"circle\"},\"mode\":\"markers\",\"name\":\"could\",\"scene\":\"scene\",\"showlegend\":true,\"x\":[0.007796979043632746],\"y\":[-0.14701788127422333],\"z\":[0.23988103866577148],\"type\":\"scatter3d\"},{\"hovertemplate\":\"color=man<br>0=%{x}<br>1=%{y}<br>2=%{z}<extra></extra>\",\"legendgroup\":\"man\",\"marker\":{\"color\":\"#FF6692\",\"symbol\":\"circle\"},\"mode\":\"markers\",\"name\":\"man\",\"scene\":\"scene\",\"showlegend\":true,\"x\":[0.03174993023276329],\"y\":[0.11410325020551682],\"z\":[-0.15780702233314514],\"type\":\"scatter3d\"},{\"hovertemplate\":\"color=king<br>0=%{x}<br>1=%{y}<br>2=%{z}<extra></extra>\",\"legendgroup\":\"king\",\"marker\":{\"color\":\"#B6E880\",\"symbol\":\"circle\"},\"mode\":\"markers\",\"name\":\"king\",\"scene\":\"scene\",\"showlegend\":true,\"x\":[0.3713393807411194],\"y\":[0.5134773850440979],\"z\":[-0.05790725722908974],\"type\":\"scatter3d\"},{\"hovertemplate\":\"color=men<br>0=%{x}<br>1=%{y}<br>2=%{z}<extra></extra>\",\"legendgroup\":\"men\",\"marker\":{\"color\":\"#FF97FF\",\"symbol\":\"circle\"},\"mode\":\"markers\",\"name\":\"men\",\"scene\":\"scene\",\"showlegend\":true,\"x\":[0.0647551417350769],\"y\":[0.48540258407592773],\"z\":[0.36418476700782776],\"type\":\"scatter3d\"},{\"hovertemplate\":\"color=back<br>0=%{x}<br>1=%{y}<br>2=%{z}<extra></extra>\",\"legendgroup\":\"back\",\"marker\":{\"color\":\"#FECB52\",\"symbol\":\"circle\"},\"mode\":\"markers\",\"name\":\"back\",\"scene\":\"scene\",\"showlegend\":true,\"x\":[-0.262469083070755],\"y\":[0.00366782583296299],\"z\":[-0.00961484108120203],\"type\":\"scatter3d\"},{\"hovertemplate\":\"color=well<br>0=%{x}<br>1=%{y}<br>2=%{z}<extra></extra>\",\"legendgroup\":\"well\",\"marker\":{\"color\":\"#636efa\",\"symbol\":\"circle\"},\"mode\":\"markers\",\"name\":\"well\",\"scene\":\"scene\",\"showlegend\":true,\"x\":[0.4853707253932953],\"y\":[0.17541779577732086],\"z\":[0.20680250227451324],\"type\":\"scatter3d\"},{\"hovertemplate\":\"color=like<br>0=%{x}<br>1=%{y}<br>2=%{z}<extra></extra>\",\"legendgroup\":\"like\",\"marker\":{\"color\":\"#EF553B\",\"symbol\":\"circle\"},\"mode\":\"markers\",\"name\":\"like\",\"scene\":\"scene\",\"showlegend\":true,\"x\":[-0.23984549939632416],\"y\":[-0.18729223310947418],\"z\":[0.17087353765964508],\"type\":\"scatter3d\"},{\"hovertemplate\":\"color=jon<br>0=%{x}<br>1=%{y}<br>2=%{z}<extra></extra>\",\"legendgroup\":\"jon\",\"marker\":{\"color\":\"#00cc96\",\"symbol\":\"circle\"},\"mode\":\"markers\",\"name\":\"jon\",\"scene\":\"scene\",\"showlegend\":true,\"x\":[0.024168768897652626],\"y\":[-0.004321732558310032],\"z\":[-0.13757124543190002],\"type\":\"scatter3d\"},{\"hovertemplate\":\"color=father<br>0=%{x}<br>1=%{y}<br>2=%{z}<extra></extra>\",\"legendgroup\":\"father\",\"marker\":{\"color\":\"#ab63fa\",\"symbol\":\"circle\"},\"mode\":\"markers\",\"name\":\"father\",\"scene\":\"scene\",\"showlegend\":true,\"x\":[0.6402989029884338],\"y\":[0.3290264308452606],\"z\":[-0.13409946858882904],\"type\":\"scatter3d\"},{\"hovertemplate\":\"color=old<br>0=%{x}<br>1=%{y}<br>2=%{z}<extra></extra>\",\"legendgroup\":\"old\",\"marker\":{\"color\":\"#FFA15A\",\"symbol\":\"circle\"},\"mode\":\"markers\",\"name\":\"old\",\"scene\":\"scene\",\"showlegend\":true,\"x\":[0.008314457722008228],\"y\":[0.2936818301677704],\"z\":[-0.030292971059679985],\"type\":\"scatter3d\"},{\"hovertemplate\":\"color=hand<br>0=%{x}<br>1=%{y}<br>2=%{z}<extra></extra>\",\"legendgroup\":\"hand\",\"marker\":{\"color\":\"#19d3f3\",\"symbol\":\"circle\"},\"mode\":\"markers\",\"name\":\"hand\",\"scene\":\"scene\",\"showlegend\":true,\"x\":[-0.10403218865394592],\"y\":[0.14004266262054443],\"z\":[-0.4097239673137665],\"type\":\"scatter3d\"},{\"hovertemplate\":\"color=even<br>0=%{x}<br>1=%{y}<br>2=%{z}<extra></extra>\",\"legendgroup\":\"even\",\"marker\":{\"color\":\"#FF6692\",\"symbol\":\"circle\"},\"mode\":\"markers\",\"name\":\"even\",\"scene\":\"scene\",\"showlegend\":true,\"x\":[0.08463184535503387],\"y\":[-0.12895548343658447],\"z\":[0.4244493544101715],\"type\":\"scatter3d\"},{\"hovertemplate\":\"color=tyrion<br>0=%{x}<br>1=%{y}<br>2=%{z}<extra></extra>\",\"legendgroup\":\"tyrion\",\"marker\":{\"color\":\"#B6E880\",\"symbol\":\"circle\"},\"mode\":\"markers\",\"name\":\"tyrion\",\"scene\":\"scene\",\"showlegend\":true,\"x\":[0.10528551787137985],\"y\":[-0.17870891094207764],\"z\":[-0.342357873916626],\"type\":\"scatter3d\"},{\"hovertemplate\":\"color=never<br>0=%{x}<br>1=%{y}<br>2=%{z}<extra></extra>\",\"legendgroup\":\"never\",\"marker\":{\"color\":\"#FF97FF\",\"symbol\":\"circle\"},\"mode\":\"markers\",\"name\":\"never\",\"scene\":\"scene\",\"showlegend\":true,\"x\":[0.4580838084220886],\"y\":[-0.21301725506782532],\"z\":[0.13577717542648315],\"type\":\"scatter3d\"},{\"hovertemplate\":\"color=see<br>0=%{x}<br>1=%{y}<br>2=%{z}<extra></extra>\",\"legendgroup\":\"see\",\"marker\":{\"color\":\"#FECB52\",\"symbol\":\"circle\"},\"mode\":\"markers\",\"name\":\"see\",\"scene\":\"scene\",\"showlegend\":true,\"x\":[0.08288583904504776],\"y\":[-0.07059122622013092],\"z\":[0.13436411321163177],\"type\":\"scatter3d\"},{\"hovertemplate\":\"color=know<br>0=%{x}<br>1=%{y}<br>2=%{z}<extra></extra>\",\"legendgroup\":\"know\",\"marker\":{\"color\":\"#636efa\",\"symbol\":\"circle\"},\"mode\":\"markers\",\"name\":\"know\",\"scene\":\"scene\",\"showlegend\":true,\"x\":[0.666056215763092],\"y\":[-0.11093567311763763],\"z\":[0.17103539407253265],\"type\":\"scatter3d\"},{\"hovertemplate\":\"color=made<br>0=%{x}<br>1=%{y}<br>2=%{z}<extra></extra>\",\"legendgroup\":\"made\",\"marker\":{\"color\":\"#EF553B\",\"symbol\":\"circle\"},\"mode\":\"markers\",\"name\":\"made\",\"scene\":\"scene\",\"showlegend\":true,\"x\":[-0.1112765371799469],\"y\":[-0.13132908940315247],\"z\":[0.0903407484292984],\"type\":\"scatter3d\"},{\"hovertemplate\":\"color=eyes<br>0=%{x}<br>1=%{y}<br>2=%{z}<extra></extra>\",\"legendgroup\":\"eyes\",\"marker\":{\"color\":\"#00cc96\",\"symbol\":\"circle\"},\"mode\":\"markers\",\"name\":\"eyes\",\"scene\":\"scene\",\"showlegend\":true,\"x\":[-0.2797335684299469],\"y\":[-0.13916368782520294],\"z\":[-0.25177302956581116],\"type\":\"scatter3d\"},{\"hovertemplate\":\"color=black<br>0=%{x}<br>1=%{y}<br>2=%{z}<extra></extra>\",\"legendgroup\":\"black\",\"marker\":{\"color\":\"#ab63fa\",\"symbol\":\"circle\"},\"mode\":\"markers\",\"name\":\"black\",\"scene\":\"scene\",\"showlegend\":true,\"x\":[-0.4590623080730438],\"y\":[0.4416309893131256],\"z\":[-0.035700418055057526],\"type\":\"scatter3d\"},{\"hovertemplate\":\"color=told<br>0=%{x}<br>1=%{y}<br>2=%{z}<extra></extra>\",\"legendgroup\":\"told\",\"marker\":{\"color\":\"#FFA15A\",\"symbol\":\"circle\"},\"mode\":\"markers\",\"name\":\"told\",\"scene\":\"scene\",\"showlegend\":true,\"x\":[0.5009162425994873],\"y\":[-0.03687635809183121],\"z\":[0.09326930344104767],\"type\":\"scatter3d\"},{\"hovertemplate\":\"color=lady<br>0=%{x}<br>1=%{y}<br>2=%{z}<extra></extra>\",\"legendgroup\":\"lady\",\"marker\":{\"color\":\"#19d3f3\",\"symbol\":\"circle\"},\"mode\":\"markers\",\"name\":\"lady\",\"scene\":\"scene\",\"showlegend\":true,\"x\":[0.44631385803222656],\"y\":[0.46091264486312866],\"z\":[-0.43796005845069885],\"type\":\"scatter3d\"},{\"hovertemplate\":\"color=thought<br>0=%{x}<br>1=%{y}<br>2=%{z}<extra></extra>\",\"legendgroup\":\"thought\",\"marker\":{\"color\":\"#FF6692\",\"symbol\":\"circle\"},\"mode\":\"markers\",\"name\":\"thought\",\"scene\":\"scene\",\"showlegend\":true,\"x\":[0.2935648262500763],\"y\":[-0.24206769466400146],\"z\":[0.09103124588727951],\"type\":\"scatter3d\"},{\"hovertemplate\":\"color=time<br>0=%{x}<br>1=%{y}<br>2=%{z}<extra></extra>\",\"legendgroup\":\"time\",\"marker\":{\"color\":\"#B6E880\",\"symbol\":\"circle\"},\"mode\":\"markers\",\"name\":\"time\",\"scene\":\"scene\",\"showlegend\":true,\"x\":[0.01868673972785473],\"y\":[-0.0962926596403122],\"z\":[0.19546355307102203],\"type\":\"scatter3d\"},{\"hovertemplate\":\"color=long<br>0=%{x}<br>1=%{y}<br>2=%{z}<extra></extra>\",\"legendgroup\":\"long\",\"marker\":{\"color\":\"#FF97FF\",\"symbol\":\"circle\"},\"mode\":\"markers\",\"name\":\"long\",\"scene\":\"scene\",\"showlegend\":true,\"x\":[-0.30397510528564453],\"y\":[0.20357415080070496],\"z\":[0.24819739162921906],\"type\":\"scatter3d\"},{\"hovertemplate\":\"color=might<br>0=%{x}<br>1=%{y}<br>2=%{z}<extra></extra>\",\"legendgroup\":\"might\",\"marker\":{\"color\":\"#FECB52\",\"symbol\":\"circle\"},\"mode\":\"markers\",\"name\":\"might\",\"scene\":\"scene\",\"showlegend\":true,\"x\":[0.5686132311820984],\"y\":[-0.0927216187119484],\"z\":[0.26052653789520264],\"type\":\"scatter3d\"},{\"hovertemplate\":\"color=us<br>0=%{x}<br>1=%{y}<br>2=%{z}<extra></extra>\",\"legendgroup\":\"us\",\"marker\":{\"color\":\"#636efa\",\"symbol\":\"circle\"},\"mode\":\"markers\",\"name\":\"us\",\"scene\":\"scene\",\"showlegend\":true,\"x\":[0.5339314937591553],\"y\":[0.14616045355796814],\"z\":[0.34139901399612427],\"type\":\"scatter3d\"},{\"hovertemplate\":\"color=come<br>0=%{x}<br>1=%{y}<br>2=%{z}<extra></extra>\",\"legendgroup\":\"come\",\"marker\":{\"color\":\"#EF553B\",\"symbol\":\"circle\"},\"mode\":\"markers\",\"name\":\"come\",\"scene\":\"scene\",\"showlegend\":true,\"x\":[0.35874518752098083],\"y\":[0.021106457337737083],\"z\":[0.46365785598754883],\"type\":\"scatter3d\"},{\"hovertemplate\":\"color=still<br>0=%{x}<br>1=%{y}<br>2=%{z}<extra></extra>\",\"legendgroup\":\"still\",\"marker\":{\"color\":\"#00cc96\",\"symbol\":\"circle\"},\"mode\":\"markers\",\"name\":\"still\",\"scene\":\"scene\",\"showlegend\":true,\"x\":[-0.11897943913936615],\"y\":[0.004004382528364658],\"z\":[0.33554527163505554],\"type\":\"scatter3d\"},{\"hovertemplate\":\"color=face<br>0=%{x}<br>1=%{y}<br>2=%{z}<extra></extra>\",\"legendgroup\":\"face\",\"marker\":{\"color\":\"#ab63fa\",\"symbol\":\"circle\"},\"mode\":\"markers\",\"name\":\"face\",\"scene\":\"scene\",\"showlegend\":true,\"x\":[-0.3463916778564453],\"y\":[-0.2040473073720932],\"z\":[-0.442092627286911],\"type\":\"scatter3d\"},{\"hovertemplate\":\"color=head<br>0=%{x}<br>1=%{y}<br>2=%{z}<extra></extra>\",\"legendgroup\":\"head\",\"marker\":{\"color\":\"#FFA15A\",\"symbol\":\"circle\"},\"mode\":\"markers\",\"name\":\"head\",\"scene\":\"scene\",\"showlegend\":true,\"x\":[-0.34256598353385925],\"y\":[0.026628561317920685],\"z\":[-0.5474324226379395],\"type\":\"scatter3d\"},{\"hovertemplate\":\"color=red<br>0=%{x}<br>1=%{y}<br>2=%{z}<extra></extra>\",\"legendgroup\":\"red\",\"marker\":{\"color\":\"#19d3f3\",\"symbol\":\"circle\"},\"mode\":\"markers\",\"name\":\"red\",\"scene\":\"scene\",\"showlegend\":true,\"x\":[-0.33430030941963196],\"y\":[0.3909877836704254],\"z\":[-0.22792233526706696],\"type\":\"scatter3d\"},{\"hovertemplate\":\"color=way<br>0=%{x}<br>1=%{y}<br>2=%{z}<extra></extra>\",\"legendgroup\":\"way\",\"marker\":{\"color\":\"#FF6692\",\"symbol\":\"circle\"},\"mode\":\"markers\",\"name\":\"way\",\"scene\":\"scene\",\"showlegend\":true,\"x\":[-0.11005907505750656],\"y\":[-0.09209153801202774],\"z\":[0.32646483182907104],\"type\":\"scatter3d\"},{\"hovertemplate\":\"color=boy<br>0=%{x}<br>1=%{y}<br>2=%{z}<extra></extra>\",\"legendgroup\":\"boy\",\"marker\":{\"color\":\"#B6E880\",\"symbol\":\"circle\"},\"mode\":\"markers\",\"name\":\"boy\",\"scene\":\"scene\",\"showlegend\":true,\"x\":[0.2775794565677643],\"y\":[0.2295840084552765],\"z\":[-0.38167059421539307],\"type\":\"scatter3d\"},{\"hovertemplate\":\"color=page<br>0=%{x}<br>1=%{y}<br>2=%{z}<extra></extra>\",\"legendgroup\":\"page\",\"marker\":{\"color\":\"#FF97FF\",\"symbol\":\"circle\"},\"mode\":\"markers\",\"name\":\"page\",\"scene\":\"scene\",\"showlegend\":true,\"x\":[0.17608845233917236],\"y\":[0.2324383705854416],\"z\":[-0.28447046875953674],\"type\":\"scatter3d\"},{\"hovertemplate\":\"color=must<br>0=%{x}<br>1=%{y}<br>2=%{z}<extra></extra>\",\"legendgroup\":\"must\",\"marker\":{\"color\":\"#FECB52\",\"symbol\":\"circle\"},\"mode\":\"markers\",\"name\":\"must\",\"scene\":\"scene\",\"showlegend\":true,\"x\":[0.613698422908783],\"y\":[0.01983405277132988],\"z\":[0.24342380464076996],\"type\":\"scatter3d\"},{\"hovertemplate\":\"color=queen<br>0=%{x}<br>1=%{y}<br>2=%{z}<extra></extra>\",\"legendgroup\":\"queen\",\"marker\":{\"color\":\"#636efa\",\"symbol\":\"circle\"},\"mode\":\"markers\",\"name\":\"queen\",\"scene\":\"scene\",\"showlegend\":true,\"x\":[0.45465973019599915],\"y\":[0.3373248279094696],\"z\":[-0.1802082061767578],\"type\":\"scatter3d\"},{\"hovertemplate\":\"color=good<br>0=%{x}<br>1=%{y}<br>2=%{z}<extra></extra>\",\"legendgroup\":\"good\",\"marker\":{\"color\":\"#EF553B\",\"symbol\":\"circle\"},\"mode\":\"markers\",\"name\":\"good\",\"scene\":\"scene\",\"showlegend\":true,\"x\":[0.5034641027450562],\"y\":[-0.09417527914047241],\"z\":[0.15475288033485413],\"type\":\"scatter3d\"},{\"hovertemplate\":\"color=two<br>0=%{x}<br>1=%{y}<br>2=%{z}<extra></extra>\",\"legendgroup\":\"two\",\"marker\":{\"color\":\"#00cc96\",\"symbol\":\"circle\"},\"mode\":\"markers\",\"name\":\"two\",\"scene\":\"scene\",\"showlegend\":true,\"x\":[-0.2041977494955063],\"y\":[0.5766278505325317],\"z\":[0.19929257035255432],\"type\":\"scatter3d\"},{\"hovertemplate\":\"color=brother<br>0=%{x}<br>1=%{y}<br>2=%{z}<extra></extra>\",\"legendgroup\":\"brother\",\"marker\":{\"color\":\"#ab63fa\",\"symbol\":\"circle\"},\"mode\":\"markers\",\"name\":\"brother\",\"scene\":\"scene\",\"showlegend\":true,\"x\":[0.5358636975288391],\"y\":[0.5232949256896973],\"z\":[-0.2975202798843384],\"type\":\"scatter3d\"},{\"hovertemplate\":\"color=night<br>0=%{x}<br>1=%{y}<br>2=%{z}<extra></extra>\",\"legendgroup\":\"night\",\"marker\":{\"color\":\"#FFA15A\",\"symbol\":\"circle\"},\"mode\":\"markers\",\"name\":\"night\",\"scene\":\"scene\",\"showlegend\":true,\"x\":[-0.020431358367204666],\"y\":[0.10134287923574448],\"z\":[0.3134305477142334],\"type\":\"scatter3d\"},{\"hovertemplate\":\"color=little<br>0=%{x}<br>1=%{y}<br>2=%{z}<extra></extra>\",\"legendgroup\":\"little\",\"marker\":{\"color\":\"#19d3f3\",\"symbol\":\"circle\"},\"mode\":\"markers\",\"name\":\"little\",\"scene\":\"scene\",\"showlegend\":true,\"x\":[0.11653431504964828],\"y\":[-0.15667608380317688],\"z\":[-0.07516277581453323],\"type\":\"scatter3d\"},{\"hovertemplate\":\"color=took<br>0=%{x}<br>1=%{y}<br>2=%{z}<extra></extra>\",\"legendgroup\":\"took\",\"marker\":{\"color\":\"#FF6692\",\"symbol\":\"circle\"},\"mode\":\"markers\",\"name\":\"took\",\"scene\":\"scene\",\"showlegend\":true,\"x\":[-0.01426677219569683],\"y\":[0.20581261813640594],\"z\":[-0.1726195365190506],\"type\":\"scatter3d\"},{\"hovertemplate\":\"color=came<br>0=%{x}<br>1=%{y}<br>2=%{z}<extra></extra>\",\"legendgroup\":\"came\",\"marker\":{\"color\":\"#B6E880\",\"symbol\":\"circle\"},\"mode\":\"markers\",\"name\":\"came\",\"scene\":\"scene\",\"showlegend\":true,\"x\":[-0.2658800184726715],\"y\":[0.11803052574396133],\"z\":[0.3701799511909485],\"type\":\"scatter3d\"},{\"hovertemplate\":\"color=though<br>0=%{x}<br>1=%{y}<br>2=%{z}<extra></extra>\",\"legendgroup\":\"though\",\"marker\":{\"color\":\"#FF97FF\",\"symbol\":\"circle\"},\"mode\":\"markers\",\"name\":\"though\",\"scene\":\"scene\",\"showlegend\":true,\"x\":[0.19620606303215027],\"y\":[-0.18159620463848114],\"z\":[0.19272325932979584],\"type\":\"scatter3d\"},{\"hovertemplate\":\"color=say<br>0=%{x}<br>1=%{y}<br>2=%{z}<extra></extra>\",\"legendgroup\":\"say\",\"marker\":{\"color\":\"#FECB52\",\"symbol\":\"circle\"},\"mode\":\"markers\",\"name\":\"say\",\"scene\":\"scene\",\"showlegend\":true,\"x\":[0.6110732555389404],\"y\":[-0.19688169658184052],\"z\":[0.03633243590593338],\"type\":\"scatter3d\"},{\"hovertemplate\":\"color=three<br>0=%{x}<br>1=%{y}<br>2=%{z}<extra></extra>\",\"legendgroup\":\"three\",\"marker\":{\"color\":\"#636efa\",\"symbol\":\"circle\"},\"mode\":\"markers\",\"name\":\"three\",\"scene\":\"scene\",\"showlegend\":true,\"x\":[-0.08223074674606323],\"y\":[0.6981545686721802],\"z\":[0.2611023783683777],\"type\":\"scatter3d\"},{\"hovertemplate\":\"color=away<br>0=%{x}<br>1=%{y}<br>2=%{z}<extra></extra>\",\"legendgroup\":\"away\",\"marker\":{\"color\":\"#EF553B\",\"symbol\":\"circle\"},\"mode\":\"markers\",\"name\":\"away\",\"scene\":\"scene\",\"showlegend\":true,\"x\":[-0.2868480682373047],\"y\":[-0.19974856078624725],\"z\":[0.040362562984228134],\"type\":\"scatter3d\"},{\"hovertemplate\":\"color=dead<br>0=%{x}<br>1=%{y}<br>2=%{z}<extra></extra>\",\"legendgroup\":\"dead\",\"marker\":{\"color\":\"#00cc96\",\"symbol\":\"circle\"},\"mode\":\"markers\",\"name\":\"dead\",\"scene\":\"scene\",\"showlegend\":true,\"x\":[0.038167860358953476],\"y\":[0.09834287315607071],\"z\":[0.20137156546115875],\"type\":\"scatter3d\"},{\"hovertemplate\":\"color=son<br>0=%{x}<br>1=%{y}<br>2=%{z}<extra></extra>\",\"legendgroup\":\"son\",\"marker\":{\"color\":\"#ab63fa\",\"symbol\":\"circle\"},\"mode\":\"markers\",\"name\":\"son\",\"scene\":\"scene\",\"showlegend\":true,\"x\":[0.434638112783432],\"y\":[0.7366990447044373],\"z\":[-0.4016772210597992],\"type\":\"scatter3d\"},{\"hovertemplate\":\"color=blood<br>0=%{x}<br>1=%{y}<br>2=%{z}<extra></extra>\",\"legendgroup\":\"blood\",\"marker\":{\"color\":\"#FFA15A\",\"symbol\":\"circle\"},\"mode\":\"markers\",\"name\":\"blood\",\"scene\":\"scene\",\"showlegend\":true,\"x\":[-0.25831449031829834],\"y\":[-0.14172221720218658],\"z\":[0.004122166428714991],\"type\":\"scatter3d\"},{\"hovertemplate\":\"color=take<br>0=%{x}<br>1=%{y}<br>2=%{z}<extra></extra>\",\"legendgroup\":\"take\",\"marker\":{\"color\":\"#19d3f3\",\"symbol\":\"circle\"},\"mode\":\"markers\",\"name\":\"take\",\"scene\":\"scene\",\"showlegend\":true,\"x\":[0.4353701174259186],\"y\":[0.14714443683624268],\"z\":[0.17540231347084045],\"type\":\"scatter3d\"},{\"hovertemplate\":\"color=go<br>0=%{x}<br>1=%{y}<br>2=%{z}<extra></extra>\",\"legendgroup\":\"go\",\"marker\":{\"color\":\"#FF6692\",\"symbol\":\"circle\"},\"mode\":\"markers\",\"name\":\"go\",\"scene\":\"scene\",\"showlegend\":true,\"x\":[0.2681470215320587],\"y\":[-0.2562407851219177],\"z\":[0.31128495931625366],\"type\":\"scatter3d\"},{\"hovertemplate\":\"color=half<br>0=%{x}<br>1=%{y}<br>2=%{z}<extra></extra>\",\"legendgroup\":\"half\",\"marker\":{\"color\":\"#B6E880\",\"symbol\":\"circle\"},\"mode\":\"markers\",\"name\":\"half\",\"scene\":\"scene\",\"showlegend\":true,\"x\":[-0.2576845586299896],\"y\":[0.1910705715417862],\"z\":[0.33635255694389343],\"type\":\"scatter3d\"},{\"hovertemplate\":\"color=make<br>0=%{x}<br>1=%{y}<br>2=%{z}<extra></extra>\",\"legendgroup\":\"make\",\"marker\":{\"color\":\"#FF97FF\",\"symbol\":\"circle\"},\"mode\":\"markers\",\"name\":\"make\",\"scene\":\"scene\",\"showlegend\":true,\"x\":[0.4401487708091736],\"y\":[-0.22397831082344055],\"z\":[0.2677290141582489],\"type\":\"scatter3d\"},{\"hovertemplate\":\"color=arya<br>0=%{x}<br>1=%{y}<br>2=%{z}<extra></extra>\",\"legendgroup\":\"arya\",\"marker\":{\"color\":\"#FECB52\",\"symbol\":\"circle\"},\"mode\":\"markers\",\"name\":\"arya\",\"scene\":\"scene\",\"showlegend\":true,\"x\":[-0.120478555560112],\"y\":[-0.3768259882926941],\"z\":[-0.07822781801223755],\"type\":\"scatter3d\"},{\"hovertemplate\":\"color=saw<br>0=%{x}<br>1=%{y}<br>2=%{z}<extra></extra>\",\"legendgroup\":\"saw\",\"marker\":{\"color\":\"#636efa\",\"symbol\":\"circle\"},\"mode\":\"markers\",\"name\":\"saw\",\"scene\":\"scene\",\"showlegend\":true,\"x\":[-0.34259533882141113],\"y\":[0.09386957436800003],\"z\":[0.002112789312377572],\"type\":\"scatter3d\"},{\"hovertemplate\":\"color=day<br>0=%{x}<br>1=%{y}<br>2=%{z}<extra></extra>\",\"legendgroup\":\"day\",\"marker\":{\"color\":\"#EF553B\",\"symbol\":\"circle\"},\"mode\":\"markers\",\"name\":\"day\",\"scene\":\"scene\",\"showlegend\":true,\"x\":[0.09217403829097748],\"y\":[0.16332460939884186],\"z\":[0.35041943192481995],\"type\":\"scatter3d\"},{\"hovertemplate\":\"color=white<br>0=%{x}<br>1=%{y}<br>2=%{z}<extra></extra>\",\"legendgroup\":\"white\",\"marker\":{\"color\":\"#00cc96\",\"symbol\":\"circle\"},\"mode\":\"markers\",\"name\":\"white\",\"scene\":\"scene\",\"showlegend\":true,\"x\":[-0.41869881749153137],\"y\":[0.5504313111305237],\"z\":[-0.2764515280723572],\"type\":\"scatter3d\"},{\"hovertemplate\":\"color=jaime<br>0=%{x}<br>1=%{y}<br>2=%{z}<extra></extra>\",\"legendgroup\":\"jaime\",\"marker\":{\"color\":\"#ab63fa\",\"symbol\":\"circle\"},\"mode\":\"markers\",\"name\":\"jaime\",\"scene\":\"scene\",\"showlegend\":true,\"x\":[0.22665351629257202],\"y\":[0.08773501962423325],\"z\":[-0.33750420808792114],\"type\":\"scatter3d\"},{\"hovertemplate\":\"color=first<br>0=%{x}<br>1=%{y}<br>2=%{z}<extra></extra>\",\"legendgroup\":\"first\",\"marker\":{\"color\":\"#FFA15A\",\"symbol\":\"circle\"},\"mode\":\"markers\",\"name\":\"first\",\"scene\":\"scene\",\"showlegend\":true,\"x\":[0.16251802444458008],\"y\":[0.33017903566360474],\"z\":[0.24012751877307892],\"type\":\"scatter3d\"},{\"hovertemplate\":\"color=look<br>0=%{x}<br>1=%{y}<br>2=%{z}<extra></extra>\",\"legendgroup\":\"look\",\"marker\":{\"color\":\"#19d3f3\",\"symbol\":\"circle\"},\"mode\":\"markers\",\"name\":\"look\",\"scene\":\"scene\",\"showlegend\":true,\"x\":[0.013507458381354809],\"y\":[-0.21669186651706696],\"z\":[-0.213467538356781],\"type\":\"scatter3d\"},{\"hovertemplate\":\"color=want<br>0=%{x}<br>1=%{y}<br>2=%{z}<extra></extra>\",\"legendgroup\":\"want\",\"marker\":{\"color\":\"#FF6692\",\"symbol\":\"circle\"},\"mode\":\"markers\",\"name\":\"want\",\"scene\":\"scene\",\"showlegend\":true,\"x\":[0.5397276282310486],\"y\":[-0.2530041038990021],\"z\":[0.1447240710258484],\"type\":\"scatter3d\"},{\"hovertemplate\":\"color=much<br>0=%{x}<br>1=%{y}<br>2=%{z}<extra></extra>\",\"legendgroup\":\"much\",\"marker\":{\"color\":\"#B6E880\",\"symbol\":\"circle\"},\"mode\":\"markers\",\"name\":\"much\",\"scene\":\"scene\",\"showlegend\":true,\"x\":[0.47626015543937683],\"y\":[-0.2731322646141052],\"z\":[0.20225052535533905],\"type\":\"scatter3d\"},{\"hovertemplate\":\"color=enough<br>0=%{x}<br>1=%{y}<br>2=%{z}<extra></extra>\",\"legendgroup\":\"enough\",\"marker\":{\"color\":\"#FF97FF\",\"symbol\":\"circle\"},\"mode\":\"markers\",\"name\":\"enough\",\"scene\":\"scene\",\"showlegend\":true,\"x\":[0.20616823434829712],\"y\":[-0.12154234945774078],\"z\":[0.30252835154533386],\"type\":\"scatter3d\"},{\"hovertemplate\":\"color=sword<br>0=%{x}<br>1=%{y}<br>2=%{z}<extra></extra>\",\"legendgroup\":\"sword\",\"marker\":{\"color\":\"#FECB52\",\"symbol\":\"circle\"},\"mode\":\"markers\",\"name\":\"sword\",\"scene\":\"scene\",\"showlegend\":true,\"x\":[-0.11885365098714828],\"y\":[0.1795758754014969],\"z\":[-0.2822984755039215],\"type\":\"scatter3d\"},{\"hovertemplate\":\"color=tell<br>0=%{x}<br>1=%{y}<br>2=%{z}<extra></extra>\",\"legendgroup\":\"tell\",\"marker\":{\"color\":\"#636efa\",\"symbol\":\"circle\"},\"mode\":\"markers\",\"name\":\"tell\",\"scene\":\"scene\",\"showlegend\":true,\"x\":[0.6525968313217163],\"y\":[-0.19798466563224792],\"z\":[0.11430849134922028],\"type\":\"scatter3d\"},{\"hovertemplate\":\"color=girl<br>0=%{x}<br>1=%{y}<br>2=%{z}<extra></extra>\",\"legendgroup\":\"girl\",\"marker\":{\"color\":\"#EF553B\",\"symbol\":\"circle\"},\"mode\":\"markers\",\"name\":\"girl\",\"scene\":\"scene\",\"showlegend\":true,\"x\":[0.23116953670978546],\"y\":[0.027363894507288933],\"z\":[-0.33410555124282837],\"type\":\"scatter3d\"},{\"hovertemplate\":\"color=bran<br>0=%{x}<br>1=%{y}<br>2=%{z}<extra></extra>\",\"legendgroup\":\"bran\",\"marker\":{\"color\":\"#00cc96\",\"symbol\":\"circle\"},\"mode\":\"markers\",\"name\":\"bran\",\"scene\":\"scene\",\"showlegend\":true,\"x\":[-0.061509422957897186],\"y\":[-0.33838117122650146],\"z\":[0.024194683879613876],\"type\":\"scatter3d\"},{\"hovertemplate\":\"color=great<br>0=%{x}<br>1=%{y}<br>2=%{z}<extra></extra>\",\"legendgroup\":\"great\",\"marker\":{\"color\":\"#ab63fa\",\"symbol\":\"circle\"},\"mode\":\"markers\",\"name\":\"great\",\"scene\":\"scene\",\"showlegend\":true,\"x\":[-0.17137663066387177],\"y\":[0.7805922031402588],\"z\":[0.2532123327255249],\"type\":\"scatter3d\"},{\"hovertemplate\":\"color=looked<br>0=%{x}<br>1=%{y}<br>2=%{z}<extra></extra>\",\"legendgroup\":\"looked\",\"marker\":{\"color\":\"#FFA15A\",\"symbol\":\"circle\"},\"mode\":\"markers\",\"name\":\"looked\",\"scene\":\"scene\",\"showlegend\":true,\"x\":[-0.20529864728450775],\"y\":[-0.024580931290984154],\"z\":[-0.2911797761917114],\"type\":\"scatter3d\"},{\"hovertemplate\":\"color=ll<br>0=%{x}<br>1=%{y}<br>2=%{z}<extra></extra>\",\"legendgroup\":\"ll\",\"marker\":{\"color\":\"#19d3f3\",\"symbol\":\"circle\"},\"mode\":\"markers\",\"name\":\"ll\",\"scene\":\"scene\",\"showlegend\":true,\"x\":[0.337038516998291],\"y\":[-0.22976191341876984],\"z\":[0.2216700315475464],\"type\":\"scatter3d\"},{\"hovertemplate\":\"color=left<br>0=%{x}<br>1=%{y}<br>2=%{z}<extra></extra>\",\"legendgroup\":\"left\",\"marker\":{\"color\":\"#FF6692\",\"symbol\":\"circle\"},\"mode\":\"markers\",\"name\":\"left\",\"scene\":\"scene\",\"showlegend\":true,\"x\":[-0.22048847377300262],\"y\":[0.2525745630264282],\"z\":[0.013100720010697842],\"type\":\"scatter3d\"},{\"hovertemplate\":\"color=knew<br>0=%{x}<br>1=%{y}<br>2=%{z}<extra></extra>\",\"legendgroup\":\"knew\",\"marker\":{\"color\":\"#B6E880\",\"symbol\":\"circle\"},\"mode\":\"markers\",\"name\":\"knew\",\"scene\":\"scene\",\"showlegend\":true,\"x\":[0.3487853705883026],\"y\":[-0.2217920869588852],\"z\":[0.26763537526130676],\"type\":\"scatter3d\"},{\"hovertemplate\":\"color=asked<br>0=%{x}<br>1=%{y}<br>2=%{z}<extra></extra>\",\"legendgroup\":\"asked\",\"marker\":{\"color\":\"#FF97FF\",\"symbol\":\"circle\"},\"mode\":\"markers\",\"name\":\"asked\",\"scene\":\"scene\",\"showlegend\":true,\"x\":[0.5259551405906677],\"y\":[0.03296225517988205],\"z\":[-0.308078795671463],\"type\":\"scatter3d\"},{\"hovertemplate\":\"color=gave<br>0=%{x}<br>1=%{y}<br>2=%{z}<extra></extra>\",\"legendgroup\":\"gave\",\"marker\":{\"color\":\"#FECB52\",\"symbol\":\"circle\"},\"mode\":\"markers\",\"name\":\"gave\",\"scene\":\"scene\",\"showlegend\":true,\"x\":[0.07189696282148361],\"y\":[-0.09409905970096588],\"z\":[-0.5266665816307068],\"type\":\"scatter3d\"},{\"hovertemplate\":\"color=maester<br>0=%{x}<br>1=%{y}<br>2=%{z}<extra></extra>\",\"legendgroup\":\"maester\",\"marker\":{\"color\":\"#636efa\",\"symbol\":\"circle\"},\"mode\":\"markers\",\"name\":\"maester\",\"scene\":\"scene\",\"showlegend\":true,\"x\":[0.165028914809227],\"y\":[0.27300089597702026],\"z\":[-0.3170243501663208],\"type\":\"scatter3d\"},{\"hovertemplate\":\"color=called<br>0=%{x}<br>1=%{y}<br>2=%{z}<extra></extra>\",\"legendgroup\":\"called\",\"marker\":{\"color\":\"#EF553B\",\"symbol\":\"circle\"},\"mode\":\"markers\",\"name\":\"called\",\"scene\":\"scene\",\"showlegend\":true,\"x\":[0.1817571222782135],\"y\":[0.7406703233718872],\"z\":[-0.342645525932312],\"type\":\"scatter3d\"},{\"hovertemplate\":\"color=wall<br>0=%{x}<br>1=%{y}<br>2=%{z}<extra></extra>\",\"legendgroup\":\"wall\",\"marker\":{\"color\":\"#00cc96\",\"symbol\":\"circle\"},\"mode\":\"markers\",\"name\":\"wall\",\"scene\":\"scene\",\"showlegend\":true,\"x\":[-0.2558991312980652],\"y\":[0.26294031739234924],\"z\":[0.5023596882820129],\"type\":\"scatter3d\"},{\"hovertemplate\":\"color=every<br>0=%{x}<br>1=%{y}<br>2=%{z}<extra></extra>\",\"legendgroup\":\"every\",\"marker\":{\"color\":\"#ab63fa\",\"symbol\":\"circle\"},\"mode\":\"markers\",\"name\":\"every\",\"scene\":\"scene\",\"showlegend\":true,\"x\":[-0.13163253664970398],\"y\":[0.1829679310321808],\"z\":[0.32540279626846313],\"type\":\"scatter3d\"},{\"hovertemplate\":\"color=heard<br>0=%{x}<br>1=%{y}<br>2=%{z}<extra></extra>\",\"legendgroup\":\"heard\",\"marker\":{\"color\":\"#FFA15A\",\"symbol\":\"circle\"},\"mode\":\"markers\",\"name\":\"heard\",\"scene\":\"scene\",\"showlegend\":true,\"x\":[0.025852525606751442],\"y\":[-0.14575810730457306],\"z\":[0.21912921965122223],\"type\":\"scatter3d\"},{\"hovertemplate\":\"color=sansa<br>0=%{x}<br>1=%{y}<br>2=%{z}<extra></extra>\",\"legendgroup\":\"sansa\",\"marker\":{\"color\":\"#19d3f3\",\"symbol\":\"circle\"},\"mode\":\"markers\",\"name\":\"sansa\",\"scene\":\"scene\",\"showlegend\":true,\"x\":[0.19227679073810577],\"y\":[-0.23417864739894867],\"z\":[-0.3578183054924011],\"type\":\"scatter3d\"},{\"hovertemplate\":\"color=let<br>0=%{x}<br>1=%{y}<br>2=%{z}<extra></extra>\",\"legendgroup\":\"let\",\"marker\":{\"color\":\"#FF6692\",\"symbol\":\"circle\"},\"mode\":\"markers\",\"name\":\"let\",\"scene\":\"scene\",\"showlegend\":true,\"x\":[0.22561004757881165],\"y\":[-0.2934435307979584],\"z\":[0.1451362669467926],\"type\":\"scatter3d\"},{\"hovertemplate\":\"color=yet<br>0=%{x}<br>1=%{y}<br>2=%{z}<extra></extra>\",\"legendgroup\":\"yet\",\"marker\":{\"color\":\"#B6E880\",\"symbol\":\"circle\"},\"mode\":\"markers\",\"name\":\"yet\",\"scene\":\"scene\",\"showlegend\":true,\"x\":[0.24796319007873535],\"y\":[-0.06203252449631691],\"z\":[0.38262292742729187],\"type\":\"scatter3d\"},{\"hovertemplate\":\"color=went<br>0=%{x}<br>1=%{y}<br>2=%{z}<extra></extra>\",\"legendgroup\":\"went\",\"marker\":{\"color\":\"#FF97FF\",\"symbol\":\"circle\"},\"mode\":\"markers\",\"name\":\"went\",\"scene\":\"scene\",\"showlegend\":true,\"x\":[-0.3720184564590454],\"y\":[0.030531929805874825],\"z\":[0.08450450003147125],\"type\":\"scatter3d\"},{\"hovertemplate\":\"color=turned<br>0=%{x}<br>1=%{y}<br>2=%{z}<extra></extra>\",\"legendgroup\":\"turned\",\"marker\":{\"color\":\"#FECB52\",\"symbol\":\"circle\"},\"mode\":\"markers\",\"name\":\"turned\",\"scene\":\"scene\",\"showlegend\":true,\"x\":[-0.27633970975875854],\"y\":[0.07381443679332733],\"z\":[-0.230307474732399],\"type\":\"scatter3d\"},{\"hovertemplate\":\"color=dany<br>0=%{x}<br>1=%{y}<br>2=%{z}<extra></extra>\",\"legendgroup\":\"dany\",\"marker\":{\"color\":\"#636efa\",\"symbol\":\"circle\"},\"mode\":\"markers\",\"name\":\"dany\",\"scene\":\"scene\",\"showlegend\":true,\"x\":[-0.12658800184726715],\"y\":[-0.21216626465320587],\"z\":[0.030754191800951958],\"type\":\"scatter3d\"},{\"hovertemplate\":\"color=need<br>0=%{x}<br>1=%{y}<br>2=%{z}<extra></extra>\",\"legendgroup\":\"need\",\"marker\":{\"color\":\"#EF553B\",\"symbol\":\"circle\"},\"mode\":\"markers\",\"name\":\"need\",\"scene\":\"scene\",\"showlegend\":true,\"x\":[0.4755233824253082],\"y\":[-0.033909887075424194],\"z\":[0.32938793301582336],\"type\":\"scatter3d\"},{\"hovertemplate\":\"color=behind<br>0=%{x}<br>1=%{y}<br>2=%{z}<extra></extra>\",\"legendgroup\":\"behind\",\"marker\":{\"color\":\"#00cc96\",\"symbol\":\"circle\"},\"mode\":\"markers\",\"name\":\"behind\",\"scene\":\"scene\",\"showlegend\":true,\"x\":[-0.5731054544448853],\"y\":[0.3467622697353363],\"z\":[0.14897421002388],\"type\":\"scatter3d\"},{\"hovertemplate\":\"color=around<br>0=%{x}<br>1=%{y}<br>2=%{z}<extra></extra>\",\"legendgroup\":\"around\",\"marker\":{\"color\":\"#ab63fa\",\"symbol\":\"circle\"},\"mode\":\"markers\",\"name\":\"around\",\"scene\":\"scene\",\"showlegend\":true,\"x\":[-0.7393093109130859],\"y\":[0.10060446709394455],\"z\":[0.04800344631075859],\"type\":\"scatter3d\"},{\"hovertemplate\":\"color=woman<br>0=%{x}<br>1=%{y}<br>2=%{z}<extra></extra>\",\"legendgroup\":\"woman\",\"marker\":{\"color\":\"#FFA15A\",\"symbol\":\"circle\"},\"mode\":\"markers\",\"name\":\"woman\",\"scene\":\"scene\",\"showlegend\":true,\"x\":[0.07117925584316254],\"y\":[-0.0733945295214653],\"z\":[-0.2500761151313782],\"type\":\"scatter3d\"},{\"hovertemplate\":\"color=another<br>0=%{x}<br>1=%{y}<br>2=%{z}<extra></extra>\",\"legendgroup\":\"another\",\"marker\":{\"color\":\"#19d3f3\",\"symbol\":\"circle\"},\"mode\":\"markers\",\"name\":\"another\",\"scene\":\"scene\",\"showlegend\":true,\"x\":[-0.04981895536184311],\"y\":[-0.02088117226958275],\"z\":[0.1640525609254837],\"type\":\"scatter3d\"},{\"hovertemplate\":\"color=snow<br>0=%{x}<br>1=%{y}<br>2=%{z}<extra></extra>\",\"legendgroup\":\"snow\",\"marker\":{\"color\":\"#FF6692\",\"symbol\":\"circle\"},\"mode\":\"markers\",\"name\":\"snow\",\"scene\":\"scene\",\"showlegend\":true,\"x\":[-0.26909422874450684],\"y\":[-0.0032733005937188864],\"z\":[0.043345700949430466],\"type\":\"scatter3d\"},{\"hovertemplate\":\"color=beneath<br>0=%{x}<br>1=%{y}<br>2=%{z}<extra></extra>\",\"legendgroup\":\"beneath\",\"marker\":{\"color\":\"#B6E880\",\"symbol\":\"circle\"},\"mode\":\"markers\",\"name\":\"beneath\",\"scene\":\"scene\",\"showlegend\":true,\"x\":[-0.7594982385635376],\"y\":[0.2994382977485657],\"z\":[0.17064882814884186],\"type\":\"scatter3d\"},{\"hovertemplate\":\"color=across<br>0=%{x}<br>1=%{y}<br>2=%{z}<extra></extra>\",\"legendgroup\":\"across\",\"marker\":{\"color\":\"#FF97FF\",\"symbol\":\"circle\"},\"mode\":\"markers\",\"name\":\"across\",\"scene\":\"scene\",\"showlegend\":true,\"x\":[-0.6929696202278137],\"y\":[0.2849076986312866],\"z\":[0.09769970178604126],\"type\":\"scatter3d\"},{\"hovertemplate\":\"color=knight<br>0=%{x}<br>1=%{y}<br>2=%{z}<extra></extra>\",\"legendgroup\":\"knight\",\"marker\":{\"color\":\"#FECB52\",\"symbol\":\"circle\"},\"mode\":\"markers\",\"name\":\"knight\",\"scene\":\"scene\",\"showlegend\":true,\"x\":[0.2493285834789276],\"y\":[0.5504967570304871],\"z\":[-0.5011367201805115],\"type\":\"scatter3d\"},{\"hovertemplate\":\"color=keep<br>0=%{x}<br>1=%{y}<br>2=%{z}<extra></extra>\",\"legendgroup\":\"keep\",\"marker\":{\"color\":\"#636efa\",\"symbol\":\"circle\"},\"mode\":\"markers\",\"name\":\"keep\",\"scene\":\"scene\",\"showlegend\":true,\"x\":[0.0652323067188263],\"y\":[0.10519415885210037],\"z\":[0.333501398563385],\"type\":\"scatter3d\"},{\"hovertemplate\":\"color=grace<br>0=%{x}<br>1=%{y}<br>2=%{z}<extra></extra>\",\"legendgroup\":\"grace\",\"marker\":{\"color\":\"#EF553B\",\"symbol\":\"circle\"},\"mode\":\"markers\",\"name\":\"grace\",\"scene\":\"scene\",\"showlegend\":true,\"x\":[0.7113783955574036],\"y\":[0.26005294919013977],\"z\":[-0.17737114429473877],\"type\":\"scatter3d\"},{\"hovertemplate\":\"color=found<br>0=%{x}<br>1=%{y}<br>2=%{z}<extra></extra>\",\"legendgroup\":\"found\",\"marker\":{\"color\":\"#00cc96\",\"symbol\":\"circle\"},\"mode\":\"markers\",\"name\":\"found\",\"scene\":\"scene\",\"showlegend\":true,\"x\":[-0.3197280168533325],\"y\":[0.07139211148023605],\"z\":[0.1425907015800476],\"type\":\"scatter3d\"},{\"hovertemplate\":\"color=gold<br>0=%{x}<br>1=%{y}<br>2=%{z}<extra></extra>\",\"legendgroup\":\"gold\",\"marker\":{\"color\":\"#ab63fa\",\"symbol\":\"circle\"},\"mode\":\"markers\",\"name\":\"gold\",\"scene\":\"scene\",\"showlegend\":true,\"x\":[-0.12881925702095032],\"y\":[0.506704568862915],\"z\":[-0.10438119620084763],\"type\":\"scatter3d\"},{\"hovertemplate\":\"color=last<br>0=%{x}<br>1=%{y}<br>2=%{z}<extra></extra>\",\"legendgroup\":\"last\",\"marker\":{\"color\":\"#FFA15A\",\"symbol\":\"circle\"},\"mode\":\"markers\",\"name\":\"last\",\"scene\":\"scene\",\"showlegend\":true,\"x\":[0.07179538905620575],\"y\":[0.18728284537792206],\"z\":[0.1395883858203888],\"type\":\"scatter3d\"},{\"hovertemplate\":\"color=cersei<br>0=%{x}<br>1=%{y}<br>2=%{z}<extra></extra>\",\"legendgroup\":\"cersei\",\"marker\":{\"color\":\"#19d3f3\",\"symbol\":\"circle\"},\"mode\":\"markers\",\"name\":\"cersei\",\"scene\":\"scene\",\"showlegend\":true,\"x\":[0.37778374552726746],\"y\":[-0.014329060912132263],\"z\":[-0.38462355732917786],\"type\":\"scatter3d\"},{\"hovertemplate\":\"color=castle<br>0=%{x}<br>1=%{y}<br>2=%{z}<extra></extra>\",\"legendgroup\":\"castle\",\"marker\":{\"color\":\"#FF6692\",\"symbol\":\"circle\"},\"mode\":\"markers\",\"name\":\"castle\",\"scene\":\"scene\",\"showlegend\":true,\"x\":[0.07405425608158112],\"y\":[0.6243854761123657],\"z\":[0.36491525173187256],\"type\":\"scatter3d\"},{\"hovertemplate\":\"color=stark<br>0=%{x}<br>1=%{y}<br>2=%{z}<extra></extra>\",\"legendgroup\":\"stark\",\"marker\":{\"color\":\"#B6E880\",\"symbol\":\"circle\"},\"mode\":\"markers\",\"name\":\"stark\",\"scene\":\"scene\",\"showlegend\":true,\"x\":[0.3580046594142914],\"y\":[0.4260067939758301],\"z\":[-0.22307740151882172],\"type\":\"scatter3d\"},{\"hovertemplate\":\"color=gods<br>0=%{x}<br>1=%{y}<br>2=%{z}<extra></extra>\",\"legendgroup\":\"gods\",\"marker\":{\"color\":\"#FF97FF\",\"symbol\":\"circle\"},\"mode\":\"markers\",\"name\":\"gods\",\"scene\":\"scene\",\"showlegend\":true,\"x\":[0.44377216696739197],\"y\":[0.0807657241821289],\"z\":[0.27260708808898926],\"type\":\"scatter3d\"},{\"hovertemplate\":\"color=think<br>0=%{x}<br>1=%{y}<br>2=%{z}<extra></extra>\",\"legendgroup\":\"think\",\"marker\":{\"color\":\"#FECB52\",\"symbol\":\"circle\"},\"mode\":\"markers\",\"name\":\"think\",\"scene\":\"scene\",\"showlegend\":true,\"x\":[0.5617464184761047],\"y\":[-0.3429877460002899],\"z\":[0.19183513522148132],\"type\":\"scatter3d\"},{\"hovertemplate\":\"color=hair<br>0=%{x}<br>1=%{y}<br>2=%{z}<extra></extra>\",\"legendgroup\":\"hair\",\"marker\":{\"color\":\"#636efa\",\"symbol\":\"circle\"},\"mode\":\"markers\",\"name\":\"hair\",\"scene\":\"scene\",\"showlegend\":true,\"x\":[-0.4663568437099457],\"y\":[-0.06958682835102081],\"z\":[-0.37379738688468933],\"type\":\"scatter3d\"},{\"hovertemplate\":\"color=many<br>0=%{x}<br>1=%{y}<br>2=%{z}<extra></extra>\",\"legendgroup\":\"many\",\"marker\":{\"color\":\"#EF553B\",\"symbol\":\"circle\"},\"mode\":\"markers\",\"name\":\"many\",\"scene\":\"scene\",\"showlegend\":true,\"x\":[0.23499281704425812],\"y\":[0.4673384428024292],\"z\":[0.5536174178123474],\"type\":\"scatter3d\"},{\"hovertemplate\":\"color=feet<br>0=%{x}<br>1=%{y}<br>2=%{z}<extra></extra>\",\"legendgroup\":\"feet\",\"marker\":{\"color\":\"#00cc96\",\"symbol\":\"circle\"},\"mode\":\"markers\",\"name\":\"feet\",\"scene\":\"scene\",\"showlegend\":true,\"x\":[-0.6022822260856628],\"y\":[0.2104484736919403],\"z\":[0.021945770829916],\"type\":\"scatter3d\"},{\"hovertemplate\":\"color=hands<br>0=%{x}<br>1=%{y}<br>2=%{z}<extra></extra>\",\"legendgroup\":\"hands\",\"marker\":{\"color\":\"#ab63fa\",\"symbol\":\"circle\"},\"mode\":\"markers\",\"name\":\"hands\",\"scene\":\"scene\",\"showlegend\":true,\"x\":[-0.5243895649909973],\"y\":[-0.12573514878749847],\"z\":[-0.2920050024986267],\"type\":\"scatter3d\"},{\"hovertemplate\":\"color=stannis<br>0=%{x}<br>1=%{y}<br>2=%{z}<extra></extra>\",\"legendgroup\":\"stannis\",\"marker\":{\"color\":\"#FFA15A\",\"symbol\":\"circle\"},\"mode\":\"markers\",\"name\":\"stannis\",\"scene\":\"scene\",\"showlegend\":true,\"x\":[0.40160948038101196],\"y\":[0.5412329435348511],\"z\":[-0.0296423751860857],\"type\":\"scatter3d\"},{\"hovertemplate\":\"color=mother<br>0=%{x}<br>1=%{y}<br>2=%{z}<extra></extra>\",\"legendgroup\":\"mother\",\"marker\":{\"color\":\"#19d3f3\",\"symbol\":\"circle\"},\"mode\":\"markers\",\"name\":\"mother\",\"scene\":\"scene\",\"showlegend\":true,\"x\":[0.5018500685691833],\"y\":[0.2308395802974701],\"z\":[-0.08274449408054352],\"type\":\"scatter3d\"},{\"hovertemplate\":\"color=catelyn<br>0=%{x}<br>1=%{y}<br>2=%{z}<extra></extra>\",\"legendgroup\":\"catelyn\",\"marker\":{\"color\":\"#FF6692\",\"symbol\":\"circle\"},\"mode\":\"markers\",\"name\":\"catelyn\",\"scene\":\"scene\",\"showlegend\":true,\"x\":[0.21118679642677307],\"y\":[0.029293883591890335],\"z\":[-0.3026936948299408],\"type\":\"scatter3d\"},{\"hovertemplate\":\"color=robert<br>0=%{x}<br>1=%{y}<br>2=%{z}<extra></extra>\",\"legendgroup\":\"robert\",\"marker\":{\"color\":\"#B6E880\",\"symbol\":\"circle\"},\"mode\":\"markers\",\"name\":\"robert\",\"scene\":\"scene\",\"showlegend\":true,\"x\":[0.5098413228988647],\"y\":[0.4385446608066559],\"z\":[-0.2060120850801468],\"type\":\"scatter3d\"},{\"hovertemplate\":\"color=seemed<br>0=%{x}<br>1=%{y}<br>2=%{z}<extra></extra>\",\"legendgroup\":\"seemed\",\"marker\":{\"color\":\"#FF97FF\",\"symbol\":\"circle\"},\"mode\":\"markers\",\"name\":\"seemed\",\"scene\":\"scene\",\"showlegend\":true,\"x\":[-0.1509806215763092],\"y\":[-0.24645698070526123],\"z\":[0.3195185959339142],\"type\":\"scatter3d\"},{\"hovertemplate\":\"color=prince<br>0=%{x}<br>1=%{y}<br>2=%{z}<extra></extra>\",\"legendgroup\":\"prince\",\"marker\":{\"color\":\"#FECB52\",\"symbol\":\"circle\"},\"mode\":\"markers\",\"name\":\"prince\",\"scene\":\"scene\",\"showlegend\":true,\"x\":[0.5133521556854248],\"y\":[0.5711639523506165],\"z\":[-0.38054630160331726],\"type\":\"scatter3d\"},{\"hovertemplate\":\"color=may<br>0=%{x}<br>1=%{y}<br>2=%{z}<extra></extra>\",\"legendgroup\":\"may\",\"marker\":{\"color\":\"#636efa\",\"symbol\":\"circle\"},\"mode\":\"markers\",\"name\":\"may\",\"scene\":\"scene\",\"showlegend\":true,\"x\":[0.6828551292419434],\"y\":[0.03147326782345772],\"z\":[0.2666694223880768],\"type\":\"scatter3d\"},{\"hovertemplate\":\"color=ever<br>0=%{x}<br>1=%{y}<br>2=%{z}<extra></extra>\",\"legendgroup\":\"ever\",\"marker\":{\"color\":\"#EF553B\",\"symbol\":\"circle\"},\"mode\":\"markers\",\"name\":\"ever\",\"scene\":\"scene\",\"showlegend\":true,\"x\":[0.3915805518627167],\"y\":[-0.11754094809293747],\"z\":[0.20135103166103363],\"type\":\"scatter3d\"},{\"hovertemplate\":\"color=robb<br>0=%{x}<br>1=%{y}<br>2=%{z}<extra></extra>\",\"legendgroup\":\"robb\",\"marker\":{\"color\":\"#00cc96\",\"symbol\":\"circle\"},\"mode\":\"markers\",\"name\":\"robb\",\"scene\":\"scene\",\"showlegend\":true,\"x\":[0.3909393548965454],\"y\":[0.26655447483062744],\"z\":[-0.2185095101594925],\"type\":\"scatter3d\"},{\"hovertemplate\":\"color=done<br>0=%{x}<br>1=%{y}<br>2=%{z}<extra></extra>\",\"legendgroup\":\"done\",\"marker\":{\"color\":\"#ab63fa\",\"symbol\":\"circle\"},\"mode\":\"markers\",\"name\":\"done\",\"scene\":\"scene\",\"showlegend\":true,\"x\":[0.6372630000114441],\"y\":[-0.1258053034543991],\"z\":[0.1864829659461975],\"type\":\"scatter3d\"},{\"hovertemplate\":\"color=find<br>0=%{x}<br>1=%{y}<br>2=%{z}<extra></extra>\",\"legendgroup\":\"find\",\"marker\":{\"color\":\"#FFA15A\",\"symbol\":\"circle\"},\"mode\":\"markers\",\"name\":\"find\",\"scene\":\"scene\",\"showlegend\":true,\"x\":[0.3716028034687042],\"y\":[-0.13457824289798737],\"z\":[0.3416188061237335],\"type\":\"scatter3d\"},{\"hovertemplate\":\"color=lannister<br>0=%{x}<br>1=%{y}<br>2=%{z}<extra></extra>\",\"legendgroup\":\"lannister\",\"marker\":{\"color\":\"#19d3f3\",\"symbol\":\"circle\"},\"mode\":\"markers\",\"name\":\"lannister\",\"scene\":\"scene\",\"showlegend\":true,\"x\":[0.3161603510379791],\"y\":[0.5944154858589172],\"z\":[-0.33519792556762695],\"type\":\"scatter3d\"},{\"hovertemplate\":\"color=hear<br>0=%{x}<br>1=%{y}<br>2=%{z}<extra></extra>\",\"legendgroup\":\"hear\",\"marker\":{\"color\":\"#FF6692\",\"symbol\":\"circle\"},\"mode\":\"markers\",\"name\":\"hear\",\"scene\":\"scene\",\"showlegend\":true,\"x\":[0.09231021255254745],\"y\":[-0.2891964912414551],\"z\":[0.21526312828063965],\"type\":\"scatter3d\"},{\"hovertemplate\":\"color=name<br>0=%{x}<br>1=%{y}<br>2=%{z}<extra></extra>\",\"legendgroup\":\"name\",\"marker\":{\"color\":\"#B6E880\",\"symbol\":\"circle\"},\"mode\":\"markers\",\"name\":\"name\",\"scene\":\"scene\",\"showlegend\":true,\"x\":[0.6107984185218811],\"y\":[0.22460192441940308],\"z\":[-0.17262694239616394],\"type\":\"scatter3d\"},{\"hovertemplate\":\"color=grey<br>0=%{x}<br>1=%{y}<br>2=%{z}<extra></extra>\",\"legendgroup\":\"grey\",\"marker\":{\"color\":\"#FF97FF\",\"symbol\":\"circle\"},\"mode\":\"markers\",\"name\":\"grey\",\"scene\":\"scene\",\"showlegend\":true,\"x\":[-0.517147958278656],\"y\":[0.3366687297821045],\"z\":[-0.07406999915838242],\"type\":\"scatter3d\"},{\"hovertemplate\":\"color=horse<br>0=%{x}<br>1=%{y}<br>2=%{z}<extra></extra>\",\"legendgroup\":\"horse\",\"marker\":{\"color\":\"#FECB52\",\"symbol\":\"circle\"},\"mode\":\"markers\",\"name\":\"horse\",\"scene\":\"scene\",\"showlegend\":true,\"x\":[-0.4286787509918213],\"y\":[0.0385156087577343],\"z\":[0.02341819368302822],\"type\":\"scatter3d\"},{\"hovertemplate\":\"color=high<br>0=%{x}<br>1=%{y}<br>2=%{z}<extra></extra>\",\"legendgroup\":\"high\",\"marker\":{\"color\":\"#636efa\",\"symbol\":\"circle\"},\"mode\":\"markers\",\"name\":\"high\",\"scene\":\"scene\",\"showlegend\":true,\"x\":[-0.22177767753601074],\"y\":[0.6596004962921143],\"z\":[0.10677062720060349],\"type\":\"scatter3d\"},{\"hovertemplate\":\"color=put<br>0=%{x}<br>1=%{y}<br>2=%{z}<extra></extra>\",\"legendgroup\":\"put\",\"marker\":{\"color\":\"#EF553B\",\"symbol\":\"circle\"},\"mode\":\"markers\",\"name\":\"put\",\"scene\":\"scene\",\"showlegend\":true,\"x\":[0.11758805066347122],\"y\":[0.052958738058805466],\"z\":[-0.11543290317058563],\"type\":\"scatter3d\"},{\"hovertemplate\":\"color=stone<br>0=%{x}<br>1=%{y}<br>2=%{z}<extra></extra>\",\"legendgroup\":\"stone\",\"marker\":{\"color\":\"#00cc96\",\"symbol\":\"circle\"},\"mode\":\"markers\",\"name\":\"stone\",\"scene\":\"scene\",\"showlegend\":true,\"x\":[-0.6636765599250793],\"y\":[0.3707176446914673],\"z\":[0.26711806654930115],\"type\":\"scatter3d\"},{\"hovertemplate\":\"color=wine<br>0=%{x}<br>1=%{y}<br>2=%{z}<extra></extra>\",\"legendgroup\":\"wine\",\"marker\":{\"color\":\"#ab63fa\",\"symbol\":\"circle\"},\"mode\":\"markers\",\"name\":\"wine\",\"scene\":\"scene\",\"showlegend\":true,\"x\":[-0.10895521193742752],\"y\":[-0.22912156581878662],\"z\":[-0.21721817553043365],\"type\":\"scatter3d\"},{\"hovertemplate\":\"color=hard<br>0=%{x}<br>1=%{y}<br>2=%{z}<extra></extra>\",\"legendgroup\":\"hard\",\"marker\":{\"color\":\"#FFA15A\",\"symbol\":\"circle\"},\"mode\":\"markers\",\"name\":\"hard\",\"scene\":\"scene\",\"showlegend\":true,\"x\":[-0.47365859150886536],\"y\":[-0.42264270782470703],\"z\":[0.09264132380485535],\"type\":\"scatter3d\"},{\"hovertemplate\":\"color=water<br>0=%{x}<br>1=%{y}<br>2=%{z}<extra></extra>\",\"legendgroup\":\"water\",\"marker\":{\"color\":\"#19d3f3\",\"symbol\":\"circle\"},\"mode\":\"markers\",\"name\":\"water\",\"scene\":\"scene\",\"showlegend\":true,\"x\":[-0.6018760204315186],\"y\":[-0.2734648585319519],\"z\":[0.3226572275161743],\"type\":\"scatter3d\"},{\"hovertemplate\":\"color=upon<br>0=%{x}<br>1=%{y}<br>2=%{z}<extra></extra>\",\"legendgroup\":\"upon\",\"marker\":{\"color\":\"#FF6692\",\"symbol\":\"circle\"},\"mode\":\"markers\",\"name\":\"upon\",\"scene\":\"scene\",\"showlegend\":true,\"x\":[-0.3632532060146332],\"y\":[0.412916362285614],\"z\":[0.1639486849308014],\"type\":\"scatter3d\"},{\"hovertemplate\":\"color=fire<br>0=%{x}<br>1=%{y}<br>2=%{z}<extra></extra>\",\"legendgroup\":\"fire\",\"marker\":{\"color\":\"#B6E880\",\"symbol\":\"circle\"},\"mode\":\"markers\",\"name\":\"fire\",\"scene\":\"scene\",\"showlegend\":true,\"x\":[-0.5385591387748718],\"y\":[-0.12340597808361053],\"z\":[0.40777719020843506],\"type\":\"scatter3d\"},{\"hovertemplate\":\"color=iron<br>0=%{x}<br>1=%{y}<br>2=%{z}<extra></extra>\",\"legendgroup\":\"iron\",\"marker\":{\"color\":\"#FF97FF\",\"symbol\":\"circle\"},\"mode\":\"markers\",\"name\":\"iron\",\"scene\":\"scene\",\"showlegend\":true,\"x\":[-0.2574915289878845],\"y\":[0.6754158735275269],\"z\":[0.03338300809264183],\"type\":\"scatter3d\"},{\"hovertemplate\":\"color=voice<br>0=%{x}<br>1=%{y}<br>2=%{z}<extra></extra>\",\"legendgroup\":\"voice\",\"marker\":{\"color\":\"#FECB52\",\"symbol\":\"circle\"},\"mode\":\"markers\",\"name\":\"voice\",\"scene\":\"scene\",\"showlegend\":true,\"x\":[-0.0360373854637146],\"y\":[-0.30318570137023926],\"z\":[-0.32918548583984375],\"type\":\"scatter3d\"},{\"hovertemplate\":\"color=gone<br>0=%{x}<br>1=%{y}<br>2=%{z}<extra></extra>\",\"legendgroup\":\"gone\",\"marker\":{\"color\":\"#636efa\",\"symbol\":\"circle\"},\"mode\":\"markers\",\"name\":\"gone\",\"scene\":\"scene\",\"showlegend\":true,\"x\":[0.007944265380501747],\"y\":[-0.14837408065795898],\"z\":[0.34270229935646057],\"type\":\"scatter3d\"},{\"hovertemplate\":\"color=give<br>0=%{x}<br>1=%{y}<br>2=%{z}<extra></extra>\",\"legendgroup\":\"give\",\"marker\":{\"color\":\"#EF553B\",\"symbol\":\"circle\"},\"mode\":\"markers\",\"name\":\"give\",\"scene\":\"scene\",\"showlegend\":true,\"x\":[0.6242374181747437],\"y\":[0.021368395537137985],\"z\":[0.13238203525543213],\"type\":\"scatter3d\"},{\"hovertemplate\":\"color=sam<br>0=%{x}<br>1=%{y}<br>2=%{z}<extra></extra>\",\"legendgroup\":\"sam\",\"marker\":{\"color\":\"#00cc96\",\"symbol\":\"circle\"},\"mode\":\"markers\",\"name\":\"sam\",\"scene\":\"scene\",\"showlegend\":true,\"x\":[-0.03318262845277786],\"y\":[-0.4246625006198883],\"z\":[-0.0867667868733406],\"type\":\"scatter3d\"},{\"hovertemplate\":\"color=better<br>0=%{x}<br>1=%{y}<br>2=%{z}<extra></extra>\",\"legendgroup\":\"better\",\"marker\":{\"color\":\"#ab63fa\",\"symbol\":\"circle\"},\"mode\":\"markers\",\"name\":\"better\",\"scene\":\"scene\",\"showlegend\":true,\"x\":[0.6174252033233643],\"y\":[-0.1713736206293106],\"z\":[0.25362643599510193],\"type\":\"scatter3d\"},{\"hovertemplate\":\"color=seen<br>0=%{x}<br>1=%{y}<br>2=%{z}<extra></extra>\",\"legendgroup\":\"seen\",\"marker\":{\"color\":\"#FFA15A\",\"symbol\":\"circle\"},\"mode\":\"markers\",\"name\":\"seen\",\"scene\":\"scene\",\"showlegend\":true,\"x\":[0.040893420577049255],\"y\":[0.1540544182062149],\"z\":[0.3321724832057953],\"type\":\"scatter3d\"},{\"hovertemplate\":\"color=shall<br>0=%{x}<br>1=%{y}<br>2=%{z}<extra></extra>\",\"legendgroup\":\"shall\",\"marker\":{\"color\":\"#19d3f3\",\"symbol\":\"circle\"},\"mode\":\"markers\",\"name\":\"shall\",\"scene\":\"scene\",\"showlegend\":true,\"x\":[0.5960351228713989],\"y\":[0.26990440487861633],\"z\":[0.23186644911766052],\"type\":\"scatter3d\"},{\"hovertemplate\":\"color=ned<br>0=%{x}<br>1=%{y}<br>2=%{z}<extra></extra>\",\"legendgroup\":\"ned\",\"marker\":{\"color\":\"#FF6692\",\"symbol\":\"circle\"},\"mode\":\"markers\",\"name\":\"ned\",\"scene\":\"scene\",\"showlegend\":true,\"x\":[0.2552919387817383],\"y\":[-0.06389093399047852],\"z\":[-0.3291013538837433],\"type\":\"scatter3d\"},{\"hovertemplate\":\"color=always<br>0=%{x}<br>1=%{y}<br>2=%{z}<extra></extra>\",\"legendgroup\":\"always\",\"marker\":{\"color\":\"#B6E880\",\"symbol\":\"circle\"},\"mode\":\"markers\",\"name\":\"always\",\"scene\":\"scene\",\"showlegend\":true,\"x\":[0.5204468369483948],\"y\":[-0.21480302512645721],\"z\":[0.13992498815059662],\"type\":\"scatter3d\"},{\"hovertemplate\":\"color=years<br>0=%{x}<br>1=%{y}<br>2=%{z}<extra></extra>\",\"legendgroup\":\"years\",\"marker\":{\"color\":\"#FF97FF\",\"symbol\":\"circle\"},\"mode\":\"markers\",\"name\":\"years\",\"scene\":\"scene\",\"showlegend\":true,\"x\":[0.26133447885513306],\"y\":[0.6204281449317932],\"z\":[0.22651812434196472],\"type\":\"scatter3d\"},{\"hovertemplate\":\"color=dark<br>0=%{x}<br>1=%{y}<br>2=%{z}<extra></extra>\",\"legendgroup\":\"dark\",\"marker\":{\"color\":\"#FECB52\",\"symbol\":\"circle\"},\"mode\":\"markers\",\"name\":\"dark\",\"scene\":\"scene\",\"showlegend\":true,\"x\":[-0.5864595770835876],\"y\":[-0.05622056499123573],\"z\":[0.14402958750724792],\"type\":\"scatter3d\"},{\"hovertemplate\":\"color=place<br>0=%{x}<br>1=%{y}<br>2=%{z}<extra></extra>\",\"legendgroup\":\"place\",\"marker\":{\"color\":\"#636efa\",\"symbol\":\"circle\"},\"mode\":\"markers\",\"name\":\"place\",\"scene\":\"scene\",\"showlegend\":true,\"x\":[0.31171345710754395],\"y\":[0.24027429521083832],\"z\":[0.4042971134185791],\"type\":\"scatter3d\"},{\"hovertemplate\":\"color=small<br>0=%{x}<br>1=%{y}<br>2=%{z}<extra></extra>\",\"legendgroup\":\"small\",\"marker\":{\"color\":\"#EF553B\",\"symbol\":\"circle\"},\"mode\":\"markers\",\"name\":\"small\",\"scene\":\"scene\",\"showlegend\":true,\"x\":[-0.3136981129646301],\"y\":[0.34906861186027527],\"z\":[0.15510331094264984],\"type\":\"scatter3d\"},{\"hovertemplate\":\"color=cold<br>0=%{x}<br>1=%{y}<br>2=%{z}<extra></extra>\",\"legendgroup\":\"cold\",\"marker\":{\"color\":\"#00cc96\",\"symbol\":\"circle\"},\"mode\":\"markers\",\"name\":\"cold\",\"scene\":\"scene\",\"showlegend\":true,\"x\":[-0.4341886341571808],\"y\":[-0.3652229905128479],\"z\":[0.336078017950058],\"type\":\"scatter3d\"},{\"hovertemplate\":\"color=winterfell<br>0=%{x}<br>1=%{y}<br>2=%{z}<extra></extra>\",\"legendgroup\":\"winterfell\",\"marker\":{\"color\":\"#ab63fa\",\"symbol\":\"circle\"},\"mode\":\"markers\",\"name\":\"winterfell\",\"scene\":\"scene\",\"showlegend\":true,\"x\":[0.3279420733451843],\"y\":[0.45537686347961426],\"z\":[0.1577288955450058],\"type\":\"scatter3d\"},{\"hovertemplate\":\"color=hundred<br>0=%{x}<br>1=%{y}<br>2=%{z}<extra></extra>\",\"legendgroup\":\"hundred\",\"marker\":{\"color\":\"#FFA15A\",\"symbol\":\"circle\"},\"mode\":\"markers\",\"name\":\"hundred\",\"scene\":\"scene\",\"showlegend\":true,\"x\":[-0.08852646499872208],\"y\":[0.6055343151092529],\"z\":[0.4859541952610016],\"type\":\"scatter3d\"},{\"hovertemplate\":\"color=stood<br>0=%{x}<br>1=%{y}<br>2=%{z}<extra></extra>\",\"legendgroup\":\"stood\",\"marker\":{\"color\":\"#19d3f3\",\"symbol\":\"circle\"},\"mode\":\"markers\",\"name\":\"stood\",\"scene\":\"scene\",\"showlegend\":true,\"x\":[-0.4532860517501831],\"y\":[0.669111967086792],\"z\":[-0.12534993886947632],\"type\":\"scatter3d\"},{\"hovertemplate\":\"color=end<br>0=%{x}<br>1=%{y}<br>2=%{z}<extra></extra>\",\"legendgroup\":\"end\",\"marker\":{\"color\":\"#FF6692\",\"symbol\":\"circle\"},\"mode\":\"markers\",\"name\":\"end\",\"scene\":\"scene\",\"showlegend\":true,\"x\":[0.0663476511836052],\"y\":[0.4821268916130066],\"z\":[0.3152564764022827],\"type\":\"scatter3d\"},{\"hovertemplate\":\"color=sister<br>0=%{x}<br>1=%{y}<br>2=%{z}<extra></extra>\",\"legendgroup\":\"sister\",\"marker\":{\"color\":\"#B6E880\",\"symbol\":\"circle\"},\"mode\":\"markers\",\"name\":\"sister\",\"scene\":\"scene\",\"showlegend\":true,\"x\":[0.6099566221237183],\"y\":[0.17059312760829926],\"z\":[-0.3636801242828369],\"type\":\"scatter3d\"},{\"hovertemplate\":\"color=words<br>0=%{x}<br>1=%{y}<br>2=%{z}<extra></extra>\",\"legendgroup\":\"words\",\"marker\":{\"color\":\"#FF97FF\",\"symbol\":\"circle\"},\"mode\":\"markers\",\"name\":\"words\",\"scene\":\"scene\",\"showlegend\":true,\"x\":[0.34372228384017944],\"y\":[-0.49468958377838135],\"z\":[-0.10026953369379044],\"type\":\"scatter3d\"},{\"hovertemplate\":\"color=sea<br>0=%{x}<br>1=%{y}<br>2=%{z}<extra></extra>\",\"legendgroup\":\"sea\",\"marker\":{\"color\":\"#FECB52\",\"symbol\":\"circle\"},\"mode\":\"markers\",\"name\":\"sea\",\"scene\":\"scene\",\"showlegend\":true,\"x\":[-0.16513606905937195],\"y\":[0.48841944336891174],\"z\":[0.5837386846542358],\"type\":\"scatter3d\"},{\"hovertemplate\":\"color=right<br>0=%{x}<br>1=%{y}<br>2=%{z}<extra></extra>\",\"legendgroup\":\"right\",\"marker\":{\"color\":\"#636efa\",\"symbol\":\"circle\"},\"mode\":\"markers\",\"name\":\"right\",\"scene\":\"scene\",\"showlegend\":true,\"x\":[-0.171602264046669],\"y\":[-0.03085547685623169],\"z\":[-0.2784837484359741],\"type\":\"scatter3d\"},{\"hovertemplate\":\"color=nothing<br>0=%{x}<br>1=%{y}<br>2=%{z}<extra></extra>\",\"legendgroup\":\"nothing\",\"marker\":{\"color\":\"#EF553B\",\"symbol\":\"circle\"},\"mode\":\"markers\",\"name\":\"nothing\",\"scene\":\"scene\",\"showlegend\":true,\"x\":[0.2561487555503845],\"y\":[-0.4904042184352875],\"z\":[0.2756907045841217],\"type\":\"scatter3d\"},{\"hovertemplate\":\"color=walls<br>0=%{x}<br>1=%{y}<br>2=%{z}<extra></extra>\",\"legendgroup\":\"walls\",\"marker\":{\"color\":\"#00cc96\",\"symbol\":\"circle\"},\"mode\":\"markers\",\"name\":\"walls\",\"scene\":\"scene\",\"showlegend\":true,\"x\":[-0.47258642315864563],\"y\":[0.44457581639289856],\"z\":[0.5122318267822266],\"type\":\"scatter3d\"},{\"hovertemplate\":\"color=fingers<br>0=%{x}<br>1=%{y}<br>2=%{z}<extra></extra>\",\"legendgroup\":\"fingers\",\"marker\":{\"color\":\"#ab63fa\",\"symbol\":\"circle\"},\"mode\":\"markers\",\"name\":\"fingers\",\"scene\":\"scene\",\"showlegend\":true,\"x\":[-0.6529380083084106],\"y\":[-0.17840589582920074],\"z\":[-0.291769802570343],\"type\":\"scatter3d\"},{\"hovertemplate\":\"color=cloak<br>0=%{x}<br>1=%{y}<br>2=%{z}<extra></extra>\",\"legendgroup\":\"cloak\",\"marker\":{\"color\":\"#FFA15A\",\"symbol\":\"circle\"},\"mode\":\"markers\",\"name\":\"cloak\",\"scene\":\"scene\",\"showlegend\":true,\"x\":[-0.5415588021278381],\"y\":[0.3579336106777191],\"z\":[-0.4599177837371826],\"type\":\"scatter3d\"},{\"hovertemplate\":\"color=house<br>0=%{x}<br>1=%{y}<br>2=%{z}<extra></extra>\",\"legendgroup\":\"house\",\"marker\":{\"color\":\"#19d3f3\",\"symbol\":\"circle\"},\"mode\":\"markers\",\"name\":\"house\",\"scene\":\"scene\",\"showlegend\":true,\"x\":[0.1978563666343689],\"y\":[0.853156566619873],\"z\":[-0.26938769221305847],\"type\":\"scatter3d\"},{\"hovertemplate\":\"color=young<br>0=%{x}<br>1=%{y}<br>2=%{z}<extra></extra>\",\"legendgroup\":\"young\",\"marker\":{\"color\":\"#FF6692\",\"symbol\":\"circle\"},\"mode\":\"markers\",\"name\":\"young\",\"scene\":\"scene\",\"showlegend\":true,\"x\":[0.3959991931915283],\"y\":[0.529438853263855],\"z\":[-0.31895026564598083],\"type\":\"scatter3d\"},{\"hovertemplate\":\"color=beside<br>0=%{x}<br>1=%{y}<br>2=%{z}<extra></extra>\",\"legendgroup\":\"beside\",\"marker\":{\"color\":\"#B6E880\",\"symbol\":\"circle\"},\"mode\":\"markers\",\"name\":\"beside\",\"scene\":\"scene\",\"showlegend\":true,\"x\":[-0.46508434414863586],\"y\":[0.49471086263656616],\"z\":[-0.2419111132621765],\"type\":\"scatter3d\"},{\"hovertemplate\":\"color=get<br>0=%{x}<br>1=%{y}<br>2=%{z}<extra></extra>\",\"legendgroup\":\"get\",\"marker\":{\"color\":\"#FF97FF\",\"symbol\":\"circle\"},\"mode\":\"markers\",\"name\":\"get\",\"scene\":\"scene\",\"showlegend\":true,\"x\":[0.1427072286605835],\"y\":[-0.39844706654548645],\"z\":[0.2640809714794159],\"type\":\"scatter3d\"},{\"hovertemplate\":\"color=mouth<br>0=%{x}<br>1=%{y}<br>2=%{z}<extra></extra>\",\"legendgroup\":\"mouth\",\"marker\":{\"color\":\"#FECB52\",\"symbol\":\"circle\"},\"mode\":\"markers\",\"name\":\"mouth\",\"scene\":\"scene\",\"showlegend\":true,\"x\":[-0.4723052680492401],\"y\":[-0.45284780859947205],\"z\":[-0.36172834038734436],\"type\":\"scatter3d\"},{\"hovertemplate\":\"color=seven<br>0=%{x}<br>1=%{y}<br>2=%{z}<extra></extra>\",\"legendgroup\":\"seven\",\"marker\":{\"color\":\"#636efa\",\"symbol\":\"circle\"},\"mode\":\"markers\",\"name\":\"seven\",\"scene\":\"scene\",\"showlegend\":true,\"x\":[0.22991980612277985],\"y\":[0.633741021156311],\"z\":[0.3300994634628296],\"type\":\"scatter3d\"},{\"hovertemplate\":\"color=watch<br>0=%{x}<br>1=%{y}<br>2=%{z}<extra></extra>\",\"legendgroup\":\"watch\",\"marker\":{\"color\":\"#EF553B\",\"symbol\":\"circle\"},\"mode\":\"markers\",\"name\":\"watch\",\"scene\":\"scene\",\"showlegend\":true,\"x\":[0.23816899955272675],\"y\":[0.4447433054447174],\"z\":[0.20710846781730652],\"type\":\"scatter3d\"},{\"hovertemplate\":\"color=door<br>0=%{x}<br>1=%{y}<br>2=%{z}<extra></extra>\",\"legendgroup\":\"door\",\"marker\":{\"color\":\"#00cc96\",\"symbol\":\"circle\"},\"mode\":\"markers\",\"name\":\"door\",\"scene\":\"scene\",\"showlegend\":true,\"x\":[-0.49405884742736816],\"y\":[0.1402464509010315],\"z\":[-0.16575025022029877],\"type\":\"scatter3d\"},{\"hovertemplate\":\"color=joffrey<br>0=%{x}<br>1=%{y}<br>2=%{z}<extra></extra>\",\"legendgroup\":\"joffrey\",\"marker\":{\"color\":\"#ab63fa\",\"symbol\":\"circle\"},\"mode\":\"markers\",\"name\":\"joffrey\",\"scene\":\"scene\",\"showlegend\":true,\"x\":[0.46113163232803345],\"y\":[0.2294357866048813],\"z\":[-0.32369527220726013],\"type\":\"scatter3d\"},{\"hovertemplate\":\"color=green<br>0=%{x}<br>1=%{y}<br>2=%{z}<extra></extra>\",\"legendgroup\":\"green\",\"marker\":{\"color\":\"#FFA15A\",\"symbol\":\"circle\"},\"mode\":\"markers\",\"name\":\"green\",\"scene\":\"scene\",\"showlegend\":true,\"x\":[-0.5057428479194641],\"y\":[0.4183509051799774],\"z\":[-0.08214175701141357],\"type\":\"scatter3d\"},{\"hovertemplate\":\"color=big<br>0=%{x}<br>1=%{y}<br>2=%{z}<extra></extra>\",\"legendgroup\":\"big\",\"marker\":{\"color\":\"#19d3f3\",\"symbol\":\"circle\"},\"mode\":\"markers\",\"name\":\"big\",\"scene\":\"scene\",\"showlegend\":true,\"x\":[-0.3786919116973877],\"y\":[0.10446280241012573],\"z\":[-0.23421694338321686],\"type\":\"scatter3d\"},{\"hovertemplate\":\"color=sent<br>0=%{x}<br>1=%{y}<br>2=%{z}<extra></extra>\",\"legendgroup\":\"sent\",\"marker\":{\"color\":\"#FF6692\",\"symbol\":\"circle\"},\"mode\":\"markers\",\"name\":\"sent\",\"scene\":\"scene\",\"showlegend\":true,\"x\":[0.2717939615249634],\"y\":[0.41150158643722534],\"z\":[0.11299847066402435],\"type\":\"scatter3d\"},{\"hovertemplate\":\"color=perhaps<br>0=%{x}<br>1=%{y}<br>2=%{z}<extra></extra>\",\"legendgroup\":\"perhaps\",\"marker\":{\"color\":\"#B6E880\",\"symbol\":\"circle\"},\"mode\":\"markers\",\"name\":\"perhaps\",\"scene\":\"scene\",\"showlegend\":true,\"x\":[0.7279118895530701],\"y\":[-0.1017179936170578],\"z\":[0.24508549273014069],\"type\":\"scatter3d\"},{\"hovertemplate\":\"color=almost<br>0=%{x}<br>1=%{y}<br>2=%{z}<extra></extra>\",\"legendgroup\":\"almost\",\"marker\":{\"color\":\"#FF97FF\",\"symbol\":\"circle\"},\"mode\":\"markers\",\"name\":\"almost\",\"scene\":\"scene\",\"showlegend\":true,\"x\":[-0.3377877473831177],\"y\":[-0.363243043422699],\"z\":[0.013375625014305115],\"type\":\"scatter3d\"},{\"hovertemplate\":\"color=wanted<br>0=%{x}<br>1=%{y}<br>2=%{z}<extra></extra>\",\"legendgroup\":\"wanted\",\"marker\":{\"color\":\"#FECB52\",\"symbol\":\"circle\"},\"mode\":\"markers\",\"name\":\"wanted\",\"scene\":\"scene\",\"showlegend\":true,\"x\":[0.4864389896392822],\"y\":[-0.410238653421402],\"z\":[0.14807510375976562],\"type\":\"scatter3d\"},{\"hovertemplate\":\"color=daughter<br>0=%{x}<br>1=%{y}<br>2=%{z}<extra></extra>\",\"legendgroup\":\"daughter\",\"marker\":{\"color\":\"#636efa\",\"symbol\":\"circle\"},\"mode\":\"markers\",\"name\":\"daughter\",\"scene\":\"scene\",\"showlegend\":true,\"x\":[0.450887531042099],\"y\":[0.6860049366950989],\"z\":[-0.44966158270835876],\"type\":\"scatter3d\"},{\"hovertemplate\":\"color=true<br>0=%{x}<br>1=%{y}<br>2=%{z}<extra></extra>\",\"legendgroup\":\"true\",\"marker\":{\"color\":\"#EF553B\",\"symbol\":\"circle\"},\"mode\":\"markers\",\"name\":\"true\",\"scene\":\"scene\",\"showlegend\":true,\"x\":[0.7023205757141113],\"y\":[0.13115611672401428],\"z\":[0.07518573105335236],\"type\":\"scatter3d\"},{\"hovertemplate\":\"color=leave<br>0=%{x}<br>1=%{y}<br>2=%{z}<extra></extra>\",\"legendgroup\":\"leave\",\"marker\":{\"color\":\"#00cc96\",\"symbol\":\"circle\"},\"mode\":\"markers\",\"name\":\"leave\",\"scene\":\"scene\",\"showlegend\":true,\"x\":[0.519869863986969],\"y\":[-0.00875009223818779],\"z\":[0.1355123370885849],\"type\":\"scatter3d\"},{\"hovertemplate\":\"color=wind<br>0=%{x}<br>1=%{y}<br>2=%{z}<extra></extra>\",\"legendgroup\":\"wind\",\"marker\":{\"color\":\"#ab63fa\",\"symbol\":\"circle\"},\"mode\":\"markers\",\"name\":\"wind\",\"scene\":\"scene\",\"showlegend\":true,\"x\":[-0.6509677767753601],\"y\":[-0.01614132523536682],\"z\":[0.2861630618572235],\"type\":\"scatter3d\"},{\"hovertemplate\":\"color=city<br>0=%{x}<br>1=%{y}<br>2=%{z}<extra></extra>\",\"legendgroup\":\"city\",\"marker\":{\"color\":\"#FFA15A\",\"symbol\":\"circle\"},\"mode\":\"markers\",\"name\":\"city\",\"scene\":\"scene\",\"showlegend\":true,\"x\":[0.11226720362901688],\"y\":[0.5227438807487488],\"z\":[0.528359055519104],\"type\":\"scatter3d\"},{\"hovertemplate\":\"color=light<br>0=%{x}<br>1=%{y}<br>2=%{z}<extra></extra>\",\"legendgroup\":\"light\",\"marker\":{\"color\":\"#19d3f3\",\"symbol\":\"circle\"},\"mode\":\"markers\",\"name\":\"light\",\"scene\":\"scene\",\"showlegend\":true,\"x\":[-0.5163033604621887],\"y\":[0.08234498649835587],\"z\":[0.23265515267848969],\"type\":\"scatter3d\"},{\"hovertemplate\":\"color=arms<br>0=%{x}<br>1=%{y}<br>2=%{z}<extra></extra>\",\"legendgroup\":\"arms\",\"marker\":{\"color\":\"#FF6692\",\"symbol\":\"circle\"},\"mode\":\"markers\",\"name\":\"arms\",\"scene\":\"scene\",\"showlegend\":true,\"x\":[-0.2936953902244568],\"y\":[0.5679563283920288],\"z\":[-0.3052697777748108],\"type\":\"scatter3d\"},{\"hovertemplate\":\"color=children<br>0=%{x}<br>1=%{y}<br>2=%{z}<extra></extra>\",\"legendgroup\":\"children\",\"marker\":{\"color\":\"#B6E880\",\"symbol\":\"circle\"},\"mode\":\"markers\",\"name\":\"children\",\"scene\":\"scene\",\"showlegend\":true,\"x\":[0.441872239112854],\"y\":[0.4078691899776459],\"z\":[0.35973843932151794],\"type\":\"scatter3d\"},{\"hovertemplate\":\"color=sweet<br>0=%{x}<br>1=%{y}<br>2=%{z}<extra></extra>\",\"legendgroup\":\"sweet\",\"marker\":{\"color\":\"#FF97FF\",\"symbol\":\"circle\"},\"mode\":\"markers\",\"name\":\"sweet\",\"scene\":\"scene\",\"showlegend\":true,\"x\":[0.3043206036090851],\"y\":[-0.32666507363319397],\"z\":[-0.22783438861370087],\"type\":\"scatter3d\"},{\"hovertemplate\":\"color=others<br>0=%{x}<br>1=%{y}<br>2=%{z}<extra></extra>\",\"legendgroup\":\"others\",\"marker\":{\"color\":\"#FECB52\",\"symbol\":\"circle\"},\"mode\":\"markers\",\"name\":\"others\",\"scene\":\"scene\",\"showlegend\":true,\"x\":[0.0903499647974968],\"y\":[0.28632625937461853],\"z\":[0.3074030876159668],\"type\":\"scatter3d\"},{\"hovertemplate\":\"color=lost<br>0=%{x}<br>1=%{y}<br>2=%{z}<extra></extra>\",\"legendgroup\":\"lost\",\"marker\":{\"color\":\"#636efa\",\"symbol\":\"circle\"},\"mode\":\"markers\",\"name\":\"lost\",\"scene\":\"scene\",\"showlegend\":true,\"x\":[0.26336008310317993],\"y\":[0.36928245425224304],\"z\":[0.20351776480674744],\"type\":\"scatter3d\"},{\"hovertemplate\":\"color=theon<br>0=%{x}<br>1=%{y}<br>2=%{z}<extra></extra>\",\"legendgroup\":\"theon\",\"marker\":{\"color\":\"#EF553B\",\"symbol\":\"circle\"},\"mode\":\"markers\",\"name\":\"theon\",\"scene\":\"scene\",\"showlegend\":true,\"x\":[0.1601826250553131],\"y\":[0.024531779810786247],\"z\":[-0.3128435015678406],\"type\":\"scatter3d\"},{\"hovertemplate\":\"color=felt<br>0=%{x}<br>1=%{y}<br>2=%{z}<extra></extra>\",\"legendgroup\":\"felt\",\"marker\":{\"color\":\"#00cc96\",\"symbol\":\"circle\"},\"mode\":\"markers\",\"name\":\"felt\",\"scene\":\"scene\",\"showlegend\":true,\"x\":[-0.2725975215435028],\"y\":[-0.5374635457992554],\"z\":[-0.004343532025814056],\"type\":\"scatter3d\"},{\"hovertemplate\":\"color=re<br>0=%{x}<br>1=%{y}<br>2=%{z}<extra></extra>\",\"legendgroup\":\"re\",\"marker\":{\"color\":\"#ab63fa\",\"symbol\":\"circle\"},\"mode\":\"markers\",\"name\":\"re\",\"scene\":\"scene\",\"showlegend\":true,\"x\":[0.46151605248451233],\"y\":[-0.33293017745018005],\"z\":[0.2872072756290436],\"type\":\"scatter3d\"},{\"hovertemplate\":\"color=side<br>0=%{x}<br>1=%{y}<br>2=%{z}<extra></extra>\",\"legendgroup\":\"side\",\"marker\":{\"color\":\"#FFA15A\",\"symbol\":\"circle\"},\"mode\":\"markers\",\"name\":\"side\",\"scene\":\"scene\",\"showlegend\":true,\"x\":[-0.43492940068244934],\"y\":[0.36097609996795654],\"z\":[0.07733305543661118],\"type\":\"scatter3d\"},{\"hovertemplate\":\"color=yes<br>0=%{x}<br>1=%{y}<br>2=%{z}<extra></extra>\",\"legendgroup\":\"yes\",\"marker\":{\"color\":\"#19d3f3\",\"symbol\":\"circle\"},\"mode\":\"markers\",\"name\":\"yes\",\"scene\":\"scene\",\"showlegend\":true,\"x\":[0.7350682616233826],\"y\":[-0.1819496899843216],\"z\":[-0.1478838324546814],\"type\":\"scatter3d\"},{\"hovertemplate\":\"color=brothers<br>0=%{x}<br>1=%{y}<br>2=%{z}<extra></extra>\",\"legendgroup\":\"brothers\",\"marker\":{\"color\":\"#FF6692\",\"symbol\":\"circle\"},\"mode\":\"markers\",\"name\":\"brothers\",\"scene\":\"scene\",\"showlegend\":true,\"x\":[0.33290502429008484],\"y\":[0.6557159423828125],\"z\":[0.13793958723545074],\"type\":\"scatter3d\"},{\"hovertemplate\":\"color=best<br>0=%{x}<br>1=%{y}<br>2=%{z}<extra></extra>\",\"legendgroup\":\"best\",\"marker\":{\"color\":\"#B6E880\",\"symbol\":\"circle\"},\"mode\":\"markers\",\"name\":\"best\",\"scene\":\"scene\",\"showlegend\":true,\"x\":[0.5598331689834595],\"y\":[-0.1597328633069992],\"z\":[0.41440272331237793],\"type\":\"scatter3d\"},{\"hovertemplate\":\"color=die<br>0=%{x}<br>1=%{y}<br>2=%{z}<extra></extra>\",\"legendgroup\":\"die\",\"marker\":{\"color\":\"#FF97FF\",\"symbol\":\"circle\"},\"mode\":\"markers\",\"name\":\"die\",\"scene\":\"scene\",\"showlegend\":true,\"x\":[0.5845775008201599],\"y\":[-0.12003864347934723],\"z\":[0.345214307308197],\"type\":\"scatter3d\"},{\"hovertemplate\":\"color=brought<br>0=%{x}<br>1=%{y}<br>2=%{z}<extra></extra>\",\"legendgroup\":\"brought\",\"marker\":{\"color\":\"#FECB52\",\"symbol\":\"circle\"},\"mode\":\"markers\",\"name\":\"brought\",\"scene\":\"scene\",\"showlegend\":true,\"x\":[0.09035900235176086],\"y\":[0.30808398127555847],\"z\":[-0.010737676173448563],\"type\":\"scatter3d\"},{\"hovertemplate\":\"color=soon<br>0=%{x}<br>1=%{y}<br>2=%{z}<extra></extra>\",\"legendgroup\":\"soon\",\"marker\":{\"color\":\"#636efa\",\"symbol\":\"circle\"},\"mode\":\"markers\",\"name\":\"soon\",\"scene\":\"scene\",\"showlegend\":true,\"x\":[0.3559631407260895],\"y\":[-0.09156885743141174],\"z\":[0.5133922696113586],\"type\":\"scatter3d\"},{\"hovertemplate\":\"color=far<br>0=%{x}<br>1=%{y}<br>2=%{z}<extra></extra>\",\"legendgroup\":\"far\",\"marker\":{\"color\":\"#EF553B\",\"symbol\":\"circle\"},\"mode\":\"markers\",\"name\":\"far\",\"scene\":\"scene\",\"showlegend\":true,\"x\":[-0.035672254860401154],\"y\":[0.05212172865867615],\"z\":[0.5493559837341309],\"type\":\"scatter3d\"},{\"hovertemplate\":\"color=died<br>0=%{x}<br>1=%{y}<br>2=%{z}<extra></extra>\",\"legendgroup\":\"died\",\"marker\":{\"color\":\"#00cc96\",\"symbol\":\"circle\"},\"mode\":\"markers\",\"name\":\"died\",\"scene\":\"scene\",\"showlegend\":true,\"x\":[0.37048086524009705],\"y\":[0.5711649656295776],\"z\":[0.024115270003676414],\"type\":\"scatter3d\"},{\"hovertemplate\":\"color=north<br>0=%{x}<br>1=%{y}<br>2=%{z}<extra></extra>\",\"legendgroup\":\"north\",\"marker\":{\"color\":\"#ab63fa\",\"symbol\":\"circle\"},\"mode\":\"markers\",\"name\":\"north\",\"scene\":\"scene\",\"showlegend\":true,\"x\":[0.1329072266817093],\"y\":[0.6134512424468994],\"z\":[0.3651556372642517],\"type\":\"scatter3d\"},{\"hovertemplate\":\"color=child<br>0=%{x}<br>1=%{y}<br>2=%{z}<extra></extra>\",\"legendgroup\":\"child\",\"marker\":{\"color\":\"#FFA15A\",\"symbol\":\"circle\"},\"mode\":\"markers\",\"name\":\"child\",\"scene\":\"scene\",\"showlegend\":true,\"x\":[0.5547178983688354],\"y\":[-0.07932623475790024],\"z\":[-0.10604557394981384],\"type\":\"scatter3d\"},{\"hovertemplate\":\"color=fear<br>0=%{x}<br>1=%{y}<br>2=%{z}<extra></extra>\",\"legendgroup\":\"fear\",\"marker\":{\"color\":\"#19d3f3\",\"symbol\":\"circle\"},\"mode\":\"markers\",\"name\":\"fear\",\"scene\":\"scene\",\"showlegend\":true,\"x\":[0.35003870725631714],\"y\":[-0.4786653220653534],\"z\":[0.2663927972316742],\"type\":\"scatter3d\"},{\"hovertemplate\":\"color=along<br>0=%{x}<br>1=%{y}<br>2=%{z}<extra></extra>\",\"legendgroup\":\"along\",\"marker\":{\"color\":\"#FF6692\",\"symbol\":\"circle\"},\"mode\":\"markers\",\"name\":\"along\",\"scene\":\"scene\",\"showlegend\":true,\"x\":[-0.4991930425167084],\"y\":[0.47417768836021423],\"z\":[0.4495866298675537],\"type\":\"scatter3d\"},{\"hovertemplate\":\"color=word<br>0=%{x}<br>1=%{y}<br>2=%{z}<extra></extra>\",\"legendgroup\":\"word\",\"marker\":{\"color\":\"#B6E880\",\"symbol\":\"circle\"},\"mode\":\"markers\",\"name\":\"word\",\"scene\":\"scene\",\"showlegend\":true,\"x\":[0.6388021111488342],\"y\":[-0.06899233162403107],\"z\":[-0.026303093880414963],\"type\":\"scatter3d\"},{\"hovertemplate\":\"color=brienne<br>0=%{x}<br>1=%{y}<br>2=%{z}<extra></extra>\",\"legendgroup\":\"brienne\",\"marker\":{\"color\":\"#FF97FF\",\"symbol\":\"circle\"},\"mode\":\"markers\",\"name\":\"brienne\",\"scene\":\"scene\",\"showlegend\":true,\"x\":[-0.021151341497898102],\"y\":[-0.2652052044868469],\"z\":[-0.29578229784965515],\"type\":\"scatter3d\"},{\"hovertemplate\":\"color=taken<br>0=%{x}<br>1=%{y}<br>2=%{z}<extra></extra>\",\"legendgroup\":\"taken\",\"marker\":{\"color\":\"#FECB52\",\"symbol\":\"circle\"},\"mode\":\"markers\",\"name\":\"taken\",\"scene\":\"scene\",\"showlegend\":true,\"x\":[0.41511985659599304],\"y\":[0.6176306009292603],\"z\":[0.14888150990009308],\"type\":\"scatter3d\"},{\"hovertemplate\":\"color=battle<br>0=%{x}<br>1=%{y}<br>2=%{z}<extra></extra>\",\"legendgroup\":\"battle\",\"marker\":{\"color\":\"#636efa\",\"symbol\":\"circle\"},\"mode\":\"markers\",\"name\":\"battle\",\"scene\":\"scene\",\"showlegend\":true,\"x\":[0.3837108612060547],\"y\":[0.6431999206542969],\"z\":[0.1805899739265442],\"type\":\"scatter3d\"},{\"hovertemplate\":\"color=help<br>0=%{x}<br>1=%{y}<br>2=%{z}<extra></extra>\",\"legendgroup\":\"help\",\"marker\":{\"color\":\"#EF553B\",\"symbol\":\"circle\"},\"mode\":\"markers\",\"name\":\"help\",\"scene\":\"scene\",\"showlegend\":true,\"x\":[0.5211886763572693],\"y\":[-0.25901177525520325],\"z\":[0.12735073268413544],\"type\":\"scatter3d\"},{\"hovertemplate\":\"color=new<br>0=%{x}<br>1=%{y}<br>2=%{z}<extra></extra>\",\"legendgroup\":\"new\",\"marker\":{\"color\":\"#00cc96\",\"symbol\":\"circle\"},\"mode\":\"markers\",\"name\":\"new\",\"scene\":\"scene\",\"showlegend\":true,\"x\":[0.3446367084980011],\"y\":[0.5945752859115601],\"z\":[0.2122577726840973],\"type\":\"scatter3d\"},{\"hovertemplate\":\"color=tywin<br>0=%{x}<br>1=%{y}<br>2=%{z}<extra></extra>\",\"legendgroup\":\"tywin\",\"marker\":{\"color\":\"#ab63fa\",\"symbol\":\"circle\"},\"mode\":\"markers\",\"name\":\"tywin\",\"scene\":\"scene\",\"showlegend\":true,\"x\":[0.41288405656814575],\"y\":[0.36349567770957947],\"z\":[-0.2414911836385727],\"type\":\"scatter3d\"},{\"hovertemplate\":\"color=davos<br>0=%{x}<br>1=%{y}<br>2=%{z}<extra></extra>\",\"legendgroup\":\"davos\",\"marker\":{\"color\":\"#FFA15A\",\"symbol\":\"circle\"},\"mode\":\"markers\",\"name\":\"davos\",\"scene\":\"scene\",\"showlegend\":true,\"x\":[0.14215970039367676],\"y\":[-0.03403889387845993],\"z\":[-0.1899828463792801],\"type\":\"scatter3d\"},{\"hovertemplate\":\"color=lords<br>0=%{x}<br>1=%{y}<br>2=%{z}<extra></extra>\",\"legendgroup\":\"lords\",\"marker\":{\"color\":\"#19d3f3\",\"symbol\":\"circle\"},\"mode\":\"markers\",\"name\":\"lords\",\"scene\":\"scene\",\"showlegend\":true,\"x\":[0.4448610246181488],\"y\":[0.8223457336425781],\"z\":[0.13524825870990753],\"type\":\"scatter3d\"},{\"hovertemplate\":\"color=something<br>0=%{x}<br>1=%{y}<br>2=%{z}<extra></extra>\",\"legendgroup\":\"something\",\"marker\":{\"color\":\"#FF6692\",\"symbol\":\"circle\"},\"mode\":\"markers\",\"name\":\"something\",\"scene\":\"scene\",\"showlegend\":true,\"x\":[0.07487340271472931],\"y\":[-0.6954503655433655],\"z\":[-0.012016727589070797],\"type\":\"scatter3d\"},{\"hovertemplate\":\"color=mean<br>0=%{x}<br>1=%{y}<br>2=%{z}<extra></extra>\",\"legendgroup\":\"mean\",\"marker\":{\"color\":\"#B6E880\",\"symbol\":\"circle\"},\"mode\":\"markers\",\"name\":\"mean\",\"scene\":\"scene\",\"showlegend\":true,\"x\":[0.7512606978416443],\"y\":[0.02042434737086296],\"z\":[0.20621827244758606],\"type\":\"scatter3d\"},{\"hovertemplate\":\"color=wife<br>0=%{x}<br>1=%{y}<br>2=%{z}<extra></extra>\",\"legendgroup\":\"wife\",\"marker\":{\"color\":\"#FF97FF\",\"symbol\":\"circle\"},\"mode\":\"markers\",\"name\":\"wife\",\"scene\":\"scene\",\"showlegend\":true,\"x\":[0.589895486831665],\"y\":[0.5105769634246826],\"z\":[-0.2681152820587158],\"type\":\"scatter3d\"},{\"hovertemplate\":\"color=hall<br>0=%{x}<br>1=%{y}<br>2=%{z}<extra></extra>\",\"legendgroup\":\"hall\",\"marker\":{\"color\":\"#FECB52\",\"symbol\":\"circle\"},\"mode\":\"markers\",\"name\":\"hall\",\"scene\":\"scene\",\"showlegend\":true,\"x\":[-0.3569599688053131],\"y\":[0.539862871170044],\"z\":[0.11534862965345383],\"type\":\"scatter3d\"},{\"hovertemplate\":\"color=rest<br>0=%{x}<br>1=%{y}<br>2=%{z}<extra></extra>\",\"legendgroup\":\"rest\",\"marker\":{\"color\":\"#636efa\",\"symbol\":\"circle\"},\"mode\":\"markers\",\"name\":\"rest\",\"scene\":\"scene\",\"showlegend\":true,\"x\":[0.19220753014087677],\"y\":[0.23950175940990448],\"z\":[0.4487690329551697],\"type\":\"scatter3d\"},{\"hovertemplate\":\"color=kill<br>0=%{x}<br>1=%{y}<br>2=%{z}<extra></extra>\",\"legendgroup\":\"kill\",\"marker\":{\"color\":\"#EF553B\",\"symbol\":\"circle\"},\"mode\":\"markers\",\"name\":\"kill\",\"scene\":\"scene\",\"showlegend\":true,\"x\":[0.6024175882339478],\"y\":[-0.3052944540977478],\"z\":[0.12224739789962769],\"type\":\"scatter3d\"},{\"hovertemplate\":\"color=strong<br>0=%{x}<br>1=%{y}<br>2=%{z}<extra></extra>\",\"legendgroup\":\"strong\",\"marker\":{\"color\":\"#00cc96\",\"symbol\":\"circle\"},\"mode\":\"markers\",\"name\":\"strong\",\"scene\":\"scene\",\"showlegend\":true,\"x\":[0.1763632446527481],\"y\":[0.03736472129821777],\"z\":[0.17899587750434875],\"type\":\"scatter3d\"},{\"hovertemplate\":\"color=steel<br>0=%{x}<br>1=%{y}<br>2=%{z}<extra></extra>\",\"legendgroup\":\"steel\",\"marker\":{\"color\":\"#ab63fa\",\"symbol\":\"circle\"},\"mode\":\"markers\",\"name\":\"steel\",\"scene\":\"scene\",\"showlegend\":true,\"x\":[-0.6643556952476501],\"y\":[0.11753694713115692],\"z\":[-0.02476365491747856],\"type\":\"scatter3d\"},{\"hovertemplate\":\"color=began<br>0=%{x}<br>1=%{y}<br>2=%{z}<extra></extra>\",\"legendgroup\":\"began\",\"marker\":{\"color\":\"#FFA15A\",\"symbol\":\"circle\"},\"mode\":\"markers\",\"name\":\"began\",\"scene\":\"scene\",\"showlegend\":true,\"x\":[-0.4895889163017273],\"y\":[-0.21448931097984314],\"z\":[0.18367527425289154],\"type\":\"scatter3d\"},{\"hovertemplate\":\"color=sound<br>0=%{x}<br>1=%{y}<br>2=%{z}<extra></extra>\",\"legendgroup\":\"sound\",\"marker\":{\"color\":\"#19d3f3\",\"symbol\":\"circle\"},\"mode\":\"markers\",\"name\":\"sound\",\"scene\":\"scene\",\"showlegend\":true,\"x\":[-0.4832618534564972],\"y\":[-0.3356049060821533],\"z\":[0.2234598845243454],\"type\":\"scatter3d\"},{\"hovertemplate\":\"color=dragon<br>0=%{x}<br>1=%{y}<br>2=%{z}<extra></extra>\",\"legendgroup\":\"dragon\",\"marker\":{\"color\":\"#FF6692\",\"symbol\":\"circle\"},\"mode\":\"markers\",\"name\":\"dragon\",\"scene\":\"scene\",\"showlegend\":true,\"x\":[-0.12830205261707306],\"y\":[0.20499679446220398],\"z\":[0.33766666054725647],\"type\":\"scatter3d\"},{\"hovertemplate\":\"color=past<br>0=%{x}<br>1=%{y}<br>2=%{z}<extra></extra>\",\"legendgroup\":\"past\",\"marker\":{\"color\":\"#B6E880\",\"symbol\":\"circle\"},\"mode\":\"markers\",\"name\":\"past\",\"scene\":\"scene\",\"showlegend\":true,\"x\":[-0.46288347244262695],\"y\":[0.4601300060749054],\"z\":[0.2928800582885742],\"type\":\"scatter3d\"},{\"hovertemplate\":\"color=life<br>0=%{x}<br>1=%{y}<br>2=%{z}<extra></extra>\",\"legendgroup\":\"life\",\"marker\":{\"color\":\"#FF97FF\",\"symbol\":\"circle\"},\"mode\":\"markers\",\"name\":\"life\",\"scene\":\"scene\",\"showlegend\":true,\"x\":[0.5898317694664001],\"y\":[0.018438536673784256],\"z\":[0.3864929676055908],\"type\":\"scatter3d\"},{\"hovertemplate\":\"color=tower<br>0=%{x}<br>1=%{y}<br>2=%{z}<extra></extra>\",\"legendgroup\":\"tower\",\"marker\":{\"color\":\"#FECB52\",\"symbol\":\"circle\"},\"mode\":\"markers\",\"name\":\"tower\",\"scene\":\"scene\",\"showlegend\":true,\"x\":[-0.34399136900901794],\"y\":[0.6021301746368408],\"z\":[0.2150615155696869],\"type\":\"scatter3d\"},{\"hovertemplate\":\"color=killed<br>0=%{x}<br>1=%{y}<br>2=%{z}<extra></extra>\",\"legendgroup\":\"killed\",\"marker\":{\"color\":\"#636efa\",\"symbol\":\"circle\"},\"mode\":\"markers\",\"name\":\"killed\",\"scene\":\"scene\",\"showlegend\":true,\"x\":[0.6102918982505798],\"y\":[0.2153552621603012],\"z\":[-0.1609959602355957],\"type\":\"scatter3d\"},{\"hovertemplate\":\"color=arm<br>0=%{x}<br>1=%{y}<br>2=%{z}<extra></extra>\",\"legendgroup\":\"arm\",\"marker\":{\"color\":\"#EF553B\",\"symbol\":\"circle\"},\"mode\":\"markers\",\"name\":\"arm\",\"scene\":\"scene\",\"showlegend\":true,\"x\":[-0.4448081851005554],\"y\":[-0.023607222363352776],\"z\":[-0.39999455213546753],\"type\":\"scatter3d\"},{\"hovertemplate\":\"color=tried<br>0=%{x}<br>1=%{y}<br>2=%{z}<extra></extra>\",\"legendgroup\":\"tried\",\"marker\":{\"color\":\"#00cc96\",\"symbol\":\"circle\"},\"mode\":\"markers\",\"name\":\"tried\",\"scene\":\"scene\",\"showlegend\":true,\"x\":[-0.0034955041483044624],\"y\":[-0.45854130387306213],\"z\":[0.0420125350356102],\"type\":\"scatter3d\"},{\"hovertemplate\":\"color=sons<br>0=%{x}<br>1=%{y}<br>2=%{z}<extra></extra>\",\"legendgroup\":\"sons\",\"marker\":{\"color\":\"#ab63fa\",\"symbol\":\"circle\"},\"mode\":\"markers\",\"name\":\"sons\",\"scene\":\"scene\",\"showlegend\":true,\"x\":[0.4678959250450134],\"y\":[0.8261831998825073],\"z\":[-0.013546274043619633],\"type\":\"scatter3d\"},{\"hovertemplate\":\"color=free<br>0=%{x}<br>1=%{y}<br>2=%{z}<extra></extra>\",\"legendgroup\":\"free\",\"marker\":{\"color\":\"#FFA15A\",\"symbol\":\"circle\"},\"mode\":\"markers\",\"name\":\"free\",\"scene\":\"scene\",\"showlegend\":true,\"x\":[0.1672995388507843],\"y\":[0.2650638222694397],\"z\":[0.6171605587005615],\"type\":\"scatter3d\"},{\"hovertemplate\":\"color=thing<br>0=%{x}<br>1=%{y}<br>2=%{z}<extra></extra>\",\"legendgroup\":\"thing\",\"marker\":{\"color\":\"#19d3f3\",\"symbol\":\"circle\"},\"mode\":\"markers\",\"name\":\"thing\",\"scene\":\"scene\",\"showlegend\":true,\"x\":[0.21988807618618011],\"y\":[-0.4083929657936096],\"z\":[0.19831280410289764],\"type\":\"scatter3d\"},{\"hovertemplate\":\"color=days<br>0=%{x}<br>1=%{y}<br>2=%{z}<extra></extra>\",\"legendgroup\":\"days\",\"marker\":{\"color\":\"#FF6692\",\"symbol\":\"circle\"},\"mode\":\"markers\",\"name\":\"days\",\"scene\":\"scene\",\"showlegend\":true,\"x\":[0.12237593531608582],\"y\":[0.3557451665401459],\"z\":[0.6376367807388306],\"type\":\"scatter3d\"},{\"hovertemplate\":\"color=bear<br>0=%{x}<br>1=%{y}<br>2=%{z}<extra></extra>\",\"legendgroup\":\"bear\",\"marker\":{\"color\":\"#B6E880\",\"symbol\":\"circle\"},\"mode\":\"markers\",\"name\":\"bear\",\"scene\":\"scene\",\"showlegend\":true,\"x\":[0.10468513518571854],\"y\":[0.11209922283887863],\"z\":[-0.08524024486541748],\"type\":\"scatter3d\"},{\"hovertemplate\":\"color=bloody<br>0=%{x}<br>1=%{y}<br>2=%{z}<extra></extra>\",\"legendgroup\":\"bloody\",\"marker\":{\"color\":\"#FF97FF\",\"symbol\":\"circle\"},\"mode\":\"markers\",\"name\":\"bloody\",\"scene\":\"scene\",\"showlegend\":true,\"x\":[0.029895497485995293],\"y\":[-0.22024348378181458],\"z\":[0.16043445467948914],\"type\":\"scatter3d\"},{\"hovertemplate\":\"color=heart<br>0=%{x}<br>1=%{y}<br>2=%{z}<extra></extra>\",\"legendgroup\":\"heart\",\"marker\":{\"color\":\"#FECB52\",\"symbol\":\"circle\"},\"mode\":\"markers\",\"name\":\"heart\",\"scene\":\"scene\",\"showlegend\":true,\"x\":[-0.24939456582069397],\"y\":[-0.13907845318317413],\"z\":[0.033085547387599945],\"type\":\"scatter3d\"},{\"hovertemplate\":\"color=pale<br>0=%{x}<br>1=%{y}<br>2=%{z}<extra></extra>\",\"legendgroup\":\"pale\",\"marker\":{\"color\":\"#636efa\",\"symbol\":\"circle\"},\"mode\":\"markers\",\"name\":\"pale\",\"scene\":\"scene\",\"showlegend\":true,\"x\":[-0.6881192922592163],\"y\":[0.10362350940704346],\"z\":[-0.17622093856334686],\"type\":\"scatter3d\"},{\"hovertemplate\":\"color=love<br>0=%{x}<br>1=%{y}<br>2=%{z}<extra></extra>\",\"legendgroup\":\"love\",\"marker\":{\"color\":\"#EF553B\",\"symbol\":\"circle\"},\"mode\":\"markers\",\"name\":\"love\",\"scene\":\"scene\",\"showlegend\":true,\"x\":[0.7680594325065613],\"y\":[-0.07620546221733093],\"z\":[0.05257907137274742],\"type\":\"scatter3d\"},{\"hovertemplate\":\"color=sat<br>0=%{x}<br>1=%{y}<br>2=%{z}<extra></extra>\",\"legendgroup\":\"sat\",\"marker\":{\"color\":\"#00cc96\",\"symbol\":\"circle\"},\"mode\":\"markers\",\"name\":\"sat\",\"scene\":\"scene\",\"showlegend\":true,\"x\":[-0.4801686108112335],\"y\":[0.4288780987262726],\"z\":[-0.23211275041103363],\"type\":\"scatter3d\"},{\"hovertemplate\":\"color=moment<br>0=%{x}<br>1=%{y}<br>2=%{z}<extra></extra>\",\"legendgroup\":\"moment\",\"marker\":{\"color\":\"#ab63fa\",\"symbol\":\"circle\"},\"mode\":\"markers\",\"name\":\"moment\",\"scene\":\"scene\",\"showlegend\":true,\"x\":[0.023898588493466377],\"y\":[-0.4819731116294861],\"z\":[-0.1970597356557846],\"type\":\"scatter3d\"},{\"hovertemplate\":\"color=bring<br>0=%{x}<br>1=%{y}<br>2=%{z}<extra></extra>\",\"legendgroup\":\"bring\",\"marker\":{\"color\":\"#FFA15A\",\"symbol\":\"circle\"},\"mode\":\"markers\",\"name\":\"bring\",\"scene\":\"scene\",\"showlegend\":true,\"x\":[0.5176565647125244],\"y\":[0.018756521865725517],\"z\":[0.13533979654312134],\"type\":\"scatter3d\"},{\"hovertemplate\":\"color=bed<br>0=%{x}<br>1=%{y}<br>2=%{z}<extra></extra>\",\"legendgroup\":\"bed\",\"marker\":{\"color\":\"#19d3f3\",\"symbol\":\"circle\"},\"mode\":\"markers\",\"name\":\"bed\",\"scene\":\"scene\",\"showlegend\":true,\"x\":[-0.08365457504987717],\"y\":[-0.23791399598121643],\"z\":[-0.011504084803164005],\"type\":\"scatter3d\"},{\"hovertemplate\":\"color=close<br>0=%{x}<br>1=%{y}<br>2=%{z}<extra></extra>\",\"legendgroup\":\"close\",\"marker\":{\"color\":\"#FF6692\",\"symbol\":\"circle\"},\"mode\":\"markers\",\"name\":\"close\",\"scene\":\"scene\",\"showlegend\":true,\"x\":[-0.3321048617362976],\"y\":[-0.2110055834054947],\"z\":[0.10053350031375885],\"type\":\"scatter3d\"},{\"hovertemplate\":\"color=knights<br>0=%{x}<br>1=%{y}<br>2=%{z}<extra></extra>\",\"legendgroup\":\"knights\",\"marker\":{\"color\":\"#B6E880\",\"symbol\":\"circle\"},\"mode\":\"markers\",\"name\":\"knights\",\"scene\":\"scene\",\"showlegend\":true,\"x\":[0.2237194925546646],\"y\":[0.8719203472137451],\"z\":[0.0888761356472969],\"type\":\"scatter3d\"},{\"hovertemplate\":\"color=cut<br>0=%{x}<br>1=%{y}<br>2=%{z}<extra></extra>\",\"legendgroup\":\"cut\",\"marker\":{\"color\":\"#FF97FF\",\"symbol\":\"circle\"},\"mode\":\"markers\",\"name\":\"cut\",\"scene\":\"scene\",\"showlegend\":true,\"x\":[-0.30637165904045105],\"y\":[-0.22597159445285797],\"z\":[-0.04170228913426399],\"type\":\"scatter3d\"},{\"hovertemplate\":\"color=wolf<br>0=%{x}<br>1=%{y}<br>2=%{z}<extra></extra>\",\"legendgroup\":\"wolf\",\"marker\":{\"color\":\"#FECB52\",\"symbol\":\"circle\"},\"mode\":\"markers\",\"name\":\"wolf\",\"scene\":\"scene\",\"showlegend\":true,\"x\":[-0.02294466458261013],\"y\":[-0.15652339160442352],\"z\":[-0.10412581264972687],\"type\":\"scatter3d\"},{\"hovertemplate\":\"color=horses<br>0=%{x}<br>1=%{y}<br>2=%{z}<extra></extra>\",\"legendgroup\":\"horses\",\"marker\":{\"color\":\"#636efa\",\"symbol\":\"circle\"},\"mode\":\"markers\",\"name\":\"horses\",\"scene\":\"scene\",\"showlegend\":true,\"x\":[-0.37411773204803467],\"y\":[0.12694692611694336],\"z\":[0.5776724815368652],\"type\":\"scatter3d\"},{\"hovertemplate\":\"color=death<br>0=%{x}<br>1=%{y}<br>2=%{z}<extra></extra>\",\"legendgroup\":\"death\",\"marker\":{\"color\":\"#EF553B\",\"symbol\":\"circle\"},\"mode\":\"markers\",\"name\":\"death\",\"scene\":\"scene\",\"showlegend\":true,\"x\":[0.5137998461723328],\"y\":[-0.011037897318601608],\"z\":[0.1730603724718094],\"type\":\"scatter3d\"},{\"hovertemplate\":\"color=smile<br>0=%{x}<br>1=%{y}<br>2=%{z}<extra></extra>\",\"legendgroup\":\"smile\",\"marker\":{\"color\":\"#00cc96\",\"symbol\":\"circle\"},\"mode\":\"markers\",\"name\":\"smile\",\"scene\":\"scene\",\"showlegend\":true,\"x\":[0.047512199729681015],\"y\":[-0.3798576295375824],\"z\":[-0.6031190156936646],\"type\":\"scatter3d\"},{\"hovertemplate\":\"color=inside<br>0=%{x}<br>1=%{y}<br>2=%{z}<extra></extra>\",\"legendgroup\":\"inside\",\"marker\":{\"color\":\"#ab63fa\",\"symbol\":\"circle\"},\"mode\":\"markers\",\"name\":\"inside\",\"scene\":\"scene\",\"showlegend\":true,\"x\":[-0.6556298732757568],\"y\":[-0.12897631525993347],\"z\":[0.2740355134010315],\"type\":\"scatter3d\"},{\"hovertemplate\":\"color=four<br>0=%{x}<br>1=%{y}<br>2=%{z}<extra></extra>\",\"legendgroup\":\"four\",\"marker\":{\"color\":\"#FFA15A\",\"symbol\":\"circle\"},\"mode\":\"markers\",\"name\":\"four\",\"scene\":\"scene\",\"showlegend\":true,\"x\":[-0.04817323386669159],\"y\":[0.6939622163772583],\"z\":[0.27169978618621826],\"type\":\"scatter3d\"},{\"hovertemplate\":\"color=brown<br>0=%{x}<br>1=%{y}<br>2=%{z}<extra></extra>\",\"legendgroup\":\"brown\",\"marker\":{\"color\":\"#19d3f3\",\"symbol\":\"circle\"},\"mode\":\"markers\",\"name\":\"brown\",\"scene\":\"scene\",\"showlegend\":true,\"x\":[-0.6005392670631409],\"y\":[0.12487829476594925],\"z\":[-0.27559390664100647],\"type\":\"scatter3d\"},{\"hovertemplate\":\"color=dragons<br>0=%{x}<br>1=%{y}<br>2=%{z}<extra></extra>\",\"legendgroup\":\"dragons\",\"marker\":{\"color\":\"#FF6692\",\"symbol\":\"circle\"},\"mode\":\"markers\",\"name\":\"dragons\",\"scene\":\"scene\",\"showlegend\":true,\"x\":[0.2431352436542511],\"y\":[0.2134983390569687],\"z\":[0.5158048272132874],\"type\":\"scatter3d\"},{\"hovertemplate\":\"color=hot<br>0=%{x}<br>1=%{y}<br>2=%{z}<extra></extra>\",\"legendgroup\":\"hot\",\"marker\":{\"color\":\"#B6E880\",\"symbol\":\"circle\"},\"mode\":\"markers\",\"name\":\"hot\",\"scene\":\"scene\",\"showlegend\":true,\"x\":[-0.4383138120174408],\"y\":[-0.4899956285953522],\"z\":[0.18623067438602448],\"type\":\"scatter3d\"},{\"hovertemplate\":\"color=silver<br>0=%{x}<br>1=%{y}<br>2=%{z}<extra></extra>\",\"legendgroup\":\"silver\",\"marker\":{\"color\":\"#FF97FF\",\"symbol\":\"circle\"},\"mode\":\"markers\",\"name\":\"silver\",\"scene\":\"scene\",\"showlegend\":true,\"x\":[-0.513329267501831],\"y\":[0.4221605956554413],\"z\":[-0.20438651740550995],\"type\":\"scatter3d\"},{\"hovertemplate\":\"color=part<br>0=%{x}<br>1=%{y}<br>2=%{z}<extra></extra>\",\"legendgroup\":\"part\",\"marker\":{\"color\":\"#FECB52\",\"symbol\":\"circle\"},\"mode\":\"markers\",\"name\":\"part\",\"scene\":\"scene\",\"showlegend\":true,\"x\":[0.602150022983551],\"y\":[0.09761994332075119],\"z\":[0.3483699560165405],\"type\":\"scatter3d\"},{\"hovertemplate\":\"color=bastard<br>0=%{x}<br>1=%{y}<br>2=%{z}<extra></extra>\",\"legendgroup\":\"bastard\",\"marker\":{\"color\":\"#636efa\",\"symbol\":\"circle\"},\"mode\":\"markers\",\"name\":\"bastard\",\"scene\":\"scene\",\"showlegend\":true,\"x\":[0.5859267115592957],\"y\":[0.5417813062667847],\"z\":[-0.2317187786102295],\"type\":\"scatter3d\"},{\"hovertemplate\":\"color=open<br>0=%{x}<br>1=%{y}<br>2=%{z}<extra></extra>\",\"legendgroup\":\"open\",\"marker\":{\"color\":\"#EF553B\",\"symbol\":\"circle\"},\"mode\":\"markers\",\"name\":\"open\",\"scene\":\"scene\",\"showlegend\":true,\"x\":[-0.4677242636680603],\"y\":[-0.011953940615057945],\"z\":[-0.029174929484725],\"type\":\"scatter3d\"},{\"hovertemplate\":\"color=thousand<br>0=%{x}<br>1=%{y}<br>2=%{z}<extra></extra>\",\"legendgroup\":\"thousand\",\"marker\":{\"color\":\"#00cc96\",\"symbol\":\"circle\"},\"mode\":\"markers\",\"name\":\"thousand\",\"scene\":\"scene\",\"showlegend\":true,\"x\":[0.03789781033992767],\"y\":[0.5509672164916992],\"z\":[0.5630607008934021],\"type\":\"scatter3d\"},{\"hovertemplate\":\"color=landing<br>0=%{x}<br>1=%{y}<br>2=%{z}<extra></extra>\",\"legendgroup\":\"landing\",\"marker\":{\"color\":\"#ab63fa\",\"symbol\":\"circle\"},\"mode\":\"markers\",\"name\":\"landing\",\"scene\":\"scene\",\"showlegend\":true,\"x\":[0.3361662030220032],\"y\":[0.46922942996025085],\"z\":[0.08947396278381348],\"type\":\"scatter3d\"},{\"hovertemplate\":\"color=uncle<br>0=%{x}<br>1=%{y}<br>2=%{z}<extra></extra>\",\"legendgroup\":\"uncle\",\"marker\":{\"color\":\"#FFA15A\",\"symbol\":\"circle\"},\"mode\":\"markers\",\"name\":\"uncle\",\"scene\":\"scene\",\"showlegend\":true,\"x\":[0.6517503261566162],\"y\":[0.5074120759963989],\"z\":[-0.3208565413951874],\"type\":\"scatter3d\"},{\"hovertemplate\":\"color=going<br>0=%{x}<br>1=%{y}<br>2=%{z}<extra></extra>\",\"legendgroup\":\"going\",\"marker\":{\"color\":\"#19d3f3\",\"symbol\":\"circle\"},\"mode\":\"markers\",\"name\":\"going\",\"scene\":\"scene\",\"showlegend\":true,\"x\":[0.2749468982219696],\"y\":[-0.3498351275920868],\"z\":[0.4473501443862915],\"type\":\"scatter3d\"},{\"hovertemplate\":\"color=blue<br>0=%{x}<br>1=%{y}<br>2=%{z}<extra></extra>\",\"legendgroup\":\"blue\",\"marker\":{\"color\":\"#FF6692\",\"symbol\":\"circle\"},\"mode\":\"markers\",\"name\":\"blue\",\"scene\":\"scene\",\"showlegend\":true,\"x\":[-0.5448316335678101],\"y\":[0.29208672046661377],\"z\":[-0.13933596014976501],\"type\":\"scatter3d\"},{\"hovertemplate\":\"color=air<br>0=%{x}<br>1=%{y}<br>2=%{z}<extra></extra>\",\"legendgroup\":\"air\",\"marker\":{\"color\":\"#B6E880\",\"symbol\":\"circle\"},\"mode\":\"markers\",\"name\":\"air\",\"scene\":\"scene\",\"showlegend\":true,\"x\":[-0.7027880549430847],\"y\":[-0.24636729061603546],\"z\":[0.20986969769001007],\"type\":\"scatter3d\"},{\"hovertemplate\":\"color=captain<br>0=%{x}<br>1=%{y}<br>2=%{z}<extra></extra>\",\"legendgroup\":\"captain\",\"marker\":{\"color\":\"#FF97FF\",\"symbol\":\"circle\"},\"mode\":\"markers\",\"name\":\"captain\",\"scene\":\"scene\",\"showlegend\":true,\"x\":[0.3023160696029663],\"y\":[0.688442051410675],\"z\":[-0.28643637895584106],\"type\":\"scatter3d\"},{\"hovertemplate\":\"color=please<br>0=%{x}<br>1=%{y}<br>2=%{z}<extra></extra>\",\"legendgroup\":\"please\",\"marker\":{\"color\":\"#FECB52\",\"symbol\":\"circle\"},\"mode\":\"markers\",\"name\":\"please\",\"scene\":\"scene\",\"showlegend\":true,\"x\":[0.6915105581283569],\"y\":[-0.17816126346588135],\"z\":[-0.1548362523317337],\"type\":\"scatter3d\"},{\"hovertemplate\":\"color=laughed<br>0=%{x}<br>1=%{y}<br>2=%{z}<extra></extra>\",\"legendgroup\":\"laughed\",\"marker\":{\"color\":\"#636efa\",\"symbol\":\"circle\"},\"mode\":\"markers\",\"name\":\"laughed\",\"scene\":\"scene\",\"showlegend\":true,\"x\":[0.3278813362121582],\"y\":[-0.22796034812927246],\"z\":[-0.4545896053314209],\"type\":\"scatter3d\"},{\"hovertemplate\":\"color=river<br>0=%{x}<br>1=%{y}<br>2=%{z}<extra></extra>\",\"legendgroup\":\"river\",\"marker\":{\"color\":\"#EF553B\",\"symbol\":\"circle\"},\"mode\":\"markers\",\"name\":\"river\",\"scene\":\"scene\",\"showlegend\":true,\"x\":[-0.4198665916919708],\"y\":[0.33862578868865967],\"z\":[0.5527826547622681],\"type\":\"scatter3d\"},{\"hovertemplate\":\"color=rose<br>0=%{x}<br>1=%{y}<br>2=%{z}<extra></extra>\",\"legendgroup\":\"rose\",\"marker\":{\"color\":\"#00cc96\",\"symbol\":\"circle\"},\"mode\":\"markers\",\"name\":\"rose\",\"scene\":\"scene\",\"showlegend\":true,\"x\":[-0.6721729636192322],\"y\":[0.38064613938331604],\"z\":[-0.09337334334850311],\"type\":\"scatter3d\"},{\"hovertemplate\":\"color=sun<br>0=%{x}<br>1=%{y}<br>2=%{z}<extra></extra>\",\"legendgroup\":\"sun\",\"marker\":{\"color\":\"#ab63fa\",\"symbol\":\"circle\"},\"mode\":\"markers\",\"name\":\"sun\",\"scene\":\"scene\",\"showlegend\":true,\"x\":[-0.5600839853286743],\"y\":[0.18538527190685272],\"z\":[0.38815024495124817],\"type\":\"scatter3d\"},{\"hovertemplate\":\"color=fell<br>0=%{x}<br>1=%{y}<br>2=%{z}<extra></extra>\",\"legendgroup\":\"fell\",\"marker\":{\"color\":\"#FFA15A\",\"symbol\":\"circle\"},\"mode\":\"markers\",\"name\":\"fell\",\"scene\":\"scene\",\"showlegend\":true,\"x\":[-0.5977765917778015],\"y\":[0.10387606918811798],\"z\":[-0.12232930213212967],\"type\":\"scatter3d\"},{\"hovertemplate\":\"color=war<br>0=%{x}<br>1=%{y}<br>2=%{z}<extra></extra>\",\"legendgroup\":\"war\",\"marker\":{\"color\":\"#19d3f3\",\"symbol\":\"circle\"},\"mode\":\"markers\",\"name\":\"war\",\"scene\":\"scene\",\"showlegend\":true,\"x\":[0.6040164232254028],\"y\":[0.5075348615646362],\"z\":[0.38566845655441284],\"type\":\"scatter3d\"},{\"hovertemplate\":\"color=golden<br>0=%{x}<br>1=%{y}<br>2=%{z}<extra></extra>\",\"legendgroup\":\"golden\",\"marker\":{\"color\":\"#FF6692\",\"symbol\":\"circle\"},\"mode\":\"markers\",\"name\":\"golden\",\"scene\":\"scene\",\"showlegend\":true,\"x\":[-0.46053561568260193],\"y\":[0.5951849818229675],\"z\":[-0.22271835803985596],\"type\":\"scatter3d\"},{\"hovertemplate\":\"color=sleep<br>0=%{x}<br>1=%{y}<br>2=%{z}<extra></extra>\",\"legendgroup\":\"sleep\",\"marker\":{\"color\":\"#B6E880\",\"symbol\":\"circle\"},\"mode\":\"markers\",\"name\":\"sleep\",\"scene\":\"scene\",\"showlegend\":true,\"x\":[-0.005933233071118593],\"y\":[-0.5535789728164673],\"z\":[0.22321739792823792],\"type\":\"scatter3d\"},{\"hovertemplate\":\"color=swords<br>0=%{x}<br>1=%{y}<br>2=%{z}<extra></extra>\",\"legendgroup\":\"swords\",\"marker\":{\"color\":\"#FF97FF\",\"symbol\":\"circle\"},\"mode\":\"markers\",\"name\":\"swords\",\"scene\":\"scene\",\"showlegend\":true,\"x\":[0.07072465121746063],\"y\":[0.6652153730392456],\"z\":[0.3943430781364441],\"type\":\"scatter3d\"},{\"hovertemplate\":\"color=without<br>0=%{x}<br>1=%{y}<br>2=%{z}<extra></extra>\",\"legendgroup\":\"without\",\"marker\":{\"color\":\"#FECB52\",\"symbol\":\"circle\"},\"mode\":\"markers\",\"name\":\"without\",\"scene\":\"scene\",\"showlegend\":true,\"x\":[0.5030949115753174],\"y\":[0.005908763036131859],\"z\":[0.38489073514938354],\"type\":\"scatter3d\"},{\"hovertemplate\":\"color=speak<br>0=%{x}<br>1=%{y}<br>2=%{z}<extra></extra>\",\"legendgroup\":\"speak\",\"marker\":{\"color\":\"#636efa\",\"symbol\":\"circle\"},\"mode\":\"markers\",\"name\":\"speak\",\"scene\":\"scene\",\"showlegend\":true,\"x\":[0.6848300695419312],\"y\":[-0.18307194113731384],\"z\":[0.0747222825884819],\"type\":\"scatter3d\"},{\"hovertemplate\":\"color=renly<br>0=%{x}<br>1=%{y}<br>2=%{z}<extra></extra>\",\"legendgroup\":\"renly\",\"marker\":{\"color\":\"#EF553B\",\"symbol\":\"circle\"},\"mode\":\"markers\",\"name\":\"renly\",\"scene\":\"scene\",\"showlegend\":true,\"x\":[0.46143433451652527],\"y\":[0.534751832485199],\"z\":[-0.2359454482793808],\"type\":\"scatter3d\"},{\"hovertemplate\":\"color=certain<br>0=%{x}<br>1=%{y}<br>2=%{z}<extra></extra>\",\"legendgroup\":\"certain\",\"marker\":{\"color\":\"#00cc96\",\"symbol\":\"circle\"},\"mode\":\"markers\",\"name\":\"certain\",\"scene\":\"scene\",\"showlegend\":true,\"x\":[0.5715665221214294],\"y\":[-0.2278805673122406],\"z\":[0.18455688655376434],\"type\":\"scatter3d\"},{\"hovertemplate\":\"color=fool<br>0=%{x}<br>1=%{y}<br>2=%{z}<extra></extra>\",\"legendgroup\":\"fool\",\"marker\":{\"color\":\"#ab63fa\",\"symbol\":\"circle\"},\"mode\":\"markers\",\"name\":\"fool\",\"scene\":\"scene\",\"showlegend\":true,\"x\":[0.5701920986175537],\"y\":[-0.1717040240764618],\"z\":[-0.2359401136636734],\"type\":\"scatter3d\"},{\"hovertemplate\":\"color=full<br>0=%{x}<br>1=%{y}<br>2=%{z}<extra></extra>\",\"legendgroup\":\"full\",\"marker\":{\"color\":\"#FFA15A\",\"symbol\":\"circle\"},\"mode\":\"markers\",\"name\":\"full\",\"scene\":\"scene\",\"showlegend\":true,\"x\":[-0.42767027020454407],\"y\":[-0.19585704803466797],\"z\":[0.3314453959465027],\"type\":\"scatter3d\"},{\"hovertemplate\":\"color=beyond<br>0=%{x}<br>1=%{y}<br>2=%{z}<extra></extra>\",\"legendgroup\":\"beyond\",\"marker\":{\"color\":\"#19d3f3\",\"symbol\":\"circle\"},\"mode\":\"markers\",\"name\":\"beyond\",\"scene\":\"scene\",\"showlegend\":true,\"x\":[-0.08542919158935547],\"y\":[0.3961679935455322],\"z\":[0.6455895304679871],\"type\":\"scatter3d\"},{\"hovertemplate\":\"color=feel<br>0=%{x}<br>1=%{y}<br>2=%{z}<extra></extra>\",\"legendgroup\":\"feel\",\"marker\":{\"color\":\"#FF6692\",\"symbol\":\"circle\"},\"mode\":\"markers\",\"name\":\"feel\",\"scene\":\"scene\",\"showlegend\":true,\"x\":[-0.2277698963880539],\"y\":[-0.49510759115219116],\"z\":[0.08042457699775696],\"type\":\"scatter3d\"},{\"hovertemplate\":\"color=send<br>0=%{x}<br>1=%{y}<br>2=%{z}<extra></extra>\",\"legendgroup\":\"send\",\"marker\":{\"color\":\"#B6E880\",\"symbol\":\"circle\"},\"mode\":\"markers\",\"name\":\"send\",\"scene\":\"scene\",\"showlegend\":true,\"x\":[0.5796229839324951],\"y\":[0.15270937979221344],\"z\":[0.18987441062927246],\"type\":\"scatter3d\"},{\"hovertemplate\":\"color=tongue<br>0=%{x}<br>1=%{y}<br>2=%{z}<extra></extra>\",\"legendgroup\":\"tongue\",\"marker\":{\"color\":\"#FF97FF\",\"symbol\":\"circle\"},\"mode\":\"markers\",\"name\":\"tongue\",\"scene\":\"scene\",\"showlegend\":true,\"x\":[0.15774308145046234],\"y\":[-0.475852370262146],\"z\":[-0.1498422473669052],\"type\":\"scatter3d\"},{\"hovertemplate\":\"color=fight<br>0=%{x}<br>1=%{y}<br>2=%{z}<extra></extra>\",\"legendgroup\":\"fight\",\"marker\":{\"color\":\"#FECB52\",\"symbol\":\"circle\"},\"mode\":\"markers\",\"name\":\"fight\",\"scene\":\"scene\",\"showlegend\":true,\"x\":[0.4809240996837616],\"y\":[-0.0340350866317749],\"z\":[0.4366254508495331],\"type\":\"scatter3d\"},{\"hovertemplate\":\"color=got<br>0=%{x}<br>1=%{y}<br>2=%{z}<extra></extra>\",\"legendgroup\":\"got\",\"marker\":{\"color\":\"#636efa\",\"symbol\":\"circle\"},\"mode\":\"markers\",\"name\":\"got\",\"scene\":\"scene\",\"showlegend\":true,\"x\":[-0.007735655177384615],\"y\":[-0.3663650453090668],\"z\":[0.09066838771104813],\"type\":\"scatter3d\"},{\"hovertemplate\":\"color=rode<br>0=%{x}<br>1=%{y}<br>2=%{z}<extra></extra>\",\"legendgroup\":\"rode\",\"marker\":{\"color\":\"#EF553B\",\"symbol\":\"circle\"},\"mode\":\"markers\",\"name\":\"rode\",\"scene\":\"scene\",\"showlegend\":true,\"x\":[-0.376711905002594],\"y\":[0.5835220813751221],\"z\":[0.09457536786794662],\"type\":\"scatter3d\"},{\"hovertemplate\":\"color=set<br>0=%{x}<br>1=%{y}<br>2=%{z}<extra></extra>\",\"legendgroup\":\"set\",\"marker\":{\"color\":\"#00cc96\",\"symbol\":\"circle\"},\"mode\":\"markers\",\"name\":\"set\",\"scene\":\"scene\",\"showlegend\":true,\"x\":[-0.35696256160736084],\"y\":[0.32735002040863037],\"z\":[0.1962079256772995],\"type\":\"scatter3d\"},{\"hovertemplate\":\"color=thick<br>0=%{x}<br>1=%{y}<br>2=%{z}<extra></extra>\",\"legendgroup\":\"thick\",\"marker\":{\"color\":\"#ab63fa\",\"symbol\":\"circle\"},\"mode\":\"markers\",\"name\":\"thick\",\"scene\":\"scene\",\"showlegend\":true,\"x\":[-0.7477198243141174],\"y\":[0.11245004087686539],\"z\":[-0.0357942171394825],\"type\":\"scatter3d\"},{\"hovertemplate\":\"color=throat<br>0=%{x}<br>1=%{y}<br>2=%{z}<extra></extra>\",\"legendgroup\":\"throat\",\"marker\":{\"color\":\"#FFA15A\",\"symbol\":\"circle\"},\"mode\":\"markers\",\"name\":\"throat\",\"scene\":\"scene\",\"showlegend\":true,\"x\":[-0.4521525204181671],\"y\":[-0.3972032070159912],\"z\":[-0.4380234479904175],\"type\":\"scatter3d\"},{\"hovertemplate\":\"color=world<br>0=%{x}<br>1=%{y}<br>2=%{z}<extra></extra>\",\"legendgroup\":\"world\",\"marker\":{\"color\":\"#19d3f3\",\"symbol\":\"circle\"},\"mode\":\"markers\",\"name\":\"world\",\"scene\":\"scene\",\"showlegend\":true,\"x\":[-0.033483557403087616],\"y\":[-0.1238040179014206],\"z\":[0.6911559104919434],\"type\":\"scatter3d\"},{\"hovertemplate\":\"color=legs<br>0=%{x}<br>1=%{y}<br>2=%{z}<extra></extra>\",\"legendgroup\":\"legs\",\"marker\":{\"color\":\"#FF6692\",\"symbol\":\"circle\"},\"mode\":\"markers\",\"name\":\"legs\",\"scene\":\"scene\",\"showlegend\":true,\"x\":[-0.7046756148338318],\"y\":[-0.17216674983501434],\"z\":[-0.10041695088148117],\"type\":\"scatter3d\"},{\"hovertemplate\":\"color=deep<br>0=%{x}<br>1=%{y}<br>2=%{z}<extra></extra>\",\"legendgroup\":\"deep\",\"marker\":{\"color\":\"#B6E880\",\"symbol\":\"circle\"},\"mode\":\"markers\",\"name\":\"deep\",\"scene\":\"scene\",\"showlegend\":true,\"x\":[-0.7537911534309387],\"y\":[-0.011682424694299698],\"z\":[0.10520823299884796],\"type\":\"scatter3d\"},{\"hovertemplate\":\"color=call<br>0=%{x}<br>1=%{y}<br>2=%{z}<extra></extra>\",\"legendgroup\":\"call\",\"marker\":{\"color\":\"#FF97FF\",\"symbol\":\"circle\"},\"mode\":\"markers\",\"name\":\"call\",\"scene\":\"scene\",\"showlegend\":true,\"x\":[0.6571648120880127],\"y\":[-0.010797989554703236],\"z\":[0.08298514038324356],\"type\":\"scatter3d\"},{\"hovertemplate\":\"color=honor<br>0=%{x}<br>1=%{y}<br>2=%{z}<extra></extra>\",\"legendgroup\":\"honor\",\"marker\":{\"color\":\"#FECB52\",\"symbol\":\"circle\"},\"mode\":\"markers\",\"name\":\"honor\",\"scene\":\"scene\",\"showlegend\":true,\"x\":[0.7155501842498779],\"y\":[0.44998425245285034],\"z\":[-0.039162527769804],\"type\":\"scatter3d\"}],                        {\"template\":{\"data\":{\"histogram2dcontour\":[{\"type\":\"histogram2dcontour\",\"colorbar\":{\"outlinewidth\":0,\"ticks\":\"\"},\"colorscale\":[[0.0,\"#0d0887\"],[0.1111111111111111,\"#46039f\"],[0.2222222222222222,\"#7201a8\"],[0.3333333333333333,\"#9c179e\"],[0.4444444444444444,\"#bd3786\"],[0.5555555555555556,\"#d8576b\"],[0.6666666666666666,\"#ed7953\"],[0.7777777777777778,\"#fb9f3a\"],[0.8888888888888888,\"#fdca26\"],[1.0,\"#f0f921\"]]}],\"choropleth\":[{\"type\":\"choropleth\",\"colorbar\":{\"outlinewidth\":0,\"ticks\":\"\"}}],\"histogram2d\":[{\"type\":\"histogram2d\",\"colorbar\":{\"outlinewidth\":0,\"ticks\":\"\"},\"colorscale\":[[0.0,\"#0d0887\"],[0.1111111111111111,\"#46039f\"],[0.2222222222222222,\"#7201a8\"],[0.3333333333333333,\"#9c179e\"],[0.4444444444444444,\"#bd3786\"],[0.5555555555555556,\"#d8576b\"],[0.6666666666666666,\"#ed7953\"],[0.7777777777777778,\"#fb9f3a\"],[0.8888888888888888,\"#fdca26\"],[1.0,\"#f0f921\"]]}],\"heatmap\":[{\"type\":\"heatmap\",\"colorbar\":{\"outlinewidth\":0,\"ticks\":\"\"},\"colorscale\":[[0.0,\"#0d0887\"],[0.1111111111111111,\"#46039f\"],[0.2222222222222222,\"#7201a8\"],[0.3333333333333333,\"#9c179e\"],[0.4444444444444444,\"#bd3786\"],[0.5555555555555556,\"#d8576b\"],[0.6666666666666666,\"#ed7953\"],[0.7777777777777778,\"#fb9f3a\"],[0.8888888888888888,\"#fdca26\"],[1.0,\"#f0f921\"]]}],\"heatmapgl\":[{\"type\":\"heatmapgl\",\"colorbar\":{\"outlinewidth\":0,\"ticks\":\"\"},\"colorscale\":[[0.0,\"#0d0887\"],[0.1111111111111111,\"#46039f\"],[0.2222222222222222,\"#7201a8\"],[0.3333333333333333,\"#9c179e\"],[0.4444444444444444,\"#bd3786\"],[0.5555555555555556,\"#d8576b\"],[0.6666666666666666,\"#ed7953\"],[0.7777777777777778,\"#fb9f3a\"],[0.8888888888888888,\"#fdca26\"],[1.0,\"#f0f921\"]]}],\"contourcarpet\":[{\"type\":\"contourcarpet\",\"colorbar\":{\"outlinewidth\":0,\"ticks\":\"\"}}],\"contour\":[{\"type\":\"contour\",\"colorbar\":{\"outlinewidth\":0,\"ticks\":\"\"},\"colorscale\":[[0.0,\"#0d0887\"],[0.1111111111111111,\"#46039f\"],[0.2222222222222222,\"#7201a8\"],[0.3333333333333333,\"#9c179e\"],[0.4444444444444444,\"#bd3786\"],[0.5555555555555556,\"#d8576b\"],[0.6666666666666666,\"#ed7953\"],[0.7777777777777778,\"#fb9f3a\"],[0.8888888888888888,\"#fdca26\"],[1.0,\"#f0f921\"]]}],\"surface\":[{\"type\":\"surface\",\"colorbar\":{\"outlinewidth\":0,\"ticks\":\"\"},\"colorscale\":[[0.0,\"#0d0887\"],[0.1111111111111111,\"#46039f\"],[0.2222222222222222,\"#7201a8\"],[0.3333333333333333,\"#9c179e\"],[0.4444444444444444,\"#bd3786\"],[0.5555555555555556,\"#d8576b\"],[0.6666666666666666,\"#ed7953\"],[0.7777777777777778,\"#fb9f3a\"],[0.8888888888888888,\"#fdca26\"],[1.0,\"#f0f921\"]]}],\"mesh3d\":[{\"type\":\"mesh3d\",\"colorbar\":{\"outlinewidth\":0,\"ticks\":\"\"}}],\"scatter\":[{\"fillpattern\":{\"fillmode\":\"overlay\",\"size\":10,\"solidity\":0.2},\"type\":\"scatter\"}],\"parcoords\":[{\"type\":\"parcoords\",\"line\":{\"colorbar\":{\"outlinewidth\":0,\"ticks\":\"\"}}}],\"scatterpolargl\":[{\"type\":\"scatterpolargl\",\"marker\":{\"colorbar\":{\"outlinewidth\":0,\"ticks\":\"\"}}}],\"bar\":[{\"error_x\":{\"color\":\"#2a3f5f\"},\"error_y\":{\"color\":\"#2a3f5f\"},\"marker\":{\"line\":{\"color\":\"#E5ECF6\",\"width\":0.5},\"pattern\":{\"fillmode\":\"overlay\",\"size\":10,\"solidity\":0.2}},\"type\":\"bar\"}],\"scattergeo\":[{\"type\":\"scattergeo\",\"marker\":{\"colorbar\":{\"outlinewidth\":0,\"ticks\":\"\"}}}],\"scatterpolar\":[{\"type\":\"scatterpolar\",\"marker\":{\"colorbar\":{\"outlinewidth\":0,\"ticks\":\"\"}}}],\"histogram\":[{\"marker\":{\"pattern\":{\"fillmode\":\"overlay\",\"size\":10,\"solidity\":0.2}},\"type\":\"histogram\"}],\"scattergl\":[{\"type\":\"scattergl\",\"marker\":{\"colorbar\":{\"outlinewidth\":0,\"ticks\":\"\"}}}],\"scatter3d\":[{\"type\":\"scatter3d\",\"line\":{\"colorbar\":{\"outlinewidth\":0,\"ticks\":\"\"}},\"marker\":{\"colorbar\":{\"outlinewidth\":0,\"ticks\":\"\"}}}],\"scattermapbox\":[{\"type\":\"scattermapbox\",\"marker\":{\"colorbar\":{\"outlinewidth\":0,\"ticks\":\"\"}}}],\"scatterternary\":[{\"type\":\"scatterternary\",\"marker\":{\"colorbar\":{\"outlinewidth\":0,\"ticks\":\"\"}}}],\"scattercarpet\":[{\"type\":\"scattercarpet\",\"marker\":{\"colorbar\":{\"outlinewidth\":0,\"ticks\":\"\"}}}],\"carpet\":[{\"aaxis\":{\"endlinecolor\":\"#2a3f5f\",\"gridcolor\":\"white\",\"linecolor\":\"white\",\"minorgridcolor\":\"white\",\"startlinecolor\":\"#2a3f5f\"},\"baxis\":{\"endlinecolor\":\"#2a3f5f\",\"gridcolor\":\"white\",\"linecolor\":\"white\",\"minorgridcolor\":\"white\",\"startlinecolor\":\"#2a3f5f\"},\"type\":\"carpet\"}],\"table\":[{\"cells\":{\"fill\":{\"color\":\"#EBF0F8\"},\"line\":{\"color\":\"white\"}},\"header\":{\"fill\":{\"color\":\"#C8D4E3\"},\"line\":{\"color\":\"white\"}},\"type\":\"table\"}],\"barpolar\":[{\"marker\":{\"line\":{\"color\":\"#E5ECF6\",\"width\":0.5},\"pattern\":{\"fillmode\":\"overlay\",\"size\":10,\"solidity\":0.2}},\"type\":\"barpolar\"}],\"pie\":[{\"automargin\":true,\"type\":\"pie\"}]},\"layout\":{\"autotypenumbers\":\"strict\",\"colorway\":[\"#636efa\",\"#EF553B\",\"#00cc96\",\"#ab63fa\",\"#FFA15A\",\"#19d3f3\",\"#FF6692\",\"#B6E880\",\"#FF97FF\",\"#FECB52\"],\"font\":{\"color\":\"#2a3f5f\"},\"hovermode\":\"closest\",\"hoverlabel\":{\"align\":\"left\"},\"paper_bgcolor\":\"white\",\"plot_bgcolor\":\"#E5ECF6\",\"polar\":{\"bgcolor\":\"#E5ECF6\",\"angularaxis\":{\"gridcolor\":\"white\",\"linecolor\":\"white\",\"ticks\":\"\"},\"radialaxis\":{\"gridcolor\":\"white\",\"linecolor\":\"white\",\"ticks\":\"\"}},\"ternary\":{\"bgcolor\":\"#E5ECF6\",\"aaxis\":{\"gridcolor\":\"white\",\"linecolor\":\"white\",\"ticks\":\"\"},\"baxis\":{\"gridcolor\":\"white\",\"linecolor\":\"white\",\"ticks\":\"\"},\"caxis\":{\"gridcolor\":\"white\",\"linecolor\":\"white\",\"ticks\":\"\"}},\"coloraxis\":{\"colorbar\":{\"outlinewidth\":0,\"ticks\":\"\"}},\"colorscale\":{\"sequential\":[[0.0,\"#0d0887\"],[0.1111111111111111,\"#46039f\"],[0.2222222222222222,\"#7201a8\"],[0.3333333333333333,\"#9c179e\"],[0.4444444444444444,\"#bd3786\"],[0.5555555555555556,\"#d8576b\"],[0.6666666666666666,\"#ed7953\"],[0.7777777777777778,\"#fb9f3a\"],[0.8888888888888888,\"#fdca26\"],[1.0,\"#f0f921\"]],\"sequentialminus\":[[0.0,\"#0d0887\"],[0.1111111111111111,\"#46039f\"],[0.2222222222222222,\"#7201a8\"],[0.3333333333333333,\"#9c179e\"],[0.4444444444444444,\"#bd3786\"],[0.5555555555555556,\"#d8576b\"],[0.6666666666666666,\"#ed7953\"],[0.7777777777777778,\"#fb9f3a\"],[0.8888888888888888,\"#fdca26\"],[1.0,\"#f0f921\"]],\"diverging\":[[0,\"#8e0152\"],[0.1,\"#c51b7d\"],[0.2,\"#de77ae\"],[0.3,\"#f1b6da\"],[0.4,\"#fde0ef\"],[0.5,\"#f7f7f7\"],[0.6,\"#e6f5d0\"],[0.7,\"#b8e186\"],[0.8,\"#7fbc41\"],[0.9,\"#4d9221\"],[1,\"#276419\"]]},\"xaxis\":{\"gridcolor\":\"white\",\"linecolor\":\"white\",\"ticks\":\"\",\"title\":{\"standoff\":15},\"zerolinecolor\":\"white\",\"automargin\":true,\"zerolinewidth\":2},\"yaxis\":{\"gridcolor\":\"white\",\"linecolor\":\"white\",\"ticks\":\"\",\"title\":{\"standoff\":15},\"zerolinecolor\":\"white\",\"automargin\":true,\"zerolinewidth\":2},\"scene\":{\"xaxis\":{\"backgroundcolor\":\"#E5ECF6\",\"gridcolor\":\"white\",\"linecolor\":\"white\",\"showbackground\":true,\"ticks\":\"\",\"zerolinecolor\":\"white\",\"gridwidth\":2},\"yaxis\":{\"backgroundcolor\":\"#E5ECF6\",\"gridcolor\":\"white\",\"linecolor\":\"white\",\"showbackground\":true,\"ticks\":\"\",\"zerolinecolor\":\"white\",\"gridwidth\":2},\"zaxis\":{\"backgroundcolor\":\"#E5ECF6\",\"gridcolor\":\"white\",\"linecolor\":\"white\",\"showbackground\":true,\"ticks\":\"\",\"zerolinecolor\":\"white\",\"gridwidth\":2}},\"shapedefaults\":{\"line\":{\"color\":\"#2a3f5f\"}},\"annotationdefaults\":{\"arrowcolor\":\"#2a3f5f\",\"arrowhead\":0,\"arrowwidth\":1},\"geo\":{\"bgcolor\":\"white\",\"landcolor\":\"#E5ECF6\",\"subunitcolor\":\"white\",\"showland\":true,\"showlakes\":true,\"lakecolor\":\"white\"},\"title\":{\"x\":0.05},\"mapbox\":{\"style\":\"light\"}}},\"scene\":{\"domain\":{\"x\":[0.0,1.0],\"y\":[0.0,1.0]},\"xaxis\":{\"title\":{\"text\":\"0\"}},\"yaxis\":{\"title\":{\"text\":\"1\"}},\"zaxis\":{\"title\":{\"text\":\"2\"}}},\"legend\":{\"title\":{\"text\":\"color\"},\"tracegroupgap\":0},\"margin\":{\"t\":60}},                        {\"responsive\": true}                    ).then(function(){\n                            \nvar gd = document.getElementById('334cf6ad-3f56-4e0d-b6d7-72b6eefa4786');\nvar x = new MutationObserver(function (mutations, observer) {{\n        var display = window.getComputedStyle(gd).display;\n        if (!display || display === 'none') {{\n            console.log([gd, 'removed!']);\n            Plotly.purge(gd);\n            observer.disconnect();\n        }}\n}});\n\n// Listen for the removal of the full notebook cells\nvar notebookContainer = gd.closest('#notebook-container');\nif (notebookContainer) {{\n    x.observe(notebookContainer, {childList: true});\n}}\n\n// Listen for the clearing of the current output cell\nvar outputEl = gd.closest('.output');\nif (outputEl) {{\n    x.observe(outputEl, {childList: true});\n}}\n\n                        })                };                });            </script>        </div>"
     },
     "metadata": {},
     "output_type": "display_data"
    }
   ],
   "source": [
    "import plotly.express as px\n",
    "fig = px.scatter_3d(X[:300],x=0,y=1,z=2, color=y[:300])\n",
    "fig.show()"
   ]
  },
  {
   "cell_type": "code",
   "execution_count": null,
   "id": "1db63ff2",
   "metadata": {},
   "outputs": [],
   "source": []
  }
 ],
 "metadata": {
  "kernelspec": {
   "display_name": "Python 3",
   "language": "python",
   "name": "python3"
  },
  "language_info": {
   "codemirror_mode": {
    "name": "ipython",
    "version": 3
   },
   "file_extension": ".py",
   "mimetype": "text/x-python",
   "name": "python",
   "nbconvert_exporter": "python",
   "pygments_lexer": "ipython3",
   "version": "3.8.8"
  }
 },
 "nbformat": 4,
 "nbformat_minor": 5
}
